{
 "cells": [
  {
   "cell_type": "markdown",
   "id": "geographic-egyptian",
   "metadata": {},
   "source": [
    "# Trend Classification with LSTM"
   ]
  },
  {
   "cell_type": "markdown",
   "id": "thermal-satin",
   "metadata": {},
   "source": [
    "### Imports"
   ]
  },
  {
   "cell_type": "code",
   "execution_count": 1,
   "id": "lightweight-birmingham",
   "metadata": {},
   "outputs": [
    {
     "data": {
      "text/html": [
       "<style>.container { width:100% !important; }</style>"
      ],
      "text/plain": [
       "<IPython.core.display.HTML object>"
      ]
     },
     "metadata": {},
     "output_type": "display_data"
    }
   ],
   "source": [
    "import os, sys\n",
    "import pandas as pd\n",
    "import numpy as np\n",
    "import yfinance as yf\n",
    "import matplotlib.pyplot as plt\n",
    "import seaborn as sns\n",
    "import random\n",
    "\n",
    "import tensorflow as tf\n",
    "from tensorflow.keras import Input, Model\n",
    "from tensorflow.keras.models import Sequential\n",
    "from tensorflow.keras.layers import *\n",
    "from tensorflow.keras.losses import CategoricalCrossentropy\n",
    "from tensorflow.keras.regularizers import l1, l2\n",
    "from tensorflow.keras.utils import to_categorical, plot_model\n",
    "from tensorflow.keras.preprocessing.sequence import TimeseriesGenerator\n",
    "from sklearn.metrics import confusion_matrix, mean_squared_error\n",
    "from sklearn.feature_extraction.text import CountVectorizer\n",
    "from sklearn.preprocessing import StandardScaler, MinMaxScaler, RobustScaler\n",
    "\n",
    "from time import time\n",
    "from tensorflow.python.keras.callbacks import TensorBoard\n",
    "import warnings\n",
    "warnings.simplefilter(\"ignore\")\n",
    "\n",
    "from indicators import *\n",
    "from data_loading import *\n",
    "from util_functions import *\n",
    "\n",
    "\n",
    "physical_devices = tf.config.list_physical_devices('GPU')\n",
    "tf.config.experimental.set_memory_growth(physical_devices[0], enable=True)\n",
    "\n",
    "from IPython.core.display import display, HTML\n",
    "display(HTML(\"<style>.container { width:100% !important; }</style>\"))\n",
    "\n",
    "pd.set_option('display.max_rows', 500)\n",
    "pd.set_option('display.max_columns', 500)\n",
    "pd.set_option('display.width', 1000)\n"
   ]
  },
  {
   "cell_type": "markdown",
   "id": "minus-mitchell",
   "metadata": {},
   "source": [
    "### Parameters"
   ]
  },
  {
   "cell_type": "code",
   "execution_count": 2,
   "id": "pressed-equality",
   "metadata": {},
   "outputs": [],
   "source": [
    "trail_size=14\n",
    "predict_length = 5\n",
    "time_period = '6y'"
   ]
  },
  {
   "cell_type": "markdown",
   "id": "mediterranean-pursuit",
   "metadata": {},
   "source": [
    "# 1.0 Load data"
   ]
  },
  {
   "cell_type": "markdown",
   "id": "opposite-bronze",
   "metadata": {},
   "source": [
    "## 1.1 Load stock data"
   ]
  },
  {
   "cell_type": "code",
   "execution_count": 3,
   "id": "color-myrtle",
   "metadata": {},
   "outputs": [],
   "source": [
    "top_energy = [\"XOM\", \"CVX\", \"RDS-A\", \"RDS-B\", \"PTR\", \"TOT\", \"BP\",\n",
    "\"SNP\", \"ENB\", \"COP\", \"EQNR\", \"PBR-A\", \"PBR\", \"EPD\",\n",
    "\"TRP\", \"E\", \"EOG\", \"SLB\", \"KMI\", \"PSX\", \"CNQ\",\n",
    "\"MPC\", \"PXD\", \"SU\", \"VLO\"]"
   ]
  },
  {
   "cell_type": "code",
   "execution_count": 4,
   "id": "coordinated-engineering",
   "metadata": {},
   "outputs": [],
   "source": [
    "traditional_energy_stocks = [ \"LNG\", \"OKE\", \"BKR\", \"WMB\", \"EQT\",  \"XEC\",  \"XOM\",  \"CVX\",  \"BP\",  \"OXY\",  \"COP\",  \"EOG\",  \"COG\",  \"CNQ\",  \"SLB\",  \"PTR\",  \"TOT\",  \"ENB\"]"
   ]
  },
  {
   "cell_type": "code",
   "execution_count": 5,
   "id": "blank-regression",
   "metadata": {},
   "outputs": [],
   "source": [
    "green_energy_stocks = [\"CSIQ\", \"SPWR\", \"AQN.TO\", \"DQ\", \"HYSR\", \"PLUG\", \"SOL\", \"NEE\", \"ENPH\", \"FSLR\", \"SEDG\", \"ORA\", ]"
   ]
  },
  {
   "cell_type": "code",
   "execution_count": 6,
   "id": "adult-graphic",
   "metadata": {},
   "outputs": [
    {
     "name": "stdout",
     "output_type": "stream",
     "text": [
      "[*********************100%***********************]  37 of 37 completed\n"
     ]
    }
   ],
   "source": [
    "data = get_data_yf(green_energy_stocks + top_energy, time_period)"
   ]
  },
  {
   "cell_type": "code",
   "execution_count": 7,
   "id": "innovative-november",
   "metadata": {},
   "outputs": [
    {
     "data": {
      "text/plain": [
       "4650"
      ]
     },
     "execution_count": 7,
     "metadata": {},
     "output_type": "execute_result"
    }
   ],
   "source": [
    "data.isna().sum().sum()"
   ]
  },
  {
   "cell_type": "code",
   "execution_count": 8,
   "id": "driven-rachel",
   "metadata": {},
   "outputs": [
    {
     "data": {
      "text/plain": [
       "55"
      ]
     },
     "execution_count": 8,
     "metadata": {},
     "output_type": "execute_result"
    }
   ],
   "source": [
    "sum(data.isna().sum(axis=1)>0)"
   ]
  },
  {
   "cell_type": "code",
   "execution_count": 9,
   "id": "speaking-facial",
   "metadata": {
    "scrolled": false
   },
   "outputs": [],
   "source": [
    "data = data.dropna()"
   ]
  },
  {
   "cell_type": "code",
   "execution_count": 10,
   "id": "endless-repository",
   "metadata": {},
   "outputs": [
    {
     "data": {
      "text/plain": [
       "0"
      ]
     },
     "execution_count": 10,
     "metadata": {},
     "output_type": "execute_result"
    }
   ],
   "source": [
    "sum(data.isna().sum(axis=1)>0)"
   ]
  },
  {
   "cell_type": "code",
   "execution_count": 11,
   "id": "weighted-design",
   "metadata": {},
   "outputs": [],
   "source": [
    "data = process_stock_data_from_yf(data)"
   ]
  },
  {
   "cell_type": "code",
   "execution_count": 12,
   "id": "incorporate-prime",
   "metadata": {},
   "outputs": [
    {
     "data": {
      "text/plain": [
       "100.0"
      ]
     },
     "execution_count": 12,
     "metadata": {},
     "output_type": "execute_result"
    }
   ],
   "source": [
    "has_data_ratio, data = filter_has_all_data(data)\n",
    "has_data_ratio"
   ]
  },
  {
   "cell_type": "markdown",
   "id": "elegant-convertible",
   "metadata": {},
   "source": [
    "## 1.2 Compute technical indicators"
   ]
  },
  {
   "cell_type": "code",
   "execution_count": 13,
   "id": "geographic-devon",
   "metadata": {},
   "outputs": [],
   "source": [
    "all_stock_features = ['Close', 'High',\n",
    " 'Low', 'Open', 'Volume',\n",
    " 'HH', 'LL', 'AV',\n",
    " 'SMA', 'SD', 'WILLR',\n",
    " 'ATR', 'DMH', 'DML',\n",
    " 'EMA', 'WMA', 'BBHIGH',\n",
    " 'BBLOW', 'PERBHIGH', 'PERBLOW',\n",
    " 'TRIMA', 'RSI', 'DX',\n",
    " 'PDI', 'NDI', 'ADX',\n",
    " 'ROC', 'MACD', 'CCI']"
   ]
  },
  {
   "cell_type": "code",
   "execution_count": 14,
   "id": "introductory-controversy",
   "metadata": {},
   "outputs": [],
   "source": [
    "# compute all our technical markers for each of the stocks. \n",
    "dataset = data.groupby('Ticker').apply(lambda x: add_technical_markers(x, trail_size))"
   ]
  },
  {
   "cell_type": "markdown",
   "id": "focal-wichita",
   "metadata": {},
   "source": [
    "## 1.3 Load trends data"
   ]
  },
  {
   "cell_type": "code",
   "execution_count": 15,
   "id": "skilled-lodging",
   "metadata": {},
   "outputs": [],
   "source": [
    "filenames = [\n",
    "    \"data climate change adjusted.csv\",\n",
    "    \"data greenhouse gas adjusted.csv\",\n",
    "    \"data oil adjusted.csv\",\n",
    "    \"data renewable adjusted.csv\",\n",
    "    \"data carbon tax adjusted.csv\",\n",
    "    \"data electric vehicles adjusted.csv\",\n",
    "    \"data environmental protection agency adjusted.csv\",\n",
    "    \"data fossil fuels adjusted.csv\",\n",
    "    \"data fracking adjusted.csv\",\n",
    "    \"data global warming adjusted.csv\",\n",
    "]\n",
    "terms = [\n",
    "    \"climate change\",\n",
    "    \"greenhouse gas\",\n",
    "    \"oil\",\n",
    "    \"renewable\",\n",
    "    \"carbon tax\",\n",
    "    \"electric vehicles\",\n",
    "    \"environmental protection agency\",\n",
    "    \"fossil fuels\",\n",
    "    \"fracking\",\n",
    "    \"global warming\",\n",
    "]"
   ]
  },
  {
   "cell_type": "code",
   "execution_count": 16,
   "id": "senior-dispute",
   "metadata": {},
   "outputs": [],
   "source": [
    "climate_trends_data = load_climate_data(filenames, terms)"
   ]
  },
  {
   "cell_type": "code",
   "execution_count": 17,
   "id": "alive-mirror",
   "metadata": {},
   "outputs": [
    {
     "data": {
      "text/plain": [
       "(2278, 11)"
      ]
     },
     "execution_count": 17,
     "metadata": {},
     "output_type": "execute_result"
    }
   ],
   "source": [
    "climate_trends_data.shape"
   ]
  },
  {
   "cell_type": "code",
   "execution_count": 18,
   "id": "dietary-compatibility",
   "metadata": {},
   "outputs": [
    {
     "data": {
      "text/plain": [
       "<AxesSubplot:xlabel='Date'>"
      ]
     },
     "execution_count": 18,
     "metadata": {},
     "output_type": "execute_result"
    },
    {
     "data": {
      "image/png": "[encoded data removed]",
      "text/plain": [
       "<Figure size 432x288 with 1 Axes>"
      ]
     },
     "metadata": {
      "needs_background": "light"
     },
     "output_type": "display_data"
    }
   ],
   "source": [
    "climate_trends_data.set_index('Date')[terms[0]].plot()"
   ]
  },
  {
   "cell_type": "markdown",
   "id": "utility-speed",
   "metadata": {},
   "source": [
    "### Choose features"
   ]
  },
  {
   "cell_type": "code",
   "execution_count": 19,
   "id": "graphic-cornell",
   "metadata": {},
   "outputs": [],
   "source": [
    "chosen_stock_features = ['Close', 'High',\n",
    " 'Low', \n",
    "'Open', 'Volume',\n",
    " 'HH', 'LL', 'AV',\n",
    " 'SMA', 'SD', \n",
    "#'WILLR',\n",
    " 'ATR', 'DMH', 'DML',\n",
    " 'EMA', \n",
    "'WMA', \n",
    "'BBHIGH',\n",
    " 'BBLOW', 'PERBHIGH', 'PERBLOW',\n",
    " 'TRIMA', 'RSI', \n",
    "#'DX',\n",
    " 'PDI', 'NDI', \n",
    "'ADX',\n",
    " 'ROC', 'MACD', 'CCI'\n",
    "                        ]\n",
    "# DX and WILLR can cause issues when stock prices don't change, results in lots of nan. "
   ]
  },
  {
   "cell_type": "code",
   "execution_count": 20,
   "id": "certain-arbor",
   "metadata": {},
   "outputs": [],
   "source": [
    "chosen_trend_terms = [\n",
    "    \"climate change\",\n",
    "    \"greenhouse gas\",\n",
    "    \"oil\",\n",
    "    \"renewable\",\n",
    "    \"carbon tax\",\n",
    "    \"electric vehicles\",\n",
    "#     \"environmental protection agency\",\n",
    "    \"fossil fuels\",\n",
    "#     \"fracking\",\n",
    "    \"global warming\",\n",
    "]"
   ]
  },
  {
   "cell_type": "markdown",
   "id": "latest-facility",
   "metadata": {},
   "source": [
    "# 3.0 Model design"
   ]
  },
  {
   "cell_type": "code",
   "execution_count": 61,
   "id": "solid-worse",
   "metadata": {},
   "outputs": [],
   "source": [
    "num_features = len(chosen_stock_features) + len(chosen_trend_terms) "
   ]
  },
  {
   "cell_type": "code",
   "execution_count": 62,
   "id": "noble-instrument",
   "metadata": {},
   "outputs": [],
   "source": [
    "reg = 0.002\n",
    "drop=0.25\n",
    "\n",
    "model = Sequential()\n",
    "model.add(LSTM(units=75, input_shape=(trail_size, num_features), return_sequences=True, activity_regularizer=l2(reg)))\n",
    "model.add(Dropout(drop))\n",
    "model.add(LSTM(units=30, return_sequences=True, activity_regularizer=l2(reg)))\n",
    "model.add(Dropout(drop))\n",
    "\n",
    "model.add(LSTM(units=30, return_sequences=True, activity_regularizer=l2(reg)))\n",
    "model.add(Dropout(drop))\n",
    "\n",
    "model.add(LSTM(units=30, return_sequences=True, activity_regularizer=l2(reg)))\n",
    "model.add(Dropout(drop))\n",
    "\n",
    "model.add(Flatten())\n",
    "\n",
    "model.add(Dense(5, activation='relu', activity_regularizer=l2(reg)))\n",
    "model.add(Dropout(drop))\n",
    "\n",
    "\n",
    "model.add(Dense(1, activation='sigmoid'))"
   ]
  },
  {
   "cell_type": "code",
   "execution_count": 63,
   "id": "different-compatibility",
   "metadata": {},
   "outputs": [
    {
     "name": "stdout",
     "output_type": "stream",
     "text": [
      "Model: \"sequential_1\"\n",
      "_________________________________________________________________\n",
      "Layer (type)                 Output Shape              Param #   \n",
      "=================================================================\n",
      "lstm_4 (LSTM)                (None, 14, 75)            33300     \n",
      "_________________________________________________________________\n",
      "dropout_5 (Dropout)          (None, 14, 75)            0         \n",
      "_________________________________________________________________\n",
      "lstm_5 (LSTM)                (None, 14, 30)            12720     \n",
      "_________________________________________________________________\n",
      "dropout_6 (Dropout)          (None, 14, 30)            0         \n",
      "_________________________________________________________________\n",
      "lstm_6 (LSTM)                (None, 14, 30)            7320      \n",
      "_________________________________________________________________\n",
      "dropout_7 (Dropout)          (None, 14, 30)            0         \n",
      "_________________________________________________________________\n",
      "lstm_7 (LSTM)                (None, 14, 30)            7320      \n",
      "_________________________________________________________________\n",
      "dropout_8 (Dropout)          (None, 14, 30)            0         \n",
      "_________________________________________________________________\n",
      "flatten_1 (Flatten)          (None, 420)               0         \n",
      "_________________________________________________________________\n",
      "dense_2 (Dense)              (None, 5)                 2105      \n",
      "_________________________________________________________________\n",
      "dropout_9 (Dropout)          (None, 5)                 0         \n",
      "_________________________________________________________________\n",
      "dense_3 (Dense)              (None, 1)                 6         \n",
      "=================================================================\n",
      "Total params: 62,771\n",
      "Trainable params: 62,771\n",
      "Non-trainable params: 0\n",
      "_________________________________________________________________\n"
     ]
    }
   ],
   "source": [
    "model.summary()"
   ]
  },
  {
   "cell_type": "markdown",
   "id": "western-symphony",
   "metadata": {},
   "source": [
    "# 2.0 Prepare dataset of many stocks"
   ]
  },
  {
   "cell_type": "code",
   "execution_count": 64,
   "id": "tamil-mercy",
   "metadata": {},
   "outputs": [],
   "source": [
    "h = dataset.loc[dataset['Ticker']=='HYSR']"
   ]
  },
  {
   "cell_type": "code",
   "execution_count": 65,
   "id": "criminal-spoke",
   "metadata": {},
   "outputs": [
    {
     "data": {
      "text/plain": [
       "Ticker        0\n",
       "Date          0\n",
       "Close         0\n",
       "High          0\n",
       "Low           0\n",
       "Open          0\n",
       "Volume        0\n",
       "HH            0\n",
       "LL            0\n",
       "AV            0\n",
       "SMA           0\n",
       "SD            1\n",
       "WILLR       268\n",
       "ATR           0\n",
       "DMH           0\n",
       "DML           0\n",
       "EMA           0\n",
       "WMA          13\n",
       "BBHIGH        1\n",
       "BBLOW         1\n",
       "PERBHIGH      1\n",
       "PERBLOW       1\n",
       "TRIMA        13\n",
       "RSI          14\n",
       "DX          621\n",
       "PDI           0\n",
       "NDI           0\n",
       "ADX           6\n",
       "ROC           0\n",
       "MACD          0\n",
       "CCI           1\n",
       "dtype: int64"
      ]
     },
     "execution_count": 65,
     "metadata": {},
     "output_type": "execute_result"
    }
   ],
   "source": [
    "h.isna().sum()"
   ]
  },
  {
   "cell_type": "code",
   "execution_count": 66,
   "id": "popular-rating",
   "metadata": {
    "scrolled": true
   },
   "outputs": [],
   "source": [
    "# h[h.isna().sum(axis=1)>0][:100]"
   ]
  },
  {
   "cell_type": "code",
   "execution_count": 67,
   "id": "worse-situation",
   "metadata": {},
   "outputs": [],
   "source": [
    "# dataset[dataset.isna().sum(axis=1)>0]"
   ]
  },
  {
   "cell_type": "code",
   "execution_count": 68,
   "id": "least-baker",
   "metadata": {},
   "outputs": [],
   "source": [
    "x_train, y_train, x_valid, y_valid, x_test, y_test = generate_dataset(dataset, \n",
    "                                                                           climate_trends_data,\n",
    "                                                                           green_energy_stocks + top_energy,\n",
    "                                                                           \"2018-03-01\", \"2019-03-01\", \"2020-03-01\", \n",
    "                                                                           chosen_stock_features, chosen_trend_terms,\n",
    "                                                                            trail_size, predict_length\n",
    "                                                                           )"
   ]
  },
  {
   "cell_type": "code",
   "execution_count": 69,
   "id": "convinced-reggae",
   "metadata": {},
   "outputs": [
    {
     "name": "stdout",
     "output_type": "stream",
     "text": [
      "x_train: (25388, 14, 35)\n",
      "y_train: (25388,)\n",
      "x_valid: (8399, 14, 35)\n",
      "y_valid (8399,)\n",
      "x_test: (8436, 14, 35)\n",
      "y_test (8436,)\n"
     ]
    }
   ],
   "source": [
    "print(\"x_train: {}\".format(x_train.shape))\n",
    "print(\"y_train: {}\".format(y_train.shape))\n",
    "print(\"x_valid: {}\".format(x_valid.shape))\n",
    "print(\"y_valid {}\".format(y_valid.shape))\n",
    "print(\"x_test: {}\".format(x_test.shape))\n",
    "print(\"y_test {}\".format(y_test.shape))"
   ]
  },
  {
   "cell_type": "markdown",
   "id": "distinguished-polish",
   "metadata": {},
   "source": [
    "## 2.1 Train on many stocks"
   ]
  },
  {
   "cell_type": "code",
   "execution_count": 70,
   "id": "working-uganda",
   "metadata": {},
   "outputs": [],
   "source": [
    "time_stamp = time()\n",
    "tensorboard = TensorBoard(log_dir='logs/{}'.format(time_stamp))"
   ]
  },
  {
   "cell_type": "code",
   "execution_count": 71,
   "id": "acting-holiday",
   "metadata": {},
   "outputs": [],
   "source": [
    "model.compile(optimizer='adam', loss='binary_crossentropy', metrics='accuracy')"
   ]
  },
  {
   "cell_type": "code",
   "execution_count": 72,
   "id": "broke-blank",
   "metadata": {},
   "outputs": [
    {
     "name": "stdout",
     "output_type": "stream",
     "text": [
      "Epoch 1/15\n",
      "397/397 [==============================] - 16s 29ms/step - loss: 0.7553 - accuracy: 0.5136 - val_loss: 0.6941 - val_accuracy: 0.5595\n",
      "Epoch 2/15\n",
      "397/397 [==============================] - 6s 15ms/step - loss: 0.6889 - accuracy: 0.5373 - val_loss: 0.6983 - val_accuracy: 0.5178\n",
      "Epoch 3/15\n",
      "397/397 [==============================] - 6s 15ms/step - loss: 0.6841 - accuracy: 0.5493 - val_loss: 0.7023 - val_accuracy: 0.5191\n",
      "Epoch 4/15\n",
      "397/397 [==============================] - 6s 15ms/step - loss: 0.6793 - accuracy: 0.5661 - val_loss: 0.6950 - val_accuracy: 0.5246\n",
      "Epoch 5/15\n",
      "397/397 [==============================] - 6s 15ms/step - loss: 0.6752 - accuracy: 0.5768 - val_loss: 0.7102 - val_accuracy: 0.5054\n",
      "Epoch 6/15\n",
      "397/397 [==============================] - 6s 15ms/step - loss: 0.6656 - accuracy: 0.5974 - val_loss: 0.7475 - val_accuracy: 0.4717\n",
      "Epoch 7/15\n",
      "397/397 [==============================] - 6s 15ms/step - loss: 0.6613 - accuracy: 0.6046 - val_loss: 0.7880 - val_accuracy: 0.4801\n",
      "Epoch 8/15\n",
      "397/397 [==============================] - 6s 15ms/step - loss: 0.6531 - accuracy: 0.6214 - val_loss: 0.8157 - val_accuracy: 0.4777\n",
      "Epoch 9/15\n",
      "397/397 [==============================] - 6s 15ms/step - loss: 0.6478 - accuracy: 0.6334 - val_loss: 0.7699 - val_accuracy: 0.5120\n",
      "Epoch 10/15\n",
      "397/397 [==============================] - 6s 15ms/step - loss: 0.6424 - accuracy: 0.6397 - val_loss: 0.7826 - val_accuracy: 0.4887\n",
      "Epoch 11/15\n",
      "397/397 [==============================] - 6s 15ms/step - loss: 0.6337 - accuracy: 0.6477 - val_loss: 0.8955 - val_accuracy: 0.4802\n",
      "Epoch 12/15\n",
      "397/397 [==============================] - 6s 15ms/step - loss: 0.6307 - accuracy: 0.6561 - val_loss: 0.9417 - val_accuracy: 0.4684\n",
      "Epoch 13/15\n",
      "397/397 [==============================] - 6s 15ms/step - loss: 0.6249 - accuracy: 0.6623 - val_loss: 0.8115 - val_accuracy: 0.4659\n",
      "Epoch 14/15\n",
      "397/397 [==============================] - 6s 15ms/step - loss: 0.6202 - accuracy: 0.6710 - val_loss: 0.7954 - val_accuracy: 0.4683\n",
      "Epoch 15/15\n",
      "397/397 [==============================] - 6s 15ms/step - loss: 0.6207 - accuracy: 0.6682 - val_loss: 0.9303 - val_accuracy: 0.4830\n"
     ]
    }
   ],
   "source": [
    "history1 = model.fit(x_train, \n",
    "                     y_train, \n",
    "                     epochs=15, \n",
    "                     validation_data=(x_valid, y_valid), \n",
    "                     batch_size=64, \n",
    "                     shuffle=True, \n",
    "                     callbacks=[tensorboard])"
   ]
  },
  {
   "cell_type": "code",
   "execution_count": 73,
   "id": "remarkable-senate",
   "metadata": {},
   "outputs": [
    {
     "data": {
      "image/png": "[encoded data removed]",
      "text/plain": [
       "<Figure size 576x432 with 1 Axes>"
      ]
     },
     "metadata": {
      "needs_background": "light"
     },
     "output_type": "display_data"
    }
   ],
   "source": [
    "plot_loss(history1)"
   ]
  },
  {
   "cell_type": "code",
   "execution_count": 74,
   "id": "requested-launch",
   "metadata": {},
   "outputs": [
    {
     "data": {
      "image/png": "[encoded data removed]",
      "text/plain": [
       "<Figure size 576x432 with 1 Axes>"
      ]
     },
     "metadata": {
      "needs_background": "light"
     },
     "output_type": "display_data"
    }
   ],
   "source": [
    "plot_acc(history1)"
   ]
  },
  {
   "cell_type": "markdown",
   "id": "concerned-suite",
   "metadata": {},
   "source": [
    "## 2.2 Performance of model"
   ]
  },
  {
   "cell_type": "code",
   "execution_count": 75,
   "id": "blessed-probe",
   "metadata": {},
   "outputs": [
    {
     "name": "stdout",
     "output_type": "stream",
     "text": [
      "Upward ratio: 50.32%\n",
      "Mean prediction: 51.59%\n",
      "Predicted upward ratio: 57.09%\n",
      "Accuracy: 69.15%\n"
     ]
    }
   ],
   "source": [
    "performance_stats(model, x_train, y_train)"
   ]
  },
  {
   "cell_type": "code",
   "execution_count": 76,
   "id": "lesser-repair",
   "metadata": {},
   "outputs": [
    {
     "name": "stdout",
     "output_type": "stream",
     "text": [
      "Upward ratio: 51.70%\n",
      "Mean prediction: 45.47%\n",
      "Predicted upward ratio: 32.12%\n",
      "Accuracy: 48.30%\n"
     ]
    }
   ],
   "source": [
    "performance_stats(model, x_valid, y_valid)"
   ]
  },
  {
   "cell_type": "code",
   "execution_count": 77,
   "id": "through-prevention",
   "metadata": {
    "scrolled": false
   },
   "outputs": [
    {
     "name": "stdout",
     "output_type": "stream",
     "text": [
      "Upward ratio: 50.26%\n",
      "Mean prediction: 69.97%\n",
      "Predicted upward ratio: 66.64%\n",
      "Accuracy: 52.92%\n"
     ]
    }
   ],
   "source": [
    "performance_stats(model, x_test, y_test)"
   ]
  },
  {
   "cell_type": "markdown",
   "id": "complete-riverside",
   "metadata": {},
   "source": [
    "# 3.0 Prepare data for less stocks"
   ]
  },
  {
   "cell_type": "code",
   "execution_count": 78,
   "id": "wireless-bosnia",
   "metadata": {},
   "outputs": [],
   "source": [
    "x_train2, y_train2, x_valid2, y_valid2, x_test2, y_test2 = generate_dataset(dataset, \n",
    "                                                                           climate_trends_data,\n",
    "                                                                           green_energy_stocks,\n",
    "                                                                           \"2018-03-01\", \"2019-03-01\", \"2020-03-01\", \n",
    "                                                                           chosen_stock_features, chosen_trend_terms,\n",
    "                                                                            trail_size, predict_length\n",
    "                                                                           )"
   ]
  },
  {
   "cell_type": "code",
   "execution_count": 79,
   "id": "injured-warren",
   "metadata": {},
   "outputs": [
    {
     "name": "stdout",
     "output_type": "stream",
     "text": [
      "x_train: (8213, 14, 35)\n",
      "y_train: (8213,)\n",
      "x_valid: (2724, 14, 35)\n",
      "y_valid (2724,)\n",
      "x_test: (2736, 14, 35)\n",
      "y_test (2736,)\n"
     ]
    }
   ],
   "source": [
    "print(\"x_train: {}\".format(x_train2.shape))\n",
    "print(\"y_train: {}\".format(y_train2.shape))\n",
    "print(\"x_valid: {}\".format(x_valid2.shape))\n",
    "print(\"y_valid {}\".format(y_valid2.shape))\n",
    "print(\"x_test: {}\".format(x_test2.shape))\n",
    "print(\"y_test {}\".format(y_test2.shape))"
   ]
  },
  {
   "cell_type": "markdown",
   "id": "meaningful-wallet",
   "metadata": {},
   "source": [
    "## 3.1 Train model on less stocks"
   ]
  },
  {
   "cell_type": "code",
   "execution_count": 80,
   "id": "severe-slovakia",
   "metadata": {},
   "outputs": [],
   "source": [
    "# model.layers[7].trainable = False\n",
    "# model.layers[4].trainable = False\n",
    "# model.layers[2].trainable = False\n",
    "# model.layers[0].trainable = False"
   ]
  },
  {
   "cell_type": "code",
   "execution_count": 81,
   "id": "existing-luther",
   "metadata": {},
   "outputs": [],
   "source": [
    "model.compile(optimizer='adam', loss='binary_crossentropy', metrics=['accuracy'])"
   ]
  },
  {
   "cell_type": "code",
   "execution_count": 82,
   "id": "academic-negative",
   "metadata": {},
   "outputs": [],
   "source": [
    "tensorboard = TensorBoard(log_dir='logs/{}_2'.format(time_stamp))"
   ]
  },
  {
   "cell_type": "code",
   "execution_count": 83,
   "id": "relative-airplane",
   "metadata": {},
   "outputs": [
    {
     "name": "stdout",
     "output_type": "stream",
     "text": [
      "Epoch 1/15\n",
      "129/129 [==============================] - 13s 61ms/step - loss: 0.6430 - accuracy: 0.6408 - val_loss: 0.8244 - val_accuracy: 0.5132\n",
      "Epoch 2/15\n",
      "129/129 [==============================] - 2s 16ms/step - loss: 0.6398 - accuracy: 0.6386 - val_loss: 0.8362 - val_accuracy: 0.5117\n",
      "Epoch 3/15\n",
      "129/129 [==============================] - 2s 15ms/step - loss: 0.6382 - accuracy: 0.6418 - val_loss: 1.0661 - val_accuracy: 0.5033\n",
      "Epoch 4/15\n",
      "129/129 [==============================] - 2s 15ms/step - loss: 0.6266 - accuracy: 0.6505 - val_loss: 0.9706 - val_accuracy: 0.5044\n",
      "Epoch 5/15\n",
      "129/129 [==============================] - 2s 15ms/step - loss: 0.6373 - accuracy: 0.6487 - val_loss: 0.9298 - val_accuracy: 0.5128\n",
      "Epoch 6/15\n",
      "129/129 [==============================] - 2s 16ms/step - loss: 0.6329 - accuracy: 0.6469 - val_loss: 0.9144 - val_accuracy: 0.5268\n",
      "Epoch 7/15\n",
      "129/129 [==============================] - 2s 15ms/step - loss: 0.6236 - accuracy: 0.6598 - val_loss: 0.8729 - val_accuracy: 0.5242\n",
      "Epoch 8/15\n",
      "129/129 [==============================] - 2s 15ms/step - loss: 0.6223 - accuracy: 0.6564 - val_loss: 0.7892 - val_accuracy: 0.5015\n",
      "Epoch 9/15\n",
      "129/129 [==============================] - 2s 16ms/step - loss: 0.6208 - accuracy: 0.6629 - val_loss: 0.8369 - val_accuracy: 0.5114\n",
      "Epoch 10/15\n",
      "129/129 [==============================] - 2s 15ms/step - loss: 0.6185 - accuracy: 0.6750 - val_loss: 0.8110 - val_accuracy: 0.5011\n",
      "Epoch 11/15\n",
      "129/129 [==============================] - 2s 15ms/step - loss: 0.6119 - accuracy: 0.6817 - val_loss: 0.7931 - val_accuracy: 0.5011\n",
      "Epoch 12/15\n",
      "129/129 [==============================] - 2s 16ms/step - loss: 0.6135 - accuracy: 0.6664 - val_loss: 0.8317 - val_accuracy: 0.4982\n",
      "Epoch 13/15\n",
      "129/129 [==============================] - 2s 15ms/step - loss: 0.6195 - accuracy: 0.6668 - val_loss: 0.8772 - val_accuracy: 0.4916\n",
      "Epoch 14/15\n",
      "129/129 [==============================] - 2s 16ms/step - loss: 0.6101 - accuracy: 0.6728 - val_loss: 0.8131 - val_accuracy: 0.5033\n",
      "Epoch 15/15\n",
      "129/129 [==============================] - 2s 16ms/step - loss: 0.6065 - accuracy: 0.6835 - val_loss: 0.8254 - val_accuracy: 0.5187\n"
     ]
    }
   ],
   "source": [
    "history2 = model.fit(x_train2, \n",
    "                     y_train2, \n",
    "                     epochs=15, \n",
    "                     validation_data=(x_valid2, y_valid2), \n",
    "                     batch_size=64, \n",
    "                     shuffle=True, \n",
    "                     callbacks=[tensorboard])"
   ]
  },
  {
   "cell_type": "code",
   "execution_count": 84,
   "id": "sustainable-thomas",
   "metadata": {},
   "outputs": [
    {
     "data": {
      "image/png": "[encoded data removed]",
      "text/plain": [
       "<Figure size 576x432 with 1 Axes>"
      ]
     },
     "metadata": {
      "needs_background": "light"
     },
     "output_type": "display_data"
    }
   ],
   "source": [
    "plot_loss(history2)"
   ]
  },
  {
   "cell_type": "code",
   "execution_count": 85,
   "id": "regulation-alberta",
   "metadata": {},
   "outputs": [
    {
     "data": {
      "image/png": "[encoded data removed]",
      "text/plain": [
       "<Figure size 576x432 with 1 Axes>"
      ]
     },
     "metadata": {
      "needs_background": "light"
     },
     "output_type": "display_data"
    }
   ],
   "source": [
    "plot_acc(history2)"
   ]
  },
  {
   "cell_type": "markdown",
   "id": "quality-barbados",
   "metadata": {},
   "source": [
    "## 3.2 Performance of model"
   ]
  },
  {
   "cell_type": "code",
   "execution_count": 86,
   "id": "opening-today",
   "metadata": {},
   "outputs": [
    {
     "name": "stdout",
     "output_type": "stream",
     "text": [
      "Upward ratio: 47.61%\n",
      "Mean prediction: 50.05%\n",
      "Predicted upward ratio: 52.58%\n",
      "Accuracy: 69.76%\n"
     ]
    }
   ],
   "source": [
    "performance_stats(model, x_train2, y_train2)"
   ]
  },
  {
   "cell_type": "code",
   "execution_count": 87,
   "id": "unauthorized-substance",
   "metadata": {},
   "outputs": [
    {
     "name": "stdout",
     "output_type": "stream",
     "text": [
      "Upward ratio: 48.46%\n",
      "Mean prediction: 39.79%\n",
      "Predicted upward ratio: 18.98%\n",
      "Accuracy: 51.87%\n"
     ]
    }
   ],
   "source": [
    "performance_stats(model, x_valid2, y_valid2)"
   ]
  },
  {
   "cell_type": "code",
   "execution_count": 88,
   "id": "expressed-transaction",
   "metadata": {
    "scrolled": false
   },
   "outputs": [
    {
     "name": "stdout",
     "output_type": "stream",
     "text": [
      "Upward ratio: 55.23%\n",
      "Mean prediction: 55.14%\n",
      "Predicted upward ratio: 51.46%\n",
      "Accuracy: 50.77%\n"
     ]
    }
   ],
   "source": [
    "performance_stats(model, x_test2, y_test2)"
   ]
  },
  {
   "cell_type": "markdown",
   "id": "furnished-ghana",
   "metadata": {},
   "source": [
    "# 4.0 Prepare data for one stock"
   ]
  },
  {
   "cell_type": "code",
   "execution_count": 89,
   "id": "apart-tuning",
   "metadata": {},
   "outputs": [
    {
     "data": {
      "text/plain": [
       "'CSIQ'"
      ]
     },
     "execution_count": 89,
     "metadata": {},
     "output_type": "execute_result"
    }
   ],
   "source": [
    "green_energy_stocks[0]"
   ]
  },
  {
   "cell_type": "code",
   "execution_count": 90,
   "id": "banned-momentum",
   "metadata": {},
   "outputs": [],
   "source": [
    "x_train3, y_train3, x_valid3, y_valid3, x_test3, y_test3 = generate_dataset(dataset, \n",
    "                                                                           climate_trends_data,\n",
    "                                                                           [green_energy_stocks[0]],\n",
    "                                                                           \"2018-03-01\", \"2019-03-01\", \"2020-03-01\", \n",
    "                                                                           chosen_stock_features, chosen_trend_terms,\n",
    "                                                                            trail_size, predict_length\n",
    "                                                                           )"
   ]
  },
  {
   "cell_type": "code",
   "execution_count": 91,
   "id": "honey-evidence",
   "metadata": {},
   "outputs": [
    {
     "name": "stdout",
     "output_type": "stream",
     "text": [
      "x_train: (687, 14, 35)\n",
      "y_train: (687,)\n",
      "x_valid: (227, 14, 35)\n",
      "y_valid (227,)\n",
      "x_test: (228, 14, 35)\n",
      "y_test (228,)\n"
     ]
    }
   ],
   "source": [
    "print(\"x_train: {}\".format(x_train3.shape))\n",
    "print(\"y_train: {}\".format(y_train3.shape))\n",
    "print(\"x_valid: {}\".format(x_valid3.shape))\n",
    "print(\"y_valid {}\".format(y_valid3.shape))\n",
    "print(\"x_test: {}\".format(x_test3.shape))\n",
    "print(\"y_test {}\".format(y_test3.shape))"
   ]
  },
  {
   "cell_type": "markdown",
   "id": "negative-yukon",
   "metadata": {},
   "source": [
    "## 4.1 Train model on less stocks"
   ]
  },
  {
   "cell_type": "code",
   "execution_count": 92,
   "id": "located-absolute",
   "metadata": {},
   "outputs": [],
   "source": [
    "# model.layers[7].trainable = False\n",
    "# model.layers[4].trainable = False\n",
    "# model.layers[2].trainable = False\n",
    "# model.layers[0].trainable = False"
   ]
  },
  {
   "cell_type": "code",
   "execution_count": 93,
   "id": "annual-bonus",
   "metadata": {},
   "outputs": [],
   "source": [
    "model.compile(optimizer='adam', loss='binary_crossentropy', metrics=['accuracy'])"
   ]
  },
  {
   "cell_type": "code",
   "execution_count": 94,
   "id": "covered-brass",
   "metadata": {},
   "outputs": [],
   "source": [
    "tensorboard = TensorBoard(log_dir='logs/{}_3'.format(time_stamp))"
   ]
  },
  {
   "cell_type": "code",
   "execution_count": 95,
   "id": "relative-airplane",
   "metadata": {},
   "outputs": [
    {
     "name": "stdout",
     "output_type": "stream",
     "text": [
      "Epoch 1/5\n",
      "11/11 [==============================] - 11s 620ms/step - loss: 0.5265 - accuracy: 0.7709 - val_loss: 0.9735 - val_accuracy: 0.4714\n",
      "Epoch 2/5\n",
      "11/11 [==============================] - 0s 18ms/step - loss: 0.4792 - accuracy: 0.8001 - val_loss: 0.9577 - val_accuracy: 0.4890\n",
      "Epoch 3/5\n",
      "11/11 [==============================] - 0s 18ms/step - loss: 0.4628 - accuracy: 0.8026 - val_loss: 1.0086 - val_accuracy: 0.5022\n",
      "Epoch 4/5\n",
      "11/11 [==============================] - 0s 18ms/step - loss: 0.4645 - accuracy: 0.8127 - val_loss: 0.9826 - val_accuracy: 0.4758\n",
      "Epoch 5/5\n",
      "11/11 [==============================] - 0s 18ms/step - loss: 0.4833 - accuracy: 0.7747 - val_loss: 0.9874 - val_accuracy: 0.4934\n"
     ]
    }
   ],
   "source": [
    "history3 = model.fit(x_train3, \n",
    "                     y_train3, \n",
    "                     epochs=5, \n",
    "                     validation_data=(x_valid3, y_valid3), \n",
    "                     batch_size=64, \n",
    "                     shuffle=True, \n",
    "                     callbacks=[tensorboard])"
   ]
  },
  {
   "cell_type": "code",
   "execution_count": 96,
   "id": "sustainable-thomas",
   "metadata": {},
   "outputs": [
    {
     "data": {
      "image/png": "[encoded data removed]",
      "text/plain": [
       "<Figure size 576x432 with 1 Axes>"
      ]
     },
     "metadata": {
      "needs_background": "light"
     },
     "output_type": "display_data"
    }
   ],
   "source": [
    "plot_loss(history3)"
   ]
  },
  {
   "cell_type": "code",
   "execution_count": 97,
   "id": "regulation-alberta",
   "metadata": {},
   "outputs": [
    {
     "data": {
      "image/png": "[encoded data removed]",
      "text/plain": [
       "<Figure size 576x432 with 1 Axes>"
      ]
     },
     "metadata": {
      "needs_background": "light"
     },
     "output_type": "display_data"
    }
   ],
   "source": [
    "plot_acc(history3)"
   ]
  },
  {
   "cell_type": "markdown",
   "id": "quality-barbados",
   "metadata": {},
   "source": [
    "## 4.2 Performance of model"
   ]
  },
  {
   "cell_type": "code",
   "execution_count": 98,
   "id": "opening-today",
   "metadata": {},
   "outputs": [
    {
     "name": "stdout",
     "output_type": "stream",
     "text": [
      "Upward ratio: 50.22%\n",
      "Mean prediction: 50.68%\n",
      "Predicted upward ratio: 50.95%\n",
      "Accuracy: 84.13%\n"
     ]
    }
   ],
   "source": [
    "performance_stats(model, x_train3, y_train3)"
   ]
  },
  {
   "cell_type": "code",
   "execution_count": 99,
   "id": "unauthorized-substance",
   "metadata": {},
   "outputs": [
    {
     "name": "stdout",
     "output_type": "stream",
     "text": [
      "Upward ratio: 56.83%\n",
      "Mean prediction: 41.44%\n",
      "Predicted upward ratio: 21.15%\n",
      "Accuracy: 49.34%\n"
     ]
    }
   ],
   "source": [
    "performance_stats(model, x_valid3, y_valid3)"
   ]
  },
  {
   "cell_type": "code",
   "execution_count": 100,
   "id": "expressed-transaction",
   "metadata": {
    "scrolled": false
   },
   "outputs": [
    {
     "name": "stdout",
     "output_type": "stream",
     "text": [
      "Upward ratio: 54.82%\n",
      "Mean prediction: 69.96%\n",
      "Predicted upward ratio: 65.35%\n",
      "Accuracy: 60.53%\n"
     ]
    }
   ],
   "source": [
    "performance_stats(model, x_test3, y_test3)"
   ]
  },
  {
   "cell_type": "code",
   "execution_count": null,
   "id": "varying-object",
   "metadata": {},
   "outputs": [],
   "source": []
  }
 ],
 "metadata": {
  "kernelspec": {
   "display_name": "Python 3",
   "language": "python",
   "name": "python3"
  },
  "language_info": {
   "codemirror_mode": {
    "name": "ipython",
    "version": 3
   },
   "file_extension": ".py",
   "mimetype": "text/x-python",
   "name": "python",
   "nbconvert_exporter": "python",
   "pygments_lexer": "ipython3",
   "version": "3.8.5"
  }
 },
 "nbformat": 4,
 "nbformat_minor": 5
}
