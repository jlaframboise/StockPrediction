{
 "cells": [
  {
   "cell_type": "markdown",
   "id": "cardiac-marijuana",
   "metadata": {},
   "source": [
    "### Imports"
   ]
  },
  {
   "cell_type": "code",
   "execution_count": 1,
   "id": "bored-abraham",
   "metadata": {},
   "outputs": [
    {
     "data": {
      "text/html": [
       "<style>.container { width:100% !important; }</style>"
      ],
      "text/plain": [
       "<IPython.core.display.HTML object>"
      ]
     },
     "metadata": {},
     "output_type": "display_data"
    }
   ],
   "source": [
    "import os, sys\n",
    "import pandas as pd\n",
    "import numpy as np\n",
    "import yfinance as yf\n",
    "import matplotlib.pyplot as plt\n",
    "import seaborn as sns\n",
    "import random\n",
    "\n",
    "import tensorflow as tf\n",
    "from tensorflow.keras import Input, Model\n",
    "from tensorflow.keras.models import Sequential\n",
    "from tensorflow.keras.layers import *\n",
    "from tensorflow.keras.losses import CategoricalCrossentropy\n",
    "from tensorflow.keras.utils import to_categorical, plot_model\n",
    "from tensorflow.keras.preprocessing.sequence import TimeseriesGenerator\n",
    "from sklearn.metrics import confusion_matrix, mean_squared_error\n",
    "from sklearn.feature_extraction.text import CountVectorizer\n",
    "from sklearn.preprocessing import StandardScaler, MinMaxScaler, RobustScaler\n",
    "\n",
    "from time import time\n",
    "from tensorflow.python.keras.callbacks import TensorBoard\n",
    "\n",
    "from indicators import *\n",
    "from data_loading import *\n",
    "from util_functions import *\n",
    "\n",
    "\n",
    "physical_devices = tf.config.list_physical_devices('GPU')\n",
    "tf.config.experimental.set_memory_growth(physical_devices[0], enable=True)\n",
    "\n",
    "from IPython.core.display import display, HTML\n",
    "display(HTML(\"<style>.container { width:100% !important; }</style>\"))\n",
    "\n",
    "pd.set_option('display.max_rows', 500)\n",
    "pd.set_option('display.max_columns', 500)\n",
    "pd.set_option('display.width', 1000)\n"
   ]
  },
  {
   "cell_type": "markdown",
   "id": "approved-battlefield",
   "metadata": {},
   "source": [
    "### Parameters"
   ]
  },
  {
   "cell_type": "code",
   "execution_count": 2,
   "id": "engaged-november",
   "metadata": {},
   "outputs": [],
   "source": [
    "trail_size=14\n",
    "predict_length = 5\n",
    "time_period = '6y'\n",
    "predict_change=False"
   ]
  },
  {
   "cell_type": "markdown",
   "id": "literary-morgan",
   "metadata": {},
   "source": [
    "### Load stock data"
   ]
  },
  {
   "cell_type": "code",
   "execution_count": 3,
   "id": "beginning-comparison",
   "metadata": {},
   "outputs": [],
   "source": [
    "top100tech = ['AAPL', 'MSFT', 'TSM', 'NVDA', 'INTC', 'ASML', 'ADBE', 'CRM', 'AVGO', 'ORCL', 'CSCO', 'ACN', 'TXN', 'SHOP', 'QCOM', 'SAP', 'SNE', 'AMAT', 'INTU', 'NOW', 'SQ', 'IBM', 'MU', 'AMD',\n",
    "'UBER', 'FIS', 'LRCX', 'FISV', 'SNOW', 'INFY', 'TEAM', 'ADSK', 'DELL', 'WDAY', 'VMW', 'ADI', 'NXPI', 'KLAC',\n",
    "'CRWD', 'PLTR', 'DOCU', 'TEL', 'ERIC', 'MCHP', 'CDNS', 'CTSH', 'APH', 'SNPS', 'HPQ',\n",
    "'PANW', 'OKTA','RNG','STM','MRVL','XLNX','WIT','MSI','SWKS','GLW','DDOG','ANSS','U','ZS','FTNT','STNE','ZBRA','KEYS','FTV','MXIM','COUP','GRMN','SPLK','HUBS','WORK','NET','FLT','CDW','CAJ','AFRM','PAYC','TER',\n",
    "'VRSN','WDC', 'ZI', 'UMC','ANET','EPAM', 'UI','XM',\n",
    "'GIB','TRMB', 'TYL','WIX','HPE','LYFT', 'LOGI', 'MPWR']\n",
    "top10tech = top100tech[:10]"
   ]
  },
  {
   "cell_type": "code",
   "execution_count": 4,
   "id": "stretch-video",
   "metadata": {},
   "outputs": [],
   "source": [
    "top_energy = [\"XOM\", \"CVX\", \"RDS-A\", \"RDS-B\", \"PTR\", \"TOT\", \"BP\",\n",
    "\"SNP\", \"ENB\", \"COP\", \"EQNR\", \"PBR-A\", \"PBR\", \"EPD\",\n",
    "\"TRP\", \"E\", \"EOG\", \"SLB\", \"KMI\", \"PSX\", \"CNQ\",\n",
    "\"MPC\", \"PXD\", \"SU\", \"VLO\"]"
   ]
  },
  {
   "cell_type": "code",
   "execution_count": 5,
   "id": "olympic-exhaust",
   "metadata": {},
   "outputs": [],
   "source": [
    "traditional_energy_stocks = [\n",
    "    \"LNG\",\n",
    "    \"OKE\",\n",
    "    \"BKR\",\n",
    "    \"WMB\",\n",
    "    \"EQT\", \n",
    "    \"XEC\", \n",
    "    \"XOM\", \n",
    "    \"CVX\", \n",
    "    \"BP\", \n",
    "    \"OXY\", \n",
    "    \"COP\", \n",
    "    \"EOG\", \n",
    "    \"COG\", \n",
    "    \"CNQ\", \n",
    "    \"SLB\", \n",
    "    \"PTR\", \n",
    "    \"TOT\", \n",
    "    \"ENB\",  \n",
    "]"
   ]
  },
  {
   "cell_type": "code",
   "execution_count": 6,
   "id": "intimate-letters",
   "metadata": {},
   "outputs": [],
   "source": [
    "top_green = ['CSIQ', 'SPWR', 'AQN.TO', 'DQ', \n",
    "            'HYSR', # HYSR has a lot of days where the prices don't change, causes nan indicators\n",
    "             'PLUG', 'SOL', 'NEE', 'ENPH', 'FSLR', 'SEDG', 'ORA']"
   ]
  },
  {
   "cell_type": "code",
   "execution_count": 7,
   "id": "attractive-accountability",
   "metadata": {},
   "outputs": [],
   "source": [
    "ev_battery_stocks = [\"TSLA\", \"WKHS\", \"BLNK\", \"LAC\", \"MG\", \"KNDI\", \"NFI.TO\", \"BLDP\", \"AYRO\"]"
   ]
  },
  {
   "cell_type": "code",
   "execution_count": 8,
   "id": "devoted-wages",
   "metadata": {},
   "outputs": [
    {
     "name": "stdout",
     "output_type": "stream",
     "text": [
      "[*********************100%***********************]  9 of 9 completed\n"
     ]
    }
   ],
   "source": [
    "data = get_data_yf(ev_battery_stocks, time_period)"
   ]
  },
  {
   "cell_type": "code",
   "execution_count": 9,
   "id": "elect-justice",
   "metadata": {},
   "outputs": [
    {
     "data": {
      "text/plain": [
       "(1537, 45)"
      ]
     },
     "execution_count": 9,
     "metadata": {},
     "output_type": "execute_result"
    }
   ],
   "source": [
    "data.shape"
   ]
  },
  {
   "cell_type": "code",
   "execution_count": 10,
   "id": "reflected-norway",
   "metadata": {},
   "outputs": [],
   "source": [
    "data = data.dropna()"
   ]
  },
  {
   "cell_type": "code",
   "execution_count": 11,
   "id": "dying-colorado",
   "metadata": {},
   "outputs": [
    {
     "data": {
      "text/plain": [
       "(1481, 45)"
      ]
     },
     "execution_count": 11,
     "metadata": {},
     "output_type": "execute_result"
    }
   ],
   "source": [
    "data.shape"
   ]
  },
  {
   "cell_type": "code",
   "execution_count": 12,
   "id": "qualified-concept",
   "metadata": {},
   "outputs": [
    {
     "data": {
      "text/plain": [
       "0"
      ]
     },
     "execution_count": 12,
     "metadata": {},
     "output_type": "execute_result"
    }
   ],
   "source": [
    "data.isna().sum().sum()"
   ]
  },
  {
   "cell_type": "code",
   "execution_count": 13,
   "id": "vanilla-swiss",
   "metadata": {},
   "outputs": [],
   "source": [
    "data = process_stock_data_from_yf(data)"
   ]
  },
  {
   "cell_type": "code",
   "execution_count": 14,
   "id": "harmful-shield",
   "metadata": {},
   "outputs": [
    {
     "data": {
      "text/plain": [
       "100.0"
      ]
     },
     "execution_count": 14,
     "metadata": {},
     "output_type": "execute_result"
    }
   ],
   "source": [
    "has_data_ratio, data = filter_has_all_data(data)\n",
    "has_data_ratio"
   ]
  },
  {
   "cell_type": "code",
   "execution_count": 15,
   "id": "characteristic-grenada",
   "metadata": {},
   "outputs": [
    {
     "data": {
      "text/html": [
       "<div>\n",
       "<style scoped>\n",
       "    .dataframe tbody tr th:only-of-type {\n",
       "        vertical-align: middle;\n",
       "    }\n",
       "\n",
       "    .dataframe tbody tr th {\n",
       "        vertical-align: top;\n",
       "    }\n",
       "\n",
       "    .dataframe thead th {\n",
       "        text-align: right;\n",
       "    }\n",
       "</style>\n",
       "<table border=\"1\" class=\"dataframe\">\n",
       "  <thead>\n",
       "    <tr style=\"text-align: right;\">\n",
       "      <th></th>\n",
       "      <th>Ticker</th>\n",
       "      <th>Date</th>\n",
       "      <th>Close</th>\n",
       "      <th>High</th>\n",
       "      <th>Low</th>\n",
       "      <th>Open</th>\n",
       "      <th>Volume</th>\n",
       "    </tr>\n",
       "  </thead>\n",
       "  <tbody>\n",
       "    <tr>\n",
       "      <th>0</th>\n",
       "      <td>AYRO</td>\n",
       "      <td>2015-04-02</td>\n",
       "      <td>475.200012</td>\n",
       "      <td>501.600006</td>\n",
       "      <td>475.200012</td>\n",
       "      <td>501.600006</td>\n",
       "      <td>46.0</td>\n",
       "    </tr>\n",
       "    <tr>\n",
       "      <th>1</th>\n",
       "      <td>AYRO</td>\n",
       "      <td>2015-04-06</td>\n",
       "      <td>501.600006</td>\n",
       "      <td>528.000000</td>\n",
       "      <td>448.799988</td>\n",
       "      <td>528.000000</td>\n",
       "      <td>61.0</td>\n",
       "    </tr>\n",
       "    <tr>\n",
       "      <th>2</th>\n",
       "      <td>AYRO</td>\n",
       "      <td>2015-04-07</td>\n",
       "      <td>528.000000</td>\n",
       "      <td>528.000000</td>\n",
       "      <td>448.799988</td>\n",
       "      <td>528.000000</td>\n",
       "      <td>76.0</td>\n",
       "    </tr>\n",
       "    <tr>\n",
       "      <th>3</th>\n",
       "      <td>AYRO</td>\n",
       "      <td>2015-04-08</td>\n",
       "      <td>501.600006</td>\n",
       "      <td>528.000000</td>\n",
       "      <td>448.799988</td>\n",
       "      <td>528.000000</td>\n",
       "      <td>55.0</td>\n",
       "    </tr>\n",
       "    <tr>\n",
       "      <th>4</th>\n",
       "      <td>AYRO</td>\n",
       "      <td>2015-04-09</td>\n",
       "      <td>712.799988</td>\n",
       "      <td>739.200012</td>\n",
       "      <td>580.799988</td>\n",
       "      <td>633.599976</td>\n",
       "      <td>1403.0</td>\n",
       "    </tr>\n",
       "    <tr>\n",
       "      <th>...</th>\n",
       "      <td>...</td>\n",
       "      <td>...</td>\n",
       "      <td>...</td>\n",
       "      <td>...</td>\n",
       "      <td>...</td>\n",
       "      <td>...</td>\n",
       "      <td>...</td>\n",
       "    </tr>\n",
       "    <tr>\n",
       "      <th>13324</th>\n",
       "      <td>WKHS</td>\n",
       "      <td>2021-03-26</td>\n",
       "      <td>13.450000</td>\n",
       "      <td>14.300000</td>\n",
       "      <td>12.870000</td>\n",
       "      <td>13.730000</td>\n",
       "      <td>13457600.0</td>\n",
       "    </tr>\n",
       "    <tr>\n",
       "      <th>13325</th>\n",
       "      <td>WKHS</td>\n",
       "      <td>2021-03-29</td>\n",
       "      <td>12.930000</td>\n",
       "      <td>13.430000</td>\n",
       "      <td>12.600000</td>\n",
       "      <td>13.378000</td>\n",
       "      <td>9756800.0</td>\n",
       "    </tr>\n",
       "    <tr>\n",
       "      <th>13326</th>\n",
       "      <td>WKHS</td>\n",
       "      <td>2021-03-30</td>\n",
       "      <td>13.400000</td>\n",
       "      <td>13.410000</td>\n",
       "      <td>12.400000</td>\n",
       "      <td>12.940000</td>\n",
       "      <td>8341900.0</td>\n",
       "    </tr>\n",
       "    <tr>\n",
       "      <th>13327</th>\n",
       "      <td>WKHS</td>\n",
       "      <td>2021-03-31</td>\n",
       "      <td>13.770000</td>\n",
       "      <td>14.070000</td>\n",
       "      <td>13.390000</td>\n",
       "      <td>13.900000</td>\n",
       "      <td>11405700.0</td>\n",
       "    </tr>\n",
       "    <tr>\n",
       "      <th>13328</th>\n",
       "      <td>WKHS</td>\n",
       "      <td>2021-04-01</td>\n",
       "      <td>14.140000</td>\n",
       "      <td>14.910000</td>\n",
       "      <td>13.990000</td>\n",
       "      <td>14.650000</td>\n",
       "      <td>10386800.0</td>\n",
       "    </tr>\n",
       "  </tbody>\n",
       "</table>\n",
       "<p>13329 rows × 7 columns</p>\n",
       "</div>"
      ],
      "text/plain": [
       "      Ticker       Date       Close        High         Low        Open      Volume\n",
       "0       AYRO 2015-04-02  475.200012  501.600006  475.200012  501.600006        46.0\n",
       "1       AYRO 2015-04-06  501.600006  528.000000  448.799988  528.000000        61.0\n",
       "2       AYRO 2015-04-07  528.000000  528.000000  448.799988  528.000000        76.0\n",
       "3       AYRO 2015-04-08  501.600006  528.000000  448.799988  528.000000        55.0\n",
       "4       AYRO 2015-04-09  712.799988  739.200012  580.799988  633.599976      1403.0\n",
       "...      ...        ...         ...         ...         ...         ...         ...\n",
       "13324   WKHS 2021-03-26   13.450000   14.300000   12.870000   13.730000  13457600.0\n",
       "13325   WKHS 2021-03-29   12.930000   13.430000   12.600000   13.378000   9756800.0\n",
       "13326   WKHS 2021-03-30   13.400000   13.410000   12.400000   12.940000   8341900.0\n",
       "13327   WKHS 2021-03-31   13.770000   14.070000   13.390000   13.900000  11405700.0\n",
       "13328   WKHS 2021-04-01   14.140000   14.910000   13.990000   14.650000  10386800.0\n",
       "\n",
       "[13329 rows x 7 columns]"
      ]
     },
     "execution_count": 15,
     "metadata": {},
     "output_type": "execute_result"
    }
   ],
   "source": [
    "data"
   ]
  },
  {
   "cell_type": "markdown",
   "id": "warming-specific",
   "metadata": {},
   "source": [
    "### Compute technical indicators"
   ]
  },
  {
   "cell_type": "code",
   "execution_count": 16,
   "id": "cooked-dutch",
   "metadata": {},
   "outputs": [],
   "source": [
    "# compute all our technical markers for each of the stocks. \n",
    "dataset = data.groupby('Ticker').apply(lambda x: add_technical_markers(x, trail_size))"
   ]
  },
  {
   "cell_type": "markdown",
   "id": "juvenile-bidding",
   "metadata": {},
   "source": [
    "### Load climate trends data"
   ]
  },
  {
   "cell_type": "code",
   "execution_count": 17,
   "id": "international-diary",
   "metadata": {},
   "outputs": [],
   "source": [
    "filenames = [os.path.join(\"data\", x) for x in [\n",
    "    \"data climate change adjusted.csv\",\n",
    "    \"data greenhouse gas adjusted.csv\",\n",
    "    \"data oil adjusted.csv\",\n",
    "    \"data renewable adjusted.csv\",\n",
    "    \"data carbon tax adjusted.csv\",\n",
    "    \"data electric vehicles adjusted.csv\",\n",
    "    \"data environmental protection agency adjusted.csv\",\n",
    "    \"data fossil fuels adjusted.csv\",\n",
    "    \"data fracking adjusted.csv\",\n",
    "    \"data global warming adjusted.csv\",\n",
    "] ]\n",
    "filenames2 = [\n",
    "    \"data climate change.csv\",\n",
    "    \"data greenhouse gas.csv\",\n",
    "    \"data oil.csv\",\n",
    "    \"data renewable.csv\",\n",
    "    \"data carbon tax.csv\",\n",
    "    \"data electric vehicles.csv\",\n",
    "    \"data environmental protection agency.csv\",\n",
    "    \"data fossil fuels.csv\",\n",
    "    \"data fracking.csv\",\n",
    "    \"data global warming.csv\",\n",
    "]\n",
    "terms = [\n",
    "    \"climate change\",\n",
    "    \"greenhouse gas\",\n",
    "    \"oil\",\n",
    "    \"renewable\",\n",
    "    \"carbon tax\",\n",
    "    \"electric vehicles\",\n",
    "    \"environmental protection agency\",\n",
    "    \"fossil fuels\",\n",
    "    \"fracking\",\n",
    "    \"global warming\",\n",
    "]"
   ]
  },
  {
   "cell_type": "code",
   "execution_count": 18,
   "id": "parliamentary-aruba",
   "metadata": {},
   "outputs": [],
   "source": [
    "climate_trends_data = load_climate_data(filenames, terms)"
   ]
  },
  {
   "cell_type": "code",
   "execution_count": 19,
   "id": "objective-chrome",
   "metadata": {},
   "outputs": [
    {
     "data": {
      "text/plain": [
       "Term\n",
       "Date                               0\n",
       "carbon tax                         0\n",
       "climate change                     0\n",
       "electric vehicles                  0\n",
       "environmental protection agency    0\n",
       "fossil fuels                       0\n",
       "fracking                           0\n",
       "global warming                     0\n",
       "greenhouse gas                     0\n",
       "oil                                0\n",
       "renewable                          0\n",
       "dtype: int64"
      ]
     },
     "execution_count": 19,
     "metadata": {},
     "output_type": "execute_result"
    }
   ],
   "source": [
    "climate_trends_data.isna().sum()"
   ]
  },
  {
   "cell_type": "code",
   "execution_count": 20,
   "id": "qualified-forward",
   "metadata": {},
   "outputs": [],
   "source": [
    "term_scaler = StandardScaler()\n",
    "climate_trends_data[terms] = term_scaler.fit_transform(climate_trends_data[terms])"
   ]
  },
  {
   "cell_type": "code",
   "execution_count": 21,
   "id": "embedded-association",
   "metadata": {},
   "outputs": [
    {
     "data": {
      "text/plain": [
       "Term\n",
       "Date                               0\n",
       "carbon tax                         0\n",
       "climate change                     0\n",
       "electric vehicles                  0\n",
       "environmental protection agency    0\n",
       "fossil fuels                       0\n",
       "fracking                           0\n",
       "global warming                     0\n",
       "greenhouse gas                     0\n",
       "oil                                0\n",
       "renewable                          0\n",
       "dtype: int64"
      ]
     },
     "execution_count": 21,
     "metadata": {},
     "output_type": "execute_result"
    }
   ],
   "source": [
    "climate_trends_data.isna().sum()"
   ]
  },
  {
   "cell_type": "code",
   "execution_count": 22,
   "id": "peaceful-healing",
   "metadata": {},
   "outputs": [
    {
     "data": {
      "text/html": [
       "<div>\n",
       "<style scoped>\n",
       "    .dataframe tbody tr th:only-of-type {\n",
       "        vertical-align: middle;\n",
       "    }\n",
       "\n",
       "    .dataframe tbody tr th {\n",
       "        vertical-align: top;\n",
       "    }\n",
       "\n",
       "    .dataframe thead th {\n",
       "        text-align: right;\n",
       "    }\n",
       "</style>\n",
       "<table border=\"1\" class=\"dataframe\">\n",
       "  <thead>\n",
       "    <tr style=\"text-align: right;\">\n",
       "      <th>Term</th>\n",
       "      <th>Date</th>\n",
       "      <th>carbon tax</th>\n",
       "      <th>climate change</th>\n",
       "      <th>electric vehicles</th>\n",
       "      <th>environmental protection agency</th>\n",
       "      <th>fossil fuels</th>\n",
       "      <th>fracking</th>\n",
       "      <th>global warming</th>\n",
       "      <th>greenhouse gas</th>\n",
       "      <th>oil</th>\n",
       "      <th>renewable</th>\n",
       "    </tr>\n",
       "  </thead>\n",
       "  <tbody>\n",
       "    <tr>\n",
       "      <th>0</th>\n",
       "      <td>2015-01-01</td>\n",
       "      <td>-0.788948</td>\n",
       "      <td>-1.295522</td>\n",
       "      <td>-1.139177</td>\n",
       "      <td>-0.382898</td>\n",
       "      <td>-1.226053</td>\n",
       "      <td>-0.117790</td>\n",
       "      <td>-0.752613</td>\n",
       "      <td>0.312173</td>\n",
       "      <td>-2.575343</td>\n",
       "      <td>-1.684594</td>\n",
       "    </tr>\n",
       "    <tr>\n",
       "      <th>1</th>\n",
       "      <td>2015-01-02</td>\n",
       "      <td>-0.635418</td>\n",
       "      <td>-1.421787</td>\n",
       "      <td>-1.139177</td>\n",
       "      <td>-0.382898</td>\n",
       "      <td>-0.801345</td>\n",
       "      <td>-0.117790</td>\n",
       "      <td>-0.272482</td>\n",
       "      <td>2.532143</td>\n",
       "      <td>-0.837891</td>\n",
       "      <td>-1.330134</td>\n",
       "    </tr>\n",
       "    <tr>\n",
       "      <th>2</th>\n",
       "      <td>2015-01-03</td>\n",
       "      <td>-0.635418</td>\n",
       "      <td>-1.169257</td>\n",
       "      <td>-1.006716</td>\n",
       "      <td>-0.382898</td>\n",
       "      <td>-0.942915</td>\n",
       "      <td>-0.117790</td>\n",
       "      <td>-0.656587</td>\n",
       "      <td>0.723279</td>\n",
       "      <td>-0.837891</td>\n",
       "      <td>-1.684594</td>\n",
       "    </tr>\n",
       "    <tr>\n",
       "      <th>3</th>\n",
       "      <td>2015-01-04</td>\n",
       "      <td>-0.788948</td>\n",
       "      <td>-1.169257</td>\n",
       "      <td>-1.072946</td>\n",
       "      <td>-0.382898</td>\n",
       "      <td>0.260424</td>\n",
       "      <td>-0.117790</td>\n",
       "      <td>-0.272482</td>\n",
       "      <td>1.627711</td>\n",
       "      <td>-1.334306</td>\n",
       "      <td>-1.566441</td>\n",
       "    </tr>\n",
       "    <tr>\n",
       "      <th>4</th>\n",
       "      <td>2015-01-05</td>\n",
       "      <td>-0.635418</td>\n",
       "      <td>-0.664196</td>\n",
       "      <td>-0.808024</td>\n",
       "      <td>-0.382898</td>\n",
       "      <td>-0.376638</td>\n",
       "      <td>-0.117790</td>\n",
       "      <td>0.015597</td>\n",
       "      <td>0.805500</td>\n",
       "      <td>0.403146</td>\n",
       "      <td>-0.798443</td>\n",
       "    </tr>\n",
       "    <tr>\n",
       "      <th>...</th>\n",
       "      <td>...</td>\n",
       "      <td>...</td>\n",
       "      <td>...</td>\n",
       "      <td>...</td>\n",
       "      <td>...</td>\n",
       "      <td>...</td>\n",
       "      <td>...</td>\n",
       "      <td>...</td>\n",
       "      <td>...</td>\n",
       "      <td>...</td>\n",
       "      <td>...</td>\n",
       "    </tr>\n",
       "    <tr>\n",
       "      <th>2273</th>\n",
       "      <td>2021-03-23</td>\n",
       "      <td>-0.021297</td>\n",
       "      <td>-0.411665</td>\n",
       "      <td>0.052973</td>\n",
       "      <td>0.616233</td>\n",
       "      <td>0.260424</td>\n",
       "      <td>0.232963</td>\n",
       "      <td>-0.752613</td>\n",
       "      <td>0.229952</td>\n",
       "      <td>-1.334306</td>\n",
       "      <td>0.501244</td>\n",
       "    </tr>\n",
       "    <tr>\n",
       "      <th>2274</th>\n",
       "      <td>2021-03-24</td>\n",
       "      <td>-0.021297</td>\n",
       "      <td>-0.285400</td>\n",
       "      <td>0.251664</td>\n",
       "      <td>1.199059</td>\n",
       "      <td>-0.022714</td>\n",
       "      <td>0.232963</td>\n",
       "      <td>-0.368508</td>\n",
       "      <td>0.476615</td>\n",
       "      <td>-0.837891</td>\n",
       "      <td>0.501244</td>\n",
       "    </tr>\n",
       "    <tr>\n",
       "      <th>2275</th>\n",
       "      <td>2021-03-25</td>\n",
       "      <td>2.281654</td>\n",
       "      <td>-0.285400</td>\n",
       "      <td>0.715278</td>\n",
       "      <td>2.697754</td>\n",
       "      <td>0.260424</td>\n",
       "      <td>0.232963</td>\n",
       "      <td>-0.176456</td>\n",
       "      <td>0.229952</td>\n",
       "      <td>-1.086098</td>\n",
       "      <td>0.501244</td>\n",
       "    </tr>\n",
       "    <tr>\n",
       "      <th>2276</th>\n",
       "      <td>2021-03-26</td>\n",
       "      <td>1.514004</td>\n",
       "      <td>-0.411665</td>\n",
       "      <td>0.582817</td>\n",
       "      <td>0.699494</td>\n",
       "      <td>0.048070</td>\n",
       "      <td>0.232963</td>\n",
       "      <td>-0.656587</td>\n",
       "      <td>0.065510</td>\n",
       "      <td>-0.837891</td>\n",
       "      <td>-0.325830</td>\n",
       "    </tr>\n",
       "    <tr>\n",
       "      <th>2277</th>\n",
       "      <td>2021-03-27</td>\n",
       "      <td>-0.021297</td>\n",
       "      <td>-0.664196</td>\n",
       "      <td>0.582817</td>\n",
       "      <td>-0.382898</td>\n",
       "      <td>-0.872130</td>\n",
       "      <td>-0.117790</td>\n",
       "      <td>-0.752613</td>\n",
       "      <td>-0.427817</td>\n",
       "      <td>-0.589683</td>\n",
       "      <td>-0.798443</td>\n",
       "    </tr>\n",
       "  </tbody>\n",
       "</table>\n",
       "<p>2278 rows × 11 columns</p>\n",
       "</div>"
      ],
      "text/plain": [
       "Term       Date  carbon tax  climate change  electric vehicles  environmental protection agency  fossil fuels  fracking  global warming  greenhouse gas       oil  renewable\n",
       "0    2015-01-01   -0.788948       -1.295522          -1.139177                        -0.382898     -1.226053 -0.117790       -0.752613        0.312173 -2.575343  -1.684594\n",
       "1    2015-01-02   -0.635418       -1.421787          -1.139177                        -0.382898     -0.801345 -0.117790       -0.272482        2.532143 -0.837891  -1.330134\n",
       "2    2015-01-03   -0.635418       -1.169257          -1.006716                        -0.382898     -0.942915 -0.117790       -0.656587        0.723279 -0.837891  -1.684594\n",
       "3    2015-01-04   -0.788948       -1.169257          -1.072946                        -0.382898      0.260424 -0.117790       -0.272482        1.627711 -1.334306  -1.566441\n",
       "4    2015-01-05   -0.635418       -0.664196          -0.808024                        -0.382898     -0.376638 -0.117790        0.015597        0.805500  0.403146  -0.798443\n",
       "...         ...         ...             ...                ...                              ...           ...       ...             ...             ...       ...        ...\n",
       "2273 2021-03-23   -0.021297       -0.411665           0.052973                         0.616233      0.260424  0.232963       -0.752613        0.229952 -1.334306   0.501244\n",
       "2274 2021-03-24   -0.021297       -0.285400           0.251664                         1.199059     -0.022714  0.232963       -0.368508        0.476615 -0.837891   0.501244\n",
       "2275 2021-03-25    2.281654       -0.285400           0.715278                         2.697754      0.260424  0.232963       -0.176456        0.229952 -1.086098   0.501244\n",
       "2276 2021-03-26    1.514004       -0.411665           0.582817                         0.699494      0.048070  0.232963       -0.656587        0.065510 -0.837891  -0.325830\n",
       "2277 2021-03-27   -0.021297       -0.664196           0.582817                        -0.382898     -0.872130 -0.117790       -0.752613       -0.427817 -0.589683  -0.798443\n",
       "\n",
       "[2278 rows x 11 columns]"
      ]
     },
     "execution_count": 22,
     "metadata": {},
     "output_type": "execute_result"
    }
   ],
   "source": [
    "climate_trends_data "
   ]
  },
  {
   "cell_type": "code",
   "execution_count": 23,
   "id": "virtual-beads",
   "metadata": {},
   "outputs": [],
   "source": [
    "num_climate_features = len(climate_trends_data.columns.tolist()) - 1 # minus date"
   ]
  },
  {
   "cell_type": "code",
   "execution_count": 24,
   "id": "senior-window",
   "metadata": {},
   "outputs": [
    {
     "data": {
      "text/plain": [
       "<AxesSubplot:xlabel='Date'>"
      ]
     },
     "execution_count": 24,
     "metadata": {},
     "output_type": "execute_result"
    },
    {
     "data": {
      "image/png": "[encoded data removed]",
      "text/plain": [
       "<Figure size 432x288 with 1 Axes>"
      ]
     },
     "metadata": {
      "needs_background": "light"
     },
     "output_type": "display_data"
    }
   ],
   "source": [
    "climate_trends_data.set_index('Date')['climate change'].plot()"
   ]
  },
  {
   "cell_type": "markdown",
   "id": "interesting-outdoors",
   "metadata": {},
   "source": [
    "### Choose features"
   ]
  },
  {
   "cell_type": "code",
   "execution_count": 25,
   "id": "medical-directive",
   "metadata": {},
   "outputs": [],
   "source": [
    "features = ['Close', 'High',\n",
    " 'Low', 'Open', 'Volume',\n",
    " 'HH', 'LL', 'AV',\n",
    " 'SMA', 'SD', \n",
    "    #'WILLR',\n",
    " 'ATR', 'DMH', 'DML',\n",
    " 'EMA', 'WMA', 'BBHIGH',\n",
    " 'BBLOW', 'PERBHIGH', 'PERBLOW',\n",
    " 'TRIMA', 'RSI', \n",
    "    # 'DX',\n",
    " 'PDI', 'NDI', 'ADX',\n",
    " 'ROC', 'MACD', 'CCI']\n",
    "dataset = dataset[['Ticker', 'Date'] + features]\n",
    "num_features = len(features)"
   ]
  },
  {
   "cell_type": "markdown",
   "id": "alien-rogers",
   "metadata": {},
   "source": [
    "### Normalization\n",
    "We want to normalize the prices, and there are two challenges\n",
    "1. We want to be able to recover performance metrics like RMSE in dollars, so we have to have the saved transforms for closing price to un transform after prediction. \n",
    "2. We will want to normalize each different company differently, because the stocks will be of differing magnitudes\n",
    "3. We only want to fit normalizing model on train and validation"
   ]
  },
  {
   "cell_type": "markdown",
   "id": "friendly-hampton",
   "metadata": {},
   "source": [
    "### Train test split"
   ]
  },
  {
   "cell_type": "code",
   "execution_count": 26,
   "id": "pacific-escape",
   "metadata": {},
   "outputs": [],
   "source": [
    "train = dataset.loc[dataset['Date'] < \"2018-03-01\"]\n",
    "valid = dataset.loc[(dataset['Date'] > \"2018-03-13\") & (dataset['Date'] < \"2019-03-01\")]\n",
    "test = dataset.loc[(dataset['Date'] > \"2019-03-01\") & (dataset['Date'] < \"2020-03-01\")]"
   ]
  },
  {
   "cell_type": "markdown",
   "id": "prospective-petroleum",
   "metadata": {},
   "source": [
    "### Correlations"
   ]
  },
  {
   "cell_type": "code",
   "execution_count": 27,
   "id": "equipped-ceramic",
   "metadata": {},
   "outputs": [],
   "source": [
    "trainvalid = dataset.loc[dataset['Date'] < \"2019-03-01\"]\n",
    "trainvalid = trainvalid.merge(climate_trends_data, on=[\"Date\"], how='left')\n",
    "trainvalid['Target'] = trainvalid['Close'].shift(-predict_length)\n",
    "trainvalid['Change'] = trainvalid['Target'] - trainvalid['Close']"
   ]
  },
  {
   "cell_type": "code",
   "execution_count": 28,
   "id": "dynamic-boards",
   "metadata": {},
   "outputs": [],
   "source": [
    "s = traditional_energy_stocks[0]"
   ]
  },
  {
   "cell_type": "markdown",
   "id": "chief-dance",
   "metadata": {},
   "source": [
    "#### Correlations with google trends stats on change in price"
   ]
  },
  {
   "cell_type": "code",
   "execution_count": 29,
   "id": "endangered-township",
   "metadata": {},
   "outputs": [],
   "source": [
    "cor_by_stock = trainvalid.groupby('Ticker').apply(lambda x: x.corr().loc['Change']).T"
   ]
  },
  {
   "cell_type": "code",
   "execution_count": 30,
   "id": "turned-basketball",
   "metadata": {},
   "outputs": [],
   "source": [
    "terms_cor_by_stock = cor_by_stock.loc[terms]"
   ]
  },
  {
   "cell_type": "code",
   "execution_count": 31,
   "id": "refined-specific",
   "metadata": {},
   "outputs": [
    {
     "data": {
      "text/html": [
       "<style  type=\"text/css\" >\n",
       "#T_8e498_row1_col0,#T_8e498_row2_col0,#T_8e498_row4_col0,#T_8e498_row5_col1,#T_8e498_row5_col4,#T_8e498_row5_col6,#T_8e498_row5_col7,#T_8e498_row7_col0,#T_8e498_row9_col6,#T_8e498_row9_col7{\n",
       "            background:  yellow;\n",
       "        }</style><table id=\"T_8e498_\" ><thead>    <tr>        <th class=\"index_name level0\" >Ticker</th>        <th class=\"col_heading level0 col0\" >AYRO</th>        <th class=\"col_heading level0 col1\" >BLDP</th>        <th class=\"col_heading level0 col2\" >BLNK</th>        <th class=\"col_heading level0 col3\" >KNDI</th>        <th class=\"col_heading level0 col4\" >LAC</th>        <th class=\"col_heading level0 col5\" >MG</th>        <th class=\"col_heading level0 col6\" >NFI.TO</th>        <th class=\"col_heading level0 col7\" >TSLA</th>        <th class=\"col_heading level0 col8\" >WKHS</th>    </tr>    <tr>        <th class=\"index_name level0\" >Change</th>        <th class=\"blank\" ></th>        <th class=\"blank\" ></th>        <th class=\"blank\" ></th>        <th class=\"blank\" ></th>        <th class=\"blank\" ></th>        <th class=\"blank\" ></th>        <th class=\"blank\" ></th>        <th class=\"blank\" ></th>        <th class=\"blank\" ></th>    </tr></thead><tbody>\n",
       "                <tr>\n",
       "                        <th id=\"T_8e498_level0_row0\" class=\"row_heading level0 row0\" >climate change</th>\n",
       "                        <td id=\"T_8e498_row0_col0\" class=\"data row0 col0\" >-0.003812</td>\n",
       "                        <td id=\"T_8e498_row0_col1\" class=\"data row0 col1\" >0.021390</td>\n",
       "                        <td id=\"T_8e498_row0_col2\" class=\"data row0 col2\" >-0.021528</td>\n",
       "                        <td id=\"T_8e498_row0_col3\" class=\"data row0 col3\" >0.043305</td>\n",
       "                        <td id=\"T_8e498_row0_col4\" class=\"data row0 col4\" >0.039144</td>\n",
       "                        <td id=\"T_8e498_row0_col5\" class=\"data row0 col5\" >0.028471</td>\n",
       "                        <td id=\"T_8e498_row0_col6\" class=\"data row0 col6\" >0.067587</td>\n",
       "                        <td id=\"T_8e498_row0_col7\" class=\"data row0 col7\" >0.049699</td>\n",
       "                        <td id=\"T_8e498_row0_col8\" class=\"data row0 col8\" >0.010282</td>\n",
       "            </tr>\n",
       "            <tr>\n",
       "                        <th id=\"T_8e498_level0_row1\" class=\"row_heading level0 row1\" >greenhouse gas</th>\n",
       "                        <td id=\"T_8e498_row1_col0\" class=\"data row1 col0\" >-0.235786</td>\n",
       "                        <td id=\"T_8e498_row1_col1\" class=\"data row1 col1\" >-0.006793</td>\n",
       "                        <td id=\"T_8e498_row1_col2\" class=\"data row1 col2\" >0.018624</td>\n",
       "                        <td id=\"T_8e498_row1_col3\" class=\"data row1 col3\" >-0.094279</td>\n",
       "                        <td id=\"T_8e498_row1_col4\" class=\"data row1 col4\" >0.011259</td>\n",
       "                        <td id=\"T_8e498_row1_col5\" class=\"data row1 col5\" >0.007453</td>\n",
       "                        <td id=\"T_8e498_row1_col6\" class=\"data row1 col6\" >0.070105</td>\n",
       "                        <td id=\"T_8e498_row1_col7\" class=\"data row1 col7\" >0.028412</td>\n",
       "                        <td id=\"T_8e498_row1_col8\" class=\"data row1 col8\" >0.007250</td>\n",
       "            </tr>\n",
       "            <tr>\n",
       "                        <th id=\"T_8e498_level0_row2\" class=\"row_heading level0 row2\" >oil</th>\n",
       "                        <td id=\"T_8e498_row2_col0\" class=\"data row2 col0\" >0.134598</td>\n",
       "                        <td id=\"T_8e498_row2_col1\" class=\"data row2 col1\" >0.056159</td>\n",
       "                        <td id=\"T_8e498_row2_col2\" class=\"data row2 col2\" >0.080009</td>\n",
       "                        <td id=\"T_8e498_row2_col3\" class=\"data row2 col3\" >0.003279</td>\n",
       "                        <td id=\"T_8e498_row2_col4\" class=\"data row2 col4\" >0.042016</td>\n",
       "                        <td id=\"T_8e498_row2_col5\" class=\"data row2 col5\" >-0.027372</td>\n",
       "                        <td id=\"T_8e498_row2_col6\" class=\"data row2 col6\" >-0.045476</td>\n",
       "                        <td id=\"T_8e498_row2_col7\" class=\"data row2 col7\" >-0.006936</td>\n",
       "                        <td id=\"T_8e498_row2_col8\" class=\"data row2 col8\" >-0.039958</td>\n",
       "            </tr>\n",
       "            <tr>\n",
       "                        <th id=\"T_8e498_level0_row3\" class=\"row_heading level0 row3\" >renewable</th>\n",
       "                        <td id=\"T_8e498_row3_col0\" class=\"data row3 col0\" >0.066510</td>\n",
       "                        <td id=\"T_8e498_row3_col1\" class=\"data row3 col1\" >0.012005</td>\n",
       "                        <td id=\"T_8e498_row3_col2\" class=\"data row3 col2\" >0.000035</td>\n",
       "                        <td id=\"T_8e498_row3_col3\" class=\"data row3 col3\" >0.053818</td>\n",
       "                        <td id=\"T_8e498_row3_col4\" class=\"data row3 col4\" >0.018333</td>\n",
       "                        <td id=\"T_8e498_row3_col5\" class=\"data row3 col5\" >-0.006488</td>\n",
       "                        <td id=\"T_8e498_row3_col6\" class=\"data row3 col6\" >0.073291</td>\n",
       "                        <td id=\"T_8e498_row3_col7\" class=\"data row3 col7\" >0.029314</td>\n",
       "                        <td id=\"T_8e498_row3_col8\" class=\"data row3 col8\" >-0.038872</td>\n",
       "            </tr>\n",
       "            <tr>\n",
       "                        <th id=\"T_8e498_level0_row4\" class=\"row_heading level0 row4\" >carbon tax</th>\n",
       "                        <td id=\"T_8e498_row4_col0\" class=\"data row4 col0\" >0.119722</td>\n",
       "                        <td id=\"T_8e498_row4_col1\" class=\"data row4 col1\" >0.005909</td>\n",
       "                        <td id=\"T_8e498_row4_col2\" class=\"data row4 col2\" >-0.015229</td>\n",
       "                        <td id=\"T_8e498_row4_col3\" class=\"data row4 col3\" >0.018078</td>\n",
       "                        <td id=\"T_8e498_row4_col4\" class=\"data row4 col4\" >0.019162</td>\n",
       "                        <td id=\"T_8e498_row4_col5\" class=\"data row4 col5\" >-0.079718</td>\n",
       "                        <td id=\"T_8e498_row4_col6\" class=\"data row4 col6\" >0.028211</td>\n",
       "                        <td id=\"T_8e498_row4_col7\" class=\"data row4 col7\" >0.076139</td>\n",
       "                        <td id=\"T_8e498_row4_col8\" class=\"data row4 col8\" >-0.097935</td>\n",
       "            </tr>\n",
       "            <tr>\n",
       "                        <th id=\"T_8e498_level0_row5\" class=\"row_heading level0 row5\" >electric vehicles</th>\n",
       "                        <td id=\"T_8e498_row5_col0\" class=\"data row5 col0\" >0.030906</td>\n",
       "                        <td id=\"T_8e498_row5_col1\" class=\"data row5 col1\" >0.136932</td>\n",
       "                        <td id=\"T_8e498_row5_col2\" class=\"data row5 col2\" >0.036370</td>\n",
       "                        <td id=\"T_8e498_row5_col3\" class=\"data row5 col3\" >0.008872</td>\n",
       "                        <td id=\"T_8e498_row5_col4\" class=\"data row5 col4\" >0.117889</td>\n",
       "                        <td id=\"T_8e498_row5_col5\" class=\"data row5 col5\" >-0.092801</td>\n",
       "                        <td id=\"T_8e498_row5_col6\" class=\"data row5 col6\" >-0.126481</td>\n",
       "                        <td id=\"T_8e498_row5_col7\" class=\"data row5 col7\" >-0.119178</td>\n",
       "                        <td id=\"T_8e498_row5_col8\" class=\"data row5 col8\" >-0.026184</td>\n",
       "            </tr>\n",
       "            <tr>\n",
       "                        <th id=\"T_8e498_level0_row6\" class=\"row_heading level0 row6\" >environmental protection agency</th>\n",
       "                        <td id=\"T_8e498_row6_col0\" class=\"data row6 col0\" >nan</td>\n",
       "                        <td id=\"T_8e498_row6_col1\" class=\"data row6 col1\" >nan</td>\n",
       "                        <td id=\"T_8e498_row6_col2\" class=\"data row6 col2\" >nan</td>\n",
       "                        <td id=\"T_8e498_row6_col3\" class=\"data row6 col3\" >nan</td>\n",
       "                        <td id=\"T_8e498_row6_col4\" class=\"data row6 col4\" >nan</td>\n",
       "                        <td id=\"T_8e498_row6_col5\" class=\"data row6 col5\" >nan</td>\n",
       "                        <td id=\"T_8e498_row6_col6\" class=\"data row6 col6\" >nan</td>\n",
       "                        <td id=\"T_8e498_row6_col7\" class=\"data row6 col7\" >nan</td>\n",
       "                        <td id=\"T_8e498_row6_col8\" class=\"data row6 col8\" >nan</td>\n",
       "            </tr>\n",
       "            <tr>\n",
       "                        <th id=\"T_8e498_level0_row7\" class=\"row_heading level0 row7\" >fossil fuels</th>\n",
       "                        <td id=\"T_8e498_row7_col0\" class=\"data row7 col0\" >-0.111335</td>\n",
       "                        <td id=\"T_8e498_row7_col1\" class=\"data row7 col1\" >0.026394</td>\n",
       "                        <td id=\"T_8e498_row7_col2\" class=\"data row7 col2\" >-0.008720</td>\n",
       "                        <td id=\"T_8e498_row7_col3\" class=\"data row7 col3\" >0.038322</td>\n",
       "                        <td id=\"T_8e498_row7_col4\" class=\"data row7 col4\" >0.026178</td>\n",
       "                        <td id=\"T_8e498_row7_col5\" class=\"data row7 col5\" >-0.013007</td>\n",
       "                        <td id=\"T_8e498_row7_col6\" class=\"data row7 col6\" >0.001848</td>\n",
       "                        <td id=\"T_8e498_row7_col7\" class=\"data row7 col7\" >-0.030323</td>\n",
       "                        <td id=\"T_8e498_row7_col8\" class=\"data row7 col8\" >0.042350</td>\n",
       "            </tr>\n",
       "            <tr>\n",
       "                        <th id=\"T_8e498_level0_row8\" class=\"row_heading level0 row8\" >fracking</th>\n",
       "                        <td id=\"T_8e498_row8_col0\" class=\"data row8 col0\" >nan</td>\n",
       "                        <td id=\"T_8e498_row8_col1\" class=\"data row8 col1\" >nan</td>\n",
       "                        <td id=\"T_8e498_row8_col2\" class=\"data row8 col2\" >nan</td>\n",
       "                        <td id=\"T_8e498_row8_col3\" class=\"data row8 col3\" >nan</td>\n",
       "                        <td id=\"T_8e498_row8_col4\" class=\"data row8 col4\" >nan</td>\n",
       "                        <td id=\"T_8e498_row8_col5\" class=\"data row8 col5\" >nan</td>\n",
       "                        <td id=\"T_8e498_row8_col6\" class=\"data row8 col6\" >nan</td>\n",
       "                        <td id=\"T_8e498_row8_col7\" class=\"data row8 col7\" >nan</td>\n",
       "                        <td id=\"T_8e498_row8_col8\" class=\"data row8 col8\" >nan</td>\n",
       "            </tr>\n",
       "            <tr>\n",
       "                        <th id=\"T_8e498_level0_row9\" class=\"row_heading level0 row9\" >global warming</th>\n",
       "                        <td id=\"T_8e498_row9_col0\" class=\"data row9 col0\" >-0.019200</td>\n",
       "                        <td id=\"T_8e498_row9_col1\" class=\"data row9 col1\" >-0.028130</td>\n",
       "                        <td id=\"T_8e498_row9_col2\" class=\"data row9 col2\" >-0.036470</td>\n",
       "                        <td id=\"T_8e498_row9_col3\" class=\"data row9 col3\" >0.028884</td>\n",
       "                        <td id=\"T_8e498_row9_col4\" class=\"data row9 col4\" >-0.008154</td>\n",
       "                        <td id=\"T_8e498_row9_col5\" class=\"data row9 col5\" >0.067527</td>\n",
       "                        <td id=\"T_8e498_row9_col6\" class=\"data row9 col6\" >0.133913</td>\n",
       "                        <td id=\"T_8e498_row9_col7\" class=\"data row9 col7\" >0.110086</td>\n",
       "                        <td id=\"T_8e498_row9_col8\" class=\"data row9 col8\" >0.003811</td>\n",
       "            </tr>\n",
       "    </tbody></table>"
      ],
      "text/plain": [
       "<pandas.io.formats.style.Styler at 0x22de7408fd0>"
      ]
     },
     "execution_count": 31,
     "metadata": {},
     "output_type": "execute_result"
    }
   ],
   "source": [
    "terms_cor_by_stock.style.apply(lambda x: [\"background: yellow\" if abs(v) > 0.1 else \"\" for v in x], axis = 1)"
   ]
  },
  {
   "cell_type": "code",
   "execution_count": 32,
   "id": "greek-butter",
   "metadata": {},
   "outputs": [],
   "source": [
    "trends_cors = abs(terms_cor_by_stock).mean(axis=1).sort_values(ascending=False)\n",
    "trends_cors.name = \"Mean Absolute Pearson Correlation to Change\"\n",
    "trends_cors.index.name = \"Feature\""
   ]
  },
  {
   "cell_type": "code",
   "execution_count": 33,
   "id": "appointed-programmer",
   "metadata": {},
   "outputs": [
    {
     "data": {
      "text/html": [
       "<div>\n",
       "<style scoped>\n",
       "    .dataframe tbody tr th:only-of-type {\n",
       "        vertical-align: middle;\n",
       "    }\n",
       "\n",
       "    .dataframe tbody tr th {\n",
       "        vertical-align: top;\n",
       "    }\n",
       "\n",
       "    .dataframe thead th {\n",
       "        text-align: right;\n",
       "    }\n",
       "</style>\n",
       "<table border=\"1\" class=\"dataframe\">\n",
       "  <thead>\n",
       "    <tr style=\"text-align: right;\">\n",
       "      <th></th>\n",
       "      <th>Mean Absolute Pearson Correlation to Change</th>\n",
       "    </tr>\n",
       "    <tr>\n",
       "      <th>Feature</th>\n",
       "      <th></th>\n",
       "    </tr>\n",
       "  </thead>\n",
       "  <tbody>\n",
       "    <tr>\n",
       "      <th>electric vehicles</th>\n",
       "      <td>0.077290</td>\n",
       "    </tr>\n",
       "    <tr>\n",
       "      <th>greenhouse gas</th>\n",
       "      <td>0.053329</td>\n",
       "    </tr>\n",
       "    <tr>\n",
       "      <th>carbon tax</th>\n",
       "      <td>0.051122</td>\n",
       "    </tr>\n",
       "    <tr>\n",
       "      <th>global warming</th>\n",
       "      <td>0.048464</td>\n",
       "    </tr>\n",
       "    <tr>\n",
       "      <th>oil</th>\n",
       "      <td>0.048423</td>\n",
       "    </tr>\n",
       "    <tr>\n",
       "      <th>renewable</th>\n",
       "      <td>0.033185</td>\n",
       "    </tr>\n",
       "    <tr>\n",
       "      <th>fossil fuels</th>\n",
       "      <td>0.033164</td>\n",
       "    </tr>\n",
       "    <tr>\n",
       "      <th>climate change</th>\n",
       "      <td>0.031691</td>\n",
       "    </tr>\n",
       "    <tr>\n",
       "      <th>environmental protection agency</th>\n",
       "      <td>NaN</td>\n",
       "    </tr>\n",
       "    <tr>\n",
       "      <th>fracking</th>\n",
       "      <td>NaN</td>\n",
       "    </tr>\n",
       "  </tbody>\n",
       "</table>\n",
       "</div>"
      ],
      "text/plain": [
       "                                 Mean Absolute Pearson Correlation to Change\n",
       "Feature                                                                     \n",
       "electric vehicles                                                   0.077290\n",
       "greenhouse gas                                                      0.053329\n",
       "carbon tax                                                          0.051122\n",
       "global warming                                                      0.048464\n",
       "oil                                                                 0.048423\n",
       "renewable                                                           0.033185\n",
       "fossil fuels                                                        0.033164\n",
       "climate change                                                      0.031691\n",
       "environmental protection agency                                          NaN\n",
       "fracking                                                                 NaN"
      ]
     },
     "execution_count": 33,
     "metadata": {},
     "output_type": "execute_result"
    }
   ],
   "source": [
    "pd.DataFrame(trends_cors)"
   ]
  },
  {
   "cell_type": "code",
   "execution_count": 34,
   "id": "pleased-lease",
   "metadata": {},
   "outputs": [],
   "source": [
    "best_trends_features = trends_cors.index.tolist()[:8]"
   ]
  },
  {
   "cell_type": "code",
   "execution_count": 35,
   "id": "blocked-contrary",
   "metadata": {},
   "outputs": [
    {
     "data": {
      "text/plain": [
       "['electric vehicles',\n",
       " 'greenhouse gas',\n",
       " 'carbon tax',\n",
       " 'global warming',\n",
       " 'oil',\n",
       " 'renewable',\n",
       " 'fossil fuels',\n",
       " 'climate change']"
      ]
     },
     "execution_count": 35,
     "metadata": {},
     "output_type": "execute_result"
    }
   ],
   "source": [
    "best_trends_features"
   ]
  },
  {
   "cell_type": "markdown",
   "id": "atlantic-reason",
   "metadata": {},
   "source": [
    "#### Correlations with technical indicators to change in price"
   ]
  },
  {
   "cell_type": "code",
   "execution_count": 36,
   "id": "departmental-thumbnail",
   "metadata": {},
   "outputs": [],
   "source": [
    "cor_by_stock = trainvalid.groupby('Ticker').apply(lambda x: x.corr().loc['Change']).T\n",
    "terms_cor_by_stock = cor_by_stock.loc[features]"
   ]
  },
  {
   "cell_type": "code",
   "execution_count": 37,
   "id": "split-fighter",
   "metadata": {},
   "outputs": [
    {
     "data": {
      "text/html": [
       "<style  type=\"text/css\" >\n",
       "#T_d169a_row0_col0,#T_d169a_row0_col2,#T_d169a_row0_col3,#T_d169a_row0_col5,#T_d169a_row0_col6,#T_d169a_row0_col7,#T_d169a_row0_col8,#T_d169a_row1_col0,#T_d169a_row1_col2,#T_d169a_row1_col3,#T_d169a_row1_col5,#T_d169a_row1_col6,#T_d169a_row1_col7,#T_d169a_row1_col8,#T_d169a_row2_col0,#T_d169a_row2_col2,#T_d169a_row2_col3,#T_d169a_row2_col5,#T_d169a_row2_col6,#T_d169a_row2_col7,#T_d169a_row2_col8,#T_d169a_row3_col0,#T_d169a_row3_col2,#T_d169a_row3_col3,#T_d169a_row3_col5,#T_d169a_row3_col6,#T_d169a_row3_col7,#T_d169a_row3_col8,#T_d169a_row4_col0,#T_d169a_row4_col3,#T_d169a_row5_col0,#T_d169a_row5_col2,#T_d169a_row5_col3,#T_d169a_row5_col6,#T_d169a_row5_col7,#T_d169a_row5_col8,#T_d169a_row6_col0,#T_d169a_row6_col2,#T_d169a_row6_col3,#T_d169a_row6_col5,#T_d169a_row6_col6,#T_d169a_row6_col7,#T_d169a_row6_col8,#T_d169a_row7_col3,#T_d169a_row7_col5,#T_d169a_row8_col0,#T_d169a_row8_col2,#T_d169a_row8_col3,#T_d169a_row8_col6,#T_d169a_row8_col7,#T_d169a_row8_col8,#T_d169a_row9_col0,#T_d169a_row9_col3,#T_d169a_row10_col0,#T_d169a_row10_col2,#T_d169a_row10_col3,#T_d169a_row11_col0,#T_d169a_row12_col0,#T_d169a_row13_col0,#T_d169a_row13_col2,#T_d169a_row13_col3,#T_d169a_row13_col6,#T_d169a_row13_col7,#T_d169a_row13_col8,#T_d169a_row14_col0,#T_d169a_row14_col2,#T_d169a_row14_col3,#T_d169a_row14_col6,#T_d169a_row14_col7,#T_d169a_row14_col8,#T_d169a_row15_col0,#T_d169a_row15_col2,#T_d169a_row15_col3,#T_d169a_row15_col6,#T_d169a_row15_col8,#T_d169a_row16_col0,#T_d169a_row16_col2,#T_d169a_row16_col3,#T_d169a_row16_col5,#T_d169a_row16_col6,#T_d169a_row16_col7,#T_d169a_row16_col8,#T_d169a_row17_col0,#T_d169a_row18_col0,#T_d169a_row19_col0,#T_d169a_row19_col2,#T_d169a_row19_col3,#T_d169a_row19_col6,#T_d169a_row19_col7,#T_d169a_row19_col8,#T_d169a_row20_col4,#T_d169a_row23_col0,#T_d169a_row23_col6,#T_d169a_row24_col0,#T_d169a_row24_col3,#T_d169a_row24_col6,#T_d169a_row25_col2,#T_d169a_row25_col3,#T_d169a_row25_col6{\n",
       "            background:  yellow;\n",
       "        }</style><table id=\"T_d169a_\" ><thead>    <tr>        <th class=\"index_name level0\" >Ticker</th>        <th class=\"col_heading level0 col0\" >AYRO</th>        <th class=\"col_heading level0 col1\" >BLDP</th>        <th class=\"col_heading level0 col2\" >BLNK</th>        <th class=\"col_heading level0 col3\" >KNDI</th>        <th class=\"col_heading level0 col4\" >LAC</th>        <th class=\"col_heading level0 col5\" >MG</th>        <th class=\"col_heading level0 col6\" >NFI.TO</th>        <th class=\"col_heading level0 col7\" >TSLA</th>        <th class=\"col_heading level0 col8\" >WKHS</th>    </tr>    <tr>        <th class=\"index_name level0\" >Change</th>        <th class=\"blank\" ></th>        <th class=\"blank\" ></th>        <th class=\"blank\" ></th>        <th class=\"blank\" ></th>        <th class=\"blank\" ></th>        <th class=\"blank\" ></th>        <th class=\"blank\" ></th>        <th class=\"blank\" ></th>        <th class=\"blank\" ></th>    </tr></thead><tbody>\n",
       "                <tr>\n",
       "                        <th id=\"T_d169a_level0_row0\" class=\"row_heading level0 row0\" >Close</th>\n",
       "                        <td id=\"T_d169a_row0_col0\" class=\"data row0 col0\" >-0.341468</td>\n",
       "                        <td id=\"T_d169a_row0_col1\" class=\"data row0 col1\" >0.050420</td>\n",
       "                        <td id=\"T_d169a_row0_col2\" class=\"data row0 col2\" >-0.190081</td>\n",
       "                        <td id=\"T_d169a_row0_col3\" class=\"data row0 col3\" >-0.228667</td>\n",
       "                        <td id=\"T_d169a_row0_col4\" class=\"data row0 col4\" >-0.045984</td>\n",
       "                        <td id=\"T_d169a_row0_col5\" class=\"data row0 col5\" >-0.110396</td>\n",
       "                        <td id=\"T_d169a_row0_col6\" class=\"data row0 col6\" >-0.134298</td>\n",
       "                        <td id=\"T_d169a_row0_col7\" class=\"data row0 col7\" >-0.140503</td>\n",
       "                        <td id=\"T_d169a_row0_col8\" class=\"data row0 col8\" >-0.115480</td>\n",
       "            </tr>\n",
       "            <tr>\n",
       "                        <th id=\"T_d169a_level0_row1\" class=\"row_heading level0 row1\" >High</th>\n",
       "                        <td id=\"T_d169a_row1_col0\" class=\"data row1 col0\" >-0.358146</td>\n",
       "                        <td id=\"T_d169a_row1_col1\" class=\"data row1 col1\" >0.048408</td>\n",
       "                        <td id=\"T_d169a_row1_col2\" class=\"data row1 col2\" >-0.176478</td>\n",
       "                        <td id=\"T_d169a_row1_col3\" class=\"data row1 col3\" >-0.230858</td>\n",
       "                        <td id=\"T_d169a_row1_col4\" class=\"data row1 col4\" >-0.045926</td>\n",
       "                        <td id=\"T_d169a_row1_col5\" class=\"data row1 col5\" >-0.108788</td>\n",
       "                        <td id=\"T_d169a_row1_col6\" class=\"data row1 col6\" >-0.134078</td>\n",
       "                        <td id=\"T_d169a_row1_col7\" class=\"data row1 col7\" >-0.136025</td>\n",
       "                        <td id=\"T_d169a_row1_col8\" class=\"data row1 col8\" >-0.122790</td>\n",
       "            </tr>\n",
       "            <tr>\n",
       "                        <th id=\"T_d169a_level0_row2\" class=\"row_heading level0 row2\" >Low</th>\n",
       "                        <td id=\"T_d169a_row2_col0\" class=\"data row2 col0\" >-0.317284</td>\n",
       "                        <td id=\"T_d169a_row2_col1\" class=\"data row2 col1\" >0.052915</td>\n",
       "                        <td id=\"T_d169a_row2_col2\" class=\"data row2 col2\" >-0.191488</td>\n",
       "                        <td id=\"T_d169a_row2_col3\" class=\"data row2 col3\" >-0.229266</td>\n",
       "                        <td id=\"T_d169a_row2_col4\" class=\"data row2 col4\" >-0.045913</td>\n",
       "                        <td id=\"T_d169a_row2_col5\" class=\"data row2 col5\" >-0.107398</td>\n",
       "                        <td id=\"T_d169a_row2_col6\" class=\"data row2 col6\" >-0.134870</td>\n",
       "                        <td id=\"T_d169a_row2_col7\" class=\"data row2 col7\" >-0.141124</td>\n",
       "                        <td id=\"T_d169a_row2_col8\" class=\"data row2 col8\" >-0.110956</td>\n",
       "            </tr>\n",
       "            <tr>\n",
       "                        <th id=\"T_d169a_level0_row3\" class=\"row_heading level0 row3\" >Open</th>\n",
       "                        <td id=\"T_d169a_row3_col0\" class=\"data row3 col0\" >-0.320584</td>\n",
       "                        <td id=\"T_d169a_row3_col1\" class=\"data row3 col1\" >0.049727</td>\n",
       "                        <td id=\"T_d169a_row3_col2\" class=\"data row3 col2\" >-0.182904</td>\n",
       "                        <td id=\"T_d169a_row3_col3\" class=\"data row3 col3\" >-0.230751</td>\n",
       "                        <td id=\"T_d169a_row3_col4\" class=\"data row3 col4\" >-0.045695</td>\n",
       "                        <td id=\"T_d169a_row3_col5\" class=\"data row3 col5\" >-0.102210</td>\n",
       "                        <td id=\"T_d169a_row3_col6\" class=\"data row3 col6\" >-0.133833</td>\n",
       "                        <td id=\"T_d169a_row3_col7\" class=\"data row3 col7\" >-0.135729</td>\n",
       "                        <td id=\"T_d169a_row3_col8\" class=\"data row3 col8\" >-0.117142</td>\n",
       "            </tr>\n",
       "            <tr>\n",
       "                        <th id=\"T_d169a_level0_row4\" class=\"row_heading level0 row4\" >Volume</th>\n",
       "                        <td id=\"T_d169a_row4_col0\" class=\"data row4 col0\" >-0.119872</td>\n",
       "                        <td id=\"T_d169a_row4_col1\" class=\"data row4 col1\" >-0.037466</td>\n",
       "                        <td id=\"T_d169a_row4_col2\" class=\"data row4 col2\" >0.024241</td>\n",
       "                        <td id=\"T_d169a_row4_col3\" class=\"data row4 col3\" >-0.142949</td>\n",
       "                        <td id=\"T_d169a_row4_col4\" class=\"data row4 col4\" >0.007598</td>\n",
       "                        <td id=\"T_d169a_row4_col5\" class=\"data row4 col5\" >0.059106</td>\n",
       "                        <td id=\"T_d169a_row4_col6\" class=\"data row4 col6\" >-0.026484</td>\n",
       "                        <td id=\"T_d169a_row4_col7\" class=\"data row4 col7\" >0.011174</td>\n",
       "                        <td id=\"T_d169a_row4_col8\" class=\"data row4 col8\" >-0.081664</td>\n",
       "            </tr>\n",
       "            <tr>\n",
       "                        <th id=\"T_d169a_level0_row5\" class=\"row_heading level0 row5\" >HH</th>\n",
       "                        <td id=\"T_d169a_row5_col0\" class=\"data row5 col0\" >-0.349341</td>\n",
       "                        <td id=\"T_d169a_row5_col1\" class=\"data row5 col1\" >0.038267</td>\n",
       "                        <td id=\"T_d169a_row5_col2\" class=\"data row5 col2\" >-0.174359</td>\n",
       "                        <td id=\"T_d169a_row5_col3\" class=\"data row5 col3\" >-0.221016</td>\n",
       "                        <td id=\"T_d169a_row5_col4\" class=\"data row5 col4\" >-0.050117</td>\n",
       "                        <td id=\"T_d169a_row5_col5\" class=\"data row5 col5\" >-0.076960</td>\n",
       "                        <td id=\"T_d169a_row5_col6\" class=\"data row5 col6\" >-0.135559</td>\n",
       "                        <td id=\"T_d169a_row5_col7\" class=\"data row5 col7\" >-0.105320</td>\n",
       "                        <td id=\"T_d169a_row5_col8\" class=\"data row5 col8\" >-0.106233</td>\n",
       "            </tr>\n",
       "            <tr>\n",
       "                        <th id=\"T_d169a_level0_row6\" class=\"row_heading level0 row6\" >LL</th>\n",
       "                        <td id=\"T_d169a_row6_col0\" class=\"data row6 col0\" >-0.288494</td>\n",
       "                        <td id=\"T_d169a_row6_col1\" class=\"data row6 col1\" >0.046262</td>\n",
       "                        <td id=\"T_d169a_row6_col2\" class=\"data row6 col2\" >-0.186524</td>\n",
       "                        <td id=\"T_d169a_row6_col3\" class=\"data row6 col3\" >-0.186478</td>\n",
       "                        <td id=\"T_d169a_row6_col4\" class=\"data row6 col4\" >-0.048941</td>\n",
       "                        <td id=\"T_d169a_row6_col5\" class=\"data row6 col5\" >-0.104074</td>\n",
       "                        <td id=\"T_d169a_row6_col6\" class=\"data row6 col6\" >-0.138419</td>\n",
       "                        <td id=\"T_d169a_row6_col7\" class=\"data row6 col7\" >-0.137146</td>\n",
       "                        <td id=\"T_d169a_row6_col8\" class=\"data row6 col8\" >-0.106243</td>\n",
       "            </tr>\n",
       "            <tr>\n",
       "                        <th id=\"T_d169a_level0_row7\" class=\"row_heading level0 row7\" >AV</th>\n",
       "                        <td id=\"T_d169a_row7_col0\" class=\"data row7 col0\" >-0.059137</td>\n",
       "                        <td id=\"T_d169a_row7_col1\" class=\"data row7 col1\" >-0.046067</td>\n",
       "                        <td id=\"T_d169a_row7_col2\" class=\"data row7 col2\" >0.038665</td>\n",
       "                        <td id=\"T_d169a_row7_col3\" class=\"data row7 col3\" >-0.453688</td>\n",
       "                        <td id=\"T_d169a_row7_col4\" class=\"data row7 col4\" >0.022302</td>\n",
       "                        <td id=\"T_d169a_row7_col5\" class=\"data row7 col5\" >0.158174</td>\n",
       "                        <td id=\"T_d169a_row7_col6\" class=\"data row7 col6\" >-0.062322</td>\n",
       "                        <td id=\"T_d169a_row7_col7\" class=\"data row7 col7\" >-0.008715</td>\n",
       "                        <td id=\"T_d169a_row7_col8\" class=\"data row7 col8\" >-0.039780</td>\n",
       "            </tr>\n",
       "            <tr>\n",
       "                        <th id=\"T_d169a_level0_row8\" class=\"row_heading level0 row8\" >SMA</th>\n",
       "                        <td id=\"T_d169a_row8_col0\" class=\"data row8 col0\" >-0.312749</td>\n",
       "                        <td id=\"T_d169a_row8_col1\" class=\"data row8 col1\" >0.046378</td>\n",
       "                        <td id=\"T_d169a_row8_col2\" class=\"data row8 col2\" >-0.185635</td>\n",
       "                        <td id=\"T_d169a_row8_col3\" class=\"data row8 col3\" >-0.188949</td>\n",
       "                        <td id=\"T_d169a_row8_col4\" class=\"data row8 col4\" >-0.054603</td>\n",
       "                        <td id=\"T_d169a_row8_col5\" class=\"data row8 col5\" >-0.090998</td>\n",
       "                        <td id=\"T_d169a_row8_col6\" class=\"data row8 col6\" >-0.139476</td>\n",
       "                        <td id=\"T_d169a_row8_col7\" class=\"data row8 col7\" >-0.121376</td>\n",
       "                        <td id=\"T_d169a_row8_col8\" class=\"data row8 col8\" >-0.106556</td>\n",
       "            </tr>\n",
       "            <tr>\n",
       "                        <th id=\"T_d169a_level0_row9\" class=\"row_heading level0 row9\" >SD</th>\n",
       "                        <td id=\"T_d169a_row9_col0\" class=\"data row9 col0\" >-0.422633</td>\n",
       "                        <td id=\"T_d169a_row9_col1\" class=\"data row9 col1\" >0.017217</td>\n",
       "                        <td id=\"T_d169a_row9_col2\" class=\"data row9 col2\" >-0.041793</td>\n",
       "                        <td id=\"T_d169a_row9_col3\" class=\"data row9 col3\" >-0.182720</td>\n",
       "                        <td id=\"T_d169a_row9_col4\" class=\"data row9 col4\" >-0.025005</td>\n",
       "                        <td id=\"T_d169a_row9_col5\" class=\"data row9 col5\" >0.073014</td>\n",
       "                        <td id=\"T_d169a_row9_col6\" class=\"data row9 col6\" >-0.009040</td>\n",
       "                        <td id=\"T_d169a_row9_col7\" class=\"data row9 col7\" >0.050176</td>\n",
       "                        <td id=\"T_d169a_row9_col8\" class=\"data row9 col8\" >-0.075047</td>\n",
       "            </tr>\n",
       "            <tr>\n",
       "                        <th id=\"T_d169a_level0_row10\" class=\"row_heading level0 row10\" >ATR</th>\n",
       "                        <td id=\"T_d169a_row10_col0\" class=\"data row10 col0\" >-0.408869</td>\n",
       "                        <td id=\"T_d169a_row10_col1\" class=\"data row10 col1\" >-0.002216</td>\n",
       "                        <td id=\"T_d169a_row10_col2\" class=\"data row10 col2\" >-0.143794</td>\n",
       "                        <td id=\"T_d169a_row10_col3\" class=\"data row10 col3\" >-0.164450</td>\n",
       "                        <td id=\"T_d169a_row10_col4\" class=\"data row10 col4\" >-0.071140</td>\n",
       "                        <td id=\"T_d169a_row10_col5\" class=\"data row10 col5\" >0.036646</td>\n",
       "                        <td id=\"T_d169a_row10_col6\" class=\"data row10 col6\" >-0.085422</td>\n",
       "                        <td id=\"T_d169a_row10_col7\" class=\"data row10 col7\" >-0.018755</td>\n",
       "                        <td id=\"T_d169a_row10_col8\" class=\"data row10 col8\" >-0.070451</td>\n",
       "            </tr>\n",
       "            <tr>\n",
       "                        <th id=\"T_d169a_level0_row11\" class=\"row_heading level0 row11\" >DMH</th>\n",
       "                        <td id=\"T_d169a_row11_col0\" class=\"data row11 col0\" >-0.183818</td>\n",
       "                        <td id=\"T_d169a_row11_col1\" class=\"data row11 col1\" >-0.015147</td>\n",
       "                        <td id=\"T_d169a_row11_col2\" class=\"data row11 col2\" >0.021467</td>\n",
       "                        <td id=\"T_d169a_row11_col3\" class=\"data row11 col3\" >0.029564</td>\n",
       "                        <td id=\"T_d169a_row11_col4\" class=\"data row11 col4\" >-0.024543</td>\n",
       "                        <td id=\"T_d169a_row11_col5\" class=\"data row11 col5\" >-0.065259</td>\n",
       "                        <td id=\"T_d169a_row11_col6\" class=\"data row11 col6\" >0.012986</td>\n",
       "                        <td id=\"T_d169a_row11_col7\" class=\"data row11 col7\" >-0.049634</td>\n",
       "                        <td id=\"T_d169a_row11_col8\" class=\"data row11 col8\" >-0.047779</td>\n",
       "            </tr>\n",
       "            <tr>\n",
       "                        <th id=\"T_d169a_level0_row12\" class=\"row_heading level0 row12\" >DML</th>\n",
       "                        <td id=\"T_d169a_row12_col0\" class=\"data row12 col0\" >-0.185734</td>\n",
       "                        <td id=\"T_d169a_row12_col1\" class=\"data row12 col1\" >-0.001691</td>\n",
       "                        <td id=\"T_d169a_row12_col2\" class=\"data row12 col2\" >0.025168</td>\n",
       "                        <td id=\"T_d169a_row12_col3\" class=\"data row12 col3\" >0.023827</td>\n",
       "                        <td id=\"T_d169a_row12_col4\" class=\"data row12 col4\" >-0.006506</td>\n",
       "                        <td id=\"T_d169a_row12_col5\" class=\"data row12 col5\" >-0.057622</td>\n",
       "                        <td id=\"T_d169a_row12_col6\" class=\"data row12 col6\" >-0.012522</td>\n",
       "                        <td id=\"T_d169a_row12_col7\" class=\"data row12 col7\" >-0.049616</td>\n",
       "                        <td id=\"T_d169a_row12_col8\" class=\"data row12 col8\" >-0.020636</td>\n",
       "            </tr>\n",
       "            <tr>\n",
       "                        <th id=\"T_d169a_level0_row13\" class=\"row_heading level0 row13\" >EMA</th>\n",
       "                        <td id=\"T_d169a_row13_col0\" class=\"data row13 col0\" >-0.310995</td>\n",
       "                        <td id=\"T_d169a_row13_col1\" class=\"data row13 col1\" >0.047864</td>\n",
       "                        <td id=\"T_d169a_row13_col2\" class=\"data row13 col2\" >-0.185938</td>\n",
       "                        <td id=\"T_d169a_row13_col3\" class=\"data row13 col3\" >-0.199763</td>\n",
       "                        <td id=\"T_d169a_row13_col4\" class=\"data row13 col4\" >-0.052929</td>\n",
       "                        <td id=\"T_d169a_row13_col5\" class=\"data row13 col5\" >-0.093246</td>\n",
       "                        <td id=\"T_d169a_row13_col6\" class=\"data row13 col6\" >-0.139809</td>\n",
       "                        <td id=\"T_d169a_row13_col7\" class=\"data row13 col7\" >-0.124798</td>\n",
       "                        <td id=\"T_d169a_row13_col8\" class=\"data row13 col8\" >-0.109806</td>\n",
       "            </tr>\n",
       "            <tr>\n",
       "                        <th id=\"T_d169a_level0_row14\" class=\"row_heading level0 row14\" >WMA</th>\n",
       "                        <td id=\"T_d169a_row14_col0\" class=\"data row14 col0\" >-0.263164</td>\n",
       "                        <td id=\"T_d169a_row14_col1\" class=\"data row14 col1\" >0.041825</td>\n",
       "                        <td id=\"T_d169a_row14_col2\" class=\"data row14 col2\" >-0.179203</td>\n",
       "                        <td id=\"T_d169a_row14_col3\" class=\"data row14 col3\" >-0.181030</td>\n",
       "                        <td id=\"T_d169a_row14_col4\" class=\"data row14 col4\" >-0.057182</td>\n",
       "                        <td id=\"T_d169a_row14_col5\" class=\"data row14 col5\" >-0.090605</td>\n",
       "                        <td id=\"T_d169a_row14_col6\" class=\"data row14 col6\" >-0.148881</td>\n",
       "                        <td id=\"T_d169a_row14_col7\" class=\"data row14 col7\" >-0.110396</td>\n",
       "                        <td id=\"T_d169a_row14_col8\" class=\"data row14 col8\" >-0.104410</td>\n",
       "            </tr>\n",
       "            <tr>\n",
       "                        <th id=\"T_d169a_level0_row15\" class=\"row_heading level0 row15\" >BBHIGH</th>\n",
       "                        <td id=\"T_d169a_row15_col0\" class=\"data row15 col0\" >-0.381538</td>\n",
       "                        <td id=\"T_d169a_row15_col1\" class=\"data row15 col1\" >0.044533</td>\n",
       "                        <td id=\"T_d169a_row15_col2\" class=\"data row15 col2\" >-0.159658</td>\n",
       "                        <td id=\"T_d169a_row15_col3\" class=\"data row15 col3\" >-0.212185</td>\n",
       "                        <td id=\"T_d169a_row15_col4\" class=\"data row15 col4\" >-0.051876</td>\n",
       "                        <td id=\"T_d169a_row15_col5\" class=\"data row15 col5\" >-0.071079</td>\n",
       "                        <td id=\"T_d169a_row15_col6\" class=\"data row15 col6\" >-0.136669</td>\n",
       "                        <td id=\"T_d169a_row15_col7\" class=\"data row15 col7\" >-0.099384</td>\n",
       "                        <td id=\"T_d169a_row15_col8\" class=\"data row15 col8\" >-0.106243</td>\n",
       "            </tr>\n",
       "            <tr>\n",
       "                        <th id=\"T_d169a_level0_row16\" class=\"row_heading level0 row16\" >BBLOW</th>\n",
       "                        <td id=\"T_d169a_row16_col0\" class=\"data row16 col0\" >-0.284253</td>\n",
       "                        <td id=\"T_d169a_row16_col1\" class=\"data row16 col1\" >0.047345</td>\n",
       "                        <td id=\"T_d169a_row16_col2\" class=\"data row16 col2\" >-0.204420</td>\n",
       "                        <td id=\"T_d169a_row16_col3\" class=\"data row16 col3\" >-0.159600</td>\n",
       "                        <td id=\"T_d169a_row16_col4\" class=\"data row16 col4\" >-0.057234</td>\n",
       "                        <td id=\"T_d169a_row16_col5\" class=\"data row16 col5\" >-0.105818</td>\n",
       "                        <td id=\"T_d169a_row16_col6\" class=\"data row16 col6\" >-0.141436</td>\n",
       "                        <td id=\"T_d169a_row16_col7\" class=\"data row16 col7\" >-0.139972</td>\n",
       "                        <td id=\"T_d169a_row16_col8\" class=\"data row16 col8\" >-0.102184</td>\n",
       "            </tr>\n",
       "            <tr>\n",
       "                        <th id=\"T_d169a_level0_row17\" class=\"row_heading level0 row17\" >PERBHIGH</th>\n",
       "                        <td id=\"T_d169a_row17_col0\" class=\"data row17 col0\" >0.113715</td>\n",
       "                        <td id=\"T_d169a_row17_col1\" class=\"data row17 col1\" >-0.018099</td>\n",
       "                        <td id=\"T_d169a_row17_col2\" class=\"data row17 col2\" >-0.068404</td>\n",
       "                        <td id=\"T_d169a_row17_col3\" class=\"data row17 col3\" >0.025571</td>\n",
       "                        <td id=\"T_d169a_row17_col4\" class=\"data row17 col4\" >-0.032902</td>\n",
       "                        <td id=\"T_d169a_row17_col5\" class=\"data row17 col5\" >-0.070564</td>\n",
       "                        <td id=\"T_d169a_row17_col6\" class=\"data row17 col6\" >-0.029851</td>\n",
       "                        <td id=\"T_d169a_row17_col7\" class=\"data row17 col7\" >-0.086710</td>\n",
       "                        <td id=\"T_d169a_row17_col8\" class=\"data row17 col8\" >0.008582</td>\n",
       "            </tr>\n",
       "            <tr>\n",
       "                        <th id=\"T_d169a_level0_row18\" class=\"row_heading level0 row18\" >PERBLOW</th>\n",
       "                        <td id=\"T_d169a_row18_col0\" class=\"data row18 col0\" >0.113715</td>\n",
       "                        <td id=\"T_d169a_row18_col1\" class=\"data row18 col1\" >-0.018099</td>\n",
       "                        <td id=\"T_d169a_row18_col2\" class=\"data row18 col2\" >-0.068404</td>\n",
       "                        <td id=\"T_d169a_row18_col3\" class=\"data row18 col3\" >0.025571</td>\n",
       "                        <td id=\"T_d169a_row18_col4\" class=\"data row18 col4\" >-0.032902</td>\n",
       "                        <td id=\"T_d169a_row18_col5\" class=\"data row18 col5\" >-0.070564</td>\n",
       "                        <td id=\"T_d169a_row18_col6\" class=\"data row18 col6\" >-0.029851</td>\n",
       "                        <td id=\"T_d169a_row18_col7\" class=\"data row18 col7\" >-0.086710</td>\n",
       "                        <td id=\"T_d169a_row18_col8\" class=\"data row18 col8\" >0.008582</td>\n",
       "            </tr>\n",
       "            <tr>\n",
       "                        <th id=\"T_d169a_level0_row19\" class=\"row_heading level0 row19\" >TRIMA</th>\n",
       "                        <td id=\"T_d169a_row19_col0\" class=\"data row19 col0\" >-0.250794</td>\n",
       "                        <td id=\"T_d169a_row19_col1\" class=\"data row19 col1\" >0.038998</td>\n",
       "                        <td id=\"T_d169a_row19_col2\" class=\"data row19 col2\" >-0.159537</td>\n",
       "                        <td id=\"T_d169a_row19_col3\" class=\"data row19 col3\" >-0.173614</td>\n",
       "                        <td id=\"T_d169a_row19_col4\" class=\"data row19 col4\" >-0.055920</td>\n",
       "                        <td id=\"T_d169a_row19_col5\" class=\"data row19 col5\" >-0.089869</td>\n",
       "                        <td id=\"T_d169a_row19_col6\" class=\"data row19 col6\" >-0.153162</td>\n",
       "                        <td id=\"T_d169a_row19_col7\" class=\"data row19 col7\" >-0.102595</td>\n",
       "                        <td id=\"T_d169a_row19_col8\" class=\"data row19 col8\" >-0.112618</td>\n",
       "            </tr>\n",
       "            <tr>\n",
       "                        <th id=\"T_d169a_level0_row20\" class=\"row_heading level0 row20\" >RSI</th>\n",
       "                        <td id=\"T_d169a_row20_col0\" class=\"data row20 col0\" >-0.070367</td>\n",
       "                        <td id=\"T_d169a_row20_col1\" class=\"data row20 col1\" >0.056116</td>\n",
       "                        <td id=\"T_d169a_row20_col2\" class=\"data row20 col2\" >0.018334</td>\n",
       "                        <td id=\"T_d169a_row20_col3\" class=\"data row20 col3\" >-0.085686</td>\n",
       "                        <td id=\"T_d169a_row20_col4\" class=\"data row20 col4\" >0.107749</td>\n",
       "                        <td id=\"T_d169a_row20_col5\" class=\"data row20 col5\" >-0.075139</td>\n",
       "                        <td id=\"T_d169a_row20_col6\" class=\"data row20 col6\" >0.093524</td>\n",
       "                        <td id=\"T_d169a_row20_col7\" class=\"data row20 col7\" >-0.026799</td>\n",
       "                        <td id=\"T_d169a_row20_col8\" class=\"data row20 col8\" >-0.010836</td>\n",
       "            </tr>\n",
       "            <tr>\n",
       "                        <th id=\"T_d169a_level0_row21\" class=\"row_heading level0 row21\" >PDI</th>\n",
       "                        <td id=\"T_d169a_row21_col0\" class=\"data row21 col0\" >-0.097516</td>\n",
       "                        <td id=\"T_d169a_row21_col1\" class=\"data row21 col1\" >-0.010173</td>\n",
       "                        <td id=\"T_d169a_row21_col2\" class=\"data row21 col2\" >0.008610</td>\n",
       "                        <td id=\"T_d169a_row21_col3\" class=\"data row21 col3\" >0.024492</td>\n",
       "                        <td id=\"T_d169a_row21_col4\" class=\"data row21 col4\" >-0.023463</td>\n",
       "                        <td id=\"T_d169a_row21_col5\" class=\"data row21 col5\" >-0.039499</td>\n",
       "                        <td id=\"T_d169a_row21_col6\" class=\"data row21 col6\" >0.036148</td>\n",
       "                        <td id=\"T_d169a_row21_col7\" class=\"data row21 col7\" >-0.043017</td>\n",
       "                        <td id=\"T_d169a_row21_col8\" class=\"data row21 col8\" >-0.037033</td>\n",
       "            </tr>\n",
       "            <tr>\n",
       "                        <th id=\"T_d169a_level0_row22\" class=\"row_heading level0 row22\" >NDI</th>\n",
       "                        <td id=\"T_d169a_row22_col0\" class=\"data row22 col0\" >-0.078199</td>\n",
       "                        <td id=\"T_d169a_row22_col1\" class=\"data row22 col1\" >0.003806</td>\n",
       "                        <td id=\"T_d169a_row22_col2\" class=\"data row22 col2\" >-0.005041</td>\n",
       "                        <td id=\"T_d169a_row22_col3\" class=\"data row22 col3\" >0.032778</td>\n",
       "                        <td id=\"T_d169a_row22_col4\" class=\"data row22 col4\" >0.015301</td>\n",
       "                        <td id=\"T_d169a_row22_col5\" class=\"data row22 col5\" >-0.037514</td>\n",
       "                        <td id=\"T_d169a_row22_col6\" class=\"data row22 col6\" >0.004370</td>\n",
       "                        <td id=\"T_d169a_row22_col7\" class=\"data row22 col7\" >-0.042750</td>\n",
       "                        <td id=\"T_d169a_row22_col8\" class=\"data row22 col8\" >-0.016770</td>\n",
       "            </tr>\n",
       "            <tr>\n",
       "                        <th id=\"T_d169a_level0_row23\" class=\"row_heading level0 row23\" >ADX</th>\n",
       "                        <td id=\"T_d169a_row23_col0\" class=\"data row23 col0\" >-0.221737</td>\n",
       "                        <td id=\"T_d169a_row23_col1\" class=\"data row23 col1\" >-0.009089</td>\n",
       "                        <td id=\"T_d169a_row23_col2\" class=\"data row23 col2\" >0.033579</td>\n",
       "                        <td id=\"T_d169a_row23_col3\" class=\"data row23 col3\" >0.092259</td>\n",
       "                        <td id=\"T_d169a_row23_col4\" class=\"data row23 col4\" >0.010477</td>\n",
       "                        <td id=\"T_d169a_row23_col5\" class=\"data row23 col5\" >0.024619</td>\n",
       "                        <td id=\"T_d169a_row23_col6\" class=\"data row23 col6\" >0.148301</td>\n",
       "                        <td id=\"T_d169a_row23_col7\" class=\"data row23 col7\" >0.030417</td>\n",
       "                        <td id=\"T_d169a_row23_col8\" class=\"data row23 col8\" >-0.002986</td>\n",
       "            </tr>\n",
       "            <tr>\n",
       "                        <th id=\"T_d169a_level0_row24\" class=\"row_heading level0 row24\" >ROC</th>\n",
       "                        <td id=\"T_d169a_row24_col0\" class=\"data row24 col0\" >-0.116203</td>\n",
       "                        <td id=\"T_d169a_row24_col1\" class=\"data row24 col1\" >0.023077</td>\n",
       "                        <td id=\"T_d169a_row24_col2\" class=\"data row24 col2\" >0.006487</td>\n",
       "                        <td id=\"T_d169a_row24_col3\" class=\"data row24 col3\" >-0.125232</td>\n",
       "                        <td id=\"T_d169a_row24_col4\" class=\"data row24 col4\" >0.033884</td>\n",
       "                        <td id=\"T_d169a_row24_col5\" class=\"data row24 col5\" >-0.054336</td>\n",
       "                        <td id=\"T_d169a_row24_col6\" class=\"data row24 col6\" >0.106387</td>\n",
       "                        <td id=\"T_d169a_row24_col7\" class=\"data row24 col7\" >-0.045146</td>\n",
       "                        <td id=\"T_d169a_row24_col8\" class=\"data row24 col8\" >-0.011961</td>\n",
       "            </tr>\n",
       "            <tr>\n",
       "                        <th id=\"T_d169a_level0_row25\" class=\"row_heading level0 row25\" >MACD</th>\n",
       "                        <td id=\"T_d169a_row25_col0\" class=\"data row25 col0\" >0.032804</td>\n",
       "                        <td id=\"T_d169a_row25_col1\" class=\"data row25 col1\" >0.077639</td>\n",
       "                        <td id=\"T_d169a_row25_col2\" class=\"data row25 col2\" >-0.122941</td>\n",
       "                        <td id=\"T_d169a_row25_col3\" class=\"data row25 col3\" >-0.118216</td>\n",
       "                        <td id=\"T_d169a_row25_col4\" class=\"data row25 col4\" >0.034456</td>\n",
       "                        <td id=\"T_d169a_row25_col5\" class=\"data row25 col5\" >-0.039183</td>\n",
       "                        <td id=\"T_d169a_row25_col6\" class=\"data row25 col6\" >0.104195</td>\n",
       "                        <td id=\"T_d169a_row25_col7\" class=\"data row25 col7\" >-0.064480</td>\n",
       "                        <td id=\"T_d169a_row25_col8\" class=\"data row25 col8\" >-0.076518</td>\n",
       "            </tr>\n",
       "            <tr>\n",
       "                        <th id=\"T_d169a_level0_row26\" class=\"row_heading level0 row26\" >CCI</th>\n",
       "                        <td id=\"T_d169a_row26_col0\" class=\"data row26 col0\" >-0.076485</td>\n",
       "                        <td id=\"T_d169a_row26_col1\" class=\"data row26 col1\" >0.036298</td>\n",
       "                        <td id=\"T_d169a_row26_col2\" class=\"data row26 col2\" >0.096933</td>\n",
       "                        <td id=\"T_d169a_row26_col3\" class=\"data row26 col3\" >-0.065270</td>\n",
       "                        <td id=\"T_d169a_row26_col4\" class=\"data row26 col4\" >0.083182</td>\n",
       "                        <td id=\"T_d169a_row26_col5\" class=\"data row26 col5\" >-0.083432</td>\n",
       "                        <td id=\"T_d169a_row26_col6\" class=\"data row26 col6\" >0.070861</td>\n",
       "                        <td id=\"T_d169a_row26_col7\" class=\"data row26 col7\" >-0.020195</td>\n",
       "                        <td id=\"T_d169a_row26_col8\" class=\"data row26 col8\" >0.000761</td>\n",
       "            </tr>\n",
       "    </tbody></table>"
      ],
      "text/plain": [
       "<pandas.io.formats.style.Styler at 0x22de7202580>"
      ]
     },
     "execution_count": 37,
     "metadata": {},
     "output_type": "execute_result"
    }
   ],
   "source": [
    "terms_cor_by_stock.style.apply(lambda x: [\"background: yellow\" if abs(v) > 0.1 else \"\" for v in x], axis = 1)"
   ]
  },
  {
   "cell_type": "code",
   "execution_count": 38,
   "id": "listed-testament",
   "metadata": {},
   "outputs": [],
   "source": [
    "indicator_cors = abs(terms_cor_by_stock).mean(axis=1).sort_values(ascending=False)\n",
    "indicator_cors.name = \"Mean Absolute Pearson Correlation to Change\"\n",
    "indicator_cors.index.name = \"Feature\""
   ]
  },
  {
   "cell_type": "code",
   "execution_count": 39,
   "id": "caring-sequence",
   "metadata": {},
   "outputs": [],
   "source": [
    "best_technical_features = [\n",
    "    \"WMA\",\n",
    "    \"Close\",\n",
    "    \"Low\",\n",
    "    \"High\",\n",
    "    \"ADX\"\n",
    "]"
   ]
  },
  {
   "cell_type": "code",
   "execution_count": 40,
   "id": "communist-aircraft",
   "metadata": {},
   "outputs": [
    {
     "data": {
      "text/plain": [
       "Close                             NaN\n",
       "High                              NaN\n",
       "Low                               NaN\n",
       "Open                              NaN\n",
       "Volume                            NaN\n",
       "HH                                NaN\n",
       "LL                                NaN\n",
       "AV                                NaN\n",
       "SMA                               NaN\n",
       "SD                                NaN\n",
       "ATR                               NaN\n",
       "DMH                               NaN\n",
       "DML                               NaN\n",
       "EMA                               NaN\n",
       "WMA                               NaN\n",
       "BBHIGH                            NaN\n",
       "BBLOW                             NaN\n",
       "PERBHIGH                          NaN\n",
       "PERBLOW                           NaN\n",
       "TRIMA                             NaN\n",
       "RSI                               NaN\n",
       "PDI                               NaN\n",
       "NDI                               NaN\n",
       "ADX                               NaN\n",
       "ROC                               NaN\n",
       "MACD                              NaN\n",
       "CCI                               NaN\n",
       "carbon tax                        NaN\n",
       "climate change                    NaN\n",
       "electric vehicles                 NaN\n",
       "environmental protection agency   NaN\n",
       "fossil fuels                      NaN\n",
       "fracking                          NaN\n",
       "global warming                    NaN\n",
       "greenhouse gas                    NaN\n",
       "oil                               NaN\n",
       "renewable                         NaN\n",
       "Target                            NaN\n",
       "Change                            NaN\n",
       "Name: Change, dtype: float64"
      ]
     },
     "execution_count": 40,
     "metadata": {},
     "output_type": "execute_result"
    }
   ],
   "source": [
    "trainvalid.loc[trainvalid['Ticker']==s].corr().loc['Change'].sort_values(key=abs, ascending=False)"
   ]
  },
  {
   "cell_type": "code",
   "execution_count": 41,
   "id": "falling-communications",
   "metadata": {},
   "outputs": [
    {
     "data": {
      "text/plain": [
       "<AxesSubplot:>"
      ]
     },
     "execution_count": 41,
     "metadata": {},
     "output_type": "execute_result"
    },
    {
     "data": {
      "image/png": "[encoded data removed]",
      "text/plain": [
       "<Figure size 864x864 with 2 Axes>"
      ]
     },
     "metadata": {
      "needs_background": "light"
     },
     "output_type": "display_data"
    }
   ],
   "source": [
    "plt.figure(figsize=(12, 12))\n",
    "sns.heatmap(trainvalid.corr())"
   ]
  },
  {
   "cell_type": "markdown",
   "id": "forward-afternoon",
   "metadata": {},
   "source": [
    "# Results of Correlations"
   ]
  },
  {
   "cell_type": "code",
   "execution_count": 42,
   "id": "logical-video",
   "metadata": {},
   "outputs": [
    {
     "data": {
      "text/html": [
       "<div>\n",
       "<style scoped>\n",
       "    .dataframe tbody tr th:only-of-type {\n",
       "        vertical-align: middle;\n",
       "    }\n",
       "\n",
       "    .dataframe tbody tr th {\n",
       "        vertical-align: top;\n",
       "    }\n",
       "\n",
       "    .dataframe thead th {\n",
       "        text-align: right;\n",
       "    }\n",
       "</style>\n",
       "<table border=\"1\" class=\"dataframe\">\n",
       "  <thead>\n",
       "    <tr style=\"text-align: right;\">\n",
       "      <th></th>\n",
       "      <th>Mean Absolute Pearson Correlation to Change</th>\n",
       "    </tr>\n",
       "    <tr>\n",
       "      <th>Feature</th>\n",
       "      <th></th>\n",
       "    </tr>\n",
       "  </thead>\n",
       "  <tbody>\n",
       "    <tr>\n",
       "      <th>electric vehicles</th>\n",
       "      <td>0.077290</td>\n",
       "    </tr>\n",
       "    <tr>\n",
       "      <th>greenhouse gas</th>\n",
       "      <td>0.053329</td>\n",
       "    </tr>\n",
       "    <tr>\n",
       "      <th>carbon tax</th>\n",
       "      <td>0.051122</td>\n",
       "    </tr>\n",
       "    <tr>\n",
       "      <th>global warming</th>\n",
       "      <td>0.048464</td>\n",
       "    </tr>\n",
       "    <tr>\n",
       "      <th>oil</th>\n",
       "      <td>0.048423</td>\n",
       "    </tr>\n",
       "    <tr>\n",
       "      <th>renewable</th>\n",
       "      <td>0.033185</td>\n",
       "    </tr>\n",
       "    <tr>\n",
       "      <th>fossil fuels</th>\n",
       "      <td>0.033164</td>\n",
       "    </tr>\n",
       "    <tr>\n",
       "      <th>climate change</th>\n",
       "      <td>0.031691</td>\n",
       "    </tr>\n",
       "    <tr>\n",
       "      <th>environmental protection agency</th>\n",
       "      <td>NaN</td>\n",
       "    </tr>\n",
       "    <tr>\n",
       "      <th>fracking</th>\n",
       "      <td>NaN</td>\n",
       "    </tr>\n",
       "  </tbody>\n",
       "</table>\n",
       "</div>"
      ],
      "text/plain": [
       "                                 Mean Absolute Pearson Correlation to Change\n",
       "Feature                                                                     \n",
       "electric vehicles                                                   0.077290\n",
       "greenhouse gas                                                      0.053329\n",
       "carbon tax                                                          0.051122\n",
       "global warming                                                      0.048464\n",
       "oil                                                                 0.048423\n",
       "renewable                                                           0.033185\n",
       "fossil fuels                                                        0.033164\n",
       "climate change                                                      0.031691\n",
       "environmental protection agency                                          NaN\n",
       "fracking                                                                 NaN"
      ]
     },
     "execution_count": 42,
     "metadata": {},
     "output_type": "execute_result"
    }
   ],
   "source": [
    "pd.DataFrame(trends_cors)"
   ]
  },
  {
   "cell_type": "code",
   "execution_count": 43,
   "id": "automated-implement",
   "metadata": {},
   "outputs": [
    {
     "data": {
      "text/html": [
       "<div>\n",
       "<style scoped>\n",
       "    .dataframe tbody tr th:only-of-type {\n",
       "        vertical-align: middle;\n",
       "    }\n",
       "\n",
       "    .dataframe tbody tr th {\n",
       "        vertical-align: top;\n",
       "    }\n",
       "\n",
       "    .dataframe thead th {\n",
       "        text-align: right;\n",
       "    }\n",
       "</style>\n",
       "<table border=\"1\" class=\"dataframe\">\n",
       "  <thead>\n",
       "    <tr style=\"text-align: right;\">\n",
       "      <th></th>\n",
       "      <th>Mean Absolute Pearson Correlation to Change</th>\n",
       "    </tr>\n",
       "    <tr>\n",
       "      <th>Feature</th>\n",
       "      <th></th>\n",
       "    </tr>\n",
       "  </thead>\n",
       "  <tbody>\n",
       "    <tr>\n",
       "      <th>High</th>\n",
       "      <td>0.151277</td>\n",
       "    </tr>\n",
       "    <tr>\n",
       "      <th>Close</th>\n",
       "      <td>0.150811</td>\n",
       "    </tr>\n",
       "    <tr>\n",
       "      <th>Low</th>\n",
       "      <td>0.147913</td>\n",
       "    </tr>\n",
       "    <tr>\n",
       "      <th>Open</th>\n",
       "      <td>0.146508</td>\n",
       "    </tr>\n",
       "    <tr>\n",
       "      <th>EMA</th>\n",
       "      <td>0.140572</td>\n",
       "    </tr>\n",
       "    <tr>\n",
       "      <th>BBHIGH</th>\n",
       "      <td>0.140351</td>\n",
       "    </tr>\n",
       "    <tr>\n",
       "      <th>HH</th>\n",
       "      <td>0.139686</td>\n",
       "    </tr>\n",
       "    <tr>\n",
       "      <th>SMA</th>\n",
       "      <td>0.138525</td>\n",
       "    </tr>\n",
       "    <tr>\n",
       "      <th>LL</th>\n",
       "      <td>0.138064</td>\n",
       "    </tr>\n",
       "    <tr>\n",
       "      <th>BBLOW</th>\n",
       "      <td>0.138029</td>\n",
       "    </tr>\n",
       "    <tr>\n",
       "      <th>WMA</th>\n",
       "      <td>0.130744</td>\n",
       "    </tr>\n",
       "    <tr>\n",
       "      <th>TRIMA</th>\n",
       "      <td>0.126345</td>\n",
       "    </tr>\n",
       "    <tr>\n",
       "      <th>ATR</th>\n",
       "      <td>0.111305</td>\n",
       "    </tr>\n",
       "    <tr>\n",
       "      <th>SD</th>\n",
       "      <td>0.099627</td>\n",
       "    </tr>\n",
       "    <tr>\n",
       "      <th>AV</th>\n",
       "      <td>0.098761</td>\n",
       "    </tr>\n",
       "    <tr>\n",
       "      <th>MACD</th>\n",
       "      <td>0.074493</td>\n",
       "    </tr>\n",
       "    <tr>\n",
       "      <th>ADX</th>\n",
       "      <td>0.063718</td>\n",
       "    </tr>\n",
       "    <tr>\n",
       "      <th>RSI</th>\n",
       "      <td>0.060506</td>\n",
       "    </tr>\n",
       "    <tr>\n",
       "      <th>CCI</th>\n",
       "      <td>0.059268</td>\n",
       "    </tr>\n",
       "    <tr>\n",
       "      <th>ROC</th>\n",
       "      <td>0.058079</td>\n",
       "    </tr>\n",
       "    <tr>\n",
       "      <th>Volume</th>\n",
       "      <td>0.056728</td>\n",
       "    </tr>\n",
       "    <tr>\n",
       "      <th>PERBHIGH</th>\n",
       "      <td>0.050489</td>\n",
       "    </tr>\n",
       "    <tr>\n",
       "      <th>PERBLOW</th>\n",
       "      <td>0.050489</td>\n",
       "    </tr>\n",
       "    <tr>\n",
       "      <th>DMH</th>\n",
       "      <td>0.050022</td>\n",
       "    </tr>\n",
       "    <tr>\n",
       "      <th>DML</th>\n",
       "      <td>0.042591</td>\n",
       "    </tr>\n",
       "    <tr>\n",
       "      <th>PDI</th>\n",
       "      <td>0.035550</td>\n",
       "    </tr>\n",
       "    <tr>\n",
       "      <th>NDI</th>\n",
       "      <td>0.026281</td>\n",
       "    </tr>\n",
       "  </tbody>\n",
       "</table>\n",
       "</div>"
      ],
      "text/plain": [
       "          Mean Absolute Pearson Correlation to Change\n",
       "Feature                                              \n",
       "High                                         0.151277\n",
       "Close                                        0.150811\n",
       "Low                                          0.147913\n",
       "Open                                         0.146508\n",
       "EMA                                          0.140572\n",
       "BBHIGH                                       0.140351\n",
       "HH                                           0.139686\n",
       "SMA                                          0.138525\n",
       "LL                                           0.138064\n",
       "BBLOW                                        0.138029\n",
       "WMA                                          0.130744\n",
       "TRIMA                                        0.126345\n",
       "ATR                                          0.111305\n",
       "SD                                           0.099627\n",
       "AV                                           0.098761\n",
       "MACD                                         0.074493\n",
       "ADX                                          0.063718\n",
       "RSI                                          0.060506\n",
       "CCI                                          0.059268\n",
       "ROC                                          0.058079\n",
       "Volume                                       0.056728\n",
       "PERBHIGH                                     0.050489\n",
       "PERBLOW                                      0.050489\n",
       "DMH                                          0.050022\n",
       "DML                                          0.042591\n",
       "PDI                                          0.035550\n",
       "NDI                                          0.026281"
      ]
     },
     "execution_count": 43,
     "metadata": {},
     "output_type": "execute_result"
    }
   ],
   "source": [
    "pd.DataFrame(indicator_cors)"
   ]
  },
  {
   "cell_type": "markdown",
   "id": "mexican-annotation",
   "metadata": {},
   "source": [
    "#### Per stock normalization\n",
    "We make sure to fit the transforms on the training, and\n",
    "apply them on training, validation, and test"
   ]
  },
  {
   "cell_type": "code",
   "execution_count": 73,
   "id": "crucial-picnic",
   "metadata": {},
   "outputs": [
    {
     "name": "stderr",
     "output_type": "stream",
     "text": [
      "C:\\Users\\jaker\\miniconda3\\envs\\finance\\lib\\site-packages\\pandas\\core\\indexing.py:1738: SettingWithCopyWarning: \n",
      "A value is trying to be set on a copy of a slice from a DataFrame.\n",
      "Try using .loc[row_indexer,col_indexer] = value instead\n",
      "\n",
      "See the caveats in the documentation: https://pandas.pydata.org/pandas-docs/stable/user_guide/indexing.html#returning-a-view-versus-a-copy\n",
      "  self._setitem_single_column(loc, value[:, i].tolist(), pi)\n",
      "C:\\Users\\jaker\\miniconda3\\envs\\finance\\lib\\site-packages\\pandas\\core\\indexing.py:1738: SettingWithCopyWarning: \n",
      "A value is trying to be set on a copy of a slice from a DataFrame.\n",
      "Try using .loc[row_indexer,col_indexer] = value instead\n",
      "\n",
      "See the caveats in the documentation: https://pandas.pydata.org/pandas-docs/stable/user_guide/indexing.html#returning-a-view-versus-a-copy\n",
      "  self._setitem_single_column(loc, value[:, i].tolist(), pi)\n",
      "C:\\Users\\jaker\\miniconda3\\envs\\finance\\lib\\site-packages\\pandas\\core\\indexing.py:1738: SettingWithCopyWarning: \n",
      "A value is trying to be set on a copy of a slice from a DataFrame.\n",
      "Try using .loc[row_indexer,col_indexer] = value instead\n",
      "\n",
      "See the caveats in the documentation: https://pandas.pydata.org/pandas-docs/stable/user_guide/indexing.html#returning-a-view-versus-a-copy\n",
      "  self._setitem_single_column(loc, value[:, i].tolist(), pi)\n",
      "C:\\Users\\jaker\\miniconda3\\envs\\finance\\lib\\site-packages\\pandas\\core\\indexing.py:1738: SettingWithCopyWarning: \n",
      "A value is trying to be set on a copy of a slice from a DataFrame.\n",
      "Try using .loc[row_indexer,col_indexer] = value instead\n",
      "\n",
      "See the caveats in the documentation: https://pandas.pydata.org/pandas-docs/stable/user_guide/indexing.html#returning-a-view-versus-a-copy\n",
      "  self._setitem_single_column(loc, value[:, i].tolist(), pi)\n",
      "C:\\Users\\jaker\\miniconda3\\envs\\finance\\lib\\site-packages\\pandas\\core\\indexing.py:1738: SettingWithCopyWarning: \n",
      "A value is trying to be set on a copy of a slice from a DataFrame.\n",
      "Try using .loc[row_indexer,col_indexer] = value instead\n",
      "\n",
      "See the caveats in the documentation: https://pandas.pydata.org/pandas-docs/stable/user_guide/indexing.html#returning-a-view-versus-a-copy\n",
      "  self._setitem_single_column(loc, value[:, i].tolist(), pi)\n",
      "C:\\Users\\jaker\\miniconda3\\envs\\finance\\lib\\site-packages\\pandas\\core\\indexing.py:1738: SettingWithCopyWarning: \n",
      "A value is trying to be set on a copy of a slice from a DataFrame.\n",
      "Try using .loc[row_indexer,col_indexer] = value instead\n",
      "\n",
      "See the caveats in the documentation: https://pandas.pydata.org/pandas-docs/stable/user_guide/indexing.html#returning-a-view-versus-a-copy\n",
      "  self._setitem_single_column(loc, value[:, i].tolist(), pi)\n",
      "C:\\Users\\jaker\\miniconda3\\envs\\finance\\lib\\site-packages\\pandas\\core\\indexing.py:1738: SettingWithCopyWarning: \n",
      "A value is trying to be set on a copy of a slice from a DataFrame.\n",
      "Try using .loc[row_indexer,col_indexer] = value instead\n",
      "\n",
      "See the caveats in the documentation: https://pandas.pydata.org/pandas-docs/stable/user_guide/indexing.html#returning-a-view-versus-a-copy\n",
      "  self._setitem_single_column(loc, value[:, i].tolist(), pi)\n",
      "C:\\Users\\jaker\\miniconda3\\envs\\finance\\lib\\site-packages\\pandas\\core\\indexing.py:1738: SettingWithCopyWarning: \n",
      "A value is trying to be set on a copy of a slice from a DataFrame.\n",
      "Try using .loc[row_indexer,col_indexer] = value instead\n",
      "\n",
      "See the caveats in the documentation: https://pandas.pydata.org/pandas-docs/stable/user_guide/indexing.html#returning-a-view-versus-a-copy\n",
      "  self._setitem_single_column(loc, value[:, i].tolist(), pi)\n",
      "C:\\Users\\jaker\\miniconda3\\envs\\finance\\lib\\site-packages\\pandas\\core\\indexing.py:1738: SettingWithCopyWarning: \n",
      "A value is trying to be set on a copy of a slice from a DataFrame.\n",
      "Try using .loc[row_indexer,col_indexer] = value instead\n",
      "\n",
      "See the caveats in the documentation: https://pandas.pydata.org/pandas-docs/stable/user_guide/indexing.html#returning-a-view-versus-a-copy\n",
      "  self._setitem_single_column(loc, value[:, i].tolist(), pi)\n",
      "C:\\Users\\jaker\\miniconda3\\envs\\finance\\lib\\site-packages\\pandas\\core\\indexing.py:1738: SettingWithCopyWarning: \n",
      "A value is trying to be set on a copy of a slice from a DataFrame.\n",
      "Try using .loc[row_indexer,col_indexer] = value instead\n",
      "\n",
      "See the caveats in the documentation: https://pandas.pydata.org/pandas-docs/stable/user_guide/indexing.html#returning-a-view-versus-a-copy\n",
      "  self._setitem_single_column(loc, value[:, i].tolist(), pi)\n",
      "C:\\Users\\jaker\\miniconda3\\envs\\finance\\lib\\site-packages\\pandas\\core\\indexing.py:1738: SettingWithCopyWarning: \n",
      "A value is trying to be set on a copy of a slice from a DataFrame.\n",
      "Try using .loc[row_indexer,col_indexer] = value instead\n",
      "\n",
      "See the caveats in the documentation: https://pandas.pydata.org/pandas-docs/stable/user_guide/indexing.html#returning-a-view-versus-a-copy\n",
      "  self._setitem_single_column(loc, value[:, i].tolist(), pi)\n",
      "C:\\Users\\jaker\\miniconda3\\envs\\finance\\lib\\site-packages\\pandas\\core\\indexing.py:1738: SettingWithCopyWarning: \n",
      "A value is trying to be set on a copy of a slice from a DataFrame.\n",
      "Try using .loc[row_indexer,col_indexer] = value instead\n",
      "\n",
      "See the caveats in the documentation: https://pandas.pydata.org/pandas-docs/stable/user_guide/indexing.html#returning-a-view-versus-a-copy\n",
      "  self._setitem_single_column(loc, value[:, i].tolist(), pi)\n",
      "C:\\Users\\jaker\\miniconda3\\envs\\finance\\lib\\site-packages\\pandas\\core\\indexing.py:1738: SettingWithCopyWarning: \n",
      "A value is trying to be set on a copy of a slice from a DataFrame.\n",
      "Try using .loc[row_indexer,col_indexer] = value instead\n",
      "\n",
      "See the caveats in the documentation: https://pandas.pydata.org/pandas-docs/stable/user_guide/indexing.html#returning-a-view-versus-a-copy\n",
      "  self._setitem_single_column(loc, value[:, i].tolist(), pi)\n",
      "C:\\Users\\jaker\\miniconda3\\envs\\finance\\lib\\site-packages\\pandas\\core\\indexing.py:1738: SettingWithCopyWarning: \n",
      "A value is trying to be set on a copy of a slice from a DataFrame.\n",
      "Try using .loc[row_indexer,col_indexer] = value instead\n",
      "\n",
      "See the caveats in the documentation: https://pandas.pydata.org/pandas-docs/stable/user_guide/indexing.html#returning-a-view-versus-a-copy\n",
      "  self._setitem_single_column(loc, value[:, i].tolist(), pi)\n",
      "C:\\Users\\jaker\\miniconda3\\envs\\finance\\lib\\site-packages\\pandas\\core\\indexing.py:1738: SettingWithCopyWarning: \n",
      "A value is trying to be set on a copy of a slice from a DataFrame.\n",
      "Try using .loc[row_indexer,col_indexer] = value instead\n",
      "\n",
      "See the caveats in the documentation: https://pandas.pydata.org/pandas-docs/stable/user_guide/indexing.html#returning-a-view-versus-a-copy\n",
      "  self._setitem_single_column(loc, value[:, i].tolist(), pi)\n",
      "C:\\Users\\jaker\\miniconda3\\envs\\finance\\lib\\site-packages\\pandas\\core\\indexing.py:1738: SettingWithCopyWarning: \n",
      "A value is trying to be set on a copy of a slice from a DataFrame.\n",
      "Try using .loc[row_indexer,col_indexer] = value instead\n",
      "\n",
      "See the caveats in the documentation: https://pandas.pydata.org/pandas-docs/stable/user_guide/indexing.html#returning-a-view-versus-a-copy\n",
      "  self._setitem_single_column(loc, value[:, i].tolist(), pi)\n",
      "C:\\Users\\jaker\\miniconda3\\envs\\finance\\lib\\site-packages\\pandas\\core\\indexing.py:1738: SettingWithCopyWarning: \n",
      "A value is trying to be set on a copy of a slice from a DataFrame.\n",
      "Try using .loc[row_indexer,col_indexer] = value instead\n",
      "\n",
      "See the caveats in the documentation: https://pandas.pydata.org/pandas-docs/stable/user_guide/indexing.html#returning-a-view-versus-a-copy\n",
      "  self._setitem_single_column(loc, value[:, i].tolist(), pi)\n",
      "C:\\Users\\jaker\\miniconda3\\envs\\finance\\lib\\site-packages\\pandas\\core\\indexing.py:1738: SettingWithCopyWarning: \n",
      "A value is trying to be set on a copy of a slice from a DataFrame.\n",
      "Try using .loc[row_indexer,col_indexer] = value instead\n",
      "\n",
      "See the caveats in the documentation: https://pandas.pydata.org/pandas-docs/stable/user_guide/indexing.html#returning-a-view-versus-a-copy\n",
      "  self._setitem_single_column(loc, value[:, i].tolist(), pi)\n",
      "C:\\Users\\jaker\\miniconda3\\envs\\finance\\lib\\site-packages\\pandas\\core\\indexing.py:1738: SettingWithCopyWarning: \n",
      "A value is trying to be set on a copy of a slice from a DataFrame.\n",
      "Try using .loc[row_indexer,col_indexer] = value instead\n",
      "\n",
      "See the caveats in the documentation: https://pandas.pydata.org/pandas-docs/stable/user_guide/indexing.html#returning-a-view-versus-a-copy\n",
      "  self._setitem_single_column(loc, value[:, i].tolist(), pi)\n",
      "C:\\Users\\jaker\\miniconda3\\envs\\finance\\lib\\site-packages\\pandas\\core\\indexing.py:1738: SettingWithCopyWarning: \n",
      "A value is trying to be set on a copy of a slice from a DataFrame.\n",
      "Try using .loc[row_indexer,col_indexer] = value instead\n",
      "\n",
      "See the caveats in the documentation: https://pandas.pydata.org/pandas-docs/stable/user_guide/indexing.html#returning-a-view-versus-a-copy\n",
      "  self._setitem_single_column(loc, value[:, i].tolist(), pi)\n",
      "C:\\Users\\jaker\\miniconda3\\envs\\finance\\lib\\site-packages\\pandas\\core\\indexing.py:1738: SettingWithCopyWarning: \n",
      "A value is trying to be set on a copy of a slice from a DataFrame.\n",
      "Try using .loc[row_indexer,col_indexer] = value instead\n",
      "\n",
      "See the caveats in the documentation: https://pandas.pydata.org/pandas-docs/stable/user_guide/indexing.html#returning-a-view-versus-a-copy\n",
      "  self._setitem_single_column(loc, value[:, i].tolist(), pi)\n",
      "C:\\Users\\jaker\\miniconda3\\envs\\finance\\lib\\site-packages\\pandas\\core\\indexing.py:1738: SettingWithCopyWarning: \n",
      "A value is trying to be set on a copy of a slice from a DataFrame.\n",
      "Try using .loc[row_indexer,col_indexer] = value instead\n",
      "\n",
      "See the caveats in the documentation: https://pandas.pydata.org/pandas-docs/stable/user_guide/indexing.html#returning-a-view-versus-a-copy\n",
      "  self._setitem_single_column(loc, value[:, i].tolist(), pi)\n",
      "C:\\Users\\jaker\\miniconda3\\envs\\finance\\lib\\site-packages\\pandas\\core\\indexing.py:1738: SettingWithCopyWarning: \n",
      "A value is trying to be set on a copy of a slice from a DataFrame.\n",
      "Try using .loc[row_indexer,col_indexer] = value instead\n",
      "\n",
      "See the caveats in the documentation: https://pandas.pydata.org/pandas-docs/stable/user_guide/indexing.html#returning-a-view-versus-a-copy\n",
      "  self._setitem_single_column(loc, value[:, i].tolist(), pi)\n",
      "C:\\Users\\jaker\\miniconda3\\envs\\finance\\lib\\site-packages\\pandas\\core\\indexing.py:1738: SettingWithCopyWarning: \n",
      "A value is trying to be set on a copy of a slice from a DataFrame.\n",
      "Try using .loc[row_indexer,col_indexer] = value instead\n",
      "\n",
      "See the caveats in the documentation: https://pandas.pydata.org/pandas-docs/stable/user_guide/indexing.html#returning-a-view-versus-a-copy\n",
      "  self._setitem_single_column(loc, value[:, i].tolist(), pi)\n",
      "C:\\Users\\jaker\\miniconda3\\envs\\finance\\lib\\site-packages\\pandas\\core\\indexing.py:1738: SettingWithCopyWarning: \n",
      "A value is trying to be set on a copy of a slice from a DataFrame.\n",
      "Try using .loc[row_indexer,col_indexer] = value instead\n",
      "\n",
      "See the caveats in the documentation: https://pandas.pydata.org/pandas-docs/stable/user_guide/indexing.html#returning-a-view-versus-a-copy\n",
      "  self._setitem_single_column(loc, value[:, i].tolist(), pi)\n",
      "C:\\Users\\jaker\\miniconda3\\envs\\finance\\lib\\site-packages\\pandas\\core\\indexing.py:1738: SettingWithCopyWarning: \n",
      "A value is trying to be set on a copy of a slice from a DataFrame.\n",
      "Try using .loc[row_indexer,col_indexer] = value instead\n",
      "\n",
      "See the caveats in the documentation: https://pandas.pydata.org/pandas-docs/stable/user_guide/indexing.html#returning-a-view-versus-a-copy\n",
      "  self._setitem_single_column(loc, value[:, i].tolist(), pi)\n",
      "C:\\Users\\jaker\\miniconda3\\envs\\finance\\lib\\site-packages\\pandas\\core\\indexing.py:1738: SettingWithCopyWarning: \n",
      "A value is trying to be set on a copy of a slice from a DataFrame.\n",
      "Try using .loc[row_indexer,col_indexer] = value instead\n",
      "\n",
      "See the caveats in the documentation: https://pandas.pydata.org/pandas-docs/stable/user_guide/indexing.html#returning-a-view-versus-a-copy\n",
      "  self._setitem_single_column(loc, value[:, i].tolist(), pi)\n"
     ]
    },
    {
     "name": "stderr",
     "output_type": "stream",
     "text": [
      "C:\\Users\\jaker\\miniconda3\\envs\\finance\\lib\\site-packages\\pandas\\core\\indexing.py:1738: SettingWithCopyWarning: \n",
      "A value is trying to be set on a copy of a slice from a DataFrame.\n",
      "Try using .loc[row_indexer,col_indexer] = value instead\n",
      "\n",
      "See the caveats in the documentation: https://pandas.pydata.org/pandas-docs/stable/user_guide/indexing.html#returning-a-view-versus-a-copy\n",
      "  self._setitem_single_column(loc, value[:, i].tolist(), pi)\n",
      "C:\\Users\\jaker\\miniconda3\\envs\\finance\\lib\\site-packages\\pandas\\core\\indexing.py:1738: SettingWithCopyWarning: \n",
      "A value is trying to be set on a copy of a slice from a DataFrame.\n",
      "Try using .loc[row_indexer,col_indexer] = value instead\n",
      "\n",
      "See the caveats in the documentation: https://pandas.pydata.org/pandas-docs/stable/user_guide/indexing.html#returning-a-view-versus-a-copy\n",
      "  self._setitem_single_column(loc, value[:, i].tolist(), pi)\n",
      "C:\\Users\\jaker\\miniconda3\\envs\\finance\\lib\\site-packages\\pandas\\core\\indexing.py:1738: SettingWithCopyWarning: \n",
      "A value is trying to be set on a copy of a slice from a DataFrame.\n",
      "Try using .loc[row_indexer,col_indexer] = value instead\n",
      "\n",
      "See the caveats in the documentation: https://pandas.pydata.org/pandas-docs/stable/user_guide/indexing.html#returning-a-view-versus-a-copy\n",
      "  self._setitem_single_column(loc, value[:, i].tolist(), pi)\n",
      "C:\\Users\\jaker\\miniconda3\\envs\\finance\\lib\\site-packages\\pandas\\core\\indexing.py:1738: SettingWithCopyWarning: \n",
      "A value is trying to be set on a copy of a slice from a DataFrame.\n",
      "Try using .loc[row_indexer,col_indexer] = value instead\n",
      "\n",
      "See the caveats in the documentation: https://pandas.pydata.org/pandas-docs/stable/user_guide/indexing.html#returning-a-view-versus-a-copy\n",
      "  self._setitem_single_column(loc, value[:, i].tolist(), pi)\n",
      "C:\\Users\\jaker\\miniconda3\\envs\\finance\\lib\\site-packages\\pandas\\core\\indexing.py:1738: SettingWithCopyWarning: \n",
      "A value is trying to be set on a copy of a slice from a DataFrame.\n",
      "Try using .loc[row_indexer,col_indexer] = value instead\n",
      "\n",
      "See the caveats in the documentation: https://pandas.pydata.org/pandas-docs/stable/user_guide/indexing.html#returning-a-view-versus-a-copy\n",
      "  self._setitem_single_column(loc, value[:, i].tolist(), pi)\n",
      "C:\\Users\\jaker\\miniconda3\\envs\\finance\\lib\\site-packages\\pandas\\core\\indexing.py:1738: SettingWithCopyWarning: \n",
      "A value is trying to be set on a copy of a slice from a DataFrame.\n",
      "Try using .loc[row_indexer,col_indexer] = value instead\n",
      "\n",
      "See the caveats in the documentation: https://pandas.pydata.org/pandas-docs/stable/user_guide/indexing.html#returning-a-view-versus-a-copy\n",
      "  self._setitem_single_column(loc, value[:, i].tolist(), pi)\n",
      "C:\\Users\\jaker\\miniconda3\\envs\\finance\\lib\\site-packages\\pandas\\core\\indexing.py:1738: SettingWithCopyWarning: \n",
      "A value is trying to be set on a copy of a slice from a DataFrame.\n",
      "Try using .loc[row_indexer,col_indexer] = value instead\n",
      "\n",
      "See the caveats in the documentation: https://pandas.pydata.org/pandas-docs/stable/user_guide/indexing.html#returning-a-view-versus-a-copy\n",
      "  self._setitem_single_column(loc, value[:, i].tolist(), pi)\n",
      "C:\\Users\\jaker\\miniconda3\\envs\\finance\\lib\\site-packages\\pandas\\core\\indexing.py:1738: SettingWithCopyWarning: \n",
      "A value is trying to be set on a copy of a slice from a DataFrame.\n",
      "Try using .loc[row_indexer,col_indexer] = value instead\n",
      "\n",
      "See the caveats in the documentation: https://pandas.pydata.org/pandas-docs/stable/user_guide/indexing.html#returning-a-view-versus-a-copy\n",
      "  self._setitem_single_column(loc, value[:, i].tolist(), pi)\n",
      "C:\\Users\\jaker\\miniconda3\\envs\\finance\\lib\\site-packages\\pandas\\core\\indexing.py:1738: SettingWithCopyWarning: \n",
      "A value is trying to be set on a copy of a slice from a DataFrame.\n",
      "Try using .loc[row_indexer,col_indexer] = value instead\n",
      "\n",
      "See the caveats in the documentation: https://pandas.pydata.org/pandas-docs/stable/user_guide/indexing.html#returning-a-view-versus-a-copy\n",
      "  self._setitem_single_column(loc, value[:, i].tolist(), pi)\n",
      "C:\\Users\\jaker\\miniconda3\\envs\\finance\\lib\\site-packages\\pandas\\core\\indexing.py:1738: SettingWithCopyWarning: \n",
      "A value is trying to be set on a copy of a slice from a DataFrame.\n",
      "Try using .loc[row_indexer,col_indexer] = value instead\n",
      "\n",
      "See the caveats in the documentation: https://pandas.pydata.org/pandas-docs/stable/user_guide/indexing.html#returning-a-view-versus-a-copy\n",
      "  self._setitem_single_column(loc, value[:, i].tolist(), pi)\n",
      "C:\\Users\\jaker\\miniconda3\\envs\\finance\\lib\\site-packages\\pandas\\core\\indexing.py:1738: SettingWithCopyWarning: \n",
      "A value is trying to be set on a copy of a slice from a DataFrame.\n",
      "Try using .loc[row_indexer,col_indexer] = value instead\n",
      "\n",
      "See the caveats in the documentation: https://pandas.pydata.org/pandas-docs/stable/user_guide/indexing.html#returning-a-view-versus-a-copy\n",
      "  self._setitem_single_column(loc, value[:, i].tolist(), pi)\n",
      "C:\\Users\\jaker\\miniconda3\\envs\\finance\\lib\\site-packages\\pandas\\core\\indexing.py:1738: SettingWithCopyWarning: \n",
      "A value is trying to be set on a copy of a slice from a DataFrame.\n",
      "Try using .loc[row_indexer,col_indexer] = value instead\n",
      "\n",
      "See the caveats in the documentation: https://pandas.pydata.org/pandas-docs/stable/user_guide/indexing.html#returning-a-view-versus-a-copy\n",
      "  self._setitem_single_column(loc, value[:, i].tolist(), pi)\n",
      "C:\\Users\\jaker\\miniconda3\\envs\\finance\\lib\\site-packages\\pandas\\core\\indexing.py:1738: SettingWithCopyWarning: \n",
      "A value is trying to be set on a copy of a slice from a DataFrame.\n",
      "Try using .loc[row_indexer,col_indexer] = value instead\n",
      "\n",
      "See the caveats in the documentation: https://pandas.pydata.org/pandas-docs/stable/user_guide/indexing.html#returning-a-view-versus-a-copy\n",
      "  self._setitem_single_column(loc, value[:, i].tolist(), pi)\n",
      "C:\\Users\\jaker\\miniconda3\\envs\\finance\\lib\\site-packages\\pandas\\core\\indexing.py:1738: SettingWithCopyWarning: \n",
      "A value is trying to be set on a copy of a slice from a DataFrame.\n",
      "Try using .loc[row_indexer,col_indexer] = value instead\n",
      "\n",
      "See the caveats in the documentation: https://pandas.pydata.org/pandas-docs/stable/user_guide/indexing.html#returning-a-view-versus-a-copy\n",
      "  self._setitem_single_column(loc, value[:, i].tolist(), pi)\n",
      "C:\\Users\\jaker\\miniconda3\\envs\\finance\\lib\\site-packages\\pandas\\core\\indexing.py:1738: SettingWithCopyWarning: \n",
      "A value is trying to be set on a copy of a slice from a DataFrame.\n",
      "Try using .loc[row_indexer,col_indexer] = value instead\n",
      "\n",
      "See the caveats in the documentation: https://pandas.pydata.org/pandas-docs/stable/user_guide/indexing.html#returning-a-view-versus-a-copy\n",
      "  self._setitem_single_column(loc, value[:, i].tolist(), pi)\n",
      "C:\\Users\\jaker\\miniconda3\\envs\\finance\\lib\\site-packages\\pandas\\core\\indexing.py:1738: SettingWithCopyWarning: \n",
      "A value is trying to be set on a copy of a slice from a DataFrame.\n",
      "Try using .loc[row_indexer,col_indexer] = value instead\n",
      "\n",
      "See the caveats in the documentation: https://pandas.pydata.org/pandas-docs/stable/user_guide/indexing.html#returning-a-view-versus-a-copy\n",
      "  self._setitem_single_column(loc, value[:, i].tolist(), pi)\n",
      "C:\\Users\\jaker\\miniconda3\\envs\\finance\\lib\\site-packages\\pandas\\core\\indexing.py:1738: SettingWithCopyWarning: \n",
      "A value is trying to be set on a copy of a slice from a DataFrame.\n",
      "Try using .loc[row_indexer,col_indexer] = value instead\n",
      "\n",
      "See the caveats in the documentation: https://pandas.pydata.org/pandas-docs/stable/user_guide/indexing.html#returning-a-view-versus-a-copy\n",
      "  self._setitem_single_column(loc, value[:, i].tolist(), pi)\n",
      "C:\\Users\\jaker\\miniconda3\\envs\\finance\\lib\\site-packages\\pandas\\core\\indexing.py:1738: SettingWithCopyWarning: \n",
      "A value is trying to be set on a copy of a slice from a DataFrame.\n",
      "Try using .loc[row_indexer,col_indexer] = value instead\n",
      "\n",
      "See the caveats in the documentation: https://pandas.pydata.org/pandas-docs/stable/user_guide/indexing.html#returning-a-view-versus-a-copy\n",
      "  self._setitem_single_column(loc, value[:, i].tolist(), pi)\n",
      "C:\\Users\\jaker\\miniconda3\\envs\\finance\\lib\\site-packages\\pandas\\core\\indexing.py:1738: SettingWithCopyWarning: \n",
      "A value is trying to be set on a copy of a slice from a DataFrame.\n",
      "Try using .loc[row_indexer,col_indexer] = value instead\n",
      "\n",
      "See the caveats in the documentation: https://pandas.pydata.org/pandas-docs/stable/user_guide/indexing.html#returning-a-view-versus-a-copy\n",
      "  self._setitem_single_column(loc, value[:, i].tolist(), pi)\n",
      "C:\\Users\\jaker\\miniconda3\\envs\\finance\\lib\\site-packages\\pandas\\core\\indexing.py:1738: SettingWithCopyWarning: \n",
      "A value is trying to be set on a copy of a slice from a DataFrame.\n",
      "Try using .loc[row_indexer,col_indexer] = value instead\n",
      "\n",
      "See the caveats in the documentation: https://pandas.pydata.org/pandas-docs/stable/user_guide/indexing.html#returning-a-view-versus-a-copy\n",
      "  self._setitem_single_column(loc, value[:, i].tolist(), pi)\n",
      "C:\\Users\\jaker\\miniconda3\\envs\\finance\\lib\\site-packages\\pandas\\core\\indexing.py:1738: SettingWithCopyWarning: \n",
      "A value is trying to be set on a copy of a slice from a DataFrame.\n",
      "Try using .loc[row_indexer,col_indexer] = value instead\n",
      "\n",
      "See the caveats in the documentation: https://pandas.pydata.org/pandas-docs/stable/user_guide/indexing.html#returning-a-view-versus-a-copy\n",
      "  self._setitem_single_column(loc, value[:, i].tolist(), pi)\n",
      "C:\\Users\\jaker\\miniconda3\\envs\\finance\\lib\\site-packages\\pandas\\core\\indexing.py:1738: SettingWithCopyWarning: \n",
      "A value is trying to be set on a copy of a slice from a DataFrame.\n",
      "Try using .loc[row_indexer,col_indexer] = value instead\n",
      "\n",
      "See the caveats in the documentation: https://pandas.pydata.org/pandas-docs/stable/user_guide/indexing.html#returning-a-view-versus-a-copy\n",
      "  self._setitem_single_column(loc, value[:, i].tolist(), pi)\n",
      "C:\\Users\\jaker\\miniconda3\\envs\\finance\\lib\\site-packages\\pandas\\core\\indexing.py:1738: SettingWithCopyWarning: \n",
      "A value is trying to be set on a copy of a slice from a DataFrame.\n",
      "Try using .loc[row_indexer,col_indexer] = value instead\n",
      "\n",
      "See the caveats in the documentation: https://pandas.pydata.org/pandas-docs/stable/user_guide/indexing.html#returning-a-view-versus-a-copy\n",
      "  self._setitem_single_column(loc, value[:, i].tolist(), pi)\n",
      "C:\\Users\\jaker\\miniconda3\\envs\\finance\\lib\\site-packages\\pandas\\core\\indexing.py:1738: SettingWithCopyWarning: \n",
      "A value is trying to be set on a copy of a slice from a DataFrame.\n",
      "Try using .loc[row_indexer,col_indexer] = value instead\n",
      "\n",
      "See the caveats in the documentation: https://pandas.pydata.org/pandas-docs/stable/user_guide/indexing.html#returning-a-view-versus-a-copy\n",
      "  self._setitem_single_column(loc, value[:, i].tolist(), pi)\n",
      "C:\\Users\\jaker\\miniconda3\\envs\\finance\\lib\\site-packages\\pandas\\core\\indexing.py:1738: SettingWithCopyWarning: \n",
      "A value is trying to be set on a copy of a slice from a DataFrame.\n",
      "Try using .loc[row_indexer,col_indexer] = value instead\n",
      "\n",
      "See the caveats in the documentation: https://pandas.pydata.org/pandas-docs/stable/user_guide/indexing.html#returning-a-view-versus-a-copy\n",
      "  self._setitem_single_column(loc, value[:, i].tolist(), pi)\n"
     ]
    },
    {
     "name": "stderr",
     "output_type": "stream",
     "text": [
      "C:\\Users\\jaker\\miniconda3\\envs\\finance\\lib\\site-packages\\pandas\\core\\indexing.py:1738: SettingWithCopyWarning: \n",
      "A value is trying to be set on a copy of a slice from a DataFrame.\n",
      "Try using .loc[row_indexer,col_indexer] = value instead\n",
      "\n",
      "See the caveats in the documentation: https://pandas.pydata.org/pandas-docs/stable/user_guide/indexing.html#returning-a-view-versus-a-copy\n",
      "  self._setitem_single_column(loc, value[:, i].tolist(), pi)\n",
      "C:\\Users\\jaker\\miniconda3\\envs\\finance\\lib\\site-packages\\pandas\\core\\indexing.py:1738: SettingWithCopyWarning: \n",
      "A value is trying to be set on a copy of a slice from a DataFrame.\n",
      "Try using .loc[row_indexer,col_indexer] = value instead\n",
      "\n",
      "See the caveats in the documentation: https://pandas.pydata.org/pandas-docs/stable/user_guide/indexing.html#returning-a-view-versus-a-copy\n",
      "  self._setitem_single_column(loc, value[:, i].tolist(), pi)\n"
     ]
    }
   ],
   "source": [
    "scaler_models = norm_per_stock_split(train, valid, test, features, MinMaxScaler)"
   ]
  },
  {
   "cell_type": "markdown",
   "id": "enhanced-calculation",
   "metadata": {},
   "source": [
    "### Merge in the climate data"
   ]
  },
  {
   "cell_type": "code",
   "execution_count": 34,
   "id": "residential-plate",
   "metadata": {},
   "outputs": [
    {
     "data": {
      "text/plain": [
       "Term\n",
       "Date                               0\n",
       "carbon tax                         0\n",
       "climate change                     0\n",
       "electric vehicles                  0\n",
       "environmental protection agency    0\n",
       "fossil fuels                       0\n",
       "fracking                           0\n",
       "global warming                     0\n",
       "greenhouse gas                     0\n",
       "oil                                0\n",
       "renewable                          0\n",
       "dtype: int64"
      ]
     },
     "execution_count": 34,
     "metadata": {},
     "output_type": "execute_result"
    }
   ],
   "source": [
    "climate_trends_data.isna().sum()"
   ]
  },
  {
   "cell_type": "code",
   "execution_count": 35,
   "id": "tribal-panama",
   "metadata": {},
   "outputs": [
    {
     "data": {
      "text/html": [
       "<div>\n",
       "<style scoped>\n",
       "    .dataframe tbody tr th:only-of-type {\n",
       "        vertical-align: middle;\n",
       "    }\n",
       "\n",
       "    .dataframe tbody tr th {\n",
       "        vertical-align: top;\n",
       "    }\n",
       "\n",
       "    .dataframe thead th {\n",
       "        text-align: right;\n",
       "    }\n",
       "</style>\n",
       "<table border=\"1\" class=\"dataframe\">\n",
       "  <thead>\n",
       "    <tr style=\"text-align: right;\">\n",
       "      <th>Term</th>\n",
       "      <th>Date</th>\n",
       "      <th>carbon tax</th>\n",
       "      <th>climate change</th>\n",
       "      <th>electric vehicles</th>\n",
       "      <th>environmental protection agency</th>\n",
       "      <th>fossil fuels</th>\n",
       "      <th>fracking</th>\n",
       "      <th>global warming</th>\n",
       "      <th>greenhouse gas</th>\n",
       "      <th>oil</th>\n",
       "      <th>renewable</th>\n",
       "    </tr>\n",
       "  </thead>\n",
       "  <tbody>\n",
       "    <tr>\n",
       "      <th>244</th>\n",
       "      <td>2015-09-02</td>\n",
       "      <td>-0.481888</td>\n",
       "      <td>-0.53793</td>\n",
       "      <td>-1.006716</td>\n",
       "      <td>-0.382898</td>\n",
       "      <td>-0.093499</td>\n",
       "      <td>-0.11779</td>\n",
       "      <td>0.015597</td>\n",
       "      <td>-0.756701</td>\n",
       "      <td>0.154939</td>\n",
       "      <td>0.028631</td>\n",
       "    </tr>\n",
       "  </tbody>\n",
       "</table>\n",
       "</div>"
      ],
      "text/plain": [
       "Term       Date  carbon tax  climate change  electric vehicles  environmental protection agency  fossil fuels  fracking  global warming  greenhouse gas       oil  renewable\n",
       "244  2015-09-02   -0.481888        -0.53793          -1.006716                        -0.382898     -0.093499  -0.11779        0.015597       -0.756701  0.154939   0.028631"
      ]
     },
     "execution_count": 35,
     "metadata": {},
     "output_type": "execute_result"
    }
   ],
   "source": [
    "climate_trends_data[climate_trends_data['Date']=='2015-09-02']"
   ]
  },
  {
   "cell_type": "code",
   "execution_count": 36,
   "id": "static-moisture",
   "metadata": {},
   "outputs": [],
   "source": [
    "train = train.merge(climate_trends_data, on=[\"Date\"], how='left')\n",
    "valid = valid.merge(climate_trends_data, on=[\"Date\"], how='left')\n",
    "test = test.merge(climate_trends_data, on=[\"Date\"], how='left')"
   ]
  },
  {
   "cell_type": "code",
   "execution_count": 37,
   "id": "unique-theta",
   "metadata": {},
   "outputs": [
    {
     "data": {
      "text/html": [
       "<div>\n",
       "<style scoped>\n",
       "    .dataframe tbody tr th:only-of-type {\n",
       "        vertical-align: middle;\n",
       "    }\n",
       "\n",
       "    .dataframe tbody tr th {\n",
       "        vertical-align: top;\n",
       "    }\n",
       "\n",
       "    .dataframe thead th {\n",
       "        text-align: right;\n",
       "    }\n",
       "</style>\n",
       "<table border=\"1\" class=\"dataframe\">\n",
       "  <thead>\n",
       "    <tr style=\"text-align: right;\">\n",
       "      <th></th>\n",
       "      <th>Ticker</th>\n",
       "      <th>Date</th>\n",
       "      <th>Close</th>\n",
       "      <th>High</th>\n",
       "      <th>Low</th>\n",
       "      <th>Open</th>\n",
       "      <th>Volume</th>\n",
       "      <th>HH</th>\n",
       "      <th>LL</th>\n",
       "      <th>AV</th>\n",
       "      <th>SMA</th>\n",
       "      <th>SD</th>\n",
       "      <th>WILLR</th>\n",
       "      <th>ATR</th>\n",
       "      <th>DMH</th>\n",
       "      <th>DML</th>\n",
       "      <th>EMA</th>\n",
       "      <th>WMA</th>\n",
       "      <th>BBHIGH</th>\n",
       "      <th>BBLOW</th>\n",
       "      <th>PERBHIGH</th>\n",
       "      <th>PERBLOW</th>\n",
       "      <th>TRIMA</th>\n",
       "      <th>RSI</th>\n",
       "      <th>DX</th>\n",
       "      <th>PDI</th>\n",
       "      <th>NDI</th>\n",
       "      <th>ADX</th>\n",
       "      <th>ROC</th>\n",
       "      <th>MACD</th>\n",
       "      <th>CCI</th>\n",
       "      <th>carbon tax</th>\n",
       "      <th>climate change</th>\n",
       "      <th>electric vehicles</th>\n",
       "      <th>environmental protection agency</th>\n",
       "      <th>fossil fuels</th>\n",
       "      <th>fracking</th>\n",
       "      <th>global warming</th>\n",
       "      <th>greenhouse gas</th>\n",
       "      <th>oil</th>\n",
       "      <th>renewable</th>\n",
       "    </tr>\n",
       "  </thead>\n",
       "  <tbody>\n",
       "  </tbody>\n",
       "</table>\n",
       "</div>"
      ],
      "text/plain": [
       "Empty DataFrame\n",
       "Columns: [Ticker, Date, Close, High, Low, Open, Volume, HH, LL, AV, SMA, SD, WILLR, ATR, DMH, DML, EMA, WMA, BBHIGH, BBLOW, PERBHIGH, PERBLOW, TRIMA, RSI, DX, PDI, NDI, ADX, ROC, MACD, CCI, carbon tax, climate change, electric vehicles, environmental protection agency, fossil fuels, fracking, global warming, greenhouse gas, oil, renewable]\n",
       "Index: []"
      ]
     },
     "execution_count": 37,
     "metadata": {},
     "output_type": "execute_result"
    }
   ],
   "source": [
    "train[train[terms].isna().sum(axis=1)>0]"
   ]
  },
  {
   "cell_type": "code",
   "execution_count": 38,
   "id": "worthy-boost",
   "metadata": {},
   "outputs": [
    {
     "data": {
      "text/plain": [
       "Ticker                               0\n",
       "Date                                 0\n",
       "Close                                0\n",
       "High                                 0\n",
       "Low                                  0\n",
       "Open                                 0\n",
       "Volume                               0\n",
       "HH                                   0\n",
       "LL                                   0\n",
       "AV                                   0\n",
       "SMA                                  0\n",
       "SD                                  11\n",
       "WILLR                                0\n",
       "ATR                                  0\n",
       "DMH                                  0\n",
       "DML                                  0\n",
       "EMA                                  0\n",
       "WMA                                143\n",
       "BBHIGH                              11\n",
       "BBLOW                               11\n",
       "PERBHIGH                            11\n",
       "PERBLOW                             11\n",
       "TRIMA                              143\n",
       "RSI                                154\n",
       "DX                                  59\n",
       "PDI                                  0\n",
       "NDI                                  0\n",
       "ADX                                 11\n",
       "ROC                                  0\n",
       "MACD                                 0\n",
       "CCI                                 11\n",
       "carbon tax                           0\n",
       "climate change                       0\n",
       "electric vehicles                    0\n",
       "environmental protection agency      0\n",
       "fossil fuels                         0\n",
       "fracking                             0\n",
       "global warming                       0\n",
       "greenhouse gas                       0\n",
       "oil                                  0\n",
       "renewable                            0\n",
       "dtype: int64"
      ]
     },
     "execution_count": 38,
     "metadata": {},
     "output_type": "execute_result"
    }
   ],
   "source": [
    "train.isna().sum()"
   ]
  },
  {
   "cell_type": "markdown",
   "id": "korean-swing",
   "metadata": {},
   "source": [
    "#### Prepare training inputs and outputs\n",
    "Convert the daily data points into a set of data points each with {trail_size} days.   \n",
    "We keep track of the tickers so we can later inverse the normalization with the right model. "
   ]
  },
  {
   "cell_type": "code",
   "execution_count": 39,
   "id": "practical-chance",
   "metadata": {},
   "outputs": [],
   "source": [
    "# valid.groupby('Ticker').apply(lambda x: apply_rolling(x, trail_size=trail_size, predict_length=predict_length, predict_change=predict_change))"
   ]
  },
  {
   "cell_type": "code",
   "execution_count": 40,
   "id": "powered-mother",
   "metadata": {},
   "outputs": [],
   "source": [
    "# apply_rolling(valid.loc[valid['Ticker']=='HYSR'], trail_size, predict_length, predict_change)"
   ]
  },
  {
   "cell_type": "code",
   "execution_count": 41,
   "id": "external-description",
   "metadata": {},
   "outputs": [],
   "source": [
    "# valid.loc[valid['Ticker']=='HYSR']"
   ]
  },
  {
   "cell_type": "code",
   "execution_count": 42,
   "id": "appreciated-instrumentation",
   "metadata": {},
   "outputs": [],
   "source": [
    "# valid.loc[valid['Ticker']=='HYSR'].isna().sum(axis=0)"
   ]
  },
  {
   "cell_type": "code",
   "execution_count": 43,
   "id": "diverse-silver",
   "metadata": {},
   "outputs": [
    {
     "name": "stdout",
     "output_type": "stream",
     "text": [
      "[(688, 14, 39), (688, 14, 39), (688, 14, 39), (587, 14, 39), (688, 14, 39), (688, 14, 39), (688, 14, 39), (512, 14, 39), (646, 14, 39), (463, 14, 39), (688, 14, 39)]\n",
      "[(219, 14, 39), (219, 14, 39), (219, 14, 39), (219, 14, 39), (219, 14, 39), (219, 14, 39), (219, 14, 39), (177, 14, 39), (219, 14, 39), (182, 14, 39), (205, 14, 39)]\n",
      "[(228, 14, 39), (228, 14, 39), (228, 14, 39), (228, 14, 39), (228, 14, 39), (228, 14, 39), (228, 14, 39), (214, 14, 39), (228, 14, 39), (127, 14, 39), (228, 14, 39)]\n"
     ]
    }
   ],
   "source": [
    "x_train, y_train, tickers_train = roll_all_stocks(train, trail_size, predict_length, predict_change=predict_change)\n",
    "x_valid, y_valid, tickers_valid = roll_all_stocks(valid, trail_size, predict_length, predict_change=predict_change)\n",
    "x_test, y_test, tickers_test = roll_all_stocks(test, trail_size, predict_length, predict_change=predict_change)"
   ]
  },
  {
   "cell_type": "code",
   "execution_count": 44,
   "id": "foster-guatemala",
   "metadata": {},
   "outputs": [],
   "source": [
    "num_features+=num_climate_features"
   ]
  },
  {
   "cell_type": "markdown",
   "id": "funded-frequency",
   "metadata": {},
   "source": [
    "#### Confirm shapes"
   ]
  },
  {
   "cell_type": "code",
   "execution_count": 45,
   "id": "dominant-pilot",
   "metadata": {},
   "outputs": [
    {
     "name": "stdout",
     "output_type": "stream",
     "text": [
      "x_train: (7024, 14, 39)\n",
      "y_train: (7024,)\n",
      "x_valid: (2316, 14, 39)\n",
      "y_valid (2316,)\n",
      "x_test: (2393, 14, 39)\n",
      "y_test (2393,)\n"
     ]
    }
   ],
   "source": [
    "print(\"x_train: {}\".format(x_train.shape))\n",
    "print(\"y_train: {}\".format(y_train.shape))\n",
    "print(\"x_valid: {}\".format(x_valid.shape))\n",
    "print(\"y_valid {}\".format(y_valid.shape))\n",
    "print(\"x_test: {}\".format(x_test.shape))\n",
    "print(\"y_test {}\".format(y_test.shape))"
   ]
  },
  {
   "cell_type": "code",
   "execution_count": 46,
   "id": "hollywood-forty",
   "metadata": {},
   "outputs": [
    {
     "name": "stdout",
     "output_type": "stream",
     "text": [
      "tickers_train: (7024,)\n",
      "tickers_train: (2316,)\n",
      "tickers_train: (2393,)\n"
     ]
    }
   ],
   "source": [
    "print(\"tickers_train: {}\".format(tickers_train.shape))\n",
    "print(\"tickers_train: {}\".format(tickers_valid.shape))\n",
    "print(\"tickers_train: {}\".format(tickers_test.shape))"
   ]
  },
  {
   "cell_type": "markdown",
   "id": "round-contemporary",
   "metadata": {},
   "source": [
    "### Model design"
   ]
  },
  {
   "cell_type": "code",
   "execution_count": 47,
   "id": "removed-degree",
   "metadata": {},
   "outputs": [],
   "source": [
    "model = Sequential()\n",
    "model.add(LSTM(units=75, input_shape=(trail_size, num_features), return_sequences=True))\n",
    "model.add(Dropout(0.25))\n",
    "model.add(LSTM(units=30, return_sequences=True))\n",
    "model.add(Dropout(0.25))\n",
    "\n",
    "model.add(LSTM(units=30, return_sequences=True))\n",
    "model.add(Dropout(0.25))\n",
    "\n",
    "model.add(Flatten())\n",
    "# model.add(Dense(50, activation='relu'))\n",
    "# model.add(Dense(25, activation='relu'))\n",
    "model.add(Dense(1, activation='linear'))"
   ]
  },
  {
   "cell_type": "code",
   "execution_count": 48,
   "id": "norman-rover",
   "metadata": {
    "scrolled": false
   },
   "outputs": [
    {
     "name": "stdout",
     "output_type": "stream",
     "text": [
      "Model: \"sequential\"\n",
      "_________________________________________________________________\n",
      "Layer (type)                 Output Shape              Param #   \n",
      "=================================================================\n",
      "lstm (LSTM)                  (None, 14, 75)            34500     \n",
      "_________________________________________________________________\n",
      "dropout (Dropout)            (None, 14, 75)            0         \n",
      "_________________________________________________________________\n",
      "lstm_1 (LSTM)                (None, 14, 30)            12720     \n",
      "_________________________________________________________________\n",
      "dropout_1 (Dropout)          (None, 14, 30)            0         \n",
      "_________________________________________________________________\n",
      "lstm_2 (LSTM)                (None, 14, 30)            7320      \n",
      "_________________________________________________________________\n",
      "dropout_2 (Dropout)          (None, 14, 30)            0         \n",
      "_________________________________________________________________\n",
      "flatten (Flatten)            (None, 420)               0         \n",
      "_________________________________________________________________\n",
      "dense (Dense)                (None, 1)                 421       \n",
      "=================================================================\n",
      "Total params: 54,961\n",
      "Trainable params: 54,961\n",
      "Non-trainable params: 0\n",
      "_________________________________________________________________\n"
     ]
    }
   ],
   "source": [
    "model.summary()"
   ]
  },
  {
   "cell_type": "code",
   "execution_count": 49,
   "id": "hearing-greensboro",
   "metadata": {},
   "outputs": [],
   "source": [
    "time_stamp = time()\n",
    "tensorboard = TensorBoard(log_dir='logs/{}'.format(time_stamp))"
   ]
  },
  {
   "cell_type": "code",
   "execution_count": 50,
   "id": "earned-beads",
   "metadata": {},
   "outputs": [],
   "source": [
    "model.compile(optimizer='adam', loss='mean_squared_error')"
   ]
  },
  {
   "cell_type": "markdown",
   "id": "sacred-collar",
   "metadata": {},
   "source": [
    "### Train on many stocks"
   ]
  },
  {
   "cell_type": "code",
   "execution_count": 51,
   "id": "daily-angola",
   "metadata": {},
   "outputs": [
    {
     "name": "stdout",
     "output_type": "stream",
     "text": [
      "Epoch 1/100\n",
      "110/110 [==============================] - 8s 31ms/step - loss: 0.0873 - val_loss: 0.0299\n",
      "Epoch 2/100\n",
      "110/110 [==============================] - 1s 10ms/step - loss: 0.0212 - val_loss: 0.0238\n",
      "Epoch 3/100\n",
      "110/110 [==============================] - 1s 10ms/step - loss: 0.0121 - val_loss: 0.0222\n",
      "Epoch 4/100\n",
      "110/110 [==============================] - 1s 10ms/step - loss: 0.0106 - val_loss: 0.0235\n",
      "Epoch 5/100\n",
      "110/110 [==============================] - 1s 10ms/step - loss: 0.0098 - val_loss: 0.0221\n",
      "Epoch 6/100\n",
      "110/110 [==============================] - 1s 10ms/step - loss: 0.0090 - val_loss: 0.0230\n",
      "Epoch 7/100\n",
      "110/110 [==============================] - 1s 10ms/step - loss: 0.0090 - val_loss: 0.0236\n",
      "Epoch 8/100\n",
      "110/110 [==============================] - 1s 10ms/step - loss: 0.0090 - val_loss: 0.0240\n",
      "Epoch 9/100\n",
      "110/110 [==============================] - 1s 10ms/step - loss: 0.0082 - val_loss: 0.0250\n",
      "Epoch 10/100\n",
      "110/110 [==============================] - 1s 10ms/step - loss: 0.0078 - val_loss: 0.0257\n",
      "Epoch 11/100\n",
      "110/110 [==============================] - 1s 10ms/step - loss: 0.0079 - val_loss: 0.0262\n",
      "Epoch 12/100\n",
      "110/110 [==============================] - 1s 10ms/step - loss: 0.0072 - val_loss: 0.0263\n",
      "Epoch 13/100\n",
      "110/110 [==============================] - 1s 10ms/step - loss: 0.0072 - val_loss: 0.0262\n",
      "Epoch 14/100\n",
      "110/110 [==============================] - 1s 9ms/step - loss: 0.0071 - val_loss: 0.0276\n",
      "Epoch 15/100\n",
      "110/110 [==============================] - 1s 10ms/step - loss: 0.0068 - val_loss: 0.0277\n",
      "Epoch 16/100\n",
      "110/110 [==============================] - 1s 10ms/step - loss: 0.0067 - val_loss: 0.0282\n",
      "Epoch 17/100\n",
      "110/110 [==============================] - 1s 10ms/step - loss: 0.0066 - val_loss: 0.0298\n",
      "Epoch 18/100\n",
      "110/110 [==============================] - 1s 10ms/step - loss: 0.0064 - val_loss: 0.0307\n",
      "Epoch 19/100\n",
      "110/110 [==============================] - 1s 10ms/step - loss: 0.0062 - val_loss: 0.0293\n",
      "Epoch 20/100\n",
      "110/110 [==============================] - 1s 10ms/step - loss: 0.0065 - val_loss: 0.0306\n",
      "Epoch 21/100\n",
      "110/110 [==============================] - 1s 9ms/step - loss: 0.0063 - val_loss: 0.0310\n",
      "Epoch 22/100\n",
      "110/110 [==============================] - 1s 9ms/step - loss: 0.0060 - val_loss: 0.0317\n",
      "Epoch 23/100\n",
      "110/110 [==============================] - 1s 9ms/step - loss: 0.0060 - val_loss: 0.0325\n",
      "Epoch 24/100\n",
      "110/110 [==============================] - 1s 10ms/step - loss: 0.0061 - val_loss: 0.0322\n",
      "Epoch 25/100\n",
      "110/110 [==============================] - 1s 10ms/step - loss: 0.0059 - val_loss: 0.0338\n",
      "Epoch 26/100\n",
      "110/110 [==============================] - 1s 10ms/step - loss: 0.0058 - val_loss: 0.0339\n",
      "Epoch 27/100\n",
      "110/110 [==============================] - 1s 10ms/step - loss: 0.0058 - val_loss: 0.0327\n",
      "Epoch 28/100\n",
      "110/110 [==============================] - 1s 10ms/step - loss: 0.0054 - val_loss: 0.0326\n",
      "Epoch 29/100\n",
      "110/110 [==============================] - 1s 10ms/step - loss: 0.0055 - val_loss: 0.0328\n",
      "Epoch 30/100\n",
      "110/110 [==============================] - 1s 9ms/step - loss: 0.0054 - val_loss: 0.0322\n",
      "Epoch 31/100\n",
      "110/110 [==============================] - 1s 9ms/step - loss: 0.0054 - val_loss: 0.0325\n",
      "Epoch 32/100\n",
      "110/110 [==============================] - 1s 10ms/step - loss: 0.0055 - val_loss: 0.0320\n",
      "Epoch 33/100\n",
      "110/110 [==============================] - 1s 10ms/step - loss: 0.0056 - val_loss: 0.0312\n",
      "Epoch 34/100\n",
      "110/110 [==============================] - 1s 10ms/step - loss: 0.0057 - val_loss: 0.0311\n",
      "Epoch 35/100\n",
      "110/110 [==============================] - 1s 10ms/step - loss: 0.0051 - val_loss: 0.0302\n",
      "Epoch 36/100\n",
      "110/110 [==============================] - 1s 10ms/step - loss: 0.0055 - val_loss: 0.0309\n",
      "Epoch 37/100\n",
      "110/110 [==============================] - 1s 10ms/step - loss: 0.0055 - val_loss: 0.0334\n",
      "Epoch 38/100\n",
      "110/110 [==============================] - 1s 10ms/step - loss: 0.0054 - val_loss: 0.0329\n",
      "Epoch 39/100\n",
      "110/110 [==============================] - 1s 10ms/step - loss: 0.0048 - val_loss: 0.0320\n",
      "Epoch 40/100\n",
      "110/110 [==============================] - 1s 10ms/step - loss: 0.0047 - val_loss: 0.0295\n",
      "Epoch 41/100\n",
      "110/110 [==============================] - 1s 10ms/step - loss: 0.0049 - val_loss: 0.0310\n",
      "Epoch 42/100\n",
      "110/110 [==============================] - 1s 10ms/step - loss: 0.0049 - val_loss: 0.0310\n",
      "Epoch 43/100\n",
      "110/110 [==============================] - 1s 10ms/step - loss: 0.0067 - val_loss: 0.0322\n",
      "Epoch 44/100\n",
      "110/110 [==============================] - 1s 10ms/step - loss: 0.0050 - val_loss: 0.0296\n",
      "Epoch 45/100\n",
      "110/110 [==============================] - 1s 10ms/step - loss: 0.0048 - val_loss: 0.0291\n",
      "Epoch 46/100\n",
      "110/110 [==============================] - 1s 10ms/step - loss: 0.0050 - val_loss: 0.0277\n",
      "Epoch 47/100\n",
      "110/110 [==============================] - 1s 10ms/step - loss: 0.0046 - val_loss: 0.0280\n",
      "Epoch 48/100\n",
      "110/110 [==============================] - 1s 10ms/step - loss: 0.0045 - val_loss: 0.0259\n",
      "Epoch 49/100\n",
      "110/110 [==============================] - 1s 10ms/step - loss: 0.0048 - val_loss: 0.0255\n",
      "Epoch 50/100\n",
      "110/110 [==============================] - 1s 10ms/step - loss: 0.0046 - val_loss: 0.0267\n",
      "Epoch 51/100\n",
      "110/110 [==============================] - 1s 10ms/step - loss: 0.0045 - val_loss: 0.0287\n",
      "Epoch 52/100\n",
      "110/110 [==============================] - 1s 10ms/step - loss: 0.0049 - val_loss: 0.0237\n",
      "Epoch 53/100\n",
      "110/110 [==============================] - 1s 10ms/step - loss: 0.0047 - val_loss: 0.0269\n",
      "Epoch 54/100\n",
      "110/110 [==============================] - 1s 10ms/step - loss: 0.0049 - val_loss: 0.0245\n",
      "Epoch 55/100\n",
      "110/110 [==============================] - 1s 10ms/step - loss: 0.0044 - val_loss: 0.0251\n",
      "Epoch 56/100\n",
      "110/110 [==============================] - 1s 10ms/step - loss: 0.0043 - val_loss: 0.0239\n",
      "Epoch 57/100\n",
      "110/110 [==============================] - 1s 10ms/step - loss: 0.0045 - val_loss: 0.0231\n",
      "Epoch 58/100\n",
      "110/110 [==============================] - 1s 10ms/step - loss: 0.0039 - val_loss: 0.0260\n",
      "Epoch 59/100\n",
      "110/110 [==============================] - 1s 10ms/step - loss: 0.0045 - val_loss: 0.0253\n",
      "Epoch 60/100\n",
      "110/110 [==============================] - 1s 10ms/step - loss: 0.0039 - val_loss: 0.0248\n",
      "Epoch 61/100\n",
      "110/110 [==============================] - 1s 10ms/step - loss: 0.0038 - val_loss: 0.0252\n",
      "Epoch 62/100\n",
      "110/110 [==============================] - 1s 10ms/step - loss: 0.0040 - val_loss: 0.0249\n",
      "Epoch 63/100\n",
      "110/110 [==============================] - 1s 10ms/step - loss: 0.0036 - val_loss: 0.0254\n",
      "Epoch 64/100\n",
      "110/110 [==============================] - 1s 10ms/step - loss: 0.0037 - val_loss: 0.0244\n",
      "Epoch 65/100\n",
      "110/110 [==============================] - 1s 10ms/step - loss: 0.0040 - val_loss: 0.0245\n",
      "Epoch 66/100\n",
      "110/110 [==============================] - 1s 10ms/step - loss: 0.0035 - val_loss: 0.0250\n",
      "Epoch 67/100\n",
      "110/110 [==============================] - 1s 10ms/step - loss: 0.0034 - val_loss: 0.0250\n",
      "Epoch 68/100\n",
      "110/110 [==============================] - 1s 10ms/step - loss: 0.0033 - val_loss: 0.0239\n",
      "Epoch 69/100\n",
      "110/110 [==============================] - 1s 10ms/step - loss: 0.0033 - val_loss: 0.0252\n",
      "Epoch 70/100\n",
      "110/110 [==============================] - 1s 10ms/step - loss: 0.0033 - val_loss: 0.0252\n",
      "Epoch 71/100\n",
      "110/110 [==============================] - 1s 10ms/step - loss: 0.0032 - val_loss: 0.0262\n",
      "Epoch 72/100\n",
      "110/110 [==============================] - 1s 10ms/step - loss: 0.0031 - val_loss: 0.0230\n",
      "Epoch 73/100\n",
      "110/110 [==============================] - 1s 10ms/step - loss: 0.0031 - val_loss: 0.0242\n",
      "Epoch 74/100\n",
      "110/110 [==============================] - 1s 10ms/step - loss: 0.0032 - val_loss: 0.0272\n",
      "Epoch 75/100\n",
      "110/110 [==============================] - 1s 10ms/step - loss: 0.0029 - val_loss: 0.0240\n",
      "Epoch 76/100\n",
      "110/110 [==============================] - 1s 9ms/step - loss: 0.0029 - val_loss: 0.0271\n",
      "Epoch 77/100\n",
      "110/110 [==============================] - 1s 9ms/step - loss: 0.0030 - val_loss: 0.0279\n",
      "Epoch 78/100\n",
      "110/110 [==============================] - 1s 9ms/step - loss: 0.0029 - val_loss: 0.0273\n",
      "Epoch 79/100\n",
      "110/110 [==============================] - 1s 9ms/step - loss: 0.0027 - val_loss: 0.0468\n",
      "Epoch 80/100\n",
      "110/110 [==============================] - 1s 9ms/step - loss: 0.0029 - val_loss: 0.0303\n",
      "Epoch 81/100\n",
      "110/110 [==============================] - 1s 9ms/step - loss: 0.0027 - val_loss: 0.0319\n",
      "Epoch 82/100\n",
      "110/110 [==============================] - 1s 9ms/step - loss: 0.0030 - val_loss: 0.0280\n",
      "Epoch 83/100\n",
      "110/110 [==============================] - 1s 9ms/step - loss: 0.0028 - val_loss: 0.0305\n",
      "Epoch 84/100\n",
      "110/110 [==============================] - 1s 9ms/step - loss: 0.0031 - val_loss: 0.0401\n",
      "Epoch 85/100\n",
      "110/110 [==============================] - 1s 9ms/step - loss: 0.0030 - val_loss: 0.0286\n",
      "Epoch 86/100\n",
      "110/110 [==============================] - 1s 10ms/step - loss: 0.0032 - val_loss: 0.0343\n",
      "Epoch 87/100\n",
      "110/110 [==============================] - 1s 9ms/step - loss: 0.0032 - val_loss: 0.0428\n",
      "Epoch 88/100\n",
      "110/110 [==============================] - 1s 9ms/step - loss: 0.0029 - val_loss: 0.0487\n",
      "Epoch 89/100\n",
      "110/110 [==============================] - 1s 9ms/step - loss: 0.0026 - val_loss: 0.0360\n",
      "Epoch 90/100\n",
      "110/110 [==============================] - 1s 9ms/step - loss: 0.0025 - val_loss: 0.0318\n",
      "Epoch 91/100\n",
      "110/110 [==============================] - 1s 10ms/step - loss: 0.0026 - val_loss: 0.0306\n",
      "Epoch 92/100\n",
      "110/110 [==============================] - 1s 9ms/step - loss: 0.0032 - val_loss: 0.0297\n",
      "Epoch 93/100\n",
      "110/110 [==============================] - 1s 9ms/step - loss: 0.0026 - val_loss: 0.0331\n",
      "Epoch 94/100\n",
      "110/110 [==============================] - 1s 9ms/step - loss: 0.0035 - val_loss: 0.0314\n",
      "Epoch 95/100\n",
      "110/110 [==============================] - 1s 9ms/step - loss: 0.0056 - val_loss: 0.0359\n",
      "Epoch 96/100\n",
      "110/110 [==============================] - 1s 10ms/step - loss: 0.0058 - val_loss: 0.0412\n",
      "Epoch 97/100\n",
      "110/110 [==============================] - 1s 10ms/step - loss: 0.0031 - val_loss: 0.0155\n",
      "Epoch 98/100\n",
      "110/110 [==============================] - 1s 10ms/step - loss: 0.0026 - val_loss: 0.0203\n",
      "Epoch 99/100\n",
      "110/110 [==============================] - 1s 10ms/step - loss: 0.0025 - val_loss: 0.0255\n",
      "Epoch 100/100\n",
      "110/110 [==============================] - 1s 10ms/step - loss: 0.0025 - val_loss: 0.0285\n"
     ]
    }
   ],
   "source": [
    "history1 = model.fit(x_train, y_train, epochs=100, validation_data=(x_valid, y_valid), batch_size=64, shuffle=False, callbacks=[tensorboard])"
   ]
  },
  {
   "cell_type": "markdown",
   "id": "developing-pulse",
   "metadata": {},
   "source": [
    "### Prepare data for one stock"
   ]
  },
  {
   "cell_type": "code",
   "execution_count": 52,
   "id": "multiple-industry",
   "metadata": {},
   "outputs": [],
   "source": [
    "target_stock = 'FSLR'"
   ]
  },
  {
   "cell_type": "code",
   "execution_count": 53,
   "id": "first-large",
   "metadata": {},
   "outputs": [],
   "source": [
    "single_stock_dataset = dataset[dataset['Ticker']==target_stock].reset_index(drop=True)"
   ]
  },
  {
   "cell_type": "code",
   "execution_count": 54,
   "id": "similar-genius",
   "metadata": {},
   "outputs": [
    {
     "data": {
      "text/plain": [
       "<AxesSubplot:xlabel='Date', ylabel='Close'>"
      ]
     },
     "execution_count": 54,
     "metadata": {},
     "output_type": "execute_result"
    },
    {
     "data": {
      "image/png": "[encoded data removed]",
      "text/plain": [
       "<Figure size 432x288 with 1 Axes>"
      ]
     },
     "metadata": {
      "needs_background": "light"
     },
     "output_type": "display_data"
    }
   ],
   "source": [
    "sns.lineplot(x=single_stock_dataset['Date'], y=single_stock_dataset['Close'])"
   ]
  },
  {
   "cell_type": "markdown",
   "id": "charming-yacht",
   "metadata": {},
   "source": [
    "### Train test split"
   ]
  },
  {
   "cell_type": "code",
   "execution_count": 55,
   "id": "healthy-pressing",
   "metadata": {},
   "outputs": [],
   "source": [
    "train = single_stock_dataset.loc[single_stock_dataset['Date'] < \"2018-03-01\"]\n",
    "valid = single_stock_dataset.loc[(single_stock_dataset['Date'] > \"2018-03-13\") & (single_stock_dataset['Date'] < \"2019-03-01\")]\n",
    "test = single_stock_dataset.loc[(single_stock_dataset['Date'] > \"2019-03-01\") & (single_stock_dataset['Date'] < \"2020-03-01\")]"
   ]
  },
  {
   "cell_type": "code",
   "execution_count": 56,
   "id": "negative-objective",
   "metadata": {},
   "outputs": [
    {
     "name": "stderr",
     "output_type": "stream",
     "text": [
      "C:\\Users\\jaker\\miniconda3\\envs\\finance\\lib\\site-packages\\pandas\\core\\indexing.py:1738: SettingWithCopyWarning: \n",
      "A value is trying to be set on a copy of a slice from a DataFrame.\n",
      "Try using .loc[row_indexer,col_indexer] = value instead\n",
      "\n",
      "See the caveats in the documentation: https://pandas.pydata.org/pandas-docs/stable/user_guide/indexing.html#returning-a-view-versus-a-copy\n",
      "  self._setitem_single_column(loc, value[:, i].tolist(), pi)\n",
      "C:\\Users\\jaker\\miniconda3\\envs\\finance\\lib\\site-packages\\pandas\\core\\indexing.py:1738: SettingWithCopyWarning: \n",
      "A value is trying to be set on a copy of a slice from a DataFrame.\n",
      "Try using .loc[row_indexer,col_indexer] = value instead\n",
      "\n",
      "See the caveats in the documentation: https://pandas.pydata.org/pandas-docs/stable/user_guide/indexing.html#returning-a-view-versus-a-copy\n",
      "  self._setitem_single_column(loc, value[:, i].tolist(), pi)\n",
      "C:\\Users\\jaker\\miniconda3\\envs\\finance\\lib\\site-packages\\pandas\\core\\indexing.py:1738: SettingWithCopyWarning: \n",
      "A value is trying to be set on a copy of a slice from a DataFrame.\n",
      "Try using .loc[row_indexer,col_indexer] = value instead\n",
      "\n",
      "See the caveats in the documentation: https://pandas.pydata.org/pandas-docs/stable/user_guide/indexing.html#returning-a-view-versus-a-copy\n",
      "  self._setitem_single_column(loc, value[:, i].tolist(), pi)\n"
     ]
    }
   ],
   "source": [
    "single_stock_scaler_models = norm_per_stock_split(train, valid, test, features, MinMaxScaler)"
   ]
  },
  {
   "cell_type": "code",
   "execution_count": 57,
   "id": "worthy-iraqi",
   "metadata": {},
   "outputs": [],
   "source": [
    "train = train.merge(climate_trends_data, on=[\"Date\"], how='left')\n",
    "valid = valid.merge(climate_trends_data, on=[\"Date\"], how='left')\n",
    "test = test.merge(climate_trends_data, on=[\"Date\"], how='left')"
   ]
  },
  {
   "cell_type": "markdown",
   "id": "binary-royal",
   "metadata": {},
   "source": [
    "#### Prepare training inputs and outputs\n",
    "Since we are using just one stock, we don't need to keep track of tickers"
   ]
  },
  {
   "cell_type": "code",
   "execution_count": 58,
   "id": "authentic-shipping",
   "metadata": {},
   "outputs": [
    {
     "name": "stdout",
     "output_type": "stream",
     "text": [
      "[(688, 14, 39)]\n",
      "[(219, 14, 39)]\n",
      "[(228, 14, 39)]\n"
     ]
    }
   ],
   "source": [
    "x_train, y_train, _ = roll_all_stocks(train, trail_size, predict_length, predict_change=predict_change)\n",
    "x_valid, y_valid, _ = roll_all_stocks(valid, trail_size, predict_length, predict_change=predict_change)\n",
    "x_test, y_test, _ = roll_all_stocks(test, trail_size, predict_length, predict_change=predict_change)"
   ]
  },
  {
   "cell_type": "markdown",
   "id": "supported-synthesis",
   "metadata": {},
   "source": [
    "#### Confirm shapes"
   ]
  },
  {
   "cell_type": "code",
   "execution_count": 59,
   "id": "hungry-fields",
   "metadata": {},
   "outputs": [
    {
     "name": "stdout",
     "output_type": "stream",
     "text": [
      "x_train: (688, 14, 39)\n",
      "y_train: (688,)\n",
      "x_valid: (219, 14, 39)\n",
      "y_valid (219,)\n",
      "x_test: (228, 14, 39)\n",
      "y_test (228,)\n"
     ]
    }
   ],
   "source": [
    "print(\"x_train: {}\".format(x_train.shape))\n",
    "print(\"y_train: {}\".format(y_train.shape))\n",
    "print(\"x_valid: {}\".format(x_valid.shape))\n",
    "print(\"y_valid {}\".format(y_valid.shape))\n",
    "print(\"x_test: {}\".format(x_test.shape))\n",
    "print(\"y_test {}\".format(y_test.shape))"
   ]
  },
  {
   "cell_type": "markdown",
   "id": "played-mother",
   "metadata": {},
   "source": [
    "### Test model on single stock"
   ]
  },
  {
   "cell_type": "code",
   "execution_count": 60,
   "id": "seeing-lighter",
   "metadata": {},
   "outputs": [
    {
     "name": "stdout",
     "output_type": "stream",
     "text": [
      "Training RMSE = 2.5551112727311183\n"
     ]
    }
   ],
   "source": [
    "print(\"Training RMSE = {}\".format(evaluate_model_rmse(model.predict(x_train), \n",
    "                                                      y_train,\n",
    "                                                     num_features - num_climate_features,\n",
    "                                                     single_stock_scaler_models[target_stock])))"
   ]
  },
  {
   "cell_type": "code",
   "execution_count": 61,
   "id": "adapted-allocation",
   "metadata": {},
   "outputs": [
    {
     "name": "stdout",
     "output_type": "stream",
     "text": [
      "Validation RMSE = 9.034309084021501\n"
     ]
    }
   ],
   "source": [
    "print(\"Validation RMSE = {}\".format(evaluate_model_rmse(model.predict(x_valid), \n",
    "                                                      y_valid,\n",
    "                                                     num_features - num_climate_features,\n",
    "                                                     single_stock_scaler_models[target_stock])))"
   ]
  },
  {
   "cell_type": "code",
   "execution_count": 62,
   "id": "mounted-identifier",
   "metadata": {},
   "outputs": [
    {
     "name": "stdout",
     "output_type": "stream",
     "text": [
      "Testing RMSE = 11.689008579993796\n"
     ]
    }
   ],
   "source": [
    "print(\"Testing RMSE = {}\".format(evaluate_model_rmse(model.predict(x_test), \n",
    "                                                     y_test,\n",
    "                                                    num_features - num_climate_features,\n",
    "                                                    single_stock_scaler_models[target_stock])))"
   ]
  },
  {
   "cell_type": "code",
   "execution_count": 63,
   "id": "large-poultry",
   "metadata": {},
   "outputs": [],
   "source": [
    "# model.layers[7].trainable = False\n",
    "# model.layers[4].trainable = False\n",
    "# model.layers[2].trainable = False\n",
    "# model.layers[0].trainable = False"
   ]
  },
  {
   "cell_type": "code",
   "execution_count": 64,
   "id": "occupied-spirituality",
   "metadata": {},
   "outputs": [
    {
     "name": "stdout",
     "output_type": "stream",
     "text": [
      "Model: \"sequential\"\n",
      "_________________________________________________________________\n",
      "Layer (type)                 Output Shape              Param #   \n",
      "=================================================================\n",
      "lstm (LSTM)                  (None, 14, 75)            34500     \n",
      "_________________________________________________________________\n",
      "dropout (Dropout)            (None, 14, 75)            0         \n",
      "_________________________________________________________________\n",
      "lstm_1 (LSTM)                (None, 14, 30)            12720     \n",
      "_________________________________________________________________\n",
      "dropout_1 (Dropout)          (None, 14, 30)            0         \n",
      "_________________________________________________________________\n",
      "lstm_2 (LSTM)                (None, 14, 30)            7320      \n",
      "_________________________________________________________________\n",
      "dropout_2 (Dropout)          (None, 14, 30)            0         \n",
      "_________________________________________________________________\n",
      "flatten (Flatten)            (None, 420)               0         \n",
      "_________________________________________________________________\n",
      "dense (Dense)                (None, 1)                 421       \n",
      "=================================================================\n",
      "Total params: 54,961\n",
      "Trainable params: 54,961\n",
      "Non-trainable params: 0\n",
      "_________________________________________________________________\n"
     ]
    }
   ],
   "source": [
    "model.summary()"
   ]
  },
  {
   "cell_type": "code",
   "execution_count": 65,
   "id": "friendly-residence",
   "metadata": {},
   "outputs": [],
   "source": [
    "model.compile(optimizer='adam', loss='mean_squared_error')"
   ]
  },
  {
   "cell_type": "markdown",
   "id": "essential-scheduling",
   "metadata": {},
   "source": [
    "### Train model on single stock"
   ]
  },
  {
   "cell_type": "code",
   "execution_count": 66,
   "id": "vocal-allocation",
   "metadata": {},
   "outputs": [],
   "source": [
    "tensorboard = TensorBoard(log_dir='logs/{}_2'.format(time_stamp))"
   ]
  },
  {
   "cell_type": "code",
   "execution_count": 67,
   "id": "threatened-projection",
   "metadata": {},
   "outputs": [
    {
     "name": "stdout",
     "output_type": "stream",
     "text": [
      "Epoch 1/45\n",
      "11/11 [==============================] - 7s 403ms/step - loss: 0.0036 - val_loss: 0.0373\n",
      "Epoch 2/45\n",
      "11/11 [==============================] - 0s 12ms/step - loss: 0.0036 - val_loss: 0.0218\n",
      "Epoch 3/45\n",
      "11/11 [==============================] - 0s 12ms/step - loss: 0.0038 - val_loss: 0.0295\n",
      "Epoch 4/45\n",
      "11/11 [==============================] - 0s 12ms/step - loss: 0.0032 - val_loss: 0.0202\n",
      "Epoch 5/45\n",
      "11/11 [==============================] - 0s 12ms/step - loss: 0.0033 - val_loss: 0.0282\n",
      "Epoch 6/45\n",
      "11/11 [==============================] - 0s 12ms/step - loss: 0.0029 - val_loss: 0.0231\n",
      "Epoch 7/45\n",
      "11/11 [==============================] - 0s 12ms/step - loss: 0.0025 - val_loss: 0.0334\n",
      "Epoch 8/45\n",
      "11/11 [==============================] - 0s 12ms/step - loss: 0.0024 - val_loss: 0.0242\n",
      "Epoch 9/45\n",
      "11/11 [==============================] - 0s 12ms/step - loss: 0.0024 - val_loss: 0.0327\n",
      "Epoch 10/45\n",
      "11/11 [==============================] - 0s 12ms/step - loss: 0.0024 - val_loss: 0.0233\n",
      "Epoch 11/45\n",
      "11/11 [==============================] - 0s 12ms/step - loss: 0.0024 - val_loss: 0.0294\n",
      "Epoch 12/45\n",
      "11/11 [==============================] - 0s 12ms/step - loss: 0.0020 - val_loss: 0.0267\n",
      "Epoch 13/45\n",
      "11/11 [==============================] - 0s 12ms/step - loss: 0.0020 - val_loss: 0.0339\n",
      "Epoch 14/45\n",
      "11/11 [==============================] - 0s 12ms/step - loss: 0.0022 - val_loss: 0.0217\n",
      "Epoch 15/45\n",
      "11/11 [==============================] - 0s 13ms/step - loss: 0.0022 - val_loss: 0.0313\n",
      "Epoch 16/45\n",
      "11/11 [==============================] - 0s 12ms/step - loss: 0.0019 - val_loss: 0.0256\n",
      "Epoch 17/45\n",
      "11/11 [==============================] - 0s 12ms/step - loss: 0.0021 - val_loss: 0.0308\n",
      "Epoch 18/45\n",
      "11/11 [==============================] - 0s 12ms/step - loss: 0.0021 - val_loss: 0.0200\n",
      "Epoch 19/45\n",
      "11/11 [==============================] - 0s 13ms/step - loss: 0.0022 - val_loss: 0.0270\n",
      "Epoch 20/45\n",
      "11/11 [==============================] - 0s 13ms/step - loss: 0.0022 - val_loss: 0.0207\n",
      "Epoch 21/45\n",
      "11/11 [==============================] - 0s 12ms/step - loss: 0.0022 - val_loss: 0.0265\n",
      "Epoch 22/45\n",
      "11/11 [==============================] - 0s 12ms/step - loss: 0.0020 - val_loss: 0.0208\n",
      "Epoch 23/45\n",
      "11/11 [==============================] - 0s 12ms/step - loss: 0.0020 - val_loss: 0.0295\n",
      "Epoch 24/45\n",
      "11/11 [==============================] - 0s 12ms/step - loss: 0.0019 - val_loss: 0.0216\n",
      "Epoch 25/45\n",
      "11/11 [==============================] - 0s 12ms/step - loss: 0.0020 - val_loss: 0.0278\n",
      "Epoch 26/45\n",
      "11/11 [==============================] - 0s 12ms/step - loss: 0.0023 - val_loss: 0.0188\n",
      "Epoch 27/45\n",
      "11/11 [==============================] - 0s 12ms/step - loss: 0.0023 - val_loss: 0.0233\n",
      "Epoch 28/45\n",
      "11/11 [==============================] - 0s 12ms/step - loss: 0.0020 - val_loss: 0.0179\n",
      "Epoch 29/45\n",
      "11/11 [==============================] - 0s 12ms/step - loss: 0.0020 - val_loss: 0.0243\n",
      "Epoch 30/45\n",
      "11/11 [==============================] - 0s 12ms/step - loss: 0.0020 - val_loss: 0.0166\n",
      "Epoch 31/45\n",
      "11/11 [==============================] - 0s 12ms/step - loss: 0.0017 - val_loss: 0.0209\n",
      "Epoch 32/45\n",
      "11/11 [==============================] - 0s 12ms/step - loss: 0.0017 - val_loss: 0.0178\n",
      "Epoch 33/45\n",
      "11/11 [==============================] - 0s 12ms/step - loss: 0.0015 - val_loss: 0.0213\n",
      "Epoch 34/45\n",
      "11/11 [==============================] - 0s 12ms/step - loss: 0.0015 - val_loss: 0.0185\n",
      "Epoch 35/45\n",
      "11/11 [==============================] - 0s 13ms/step - loss: 0.0014 - val_loss: 0.0170\n",
      "Epoch 36/45\n",
      "11/11 [==============================] - 0s 12ms/step - loss: 0.0014 - val_loss: 0.0166\n",
      "Epoch 37/45\n",
      "11/11 [==============================] - 0s 12ms/step - loss: 0.0016 - val_loss: 0.0163\n",
      "Epoch 38/45\n",
      "11/11 [==============================] - 0s 12ms/step - loss: 0.0014 - val_loss: 0.0159\n",
      "Epoch 39/45\n",
      "11/11 [==============================] - 0s 12ms/step - loss: 0.0013 - val_loss: 0.0168\n",
      "Epoch 40/45\n",
      "11/11 [==============================] - 0s 12ms/step - loss: 0.0012 - val_loss: 0.0182\n",
      "Epoch 41/45\n",
      "11/11 [==============================] - 0s 12ms/step - loss: 0.0015 - val_loss: 0.0164\n",
      "Epoch 42/45\n",
      "11/11 [==============================] - 0s 12ms/step - loss: 0.0017 - val_loss: 0.0211\n",
      "Epoch 43/45\n",
      "11/11 [==============================] - 0s 12ms/step - loss: 0.0019 - val_loss: 0.0141\n",
      "Epoch 44/45\n",
      "11/11 [==============================] - 0s 11ms/step - loss: 0.0023 - val_loss: 0.0220\n",
      "Epoch 45/45\n",
      "11/11 [==============================] - 0s 12ms/step - loss: 0.0022 - val_loss: 0.0138\n"
     ]
    }
   ],
   "source": [
    "history2 = model.fit(x_train, y_train, epochs=45, validation_data=(x_valid, y_valid), batch_size=64, shuffle=False, callbacks=[tensorboard])"
   ]
  },
  {
   "cell_type": "markdown",
   "id": "promising-republican",
   "metadata": {},
   "source": [
    "### Visualize results"
   ]
  },
  {
   "cell_type": "code",
   "execution_count": 68,
   "id": "greatest-sodium",
   "metadata": {},
   "outputs": [
    {
     "data": {
      "image/png": "[encoded data removed]",
      "text/plain": [
       "<Figure size 576x432 with 1 Axes>"
      ]
     },
     "metadata": {
      "needs_background": "light"
     },
     "output_type": "display_data"
    }
   ],
   "source": [
    "plot_loss(history1)"
   ]
  },
  {
   "cell_type": "code",
   "execution_count": 69,
   "id": "vanilla-reception",
   "metadata": {},
   "outputs": [
    {
     "data": {
      "image/png": "[encoded data removed]",
      "text/plain": [
       "<Figure size 576x432 with 1 Axes>"
      ]
     },
     "metadata": {
      "needs_background": "light"
     },
     "output_type": "display_data"
    }
   ],
   "source": [
    "plot_loss(history2)"
   ]
  },
  {
   "cell_type": "code",
   "execution_count": 70,
   "id": "prepared-principal",
   "metadata": {},
   "outputs": [
    {
     "name": "stdout",
     "output_type": "stream",
     "text": [
      "Training RMSE = 2.1426348751831927\n"
     ]
    }
   ],
   "source": [
    "print(\"Training RMSE = {}\".format(evaluate_model_rmse(model.predict(x_train), \n",
    "                                                      y_train,\n",
    "                                                     num_features - num_climate_features,\n",
    "                                                     single_stock_scaler_models[target_stock])))"
   ]
  },
  {
   "cell_type": "code",
   "execution_count": 71,
   "id": "alert-execution",
   "metadata": {},
   "outputs": [
    {
     "name": "stdout",
     "output_type": "stream",
     "text": [
      "Validation RMSE = 5.863926254926311\n"
     ]
    }
   ],
   "source": [
    "print(\"Validation RMSE = {}\".format(evaluate_model_rmse(model.predict(x_valid), \n",
    "                                                      y_valid,\n",
    "                                                     num_features - num_climate_features,\n",
    "                                                     single_stock_scaler_models[target_stock])))"
   ]
  },
  {
   "cell_type": "code",
   "execution_count": 72,
   "id": "final-advertising",
   "metadata": {},
   "outputs": [
    {
     "name": "stdout",
     "output_type": "stream",
     "text": [
      "Testing RMSE = 6.731191235572031\n"
     ]
    }
   ],
   "source": [
    "print(\"Testing RMSE = {}\".format(evaluate_model_rmse(model.predict(x_test), \n",
    "                                                     y_test,\n",
    "                                                    num_features - num_climate_features,\n",
    "                                                    single_stock_scaler_models[target_stock])))"
   ]
  },
  {
   "cell_type": "markdown",
   "id": "caroline-consumer",
   "metadata": {},
   "source": [
    "#### Compare to simple baseline"
   ]
  },
  {
   "cell_type": "code",
   "execution_count": 73,
   "id": "coral-dodge",
   "metadata": {},
   "outputs": [],
   "source": [
    "def predict_no_change(x, predict_change=False):\n",
    "    if predict_change:\n",
    "        return 0\n",
    "    else:\n",
    "        return x[-1][0]"
   ]
  },
  {
   "cell_type": "code",
   "execution_count": 74,
   "id": "lightweight-spray",
   "metadata": {},
   "outputs": [],
   "source": [
    "no_change_preds = np.array([predict_no_change(x, predict_change=predict_change) for x in x_train])\n",
    "no_change_preds = np.expand_dims(no_change_preds, axis=1)"
   ]
  },
  {
   "cell_type": "code",
   "execution_count": 75,
   "id": "genetic-holly",
   "metadata": {},
   "outputs": [
    {
     "data": {
      "text/plain": [
       "3.2108639733005924"
      ]
     },
     "execution_count": 75,
     "metadata": {},
     "output_type": "execute_result"
    }
   ],
   "source": [
    "evaluate_model_rmse(no_change_preds, y_train, num_features - num_climate_features, single_stock_scaler_models[target_stock])"
   ]
  },
  {
   "cell_type": "code",
   "execution_count": 76,
   "id": "uniform-evanescence",
   "metadata": {},
   "outputs": [],
   "source": [
    "no_change_preds = np.array([predict_no_change(x, predict_change=predict_change) for x in x_valid])\n",
    "no_change_preds = np.expand_dims(no_change_preds, axis=1)"
   ]
  },
  {
   "cell_type": "code",
   "execution_count": 77,
   "id": "focal-amazon",
   "metadata": {},
   "outputs": [
    {
     "data": {
      "text/plain": [
       "3.30124204798213"
      ]
     },
     "execution_count": 77,
     "metadata": {},
     "output_type": "execute_result"
    }
   ],
   "source": [
    "evaluate_model_rmse(no_change_preds, y_valid, num_features - num_climate_features, single_stock_scaler_models[target_stock])"
   ]
  },
  {
   "cell_type": "code",
   "execution_count": 78,
   "id": "injured-loading",
   "metadata": {},
   "outputs": [],
   "source": [
    "no_change_preds = np.array([predict_no_change(x, predict_change=predict_change) for x in x_test])\n",
    "no_change_preds = np.expand_dims(no_change_preds, axis=1)"
   ]
  },
  {
   "cell_type": "code",
   "execution_count": 79,
   "id": "wound-pantyhose",
   "metadata": {},
   "outputs": [
    {
     "data": {
      "text/plain": [
       "2.9398516313166847"
      ]
     },
     "execution_count": 79,
     "metadata": {},
     "output_type": "execute_result"
    }
   ],
   "source": [
    "evaluate_model_rmse(no_change_preds, y_test, num_features - num_climate_features, single_stock_scaler_models[target_stock])"
   ]
  },
  {
   "cell_type": "markdown",
   "id": "signal-willow",
   "metadata": {},
   "source": [
    "### Plot data against predictions"
   ]
  },
  {
   "cell_type": "code",
   "execution_count": 80,
   "id": "christian-stopping",
   "metadata": {},
   "outputs": [
    {
     "data": {
      "text/plain": [
       "<AxesSubplot:title={'center':'Training performance'}>"
      ]
     },
     "execution_count": 80,
     "metadata": {},
     "output_type": "execute_result"
    },
    {
     "data": {
      "image/png": "[encoded data removed]",
      "text/plain": [
       "<Figure size 864x576 with 1 Axes>"
      ]
     },
     "metadata": {
      "needs_background": "light"
     },
     "output_type": "display_data"
    }
   ],
   "source": [
    "price_vs_preds = pd.DataFrame([y_train, model.predict(x_train)[:, 0]]).T\n",
    "price_vs_preds.columns = ['Price', 'Prediction']\n",
    "price_vs_preds.plot(figsize=(12,8), title=\"Training performance\")"
   ]
  },
  {
   "cell_type": "code",
   "execution_count": 81,
   "id": "fitted-debate",
   "metadata": {},
   "outputs": [
    {
     "data": {
      "text/plain": [
       "<AxesSubplot:title={'center':'Validation performance'}>"
      ]
     },
     "execution_count": 81,
     "metadata": {},
     "output_type": "execute_result"
    },
    {
     "data": {
      "image/png": "[encoded data removed]",
      "text/plain": [
       "<Figure size 864x576 with 1 Axes>"
      ]
     },
     "metadata": {
      "needs_background": "light"
     },
     "output_type": "display_data"
    }
   ],
   "source": [
    "price_vs_preds = pd.DataFrame([y_valid, model.predict(x_valid)[:, 0]]).T\n",
    "price_vs_preds.columns = ['Price', 'Prediction']\n",
    "price_vs_preds.plot(figsize=(12,8), title=\"Validation performance\")"
   ]
  },
  {
   "cell_type": "code",
   "execution_count": 82,
   "id": "close-coupon",
   "metadata": {},
   "outputs": [
    {
     "data": {
      "text/plain": [
       "<AxesSubplot:title={'center':'Testing performance'}>"
      ]
     },
     "execution_count": 82,
     "metadata": {},
     "output_type": "execute_result"
    },
    {
     "data": {
      "image/png": "[encoded data removed]",
      "text/plain": [
       "<Figure size 864x576 with 1 Axes>"
      ]
     },
     "metadata": {
      "needs_background": "light"
     },
     "output_type": "display_data"
    }
   ],
   "source": [
    "price_vs_preds = pd.DataFrame([y_test, model.predict(x_test)[:, 0]]).T\n",
    "price_vs_preds.columns = ['Price', 'Prediction']\n",
    "price_vs_preds.plot(figsize=(12,8), title=\"Testing performance\")"
   ]
  },
  {
   "cell_type": "code",
   "execution_count": null,
   "id": "passive-vector",
   "metadata": {},
   "outputs": [],
   "source": []
  },
  {
   "cell_type": "code",
   "execution_count": null,
   "id": "under-disposal",
   "metadata": {},
   "outputs": [],
   "source": []
  },
  {
   "cell_type": "code",
   "execution_count": null,
   "id": "korean-internship",
   "metadata": {},
   "outputs": [],
   "source": []
  },
  {
   "cell_type": "code",
   "execution_count": null,
   "id": "realistic-corner",
   "metadata": {},
   "outputs": [],
   "source": []
  },
  {
   "cell_type": "code",
   "execution_count": null,
   "id": "ongoing-serbia",
   "metadata": {},
   "outputs": [],
   "source": []
  },
  {
   "cell_type": "code",
   "execution_count": null,
   "id": "renewable-orientation",
   "metadata": {},
   "outputs": [],
   "source": []
  },
  {
   "cell_type": "code",
   "execution_count": null,
   "id": "opposed-donna",
   "metadata": {},
   "outputs": [],
   "source": []
  },
  {
   "cell_type": "code",
   "execution_count": null,
   "id": "direct-ukraine",
   "metadata": {},
   "outputs": [],
   "source": []
  },
  {
   "cell_type": "code",
   "execution_count": null,
   "id": "vocal-marina",
   "metadata": {},
   "outputs": [],
   "source": []
  }
 ],
 "metadata": {
  "kernelspec": {
   "display_name": "Python 3",
   "language": "python",
   "name": "python3"
  },
  "language_info": {
   "codemirror_mode": {
    "name": "ipython",
    "version": 3
   },
   "file_extension": ".py",
   "mimetype": "text/x-python",
   "name": "python",
   "nbconvert_exporter": "python",
   "pygments_lexer": "ipython3",
   "version": "3.8.5"
  }
 },
 "nbformat": 4,
 "nbformat_minor": 5
}
