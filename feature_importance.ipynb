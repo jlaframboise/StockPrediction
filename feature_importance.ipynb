{
 "cells": [
  {
   "cell_type": "markdown",
   "id": "cardiac-marijuana",
   "metadata": {},
   "source": [
    "### Imports"
   ]
  },
  {
   "cell_type": "code",
   "execution_count": 1,
   "id": "bored-abraham",
   "metadata": {},
   "outputs": [
    {
     "data": {
      "text/html": [
       "<style>.container { width:100% !important; }</style>"
      ],
      "text/plain": [
       "<IPython.core.display.HTML object>"
      ]
     },
     "metadata": {},
     "output_type": "display_data"
    }
   ],
   "source": [
    "import os, sys\n",
    "import pandas as pd\n",
    "import numpy as np\n",
    "import yfinance as yf\n",
    "import matplotlib.pyplot as plt\n",
    "import seaborn as sns\n",
    "import random\n",
    "\n",
    "import tensorflow as tf\n",
    "from tensorflow.keras import Input, Model\n",
    "from tensorflow.keras.models import Sequential\n",
    "from tensorflow.keras.layers import *\n",
    "from tensorflow.keras.losses import CategoricalCrossentropy\n",
    "from tensorflow.keras.utils import to_categorical, plot_model\n",
    "from tensorflow.keras.preprocessing.sequence import TimeseriesGenerator\n",
    "from sklearn.metrics import confusion_matrix, mean_squared_error\n",
    "from sklearn.feature_extraction.text import CountVectorizer\n",
    "from sklearn.preprocessing import StandardScaler, MinMaxScaler, RobustScaler\n",
    "\n",
    "from time import time\n",
    "from tensorflow.python.keras.callbacks import TensorBoard\n",
    "\n",
    "from indicators import *\n",
    "from data_loading import *\n",
    "from util_functions import *\n",
    "\n",
    "\n",
    "physical_devices = tf.config.list_physical_devices('GPU')\n",
    "tf.config.experimental.set_memory_growth(physical_devices[0], enable=True)\n",
    "\n",
    "from IPython.core.display import display, HTML\n",
    "display(HTML(\"<style>.container { width:100% !important; }</style>\"))\n",
    "\n",
    "pd.set_option('display.max_rows', 500)\n",
    "pd.set_option('display.max_columns', 500)\n",
    "pd.set_option('display.width', 1000)\n"
   ]
  },
  {
   "cell_type": "markdown",
   "id": "approved-battlefield",
   "metadata": {},
   "source": [
    "### Parameters"
   ]
  },
  {
   "cell_type": "code",
   "execution_count": 2,
   "id": "engaged-november",
   "metadata": {},
   "outputs": [],
   "source": [
    "trail_size=14\n",
    "predict_length = 5\n",
    "time_period = '6y'\n",
    "predict_change=False"
   ]
  },
  {
   "cell_type": "markdown",
   "id": "literary-morgan",
   "metadata": {},
   "source": [
    "### Load stock data"
   ]
  },
  {
   "cell_type": "code",
   "execution_count": 3,
   "id": "beginning-comparison",
   "metadata": {},
   "outputs": [],
   "source": [
    "top100tech = ['AAPL', 'MSFT', 'TSM', 'NVDA', 'INTC', 'ASML', 'ADBE', 'CRM', 'AVGO', 'ORCL', 'CSCO', 'ACN', 'TXN', 'SHOP', 'QCOM', 'SAP', 'SNE', 'AMAT', 'INTU', 'NOW', 'SQ', 'IBM', 'MU', 'AMD',\n",
    "'UBER', 'FIS', 'LRCX', 'FISV', 'SNOW', 'INFY', 'TEAM', 'ADSK', 'DELL', 'WDAY', 'VMW', 'ADI', 'NXPI', 'KLAC',\n",
    "'CRWD', 'PLTR', 'DOCU', 'TEL', 'ERIC', 'MCHP', 'CDNS', 'CTSH', 'APH', 'SNPS', 'HPQ',\n",
    "'PANW', 'OKTA','RNG','STM','MRVL','XLNX','WIT','MSI','SWKS','GLW','DDOG','ANSS','U','ZS','FTNT','STNE','ZBRA','KEYS','FTV','MXIM','COUP','GRMN','SPLK','HUBS','WORK','NET','FLT','CDW','CAJ','AFRM','PAYC','TER',\n",
    "'VRSN','WDC', 'ZI', 'UMC','ANET','EPAM', 'UI','XM',\n",
    "'GIB','TRMB', 'TYL','WIX','HPE','LYFT', 'LOGI', 'MPWR']\n",
    "top10tech = top100tech[:10]"
   ]
  },
  {
   "cell_type": "code",
   "execution_count": 4,
   "id": "stretch-video",
   "metadata": {},
   "outputs": [],
   "source": [
    "top_energy = [\"XOM\", \"CVX\", \"RDS-A\", \"RDS-B\", \"PTR\", \"TOT\", \"BP\",\n",
    "\"SNP\", \"ENB\", \"COP\", \"EQNR\", \"PBR-A\", \"PBR\", \"EPD\",\n",
    "\"TRP\", \"E\", \"EOG\", \"SLB\", \"KMI\", \"PSX\", \"CNQ\",\n",
    "\"MPC\", \"PXD\", \"SU\", \"VLO\"]"
   ]
  },
  {
   "cell_type": "code",
   "execution_count": 5,
   "id": "olympic-exhaust",
   "metadata": {},
   "outputs": [],
   "source": [
    "traditional_energy_stocks = [\n",
    "    \"LNG\",\n",
    "    \"OKE\",\n",
    "    \"BKR\",\n",
    "    \"WMB\",\n",
    "    \"EQT\", \n",
    "    \"XEC\", \n",
    "    \"XOM\", \n",
    "    \"CVX\", \n",
    "    \"BP\", \n",
    "    \"OXY\", \n",
    "    \"COP\", \n",
    "    \"EOG\", \n",
    "    \"COG\", \n",
    "    \"CNQ\", \n",
    "    \"SLB\", \n",
    "    \"PTR\", \n",
    "    \"TOT\", \n",
    "    \"ENB\",  \n",
    "]"
   ]
  },
  {
   "cell_type": "code",
   "execution_count": 6,
   "id": "intimate-letters",
   "metadata": {},
   "outputs": [],
   "source": [
    "top_green = ['CSIQ', 'SPWR', 'AQN.TO', 'DQ', \n",
    "             #'HYSR', # HYSR has a lot of days where the prices don't change, causes nan indicators\n",
    "             'PLUG', 'SOL', 'NEE', 'ENPH', 'FSLR', 'SEDG', 'ORA']"
   ]
  },
  {
   "cell_type": "code",
   "execution_count": 7,
   "id": "devoted-wages",
   "metadata": {},
   "outputs": [
    {
     "name": "stdout",
     "output_type": "stream",
     "text": [
      "[*********************100%***********************]  11 of 11 completed\n"
     ]
    }
   ],
   "source": [
    "data = get_data_yf(top_green, time_period)"
   ]
  },
  {
   "cell_type": "code",
   "execution_count": 8,
   "id": "elect-justice",
   "metadata": {},
   "outputs": [
    {
     "data": {
      "text/plain": [
       "(1537, 55)"
      ]
     },
     "execution_count": 8,
     "metadata": {},
     "output_type": "execute_result"
    }
   ],
   "source": [
    "data.shape"
   ]
  },
  {
   "cell_type": "code",
   "execution_count": 9,
   "id": "reflected-norway",
   "metadata": {},
   "outputs": [],
   "source": [
    "data = data.dropna()"
   ]
  },
  {
   "cell_type": "code",
   "execution_count": 10,
   "id": "dying-colorado",
   "metadata": {},
   "outputs": [
    {
     "data": {
      "text/plain": [
       "(1481, 55)"
      ]
     },
     "execution_count": 10,
     "metadata": {},
     "output_type": "execute_result"
    }
   ],
   "source": [
    "data.shape"
   ]
  },
  {
   "cell_type": "code",
   "execution_count": 11,
   "id": "qualified-concept",
   "metadata": {},
   "outputs": [
    {
     "data": {
      "text/plain": [
       "0"
      ]
     },
     "execution_count": 11,
     "metadata": {},
     "output_type": "execute_result"
    }
   ],
   "source": [
    "data.isna().sum().sum()"
   ]
  },
  {
   "cell_type": "code",
   "execution_count": 12,
   "id": "vanilla-swiss",
   "metadata": {},
   "outputs": [],
   "source": [
    "data = process_stock_data_from_yf(data)"
   ]
  },
  {
   "cell_type": "code",
   "execution_count": 13,
   "id": "harmful-shield",
   "metadata": {},
   "outputs": [
    {
     "data": {
      "text/plain": [
       "100.0"
      ]
     },
     "execution_count": 13,
     "metadata": {},
     "output_type": "execute_result"
    }
   ],
   "source": [
    "has_data_ratio, data = filter_has_all_data(data)\n",
    "has_data_ratio"
   ]
  },
  {
   "cell_type": "code",
   "execution_count": 14,
   "id": "characteristic-grenada",
   "metadata": {},
   "outputs": [
    {
     "data": {
      "text/html": [
       "<div>\n",
       "<style scoped>\n",
       "    .dataframe tbody tr th:only-of-type {\n",
       "        vertical-align: middle;\n",
       "    }\n",
       "\n",
       "    .dataframe tbody tr th {\n",
       "        vertical-align: top;\n",
       "    }\n",
       "\n",
       "    .dataframe thead th {\n",
       "        text-align: right;\n",
       "    }\n",
       "</style>\n",
       "<table border=\"1\" class=\"dataframe\">\n",
       "  <thead>\n",
       "    <tr style=\"text-align: right;\">\n",
       "      <th></th>\n",
       "      <th>Ticker</th>\n",
       "      <th>Date</th>\n",
       "      <th>Close</th>\n",
       "      <th>High</th>\n",
       "      <th>Low</th>\n",
       "      <th>Open</th>\n",
       "      <th>Volume</th>\n",
       "    </tr>\n",
       "  </thead>\n",
       "  <tbody>\n",
       "    <tr>\n",
       "      <th>0</th>\n",
       "      <td>AQN.TO</td>\n",
       "      <td>2015-03-31</td>\n",
       "      <td>7.163019</td>\n",
       "      <td>7.193630</td>\n",
       "      <td>7.086492</td>\n",
       "      <td>7.185978</td>\n",
       "      <td>481900.0</td>\n",
       "    </tr>\n",
       "    <tr>\n",
       "      <th>1</th>\n",
       "      <td>AQN.TO</td>\n",
       "      <td>2015-04-01</td>\n",
       "      <td>7.140061</td>\n",
       "      <td>7.178326</td>\n",
       "      <td>7.048228</td>\n",
       "      <td>7.178326</td>\n",
       "      <td>455900.0</td>\n",
       "    </tr>\n",
       "    <tr>\n",
       "      <th>2</th>\n",
       "      <td>AQN.TO</td>\n",
       "      <td>2015-04-02</td>\n",
       "      <td>7.155367</td>\n",
       "      <td>7.208936</td>\n",
       "      <td>7.109450</td>\n",
       "      <td>7.117103</td>\n",
       "      <td>329000.0</td>\n",
       "    </tr>\n",
       "    <tr>\n",
       "      <th>3</th>\n",
       "      <td>AQN.TO</td>\n",
       "      <td>2015-04-06</td>\n",
       "      <td>7.438520</td>\n",
       "      <td>7.453826</td>\n",
       "      <td>7.208936</td>\n",
       "      <td>7.247200</td>\n",
       "      <td>630100.0</td>\n",
       "    </tr>\n",
       "    <tr>\n",
       "      <th>4</th>\n",
       "      <td>AQN.TO</td>\n",
       "      <td>2015-04-07</td>\n",
       "      <td>7.308422</td>\n",
       "      <td>7.453825</td>\n",
       "      <td>7.285464</td>\n",
       "      <td>7.453825</td>\n",
       "      <td>414500.0</td>\n",
       "    </tr>\n",
       "    <tr>\n",
       "      <th>...</th>\n",
       "      <td>...</td>\n",
       "      <td>...</td>\n",
       "      <td>...</td>\n",
       "      <td>...</td>\n",
       "      <td>...</td>\n",
       "      <td>...</td>\n",
       "      <td>...</td>\n",
       "    </tr>\n",
       "    <tr>\n",
       "      <th>16286</th>\n",
       "      <td>SPWR</td>\n",
       "      <td>2021-03-24</td>\n",
       "      <td>30.690001</td>\n",
       "      <td>33.009998</td>\n",
       "      <td>30.450001</td>\n",
       "      <td>32.880001</td>\n",
       "      <td>3247300.0</td>\n",
       "    </tr>\n",
       "    <tr>\n",
       "      <th>16287</th>\n",
       "      <td>SPWR</td>\n",
       "      <td>2021-03-25</td>\n",
       "      <td>31.559999</td>\n",
       "      <td>32.139999</td>\n",
       "      <td>29.200001</td>\n",
       "      <td>29.639999</td>\n",
       "      <td>4076700.0</td>\n",
       "    </tr>\n",
       "    <tr>\n",
       "      <th>16288</th>\n",
       "      <td>SPWR</td>\n",
       "      <td>2021-03-26</td>\n",
       "      <td>32.869999</td>\n",
       "      <td>33.410000</td>\n",
       "      <td>31.049999</td>\n",
       "      <td>31.549999</td>\n",
       "      <td>3521500.0</td>\n",
       "    </tr>\n",
       "    <tr>\n",
       "      <th>16289</th>\n",
       "      <td>SPWR</td>\n",
       "      <td>2021-03-29</td>\n",
       "      <td>29.240000</td>\n",
       "      <td>32.779999</td>\n",
       "      <td>29.059999</td>\n",
       "      <td>32.320000</td>\n",
       "      <td>5028400.0</td>\n",
       "    </tr>\n",
       "    <tr>\n",
       "      <th>16290</th>\n",
       "      <td>SPWR</td>\n",
       "      <td>2021-03-30</td>\n",
       "      <td>31.520000</td>\n",
       "      <td>31.984800</td>\n",
       "      <td>29.280001</td>\n",
       "      <td>29.299999</td>\n",
       "      <td>3827417.0</td>\n",
       "    </tr>\n",
       "  </tbody>\n",
       "</table>\n",
       "<p>16291 rows × 7 columns</p>\n",
       "</div>"
      ],
      "text/plain": [
       "       Ticker       Date      Close       High        Low       Open     Volume\n",
       "0      AQN.TO 2015-03-31   7.163019   7.193630   7.086492   7.185978   481900.0\n",
       "1      AQN.TO 2015-04-01   7.140061   7.178326   7.048228   7.178326   455900.0\n",
       "2      AQN.TO 2015-04-02   7.155367   7.208936   7.109450   7.117103   329000.0\n",
       "3      AQN.TO 2015-04-06   7.438520   7.453826   7.208936   7.247200   630100.0\n",
       "4      AQN.TO 2015-04-07   7.308422   7.453825   7.285464   7.453825   414500.0\n",
       "...       ...        ...        ...        ...        ...        ...        ...\n",
       "16286    SPWR 2021-03-24  30.690001  33.009998  30.450001  32.880001  3247300.0\n",
       "16287    SPWR 2021-03-25  31.559999  32.139999  29.200001  29.639999  4076700.0\n",
       "16288    SPWR 2021-03-26  32.869999  33.410000  31.049999  31.549999  3521500.0\n",
       "16289    SPWR 2021-03-29  29.240000  32.779999  29.059999  32.320000  5028400.0\n",
       "16290    SPWR 2021-03-30  31.520000  31.984800  29.280001  29.299999  3827417.0\n",
       "\n",
       "[16291 rows x 7 columns]"
      ]
     },
     "execution_count": 14,
     "metadata": {},
     "output_type": "execute_result"
    }
   ],
   "source": [
    "data"
   ]
  },
  {
   "cell_type": "markdown",
   "id": "warming-specific",
   "metadata": {},
   "source": [
    "### Compute technical indicators"
   ]
  },
  {
   "cell_type": "code",
   "execution_count": 15,
   "id": "cooked-dutch",
   "metadata": {},
   "outputs": [],
   "source": [
    "# compute all our technical markers for each of the stocks. \n",
    "dataset = data.groupby('Ticker').apply(lambda x: add_technical_markers(x, trail_size))"
   ]
  },
  {
   "cell_type": "markdown",
   "id": "juvenile-bidding",
   "metadata": {},
   "source": [
    "### Load climate trends data"
   ]
  },
  {
   "cell_type": "code",
   "execution_count": 16,
   "id": "international-diary",
   "metadata": {},
   "outputs": [],
   "source": [
    "filenames = [\n",
    "    \"data climate change adjusted.csv\",\n",
    "    \"data greenhouse gas adjusted.csv\",\n",
    "    \"data oil adjusted.csv\",\n",
    "    \"data renewable adjusted.csv\",\n",
    "    \"data carbon tax adjusted.csv\",\n",
    "    \"data electric vehicles adjusted.csv\",\n",
    "    \"data environmental protection agency adjusted.csv\",\n",
    "    \"data fossil fuels adjusted.csv\",\n",
    "    \"data fracking adjusted.csv\",\n",
    "    \"data global warming adjusted.csv\",\n",
    "]\n",
    "filenames2 = [\n",
    "    \"data climate change.csv\",\n",
    "    \"data greenhouse gas.csv\",\n",
    "    \"data oil.csv\",\n",
    "    \"data renewable.csv\",\n",
    "    \"data carbon tax.csv\",\n",
    "    \"data electric vehicles.csv\",\n",
    "    \"data environmental protection agency.csv\",\n",
    "    \"data fossil fuels.csv\",\n",
    "    \"data fracking.csv\",\n",
    "    \"data global warming.csv\",\n",
    "]\n",
    "terms = [\n",
    "    \"climate change\",\n",
    "    \"greenhouse gas\",\n",
    "    \"oil\",\n",
    "    \"renewable\",\n",
    "    \"carbon tax\",\n",
    "    \"electric vehicles\",\n",
    "    \"environmental protection agency\",\n",
    "    \"fossil fuels\",\n",
    "    \"fracking\",\n",
    "    \"global warming\",\n",
    "]"
   ]
  },
  {
   "cell_type": "code",
   "execution_count": 17,
   "id": "parliamentary-aruba",
   "metadata": {},
   "outputs": [],
   "source": [
    "climate_trends_data = load_climate_data(filenames, terms)"
   ]
  },
  {
   "cell_type": "code",
   "execution_count": 18,
   "id": "objective-chrome",
   "metadata": {},
   "outputs": [
    {
     "data": {
      "text/plain": [
       "Term\n",
       "Date                               0\n",
       "carbon tax                         0\n",
       "climate change                     0\n",
       "electric vehicles                  0\n",
       "environmental protection agency    0\n",
       "fossil fuels                       0\n",
       "fracking                           0\n",
       "global warming                     0\n",
       "greenhouse gas                     0\n",
       "oil                                0\n",
       "renewable                          0\n",
       "dtype: int64"
      ]
     },
     "execution_count": 18,
     "metadata": {},
     "output_type": "execute_result"
    }
   ],
   "source": [
    "climate_trends_data.isna().sum()"
   ]
  },
  {
   "cell_type": "code",
   "execution_count": 19,
   "id": "qualified-forward",
   "metadata": {},
   "outputs": [],
   "source": [
    "term_scaler = StandardScaler()\n",
    "climate_trends_data[terms] = term_scaler.fit_transform(climate_trends_data[terms])"
   ]
  },
  {
   "cell_type": "code",
   "execution_count": 20,
   "id": "embedded-association",
   "metadata": {},
   "outputs": [
    {
     "data": {
      "text/plain": [
       "Term\n",
       "Date                               0\n",
       "carbon tax                         0\n",
       "climate change                     0\n",
       "electric vehicles                  0\n",
       "environmental protection agency    0\n",
       "fossil fuels                       0\n",
       "fracking                           0\n",
       "global warming                     0\n",
       "greenhouse gas                     0\n",
       "oil                                0\n",
       "renewable                          0\n",
       "dtype: int64"
      ]
     },
     "execution_count": 20,
     "metadata": {},
     "output_type": "execute_result"
    }
   ],
   "source": [
    "climate_trends_data.isna().sum()"
   ]
  },
  {
   "cell_type": "code",
   "execution_count": 21,
   "id": "peaceful-healing",
   "metadata": {},
   "outputs": [
    {
     "data": {
      "text/html": [
       "<div>\n",
       "<style scoped>\n",
       "    .dataframe tbody tr th:only-of-type {\n",
       "        vertical-align: middle;\n",
       "    }\n",
       "\n",
       "    .dataframe tbody tr th {\n",
       "        vertical-align: top;\n",
       "    }\n",
       "\n",
       "    .dataframe thead th {\n",
       "        text-align: right;\n",
       "    }\n",
       "</style>\n",
       "<table border=\"1\" class=\"dataframe\">\n",
       "  <thead>\n",
       "    <tr style=\"text-align: right;\">\n",
       "      <th>Term</th>\n",
       "      <th>Date</th>\n",
       "      <th>carbon tax</th>\n",
       "      <th>climate change</th>\n",
       "      <th>electric vehicles</th>\n",
       "      <th>environmental protection agency</th>\n",
       "      <th>fossil fuels</th>\n",
       "      <th>fracking</th>\n",
       "      <th>global warming</th>\n",
       "      <th>greenhouse gas</th>\n",
       "      <th>oil</th>\n",
       "      <th>renewable</th>\n",
       "    </tr>\n",
       "  </thead>\n",
       "  <tbody>\n",
       "    <tr>\n",
       "      <th>0</th>\n",
       "      <td>2015-01-01</td>\n",
       "      <td>-0.788948</td>\n",
       "      <td>-1.295522</td>\n",
       "      <td>-1.139177</td>\n",
       "      <td>-0.382898</td>\n",
       "      <td>-1.226053</td>\n",
       "      <td>-0.117790</td>\n",
       "      <td>-0.752613</td>\n",
       "      <td>0.312173</td>\n",
       "      <td>-2.575343</td>\n",
       "      <td>-1.684594</td>\n",
       "    </tr>\n",
       "    <tr>\n",
       "      <th>1</th>\n",
       "      <td>2015-01-02</td>\n",
       "      <td>-0.635418</td>\n",
       "      <td>-1.421787</td>\n",
       "      <td>-1.139177</td>\n",
       "      <td>-0.382898</td>\n",
       "      <td>-0.801345</td>\n",
       "      <td>-0.117790</td>\n",
       "      <td>-0.272482</td>\n",
       "      <td>2.532143</td>\n",
       "      <td>-0.837891</td>\n",
       "      <td>-1.330134</td>\n",
       "    </tr>\n",
       "    <tr>\n",
       "      <th>2</th>\n",
       "      <td>2015-01-03</td>\n",
       "      <td>-0.635418</td>\n",
       "      <td>-1.169257</td>\n",
       "      <td>-1.006716</td>\n",
       "      <td>-0.382898</td>\n",
       "      <td>-0.942915</td>\n",
       "      <td>-0.117790</td>\n",
       "      <td>-0.656587</td>\n",
       "      <td>0.723279</td>\n",
       "      <td>-0.837891</td>\n",
       "      <td>-1.684594</td>\n",
       "    </tr>\n",
       "    <tr>\n",
       "      <th>3</th>\n",
       "      <td>2015-01-04</td>\n",
       "      <td>-0.788948</td>\n",
       "      <td>-1.169257</td>\n",
       "      <td>-1.072946</td>\n",
       "      <td>-0.382898</td>\n",
       "      <td>0.260424</td>\n",
       "      <td>-0.117790</td>\n",
       "      <td>-0.272482</td>\n",
       "      <td>1.627711</td>\n",
       "      <td>-1.334306</td>\n",
       "      <td>-1.566441</td>\n",
       "    </tr>\n",
       "    <tr>\n",
       "      <th>4</th>\n",
       "      <td>2015-01-05</td>\n",
       "      <td>-0.635418</td>\n",
       "      <td>-0.664196</td>\n",
       "      <td>-0.808024</td>\n",
       "      <td>-0.382898</td>\n",
       "      <td>-0.376638</td>\n",
       "      <td>-0.117790</td>\n",
       "      <td>0.015597</td>\n",
       "      <td>0.805500</td>\n",
       "      <td>0.403146</td>\n",
       "      <td>-0.798443</td>\n",
       "    </tr>\n",
       "    <tr>\n",
       "      <th>...</th>\n",
       "      <td>...</td>\n",
       "      <td>...</td>\n",
       "      <td>...</td>\n",
       "      <td>...</td>\n",
       "      <td>...</td>\n",
       "      <td>...</td>\n",
       "      <td>...</td>\n",
       "      <td>...</td>\n",
       "      <td>...</td>\n",
       "      <td>...</td>\n",
       "      <td>...</td>\n",
       "    </tr>\n",
       "    <tr>\n",
       "      <th>2273</th>\n",
       "      <td>2021-03-23</td>\n",
       "      <td>-0.021297</td>\n",
       "      <td>-0.411665</td>\n",
       "      <td>0.052973</td>\n",
       "      <td>0.616233</td>\n",
       "      <td>0.260424</td>\n",
       "      <td>0.232963</td>\n",
       "      <td>-0.752613</td>\n",
       "      <td>0.229952</td>\n",
       "      <td>-1.334306</td>\n",
       "      <td>0.501244</td>\n",
       "    </tr>\n",
       "    <tr>\n",
       "      <th>2274</th>\n",
       "      <td>2021-03-24</td>\n",
       "      <td>-0.021297</td>\n",
       "      <td>-0.285400</td>\n",
       "      <td>0.251664</td>\n",
       "      <td>1.199059</td>\n",
       "      <td>-0.022714</td>\n",
       "      <td>0.232963</td>\n",
       "      <td>-0.368508</td>\n",
       "      <td>0.476615</td>\n",
       "      <td>-0.837891</td>\n",
       "      <td>0.501244</td>\n",
       "    </tr>\n",
       "    <tr>\n",
       "      <th>2275</th>\n",
       "      <td>2021-03-25</td>\n",
       "      <td>2.281654</td>\n",
       "      <td>-0.285400</td>\n",
       "      <td>0.715278</td>\n",
       "      <td>2.697754</td>\n",
       "      <td>0.260424</td>\n",
       "      <td>0.232963</td>\n",
       "      <td>-0.176456</td>\n",
       "      <td>0.229952</td>\n",
       "      <td>-1.086098</td>\n",
       "      <td>0.501244</td>\n",
       "    </tr>\n",
       "    <tr>\n",
       "      <th>2276</th>\n",
       "      <td>2021-03-26</td>\n",
       "      <td>1.514004</td>\n",
       "      <td>-0.411665</td>\n",
       "      <td>0.582817</td>\n",
       "      <td>0.699494</td>\n",
       "      <td>0.048070</td>\n",
       "      <td>0.232963</td>\n",
       "      <td>-0.656587</td>\n",
       "      <td>0.065510</td>\n",
       "      <td>-0.837891</td>\n",
       "      <td>-0.325830</td>\n",
       "    </tr>\n",
       "    <tr>\n",
       "      <th>2277</th>\n",
       "      <td>2021-03-27</td>\n",
       "      <td>-0.021297</td>\n",
       "      <td>-0.664196</td>\n",
       "      <td>0.582817</td>\n",
       "      <td>-0.382898</td>\n",
       "      <td>-0.872130</td>\n",
       "      <td>-0.117790</td>\n",
       "      <td>-0.752613</td>\n",
       "      <td>-0.427817</td>\n",
       "      <td>-0.589683</td>\n",
       "      <td>-0.798443</td>\n",
       "    </tr>\n",
       "  </tbody>\n",
       "</table>\n",
       "<p>2278 rows × 11 columns</p>\n",
       "</div>"
      ],
      "text/plain": [
       "Term       Date  carbon tax  climate change  electric vehicles  environmental protection agency  fossil fuels  fracking  global warming  greenhouse gas       oil  renewable\n",
       "0    2015-01-01   -0.788948       -1.295522          -1.139177                        -0.382898     -1.226053 -0.117790       -0.752613        0.312173 -2.575343  -1.684594\n",
       "1    2015-01-02   -0.635418       -1.421787          -1.139177                        -0.382898     -0.801345 -0.117790       -0.272482        2.532143 -0.837891  -1.330134\n",
       "2    2015-01-03   -0.635418       -1.169257          -1.006716                        -0.382898     -0.942915 -0.117790       -0.656587        0.723279 -0.837891  -1.684594\n",
       "3    2015-01-04   -0.788948       -1.169257          -1.072946                        -0.382898      0.260424 -0.117790       -0.272482        1.627711 -1.334306  -1.566441\n",
       "4    2015-01-05   -0.635418       -0.664196          -0.808024                        -0.382898     -0.376638 -0.117790        0.015597        0.805500  0.403146  -0.798443\n",
       "...         ...         ...             ...                ...                              ...           ...       ...             ...             ...       ...        ...\n",
       "2273 2021-03-23   -0.021297       -0.411665           0.052973                         0.616233      0.260424  0.232963       -0.752613        0.229952 -1.334306   0.501244\n",
       "2274 2021-03-24   -0.021297       -0.285400           0.251664                         1.199059     -0.022714  0.232963       -0.368508        0.476615 -0.837891   0.501244\n",
       "2275 2021-03-25    2.281654       -0.285400           0.715278                         2.697754      0.260424  0.232963       -0.176456        0.229952 -1.086098   0.501244\n",
       "2276 2021-03-26    1.514004       -0.411665           0.582817                         0.699494      0.048070  0.232963       -0.656587        0.065510 -0.837891  -0.325830\n",
       "2277 2021-03-27   -0.021297       -0.664196           0.582817                        -0.382898     -0.872130 -0.117790       -0.752613       -0.427817 -0.589683  -0.798443\n",
       "\n",
       "[2278 rows x 11 columns]"
      ]
     },
     "execution_count": 21,
     "metadata": {},
     "output_type": "execute_result"
    }
   ],
   "source": [
    "climate_trends_data "
   ]
  },
  {
   "cell_type": "code",
   "execution_count": 22,
   "id": "virtual-beads",
   "metadata": {},
   "outputs": [],
   "source": [
    "num_climate_features = len(climate_trends_data.columns.tolist()) - 1 # minus date"
   ]
  },
  {
   "cell_type": "code",
   "execution_count": 23,
   "id": "senior-window",
   "metadata": {},
   "outputs": [
    {
     "data": {
      "text/plain": [
       "<AxesSubplot:xlabel='Date'>"
      ]
     },
     "execution_count": 23,
     "metadata": {},
     "output_type": "execute_result"
    },
    {
     "data": {
      "image/png": "[encoded data removed]",
      "text/plain": [
       "<Figure size 432x288 with 1 Axes>"
      ]
     },
     "metadata": {
      "needs_background": "light"
     },
     "output_type": "display_data"
    }
   ],
   "source": [
    "climate_trends_data.set_index('Date')['climate change'].plot()"
   ]
  },
  {
   "cell_type": "markdown",
   "id": "interesting-outdoors",
   "metadata": {},
   "source": [
    "### Choose features"
   ]
  },
  {
   "cell_type": "code",
   "execution_count": 24,
   "id": "medical-directive",
   "metadata": {},
   "outputs": [],
   "source": [
    "features = ['Close', 'High',\n",
    " 'Low', 'Open', 'Volume',\n",
    " 'HH', 'LL', 'AV',\n",
    " 'SMA', 'SD', 'WILLR',\n",
    " 'ATR', 'DMH', 'DML',\n",
    " 'EMA', 'WMA', 'BBHIGH',\n",
    " 'BBLOW', 'PERBHIGH', 'PERBLOW',\n",
    " 'TRIMA', 'RSI', 'DX',\n",
    " 'PDI', 'NDI', 'ADX',\n",
    " 'ROC', 'MACD', 'CCI']\n",
    "dataset = dataset[['Ticker', 'Date'] + features]\n",
    "num_features = len(features)"
   ]
  },
  {
   "cell_type": "markdown",
   "id": "alien-rogers",
   "metadata": {},
   "source": [
    "### Normalization\n",
    "We want to normalize the prices, and there are two challenges\n",
    "1. We want to be able to recover performance metrics like RMSE in dollars, so we have to have the saved transforms for closing price to un transform after prediction. \n",
    "2. We will want to normalize each different company differently, because the stocks will be of differing magnitudes\n",
    "3. We only want to fit normalizing model on train and validation"
   ]
  },
  {
   "cell_type": "markdown",
   "id": "friendly-hampton",
   "metadata": {},
   "source": [
    "### Train test split"
   ]
  },
  {
   "cell_type": "code",
   "execution_count": 25,
   "id": "pacific-escape",
   "metadata": {},
   "outputs": [],
   "source": [
    "train = dataset.loc[dataset['Date'] < \"2018-03-01\"]\n",
    "valid = dataset.loc[(dataset['Date'] > \"2018-03-13\") & (dataset['Date'] < \"2019-03-01\")]\n",
    "test = dataset.loc[(dataset['Date'] > \"2019-03-01\") & (dataset['Date'] < \"2020-03-01\")]"
   ]
  },
  {
   "cell_type": "markdown",
   "id": "prospective-petroleum",
   "metadata": {},
   "source": [
    "### Correlations"
   ]
  },
  {
   "cell_type": "code",
   "execution_count": 26,
   "id": "statutory-intention",
   "metadata": {},
   "outputs": [],
   "source": [
    "trainvalid = dataset.loc[dataset['Date'] < \"2019-03-01\"]"
   ]
  },
  {
   "cell_type": "code",
   "execution_count": 27,
   "id": "burning-observation",
   "metadata": {},
   "outputs": [],
   "source": [
    "trainvalid = trainvalid.merge(climate_trends_data, on=[\"Date\"], how='left')"
   ]
  },
  {
   "cell_type": "code",
   "execution_count": 28,
   "id": "mexican-staff",
   "metadata": {},
   "outputs": [],
   "source": [
    "trainvalid['Target'] = trainvalid['Close'].shift(-predict_length)"
   ]
  },
  {
   "cell_type": "code",
   "execution_count": 29,
   "id": "equipped-ceramic",
   "metadata": {},
   "outputs": [],
   "source": [
    "trainvalid['Change'] = trainvalid['Target'] - trainvalid['Close']"
   ]
  },
  {
   "cell_type": "code",
   "execution_count": 30,
   "id": "sonic-filter",
   "metadata": {},
   "outputs": [
    {
     "data": {
      "text/html": [
       "<div>\n",
       "<style scoped>\n",
       "    .dataframe tbody tr th:only-of-type {\n",
       "        vertical-align: middle;\n",
       "    }\n",
       "\n",
       "    .dataframe tbody tr th {\n",
       "        vertical-align: top;\n",
       "    }\n",
       "\n",
       "    .dataframe thead th {\n",
       "        text-align: right;\n",
       "    }\n",
       "</style>\n",
       "<table border=\"1\" class=\"dataframe\">\n",
       "  <thead>\n",
       "    <tr style=\"text-align: right;\">\n",
       "      <th></th>\n",
       "      <th>Close</th>\n",
       "      <th>Target</th>\n",
       "    </tr>\n",
       "  </thead>\n",
       "  <tbody>\n",
       "    <tr>\n",
       "      <th>0</th>\n",
       "      <td>7.163019</td>\n",
       "      <td>7.316076</td>\n",
       "    </tr>\n",
       "    <tr>\n",
       "      <th>1</th>\n",
       "      <td>7.140061</td>\n",
       "      <td>7.277811</td>\n",
       "    </tr>\n",
       "    <tr>\n",
       "      <th>2</th>\n",
       "      <td>7.155367</td>\n",
       "      <td>7.377298</td>\n",
       "    </tr>\n",
       "    <tr>\n",
       "      <th>3</th>\n",
       "      <td>7.438520</td>\n",
       "      <td>7.446174</td>\n",
       "    </tr>\n",
       "    <tr>\n",
       "      <th>4</th>\n",
       "      <td>7.308422</td>\n",
       "      <td>7.507396</td>\n",
       "    </tr>\n",
       "    <tr>\n",
       "      <th>5</th>\n",
       "      <td>7.316076</td>\n",
       "      <td>7.591577</td>\n",
       "    </tr>\n",
       "    <tr>\n",
       "      <th>6</th>\n",
       "      <td>7.277811</td>\n",
       "      <td>7.583924</td>\n",
       "    </tr>\n",
       "    <tr>\n",
       "      <th>7</th>\n",
       "      <td>7.377298</td>\n",
       "      <td>7.668105</td>\n",
       "    </tr>\n",
       "    <tr>\n",
       "      <th>8</th>\n",
       "      <td>7.446174</td>\n",
       "      <td>7.606882</td>\n",
       "    </tr>\n",
       "    <tr>\n",
       "      <th>9</th>\n",
       "      <td>7.507396</td>\n",
       "      <td>7.637496</td>\n",
       "    </tr>\n",
       "  </tbody>\n",
       "</table>\n",
       "</div>"
      ],
      "text/plain": [
       "      Close    Target\n",
       "0  7.163019  7.316076\n",
       "1  7.140061  7.277811\n",
       "2  7.155367  7.377298\n",
       "3  7.438520  7.446174\n",
       "4  7.308422  7.507396\n",
       "5  7.316076  7.591577\n",
       "6  7.277811  7.583924\n",
       "7  7.377298  7.668105\n",
       "8  7.446174  7.606882\n",
       "9  7.507396  7.637496"
      ]
     },
     "execution_count": 30,
     "metadata": {},
     "output_type": "execute_result"
    }
   ],
   "source": [
    "trainvalid[['Close', 'Target']].head(10)"
   ]
  },
  {
   "cell_type": "code",
   "execution_count": 31,
   "id": "communist-aircraft",
   "metadata": {},
   "outputs": [
    {
     "data": {
      "text/plain": [
       "Change                             1.000000\n",
       "Target                             0.069455\n",
       "High                              -0.068872\n",
       "Open                              -0.068833\n",
       "Close                             -0.068643\n",
       "Low                               -0.068555\n",
       "WMA                               -0.067907\n",
       "EMA                               -0.067882\n",
       "LL                                -0.067573\n",
       "BBHIGH                            -0.067529\n",
       "SMA                               -0.067451\n",
       "HH                                -0.067402\n",
       "TRIMA                             -0.067296\n",
       "BBLOW                             -0.067282\n",
       "ATR                               -0.053796\n",
       "SD                                -0.045049\n",
       "MACD                              -0.044765\n",
       "fossil fuels                       0.031809\n",
       "climate change                     0.028374\n",
       "NDI                                0.027883\n",
       "PDI                                0.024560\n",
       "global warming                     0.024087\n",
       "oil                                0.023995\n",
       "renewable                          0.023180\n",
       "ADX                                0.015828\n",
       "DML                                0.014260\n",
       "DMH                                0.013505\n",
       "carbon tax                         0.012705\n",
       "PERBHIGH                          -0.010356\n",
       "PERBLOW                           -0.010356\n",
       "CCI                                0.009660\n",
       "WILLR                              0.009628\n",
       "AV                                 0.008630\n",
       "electric vehicles                  0.006829\n",
       "RSI                                0.005826\n",
       "Volume                             0.005503\n",
       "ROC                               -0.001604\n",
       "DX                                -0.001348\n",
       "greenhouse gas                    -0.000111\n",
       "environmental protection agency         NaN\n",
       "fracking                                NaN\n",
       "Name: Change, dtype: float64"
      ]
     },
     "execution_count": 31,
     "metadata": {},
     "output_type": "execute_result"
    }
   ],
   "source": [
    "trainvalid.corr().loc['Change'].sort_values(key=abs, ascending=False)"
   ]
  },
  {
   "cell_type": "code",
   "execution_count": 32,
   "id": "falling-communications",
   "metadata": {},
   "outputs": [
    {
     "data": {
      "text/plain": [
       "<AxesSubplot:>"
      ]
     },
     "execution_count": 32,
     "metadata": {},
     "output_type": "execute_result"
    },
    {
     "data": {
      "image/png": "[encoded data removed]",
      "text/plain": [
       "<Figure size 864x864 with 2 Axes>"
      ]
     },
     "metadata": {
      "needs_background": "light"
     },
     "output_type": "display_data"
    }
   ],
   "source": [
    "plt.figure(figsize=(12, 12))\n",
    "sns.heatmap(trainvalid.corr())"
   ]
  },
  {
   "cell_type": "markdown",
   "id": "mexican-annotation",
   "metadata": {},
   "source": [
    "#### Per stock normalization\n",
    "We make sure to fit the transforms on the training, and\n",
    "apply them on training, validation, and test"
   ]
  },
  {
   "cell_type": "code",
   "execution_count": 33,
   "id": "crucial-picnic",
   "metadata": {},
   "outputs": [
    {
     "name": "stderr",
     "output_type": "stream",
     "text": [
      "C:\\Users\\jaker\\miniconda3\\envs\\finance\\lib\\site-packages\\pandas\\core\\indexing.py:1738: SettingWithCopyWarning: \n",
      "A value is trying to be set on a copy of a slice from a DataFrame.\n",
      "Try using .loc[row_indexer,col_indexer] = value instead\n",
      "\n",
      "See the caveats in the documentation: https://pandas.pydata.org/pandas-docs/stable/user_guide/indexing.html#returning-a-view-versus-a-copy\n",
      "  self._setitem_single_column(loc, value[:, i].tolist(), pi)\n",
      "C:\\Users\\jaker\\miniconda3\\envs\\finance\\lib\\site-packages\\pandas\\core\\indexing.py:1738: SettingWithCopyWarning: \n",
      "A value is trying to be set on a copy of a slice from a DataFrame.\n",
      "Try using .loc[row_indexer,col_indexer] = value instead\n",
      "\n",
      "See the caveats in the documentation: https://pandas.pydata.org/pandas-docs/stable/user_guide/indexing.html#returning-a-view-versus-a-copy\n",
      "  self._setitem_single_column(loc, value[:, i].tolist(), pi)\n",
      "C:\\Users\\jaker\\miniconda3\\envs\\finance\\lib\\site-packages\\pandas\\core\\indexing.py:1738: SettingWithCopyWarning: \n",
      "A value is trying to be set on a copy of a slice from a DataFrame.\n",
      "Try using .loc[row_indexer,col_indexer] = value instead\n",
      "\n",
      "See the caveats in the documentation: https://pandas.pydata.org/pandas-docs/stable/user_guide/indexing.html#returning-a-view-versus-a-copy\n",
      "  self._setitem_single_column(loc, value[:, i].tolist(), pi)\n",
      "C:\\Users\\jaker\\miniconda3\\envs\\finance\\lib\\site-packages\\pandas\\core\\indexing.py:1738: SettingWithCopyWarning: \n",
      "A value is trying to be set on a copy of a slice from a DataFrame.\n",
      "Try using .loc[row_indexer,col_indexer] = value instead\n",
      "\n",
      "See the caveats in the documentation: https://pandas.pydata.org/pandas-docs/stable/user_guide/indexing.html#returning-a-view-versus-a-copy\n",
      "  self._setitem_single_column(loc, value[:, i].tolist(), pi)\n",
      "C:\\Users\\jaker\\miniconda3\\envs\\finance\\lib\\site-packages\\pandas\\core\\indexing.py:1738: SettingWithCopyWarning: \n",
      "A value is trying to be set on a copy of a slice from a DataFrame.\n",
      "Try using .loc[row_indexer,col_indexer] = value instead\n",
      "\n",
      "See the caveats in the documentation: https://pandas.pydata.org/pandas-docs/stable/user_guide/indexing.html#returning-a-view-versus-a-copy\n",
      "  self._setitem_single_column(loc, value[:, i].tolist(), pi)\n",
      "C:\\Users\\jaker\\miniconda3\\envs\\finance\\lib\\site-packages\\pandas\\core\\indexing.py:1738: SettingWithCopyWarning: \n",
      "A value is trying to be set on a copy of a slice from a DataFrame.\n",
      "Try using .loc[row_indexer,col_indexer] = value instead\n",
      "\n",
      "See the caveats in the documentation: https://pandas.pydata.org/pandas-docs/stable/user_guide/indexing.html#returning-a-view-versus-a-copy\n",
      "  self._setitem_single_column(loc, value[:, i].tolist(), pi)\n",
      "C:\\Users\\jaker\\miniconda3\\envs\\finance\\lib\\site-packages\\pandas\\core\\indexing.py:1738: SettingWithCopyWarning: \n",
      "A value is trying to be set on a copy of a slice from a DataFrame.\n",
      "Try using .loc[row_indexer,col_indexer] = value instead\n",
      "\n",
      "See the caveats in the documentation: https://pandas.pydata.org/pandas-docs/stable/user_guide/indexing.html#returning-a-view-versus-a-copy\n",
      "  self._setitem_single_column(loc, value[:, i].tolist(), pi)\n",
      "C:\\Users\\jaker\\miniconda3\\envs\\finance\\lib\\site-packages\\pandas\\core\\indexing.py:1738: SettingWithCopyWarning: \n",
      "A value is trying to be set on a copy of a slice from a DataFrame.\n",
      "Try using .loc[row_indexer,col_indexer] = value instead\n",
      "\n",
      "See the caveats in the documentation: https://pandas.pydata.org/pandas-docs/stable/user_guide/indexing.html#returning-a-view-versus-a-copy\n",
      "  self._setitem_single_column(loc, value[:, i].tolist(), pi)\n",
      "C:\\Users\\jaker\\miniconda3\\envs\\finance\\lib\\site-packages\\pandas\\core\\indexing.py:1738: SettingWithCopyWarning: \n",
      "A value is trying to be set on a copy of a slice from a DataFrame.\n",
      "Try using .loc[row_indexer,col_indexer] = value instead\n",
      "\n",
      "See the caveats in the documentation: https://pandas.pydata.org/pandas-docs/stable/user_guide/indexing.html#returning-a-view-versus-a-copy\n",
      "  self._setitem_single_column(loc, value[:, i].tolist(), pi)\n",
      "C:\\Users\\jaker\\miniconda3\\envs\\finance\\lib\\site-packages\\pandas\\core\\indexing.py:1738: SettingWithCopyWarning: \n",
      "A value is trying to be set on a copy of a slice from a DataFrame.\n",
      "Try using .loc[row_indexer,col_indexer] = value instead\n",
      "\n",
      "See the caveats in the documentation: https://pandas.pydata.org/pandas-docs/stable/user_guide/indexing.html#returning-a-view-versus-a-copy\n",
      "  self._setitem_single_column(loc, value[:, i].tolist(), pi)\n",
      "C:\\Users\\jaker\\miniconda3\\envs\\finance\\lib\\site-packages\\pandas\\core\\indexing.py:1738: SettingWithCopyWarning: \n",
      "A value is trying to be set on a copy of a slice from a DataFrame.\n",
      "Try using .loc[row_indexer,col_indexer] = value instead\n",
      "\n",
      "See the caveats in the documentation: https://pandas.pydata.org/pandas-docs/stable/user_guide/indexing.html#returning-a-view-versus-a-copy\n",
      "  self._setitem_single_column(loc, value[:, i].tolist(), pi)\n",
      "C:\\Users\\jaker\\miniconda3\\envs\\finance\\lib\\site-packages\\pandas\\core\\indexing.py:1738: SettingWithCopyWarning: \n",
      "A value is trying to be set on a copy of a slice from a DataFrame.\n",
      "Try using .loc[row_indexer,col_indexer] = value instead\n",
      "\n",
      "See the caveats in the documentation: https://pandas.pydata.org/pandas-docs/stable/user_guide/indexing.html#returning-a-view-versus-a-copy\n",
      "  self._setitem_single_column(loc, value[:, i].tolist(), pi)\n",
      "C:\\Users\\jaker\\miniconda3\\envs\\finance\\lib\\site-packages\\pandas\\core\\indexing.py:1738: SettingWithCopyWarning: \n",
      "A value is trying to be set on a copy of a slice from a DataFrame.\n",
      "Try using .loc[row_indexer,col_indexer] = value instead\n",
      "\n",
      "See the caveats in the documentation: https://pandas.pydata.org/pandas-docs/stable/user_guide/indexing.html#returning-a-view-versus-a-copy\n",
      "  self._setitem_single_column(loc, value[:, i].tolist(), pi)\n",
      "C:\\Users\\jaker\\miniconda3\\envs\\finance\\lib\\site-packages\\pandas\\core\\indexing.py:1738: SettingWithCopyWarning: \n",
      "A value is trying to be set on a copy of a slice from a DataFrame.\n",
      "Try using .loc[row_indexer,col_indexer] = value instead\n",
      "\n",
      "See the caveats in the documentation: https://pandas.pydata.org/pandas-docs/stable/user_guide/indexing.html#returning-a-view-versus-a-copy\n",
      "  self._setitem_single_column(loc, value[:, i].tolist(), pi)\n",
      "C:\\Users\\jaker\\miniconda3\\envs\\finance\\lib\\site-packages\\pandas\\core\\indexing.py:1738: SettingWithCopyWarning: \n",
      "A value is trying to be set on a copy of a slice from a DataFrame.\n",
      "Try using .loc[row_indexer,col_indexer] = value instead\n",
      "\n",
      "See the caveats in the documentation: https://pandas.pydata.org/pandas-docs/stable/user_guide/indexing.html#returning-a-view-versus-a-copy\n",
      "  self._setitem_single_column(loc, value[:, i].tolist(), pi)\n",
      "C:\\Users\\jaker\\miniconda3\\envs\\finance\\lib\\site-packages\\pandas\\core\\indexing.py:1738: SettingWithCopyWarning: \n",
      "A value is trying to be set on a copy of a slice from a DataFrame.\n",
      "Try using .loc[row_indexer,col_indexer] = value instead\n",
      "\n",
      "See the caveats in the documentation: https://pandas.pydata.org/pandas-docs/stable/user_guide/indexing.html#returning-a-view-versus-a-copy\n",
      "  self._setitem_single_column(loc, value[:, i].tolist(), pi)\n",
      "C:\\Users\\jaker\\miniconda3\\envs\\finance\\lib\\site-packages\\pandas\\core\\indexing.py:1738: SettingWithCopyWarning: \n",
      "A value is trying to be set on a copy of a slice from a DataFrame.\n",
      "Try using .loc[row_indexer,col_indexer] = value instead\n",
      "\n",
      "See the caveats in the documentation: https://pandas.pydata.org/pandas-docs/stable/user_guide/indexing.html#returning-a-view-versus-a-copy\n",
      "  self._setitem_single_column(loc, value[:, i].tolist(), pi)\n",
      "C:\\Users\\jaker\\miniconda3\\envs\\finance\\lib\\site-packages\\pandas\\core\\indexing.py:1738: SettingWithCopyWarning: \n",
      "A value is trying to be set on a copy of a slice from a DataFrame.\n",
      "Try using .loc[row_indexer,col_indexer] = value instead\n",
      "\n",
      "See the caveats in the documentation: https://pandas.pydata.org/pandas-docs/stable/user_guide/indexing.html#returning-a-view-versus-a-copy\n",
      "  self._setitem_single_column(loc, value[:, i].tolist(), pi)\n",
      "C:\\Users\\jaker\\miniconda3\\envs\\finance\\lib\\site-packages\\pandas\\core\\indexing.py:1738: SettingWithCopyWarning: \n",
      "A value is trying to be set on a copy of a slice from a DataFrame.\n",
      "Try using .loc[row_indexer,col_indexer] = value instead\n",
      "\n",
      "See the caveats in the documentation: https://pandas.pydata.org/pandas-docs/stable/user_guide/indexing.html#returning-a-view-versus-a-copy\n",
      "  self._setitem_single_column(loc, value[:, i].tolist(), pi)\n",
      "C:\\Users\\jaker\\miniconda3\\envs\\finance\\lib\\site-packages\\pandas\\core\\indexing.py:1738: SettingWithCopyWarning: \n",
      "A value is trying to be set on a copy of a slice from a DataFrame.\n",
      "Try using .loc[row_indexer,col_indexer] = value instead\n",
      "\n",
      "See the caveats in the documentation: https://pandas.pydata.org/pandas-docs/stable/user_guide/indexing.html#returning-a-view-versus-a-copy\n",
      "  self._setitem_single_column(loc, value[:, i].tolist(), pi)\n",
      "C:\\Users\\jaker\\miniconda3\\envs\\finance\\lib\\site-packages\\pandas\\core\\indexing.py:1738: SettingWithCopyWarning: \n",
      "A value is trying to be set on a copy of a slice from a DataFrame.\n",
      "Try using .loc[row_indexer,col_indexer] = value instead\n",
      "\n",
      "See the caveats in the documentation: https://pandas.pydata.org/pandas-docs/stable/user_guide/indexing.html#returning-a-view-versus-a-copy\n",
      "  self._setitem_single_column(loc, value[:, i].tolist(), pi)\n",
      "C:\\Users\\jaker\\miniconda3\\envs\\finance\\lib\\site-packages\\pandas\\core\\indexing.py:1738: SettingWithCopyWarning: \n",
      "A value is trying to be set on a copy of a slice from a DataFrame.\n",
      "Try using .loc[row_indexer,col_indexer] = value instead\n",
      "\n",
      "See the caveats in the documentation: https://pandas.pydata.org/pandas-docs/stable/user_guide/indexing.html#returning-a-view-versus-a-copy\n",
      "  self._setitem_single_column(loc, value[:, i].tolist(), pi)\n",
      "C:\\Users\\jaker\\miniconda3\\envs\\finance\\lib\\site-packages\\pandas\\core\\indexing.py:1738: SettingWithCopyWarning: \n",
      "A value is trying to be set on a copy of a slice from a DataFrame.\n",
      "Try using .loc[row_indexer,col_indexer] = value instead\n",
      "\n",
      "See the caveats in the documentation: https://pandas.pydata.org/pandas-docs/stable/user_guide/indexing.html#returning-a-view-versus-a-copy\n",
      "  self._setitem_single_column(loc, value[:, i].tolist(), pi)\n",
      "C:\\Users\\jaker\\miniconda3\\envs\\finance\\lib\\site-packages\\pandas\\core\\indexing.py:1738: SettingWithCopyWarning: \n",
      "A value is trying to be set on a copy of a slice from a DataFrame.\n",
      "Try using .loc[row_indexer,col_indexer] = value instead\n",
      "\n",
      "See the caveats in the documentation: https://pandas.pydata.org/pandas-docs/stable/user_guide/indexing.html#returning-a-view-versus-a-copy\n",
      "  self._setitem_single_column(loc, value[:, i].tolist(), pi)\n",
      "C:\\Users\\jaker\\miniconda3\\envs\\finance\\lib\\site-packages\\pandas\\core\\indexing.py:1738: SettingWithCopyWarning: \n",
      "A value is trying to be set on a copy of a slice from a DataFrame.\n",
      "Try using .loc[row_indexer,col_indexer] = value instead\n",
      "\n",
      "See the caveats in the documentation: https://pandas.pydata.org/pandas-docs/stable/user_guide/indexing.html#returning-a-view-versus-a-copy\n",
      "  self._setitem_single_column(loc, value[:, i].tolist(), pi)\n",
      "C:\\Users\\jaker\\miniconda3\\envs\\finance\\lib\\site-packages\\pandas\\core\\indexing.py:1738: SettingWithCopyWarning: \n",
      "A value is trying to be set on a copy of a slice from a DataFrame.\n",
      "Try using .loc[row_indexer,col_indexer] = value instead\n",
      "\n",
      "See the caveats in the documentation: https://pandas.pydata.org/pandas-docs/stable/user_guide/indexing.html#returning-a-view-versus-a-copy\n",
      "  self._setitem_single_column(loc, value[:, i].tolist(), pi)\n",
      "C:\\Users\\jaker\\miniconda3\\envs\\finance\\lib\\site-packages\\pandas\\core\\indexing.py:1738: SettingWithCopyWarning: \n",
      "A value is trying to be set on a copy of a slice from a DataFrame.\n",
      "Try using .loc[row_indexer,col_indexer] = value instead\n",
      "\n",
      "See the caveats in the documentation: https://pandas.pydata.org/pandas-docs/stable/user_guide/indexing.html#returning-a-view-versus-a-copy\n",
      "  self._setitem_single_column(loc, value[:, i].tolist(), pi)\n",
      "C:\\Users\\jaker\\miniconda3\\envs\\finance\\lib\\site-packages\\pandas\\core\\indexing.py:1738: SettingWithCopyWarning: \n",
      "A value is trying to be set on a copy of a slice from a DataFrame.\n",
      "Try using .loc[row_indexer,col_indexer] = value instead\n",
      "\n",
      "See the caveats in the documentation: https://pandas.pydata.org/pandas-docs/stable/user_guide/indexing.html#returning-a-view-versus-a-copy\n",
      "  self._setitem_single_column(loc, value[:, i].tolist(), pi)\n",
      "C:\\Users\\jaker\\miniconda3\\envs\\finance\\lib\\site-packages\\pandas\\core\\indexing.py:1738: SettingWithCopyWarning: \n",
      "A value is trying to be set on a copy of a slice from a DataFrame.\n",
      "Try using .loc[row_indexer,col_indexer] = value instead\n",
      "\n",
      "See the caveats in the documentation: https://pandas.pydata.org/pandas-docs/stable/user_guide/indexing.html#returning-a-view-versus-a-copy\n",
      "  self._setitem_single_column(loc, value[:, i].tolist(), pi)\n"
     ]
    },
    {
     "name": "stderr",
     "output_type": "stream",
     "text": [
      "C:\\Users\\jaker\\miniconda3\\envs\\finance\\lib\\site-packages\\pandas\\core\\indexing.py:1738: SettingWithCopyWarning: \n",
      "A value is trying to be set on a copy of a slice from a DataFrame.\n",
      "Try using .loc[row_indexer,col_indexer] = value instead\n",
      "\n",
      "See the caveats in the documentation: https://pandas.pydata.org/pandas-docs/stable/user_guide/indexing.html#returning-a-view-versus-a-copy\n",
      "  self._setitem_single_column(loc, value[:, i].tolist(), pi)\n",
      "C:\\Users\\jaker\\miniconda3\\envs\\finance\\lib\\site-packages\\pandas\\core\\indexing.py:1738: SettingWithCopyWarning: \n",
      "A value is trying to be set on a copy of a slice from a DataFrame.\n",
      "Try using .loc[row_indexer,col_indexer] = value instead\n",
      "\n",
      "See the caveats in the documentation: https://pandas.pydata.org/pandas-docs/stable/user_guide/indexing.html#returning-a-view-versus-a-copy\n",
      "  self._setitem_single_column(loc, value[:, i].tolist(), pi)\n",
      "C:\\Users\\jaker\\miniconda3\\envs\\finance\\lib\\site-packages\\pandas\\core\\indexing.py:1738: SettingWithCopyWarning: \n",
      "A value is trying to be set on a copy of a slice from a DataFrame.\n",
      "Try using .loc[row_indexer,col_indexer] = value instead\n",
      "\n",
      "See the caveats in the documentation: https://pandas.pydata.org/pandas-docs/stable/user_guide/indexing.html#returning-a-view-versus-a-copy\n",
      "  self._setitem_single_column(loc, value[:, i].tolist(), pi)\n",
      "C:\\Users\\jaker\\miniconda3\\envs\\finance\\lib\\site-packages\\pandas\\core\\indexing.py:1738: SettingWithCopyWarning: \n",
      "A value is trying to be set on a copy of a slice from a DataFrame.\n",
      "Try using .loc[row_indexer,col_indexer] = value instead\n",
      "\n",
      "See the caveats in the documentation: https://pandas.pydata.org/pandas-docs/stable/user_guide/indexing.html#returning-a-view-versus-a-copy\n",
      "  self._setitem_single_column(loc, value[:, i].tolist(), pi)\n"
     ]
    }
   ],
   "source": [
    "scaler_models = norm_per_stock_split(train, valid, test, features, MinMaxScaler)"
   ]
  },
  {
   "cell_type": "markdown",
   "id": "enhanced-calculation",
   "metadata": {},
   "source": [
    "### Merge in the climate data"
   ]
  },
  {
   "cell_type": "code",
   "execution_count": 34,
   "id": "residential-plate",
   "metadata": {},
   "outputs": [
    {
     "data": {
      "text/plain": [
       "Term\n",
       "Date                               0\n",
       "carbon tax                         0\n",
       "climate change                     0\n",
       "electric vehicles                  0\n",
       "environmental protection agency    0\n",
       "fossil fuels                       0\n",
       "fracking                           0\n",
       "global warming                     0\n",
       "greenhouse gas                     0\n",
       "oil                                0\n",
       "renewable                          0\n",
       "dtype: int64"
      ]
     },
     "execution_count": 34,
     "metadata": {},
     "output_type": "execute_result"
    }
   ],
   "source": [
    "climate_trends_data.isna().sum()"
   ]
  },
  {
   "cell_type": "code",
   "execution_count": 35,
   "id": "tribal-panama",
   "metadata": {},
   "outputs": [
    {
     "data": {
      "text/html": [
       "<div>\n",
       "<style scoped>\n",
       "    .dataframe tbody tr th:only-of-type {\n",
       "        vertical-align: middle;\n",
       "    }\n",
       "\n",
       "    .dataframe tbody tr th {\n",
       "        vertical-align: top;\n",
       "    }\n",
       "\n",
       "    .dataframe thead th {\n",
       "        text-align: right;\n",
       "    }\n",
       "</style>\n",
       "<table border=\"1\" class=\"dataframe\">\n",
       "  <thead>\n",
       "    <tr style=\"text-align: right;\">\n",
       "      <th>Term</th>\n",
       "      <th>Date</th>\n",
       "      <th>carbon tax</th>\n",
       "      <th>climate change</th>\n",
       "      <th>electric vehicles</th>\n",
       "      <th>environmental protection agency</th>\n",
       "      <th>fossil fuels</th>\n",
       "      <th>fracking</th>\n",
       "      <th>global warming</th>\n",
       "      <th>greenhouse gas</th>\n",
       "      <th>oil</th>\n",
       "      <th>renewable</th>\n",
       "    </tr>\n",
       "  </thead>\n",
       "  <tbody>\n",
       "    <tr>\n",
       "      <th>244</th>\n",
       "      <td>2015-09-02</td>\n",
       "      <td>-0.481888</td>\n",
       "      <td>-0.53793</td>\n",
       "      <td>-1.006716</td>\n",
       "      <td>-0.382898</td>\n",
       "      <td>-0.093499</td>\n",
       "      <td>-0.11779</td>\n",
       "      <td>0.015597</td>\n",
       "      <td>-0.756701</td>\n",
       "      <td>0.154939</td>\n",
       "      <td>0.028631</td>\n",
       "    </tr>\n",
       "  </tbody>\n",
       "</table>\n",
       "</div>"
      ],
      "text/plain": [
       "Term       Date  carbon tax  climate change  electric vehicles  environmental protection agency  fossil fuels  fracking  global warming  greenhouse gas       oil  renewable\n",
       "244  2015-09-02   -0.481888        -0.53793          -1.006716                        -0.382898     -0.093499  -0.11779        0.015597       -0.756701  0.154939   0.028631"
      ]
     },
     "execution_count": 35,
     "metadata": {},
     "output_type": "execute_result"
    }
   ],
   "source": [
    "climate_trends_data[climate_trends_data['Date']=='2015-09-02']"
   ]
  },
  {
   "cell_type": "code",
   "execution_count": 36,
   "id": "static-moisture",
   "metadata": {},
   "outputs": [],
   "source": [
    "train = train.merge(climate_trends_data, on=[\"Date\"], how='left')\n",
    "valid = valid.merge(climate_trends_data, on=[\"Date\"], how='left')\n",
    "test = test.merge(climate_trends_data, on=[\"Date\"], how='left')"
   ]
  },
  {
   "cell_type": "code",
   "execution_count": 37,
   "id": "unique-theta",
   "metadata": {},
   "outputs": [
    {
     "data": {
      "text/html": [
       "<div>\n",
       "<style scoped>\n",
       "    .dataframe tbody tr th:only-of-type {\n",
       "        vertical-align: middle;\n",
       "    }\n",
       "\n",
       "    .dataframe tbody tr th {\n",
       "        vertical-align: top;\n",
       "    }\n",
       "\n",
       "    .dataframe thead th {\n",
       "        text-align: right;\n",
       "    }\n",
       "</style>\n",
       "<table border=\"1\" class=\"dataframe\">\n",
       "  <thead>\n",
       "    <tr style=\"text-align: right;\">\n",
       "      <th></th>\n",
       "      <th>Ticker</th>\n",
       "      <th>Date</th>\n",
       "      <th>Close</th>\n",
       "      <th>High</th>\n",
       "      <th>Low</th>\n",
       "      <th>Open</th>\n",
       "      <th>Volume</th>\n",
       "      <th>HH</th>\n",
       "      <th>LL</th>\n",
       "      <th>AV</th>\n",
       "      <th>SMA</th>\n",
       "      <th>SD</th>\n",
       "      <th>WILLR</th>\n",
       "      <th>ATR</th>\n",
       "      <th>DMH</th>\n",
       "      <th>DML</th>\n",
       "      <th>EMA</th>\n",
       "      <th>WMA</th>\n",
       "      <th>BBHIGH</th>\n",
       "      <th>BBLOW</th>\n",
       "      <th>PERBHIGH</th>\n",
       "      <th>PERBLOW</th>\n",
       "      <th>TRIMA</th>\n",
       "      <th>RSI</th>\n",
       "      <th>DX</th>\n",
       "      <th>PDI</th>\n",
       "      <th>NDI</th>\n",
       "      <th>ADX</th>\n",
       "      <th>ROC</th>\n",
       "      <th>MACD</th>\n",
       "      <th>CCI</th>\n",
       "      <th>carbon tax</th>\n",
       "      <th>climate change</th>\n",
       "      <th>electric vehicles</th>\n",
       "      <th>environmental protection agency</th>\n",
       "      <th>fossil fuels</th>\n",
       "      <th>fracking</th>\n",
       "      <th>global warming</th>\n",
       "      <th>greenhouse gas</th>\n",
       "      <th>oil</th>\n",
       "      <th>renewable</th>\n",
       "    </tr>\n",
       "  </thead>\n",
       "  <tbody>\n",
       "  </tbody>\n",
       "</table>\n",
       "</div>"
      ],
      "text/plain": [
       "Empty DataFrame\n",
       "Columns: [Ticker, Date, Close, High, Low, Open, Volume, HH, LL, AV, SMA, SD, WILLR, ATR, DMH, DML, EMA, WMA, BBHIGH, BBLOW, PERBHIGH, PERBLOW, TRIMA, RSI, DX, PDI, NDI, ADX, ROC, MACD, CCI, carbon tax, climate change, electric vehicles, environmental protection agency, fossil fuels, fracking, global warming, greenhouse gas, oil, renewable]\n",
       "Index: []"
      ]
     },
     "execution_count": 37,
     "metadata": {},
     "output_type": "execute_result"
    }
   ],
   "source": [
    "train[train[terms].isna().sum(axis=1)>0]"
   ]
  },
  {
   "cell_type": "code",
   "execution_count": 38,
   "id": "worthy-boost",
   "metadata": {},
   "outputs": [
    {
     "data": {
      "text/plain": [
       "Ticker                               0\n",
       "Date                                 0\n",
       "Close                                0\n",
       "High                                 0\n",
       "Low                                  0\n",
       "Open                                 0\n",
       "Volume                               0\n",
       "HH                                   0\n",
       "LL                                   0\n",
       "AV                                   0\n",
       "SMA                                  0\n",
       "SD                                  11\n",
       "WILLR                                0\n",
       "ATR                                  0\n",
       "DMH                                  0\n",
       "DML                                  0\n",
       "EMA                                  0\n",
       "WMA                                143\n",
       "BBHIGH                              11\n",
       "BBLOW                               11\n",
       "PERBHIGH                            11\n",
       "PERBLOW                             11\n",
       "TRIMA                              143\n",
       "RSI                                154\n",
       "DX                                  59\n",
       "PDI                                  0\n",
       "NDI                                  0\n",
       "ADX                                 11\n",
       "ROC                                  0\n",
       "MACD                                 0\n",
       "CCI                                 11\n",
       "carbon tax                           0\n",
       "climate change                       0\n",
       "electric vehicles                    0\n",
       "environmental protection agency      0\n",
       "fossil fuels                         0\n",
       "fracking                             0\n",
       "global warming                       0\n",
       "greenhouse gas                       0\n",
       "oil                                  0\n",
       "renewable                            0\n",
       "dtype: int64"
      ]
     },
     "execution_count": 38,
     "metadata": {},
     "output_type": "execute_result"
    }
   ],
   "source": [
    "train.isna().sum()"
   ]
  },
  {
   "cell_type": "markdown",
   "id": "korean-swing",
   "metadata": {},
   "source": [
    "#### Prepare training inputs and outputs\n",
    "Convert the daily data points into a set of data points each with {trail_size} days.   \n",
    "We keep track of the tickers so we can later inverse the normalization with the right model. "
   ]
  },
  {
   "cell_type": "code",
   "execution_count": 39,
   "id": "practical-chance",
   "metadata": {},
   "outputs": [],
   "source": [
    "# valid.groupby('Ticker').apply(lambda x: apply_rolling(x, trail_size=trail_size, predict_length=predict_length, predict_change=predict_change))"
   ]
  },
  {
   "cell_type": "code",
   "execution_count": 40,
   "id": "powered-mother",
   "metadata": {},
   "outputs": [],
   "source": [
    "# apply_rolling(valid.loc[valid['Ticker']=='HYSR'], trail_size, predict_length, predict_change)"
   ]
  },
  {
   "cell_type": "code",
   "execution_count": 41,
   "id": "external-description",
   "metadata": {},
   "outputs": [],
   "source": [
    "# valid.loc[valid['Ticker']=='HYSR']"
   ]
  },
  {
   "cell_type": "code",
   "execution_count": 42,
   "id": "appreciated-instrumentation",
   "metadata": {},
   "outputs": [],
   "source": [
    "# valid.loc[valid['Ticker']=='HYSR'].isna().sum(axis=0)"
   ]
  },
  {
   "cell_type": "code",
   "execution_count": 43,
   "id": "diverse-silver",
   "metadata": {},
   "outputs": [
    {
     "name": "stdout",
     "output_type": "stream",
     "text": [
      "[(688, 14, 39), (688, 14, 39), (688, 14, 39), (587, 14, 39), (688, 14, 39), (688, 14, 39), (688, 14, 39), (512, 14, 39), (646, 14, 39), (463, 14, 39), (688, 14, 39)]\n",
      "[(219, 14, 39), (219, 14, 39), (219, 14, 39), (219, 14, 39), (219, 14, 39), (219, 14, 39), (219, 14, 39), (177, 14, 39), (219, 14, 39), (182, 14, 39), (205, 14, 39)]\n",
      "[(228, 14, 39), (228, 14, 39), (228, 14, 39), (228, 14, 39), (228, 14, 39), (228, 14, 39), (228, 14, 39), (214, 14, 39), (228, 14, 39), (127, 14, 39), (228, 14, 39)]\n"
     ]
    }
   ],
   "source": [
    "x_train, y_train, tickers_train = roll_all_stocks(train, trail_size, predict_length, predict_change=predict_change)\n",
    "x_valid, y_valid, tickers_valid = roll_all_stocks(valid, trail_size, predict_length, predict_change=predict_change)\n",
    "x_test, y_test, tickers_test = roll_all_stocks(test, trail_size, predict_length, predict_change=predict_change)"
   ]
  },
  {
   "cell_type": "code",
   "execution_count": 44,
   "id": "foster-guatemala",
   "metadata": {},
   "outputs": [],
   "source": [
    "num_features+=num_climate_features"
   ]
  },
  {
   "cell_type": "markdown",
   "id": "funded-frequency",
   "metadata": {},
   "source": [
    "#### Confirm shapes"
   ]
  },
  {
   "cell_type": "code",
   "execution_count": 45,
   "id": "dominant-pilot",
   "metadata": {},
   "outputs": [
    {
     "name": "stdout",
     "output_type": "stream",
     "text": [
      "x_train: (7024, 14, 39)\n",
      "y_train: (7024,)\n",
      "x_valid: (2316, 14, 39)\n",
      "y_valid (2316,)\n",
      "x_test: (2393, 14, 39)\n",
      "y_test (2393,)\n"
     ]
    }
   ],
   "source": [
    "print(\"x_train: {}\".format(x_train.shape))\n",
    "print(\"y_train: {}\".format(y_train.shape))\n",
    "print(\"x_valid: {}\".format(x_valid.shape))\n",
    "print(\"y_valid {}\".format(y_valid.shape))\n",
    "print(\"x_test: {}\".format(x_test.shape))\n",
    "print(\"y_test {}\".format(y_test.shape))"
   ]
  },
  {
   "cell_type": "code",
   "execution_count": 46,
   "id": "hollywood-forty",
   "metadata": {},
   "outputs": [
    {
     "name": "stdout",
     "output_type": "stream",
     "text": [
      "tickers_train: (7024,)\n",
      "tickers_train: (2316,)\n",
      "tickers_train: (2393,)\n"
     ]
    }
   ],
   "source": [
    "print(\"tickers_train: {}\".format(tickers_train.shape))\n",
    "print(\"tickers_train: {}\".format(tickers_valid.shape))\n",
    "print(\"tickers_train: {}\".format(tickers_test.shape))"
   ]
  },
  {
   "cell_type": "markdown",
   "id": "round-contemporary",
   "metadata": {},
   "source": [
    "### Model design"
   ]
  },
  {
   "cell_type": "code",
   "execution_count": 47,
   "id": "removed-degree",
   "metadata": {},
   "outputs": [],
   "source": [
    "model = Sequential()\n",
    "model.add(LSTM(units=75, input_shape=(trail_size, num_features), return_sequences=True))\n",
    "model.add(Dropout(0.25))\n",
    "model.add(LSTM(units=30, return_sequences=True))\n",
    "model.add(Dropout(0.25))\n",
    "\n",
    "model.add(LSTM(units=30, return_sequences=True))\n",
    "model.add(Dropout(0.25))\n",
    "\n",
    "model.add(Flatten())\n",
    "# model.add(Dense(50, activation='relu'))\n",
    "# model.add(Dense(25, activation='relu'))\n",
    "model.add(Dense(1, activation='linear'))"
   ]
  },
  {
   "cell_type": "code",
   "execution_count": 48,
   "id": "norman-rover",
   "metadata": {
    "scrolled": false
   },
   "outputs": [
    {
     "name": "stdout",
     "output_type": "stream",
     "text": [
      "Model: \"sequential\"\n",
      "_________________________________________________________________\n",
      "Layer (type)                 Output Shape              Param #   \n",
      "=================================================================\n",
      "lstm (LSTM)                  (None, 14, 75)            34500     \n",
      "_________________________________________________________________\n",
      "dropout (Dropout)            (None, 14, 75)            0         \n",
      "_________________________________________________________________\n",
      "lstm_1 (LSTM)                (None, 14, 30)            12720     \n",
      "_________________________________________________________________\n",
      "dropout_1 (Dropout)          (None, 14, 30)            0         \n",
      "_________________________________________________________________\n",
      "lstm_2 (LSTM)                (None, 14, 30)            7320      \n",
      "_________________________________________________________________\n",
      "dropout_2 (Dropout)          (None, 14, 30)            0         \n",
      "_________________________________________________________________\n",
      "flatten (Flatten)            (None, 420)               0         \n",
      "_________________________________________________________________\n",
      "dense (Dense)                (None, 1)                 421       \n",
      "=================================================================\n",
      "Total params: 54,961\n",
      "Trainable params: 54,961\n",
      "Non-trainable params: 0\n",
      "_________________________________________________________________\n"
     ]
    }
   ],
   "source": [
    "model.summary()"
   ]
  },
  {
   "cell_type": "code",
   "execution_count": 49,
   "id": "hearing-greensboro",
   "metadata": {},
   "outputs": [],
   "source": [
    "time_stamp = time()\n",
    "tensorboard = TensorBoard(log_dir='logs/{}'.format(time_stamp))"
   ]
  },
  {
   "cell_type": "code",
   "execution_count": 50,
   "id": "earned-beads",
   "metadata": {},
   "outputs": [],
   "source": [
    "model.compile(optimizer='adam', loss='mean_squared_error')"
   ]
  },
  {
   "cell_type": "markdown",
   "id": "sacred-collar",
   "metadata": {},
   "source": [
    "### Train on many stocks"
   ]
  },
  {
   "cell_type": "code",
   "execution_count": 51,
   "id": "daily-angola",
   "metadata": {},
   "outputs": [
    {
     "name": "stdout",
     "output_type": "stream",
     "text": [
      "Epoch 1/100\n",
      "110/110 [==============================] - 8s 31ms/step - loss: 0.0873 - val_loss: 0.0299\n",
      "Epoch 2/100\n",
      "110/110 [==============================] - 1s 10ms/step - loss: 0.0212 - val_loss: 0.0238\n",
      "Epoch 3/100\n",
      "110/110 [==============================] - 1s 10ms/step - loss: 0.0121 - val_loss: 0.0222\n",
      "Epoch 4/100\n",
      "110/110 [==============================] - 1s 10ms/step - loss: 0.0106 - val_loss: 0.0235\n",
      "Epoch 5/100\n",
      "110/110 [==============================] - 1s 10ms/step - loss: 0.0098 - val_loss: 0.0221\n",
      "Epoch 6/100\n",
      "110/110 [==============================] - 1s 10ms/step - loss: 0.0090 - val_loss: 0.0230\n",
      "Epoch 7/100\n",
      "110/110 [==============================] - 1s 10ms/step - loss: 0.0090 - val_loss: 0.0236\n",
      "Epoch 8/100\n",
      "110/110 [==============================] - 1s 10ms/step - loss: 0.0090 - val_loss: 0.0240\n",
      "Epoch 9/100\n",
      "110/110 [==============================] - 1s 10ms/step - loss: 0.0082 - val_loss: 0.0250\n",
      "Epoch 10/100\n",
      "110/110 [==============================] - 1s 10ms/step - loss: 0.0078 - val_loss: 0.0257\n",
      "Epoch 11/100\n",
      "110/110 [==============================] - 1s 10ms/step - loss: 0.0079 - val_loss: 0.0262\n",
      "Epoch 12/100\n",
      "110/110 [==============================] - 1s 10ms/step - loss: 0.0072 - val_loss: 0.0263\n",
      "Epoch 13/100\n",
      "110/110 [==============================] - 1s 10ms/step - loss: 0.0072 - val_loss: 0.0262\n",
      "Epoch 14/100\n",
      "110/110 [==============================] - 1s 9ms/step - loss: 0.0071 - val_loss: 0.0276\n",
      "Epoch 15/100\n",
      "110/110 [==============================] - 1s 10ms/step - loss: 0.0068 - val_loss: 0.0277\n",
      "Epoch 16/100\n",
      "110/110 [==============================] - 1s 10ms/step - loss: 0.0067 - val_loss: 0.0282\n",
      "Epoch 17/100\n",
      "110/110 [==============================] - 1s 10ms/step - loss: 0.0066 - val_loss: 0.0298\n",
      "Epoch 18/100\n",
      "110/110 [==============================] - 1s 10ms/step - loss: 0.0064 - val_loss: 0.0307\n",
      "Epoch 19/100\n",
      "110/110 [==============================] - 1s 10ms/step - loss: 0.0062 - val_loss: 0.0293\n",
      "Epoch 20/100\n",
      "110/110 [==============================] - 1s 10ms/step - loss: 0.0065 - val_loss: 0.0306\n",
      "Epoch 21/100\n",
      "110/110 [==============================] - 1s 9ms/step - loss: 0.0063 - val_loss: 0.0310\n",
      "Epoch 22/100\n",
      "110/110 [==============================] - 1s 9ms/step - loss: 0.0060 - val_loss: 0.0317\n",
      "Epoch 23/100\n",
      "110/110 [==============================] - 1s 9ms/step - loss: 0.0060 - val_loss: 0.0325\n",
      "Epoch 24/100\n",
      "110/110 [==============================] - 1s 10ms/step - loss: 0.0061 - val_loss: 0.0322\n",
      "Epoch 25/100\n",
      "110/110 [==============================] - 1s 10ms/step - loss: 0.0059 - val_loss: 0.0338\n",
      "Epoch 26/100\n",
      "110/110 [==============================] - 1s 10ms/step - loss: 0.0058 - val_loss: 0.0339\n",
      "Epoch 27/100\n",
      "110/110 [==============================] - 1s 10ms/step - loss: 0.0058 - val_loss: 0.0327\n",
      "Epoch 28/100\n",
      "110/110 [==============================] - 1s 10ms/step - loss: 0.0054 - val_loss: 0.0326\n",
      "Epoch 29/100\n",
      "110/110 [==============================] - 1s 10ms/step - loss: 0.0055 - val_loss: 0.0328\n",
      "Epoch 30/100\n",
      "110/110 [==============================] - 1s 9ms/step - loss: 0.0054 - val_loss: 0.0322\n",
      "Epoch 31/100\n",
      "110/110 [==============================] - 1s 9ms/step - loss: 0.0054 - val_loss: 0.0325\n",
      "Epoch 32/100\n",
      "110/110 [==============================] - 1s 10ms/step - loss: 0.0055 - val_loss: 0.0320\n",
      "Epoch 33/100\n",
      "110/110 [==============================] - 1s 10ms/step - loss: 0.0056 - val_loss: 0.0312\n",
      "Epoch 34/100\n",
      "110/110 [==============================] - 1s 10ms/step - loss: 0.0057 - val_loss: 0.0311\n",
      "Epoch 35/100\n",
      "110/110 [==============================] - 1s 10ms/step - loss: 0.0051 - val_loss: 0.0302\n",
      "Epoch 36/100\n",
      "110/110 [==============================] - 1s 10ms/step - loss: 0.0055 - val_loss: 0.0309\n",
      "Epoch 37/100\n",
      "110/110 [==============================] - 1s 10ms/step - loss: 0.0055 - val_loss: 0.0334\n",
      "Epoch 38/100\n",
      "110/110 [==============================] - 1s 10ms/step - loss: 0.0054 - val_loss: 0.0329\n",
      "Epoch 39/100\n",
      "110/110 [==============================] - 1s 10ms/step - loss: 0.0048 - val_loss: 0.0320\n",
      "Epoch 40/100\n",
      "110/110 [==============================] - 1s 10ms/step - loss: 0.0047 - val_loss: 0.0295\n",
      "Epoch 41/100\n",
      "110/110 [==============================] - 1s 10ms/step - loss: 0.0049 - val_loss: 0.0310\n",
      "Epoch 42/100\n",
      "110/110 [==============================] - 1s 10ms/step - loss: 0.0049 - val_loss: 0.0310\n",
      "Epoch 43/100\n",
      "110/110 [==============================] - 1s 10ms/step - loss: 0.0067 - val_loss: 0.0322\n",
      "Epoch 44/100\n",
      "110/110 [==============================] - 1s 10ms/step - loss: 0.0050 - val_loss: 0.0296\n",
      "Epoch 45/100\n",
      "110/110 [==============================] - 1s 10ms/step - loss: 0.0048 - val_loss: 0.0291\n",
      "Epoch 46/100\n",
      "110/110 [==============================] - 1s 10ms/step - loss: 0.0050 - val_loss: 0.0277\n",
      "Epoch 47/100\n",
      "110/110 [==============================] - 1s 10ms/step - loss: 0.0046 - val_loss: 0.0280\n",
      "Epoch 48/100\n",
      "110/110 [==============================] - 1s 10ms/step - loss: 0.0045 - val_loss: 0.0259\n",
      "Epoch 49/100\n",
      "110/110 [==============================] - 1s 10ms/step - loss: 0.0048 - val_loss: 0.0255\n",
      "Epoch 50/100\n",
      "110/110 [==============================] - 1s 10ms/step - loss: 0.0046 - val_loss: 0.0267\n",
      "Epoch 51/100\n",
      "110/110 [==============================] - 1s 10ms/step - loss: 0.0045 - val_loss: 0.0287\n",
      "Epoch 52/100\n",
      "110/110 [==============================] - 1s 10ms/step - loss: 0.0049 - val_loss: 0.0237\n",
      "Epoch 53/100\n",
      "110/110 [==============================] - 1s 10ms/step - loss: 0.0047 - val_loss: 0.0269\n",
      "Epoch 54/100\n",
      "110/110 [==============================] - 1s 10ms/step - loss: 0.0049 - val_loss: 0.0245\n",
      "Epoch 55/100\n",
      "110/110 [==============================] - 1s 10ms/step - loss: 0.0044 - val_loss: 0.0251\n",
      "Epoch 56/100\n",
      "110/110 [==============================] - 1s 10ms/step - loss: 0.0043 - val_loss: 0.0239\n",
      "Epoch 57/100\n",
      "110/110 [==============================] - 1s 10ms/step - loss: 0.0045 - val_loss: 0.0231\n",
      "Epoch 58/100\n",
      "110/110 [==============================] - 1s 10ms/step - loss: 0.0039 - val_loss: 0.0260\n",
      "Epoch 59/100\n",
      "110/110 [==============================] - 1s 10ms/step - loss: 0.0045 - val_loss: 0.0253\n",
      "Epoch 60/100\n",
      "110/110 [==============================] - 1s 10ms/step - loss: 0.0039 - val_loss: 0.0248\n",
      "Epoch 61/100\n",
      "110/110 [==============================] - 1s 10ms/step - loss: 0.0038 - val_loss: 0.0252\n",
      "Epoch 62/100\n",
      "110/110 [==============================] - 1s 10ms/step - loss: 0.0040 - val_loss: 0.0249\n",
      "Epoch 63/100\n",
      "110/110 [==============================] - 1s 10ms/step - loss: 0.0036 - val_loss: 0.0254\n",
      "Epoch 64/100\n",
      "110/110 [==============================] - 1s 10ms/step - loss: 0.0037 - val_loss: 0.0244\n",
      "Epoch 65/100\n",
      "110/110 [==============================] - 1s 10ms/step - loss: 0.0040 - val_loss: 0.0245\n",
      "Epoch 66/100\n",
      "110/110 [==============================] - 1s 10ms/step - loss: 0.0035 - val_loss: 0.0250\n",
      "Epoch 67/100\n",
      "110/110 [==============================] - 1s 10ms/step - loss: 0.0034 - val_loss: 0.0250\n",
      "Epoch 68/100\n",
      "110/110 [==============================] - 1s 10ms/step - loss: 0.0033 - val_loss: 0.0239\n",
      "Epoch 69/100\n",
      "110/110 [==============================] - 1s 10ms/step - loss: 0.0033 - val_loss: 0.0252\n",
      "Epoch 70/100\n",
      "110/110 [==============================] - 1s 10ms/step - loss: 0.0033 - val_loss: 0.0252\n",
      "Epoch 71/100\n",
      "110/110 [==============================] - 1s 10ms/step - loss: 0.0032 - val_loss: 0.0262\n",
      "Epoch 72/100\n",
      "110/110 [==============================] - 1s 10ms/step - loss: 0.0031 - val_loss: 0.0230\n",
      "Epoch 73/100\n",
      "110/110 [==============================] - 1s 10ms/step - loss: 0.0031 - val_loss: 0.0242\n",
      "Epoch 74/100\n",
      "110/110 [==============================] - 1s 10ms/step - loss: 0.0032 - val_loss: 0.0272\n",
      "Epoch 75/100\n",
      "110/110 [==============================] - 1s 10ms/step - loss: 0.0029 - val_loss: 0.0240\n",
      "Epoch 76/100\n",
      "110/110 [==============================] - 1s 9ms/step - loss: 0.0029 - val_loss: 0.0271\n",
      "Epoch 77/100\n",
      "110/110 [==============================] - 1s 9ms/step - loss: 0.0030 - val_loss: 0.0279\n",
      "Epoch 78/100\n",
      "110/110 [==============================] - 1s 9ms/step - loss: 0.0029 - val_loss: 0.0273\n",
      "Epoch 79/100\n",
      "110/110 [==============================] - 1s 9ms/step - loss: 0.0027 - val_loss: 0.0468\n",
      "Epoch 80/100\n"
     ]
    },
    {
     "name": "stdout",
     "output_type": "stream",
     "text": [
      "110/110 [==============================] - 1s 9ms/step - loss: 0.0029 - val_loss: 0.0303\n",
      "Epoch 81/100\n",
      "110/110 [==============================] - 1s 9ms/step - loss: 0.0027 - val_loss: 0.0319\n",
      "Epoch 82/100\n",
      "110/110 [==============================] - 1s 9ms/step - loss: 0.0030 - val_loss: 0.0280\n",
      "Epoch 83/100\n",
      "110/110 [==============================] - 1s 9ms/step - loss: 0.0028 - val_loss: 0.0305\n",
      "Epoch 84/100\n",
      "110/110 [==============================] - 1s 9ms/step - loss: 0.0031 - val_loss: 0.0401\n",
      "Epoch 85/100\n",
      "110/110 [==============================] - 1s 9ms/step - loss: 0.0030 - val_loss: 0.0286\n",
      "Epoch 86/100\n",
      "110/110 [==============================] - 1s 10ms/step - loss: 0.0032 - val_loss: 0.0343\n",
      "Epoch 87/100\n",
      "110/110 [==============================] - 1s 9ms/step - loss: 0.0032 - val_loss: 0.0428\n",
      "Epoch 88/100\n",
      "110/110 [==============================] - 1s 9ms/step - loss: 0.0029 - val_loss: 0.0487\n",
      "Epoch 89/100\n",
      "110/110 [==============================] - 1s 9ms/step - loss: 0.0026 - val_loss: 0.0360\n",
      "Epoch 90/100\n",
      "110/110 [==============================] - 1s 9ms/step - loss: 0.0025 - val_loss: 0.0318\n",
      "Epoch 91/100\n",
      "110/110 [==============================] - 1s 10ms/step - loss: 0.0026 - val_loss: 0.0306\n",
      "Epoch 92/100\n",
      "110/110 [==============================] - 1s 9ms/step - loss: 0.0032 - val_loss: 0.0297\n",
      "Epoch 93/100\n",
      "110/110 [==============================] - 1s 9ms/step - loss: 0.0026 - val_loss: 0.0331\n",
      "Epoch 94/100\n",
      "110/110 [==============================] - 1s 9ms/step - loss: 0.0035 - val_loss: 0.0314\n",
      "Epoch 95/100\n",
      "110/110 [==============================] - 1s 9ms/step - loss: 0.0056 - val_loss: 0.0359\n",
      "Epoch 96/100\n",
      "110/110 [==============================] - 1s 10ms/step - loss: 0.0058 - val_loss: 0.0412\n",
      "Epoch 97/100\n",
      "110/110 [==============================] - 1s 10ms/step - loss: 0.0031 - val_loss: 0.0155\n",
      "Epoch 98/100\n",
      "110/110 [==============================] - 1s 10ms/step - loss: 0.0026 - val_loss: 0.0203\n",
      "Epoch 99/100\n",
      "110/110 [==============================] - 1s 10ms/step - loss: 0.0025 - val_loss: 0.0255\n",
      "Epoch 100/100\n",
      "110/110 [==============================] - 1s 10ms/step - loss: 0.0025 - val_loss: 0.0285\n"
     ]
    }
   ],
   "source": [
    "history1 = model.fit(x_train, y_train, epochs=100, validation_data=(x_valid, y_valid), batch_size=64, shuffle=False, callbacks=[tensorboard])"
   ]
  },
  {
   "cell_type": "markdown",
   "id": "developing-pulse",
   "metadata": {},
   "source": [
    "### Prepare data for one stock"
   ]
  },
  {
   "cell_type": "code",
   "execution_count": 52,
   "id": "multiple-industry",
   "metadata": {},
   "outputs": [],
   "source": [
    "target_stock = 'FSLR'"
   ]
  },
  {
   "cell_type": "code",
   "execution_count": 53,
   "id": "first-large",
   "metadata": {},
   "outputs": [],
   "source": [
    "single_stock_dataset = dataset[dataset['Ticker']==target_stock].reset_index(drop=True)"
   ]
  },
  {
   "cell_type": "code",
   "execution_count": 54,
   "id": "similar-genius",
   "metadata": {},
   "outputs": [
    {
     "data": {
      "text/plain": [
       "<AxesSubplot:xlabel='Date', ylabel='Close'>"
      ]
     },
     "execution_count": 54,
     "metadata": {},
     "output_type": "execute_result"
    },
    {
     "data": {
      "image/png": "[encoded data removed]",
      "text/plain": [
       "<Figure size 432x288 with 1 Axes>"
      ]
     },
     "metadata": {
      "needs_background": "light"
     },
     "output_type": "display_data"
    }
   ],
   "source": [
    "sns.lineplot(x=single_stock_dataset['Date'], y=single_stock_dataset['Close'])"
   ]
  },
  {
   "cell_type": "markdown",
   "id": "charming-yacht",
   "metadata": {},
   "source": [
    "### Train test split"
   ]
  },
  {
   "cell_type": "code",
   "execution_count": 55,
   "id": "healthy-pressing",
   "metadata": {},
   "outputs": [],
   "source": [
    "train = single_stock_dataset.loc[single_stock_dataset['Date'] < \"2018-03-01\"]\n",
    "valid = single_stock_dataset.loc[(single_stock_dataset['Date'] > \"2018-03-13\") & (single_stock_dataset['Date'] < \"2019-03-01\")]\n",
    "test = single_stock_dataset.loc[(single_stock_dataset['Date'] > \"2019-03-01\") & (single_stock_dataset['Date'] < \"2020-03-01\")]"
   ]
  },
  {
   "cell_type": "code",
   "execution_count": 56,
   "id": "negative-objective",
   "metadata": {},
   "outputs": [
    {
     "name": "stderr",
     "output_type": "stream",
     "text": [
      "C:\\Users\\jaker\\miniconda3\\envs\\finance\\lib\\site-packages\\pandas\\core\\indexing.py:1738: SettingWithCopyWarning: \n",
      "A value is trying to be set on a copy of a slice from a DataFrame.\n",
      "Try using .loc[row_indexer,col_indexer] = value instead\n",
      "\n",
      "See the caveats in the documentation: https://pandas.pydata.org/pandas-docs/stable/user_guide/indexing.html#returning-a-view-versus-a-copy\n",
      "  self._setitem_single_column(loc, value[:, i].tolist(), pi)\n",
      "C:\\Users\\jaker\\miniconda3\\envs\\finance\\lib\\site-packages\\pandas\\core\\indexing.py:1738: SettingWithCopyWarning: \n",
      "A value is trying to be set on a copy of a slice from a DataFrame.\n",
      "Try using .loc[row_indexer,col_indexer] = value instead\n",
      "\n",
      "See the caveats in the documentation: https://pandas.pydata.org/pandas-docs/stable/user_guide/indexing.html#returning-a-view-versus-a-copy\n",
      "  self._setitem_single_column(loc, value[:, i].tolist(), pi)\n",
      "C:\\Users\\jaker\\miniconda3\\envs\\finance\\lib\\site-packages\\pandas\\core\\indexing.py:1738: SettingWithCopyWarning: \n",
      "A value is trying to be set on a copy of a slice from a DataFrame.\n",
      "Try using .loc[row_indexer,col_indexer] = value instead\n",
      "\n",
      "See the caveats in the documentation: https://pandas.pydata.org/pandas-docs/stable/user_guide/indexing.html#returning-a-view-versus-a-copy\n",
      "  self._setitem_single_column(loc, value[:, i].tolist(), pi)\n"
     ]
    }
   ],
   "source": [
    "single_stock_scaler_models = norm_per_stock_split(train, valid, test, features, MinMaxScaler)"
   ]
  },
  {
   "cell_type": "code",
   "execution_count": 57,
   "id": "worthy-iraqi",
   "metadata": {},
   "outputs": [],
   "source": [
    "train = train.merge(climate_trends_data, on=[\"Date\"], how='left')\n",
    "valid = valid.merge(climate_trends_data, on=[\"Date\"], how='left')\n",
    "test = test.merge(climate_trends_data, on=[\"Date\"], how='left')"
   ]
  },
  {
   "cell_type": "markdown",
   "id": "binary-royal",
   "metadata": {},
   "source": [
    "#### Prepare training inputs and outputs\n",
    "Since we are using just one stock, we don't need to keep track of tickers"
   ]
  },
  {
   "cell_type": "code",
   "execution_count": 58,
   "id": "authentic-shipping",
   "metadata": {},
   "outputs": [
    {
     "name": "stdout",
     "output_type": "stream",
     "text": [
      "[(688, 14, 39)]\n",
      "[(219, 14, 39)]\n",
      "[(228, 14, 39)]\n"
     ]
    }
   ],
   "source": [
    "x_train, y_train, _ = roll_all_stocks(train, trail_size, predict_length, predict_change=predict_change)\n",
    "x_valid, y_valid, _ = roll_all_stocks(valid, trail_size, predict_length, predict_change=predict_change)\n",
    "x_test, y_test, _ = roll_all_stocks(test, trail_size, predict_length, predict_change=predict_change)"
   ]
  },
  {
   "cell_type": "markdown",
   "id": "supported-synthesis",
   "metadata": {},
   "source": [
    "#### Confirm shapes"
   ]
  },
  {
   "cell_type": "code",
   "execution_count": 59,
   "id": "hungry-fields",
   "metadata": {},
   "outputs": [
    {
     "name": "stdout",
     "output_type": "stream",
     "text": [
      "x_train: (688, 14, 39)\n",
      "y_train: (688,)\n",
      "x_valid: (219, 14, 39)\n",
      "y_valid (219,)\n",
      "x_test: (228, 14, 39)\n",
      "y_test (228,)\n"
     ]
    }
   ],
   "source": [
    "print(\"x_train: {}\".format(x_train.shape))\n",
    "print(\"y_train: {}\".format(y_train.shape))\n",
    "print(\"x_valid: {}\".format(x_valid.shape))\n",
    "print(\"y_valid {}\".format(y_valid.shape))\n",
    "print(\"x_test: {}\".format(x_test.shape))\n",
    "print(\"y_test {}\".format(y_test.shape))"
   ]
  },
  {
   "cell_type": "markdown",
   "id": "played-mother",
   "metadata": {},
   "source": [
    "### Test model on single stock"
   ]
  },
  {
   "cell_type": "code",
   "execution_count": 60,
   "id": "seeing-lighter",
   "metadata": {},
   "outputs": [
    {
     "name": "stdout",
     "output_type": "stream",
     "text": [
      "Training RMSE = 2.5551112727311183\n"
     ]
    }
   ],
   "source": [
    "print(\"Training RMSE = {}\".format(evaluate_model_rmse(model.predict(x_train), \n",
    "                                                      y_train,\n",
    "                                                     num_features - num_climate_features,\n",
    "                                                     single_stock_scaler_models[target_stock])))"
   ]
  },
  {
   "cell_type": "code",
   "execution_count": 61,
   "id": "adapted-allocation",
   "metadata": {},
   "outputs": [
    {
     "name": "stdout",
     "output_type": "stream",
     "text": [
      "Validation RMSE = 9.034309084021501\n"
     ]
    }
   ],
   "source": [
    "print(\"Validation RMSE = {}\".format(evaluate_model_rmse(model.predict(x_valid), \n",
    "                                                      y_valid,\n",
    "                                                     num_features - num_climate_features,\n",
    "                                                     single_stock_scaler_models[target_stock])))"
   ]
  },
  {
   "cell_type": "code",
   "execution_count": 62,
   "id": "mounted-identifier",
   "metadata": {},
   "outputs": [
    {
     "name": "stdout",
     "output_type": "stream",
     "text": [
      "Testing RMSE = 11.689008579993796\n"
     ]
    }
   ],
   "source": [
    "print(\"Testing RMSE = {}\".format(evaluate_model_rmse(model.predict(x_test), \n",
    "                                                     y_test,\n",
    "                                                    num_features - num_climate_features,\n",
    "                                                    single_stock_scaler_models[target_stock])))"
   ]
  },
  {
   "cell_type": "code",
   "execution_count": 63,
   "id": "large-poultry",
   "metadata": {},
   "outputs": [],
   "source": [
    "# model.layers[7].trainable = False\n",
    "# model.layers[4].trainable = False\n",
    "# model.layers[2].trainable = False\n",
    "# model.layers[0].trainable = False"
   ]
  },
  {
   "cell_type": "code",
   "execution_count": 64,
   "id": "occupied-spirituality",
   "metadata": {},
   "outputs": [
    {
     "name": "stdout",
     "output_type": "stream",
     "text": [
      "Model: \"sequential\"\n",
      "_________________________________________________________________\n",
      "Layer (type)                 Output Shape              Param #   \n",
      "=================================================================\n",
      "lstm (LSTM)                  (None, 14, 75)            34500     \n",
      "_________________________________________________________________\n",
      "dropout (Dropout)            (None, 14, 75)            0         \n",
      "_________________________________________________________________\n",
      "lstm_1 (LSTM)                (None, 14, 30)            12720     \n",
      "_________________________________________________________________\n",
      "dropout_1 (Dropout)          (None, 14, 30)            0         \n",
      "_________________________________________________________________\n",
      "lstm_2 (LSTM)                (None, 14, 30)            7320      \n",
      "_________________________________________________________________\n",
      "dropout_2 (Dropout)          (None, 14, 30)            0         \n",
      "_________________________________________________________________\n",
      "flatten (Flatten)            (None, 420)               0         \n",
      "_________________________________________________________________\n",
      "dense (Dense)                (None, 1)                 421       \n",
      "=================================================================\n",
      "Total params: 54,961\n",
      "Trainable params: 54,961\n",
      "Non-trainable params: 0\n",
      "_________________________________________________________________\n"
     ]
    }
   ],
   "source": [
    "model.summary()"
   ]
  },
  {
   "cell_type": "code",
   "execution_count": 65,
   "id": "friendly-residence",
   "metadata": {},
   "outputs": [],
   "source": [
    "model.compile(optimizer='adam', loss='mean_squared_error')"
   ]
  },
  {
   "cell_type": "markdown",
   "id": "essential-scheduling",
   "metadata": {},
   "source": [
    "### Train model on single stock"
   ]
  },
  {
   "cell_type": "code",
   "execution_count": 66,
   "id": "vocal-allocation",
   "metadata": {},
   "outputs": [],
   "source": [
    "tensorboard = TensorBoard(log_dir='logs/{}_2'.format(time_stamp))"
   ]
  },
  {
   "cell_type": "code",
   "execution_count": 67,
   "id": "threatened-projection",
   "metadata": {},
   "outputs": [
    {
     "name": "stdout",
     "output_type": "stream",
     "text": [
      "Epoch 1/45\n",
      "11/11 [==============================] - 7s 403ms/step - loss: 0.0036 - val_loss: 0.0373\n",
      "Epoch 2/45\n",
      "11/11 [==============================] - 0s 12ms/step - loss: 0.0036 - val_loss: 0.0218\n",
      "Epoch 3/45\n",
      "11/11 [==============================] - 0s 12ms/step - loss: 0.0038 - val_loss: 0.0295\n",
      "Epoch 4/45\n",
      "11/11 [==============================] - 0s 12ms/step - loss: 0.0032 - val_loss: 0.0202\n",
      "Epoch 5/45\n",
      "11/11 [==============================] - 0s 12ms/step - loss: 0.0033 - val_loss: 0.0282\n",
      "Epoch 6/45\n",
      "11/11 [==============================] - 0s 12ms/step - loss: 0.0029 - val_loss: 0.0231\n",
      "Epoch 7/45\n",
      "11/11 [==============================] - 0s 12ms/step - loss: 0.0025 - val_loss: 0.0334\n",
      "Epoch 8/45\n",
      "11/11 [==============================] - 0s 12ms/step - loss: 0.0024 - val_loss: 0.0242\n",
      "Epoch 9/45\n",
      "11/11 [==============================] - 0s 12ms/step - loss: 0.0024 - val_loss: 0.0327\n",
      "Epoch 10/45\n",
      "11/11 [==============================] - 0s 12ms/step - loss: 0.0024 - val_loss: 0.0233\n",
      "Epoch 11/45\n",
      "11/11 [==============================] - 0s 12ms/step - loss: 0.0024 - val_loss: 0.0294\n",
      "Epoch 12/45\n",
      "11/11 [==============================] - 0s 12ms/step - loss: 0.0020 - val_loss: 0.0267\n",
      "Epoch 13/45\n",
      "11/11 [==============================] - 0s 12ms/step - loss: 0.0020 - val_loss: 0.0339\n",
      "Epoch 14/45\n",
      "11/11 [==============================] - 0s 12ms/step - loss: 0.0022 - val_loss: 0.0217\n",
      "Epoch 15/45\n",
      "11/11 [==============================] - 0s 13ms/step - loss: 0.0022 - val_loss: 0.0313\n",
      "Epoch 16/45\n",
      "11/11 [==============================] - 0s 12ms/step - loss: 0.0019 - val_loss: 0.0256\n",
      "Epoch 17/45\n",
      "11/11 [==============================] - 0s 12ms/step - loss: 0.0021 - val_loss: 0.0308\n",
      "Epoch 18/45\n",
      "11/11 [==============================] - 0s 12ms/step - loss: 0.0021 - val_loss: 0.0200\n",
      "Epoch 19/45\n",
      "11/11 [==============================] - 0s 13ms/step - loss: 0.0022 - val_loss: 0.0270\n",
      "Epoch 20/45\n",
      "11/11 [==============================] - 0s 13ms/step - loss: 0.0022 - val_loss: 0.0207\n",
      "Epoch 21/45\n",
      "11/11 [==============================] - 0s 12ms/step - loss: 0.0022 - val_loss: 0.0265\n",
      "Epoch 22/45\n",
      "11/11 [==============================] - 0s 12ms/step - loss: 0.0020 - val_loss: 0.0208\n",
      "Epoch 23/45\n",
      "11/11 [==============================] - 0s 12ms/step - loss: 0.0020 - val_loss: 0.0295\n",
      "Epoch 24/45\n",
      "11/11 [==============================] - 0s 12ms/step - loss: 0.0019 - val_loss: 0.0216\n",
      "Epoch 25/45\n",
      "11/11 [==============================] - 0s 12ms/step - loss: 0.0020 - val_loss: 0.0278\n",
      "Epoch 26/45\n",
      "11/11 [==============================] - 0s 12ms/step - loss: 0.0023 - val_loss: 0.0188\n",
      "Epoch 27/45\n",
      "11/11 [==============================] - 0s 12ms/step - loss: 0.0023 - val_loss: 0.0233\n",
      "Epoch 28/45\n",
      "11/11 [==============================] - 0s 12ms/step - loss: 0.0020 - val_loss: 0.0179\n",
      "Epoch 29/45\n",
      "11/11 [==============================] - 0s 12ms/step - loss: 0.0020 - val_loss: 0.0243\n",
      "Epoch 30/45\n",
      "11/11 [==============================] - 0s 12ms/step - loss: 0.0020 - val_loss: 0.0166\n",
      "Epoch 31/45\n",
      "11/11 [==============================] - 0s 12ms/step - loss: 0.0017 - val_loss: 0.0209\n",
      "Epoch 32/45\n",
      "11/11 [==============================] - 0s 12ms/step - loss: 0.0017 - val_loss: 0.0178\n",
      "Epoch 33/45\n",
      "11/11 [==============================] - 0s 12ms/step - loss: 0.0015 - val_loss: 0.0213\n",
      "Epoch 34/45\n",
      "11/11 [==============================] - 0s 12ms/step - loss: 0.0015 - val_loss: 0.0185\n",
      "Epoch 35/45\n",
      "11/11 [==============================] - 0s 13ms/step - loss: 0.0014 - val_loss: 0.0170\n",
      "Epoch 36/45\n",
      "11/11 [==============================] - 0s 12ms/step - loss: 0.0014 - val_loss: 0.0166\n",
      "Epoch 37/45\n",
      "11/11 [==============================] - 0s 12ms/step - loss: 0.0016 - val_loss: 0.0163\n",
      "Epoch 38/45\n",
      "11/11 [==============================] - 0s 12ms/step - loss: 0.0014 - val_loss: 0.0159\n",
      "Epoch 39/45\n",
      "11/11 [==============================] - 0s 12ms/step - loss: 0.0013 - val_loss: 0.0168\n",
      "Epoch 40/45\n",
      "11/11 [==============================] - 0s 12ms/step - loss: 0.0012 - val_loss: 0.0182\n",
      "Epoch 41/45\n",
      "11/11 [==============================] - 0s 12ms/step - loss: 0.0015 - val_loss: 0.0164\n",
      "Epoch 42/45\n",
      "11/11 [==============================] - 0s 12ms/step - loss: 0.0017 - val_loss: 0.0211\n",
      "Epoch 43/45\n",
      "11/11 [==============================] - 0s 12ms/step - loss: 0.0019 - val_loss: 0.0141\n",
      "Epoch 44/45\n",
      "11/11 [==============================] - 0s 11ms/step - loss: 0.0023 - val_loss: 0.0220\n",
      "Epoch 45/45\n",
      "11/11 [==============================] - 0s 12ms/step - loss: 0.0022 - val_loss: 0.0138\n"
     ]
    }
   ],
   "source": [
    "history2 = model.fit(x_train, y_train, epochs=45, validation_data=(x_valid, y_valid), batch_size=64, shuffle=False, callbacks=[tensorboard])"
   ]
  },
  {
   "cell_type": "markdown",
   "id": "promising-republican",
   "metadata": {},
   "source": [
    "### Visualize results"
   ]
  },
  {
   "cell_type": "code",
   "execution_count": 68,
   "id": "greatest-sodium",
   "metadata": {},
   "outputs": [
    {
     "data": {
      "image/png": "[encoded data removed]",
      "text/plain": [
       "<Figure size 576x432 with 1 Axes>"
      ]
     },
     "metadata": {
      "needs_background": "light"
     },
     "output_type": "display_data"
    }
   ],
   "source": [
    "plot_loss(history1)"
   ]
  },
  {
   "cell_type": "code",
   "execution_count": 69,
   "id": "vanilla-reception",
   "metadata": {},
   "outputs": [
    {
     "data": {
      "image/png": "[encoded data removed]",
      "text/plain": [
       "<Figure size 576x432 with 1 Axes>"
      ]
     },
     "metadata": {
      "needs_background": "light"
     },
     "output_type": "display_data"
    }
   ],
   "source": [
    "plot_loss(history2)"
   ]
  },
  {
   "cell_type": "code",
   "execution_count": 70,
   "id": "prepared-principal",
   "metadata": {},
   "outputs": [
    {
     "name": "stdout",
     "output_type": "stream",
     "text": [
      "Training RMSE = 2.1426348751831927\n"
     ]
    }
   ],
   "source": [
    "print(\"Training RMSE = {}\".format(evaluate_model_rmse(model.predict(x_train), \n",
    "                                                      y_train,\n",
    "                                                     num_features - num_climate_features,\n",
    "                                                     single_stock_scaler_models[target_stock])))"
   ]
  },
  {
   "cell_type": "code",
   "execution_count": 71,
   "id": "alert-execution",
   "metadata": {},
   "outputs": [
    {
     "name": "stdout",
     "output_type": "stream",
     "text": [
      "Validation RMSE = 5.863926254926311\n"
     ]
    }
   ],
   "source": [
    "print(\"Validation RMSE = {}\".format(evaluate_model_rmse(model.predict(x_valid), \n",
    "                                                      y_valid,\n",
    "                                                     num_features - num_climate_features,\n",
    "                                                     single_stock_scaler_models[target_stock])))"
   ]
  },
  {
   "cell_type": "code",
   "execution_count": 72,
   "id": "final-advertising",
   "metadata": {},
   "outputs": [
    {
     "name": "stdout",
     "output_type": "stream",
     "text": [
      "Testing RMSE = 6.731191235572031\n"
     ]
    }
   ],
   "source": [
    "print(\"Testing RMSE = {}\".format(evaluate_model_rmse(model.predict(x_test), \n",
    "                                                     y_test,\n",
    "                                                    num_features - num_climate_features,\n",
    "                                                    single_stock_scaler_models[target_stock])))"
   ]
  },
  {
   "cell_type": "markdown",
   "id": "caroline-consumer",
   "metadata": {},
   "source": [
    "#### Compare to simple baseline"
   ]
  },
  {
   "cell_type": "code",
   "execution_count": 73,
   "id": "coral-dodge",
   "metadata": {},
   "outputs": [],
   "source": [
    "def predict_no_change(x, predict_change=False):\n",
    "    if predict_change:\n",
    "        return 0\n",
    "    else:\n",
    "        return x[-1][0]"
   ]
  },
  {
   "cell_type": "code",
   "execution_count": 74,
   "id": "lightweight-spray",
   "metadata": {},
   "outputs": [],
   "source": [
    "no_change_preds = np.array([predict_no_change(x, predict_change=predict_change) for x in x_train])\n",
    "no_change_preds = np.expand_dims(no_change_preds, axis=1)"
   ]
  },
  {
   "cell_type": "code",
   "execution_count": 75,
   "id": "genetic-holly",
   "metadata": {},
   "outputs": [
    {
     "data": {
      "text/plain": [
       "3.2108639733005924"
      ]
     },
     "execution_count": 75,
     "metadata": {},
     "output_type": "execute_result"
    }
   ],
   "source": [
    "evaluate_model_rmse(no_change_preds, y_train, num_features - num_climate_features, single_stock_scaler_models[target_stock])"
   ]
  },
  {
   "cell_type": "code",
   "execution_count": 76,
   "id": "uniform-evanescence",
   "metadata": {},
   "outputs": [],
   "source": [
    "no_change_preds = np.array([predict_no_change(x, predict_change=predict_change) for x in x_valid])\n",
    "no_change_preds = np.expand_dims(no_change_preds, axis=1)"
   ]
  },
  {
   "cell_type": "code",
   "execution_count": 77,
   "id": "focal-amazon",
   "metadata": {},
   "outputs": [
    {
     "data": {
      "text/plain": [
       "3.30124204798213"
      ]
     },
     "execution_count": 77,
     "metadata": {},
     "output_type": "execute_result"
    }
   ],
   "source": [
    "evaluate_model_rmse(no_change_preds, y_valid, num_features - num_climate_features, single_stock_scaler_models[target_stock])"
   ]
  },
  {
   "cell_type": "code",
   "execution_count": 78,
   "id": "injured-loading",
   "metadata": {},
   "outputs": [],
   "source": [
    "no_change_preds = np.array([predict_no_change(x, predict_change=predict_change) for x in x_test])\n",
    "no_change_preds = np.expand_dims(no_change_preds, axis=1)"
   ]
  },
  {
   "cell_type": "code",
   "execution_count": 79,
   "id": "wound-pantyhose",
   "metadata": {},
   "outputs": [
    {
     "data": {
      "text/plain": [
       "2.9398516313166847"
      ]
     },
     "execution_count": 79,
     "metadata": {},
     "output_type": "execute_result"
    }
   ],
   "source": [
    "evaluate_model_rmse(no_change_preds, y_test, num_features - num_climate_features, single_stock_scaler_models[target_stock])"
   ]
  },
  {
   "cell_type": "markdown",
   "id": "signal-willow",
   "metadata": {},
   "source": [
    "### Plot data against predictions"
   ]
  },
  {
   "cell_type": "code",
   "execution_count": 80,
   "id": "christian-stopping",
   "metadata": {},
   "outputs": [
    {
     "data": {
      "text/plain": [
       "<AxesSubplot:title={'center':'Training performance'}>"
      ]
     },
     "execution_count": 80,
     "metadata": {},
     "output_type": "execute_result"
    },
    {
     "data": {
      "image/png": "[encoded data removed]",
      "text/plain": [
       "<Figure size 864x576 with 1 Axes>"
      ]
     },
     "metadata": {
      "needs_background": "light"
     },
     "output_type": "display_data"
    }
   ],
   "source": [
    "price_vs_preds = pd.DataFrame([y_train, model.predict(x_train)[:, 0]]).T\n",
    "price_vs_preds.columns = ['Price', 'Prediction']\n",
    "price_vs_preds.plot(figsize=(12,8), title=\"Training performance\")"
   ]
  },
  {
   "cell_type": "code",
   "execution_count": 81,
   "id": "fitted-debate",
   "metadata": {},
   "outputs": [
    {
     "data": {
      "text/plain": [
       "<AxesSubplot:title={'center':'Validation performance'}>"
      ]
     },
     "execution_count": 81,
     "metadata": {},
     "output_type": "execute_result"
    },
    {
     "data": {
      "image/png": "[encoded data removed]",
      "text/plain": [
       "<Figure size 864x576 with 1 Axes>"
      ]
     },
     "metadata": {
      "needs_background": "light"
     },
     "output_type": "display_data"
    }
   ],
   "source": [
    "price_vs_preds = pd.DataFrame([y_valid, model.predict(x_valid)[:, 0]]).T\n",
    "price_vs_preds.columns = ['Price', 'Prediction']\n",
    "price_vs_preds.plot(figsize=(12,8), title=\"Validation performance\")"
   ]
  },
  {
   "cell_type": "code",
   "execution_count": 82,
   "id": "close-coupon",
   "metadata": {},
   "outputs": [
    {
     "data": {
      "text/plain": [
       "<AxesSubplot:title={'center':'Testing performance'}>"
      ]
     },
     "execution_count": 82,
     "metadata": {},
     "output_type": "execute_result"
    },
    {
     "data": {
      "image/png": "[encoded data removed]",
      "text/plain": [
       "<Figure size 864x576 with 1 Axes>"
      ]
     },
     "metadata": {
      "needs_background": "light"
     },
     "output_type": "display_data"
    }
   ],
   "source": [
    "price_vs_preds = pd.DataFrame([y_test, model.predict(x_test)[:, 0]]).T\n",
    "price_vs_preds.columns = ['Price', 'Prediction']\n",
    "price_vs_preds.plot(figsize=(12,8), title=\"Testing performance\")"
   ]
  },
  {
   "cell_type": "code",
   "execution_count": null,
   "id": "passive-vector",
   "metadata": {},
   "outputs": [],
   "source": []
  },
  {
   "cell_type": "code",
   "execution_count": null,
   "id": "under-disposal",
   "metadata": {},
   "outputs": [],
   "source": []
  },
  {
   "cell_type": "code",
   "execution_count": null,
   "id": "korean-internship",
   "metadata": {},
   "outputs": [],
   "source": []
  },
  {
   "cell_type": "code",
   "execution_count": null,
   "id": "realistic-corner",
   "metadata": {},
   "outputs": [],
   "source": []
  },
  {
   "cell_type": "code",
   "execution_count": null,
   "id": "ongoing-serbia",
   "metadata": {},
   "outputs": [],
   "source": []
  },
  {
   "cell_type": "code",
   "execution_count": null,
   "id": "renewable-orientation",
   "metadata": {},
   "outputs": [],
   "source": []
  },
  {
   "cell_type": "code",
   "execution_count": null,
   "id": "opposed-donna",
   "metadata": {},
   "outputs": [],
   "source": []
  },
  {
   "cell_type": "code",
   "execution_count": null,
   "id": "direct-ukraine",
   "metadata": {},
   "outputs": [],
   "source": []
  },
  {
   "cell_type": "code",
   "execution_count": null,
   "id": "vocal-marina",
   "metadata": {},
   "outputs": [],
   "source": []
  }
 ],
 "metadata": {
  "kernelspec": {
   "display_name": "Python 3",
   "language": "python",
   "name": "python3"
  },
  "language_info": {
   "codemirror_mode": {
    "name": "ipython",
    "version": 3
   },
   "file_extension": ".py",
   "mimetype": "text/x-python",
   "name": "python",
   "nbconvert_exporter": "python",
   "pygments_lexer": "ipython3",
   "version": "3.8.5"
  }
 },
 "nbformat": 4,
 "nbformat_minor": 5
}
