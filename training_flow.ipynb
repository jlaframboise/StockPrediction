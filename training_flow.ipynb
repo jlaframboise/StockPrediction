{
 "cells": [
  {
   "cell_type": "markdown",
   "id": "nasty-queen",
   "metadata": {},
   "source": [
    "### TODO"
   ]
  },
  {
   "cell_type": "markdown",
   "id": "infinite-evening",
   "metadata": {},
   "source": [
    "1. Experiment with normalization\n",
    "    - fit on train and just apply on test\n",
    "    - try MinMax, \n",
    "    - try a different normalization model for each stock\n",
    "2. Change predict length\n",
    "    - try predicting a week in advance\n",
    "3. Try trend classification\n",
    "    - this would be an easier task than the regression on price"
   ]
  },
  {
   "cell_type": "markdown",
   "id": "confident-trademark",
   "metadata": {},
   "source": [
    "## Imports"
   ]
  },
  {
   "cell_type": "code",
   "execution_count": 1,
   "id": "thousand-unemployment",
   "metadata": {},
   "outputs": [
    {
     "data": {
      "text/html": [
       "<style>.container { width:100% !important; }</style>"
      ],
      "text/plain": [
       "<IPython.core.display.HTML object>"
      ]
     },
     "metadata": {},
     "output_type": "display_data"
    }
   ],
   "source": [
    "import os, sys\n",
    "import pandas as pd\n",
    "import numpy as np\n",
    "import yfinance as yf\n",
    "import matplotlib.pyplot as plt\n",
    "import seaborn as sns\n",
    "import random\n",
    "\n",
    "import tensorflow as tf\n",
    "from tensorflow.keras import Input, Model\n",
    "from tensorflow.keras.models import Sequential\n",
    "from tensorflow.keras.layers import *\n",
    "from tensorflow.keras.losses import CategoricalCrossentropy\n",
    "from tensorflow.keras.utils import to_categorical, plot_model\n",
    "from tensorflow.keras.preprocessing.sequence import TimeseriesGenerator\n",
    "from sklearn.metrics import confusion_matrix, mean_squared_error\n",
    "from sklearn.feature_extraction.text import CountVectorizer\n",
    "from sklearn.preprocessing import StandardScaler, MinMaxScaler, RobustScaler\n",
    "\n",
    "from indicators import *\n",
    "\n",
    "\n",
    "physical_devices = tf.config.list_physical_devices('GPU')\n",
    "tf.config.experimental.set_memory_growth(physical_devices[0], enable=True)\n",
    "\n",
    "from IPython.core.display import display, HTML\n",
    "display(HTML(\"<style>.container { width:100% !important; }</style>\"))\n",
    "\n",
    "pd.set_option('display.max_rows', 500)\n",
    "pd.set_option('display.max_columns', 500)\n",
    "pd.set_option('display.width', 1000)\n"
   ]
  },
  {
   "cell_type": "markdown",
   "id": "opening-addition",
   "metadata": {},
   "source": [
    "## Load data"
   ]
  },
  {
   "cell_type": "code",
   "execution_count": 2,
   "id": "expired-description",
   "metadata": {},
   "outputs": [],
   "source": [
    "top100tech = ['AAPL', 'MSFT', 'TSM', 'NVDA', 'INTC', 'ASML', 'ADBE', 'CRM', 'AVGO', 'ORCL', 'CSCO', 'ACN', 'TXN', 'SHOP', 'QCOM', 'SAP', 'SNE', 'AMAT', 'INTU', 'NOW', 'SQ', 'IBM', 'MU', 'AMD',\n",
    "'UBER', 'FIS', 'LRCX', 'FISV', 'SNOW', 'INFY', 'TEAM', 'ADSK', 'DELL', 'WDAY', 'VMW', 'ADI', 'NXPI', 'KLAC',\n",
    "'CRWD', 'PLTR', 'DOCU', 'TEL', 'ERIC', 'MCHP', 'CDNS', 'CTSH',\n",
    "'APH', 'SNPS', 'HPQ',\n",
    "'PANW', 'OKTA','RNG','STM','MRVL','XLNX','WIT','MSI','SWKS','GLW','DDOG','ANSS','U','ZS','FTNT','STNE','ZBRA','KEYS','FTV','MXIM','COUP','GRMN','SPLK','HUBS','WORK','NET','FLT','CDW','CAJ','AFRM','PAYC','TER',\n",
    "'VRSN','WDC', 'ZI',\n",
    "'UMC','ANET','EPAM',\n",
    "'UI','XM',\n",
    "'GIB','TRMB',\n",
    "'TYL','WIX','HPE','LYFT',\n",
    "'LOGI',\n",
    "'MPWR']"
   ]
  },
  {
   "cell_type": "code",
   "execution_count": 3,
   "id": "dominican-establishment",
   "metadata": {},
   "outputs": [],
   "source": [
    "top10tech = top100tech[:10]"
   ]
  },
  {
   "cell_type": "code",
   "execution_count": 4,
   "id": "dimensional-seventh",
   "metadata": {},
   "outputs": [],
   "source": [
    "def process_stock_data_from_yf(data):\n",
    "    \n",
    "    df = pd.melt(data, ignore_index=False)\n",
    "    df.columns = ['Variable', 'Ticker', 'Value']\n",
    "    # this is a nicely formed dataframe of historical data\n",
    "    nice_df = df.reset_index().pivot(index=['Ticker', 'Date'], columns=['Variable'], values=['Value'])\n",
    "    nice_df.columns = nice_df.columns.droplevel()\n",
    "    df = nice_df.reset_index()\n",
    "    df.columns.name=None\n",
    "    return df\n",
    "    \n",
    "    "
   ]
  },
  {
   "cell_type": "code",
   "execution_count": 5,
   "id": "vanilla-thailand",
   "metadata": {},
   "outputs": [
    {
     "name": "stdout",
     "output_type": "stream",
     "text": [
      "[*********************100%***********************]  10 of 10 completed\n"
     ]
    }
   ],
   "source": [
    "data = yf.download(tickers = ' '.join(top10tech),\n",
    "                   auto_adjust=True,\n",
    "                  period='4y')"
   ]
  },
  {
   "cell_type": "code",
   "execution_count": 6,
   "id": "russian-stretch",
   "metadata": {},
   "outputs": [],
   "source": [
    "nan_days = sum(data.isna().sum(axis=1)>0)\n",
    "if nan_days >1:\n",
    "    print(\"WARNING: there are {} days with missing data\".format(nan_days))\n",
    "data = data.dropna()"
   ]
  },
  {
   "cell_type": "code",
   "execution_count": 7,
   "id": "guided-stephen",
   "metadata": {},
   "outputs": [
    {
     "data": {
      "text/html": [
       "<div>\n",
       "<style scoped>\n",
       "    .dataframe tbody tr th:only-of-type {\n",
       "        vertical-align: middle;\n",
       "    }\n",
       "\n",
       "    .dataframe tbody tr th {\n",
       "        vertical-align: top;\n",
       "    }\n",
       "\n",
       "    .dataframe thead th {\n",
       "        text-align: right;\n",
       "    }\n",
       "</style>\n",
       "<table border=\"1\" class=\"dataframe\">\n",
       "  <thead>\n",
       "    <tr style=\"text-align: right;\">\n",
       "      <th></th>\n",
       "      <th>Ticker</th>\n",
       "      <th>Date</th>\n",
       "      <th>Close</th>\n",
       "      <th>High</th>\n",
       "      <th>Low</th>\n",
       "      <th>Open</th>\n",
       "      <th>Volume</th>\n",
       "    </tr>\n",
       "  </thead>\n",
       "  <tbody>\n",
       "    <tr>\n",
       "      <th>0</th>\n",
       "      <td>AAPL</td>\n",
       "      <td>2017-03-17</td>\n",
       "      <td>33.239635</td>\n",
       "      <td>33.479452</td>\n",
       "      <td>33.215890</td>\n",
       "      <td>33.479452</td>\n",
       "      <td>175540000.0</td>\n",
       "    </tr>\n",
       "    <tr>\n",
       "      <th>1</th>\n",
       "      <td>AAPL</td>\n",
       "      <td>2017-03-20</td>\n",
       "      <td>33.588676</td>\n",
       "      <td>33.598173</td>\n",
       "      <td>33.296619</td>\n",
       "      <td>33.336984</td>\n",
       "      <td>86168000.0</td>\n",
       "    </tr>\n",
       "    <tr>\n",
       "      <th>2</th>\n",
       "      <td>AAPL</td>\n",
       "      <td>2017-03-21</td>\n",
       "      <td>33.204002</td>\n",
       "      <td>33.906835</td>\n",
       "      <td>33.177884</td>\n",
       "      <td>33.742999</td>\n",
       "      <td>158119600.0</td>\n",
       "    </tr>\n",
       "    <tr>\n",
       "      <th>3</th>\n",
       "      <td>AAPL</td>\n",
       "      <td>2017-03-22</td>\n",
       "      <td>33.579170</td>\n",
       "      <td>33.621912</td>\n",
       "      <td>33.185014</td>\n",
       "      <td>33.206387</td>\n",
       "      <td>103440800.0</td>\n",
       "    </tr>\n",
       "    <tr>\n",
       "      <th>4</th>\n",
       "      <td>AAPL</td>\n",
       "      <td>2017-03-23</td>\n",
       "      <td>33.460449</td>\n",
       "      <td>33.617162</td>\n",
       "      <td>33.386843</td>\n",
       "      <td>33.541179</td>\n",
       "      <td>81385200.0</td>\n",
       "    </tr>\n",
       "  </tbody>\n",
       "</table>\n",
       "</div>"
      ],
      "text/plain": [
       "  Ticker       Date      Close       High        Low       Open       Volume\n",
       "0   AAPL 2017-03-17  33.239635  33.479452  33.215890  33.479452  175540000.0\n",
       "1   AAPL 2017-03-20  33.588676  33.598173  33.296619  33.336984   86168000.0\n",
       "2   AAPL 2017-03-21  33.204002  33.906835  33.177884  33.742999  158119600.0\n",
       "3   AAPL 2017-03-22  33.579170  33.621912  33.185014  33.206387  103440800.0\n",
       "4   AAPL 2017-03-23  33.460449  33.617162  33.386843  33.541179   81385200.0"
      ]
     },
     "execution_count": 7,
     "metadata": {},
     "output_type": "execute_result"
    }
   ],
   "source": [
    "df = process_stock_data_from_yf(data)\n",
    "df.head()"
   ]
  },
  {
   "cell_type": "markdown",
   "id": "enclosed-france",
   "metadata": {},
   "source": [
    "### Parameters"
   ]
  },
  {
   "cell_type": "code",
   "execution_count": 8,
   "id": "lesbian-internet",
   "metadata": {},
   "outputs": [],
   "source": [
    "trail_size=14"
   ]
  },
  {
   "cell_type": "markdown",
   "id": "straight-patio",
   "metadata": {},
   "source": [
    "### Compute Technical Markers"
   ]
  },
  {
   "cell_type": "code",
   "execution_count": 9,
   "id": "legendary-namibia",
   "metadata": {},
   "outputs": [],
   "source": [
    "# compute all our technical markers for each of the stocks. \n",
    "dataset = df.groupby('Ticker').apply(lambda x: add_technical_markers(x, trail_size))"
   ]
  },
  {
   "cell_type": "markdown",
   "id": "innocent-thriller",
   "metadata": {},
   "source": [
    "### Filter to only one stock"
   ]
  },
  {
   "cell_type": "code",
   "execution_count": 10,
   "id": "lesbian-breathing",
   "metadata": {},
   "outputs": [],
   "source": [
    "dataset = dataset.loc[dataset['Ticker']=='MSFT']"
   ]
  },
  {
   "cell_type": "code",
   "execution_count": 11,
   "id": "norman-carbon",
   "metadata": {},
   "outputs": [
    {
     "data": {
      "text/html": [
       "<div>\n",
       "<style scoped>\n",
       "    .dataframe tbody tr th:only-of-type {\n",
       "        vertical-align: middle;\n",
       "    }\n",
       "\n",
       "    .dataframe tbody tr th {\n",
       "        vertical-align: top;\n",
       "    }\n",
       "\n",
       "    .dataframe thead th {\n",
       "        text-align: right;\n",
       "    }\n",
       "</style>\n",
       "<table border=\"1\" class=\"dataframe\">\n",
       "  <thead>\n",
       "    <tr style=\"text-align: right;\">\n",
       "      <th></th>\n",
       "      <th>Ticker</th>\n",
       "      <th>Date</th>\n",
       "      <th>Close</th>\n",
       "      <th>High</th>\n",
       "      <th>Low</th>\n",
       "      <th>Open</th>\n",
       "      <th>Volume</th>\n",
       "      <th>HH</th>\n",
       "      <th>LL</th>\n",
       "      <th>AV</th>\n",
       "      <th>SMA</th>\n",
       "      <th>SD</th>\n",
       "      <th>WILLR</th>\n",
       "      <th>ATR</th>\n",
       "      <th>DMH</th>\n",
       "      <th>DML</th>\n",
       "      <th>EMA</th>\n",
       "      <th>WMA</th>\n",
       "      <th>BBHIGH</th>\n",
       "      <th>BBLOW</th>\n",
       "      <th>PERBHIGH</th>\n",
       "      <th>PERBLOW</th>\n",
       "      <th>TRIMA</th>\n",
       "      <th>RSI</th>\n",
       "      <th>DX</th>\n",
       "      <th>PDI</th>\n",
       "      <th>NDI</th>\n",
       "      <th>ADX</th>\n",
       "      <th>ROC</th>\n",
       "      <th>MACD</th>\n",
       "      <th>CCI</th>\n",
       "    </tr>\n",
       "  </thead>\n",
       "  <tbody>\n",
       "    <tr>\n",
       "      <th>6036</th>\n",
       "      <td>MSFT</td>\n",
       "      <td>2017-03-17</td>\n",
       "      <td>61.048401</td>\n",
       "      <td>61.396599</td>\n",
       "      <td>60.869592</td>\n",
       "      <td>61.086045</td>\n",
       "      <td>49219700.0</td>\n",
       "      <td>61.396599</td>\n",
       "      <td>60.869592</td>\n",
       "      <td>4.921970e+07</td>\n",
       "      <td>61.048401</td>\n",
       "      <td>NaN</td>\n",
       "      <td>-66.070845</td>\n",
       "      <td>0.527007</td>\n",
       "      <td>0.000000</td>\n",
       "      <td>0.000000</td>\n",
       "      <td>61.048401</td>\n",
       "      <td>NaN</td>\n",
       "      <td>NaN</td>\n",
       "      <td>NaN</td>\n",
       "      <td>NaN</td>\n",
       "      <td>NaN</td>\n",
       "      <td>NaN</td>\n",
       "      <td>NaN</td>\n",
       "      <td>NaN</td>\n",
       "      <td>0.000000</td>\n",
       "      <td>0.000000</td>\n",
       "      <td>NaN</td>\n",
       "      <td>0.000000</td>\n",
       "      <td>0.000000</td>\n",
       "      <td>NaN</td>\n",
       "    </tr>\n",
       "    <tr>\n",
       "      <th>6037</th>\n",
       "      <td>MSFT</td>\n",
       "      <td>2017-03-20</td>\n",
       "      <td>61.104862</td>\n",
       "      <td>61.340134</td>\n",
       "      <td>60.907235</td>\n",
       "      <td>61.086044</td>\n",
       "      <td>14598100.0</td>\n",
       "      <td>61.396599</td>\n",
       "      <td>60.869592</td>\n",
       "      <td>3.190890e+07</td>\n",
       "      <td>61.076632</td>\n",
       "      <td>0.039924</td>\n",
       "      <td>-54.347934</td>\n",
       "      <td>0.479953</td>\n",
       "      <td>-0.056465</td>\n",
       "      <td>0.037643</td>\n",
       "      <td>61.078648</td>\n",
       "      <td>NaN</td>\n",
       "      <td>61.156480</td>\n",
       "      <td>60.996783</td>\n",
       "      <td>1531.815082</td>\n",
       "      <td>1527.815082</td>\n",
       "      <td>NaN</td>\n",
       "      <td>NaN</td>\n",
       "      <td>499.987791</td>\n",
       "      <td>-11.764615</td>\n",
       "      <td>7.842997</td>\n",
       "      <td>499.987791</td>\n",
       "      <td>0.092486</td>\n",
       "      <td>0.001008</td>\n",
       "      <td>52.380230</td>\n",
       "    </tr>\n",
       "    <tr>\n",
       "      <th>6038</th>\n",
       "      <td>MSFT</td>\n",
       "      <td>2017-03-21</td>\n",
       "      <td>60.427280</td>\n",
       "      <td>61.641285</td>\n",
       "      <td>60.351992</td>\n",
       "      <td>61.349550</td>\n",
       "      <td>26640500.0</td>\n",
       "      <td>61.641285</td>\n",
       "      <td>60.351992</td>\n",
       "      <td>3.015277e+07</td>\n",
       "      <td>60.860181</td>\n",
       "      <td>0.375964</td>\n",
       "      <td>-94.160462</td>\n",
       "      <td>0.749733</td>\n",
       "      <td>0.301151</td>\n",
       "      <td>-0.555243</td>\n",
       "      <td>60.829823</td>\n",
       "      <td>NaN</td>\n",
       "      <td>61.612110</td>\n",
       "      <td>60.108252</td>\n",
       "      <td>163.877492</td>\n",
       "      <td>159.877492</td>\n",
       "      <td>NaN</td>\n",
       "      <td>NaN</td>\n",
       "      <td>337.040910</td>\n",
       "      <td>40.167732</td>\n",
       "      <td>-74.058702</td>\n",
       "      <td>418.514351</td>\n",
       "      <td>-1.017423</td>\n",
       "      <td>-0.015368</td>\n",
       "      <td>16.131225</td>\n",
       "    </tr>\n",
       "    <tr>\n",
       "      <th>6039</th>\n",
       "      <td>MSFT</td>\n",
       "      <td>2017-03-22</td>\n",
       "      <td>61.198975</td>\n",
       "      <td>61.302495</td>\n",
       "      <td>60.342588</td>\n",
       "      <td>60.342588</td>\n",
       "      <td>20680000.0</td>\n",
       "      <td>61.641285</td>\n",
       "      <td>60.342588</td>\n",
       "      <td>2.778458e+07</td>\n",
       "      <td>60.944880</td>\n",
       "      <td>0.350611</td>\n",
       "      <td>-10.784409</td>\n",
       "      <td>0.802277</td>\n",
       "      <td>-0.338790</td>\n",
       "      <td>-0.009404</td>\n",
       "      <td>60.942757</td>\n",
       "      <td>NaN</td>\n",
       "      <td>61.646102</td>\n",
       "      <td>60.243657</td>\n",
       "      <td>175.824767</td>\n",
       "      <td>171.824767</td>\n",
       "      <td>NaN</td>\n",
       "      <td>NaN</td>\n",
       "      <td>94.598588</td>\n",
       "      <td>-42.228604</td>\n",
       "      <td>-1.172126</td>\n",
       "      <td>310.542430</td>\n",
       "      <td>0.246646</td>\n",
       "      <td>-0.000573</td>\n",
       "      <td>-15.507925</td>\n",
       "    </tr>\n",
       "    <tr>\n",
       "      <th>6040</th>\n",
       "      <td>MSFT</td>\n",
       "      <td>2017-03-23</td>\n",
       "      <td>61.048401</td>\n",
       "      <td>61.396599</td>\n",
       "      <td>60.954286</td>\n",
       "      <td>61.114277</td>\n",
       "      <td>19269200.0</td>\n",
       "      <td>61.641285</td>\n",
       "      <td>60.342588</td>\n",
       "      <td>2.608150e+07</td>\n",
       "      <td>60.965584</td>\n",
       "      <td>0.307147</td>\n",
       "      <td>-78.722161</td>\n",
       "      <td>0.730284</td>\n",
       "      <td>0.094104</td>\n",
       "      <td>0.611698</td>\n",
       "      <td>60.970319</td>\n",
       "      <td>NaN</td>\n",
       "      <td>61.579878</td>\n",
       "      <td>60.351289</td>\n",
       "      <td>200.489793</td>\n",
       "      <td>196.489793</td>\n",
       "      <td>NaN</td>\n",
       "      <td>NaN</td>\n",
       "      <td>73.334165</td>\n",
       "      <td>12.885953</td>\n",
       "      <td>83.761707</td>\n",
       "      <td>251.240364</td>\n",
       "      <td>0.000000</td>\n",
       "      <td>0.002870</td>\n",
       "      <td>30.366740</td>\n",
       "    </tr>\n",
       "    <tr>\n",
       "      <th>...</th>\n",
       "      <td>...</td>\n",
       "      <td>...</td>\n",
       "      <td>...</td>\n",
       "      <td>...</td>\n",
       "      <td>...</td>\n",
       "      <td>...</td>\n",
       "      <td>...</td>\n",
       "      <td>...</td>\n",
       "      <td>...</td>\n",
       "      <td>...</td>\n",
       "      <td>...</td>\n",
       "      <td>...</td>\n",
       "      <td>...</td>\n",
       "      <td>...</td>\n",
       "      <td>...</td>\n",
       "      <td>...</td>\n",
       "      <td>...</td>\n",
       "      <td>...</td>\n",
       "      <td>...</td>\n",
       "      <td>...</td>\n",
       "      <td>...</td>\n",
       "      <td>...</td>\n",
       "      <td>...</td>\n",
       "      <td>...</td>\n",
       "      <td>...</td>\n",
       "      <td>...</td>\n",
       "      <td>...</td>\n",
       "      <td>...</td>\n",
       "      <td>...</td>\n",
       "      <td>...</td>\n",
       "      <td>...</td>\n",
       "    </tr>\n",
       "    <tr>\n",
       "      <th>7037</th>\n",
       "      <td>MSFT</td>\n",
       "      <td>2021-03-10</td>\n",
       "      <td>232.419998</td>\n",
       "      <td>237.000000</td>\n",
       "      <td>232.039993</td>\n",
       "      <td>237.000000</td>\n",
       "      <td>29733000.0</td>\n",
       "      <td>243.860001</td>\n",
       "      <td>224.259995</td>\n",
       "      <td>3.300931e+07</td>\n",
       "      <td>232.497143</td>\n",
       "      <td>3.929814</td>\n",
       "      <td>-92.338622</td>\n",
       "      <td>6.244287</td>\n",
       "      <td>1.619995</td>\n",
       "      <td>0.369995</td>\n",
       "      <td>232.828375</td>\n",
       "      <td>233.552287</td>\n",
       "      <td>240.356772</td>\n",
       "      <td>224.637514</td>\n",
       "      <td>61.162372</td>\n",
       "      <td>57.162372</td>\n",
       "      <td>237.996136</td>\n",
       "      <td>49.200987</td>\n",
       "      <td>62.814379</td>\n",
       "      <td>25.943638</td>\n",
       "      <td>5.925338</td>\n",
       "      <td>61.937915</td>\n",
       "      <td>-4.663848</td>\n",
       "      <td>-0.163680</td>\n",
       "      <td>22.877567</td>\n",
       "    </tr>\n",
       "    <tr>\n",
       "      <th>7038</th>\n",
       "      <td>MSFT</td>\n",
       "      <td>2021-03-11</td>\n",
       "      <td>237.130005</td>\n",
       "      <td>239.169998</td>\n",
       "      <td>234.309998</td>\n",
       "      <td>234.960007</td>\n",
       "      <td>29896000.0</td>\n",
       "      <td>239.169998</td>\n",
       "      <td>224.259995</td>\n",
       "      <td>3.334027e+07</td>\n",
       "      <td>232.222858</td>\n",
       "      <td>3.389867</td>\n",
       "      <td>-41.975165</td>\n",
       "      <td>6.463572</td>\n",
       "      <td>2.169998</td>\n",
       "      <td>2.270004</td>\n",
       "      <td>233.401926</td>\n",
       "      <td>232.386001</td>\n",
       "      <td>239.002592</td>\n",
       "      <td>225.443124</td>\n",
       "      <td>70.505008</td>\n",
       "      <td>66.505008</td>\n",
       "      <td>237.280229</td>\n",
       "      <td>54.475552</td>\n",
       "      <td>2.252388</td>\n",
       "      <td>33.572740</td>\n",
       "      <td>35.119967</td>\n",
       "      <td>56.289125</td>\n",
       "      <td>-1.593558</td>\n",
       "      <td>0.124494</td>\n",
       "      <td>59.224089</td>\n",
       "    </tr>\n",
       "    <tr>\n",
       "      <th>7039</th>\n",
       "      <td>MSFT</td>\n",
       "      <td>2021-03-12</td>\n",
       "      <td>235.750000</td>\n",
       "      <td>235.820007</td>\n",
       "      <td>233.229996</td>\n",
       "      <td>234.009995</td>\n",
       "      <td>22647900.0</td>\n",
       "      <td>239.169998</td>\n",
       "      <td>224.259995</td>\n",
       "      <td>3.235463e+07</td>\n",
       "      <td>232.311430</td>\n",
       "      <td>3.469488</td>\n",
       "      <td>-2.702973</td>\n",
       "      <td>6.130001</td>\n",
       "      <td>-3.349991</td>\n",
       "      <td>-1.080002</td>\n",
       "      <td>233.715002</td>\n",
       "      <td>232.092859</td>\n",
       "      <td>239.250405</td>\n",
       "      <td>225.372454</td>\n",
       "      <td>68.958426</td>\n",
       "      <td>64.958426</td>\n",
       "      <td>236.594063</td>\n",
       "      <td>52.747422</td>\n",
       "      <td>51.241372</td>\n",
       "      <td>-54.649112</td>\n",
       "      <td>-17.618299</td>\n",
       "      <td>58.985386</td>\n",
       "      <td>0.528764</td>\n",
       "      <td>0.267049</td>\n",
       "      <td>28.356052</td>\n",
       "    </tr>\n",
       "    <tr>\n",
       "      <th>7040</th>\n",
       "      <td>MSFT</td>\n",
       "      <td>2021-03-15</td>\n",
       "      <td>234.809998</td>\n",
       "      <td>235.190002</td>\n",
       "      <td>231.809998</td>\n",
       "      <td>234.960007</td>\n",
       "      <td>26034900.0</td>\n",
       "      <td>239.169998</td>\n",
       "      <td>224.259995</td>\n",
       "      <td>3.205507e+07</td>\n",
       "      <td>232.421429</td>\n",
       "      <td>3.526167</td>\n",
       "      <td>-11.242732</td>\n",
       "      <td>5.975715</td>\n",
       "      <td>-0.630005</td>\n",
       "      <td>-1.419998</td>\n",
       "      <td>233.861002</td>\n",
       "      <td>231.979716</td>\n",
       "      <td>239.473762</td>\n",
       "      <td>225.369096</td>\n",
       "      <td>67.913345</td>\n",
       "      <td>63.913345</td>\n",
       "      <td>235.944783</td>\n",
       "      <td>51.547871</td>\n",
       "      <td>38.536200</td>\n",
       "      <td>-10.542754</td>\n",
       "      <td>-23.762818</td>\n",
       "      <td>61.136570</td>\n",
       "      <td>0.660176</td>\n",
       "      <td>0.319114</td>\n",
       "      <td>13.594502</td>\n",
       "    </tr>\n",
       "    <tr>\n",
       "      <th>7041</th>\n",
       "      <td>MSFT</td>\n",
       "      <td>2021-03-16</td>\n",
       "      <td>237.710007</td>\n",
       "      <td>240.050003</td>\n",
       "      <td>235.940002</td>\n",
       "      <td>236.279999</td>\n",
       "      <td>26460729.0</td>\n",
       "      <td>240.050003</td>\n",
       "      <td>224.259995</td>\n",
       "      <td>3.206372e+07</td>\n",
       "      <td>232.647144</td>\n",
       "      <td>3.765890</td>\n",
       "      <td>-56.934209</td>\n",
       "      <td>5.907144</td>\n",
       "      <td>4.860001</td>\n",
       "      <td>4.130005</td>\n",
       "      <td>234.374202</td>\n",
       "      <td>231.726001</td>\n",
       "      <td>240.178923</td>\n",
       "      <td>225.115365</td>\n",
       "      <td>63.777473</td>\n",
       "      <td>59.777473</td>\n",
       "      <td>235.351889</td>\n",
       "      <td>54.951577</td>\n",
       "      <td>8.120081</td>\n",
       "      <td>82.273275</td>\n",
       "      <td>69.915429</td>\n",
       "      <td>60.600606</td>\n",
       "      <td>1.347262</td>\n",
       "      <td>0.544858</td>\n",
       "      <td>63.114601</td>\n",
       "    </tr>\n",
       "  </tbody>\n",
       "</table>\n",
       "<p>1006 rows × 31 columns</p>\n",
       "</div>"
      ],
      "text/plain": [
       "     Ticker       Date       Close        High         Low        Open      Volume          HH          LL            AV         SMA        SD      WILLR       ATR       DMH       DML         EMA         WMA      BBHIGH       BBLOW     PERBHIGH      PERBLOW       TRIMA        RSI          DX        PDI        NDI         ADX       ROC      MACD        CCI\n",
       "6036   MSFT 2017-03-17   61.048401   61.396599   60.869592   61.086045  49219700.0   61.396599   60.869592  4.921970e+07   61.048401       NaN -66.070845  0.527007  0.000000  0.000000   61.048401         NaN         NaN         NaN          NaN          NaN         NaN        NaN         NaN   0.000000   0.000000         NaN  0.000000  0.000000        NaN\n",
       "6037   MSFT 2017-03-20   61.104862   61.340134   60.907235   61.086044  14598100.0   61.396599   60.869592  3.190890e+07   61.076632  0.039924 -54.347934  0.479953 -0.056465  0.037643   61.078648         NaN   61.156480   60.996783  1531.815082  1527.815082         NaN        NaN  499.987791 -11.764615   7.842997  499.987791  0.092486  0.001008  52.380230\n",
       "6038   MSFT 2017-03-21   60.427280   61.641285   60.351992   61.349550  26640500.0   61.641285   60.351992  3.015277e+07   60.860181  0.375964 -94.160462  0.749733  0.301151 -0.555243   60.829823         NaN   61.612110   60.108252   163.877492   159.877492         NaN        NaN  337.040910  40.167732 -74.058702  418.514351 -1.017423 -0.015368  16.131225\n",
       "6039   MSFT 2017-03-22   61.198975   61.302495   60.342588   60.342588  20680000.0   61.641285   60.342588  2.778458e+07   60.944880  0.350611 -10.784409  0.802277 -0.338790 -0.009404   60.942757         NaN   61.646102   60.243657   175.824767   171.824767         NaN        NaN   94.598588 -42.228604  -1.172126  310.542430  0.246646 -0.000573 -15.507925\n",
       "6040   MSFT 2017-03-23   61.048401   61.396599   60.954286   61.114277  19269200.0   61.641285   60.342588  2.608150e+07   60.965584  0.307147 -78.722161  0.730284  0.094104  0.611698   60.970319         NaN   61.579878   60.351289   200.489793   196.489793         NaN        NaN   73.334165  12.885953  83.761707  251.240364  0.000000  0.002870  30.366740\n",
       "...     ...        ...         ...         ...         ...         ...         ...         ...         ...           ...         ...       ...        ...       ...       ...       ...         ...         ...         ...         ...          ...          ...         ...        ...         ...        ...        ...         ...       ...       ...        ...\n",
       "7037   MSFT 2021-03-10  232.419998  237.000000  232.039993  237.000000  29733000.0  243.860001  224.259995  3.300931e+07  232.497143  3.929814 -92.338622  6.244287  1.619995  0.369995  232.828375  233.552287  240.356772  224.637514    61.162372    57.162372  237.996136  49.200987   62.814379  25.943638   5.925338   61.937915 -4.663848 -0.163680  22.877567\n",
       "7038   MSFT 2021-03-11  237.130005  239.169998  234.309998  234.960007  29896000.0  239.169998  224.259995  3.334027e+07  232.222858  3.389867 -41.975165  6.463572  2.169998  2.270004  233.401926  232.386001  239.002592  225.443124    70.505008    66.505008  237.280229  54.475552    2.252388  33.572740  35.119967   56.289125 -1.593558  0.124494  59.224089\n",
       "7039   MSFT 2021-03-12  235.750000  235.820007  233.229996  234.009995  22647900.0  239.169998  224.259995  3.235463e+07  232.311430  3.469488  -2.702973  6.130001 -3.349991 -1.080002  233.715002  232.092859  239.250405  225.372454    68.958426    64.958426  236.594063  52.747422   51.241372 -54.649112 -17.618299   58.985386  0.528764  0.267049  28.356052\n",
       "7040   MSFT 2021-03-15  234.809998  235.190002  231.809998  234.960007  26034900.0  239.169998  224.259995  3.205507e+07  232.421429  3.526167 -11.242732  5.975715 -0.630005 -1.419998  233.861002  231.979716  239.473762  225.369096    67.913345    63.913345  235.944783  51.547871   38.536200 -10.542754 -23.762818   61.136570  0.660176  0.319114  13.594502\n",
       "7041   MSFT 2021-03-16  237.710007  240.050003  235.940002  236.279999  26460729.0  240.050003  224.259995  3.206372e+07  232.647144  3.765890 -56.934209  5.907144  4.860001  4.130005  234.374202  231.726001  240.178923  225.115365    63.777473    59.777473  235.351889  54.951577    8.120081  82.273275  69.915429   60.600606  1.347262  0.544858  63.114601\n",
       "\n",
       "[1006 rows x 31 columns]"
      ]
     },
     "execution_count": 11,
     "metadata": {},
     "output_type": "execute_result"
    }
   ],
   "source": [
    "dataset"
   ]
  },
  {
   "cell_type": "markdown",
   "id": "accepting-neighborhood",
   "metadata": {},
   "source": [
    "### Quick visualizations"
   ]
  },
  {
   "cell_type": "code",
   "execution_count": 12,
   "id": "positive-therapy",
   "metadata": {},
   "outputs": [
    {
     "data": {
      "text/plain": [
       "<AxesSubplot:xlabel='Date'>"
      ]
     },
     "execution_count": 12,
     "metadata": {},
     "output_type": "execute_result"
    },
    {
     "data": {
      "image/png": "[encoded data removed]",
      "text/plain": [
       "<Figure size 432x288 with 1 Axes>"
      ]
     },
     "metadata": {
      "needs_background": "light"
     },
     "output_type": "display_data"
    }
   ],
   "source": [
    "dataset.loc[dataset['Ticker']=='TSM', ['Date', 'Close']].set_index('Date').plot()"
   ]
  },
  {
   "cell_type": "code",
   "execution_count": 13,
   "id": "unable-nature",
   "metadata": {},
   "outputs": [
    {
     "data": {
      "text/plain": [
       "[<matplotlib.lines.Line2D at 0x1e14b00f820>]"
      ]
     },
     "execution_count": 13,
     "metadata": {},
     "output_type": "execute_result"
    },
    {
     "data": {
      "image/png": "[encoded data removed]",
      "text/plain": [
       "<Figure size 432x288 with 1 Axes>"
      ]
     },
     "metadata": {
      "needs_background": "light"
     },
     "output_type": "display_data"
    }
   ],
   "source": [
    "plt.plot('Date', 'Close', data=dataset)"
   ]
  },
  {
   "cell_type": "code",
   "execution_count": 14,
   "id": "altered-cleveland",
   "metadata": {},
   "outputs": [
    {
     "data": {
      "text/plain": [
       "(1006, 31)"
      ]
     },
     "execution_count": 14,
     "metadata": {},
     "output_type": "execute_result"
    }
   ],
   "source": [
    "dataset.shape"
   ]
  },
  {
   "cell_type": "code",
   "execution_count": 15,
   "id": "played-plenty",
   "metadata": {},
   "outputs": [
    {
     "data": {
      "text/html": [
       "<div>\n",
       "<style scoped>\n",
       "    .dataframe tbody tr th:only-of-type {\n",
       "        vertical-align: middle;\n",
       "    }\n",
       "\n",
       "    .dataframe tbody tr th {\n",
       "        vertical-align: top;\n",
       "    }\n",
       "\n",
       "    .dataframe thead th {\n",
       "        text-align: right;\n",
       "    }\n",
       "</style>\n",
       "<table border=\"1\" class=\"dataframe\">\n",
       "  <thead>\n",
       "    <tr style=\"text-align: right;\">\n",
       "      <th></th>\n",
       "      <th>Ticker</th>\n",
       "      <th>Date</th>\n",
       "      <th>Close</th>\n",
       "      <th>High</th>\n",
       "      <th>Low</th>\n",
       "      <th>Open</th>\n",
       "      <th>Volume</th>\n",
       "      <th>HH</th>\n",
       "      <th>LL</th>\n",
       "      <th>AV</th>\n",
       "      <th>SMA</th>\n",
       "      <th>SD</th>\n",
       "      <th>WILLR</th>\n",
       "      <th>ATR</th>\n",
       "      <th>DMH</th>\n",
       "      <th>DML</th>\n",
       "      <th>EMA</th>\n",
       "      <th>WMA</th>\n",
       "      <th>BBHIGH</th>\n",
       "      <th>BBLOW</th>\n",
       "      <th>PERBHIGH</th>\n",
       "      <th>PERBLOW</th>\n",
       "      <th>TRIMA</th>\n",
       "      <th>RSI</th>\n",
       "      <th>DX</th>\n",
       "      <th>PDI</th>\n",
       "      <th>NDI</th>\n",
       "      <th>ADX</th>\n",
       "      <th>ROC</th>\n",
       "      <th>MACD</th>\n",
       "      <th>CCI</th>\n",
       "    </tr>\n",
       "  </thead>\n",
       "  <tbody>\n",
       "    <tr>\n",
       "      <th>6036</th>\n",
       "      <td>MSFT</td>\n",
       "      <td>2017-03-17</td>\n",
       "      <td>61.048401</td>\n",
       "      <td>61.396599</td>\n",
       "      <td>60.869592</td>\n",
       "      <td>61.086045</td>\n",
       "      <td>49219700.0</td>\n",
       "      <td>61.396599</td>\n",
       "      <td>60.869592</td>\n",
       "      <td>4.921970e+07</td>\n",
       "      <td>61.048401</td>\n",
       "      <td>NaN</td>\n",
       "      <td>-66.070845</td>\n",
       "      <td>0.527007</td>\n",
       "      <td>0.000000</td>\n",
       "      <td>0.000000</td>\n",
       "      <td>61.048401</td>\n",
       "      <td>NaN</td>\n",
       "      <td>NaN</td>\n",
       "      <td>NaN</td>\n",
       "      <td>NaN</td>\n",
       "      <td>NaN</td>\n",
       "      <td>NaN</td>\n",
       "      <td>NaN</td>\n",
       "      <td>NaN</td>\n",
       "      <td>0.000000</td>\n",
       "      <td>0.000000</td>\n",
       "      <td>NaN</td>\n",
       "      <td>0.000000</td>\n",
       "      <td>0.000000</td>\n",
       "      <td>NaN</td>\n",
       "    </tr>\n",
       "    <tr>\n",
       "      <th>6037</th>\n",
       "      <td>MSFT</td>\n",
       "      <td>2017-03-20</td>\n",
       "      <td>61.104862</td>\n",
       "      <td>61.340134</td>\n",
       "      <td>60.907235</td>\n",
       "      <td>61.086044</td>\n",
       "      <td>14598100.0</td>\n",
       "      <td>61.396599</td>\n",
       "      <td>60.869592</td>\n",
       "      <td>3.190890e+07</td>\n",
       "      <td>61.076632</td>\n",
       "      <td>0.039924</td>\n",
       "      <td>-54.347934</td>\n",
       "      <td>0.479953</td>\n",
       "      <td>-0.056465</td>\n",
       "      <td>0.037643</td>\n",
       "      <td>61.078648</td>\n",
       "      <td>NaN</td>\n",
       "      <td>61.156480</td>\n",
       "      <td>60.996783</td>\n",
       "      <td>1531.815082</td>\n",
       "      <td>1527.815082</td>\n",
       "      <td>NaN</td>\n",
       "      <td>NaN</td>\n",
       "      <td>499.987791</td>\n",
       "      <td>-11.764615</td>\n",
       "      <td>7.842997</td>\n",
       "      <td>499.987791</td>\n",
       "      <td>0.092486</td>\n",
       "      <td>0.001008</td>\n",
       "      <td>52.380230</td>\n",
       "    </tr>\n",
       "    <tr>\n",
       "      <th>6038</th>\n",
       "      <td>MSFT</td>\n",
       "      <td>2017-03-21</td>\n",
       "      <td>60.427280</td>\n",
       "      <td>61.641285</td>\n",
       "      <td>60.351992</td>\n",
       "      <td>61.349550</td>\n",
       "      <td>26640500.0</td>\n",
       "      <td>61.641285</td>\n",
       "      <td>60.351992</td>\n",
       "      <td>3.015277e+07</td>\n",
       "      <td>60.860181</td>\n",
       "      <td>0.375964</td>\n",
       "      <td>-94.160462</td>\n",
       "      <td>0.749733</td>\n",
       "      <td>0.301151</td>\n",
       "      <td>-0.555243</td>\n",
       "      <td>60.829823</td>\n",
       "      <td>NaN</td>\n",
       "      <td>61.612110</td>\n",
       "      <td>60.108252</td>\n",
       "      <td>163.877492</td>\n",
       "      <td>159.877492</td>\n",
       "      <td>NaN</td>\n",
       "      <td>NaN</td>\n",
       "      <td>337.040910</td>\n",
       "      <td>40.167732</td>\n",
       "      <td>-74.058702</td>\n",
       "      <td>418.514351</td>\n",
       "      <td>-1.017423</td>\n",
       "      <td>-0.015368</td>\n",
       "      <td>16.131225</td>\n",
       "    </tr>\n",
       "    <tr>\n",
       "      <th>6039</th>\n",
       "      <td>MSFT</td>\n",
       "      <td>2017-03-22</td>\n",
       "      <td>61.198975</td>\n",
       "      <td>61.302495</td>\n",
       "      <td>60.342588</td>\n",
       "      <td>60.342588</td>\n",
       "      <td>20680000.0</td>\n",
       "      <td>61.641285</td>\n",
       "      <td>60.342588</td>\n",
       "      <td>2.778458e+07</td>\n",
       "      <td>60.944880</td>\n",
       "      <td>0.350611</td>\n",
       "      <td>-10.784409</td>\n",
       "      <td>0.802277</td>\n",
       "      <td>-0.338790</td>\n",
       "      <td>-0.009404</td>\n",
       "      <td>60.942757</td>\n",
       "      <td>NaN</td>\n",
       "      <td>61.646102</td>\n",
       "      <td>60.243657</td>\n",
       "      <td>175.824767</td>\n",
       "      <td>171.824767</td>\n",
       "      <td>NaN</td>\n",
       "      <td>NaN</td>\n",
       "      <td>94.598588</td>\n",
       "      <td>-42.228604</td>\n",
       "      <td>-1.172126</td>\n",
       "      <td>310.542430</td>\n",
       "      <td>0.246646</td>\n",
       "      <td>-0.000573</td>\n",
       "      <td>-15.507925</td>\n",
       "    </tr>\n",
       "    <tr>\n",
       "      <th>6040</th>\n",
       "      <td>MSFT</td>\n",
       "      <td>2017-03-23</td>\n",
       "      <td>61.048401</td>\n",
       "      <td>61.396599</td>\n",
       "      <td>60.954286</td>\n",
       "      <td>61.114277</td>\n",
       "      <td>19269200.0</td>\n",
       "      <td>61.641285</td>\n",
       "      <td>60.342588</td>\n",
       "      <td>2.608150e+07</td>\n",
       "      <td>60.965584</td>\n",
       "      <td>0.307147</td>\n",
       "      <td>-78.722161</td>\n",
       "      <td>0.730284</td>\n",
       "      <td>0.094104</td>\n",
       "      <td>0.611698</td>\n",
       "      <td>60.970319</td>\n",
       "      <td>NaN</td>\n",
       "      <td>61.579878</td>\n",
       "      <td>60.351289</td>\n",
       "      <td>200.489793</td>\n",
       "      <td>196.489793</td>\n",
       "      <td>NaN</td>\n",
       "      <td>NaN</td>\n",
       "      <td>73.334165</td>\n",
       "      <td>12.885953</td>\n",
       "      <td>83.761707</td>\n",
       "      <td>251.240364</td>\n",
       "      <td>0.000000</td>\n",
       "      <td>0.002870</td>\n",
       "      <td>30.366740</td>\n",
       "    </tr>\n",
       "    <tr>\n",
       "      <th>6041</th>\n",
       "      <td>MSFT</td>\n",
       "      <td>2017-03-24</td>\n",
       "      <td>61.151939</td>\n",
       "      <td>61.594245</td>\n",
       "      <td>60.944899</td>\n",
       "      <td>61.509550</td>\n",
       "      <td>22617100.0</td>\n",
       "      <td>61.641285</td>\n",
       "      <td>60.342588</td>\n",
       "      <td>2.550410e+07</td>\n",
       "      <td>60.996643</td>\n",
       "      <td>0.285061</td>\n",
       "      <td>-68.115525</td>\n",
       "      <td>0.716794</td>\n",
       "      <td>0.197646</td>\n",
       "      <td>-0.009388</td>\n",
       "      <td>61.012343</td>\n",
       "      <td>NaN</td>\n",
       "      <td>61.566764</td>\n",
       "      <td>60.426522</td>\n",
       "      <td>215.977754</td>\n",
       "      <td>211.977754</td>\n",
       "      <td>NaN</td>\n",
       "      <td>NaN</td>\n",
       "      <td>109.973043</td>\n",
       "      <td>27.573603</td>\n",
       "      <td>-1.309657</td>\n",
       "      <td>222.986899</td>\n",
       "      <td>0.169601</td>\n",
       "      <td>0.008403</td>\n",
       "      <td>42.552938</td>\n",
       "    </tr>\n",
       "  </tbody>\n",
       "</table>\n",
       "</div>"
      ],
      "text/plain": [
       "     Ticker       Date      Close       High        Low       Open      Volume         HH         LL            AV        SMA        SD      WILLR       ATR       DMH       DML        EMA  WMA     BBHIGH      BBLOW     PERBHIGH      PERBLOW  TRIMA  RSI          DX        PDI        NDI         ADX       ROC      MACD        CCI\n",
       "6036   MSFT 2017-03-17  61.048401  61.396599  60.869592  61.086045  49219700.0  61.396599  60.869592  4.921970e+07  61.048401       NaN -66.070845  0.527007  0.000000  0.000000  61.048401  NaN        NaN        NaN          NaN          NaN    NaN  NaN         NaN   0.000000   0.000000         NaN  0.000000  0.000000        NaN\n",
       "6037   MSFT 2017-03-20  61.104862  61.340134  60.907235  61.086044  14598100.0  61.396599  60.869592  3.190890e+07  61.076632  0.039924 -54.347934  0.479953 -0.056465  0.037643  61.078648  NaN  61.156480  60.996783  1531.815082  1527.815082    NaN  NaN  499.987791 -11.764615   7.842997  499.987791  0.092486  0.001008  52.380230\n",
       "6038   MSFT 2017-03-21  60.427280  61.641285  60.351992  61.349550  26640500.0  61.641285  60.351992  3.015277e+07  60.860181  0.375964 -94.160462  0.749733  0.301151 -0.555243  60.829823  NaN  61.612110  60.108252   163.877492   159.877492    NaN  NaN  337.040910  40.167732 -74.058702  418.514351 -1.017423 -0.015368  16.131225\n",
       "6039   MSFT 2017-03-22  61.198975  61.302495  60.342588  60.342588  20680000.0  61.641285  60.342588  2.778458e+07  60.944880  0.350611 -10.784409  0.802277 -0.338790 -0.009404  60.942757  NaN  61.646102  60.243657   175.824767   171.824767    NaN  NaN   94.598588 -42.228604  -1.172126  310.542430  0.246646 -0.000573 -15.507925\n",
       "6040   MSFT 2017-03-23  61.048401  61.396599  60.954286  61.114277  19269200.0  61.641285  60.342588  2.608150e+07  60.965584  0.307147 -78.722161  0.730284  0.094104  0.611698  60.970319  NaN  61.579878  60.351289   200.489793   196.489793    NaN  NaN   73.334165  12.885953  83.761707  251.240364  0.000000  0.002870  30.366740\n",
       "6041   MSFT 2017-03-24  61.151939  61.594245  60.944899  61.509550  22617100.0  61.641285  60.342588  2.550410e+07  60.996643  0.285061 -68.115525  0.716794  0.197646 -0.009388  61.012343  NaN  61.566764  60.426522   215.977754   211.977754    NaN  NaN  109.973043  27.573603  -1.309657  222.986899  0.169601  0.008403  42.552938"
      ]
     },
     "execution_count": 15,
     "metadata": {},
     "output_type": "execute_result"
    }
   ],
   "source": [
    "dataset.head(6)"
   ]
  },
  {
   "cell_type": "code",
   "execution_count": 16,
   "id": "fixed-amendment",
   "metadata": {},
   "outputs": [
    {
     "data": {
      "text/html": [
       "<div>\n",
       "<style scoped>\n",
       "    .dataframe tbody tr th:only-of-type {\n",
       "        vertical-align: middle;\n",
       "    }\n",
       "\n",
       "    .dataframe tbody tr th {\n",
       "        vertical-align: top;\n",
       "    }\n",
       "\n",
       "    .dataframe thead th {\n",
       "        text-align: right;\n",
       "    }\n",
       "</style>\n",
       "<table border=\"1\" class=\"dataframe\">\n",
       "  <thead>\n",
       "    <tr style=\"text-align: right;\">\n",
       "      <th></th>\n",
       "      <th>Close</th>\n",
       "      <th>High</th>\n",
       "      <th>Low</th>\n",
       "      <th>Open</th>\n",
       "      <th>Volume</th>\n",
       "      <th>HH</th>\n",
       "      <th>LL</th>\n",
       "      <th>AV</th>\n",
       "      <th>SMA</th>\n",
       "      <th>SD</th>\n",
       "      <th>WILLR</th>\n",
       "      <th>ATR</th>\n",
       "      <th>DMH</th>\n",
       "      <th>DML</th>\n",
       "      <th>EMA</th>\n",
       "      <th>WMA</th>\n",
       "      <th>BBHIGH</th>\n",
       "      <th>BBLOW</th>\n",
       "      <th>PERBHIGH</th>\n",
       "      <th>PERBLOW</th>\n",
       "      <th>TRIMA</th>\n",
       "      <th>RSI</th>\n",
       "      <th>DX</th>\n",
       "      <th>PDI</th>\n",
       "      <th>NDI</th>\n",
       "      <th>ADX</th>\n",
       "      <th>ROC</th>\n",
       "      <th>MACD</th>\n",
       "      <th>CCI</th>\n",
       "    </tr>\n",
       "  </thead>\n",
       "  <tbody>\n",
       "    <tr>\n",
       "      <th>count</th>\n",
       "      <td>1006.000000</td>\n",
       "      <td>1006.000000</td>\n",
       "      <td>1006.000000</td>\n",
       "      <td>1006.000000</td>\n",
       "      <td>1.006000e+03</td>\n",
       "      <td>1006.000000</td>\n",
       "      <td>1006.000000</td>\n",
       "      <td>1.006000e+03</td>\n",
       "      <td>1006.000000</td>\n",
       "      <td>1005.000000</td>\n",
       "      <td>1006.000000</td>\n",
       "      <td>1006.000000</td>\n",
       "      <td>1006.000000</td>\n",
       "      <td>1006.000000</td>\n",
       "      <td>1006.000000</td>\n",
       "      <td>993.000000</td>\n",
       "      <td>1005.000000</td>\n",
       "      <td>1005.000000</td>\n",
       "      <td>1005.000000</td>\n",
       "      <td>1005.000000</td>\n",
       "      <td>993.000000</td>\n",
       "      <td>992.000000</td>\n",
       "      <td>1.005000e+03</td>\n",
       "      <td>1006.000000</td>\n",
       "      <td>1006.000000</td>\n",
       "      <td>1005.000000</td>\n",
       "      <td>1006.000000</td>\n",
       "      <td>1006.000000</td>\n",
       "      <td>1005.000000</td>\n",
       "    </tr>\n",
       "    <tr>\n",
       "      <th>mean</th>\n",
       "      <td>130.020301</td>\n",
       "      <td>131.295253</td>\n",
       "      <td>128.609311</td>\n",
       "      <td>129.993737</td>\n",
       "      <td>2.943583e+07</td>\n",
       "      <td>134.203014</td>\n",
       "      <td>122.994297</td>\n",
       "      <td>2.943368e+07</td>\n",
       "      <td>128.904616</td>\n",
       "      <td>2.756184</td>\n",
       "      <td>-44.559809</td>\n",
       "      <td>2.925243</td>\n",
       "      <td>0.177588</td>\n",
       "      <td>0.174026</td>\n",
       "      <td>128.901394</td>\n",
       "      <td>129.419418</td>\n",
       "      <td>134.484503</td>\n",
       "      <td>123.459767</td>\n",
       "      <td>69.677313</td>\n",
       "      <td>65.677313</td>\n",
       "      <td>128.663244</td>\n",
       "      <td>58.075838</td>\n",
       "      <td>2.083838e+03</td>\n",
       "      <td>9.121478</td>\n",
       "      <td>8.376296</td>\n",
       "      <td>2085.310702</td>\n",
       "      <td>1.997864</td>\n",
       "      <td>1.192499</td>\n",
       "      <td>19.839913</td>\n",
       "    </tr>\n",
       "    <tr>\n",
       "      <th>std</th>\n",
       "      <td>51.603311</td>\n",
       "      <td>52.265859</td>\n",
       "      <td>50.902231</td>\n",
       "      <td>51.580798</td>\n",
       "      <td>1.358272e+07</td>\n",
       "      <td>54.113707</td>\n",
       "      <td>48.177634</td>\n",
       "      <td>1.028114e+07</td>\n",
       "      <td>51.099060</td>\n",
       "      <td>2.238756</td>\n",
       "      <td>30.217200</td>\n",
       "      <td>2.150482</td>\n",
       "      <td>2.135783</td>\n",
       "      <td>2.240796</td>\n",
       "      <td>51.042662</td>\n",
       "      <td>50.728209</td>\n",
       "      <td>54.193912</td>\n",
       "      <td>48.180535</td>\n",
       "      <td>59.227823</td>\n",
       "      <td>59.227823</td>\n",
       "      <td>50.388896</td>\n",
       "      <td>9.990187</td>\n",
       "      <td>4.397515e+04</td>\n",
       "      <td>63.148840</td>\n",
       "      <td>66.888726</td>\n",
       "      <td>11593.933754</td>\n",
       "      <td>4.866258</td>\n",
       "      <td>1.780852</td>\n",
       "      <td>47.599614</td>\n",
       "    </tr>\n",
       "    <tr>\n",
       "      <th>min</th>\n",
       "      <td>60.427280</td>\n",
       "      <td>61.302495</td>\n",
       "      <td>60.342588</td>\n",
       "      <td>60.342588</td>\n",
       "      <td>7.425600e+06</td>\n",
       "      <td>61.396599</td>\n",
       "      <td>60.342588</td>\n",
       "      <td>1.471908e+07</td>\n",
       "      <td>60.860181</td>\n",
       "      <td>0.039924</td>\n",
       "      <td>-100.000000</td>\n",
       "      <td>0.479953</td>\n",
       "      <td>-12.433658</td>\n",
       "      <td>-13.878958</td>\n",
       "      <td>60.829823</td>\n",
       "      <td>61.197185</td>\n",
       "      <td>61.156480</td>\n",
       "      <td>59.826295</td>\n",
       "      <td>14.480741</td>\n",
       "      <td>10.480741</td>\n",
       "      <td>61.122512</td>\n",
       "      <td>29.476141</td>\n",
       "      <td>1.776615e-06</td>\n",
       "      <td>-186.086578</td>\n",
       "      <td>-273.239258</td>\n",
       "      <td>26.638691</td>\n",
       "      <td>-22.134492</td>\n",
       "      <td>-7.772437</td>\n",
       "      <td>-138.307431</td>\n",
       "    </tr>\n",
       "    <tr>\n",
       "      <th>25%</th>\n",
       "      <td>89.471741</td>\n",
       "      <td>90.367699</td>\n",
       "      <td>88.607039</td>\n",
       "      <td>89.517912</td>\n",
       "      <td>2.074162e+07</td>\n",
       "      <td>92.082709</td>\n",
       "      <td>83.740492</td>\n",
       "      <td>2.301149e+07</td>\n",
       "      <td>88.295822</td>\n",
       "      <td>1.302361</td>\n",
       "      <td>-70.839305</td>\n",
       "      <td>1.413191</td>\n",
       "      <td>-0.531679</td>\n",
       "      <td>-0.609679</td>\n",
       "      <td>88.574179</td>\n",
       "      <td>89.302447</td>\n",
       "      <td>92.659394</td>\n",
       "      <td>84.329648</td>\n",
       "      <td>42.039541</td>\n",
       "      <td>38.039541</td>\n",
       "      <td>88.657100</td>\n",
       "      <td>51.292837</td>\n",
       "      <td>1.538510e+01</td>\n",
       "      <td>-26.454364</td>\n",
       "      <td>-28.193717</td>\n",
       "      <td>57.913533</td>\n",
       "      <td>-0.345941</td>\n",
       "      <td>0.327022</td>\n",
       "      <td>-15.752744</td>\n",
       "    </tr>\n",
       "    <tr>\n",
       "      <th>50%</th>\n",
       "      <td>114.164040</td>\n",
       "      <td>114.891919</td>\n",
       "      <td>113.123522</td>\n",
       "      <td>113.690198</td>\n",
       "      <td>2.599730e+07</td>\n",
       "      <td>115.312043</td>\n",
       "      <td>106.299095</td>\n",
       "      <td>2.683853e+07</td>\n",
       "      <td>110.621554</td>\n",
       "      <td>1.978183</td>\n",
       "      <td>-42.080189</td>\n",
       "      <td>2.221817</td>\n",
       "      <td>0.147203</td>\n",
       "      <td>0.195403</td>\n",
       "      <td>110.886700</td>\n",
       "      <td>112.310610</td>\n",
       "      <td>115.399265</td>\n",
       "      <td>107.634418</td>\n",
       "      <td>60.811741</td>\n",
       "      <td>56.811741</td>\n",
       "      <td>110.750784</td>\n",
       "      <td>57.533427</td>\n",
       "      <td>4.000135e+01</td>\n",
       "      <td>6.816818</td>\n",
       "      <td>9.681825</td>\n",
       "      <td>80.850128</td>\n",
       "      <td>2.085237</td>\n",
       "      <td>0.971730</td>\n",
       "      <td>28.665757</td>\n",
       "    </tr>\n",
       "    <tr>\n",
       "      <th>75%</th>\n",
       "      <td>167.638668</td>\n",
       "      <td>171.432887</td>\n",
       "      <td>164.236011</td>\n",
       "      <td>167.737933</td>\n",
       "      <td>3.361525e+07</td>\n",
       "      <td>178.189224</td>\n",
       "      <td>154.454269</td>\n",
       "      <td>3.341358e+07</td>\n",
       "      <td>165.258492</td>\n",
       "      <td>3.437157</td>\n",
       "      <td>-16.666485</td>\n",
       "      <td>4.044776</td>\n",
       "      <td>0.956705</td>\n",
       "      <td>0.953925</td>\n",
       "      <td>165.622124</td>\n",
       "      <td>165.539513</td>\n",
       "      <td>178.984782</td>\n",
       "      <td>154.335757</td>\n",
       "      <td>83.177341</td>\n",
       "      <td>79.177341</td>\n",
       "      <td>164.218401</td>\n",
       "      <td>65.134963</td>\n",
       "      <td>8.477833e+01</td>\n",
       "      <td>43.423839</td>\n",
       "      <td>47.255734</td>\n",
       "      <td>127.528269</td>\n",
       "      <td>4.881699</td>\n",
       "      <td>2.021516</td>\n",
       "      <td>57.854200</td>\n",
       "    </tr>\n",
       "    <tr>\n",
       "      <th>max</th>\n",
       "      <td>244.427048</td>\n",
       "      <td>245.564423</td>\n",
       "      <td>242.361793</td>\n",
       "      <td>244.466945</td>\n",
       "      <td>1.112421e+08</td>\n",
       "      <td>245.564423</td>\n",
       "      <td>232.399994</td>\n",
       "      <td>7.924272e+07</td>\n",
       "      <td>242.245561</td>\n",
       "      <td>12.154385</td>\n",
       "      <td>-0.000000</td>\n",
       "      <td>12.851547</td>\n",
       "      <td>12.448435</td>\n",
       "      <td>11.346555</td>\n",
       "      <td>240.478950</td>\n",
       "      <td>242.370644</td>\n",
       "      <td>250.154901</td>\n",
       "      <td>238.782029</td>\n",
       "      <td>1531.815082</td>\n",
       "      <td>1527.815082</td>\n",
       "      <td>240.130592</td>\n",
       "      <td>89.265598</td>\n",
       "      <td>1.095366e+06</td>\n",
       "      <td>582.690312</td>\n",
       "      <td>417.680997</td>\n",
       "      <td>78366.424518</td>\n",
       "      <td>21.716399</td>\n",
       "      <td>6.438317</td>\n",
       "      <td>162.709976</td>\n",
       "    </tr>\n",
       "  </tbody>\n",
       "</table>\n",
       "</div>"
      ],
      "text/plain": [
       "             Close         High          Low         Open        Volume           HH           LL            AV          SMA           SD        WILLR          ATR          DMH          DML          EMA         WMA       BBHIGH        BBLOW     PERBHIGH      PERBLOW       TRIMA         RSI            DX          PDI          NDI           ADX          ROC         MACD          CCI\n",
       "count  1006.000000  1006.000000  1006.000000  1006.000000  1.006000e+03  1006.000000  1006.000000  1.006000e+03  1006.000000  1005.000000  1006.000000  1006.000000  1006.000000  1006.000000  1006.000000  993.000000  1005.000000  1005.000000  1005.000000  1005.000000  993.000000  992.000000  1.005000e+03  1006.000000  1006.000000   1005.000000  1006.000000  1006.000000  1005.000000\n",
       "mean    130.020301   131.295253   128.609311   129.993737  2.943583e+07   134.203014   122.994297  2.943368e+07   128.904616     2.756184   -44.559809     2.925243     0.177588     0.174026   128.901394  129.419418   134.484503   123.459767    69.677313    65.677313  128.663244   58.075838  2.083838e+03     9.121478     8.376296   2085.310702     1.997864     1.192499    19.839913\n",
       "std      51.603311    52.265859    50.902231    51.580798  1.358272e+07    54.113707    48.177634  1.028114e+07    51.099060     2.238756    30.217200     2.150482     2.135783     2.240796    51.042662   50.728209    54.193912    48.180535    59.227823    59.227823   50.388896    9.990187  4.397515e+04    63.148840    66.888726  11593.933754     4.866258     1.780852    47.599614\n",
       "min      60.427280    61.302495    60.342588    60.342588  7.425600e+06    61.396599    60.342588  1.471908e+07    60.860181     0.039924  -100.000000     0.479953   -12.433658   -13.878958    60.829823   61.197185    61.156480    59.826295    14.480741    10.480741   61.122512   29.476141  1.776615e-06  -186.086578  -273.239258     26.638691   -22.134492    -7.772437  -138.307431\n",
       "25%      89.471741    90.367699    88.607039    89.517912  2.074162e+07    92.082709    83.740492  2.301149e+07    88.295822     1.302361   -70.839305     1.413191    -0.531679    -0.609679    88.574179   89.302447    92.659394    84.329648    42.039541    38.039541   88.657100   51.292837  1.538510e+01   -26.454364   -28.193717     57.913533    -0.345941     0.327022   -15.752744\n",
       "50%     114.164040   114.891919   113.123522   113.690198  2.599730e+07   115.312043   106.299095  2.683853e+07   110.621554     1.978183   -42.080189     2.221817     0.147203     0.195403   110.886700  112.310610   115.399265   107.634418    60.811741    56.811741  110.750784   57.533427  4.000135e+01     6.816818     9.681825     80.850128     2.085237     0.971730    28.665757\n",
       "75%     167.638668   171.432887   164.236011   167.737933  3.361525e+07   178.189224   154.454269  3.341358e+07   165.258492     3.437157   -16.666485     4.044776     0.956705     0.953925   165.622124  165.539513   178.984782   154.335757    83.177341    79.177341  164.218401   65.134963  8.477833e+01    43.423839    47.255734    127.528269     4.881699     2.021516    57.854200\n",
       "max     244.427048   245.564423   242.361793   244.466945  1.112421e+08   245.564423   232.399994  7.924272e+07   242.245561    12.154385    -0.000000    12.851547    12.448435    11.346555   240.478950  242.370644   250.154901   238.782029  1531.815082  1527.815082  240.130592   89.265598  1.095366e+06   582.690312   417.680997  78366.424518    21.716399     6.438317   162.709976"
      ]
     },
     "execution_count": 16,
     "metadata": {},
     "output_type": "execute_result"
    }
   ],
   "source": [
    "dataset.describe()"
   ]
  },
  {
   "cell_type": "code",
   "execution_count": 17,
   "id": "valued-girlfriend",
   "metadata": {},
   "outputs": [],
   "source": [
    "tickers = dataset['Ticker'].unique()"
   ]
  },
  {
   "cell_type": "code",
   "execution_count": 18,
   "id": "shared-forest",
   "metadata": {},
   "outputs": [
    {
     "data": {
      "text/plain": [
       "Ticker       0\n",
       "Date         0\n",
       "Close        0\n",
       "High         0\n",
       "Low          0\n",
       "Open         0\n",
       "Volume       0\n",
       "HH           0\n",
       "LL           0\n",
       "AV           0\n",
       "SMA          0\n",
       "SD           1\n",
       "WILLR        0\n",
       "ATR          0\n",
       "DMH          0\n",
       "DML          0\n",
       "EMA          0\n",
       "WMA         13\n",
       "BBHIGH       1\n",
       "BBLOW        1\n",
       "PERBHIGH     1\n",
       "PERBLOW      1\n",
       "TRIMA       13\n",
       "RSI         14\n",
       "DX           1\n",
       "PDI          0\n",
       "NDI          0\n",
       "ADX          1\n",
       "ROC          0\n",
       "MACD         0\n",
       "CCI          1\n",
       "dtype: int64"
      ]
     },
     "execution_count": 18,
     "metadata": {},
     "output_type": "execute_result"
    }
   ],
   "source": [
    "dataset.isna().sum()"
   ]
  },
  {
   "cell_type": "markdown",
   "id": "attempted-nelson",
   "metadata": {},
   "source": [
    "### Choose features"
   ]
  },
  {
   "cell_type": "code",
   "execution_count": 19,
   "id": "massive-member",
   "metadata": {},
   "outputs": [
    {
     "data": {
      "text/html": [
       "<div>\n",
       "<style scoped>\n",
       "    .dataframe tbody tr th:only-of-type {\n",
       "        vertical-align: middle;\n",
       "    }\n",
       "\n",
       "    .dataframe tbody tr th {\n",
       "        vertical-align: top;\n",
       "    }\n",
       "\n",
       "    .dataframe thead th {\n",
       "        text-align: right;\n",
       "    }\n",
       "</style>\n",
       "<table border=\"1\" class=\"dataframe\">\n",
       "  <thead>\n",
       "    <tr style=\"text-align: right;\">\n",
       "      <th></th>\n",
       "      <th>Ticker</th>\n",
       "      <th>Date</th>\n",
       "      <th>Close</th>\n",
       "      <th>High</th>\n",
       "      <th>Low</th>\n",
       "      <th>Open</th>\n",
       "      <th>Volume</th>\n",
       "      <th>HH</th>\n",
       "      <th>LL</th>\n",
       "      <th>AV</th>\n",
       "      <th>SMA</th>\n",
       "      <th>SD</th>\n",
       "      <th>WILLR</th>\n",
       "      <th>ATR</th>\n",
       "      <th>DMH</th>\n",
       "      <th>DML</th>\n",
       "      <th>EMA</th>\n",
       "      <th>WMA</th>\n",
       "      <th>BBHIGH</th>\n",
       "      <th>BBLOW</th>\n",
       "      <th>PERBHIGH</th>\n",
       "      <th>PERBLOW</th>\n",
       "      <th>TRIMA</th>\n",
       "      <th>RSI</th>\n",
       "      <th>DX</th>\n",
       "      <th>PDI</th>\n",
       "      <th>NDI</th>\n",
       "      <th>ADX</th>\n",
       "      <th>ROC</th>\n",
       "      <th>MACD</th>\n",
       "      <th>CCI</th>\n",
       "    </tr>\n",
       "  </thead>\n",
       "  <tbody>\n",
       "    <tr>\n",
       "      <th>6036</th>\n",
       "      <td>MSFT</td>\n",
       "      <td>2017-03-17</td>\n",
       "      <td>61.048401</td>\n",
       "      <td>61.396599</td>\n",
       "      <td>60.869592</td>\n",
       "      <td>61.086045</td>\n",
       "      <td>49219700.0</td>\n",
       "      <td>61.396599</td>\n",
       "      <td>60.869592</td>\n",
       "      <td>4.921970e+07</td>\n",
       "      <td>61.048401</td>\n",
       "      <td>NaN</td>\n",
       "      <td>-66.070845</td>\n",
       "      <td>0.527007</td>\n",
       "      <td>0.000000</td>\n",
       "      <td>0.000000</td>\n",
       "      <td>61.048401</td>\n",
       "      <td>NaN</td>\n",
       "      <td>NaN</td>\n",
       "      <td>NaN</td>\n",
       "      <td>NaN</td>\n",
       "      <td>NaN</td>\n",
       "      <td>NaN</td>\n",
       "      <td>NaN</td>\n",
       "      <td>NaN</td>\n",
       "      <td>0.000000</td>\n",
       "      <td>0.000000</td>\n",
       "      <td>NaN</td>\n",
       "      <td>0.000000</td>\n",
       "      <td>0.000000</td>\n",
       "      <td>NaN</td>\n",
       "    </tr>\n",
       "    <tr>\n",
       "      <th>6037</th>\n",
       "      <td>MSFT</td>\n",
       "      <td>2017-03-20</td>\n",
       "      <td>61.104862</td>\n",
       "      <td>61.340134</td>\n",
       "      <td>60.907235</td>\n",
       "      <td>61.086044</td>\n",
       "      <td>14598100.0</td>\n",
       "      <td>61.396599</td>\n",
       "      <td>60.869592</td>\n",
       "      <td>3.190890e+07</td>\n",
       "      <td>61.076632</td>\n",
       "      <td>0.039924</td>\n",
       "      <td>-54.347934</td>\n",
       "      <td>0.479953</td>\n",
       "      <td>-0.056465</td>\n",
       "      <td>0.037643</td>\n",
       "      <td>61.078648</td>\n",
       "      <td>NaN</td>\n",
       "      <td>61.156480</td>\n",
       "      <td>60.996783</td>\n",
       "      <td>1531.815082</td>\n",
       "      <td>1527.815082</td>\n",
       "      <td>NaN</td>\n",
       "      <td>NaN</td>\n",
       "      <td>499.987791</td>\n",
       "      <td>-11.764615</td>\n",
       "      <td>7.842997</td>\n",
       "      <td>499.987791</td>\n",
       "      <td>0.092486</td>\n",
       "      <td>0.001008</td>\n",
       "      <td>52.380230</td>\n",
       "    </tr>\n",
       "    <tr>\n",
       "      <th>6038</th>\n",
       "      <td>MSFT</td>\n",
       "      <td>2017-03-21</td>\n",
       "      <td>60.427280</td>\n",
       "      <td>61.641285</td>\n",
       "      <td>60.351992</td>\n",
       "      <td>61.349550</td>\n",
       "      <td>26640500.0</td>\n",
       "      <td>61.641285</td>\n",
       "      <td>60.351992</td>\n",
       "      <td>3.015277e+07</td>\n",
       "      <td>60.860181</td>\n",
       "      <td>0.375964</td>\n",
       "      <td>-94.160462</td>\n",
       "      <td>0.749733</td>\n",
       "      <td>0.301151</td>\n",
       "      <td>-0.555243</td>\n",
       "      <td>60.829823</td>\n",
       "      <td>NaN</td>\n",
       "      <td>61.612110</td>\n",
       "      <td>60.108252</td>\n",
       "      <td>163.877492</td>\n",
       "      <td>159.877492</td>\n",
       "      <td>NaN</td>\n",
       "      <td>NaN</td>\n",
       "      <td>337.040910</td>\n",
       "      <td>40.167732</td>\n",
       "      <td>-74.058702</td>\n",
       "      <td>418.514351</td>\n",
       "      <td>-1.017423</td>\n",
       "      <td>-0.015368</td>\n",
       "      <td>16.131225</td>\n",
       "    </tr>\n",
       "    <tr>\n",
       "      <th>6039</th>\n",
       "      <td>MSFT</td>\n",
       "      <td>2017-03-22</td>\n",
       "      <td>61.198975</td>\n",
       "      <td>61.302495</td>\n",
       "      <td>60.342588</td>\n",
       "      <td>60.342588</td>\n",
       "      <td>20680000.0</td>\n",
       "      <td>61.641285</td>\n",
       "      <td>60.342588</td>\n",
       "      <td>2.778458e+07</td>\n",
       "      <td>60.944880</td>\n",
       "      <td>0.350611</td>\n",
       "      <td>-10.784409</td>\n",
       "      <td>0.802277</td>\n",
       "      <td>-0.338790</td>\n",
       "      <td>-0.009404</td>\n",
       "      <td>60.942757</td>\n",
       "      <td>NaN</td>\n",
       "      <td>61.646102</td>\n",
       "      <td>60.243657</td>\n",
       "      <td>175.824767</td>\n",
       "      <td>171.824767</td>\n",
       "      <td>NaN</td>\n",
       "      <td>NaN</td>\n",
       "      <td>94.598588</td>\n",
       "      <td>-42.228604</td>\n",
       "      <td>-1.172126</td>\n",
       "      <td>310.542430</td>\n",
       "      <td>0.246646</td>\n",
       "      <td>-0.000573</td>\n",
       "      <td>-15.507925</td>\n",
       "    </tr>\n",
       "    <tr>\n",
       "      <th>6040</th>\n",
       "      <td>MSFT</td>\n",
       "      <td>2017-03-23</td>\n",
       "      <td>61.048401</td>\n",
       "      <td>61.396599</td>\n",
       "      <td>60.954286</td>\n",
       "      <td>61.114277</td>\n",
       "      <td>19269200.0</td>\n",
       "      <td>61.641285</td>\n",
       "      <td>60.342588</td>\n",
       "      <td>2.608150e+07</td>\n",
       "      <td>60.965584</td>\n",
       "      <td>0.307147</td>\n",
       "      <td>-78.722161</td>\n",
       "      <td>0.730284</td>\n",
       "      <td>0.094104</td>\n",
       "      <td>0.611698</td>\n",
       "      <td>60.970319</td>\n",
       "      <td>NaN</td>\n",
       "      <td>61.579878</td>\n",
       "      <td>60.351289</td>\n",
       "      <td>200.489793</td>\n",
       "      <td>196.489793</td>\n",
       "      <td>NaN</td>\n",
       "      <td>NaN</td>\n",
       "      <td>73.334165</td>\n",
       "      <td>12.885953</td>\n",
       "      <td>83.761707</td>\n",
       "      <td>251.240364</td>\n",
       "      <td>0.000000</td>\n",
       "      <td>0.002870</td>\n",
       "      <td>30.366740</td>\n",
       "    </tr>\n",
       "  </tbody>\n",
       "</table>\n",
       "</div>"
      ],
      "text/plain": [
       "     Ticker       Date      Close       High        Low       Open      Volume         HH         LL            AV        SMA        SD      WILLR       ATR       DMH       DML        EMA  WMA     BBHIGH      BBLOW     PERBHIGH      PERBLOW  TRIMA  RSI          DX        PDI        NDI         ADX       ROC      MACD        CCI\n",
       "6036   MSFT 2017-03-17  61.048401  61.396599  60.869592  61.086045  49219700.0  61.396599  60.869592  4.921970e+07  61.048401       NaN -66.070845  0.527007  0.000000  0.000000  61.048401  NaN        NaN        NaN          NaN          NaN    NaN  NaN         NaN   0.000000   0.000000         NaN  0.000000  0.000000        NaN\n",
       "6037   MSFT 2017-03-20  61.104862  61.340134  60.907235  61.086044  14598100.0  61.396599  60.869592  3.190890e+07  61.076632  0.039924 -54.347934  0.479953 -0.056465  0.037643  61.078648  NaN  61.156480  60.996783  1531.815082  1527.815082    NaN  NaN  499.987791 -11.764615   7.842997  499.987791  0.092486  0.001008  52.380230\n",
       "6038   MSFT 2017-03-21  60.427280  61.641285  60.351992  61.349550  26640500.0  61.641285  60.351992  3.015277e+07  60.860181  0.375964 -94.160462  0.749733  0.301151 -0.555243  60.829823  NaN  61.612110  60.108252   163.877492   159.877492    NaN  NaN  337.040910  40.167732 -74.058702  418.514351 -1.017423 -0.015368  16.131225\n",
       "6039   MSFT 2017-03-22  61.198975  61.302495  60.342588  60.342588  20680000.0  61.641285  60.342588  2.778458e+07  60.944880  0.350611 -10.784409  0.802277 -0.338790 -0.009404  60.942757  NaN  61.646102  60.243657   175.824767   171.824767    NaN  NaN   94.598588 -42.228604  -1.172126  310.542430  0.246646 -0.000573 -15.507925\n",
       "6040   MSFT 2017-03-23  61.048401  61.396599  60.954286  61.114277  19269200.0  61.641285  60.342588  2.608150e+07  60.965584  0.307147 -78.722161  0.730284  0.094104  0.611698  60.970319  NaN  61.579878  60.351289   200.489793   196.489793    NaN  NaN   73.334165  12.885953  83.761707  251.240364  0.000000  0.002870  30.366740"
      ]
     },
     "execution_count": 19,
     "metadata": {},
     "output_type": "execute_result"
    }
   ],
   "source": [
    "dataset.head()"
   ]
  },
  {
   "cell_type": "code",
   "execution_count": 20,
   "id": "unavailable-gnome",
   "metadata": {},
   "outputs": [
    {
     "data": {
      "text/plain": [
       "['Ticker',\n",
       " 'Date',\n",
       " 'Close',\n",
       " 'High',\n",
       " 'Low',\n",
       " 'Open',\n",
       " 'Volume',\n",
       " 'HH',\n",
       " 'LL',\n",
       " 'AV',\n",
       " 'SMA',\n",
       " 'SD',\n",
       " 'WILLR',\n",
       " 'ATR',\n",
       " 'DMH',\n",
       " 'DML',\n",
       " 'EMA',\n",
       " 'WMA',\n",
       " 'BBHIGH',\n",
       " 'BBLOW',\n",
       " 'PERBHIGH',\n",
       " 'PERBLOW',\n",
       " 'TRIMA',\n",
       " 'RSI',\n",
       " 'DX',\n",
       " 'PDI',\n",
       " 'NDI',\n",
       " 'ADX',\n",
       " 'ROC',\n",
       " 'MACD',\n",
       " 'CCI']"
      ]
     },
     "execution_count": 20,
     "metadata": {},
     "output_type": "execute_result"
    }
   ],
   "source": [
    "dataset.columns.tolist()"
   ]
  },
  {
   "cell_type": "code",
   "execution_count": 21,
   "id": "unlikely-pottery",
   "metadata": {},
   "outputs": [],
   "source": [
    "features = ['Close', 'High',\n",
    " 'Low', 'Open', 'Volume', ]\n",
    "#  'HH', 'LL', 'AV',\n",
    "#  'SMA', 'SD', 'WILLR',\n",
    "#  'ATR', 'DMH', 'DML',\n",
    "#  'EMA', 'WMA', 'BBHIGH',\n",
    "#  'BBLOW', 'PERBHIGH', 'PERBLOW',\n",
    "#  'TRIMA', 'RSI', 'DX',\n",
    "#  'PDI', 'NDI', 'ADX',\n",
    "#  'ROC', 'MACD', 'CCI']\n",
    "dataset = dataset[['Ticker', 'Date'] + features]\n",
    "num_features = len(features)"
   ]
  },
  {
   "cell_type": "markdown",
   "id": "arbitrary-institute",
   "metadata": {},
   "source": [
    "### Normalization\n",
    "We want to normalize the prices, and there are two challenges\n",
    "1. We want to be able to recover performance metrics like RMSE in dollars, so we have to have the saved transforms for closing price to un transform after prediction. \n",
    "2. We will want to normalize the data within each year, because the stock will tend to have different averages in different years\n",
    "3. We will want to normalize each different company differently, because the stocks will be of differing magnitudes"
   ]
  },
  {
   "cell_type": "code",
   "execution_count": 22,
   "id": "exotic-karen",
   "metadata": {},
   "outputs": [
    {
     "name": "stderr",
     "output_type": "stream",
     "text": [
      "<ipython-input-22-127d150588a5>:4: SettingWithCopyWarning: \n",
      "A value is trying to be set on a copy of a slice from a DataFrame.\n",
      "Try using .loc[row_indexer,col_indexer] = value instead\n",
      "\n",
      "See the caveats in the documentation: https://pandas.pydata.org/pandas-docs/stable/user_guide/indexing.html#returning-a-view-versus-a-copy\n",
      "  dataset[features] = sc.fit_transform(dataset[features])\n",
      "C:\\Users\\jaker\\miniconda3\\envs\\finance\\lib\\site-packages\\pandas\\core\\indexing.py:1738: SettingWithCopyWarning: \n",
      "A value is trying to be set on a copy of a slice from a DataFrame.\n",
      "Try using .loc[row_indexer,col_indexer] = value instead\n",
      "\n",
      "See the caveats in the documentation: https://pandas.pydata.org/pandas-docs/stable/user_guide/indexing.html#returning-a-view-versus-a-copy\n",
      "  self._setitem_single_column(loc, value[:, i].tolist(), pi)\n"
     ]
    }
   ],
   "source": [
    "# simple one normalizing model approach\n",
    "\n",
    "sc = RobustScaler()\n",
    "dataset[features] = sc.fit_transform(dataset[features])"
   ]
  },
  {
   "cell_type": "code",
   "execution_count": 23,
   "id": "persistent-johnston",
   "metadata": {},
   "outputs": [
    {
     "data": {
      "text/html": [
       "<div>\n",
       "<style scoped>\n",
       "    .dataframe tbody tr th:only-of-type {\n",
       "        vertical-align: middle;\n",
       "    }\n",
       "\n",
       "    .dataframe tbody tr th {\n",
       "        vertical-align: top;\n",
       "    }\n",
       "\n",
       "    .dataframe thead th {\n",
       "        text-align: right;\n",
       "    }\n",
       "</style>\n",
       "<table border=\"1\" class=\"dataframe\">\n",
       "  <thead>\n",
       "    <tr style=\"text-align: right;\">\n",
       "      <th></th>\n",
       "      <th>Close</th>\n",
       "      <th>High</th>\n",
       "      <th>Low</th>\n",
       "      <th>Open</th>\n",
       "      <th>Volume</th>\n",
       "    </tr>\n",
       "  </thead>\n",
       "  <tbody>\n",
       "    <tr>\n",
       "      <th>count</th>\n",
       "      <td>1006.000000</td>\n",
       "      <td>1.006000e+03</td>\n",
       "      <td>1006.000000</td>\n",
       "      <td>1006.000000</td>\n",
       "      <td>1006.000000</td>\n",
       "    </tr>\n",
       "    <tr>\n",
       "      <th>mean</th>\n",
       "      <td>0.202851</td>\n",
       "      <td>2.023474e-01</td>\n",
       "      <td>0.204760</td>\n",
       "      <td>0.208432</td>\n",
       "      <td>0.267099</td>\n",
       "    </tr>\n",
       "    <tr>\n",
       "      <th>std</th>\n",
       "      <td>0.660168</td>\n",
       "      <td>6.447386e-01</td>\n",
       "      <td>0.673052</td>\n",
       "      <td>0.659432</td>\n",
       "      <td>1.055081</td>\n",
       "    </tr>\n",
       "    <tr>\n",
       "      <th>min</th>\n",
       "      <td>-0.687462</td>\n",
       "      <td>-6.610658e-01</td>\n",
       "      <td>-0.697893</td>\n",
       "      <td>-0.682020</td>\n",
       "      <td>-1.442616</td>\n",
       "    </tr>\n",
       "    <tr>\n",
       "      <th>25%</th>\n",
       "      <td>-0.315892</td>\n",
       "      <td>-3.025247e-01</td>\n",
       "      <td>-0.324168</td>\n",
       "      <td>-0.309029</td>\n",
       "      <td>-0.408251</td>\n",
       "    </tr>\n",
       "    <tr>\n",
       "      <th>50%</th>\n",
       "      <td>0.000000</td>\n",
       "      <td>8.765775e-17</td>\n",
       "      <td>0.000000</td>\n",
       "      <td>0.000000</td>\n",
       "      <td>0.000000</td>\n",
       "    </tr>\n",
       "    <tr>\n",
       "      <th>75%</th>\n",
       "      <td>0.684108</td>\n",
       "      <td>6.974753e-01</td>\n",
       "      <td>0.675832</td>\n",
       "      <td>0.690971</td>\n",
       "      <td>0.591749</td>\n",
       "    </tr>\n",
       "    <tr>\n",
       "      <th>max</th>\n",
       "      <td>1.666472</td>\n",
       "      <td>1.611944e+00</td>\n",
       "      <td>1.708846</td>\n",
       "      <td>1.671909</td>\n",
       "      <td>6.621663</td>\n",
       "    </tr>\n",
       "  </tbody>\n",
       "</table>\n",
       "</div>"
      ],
      "text/plain": [
       "             Close          High          Low         Open       Volume\n",
       "count  1006.000000  1.006000e+03  1006.000000  1006.000000  1006.000000\n",
       "mean      0.202851  2.023474e-01     0.204760     0.208432     0.267099\n",
       "std       0.660168  6.447386e-01     0.673052     0.659432     1.055081\n",
       "min      -0.687462 -6.610658e-01    -0.697893    -0.682020    -1.442616\n",
       "25%      -0.315892 -3.025247e-01    -0.324168    -0.309029    -0.408251\n",
       "50%       0.000000  8.765775e-17     0.000000     0.000000     0.000000\n",
       "75%       0.684108  6.974753e-01     0.675832     0.690971     0.591749\n",
       "max       1.666472  1.611944e+00     1.708846     1.671909     6.621663"
      ]
     },
     "execution_count": 23,
     "metadata": {},
     "output_type": "execute_result"
    }
   ],
   "source": [
    "dataset.describe()"
   ]
  },
  {
   "cell_type": "markdown",
   "id": "nearby-coupon",
   "metadata": {},
   "source": [
    "### Train test split"
   ]
  },
  {
   "cell_type": "code",
   "execution_count": 24,
   "id": "provincial-combination",
   "metadata": {},
   "outputs": [],
   "source": [
    "train = dataset.loc[dataset['Date'] < \"2020-03-13\"]\n",
    "test = dataset.loc[dataset['Date'] > \"2020-03-13\"]"
   ]
  },
  {
   "cell_type": "code",
   "execution_count": 25,
   "id": "severe-pierre",
   "metadata": {},
   "outputs": [
    {
     "data": {
      "text/html": [
       "<div>\n",
       "<style scoped>\n",
       "    .dataframe tbody tr th:only-of-type {\n",
       "        vertical-align: middle;\n",
       "    }\n",
       "\n",
       "    .dataframe tbody tr th {\n",
       "        vertical-align: top;\n",
       "    }\n",
       "\n",
       "    .dataframe thead th {\n",
       "        text-align: right;\n",
       "    }\n",
       "</style>\n",
       "<table border=\"1\" class=\"dataframe\">\n",
       "  <thead>\n",
       "    <tr style=\"text-align: right;\">\n",
       "      <th></th>\n",
       "      <th>Ticker</th>\n",
       "      <th>Date</th>\n",
       "      <th>Close</th>\n",
       "      <th>High</th>\n",
       "      <th>Low</th>\n",
       "      <th>Open</th>\n",
       "      <th>Volume</th>\n",
       "    </tr>\n",
       "  </thead>\n",
       "  <tbody>\n",
       "    <tr>\n",
       "      <th>6036</th>\n",
       "      <td>MSFT</td>\n",
       "      <td>2017-03-17</td>\n",
       "      <td>-0.679516</td>\n",
       "      <td>-0.659905</td>\n",
       "      <td>-0.690925</td>\n",
       "      <td>-0.672515</td>\n",
       "      <td>1.803874</td>\n",
       "    </tr>\n",
       "    <tr>\n",
       "      <th>6037</th>\n",
       "      <td>MSFT</td>\n",
       "      <td>2017-03-20</td>\n",
       "      <td>-0.678793</td>\n",
       "      <td>-0.660601</td>\n",
       "      <td>-0.690427</td>\n",
       "      <td>-0.672515</td>\n",
       "      <td>-0.885469</td>\n",
       "    </tr>\n",
       "    <tr>\n",
       "      <th>6038</th>\n",
       "      <td>MSFT</td>\n",
       "      <td>2017-03-21</td>\n",
       "      <td>-0.687462</td>\n",
       "      <td>-0.656887</td>\n",
       "      <td>-0.697769</td>\n",
       "      <td>-0.669146</td>\n",
       "      <td>0.049963</td>\n",
       "    </tr>\n",
       "    <tr>\n",
       "      <th>6039</th>\n",
       "      <td>MSFT</td>\n",
       "      <td>2017-03-22</td>\n",
       "      <td>-0.677589</td>\n",
       "      <td>-0.661066</td>\n",
       "      <td>-0.697893</td>\n",
       "      <td>-0.682020</td>\n",
       "      <td>-0.413038</td>\n",
       "    </tr>\n",
       "    <tr>\n",
       "      <th>6040</th>\n",
       "      <td>MSFT</td>\n",
       "      <td>2017-03-23</td>\n",
       "      <td>-0.679516</td>\n",
       "      <td>-0.659905</td>\n",
       "      <td>-0.689805</td>\n",
       "      <td>-0.672154</td>\n",
       "      <td>-0.522627</td>\n",
       "    </tr>\n",
       "  </tbody>\n",
       "</table>\n",
       "</div>"
      ],
      "text/plain": [
       "     Ticker       Date     Close      High       Low      Open    Volume\n",
       "6036   MSFT 2017-03-17 -0.679516 -0.659905 -0.690925 -0.672515  1.803874\n",
       "6037   MSFT 2017-03-20 -0.678793 -0.660601 -0.690427 -0.672515 -0.885469\n",
       "6038   MSFT 2017-03-21 -0.687462 -0.656887 -0.697769 -0.669146  0.049963\n",
       "6039   MSFT 2017-03-22 -0.677589 -0.661066 -0.697893 -0.682020 -0.413038\n",
       "6040   MSFT 2017-03-23 -0.679516 -0.659905 -0.689805 -0.672154 -0.522627"
      ]
     },
     "execution_count": 25,
     "metadata": {},
     "output_type": "execute_result"
    }
   ],
   "source": [
    "train.head()"
   ]
  },
  {
   "cell_type": "code",
   "execution_count": 26,
   "id": "returning-royal",
   "metadata": {},
   "outputs": [
    {
     "data": {
      "text/html": [
       "<div>\n",
       "<style scoped>\n",
       "    .dataframe tbody tr th:only-of-type {\n",
       "        vertical-align: middle;\n",
       "    }\n",
       "\n",
       "    .dataframe tbody tr th {\n",
       "        vertical-align: top;\n",
       "    }\n",
       "\n",
       "    .dataframe thead th {\n",
       "        text-align: right;\n",
       "    }\n",
       "</style>\n",
       "<table border=\"1\" class=\"dataframe\">\n",
       "  <thead>\n",
       "    <tr style=\"text-align: right;\">\n",
       "      <th></th>\n",
       "      <th>Ticker</th>\n",
       "      <th>Date</th>\n",
       "      <th>Close</th>\n",
       "      <th>High</th>\n",
       "      <th>Low</th>\n",
       "      <th>Open</th>\n",
       "      <th>Volume</th>\n",
       "    </tr>\n",
       "  </thead>\n",
       "  <tbody>\n",
       "    <tr>\n",
       "      <th>6789</th>\n",
       "      <td>MSFT</td>\n",
       "      <td>2020-03-16</td>\n",
       "      <td>0.254502</td>\n",
       "      <td>0.406533</td>\n",
       "      <td>0.271303</td>\n",
       "      <td>0.318351</td>\n",
       "      <td>4.808949</td>\n",
       "    </tr>\n",
       "    <tr>\n",
       "      <th>6790</th>\n",
       "      <td>MSFT</td>\n",
       "      <td>2020-03-17</td>\n",
       "      <td>0.395711</td>\n",
       "      <td>0.383941</td>\n",
       "      <td>0.271304</td>\n",
       "      <td>0.318351</td>\n",
       "      <td>4.277156</td>\n",
       "    </tr>\n",
       "    <tr>\n",
       "      <th>6791</th>\n",
       "      <td>MSFT</td>\n",
       "      <td>2020-03-18</td>\n",
       "      <td>0.317571</td>\n",
       "      <td>0.365624</td>\n",
       "      <td>0.271565</td>\n",
       "      <td>0.293039</td>\n",
       "      <td>4.318589</td>\n",
       "    </tr>\n",
       "    <tr>\n",
       "      <th>6792</th>\n",
       "      <td>MSFT</td>\n",
       "      <td>2020-03-19</td>\n",
       "      <td>0.346826</td>\n",
       "      <td>0.416302</td>\n",
       "      <td>0.323661</td>\n",
       "      <td>0.353408</td>\n",
       "      <td>4.654897</td>\n",
       "    </tr>\n",
       "    <tr>\n",
       "      <th>6793</th>\n",
       "      <td>MSFT</td>\n",
       "      <td>2020-03-20</td>\n",
       "      <td>0.278945</td>\n",
       "      <td>0.379057</td>\n",
       "      <td>0.282560</td>\n",
       "      <td>0.394286</td>\n",
       "      <td>4.572830</td>\n",
       "    </tr>\n",
       "  </tbody>\n",
       "</table>\n",
       "</div>"
      ],
      "text/plain": [
       "     Ticker       Date     Close      High       Low      Open    Volume\n",
       "6789   MSFT 2020-03-16  0.254502  0.406533  0.271303  0.318351  4.808949\n",
       "6790   MSFT 2020-03-17  0.395711  0.383941  0.271304  0.318351  4.277156\n",
       "6791   MSFT 2020-03-18  0.317571  0.365624  0.271565  0.293039  4.318589\n",
       "6792   MSFT 2020-03-19  0.346826  0.416302  0.323661  0.353408  4.654897\n",
       "6793   MSFT 2020-03-20  0.278945  0.379057  0.282560  0.394286  4.572830"
      ]
     },
     "execution_count": 26,
     "metadata": {},
     "output_type": "execute_result"
    }
   ],
   "source": [
    "test.head()"
   ]
  },
  {
   "cell_type": "code",
   "execution_count": 27,
   "id": "australian-egyptian",
   "metadata": {},
   "outputs": [
    {
     "data": {
      "text/plain": [
       "<AxesSubplot:xlabel='Date'>"
      ]
     },
     "execution_count": 27,
     "metadata": {},
     "output_type": "execute_result"
    },
    {
     "data": {
      "image/png": "[encoded data removed]",
      "text/plain": [
       "<Figure size 432x288 with 1 Axes>"
      ]
     },
     "metadata": {
      "needs_background": "light"
     },
     "output_type": "display_data"
    }
   ],
   "source": [
    "train.loc[dataset['Ticker']=='MSFT', ['Date', 'Close']].set_index('Date').plot()"
   ]
  },
  {
   "cell_type": "code",
   "execution_count": 28,
   "id": "colonial-regard",
   "metadata": {},
   "outputs": [
    {
     "data": {
      "text/plain": [
       "<AxesSubplot:xlabel='Date'>"
      ]
     },
     "execution_count": 28,
     "metadata": {},
     "output_type": "execute_result"
    },
    {
     "data": {
      "image/png": "[encoded data removed]",
      "text/plain": [
       "<Figure size 432x288 with 1 Axes>"
      ]
     },
     "metadata": {
      "needs_background": "light"
     },
     "output_type": "display_data"
    }
   ],
   "source": [
    "test.loc[dataset['Ticker']=='MSFT', ['Date', 'Close']].set_index('Date').plot()"
   ]
  },
  {
   "cell_type": "markdown",
   "id": "sixth-filter",
   "metadata": {},
   "source": [
    "### Convert one stock into x and y format for input to model"
   ]
  },
  {
   "cell_type": "code",
   "execution_count": 29,
   "id": "swiss-penny",
   "metadata": {},
   "outputs": [],
   "source": [
    "predict_length = 1\n",
    "def apply_rolling(stock, trail_size):\n",
    "    x = []\n",
    "    y = []\n",
    "    for i in range(trail_size, len(stock) + 1 - predict_length):\n",
    "        x_point = stock.drop(columns=['Date', 'Ticker']).iloc[i-trail_size : i].values\n",
    "        y_point = stock['Close'].iloc[i + predict_length -1]\n",
    "        \n",
    "        if np.isnan(x_point).sum() ==0:\n",
    "            x.append(x_point)\n",
    "            y.append(y_point)\n",
    "    \n",
    "    return np.array(x), np.array(y)"
   ]
  },
  {
   "cell_type": "code",
   "execution_count": 30,
   "id": "digital-effect",
   "metadata": {},
   "outputs": [],
   "source": [
    "x, y = apply_rolling(dataset.loc[dataset['Ticker']=='AAPL'], trail_size=3)"
   ]
  },
  {
   "cell_type": "code",
   "execution_count": 31,
   "id": "occupational-pierce",
   "metadata": {},
   "outputs": [
    {
     "data": {
      "text/html": [
       "<div>\n",
       "<style scoped>\n",
       "    .dataframe tbody tr th:only-of-type {\n",
       "        vertical-align: middle;\n",
       "    }\n",
       "\n",
       "    .dataframe tbody tr th {\n",
       "        vertical-align: top;\n",
       "    }\n",
       "\n",
       "    .dataframe thead th {\n",
       "        text-align: right;\n",
       "    }\n",
       "</style>\n",
       "<table border=\"1\" class=\"dataframe\">\n",
       "  <thead>\n",
       "    <tr style=\"text-align: right;\">\n",
       "      <th></th>\n",
       "      <th>Ticker</th>\n",
       "      <th>Date</th>\n",
       "      <th>Close</th>\n",
       "      <th>High</th>\n",
       "      <th>Low</th>\n",
       "      <th>Open</th>\n",
       "      <th>Volume</th>\n",
       "    </tr>\n",
       "  </thead>\n",
       "  <tbody>\n",
       "  </tbody>\n",
       "</table>\n",
       "</div>"
      ],
      "text/plain": [
       "Empty DataFrame\n",
       "Columns: [Ticker, Date, Close, High, Low, Open, Volume]\n",
       "Index: []"
      ]
     },
     "execution_count": 31,
     "metadata": {},
     "output_type": "execute_result"
    }
   ],
   "source": [
    "dataset.loc[dataset['Ticker']=='AAPL']"
   ]
  },
  {
   "cell_type": "code",
   "execution_count": 32,
   "id": "civic-battery",
   "metadata": {},
   "outputs": [
    {
     "data": {
      "text/plain": [
       "(0,)"
      ]
     },
     "execution_count": 32,
     "metadata": {},
     "output_type": "execute_result"
    }
   ],
   "source": [
    "x.shape"
   ]
  },
  {
   "cell_type": "code",
   "execution_count": 33,
   "id": "super-retail",
   "metadata": {},
   "outputs": [
    {
     "data": {
      "text/plain": [
       "(0,)"
      ]
     },
     "execution_count": 33,
     "metadata": {},
     "output_type": "execute_result"
    }
   ],
   "source": [
    "y.shape"
   ]
  },
  {
   "cell_type": "markdown",
   "id": "broken-crowd",
   "metadata": {},
   "source": [
    "### Convert all stocks into x and y for model input"
   ]
  },
  {
   "cell_type": "code",
   "execution_count": 34,
   "id": "neutral-independence",
   "metadata": {},
   "outputs": [],
   "source": [
    "def roll_all_stocks(dataset, trail_size):\n",
    "    res = dataset.groupby('Ticker').apply(lambda x: apply_rolling(x, trail_size=trail_size))\n",
    "    x = [x[0] for x in res.values]\n",
    "    y = [x[1] for x in res.values]\n",
    "    return np.concatenate(x), np.concatenate(y)"
   ]
  },
  {
   "cell_type": "code",
   "execution_count": 35,
   "id": "tutorial-reason",
   "metadata": {},
   "outputs": [],
   "source": [
    "x_train, y_train = roll_all_stocks(train, trail_size)"
   ]
  },
  {
   "cell_type": "code",
   "execution_count": 36,
   "id": "nonprofit-minimum",
   "metadata": {},
   "outputs": [
    {
     "data": {
      "text/plain": [
       "(738, 14, 5)"
      ]
     },
     "execution_count": 36,
     "metadata": {},
     "output_type": "execute_result"
    }
   ],
   "source": [
    "x_train.shape"
   ]
  },
  {
   "cell_type": "code",
   "execution_count": 37,
   "id": "naval-belle",
   "metadata": {},
   "outputs": [
    {
     "data": {
      "text/plain": [
       "(738,)"
      ]
     },
     "execution_count": 37,
     "metadata": {},
     "output_type": "execute_result"
    }
   ],
   "source": [
    "y_train.shape"
   ]
  },
  {
   "cell_type": "code",
   "execution_count": 38,
   "id": "reasonable-biotechnology",
   "metadata": {},
   "outputs": [],
   "source": [
    "x_test, y_test = roll_all_stocks(test, trail_size)"
   ]
  },
  {
   "cell_type": "code",
   "execution_count": 39,
   "id": "difficult-lying",
   "metadata": {},
   "outputs": [
    {
     "data": {
      "text/plain": [
       "(239, 14, 5)"
      ]
     },
     "execution_count": 39,
     "metadata": {},
     "output_type": "execute_result"
    }
   ],
   "source": [
    "x_test.shape"
   ]
  },
  {
   "cell_type": "code",
   "execution_count": 40,
   "id": "imported-guatemala",
   "metadata": {},
   "outputs": [
    {
     "data": {
      "text/plain": [
       "(239,)"
      ]
     },
     "execution_count": 40,
     "metadata": {},
     "output_type": "execute_result"
    }
   ],
   "source": [
    "y_test.shape"
   ]
  },
  {
   "cell_type": "code",
   "execution_count": 41,
   "id": "voluntary-elephant",
   "metadata": {},
   "outputs": [
    {
     "data": {
      "text/plain": [
       "0"
      ]
     },
     "execution_count": 41,
     "metadata": {},
     "output_type": "execute_result"
    }
   ],
   "source": [
    "np.isnan(x_train).sum() == 0 and np.isnan(x_test).sum() and np.isnan(y_test).sum() and np.isnan(y_train).sum()"
   ]
  },
  {
   "cell_type": "markdown",
   "id": "widespread-union",
   "metadata": {},
   "source": [
    "### Model Design"
   ]
  },
  {
   "cell_type": "code",
   "execution_count": 42,
   "id": "mediterranean-galaxy",
   "metadata": {},
   "outputs": [],
   "source": [
    "model = Sequential()\n",
    "model.add(LSTM(units=75, input_shape=(trail_size, num_features), return_sequences=True))\n",
    "model.add(Dropout(0.4))\n",
    "\n",
    "model.add(LSTM(units=30, return_sequences=True))\n",
    "model.add(Dropout(0.4))\n",
    "\n",
    "model.add(LSTM(units=30, return_sequences=True))\n",
    "model.add(Dropout(0.4))\n",
    "\n",
    "model.add(LSTM(units=30, return_sequences=True))\n",
    "model.add(Dropout(0.4))\n",
    "\n",
    "model.add(LSTM(units=30, return_sequences=True))\n",
    "model.add(Dropout(0.4))\n",
    "\n",
    "model.add(Flatten())\n",
    "# model.add(Dense(50, activation='relu'))\n",
    "# model.add(Dense(25, activation='relu'))\n",
    "model.add(Dense(1))"
   ]
  },
  {
   "cell_type": "code",
   "execution_count": 43,
   "id": "large-terrace",
   "metadata": {},
   "outputs": [],
   "source": [
    "model = Sequential()\n",
    "model.add(LSTM(units=75, input_shape=(trail_size, num_features), return_sequences=True))\n",
    "model.add(Dropout(0.25))\n",
    "model.add(LSTM(units=30, return_sequences=True))\n",
    "model.add(Dropout(0.25))\n",
    "\n",
    "model.add(LSTM(units=30, return_sequences=True))\n",
    "model.add(Dropout(0.25))\n",
    "\n",
    "model.add(Flatten())\n",
    "# model.add(Dense(50, activation='relu'))\n",
    "# model.add(Dense(25, activation='relu'))\n",
    "model.add(Dense(1))"
   ]
  },
  {
   "cell_type": "code",
   "execution_count": 44,
   "id": "posted-violation",
   "metadata": {},
   "outputs": [],
   "source": [
    "# model = Sequential()\n",
    "# model.add(Dense(100, input_shape=(trail_size, num_features), activation='relu'))\n",
    "# model.add(Dropout(0.1))\n",
    "\n",
    "# model.add(Flatten())\n",
    "\n",
    "# model.add(Dense(50, activation='relu'))\n",
    "# model.add(Dropout(0.1))\n",
    "\n",
    "# model.add(Dense(10, activation='relu'))\n",
    "# model.add(Dropout(0.1))\n",
    "\n",
    "# # model.add(Dense(50, activation='relu'))\n",
    "# # model.add(Dense(25, activation='relu'))\n",
    "# model.add(Dense(1, activation='linear'))"
   ]
  },
  {
   "cell_type": "code",
   "execution_count": 45,
   "id": "recent-honduras",
   "metadata": {},
   "outputs": [
    {
     "name": "stdout",
     "output_type": "stream",
     "text": [
      "Model: \"sequential_1\"\n",
      "_________________________________________________________________\n",
      "Layer (type)                 Output Shape              Param #   \n",
      "=================================================================\n",
      "lstm_5 (LSTM)                (None, 14, 75)            24300     \n",
      "_________________________________________________________________\n",
      "dropout_5 (Dropout)          (None, 14, 75)            0         \n",
      "_________________________________________________________________\n",
      "lstm_6 (LSTM)                (None, 14, 30)            12720     \n",
      "_________________________________________________________________\n",
      "dropout_6 (Dropout)          (None, 14, 30)            0         \n",
      "_________________________________________________________________\n",
      "lstm_7 (LSTM)                (None, 14, 30)            7320      \n",
      "_________________________________________________________________\n",
      "dropout_7 (Dropout)          (None, 14, 30)            0         \n",
      "_________________________________________________________________\n",
      "flatten_1 (Flatten)          (None, 420)               0         \n",
      "_________________________________________________________________\n",
      "dense_1 (Dense)              (None, 1)                 421       \n",
      "=================================================================\n",
      "Total params: 44,761\n",
      "Trainable params: 44,761\n",
      "Non-trainable params: 0\n",
      "_________________________________________________________________\n"
     ]
    }
   ],
   "source": [
    "model.summary()"
   ]
  },
  {
   "cell_type": "code",
   "execution_count": 46,
   "id": "measured-customer",
   "metadata": {},
   "outputs": [],
   "source": [
    "model.compile(optimizer='adam', loss='mean_squared_error')"
   ]
  },
  {
   "cell_type": "code",
   "execution_count": 47,
   "id": "efficient-ferry",
   "metadata": {},
   "outputs": [
    {
     "name": "stdout",
     "output_type": "stream",
     "text": [
      "Epoch 1/80\n",
      "24/24 [==============================] - 6s 60ms/step - loss: 0.0977 - val_loss: 0.2329\n",
      "Epoch 2/80\n",
      "24/24 [==============================] - 0s 10ms/step - loss: 0.0106 - val_loss: 0.1997\n",
      "Epoch 3/80\n",
      "24/24 [==============================] - 0s 10ms/step - loss: 0.0280 - val_loss: 0.2737\n",
      "Epoch 4/80\n",
      "24/24 [==============================] - 0s 10ms/step - loss: 0.0082 - val_loss: 0.1495\n",
      "Epoch 5/80\n",
      "24/24 [==============================] - 0s 11ms/step - loss: 0.0188 - val_loss: 0.1495\n",
      "Epoch 6/80\n",
      "24/24 [==============================] - 0s 10ms/step - loss: 0.0061 - val_loss: 0.1413\n",
      "Epoch 7/80\n",
      "24/24 [==============================] - 0s 11ms/step - loss: 0.0082 - val_loss: 0.1204\n",
      "Epoch 8/80\n",
      "24/24 [==============================] - 0s 11ms/step - loss: 0.0052 - val_loss: 0.1009\n",
      "Epoch 9/80\n",
      "24/24 [==============================] - 0s 10ms/step - loss: 0.0117 - val_loss: 0.0875\n",
      "Epoch 10/80\n",
      "24/24 [==============================] - 0s 10ms/step - loss: 0.0042 - val_loss: 0.0909\n",
      "Epoch 11/80\n",
      "24/24 [==============================] - 0s 10ms/step - loss: 0.0074 - val_loss: 0.1024\n",
      "Epoch 12/80\n",
      "24/24 [==============================] - 0s 10ms/step - loss: 0.0096 - val_loss: 0.1732\n",
      "Epoch 13/80\n",
      "24/24 [==============================] - 0s 10ms/step - loss: 0.0131 - val_loss: 0.2030\n",
      "Epoch 14/80\n",
      "24/24 [==============================] - 0s 11ms/step - loss: 0.0139 - val_loss: 0.2676\n",
      "Epoch 15/80\n",
      "24/24 [==============================] - 0s 10ms/step - loss: 0.0060 - val_loss: 0.1528\n",
      "Epoch 16/80\n",
      "24/24 [==============================] - 0s 11ms/step - loss: 0.0081 - val_loss: 0.2233\n",
      "Epoch 17/80\n",
      "24/24 [==============================] - 0s 11ms/step - loss: 0.0105 - val_loss: 0.1831\n",
      "Epoch 18/80\n",
      "24/24 [==============================] - 0s 11ms/step - loss: 0.0102 - val_loss: 0.3997\n",
      "Epoch 19/80\n",
      "24/24 [==============================] - 0s 11ms/step - loss: 0.0081 - val_loss: 0.1870\n",
      "Epoch 20/80\n",
      "24/24 [==============================] - 0s 11ms/step - loss: 0.0056 - val_loss: 0.1461\n",
      "Epoch 21/80\n",
      "24/24 [==============================] - 0s 11ms/step - loss: 0.0118 - val_loss: 0.1571\n",
      "Epoch 22/80\n",
      "24/24 [==============================] - 0s 10ms/step - loss: 0.0151 - val_loss: 0.2734\n",
      "Epoch 23/80\n",
      "24/24 [==============================] - 0s 10ms/step - loss: 0.0053 - val_loss: 0.0886\n",
      "Epoch 24/80\n",
      "24/24 [==============================] - 0s 11ms/step - loss: 0.0053 - val_loss: 0.0922\n",
      "Epoch 25/80\n",
      "24/24 [==============================] - 0s 10ms/step - loss: 0.0074 - val_loss: 0.1046\n",
      "Epoch 26/80\n",
      "24/24 [==============================] - 0s 10ms/step - loss: 0.0040 - val_loss: 0.0768\n",
      "Epoch 27/80\n",
      "24/24 [==============================] - 0s 10ms/step - loss: 0.0032 - val_loss: 0.0681\n",
      "Epoch 28/80\n",
      "24/24 [==============================] - 0s 10ms/step - loss: 0.0034 - val_loss: 0.0741\n",
      "Epoch 29/80\n",
      "24/24 [==============================] - 0s 11ms/step - loss: 0.0072 - val_loss: 0.0514\n",
      "Epoch 30/80\n",
      "24/24 [==============================] - 0s 10ms/step - loss: 0.0057 - val_loss: 0.1100\n",
      "Epoch 31/80\n",
      "24/24 [==============================] - 0s 11ms/step - loss: 0.0047 - val_loss: 0.0561\n",
      "Epoch 32/80\n",
      "24/24 [==============================] - 0s 11ms/step - loss: 0.0073 - val_loss: 0.1922\n",
      "Epoch 33/80\n",
      "24/24 [==============================] - 0s 10ms/step - loss: 0.0065 - val_loss: 0.0788\n",
      "Epoch 34/80\n",
      "24/24 [==============================] - 0s 10ms/step - loss: 0.0051 - val_loss: 0.2208\n",
      "Epoch 35/80\n",
      "24/24 [==============================] - 0s 10ms/step - loss: 0.0054 - val_loss: 0.0783\n",
      "Epoch 36/80\n",
      "24/24 [==============================] - 0s 10ms/step - loss: 0.0057 - val_loss: 0.1834\n",
      "Epoch 37/80\n",
      "24/24 [==============================] - 0s 10ms/step - loss: 0.0049 - val_loss: 0.0651\n",
      "Epoch 38/80\n",
      "24/24 [==============================] - 0s 11ms/step - loss: 0.0043 - val_loss: 0.1263\n",
      "Epoch 39/80\n",
      "24/24 [==============================] - 0s 11ms/step - loss: 0.0052 - val_loss: 0.0532\n",
      "Epoch 40/80\n",
      "24/24 [==============================] - 0s 11ms/step - loss: 0.0062 - val_loss: 0.0874\n",
      "Epoch 41/80\n",
      "24/24 [==============================] - 0s 10ms/step - loss: 0.0037 - val_loss: 0.0469\n",
      "Epoch 42/80\n",
      "24/24 [==============================] - 0s 11ms/step - loss: 0.0042 - val_loss: 0.0794\n",
      "Epoch 43/80\n",
      "24/24 [==============================] - 0s 11ms/step - loss: 0.0058 - val_loss: 0.0403\n",
      "Epoch 44/80\n",
      "24/24 [==============================] - 0s 11ms/step - loss: 0.0047 - val_loss: 0.0863\n",
      "Epoch 45/80\n",
      "24/24 [==============================] - 0s 10ms/step - loss: 0.0036 - val_loss: 0.0442\n",
      "Epoch 46/80\n",
      "24/24 [==============================] - 0s 10ms/step - loss: 0.0063 - val_loss: 0.1202\n",
      "Epoch 47/80\n",
      "24/24 [==============================] - 0s 11ms/step - loss: 0.0063 - val_loss: 0.0497\n",
      "Epoch 48/80\n",
      "24/24 [==============================] - 0s 11ms/step - loss: 0.0046 - val_loss: 0.1897\n",
      "Epoch 49/80\n",
      "24/24 [==============================] - 0s 11ms/step - loss: 0.0051 - val_loss: 0.0558\n",
      "Epoch 50/80\n",
      "24/24 [==============================] - 0s 11ms/step - loss: 0.0054 - val_loss: 0.1508\n",
      "Epoch 51/80\n",
      "24/24 [==============================] - 0s 11ms/step - loss: 0.0053 - val_loss: 0.0703\n",
      "Epoch 52/80\n",
      "24/24 [==============================] - 0s 10ms/step - loss: 0.0051 - val_loss: 0.1677\n",
      "Epoch 53/80\n",
      "24/24 [==============================] - 0s 11ms/step - loss: 0.0056 - val_loss: 0.0625\n",
      "Epoch 54/80\n",
      "24/24 [==============================] - 0s 10ms/step - loss: 0.0059 - val_loss: 0.1647\n",
      "Epoch 55/80\n",
      "24/24 [==============================] - 0s 11ms/step - loss: 0.0106 - val_loss: 0.0716\n",
      "Epoch 56/80\n",
      "24/24 [==============================] - 0s 11ms/step - loss: 0.0069 - val_loss: 0.1910\n",
      "Epoch 57/80\n",
      "24/24 [==============================] - 0s 10ms/step - loss: 0.0112 - val_loss: 0.0675\n",
      "Epoch 58/80\n",
      "24/24 [==============================] - 0s 10ms/step - loss: 0.0065 - val_loss: 0.2160\n",
      "Epoch 59/80\n",
      "24/24 [==============================] - 0s 10ms/step - loss: 0.0084 - val_loss: 0.0650\n",
      "Epoch 60/80\n",
      "24/24 [==============================] - 0s 10ms/step - loss: 0.0067 - val_loss: 0.1645\n",
      "Epoch 61/80\n",
      "24/24 [==============================] - 0s 10ms/step - loss: 0.0036 - val_loss: 0.0445\n",
      "Epoch 62/80\n",
      "24/24 [==============================] - 0s 11ms/step - loss: 0.0052 - val_loss: 0.1462\n",
      "Epoch 63/80\n",
      "24/24 [==============================] - 0s 11ms/step - loss: 0.0047 - val_loss: 0.0510\n",
      "Epoch 64/80\n",
      "24/24 [==============================] - 0s 11ms/step - loss: 0.0037 - val_loss: 0.1515\n",
      "Epoch 65/80\n",
      "24/24 [==============================] - 0s 10ms/step - loss: 0.0037 - val_loss: 0.0390\n",
      "Epoch 66/80\n",
      "24/24 [==============================] - 0s 10ms/step - loss: 0.0036 - val_loss: 0.0749\n",
      "Epoch 67/80\n",
      "24/24 [==============================] - 0s 10ms/step - loss: 0.0033 - val_loss: 0.0330\n",
      "Epoch 68/80\n",
      "24/24 [==============================] - 0s 10ms/step - loss: 0.0040 - val_loss: 0.0704\n",
      "Epoch 69/80\n",
      "24/24 [==============================] - 0s 10ms/step - loss: 0.0038 - val_loss: 0.0327\n",
      "Epoch 70/80\n",
      "24/24 [==============================] - 0s 10ms/step - loss: 0.0029 - val_loss: 0.0404\n",
      "Epoch 71/80\n",
      "24/24 [==============================] - 0s 10ms/step - loss: 0.0034 - val_loss: 0.0297\n",
      "Epoch 72/80\n",
      "24/24 [==============================] - 0s 11ms/step - loss: 0.0042 - val_loss: 0.0245\n",
      "Epoch 73/80\n",
      "24/24 [==============================] - 0s 11ms/step - loss: 0.0034 - val_loss: 0.0323\n",
      "Epoch 74/80\n",
      "24/24 [==============================] - 0s 10ms/step - loss: 0.0028 - val_loss: 0.0286\n",
      "Epoch 75/80\n",
      "24/24 [==============================] - 0s 11ms/step - loss: 0.0024 - val_loss: 0.0245\n",
      "Epoch 76/80\n",
      "24/24 [==============================] - 0s 10ms/step - loss: 0.0028 - val_loss: 0.0245\n",
      "Epoch 77/80\n",
      "24/24 [==============================] - 0s 10ms/step - loss: 0.0029 - val_loss: 0.0261\n",
      "Epoch 78/80\n",
      "24/24 [==============================] - 0s 11ms/step - loss: 0.0024 - val_loss: 0.0237\n",
      "Epoch 79/80\n",
      "24/24 [==============================] - 0s 10ms/step - loss: 0.0031 - val_loss: 0.0175\n",
      "Epoch 80/80\n",
      "24/24 [==============================] - 0s 11ms/step - loss: 0.0027 - val_loss: 0.0357\n"
     ]
    }
   ],
   "source": [
    "history = model.fit(x_train, y_train, epochs=80, validation_data=(x_test, y_test), batch_size=32, shuffle=False)"
   ]
  },
  {
   "cell_type": "code",
   "execution_count": 48,
   "id": "conditional-personality",
   "metadata": {},
   "outputs": [
    {
     "data": {
      "image/png": "[encoded data removed]",
      "text/plain": [
       "<Figure size 576x432 with 1 Axes>"
      ]
     },
     "metadata": {
      "needs_background": "light"
     },
     "output_type": "display_data"
    }
   ],
   "source": [
    "plt.figure(figsize=(8,6))\n",
    "plt.plot(history.history['loss'], 'bo--')\n",
    "plt.plot(history.history['val_loss'], 'ro-')\n",
    "plt.ylabel('Loss')\n",
    "plt.xlabel('Epochs (n)')\n",
    "plt.legend(['Training loss', 'Validation loss'])\n",
    "plt.title(\"Loss curve for LSTM\")\n",
    "plt.show()"
   ]
  },
  {
   "cell_type": "code",
   "execution_count": 49,
   "id": "weekly-gathering",
   "metadata": {},
   "outputs": [],
   "source": [
    "def evaluate_model_rmse(y_preds, y_true):\n",
    "    dummies = np.zeros((y_preds.shape[0], num_features-1))\n",
    "    res = np.concatenate([y_preds, dummies], axis=1)\n",
    "    pred_dollars = sc.inverse_transform(res)[:, 0]\n",
    "    \n",
    "    res2 = np.concatenate([np.expand_dims(y_true, axis=1), dummies], axis=1)\n",
    "    true_dollars = sc.inverse_transform(res2)[:, 0]\n",
    "    return np.sqrt(mean_squared_error(true_dollars, pred_dollars))"
   ]
  },
  {
   "cell_type": "code",
   "execution_count": 50,
   "id": "cultural-mailman",
   "metadata": {},
   "outputs": [
    {
     "data": {
      "text/plain": [
       "(738, 1)"
      ]
     },
     "execution_count": 50,
     "metadata": {},
     "output_type": "execute_result"
    }
   ],
   "source": [
    "model.predict(x_train).shape"
   ]
  },
  {
   "cell_type": "code",
   "execution_count": 51,
   "id": "pharmaceutical-minutes",
   "metadata": {},
   "outputs": [
    {
     "data": {
      "text/plain": [
       "(738, 4)"
      ]
     },
     "execution_count": 51,
     "metadata": {},
     "output_type": "execute_result"
    }
   ],
   "source": [
    "np.zeros((y_train.shape[0], num_features-1)).shape"
   ]
  },
  {
   "cell_type": "code",
   "execution_count": 52,
   "id": "large-banking",
   "metadata": {},
   "outputs": [
    {
     "data": {
      "text/plain": [
       "(738, 1)"
      ]
     },
     "execution_count": 52,
     "metadata": {},
     "output_type": "execute_result"
    }
   ],
   "source": [
    "model.predict(x_train).shape"
   ]
  },
  {
   "cell_type": "code",
   "execution_count": 53,
   "id": "included-orlando",
   "metadata": {},
   "outputs": [
    {
     "data": {
      "text/plain": [
       "(738,)"
      ]
     },
     "execution_count": 53,
     "metadata": {},
     "output_type": "execute_result"
    }
   ],
   "source": [
    "y_train.shape"
   ]
  },
  {
   "cell_type": "code",
   "execution_count": 54,
   "id": "successful-tractor",
   "metadata": {},
   "outputs": [
    {
     "data": {
      "text/plain": [
       "(738, 14, 5)"
      ]
     },
     "execution_count": 54,
     "metadata": {},
     "output_type": "execute_result"
    }
   ],
   "source": [
    "x_train.shape"
   ]
  },
  {
   "cell_type": "code",
   "execution_count": 55,
   "id": "satellite-sociology",
   "metadata": {},
   "outputs": [
    {
     "name": "stdout",
     "output_type": "stream",
     "text": [
      "Training RMSE = 3.3099678943834223\n"
     ]
    }
   ],
   "source": [
    "print(\"Training RMSE = {}\".format(evaluate_model_rmse(model.predict(x_train), y_train)))"
   ]
  },
  {
   "cell_type": "code",
   "execution_count": 56,
   "id": "efficient-philosophy",
   "metadata": {},
   "outputs": [
    {
     "name": "stdout",
     "output_type": "stream",
     "text": [
      "Testing RMSE = 14.76722538457393\n"
     ]
    }
   ],
   "source": [
    "print(\"Testing RMSE = {}\".format(evaluate_model_rmse(model.predict(x_test), y_test)))"
   ]
  },
  {
   "cell_type": "markdown",
   "id": "caroline-consumer",
   "metadata": {},
   "source": [
    "#### Compare to simple baseline"
   ]
  },
  {
   "cell_type": "code",
   "execution_count": 57,
   "id": "coral-dodge",
   "metadata": {},
   "outputs": [],
   "source": [
    "def predict_no_change(x):\n",
    "    return x[-1][0]"
   ]
  },
  {
   "cell_type": "code",
   "execution_count": 58,
   "id": "lightweight-spray",
   "metadata": {},
   "outputs": [],
   "source": [
    "no_change_preds = np.array([predict_no_change(x) for x in x_train])\n",
    "no_change_preds = np.expand_dims(no_change_preds, axis=1)"
   ]
  },
  {
   "cell_type": "code",
   "execution_count": 59,
   "id": "genetic-holly",
   "metadata": {},
   "outputs": [
    {
     "data": {
      "text/plain": [
       "1.897278284769269"
      ]
     },
     "execution_count": 59,
     "metadata": {},
     "output_type": "execute_result"
    }
   ],
   "source": [
    "evaluate_model_rmse(no_change_preds, y_train)"
   ]
  },
  {
   "cell_type": "code",
   "execution_count": 60,
   "id": "injured-loading",
   "metadata": {},
   "outputs": [],
   "source": [
    "no_change_preds = np.array([predict_no_change(x) for x in x_test])\n",
    "no_change_preds = np.expand_dims(no_change_preds, axis=1)"
   ]
  },
  {
   "cell_type": "code",
   "execution_count": 61,
   "id": "wound-pantyhose",
   "metadata": {},
   "outputs": [
    {
     "data": {
      "text/plain": [
       "3.873167416346691"
      ]
     },
     "execution_count": 61,
     "metadata": {},
     "output_type": "execute_result"
    }
   ],
   "source": [
    "evaluate_model_rmse(no_change_preds, y_test)"
   ]
  },
  {
   "cell_type": "code",
   "execution_count": null,
   "id": "approved-feeling",
   "metadata": {},
   "outputs": [],
   "source": []
  }
 ],
 "metadata": {
  "kernelspec": {
   "display_name": "Python 3",
   "language": "python",
   "name": "python3"
  },
  "language_info": {
   "codemirror_mode": {
    "name": "ipython",
    "version": 3
   },
   "file_extension": ".py",
   "mimetype": "text/x-python",
   "name": "python",
   "nbconvert_exporter": "python",
   "pygments_lexer": "ipython3",
   "version": "3.8.5"
  }
 },
 "nbformat": 4,
 "nbformat_minor": 5
}
