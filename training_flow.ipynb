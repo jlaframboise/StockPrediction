{
 "cells": [
  {
   "cell_type": "markdown",
   "id": "patient-workplace",
   "metadata": {},
   "source": [
    "### TODO"
   ]
  },
  {
   "cell_type": "markdown",
   "id": "headed-semiconductor",
   "metadata": {},
   "source": [
    "1. Experiment with normalization\n",
    "    - fit on train and just apply on test\n",
    "    - try MinMax, \n",
    "    - try a different normalization model for each stock\n",
    "2. Change predict length\n",
    "    - try predicting a week in advance\n",
    "3. Try trend classification\n",
    "    - this would be an easier task than the regression on price\n",
    "4. Formulate the problem of predicting change in price instead of raw price"
   ]
  },
  {
   "cell_type": "markdown",
   "id": "blocked-diploma",
   "metadata": {},
   "source": [
    "## Imports"
   ]
  },
  {
   "cell_type": "code",
   "execution_count": 1,
   "id": "thousand-unemployment",
   "metadata": {},
   "outputs": [
    {
     "data": {
      "text/html": [
       "<style>.container { width:100% !important; }</style>"
      ],
      "text/plain": [
       "<IPython.core.display.HTML object>"
      ]
     },
     "metadata": {},
     "output_type": "display_data"
    }
   ],
   "source": [
    "import os, sys\n",
    "import pandas as pd\n",
    "import numpy as np\n",
    "import yfinance as yf\n",
    "import matplotlib.pyplot as plt\n",
    "import seaborn as sns\n",
    "import random\n",
    "\n",
    "import tensorflow as tf\n",
    "from tensorflow.keras import Input, Model\n",
    "from tensorflow.keras.models import Sequential\n",
    "from tensorflow.keras.layers import *\n",
    "from tensorflow.keras.losses import CategoricalCrossentropy\n",
    "from tensorflow.keras.utils import to_categorical, plot_model\n",
    "from tensorflow.keras.preprocessing.sequence import TimeseriesGenerator\n",
    "from sklearn.metrics import confusion_matrix, mean_squared_error\n",
    "from sklearn.feature_extraction.text import CountVectorizer\n",
    "from sklearn.preprocessing import StandardScaler, MinMaxScaler, RobustScaler\n",
    "\n",
    "from time import time\n",
    "from tensorflow.python.keras.callbacks import TensorBoard\n",
    "\n",
    "from indicators import *\n",
    "\n",
    "\n",
    "physical_devices = tf.config.list_physical_devices('GPU')\n",
    "tf.config.experimental.set_memory_growth(physical_devices[0], enable=True)\n",
    "\n",
    "from IPython.core.display import display, HTML\n",
    "display(HTML(\"<style>.container { width:100% !important; }</style>\"))\n",
    "\n",
    "pd.set_option('display.max_rows', 500)\n",
    "pd.set_option('display.max_columns', 500)\n",
    "pd.set_option('display.width', 1000)\n"
   ]
  },
  {
   "cell_type": "markdown",
   "id": "enclosed-france",
   "metadata": {},
   "source": [
    "### Parameters"
   ]
  },
  {
   "cell_type": "code",
   "execution_count": 2,
   "id": "lesbian-internet",
   "metadata": {},
   "outputs": [],
   "source": [
    "trail_size=14\n",
    "predict_length = 5\n",
    "time_period = '4y'"
   ]
  },
  {
   "cell_type": "markdown",
   "id": "functional-belgium",
   "metadata": {},
   "source": [
    "## Load data"
   ]
  },
  {
   "cell_type": "code",
   "execution_count": 3,
   "id": "expired-description",
   "metadata": {},
   "outputs": [],
   "source": [
    "top100tech = ['AAPL', 'MSFT', 'TSM', 'NVDA', 'INTC', 'ASML', 'ADBE', 'CRM', 'AVGO', 'ORCL', 'CSCO', 'ACN', 'TXN', 'SHOP', 'QCOM', 'SAP', 'SNE', 'AMAT', 'INTU', 'NOW', 'SQ', 'IBM', 'MU', 'AMD',\n",
    "'UBER', 'FIS', 'LRCX', 'FISV', 'SNOW', 'INFY', 'TEAM', 'ADSK', 'DELL', 'WDAY', 'VMW', 'ADI', 'NXPI', 'KLAC',\n",
    "'CRWD', 'PLTR', 'DOCU', 'TEL', 'ERIC', 'MCHP', 'CDNS', 'CTSH',\n",
    "'APH', 'SNPS', 'HPQ',\n",
    "'PANW', 'OKTA','RNG','STM','MRVL','XLNX','WIT','MSI','SWKS','GLW','DDOG','ANSS','U','ZS','FTNT','STNE','ZBRA','KEYS','FTV','MXIM','COUP','GRMN','SPLK','HUBS','WORK','NET','FLT','CDW','CAJ','AFRM','PAYC','TER',\n",
    "'VRSN','WDC', 'ZI',\n",
    "'UMC','ANET','EPAM',\n",
    "'UI','XM',\n",
    "'GIB','TRMB',\n",
    "'TYL','WIX','HPE','LYFT',\n",
    "'LOGI',\n",
    "'MPWR']"
   ]
  },
  {
   "cell_type": "code",
   "execution_count": 4,
   "id": "dominican-establishment",
   "metadata": {},
   "outputs": [],
   "source": [
    "top10tech = top100tech[:10]"
   ]
  },
  {
   "cell_type": "code",
   "execution_count": 5,
   "id": "dimensional-seventh",
   "metadata": {},
   "outputs": [],
   "source": [
    "def process_stock_data_from_yf(data):\n",
    "    \n",
    "    df = pd.melt(data, ignore_index=False)\n",
    "    df.columns = ['Variable', 'Ticker', 'Value']\n",
    "    # this is a nicely formed dataframe of historical data\n",
    "    nice_df = df.reset_index().pivot(index=['Ticker', 'Date'], columns=['Variable'], values=['Value'])\n",
    "    nice_df.columns = nice_df.columns.droplevel()\n",
    "    df = nice_df.reset_index()\n",
    "    df.columns.name=None\n",
    "    return df\n",
    "    \n",
    "    "
   ]
  },
  {
   "cell_type": "code",
   "execution_count": 6,
   "id": "vanilla-thailand",
   "metadata": {},
   "outputs": [
    {
     "name": "stdout",
     "output_type": "stream",
     "text": [
      "[*********************100%***********************]  10 of 10 completed\n"
     ]
    }
   ],
   "source": [
    "data = yf.download(tickers = ' '.join(top10tech),\n",
    "                   auto_adjust=True,\n",
    "                  period=time_period)"
   ]
  },
  {
   "cell_type": "code",
   "execution_count": 7,
   "id": "honey-monroe",
   "metadata": {},
   "outputs": [
    {
     "data": {
      "text/plain": [
       "(1007, 50)"
      ]
     },
     "execution_count": 7,
     "metadata": {},
     "output_type": "execute_result"
    }
   ],
   "source": [
    "data.shape"
   ]
  },
  {
   "cell_type": "code",
   "execution_count": 8,
   "id": "guided-stephen",
   "metadata": {},
   "outputs": [
    {
     "data": {
      "text/html": [
       "<div>\n",
       "<style scoped>\n",
       "    .dataframe tbody tr th:only-of-type {\n",
       "        vertical-align: middle;\n",
       "    }\n",
       "\n",
       "    .dataframe tbody tr th {\n",
       "        vertical-align: top;\n",
       "    }\n",
       "\n",
       "    .dataframe thead th {\n",
       "        text-align: right;\n",
       "    }\n",
       "</style>\n",
       "<table border=\"1\" class=\"dataframe\">\n",
       "  <thead>\n",
       "    <tr style=\"text-align: right;\">\n",
       "      <th></th>\n",
       "      <th>Ticker</th>\n",
       "      <th>Date</th>\n",
       "      <th>Close</th>\n",
       "      <th>High</th>\n",
       "      <th>Low</th>\n",
       "      <th>Open</th>\n",
       "      <th>Volume</th>\n",
       "    </tr>\n",
       "  </thead>\n",
       "  <tbody>\n",
       "    <tr>\n",
       "      <th>0</th>\n",
       "      <td>AAPL</td>\n",
       "      <td>2017-03-17</td>\n",
       "      <td>33.239635</td>\n",
       "      <td>33.479452</td>\n",
       "      <td>33.215890</td>\n",
       "      <td>33.479452</td>\n",
       "      <td>175540000.0</td>\n",
       "    </tr>\n",
       "    <tr>\n",
       "      <th>1</th>\n",
       "      <td>AAPL</td>\n",
       "      <td>2017-03-20</td>\n",
       "      <td>33.588676</td>\n",
       "      <td>33.598173</td>\n",
       "      <td>33.296619</td>\n",
       "      <td>33.336984</td>\n",
       "      <td>86168000.0</td>\n",
       "    </tr>\n",
       "    <tr>\n",
       "      <th>2</th>\n",
       "      <td>AAPL</td>\n",
       "      <td>2017-03-21</td>\n",
       "      <td>33.204002</td>\n",
       "      <td>33.906835</td>\n",
       "      <td>33.177884</td>\n",
       "      <td>33.742999</td>\n",
       "      <td>158119600.0</td>\n",
       "    </tr>\n",
       "    <tr>\n",
       "      <th>3</th>\n",
       "      <td>AAPL</td>\n",
       "      <td>2017-03-22</td>\n",
       "      <td>33.579170</td>\n",
       "      <td>33.621912</td>\n",
       "      <td>33.185014</td>\n",
       "      <td>33.206387</td>\n",
       "      <td>103440800.0</td>\n",
       "    </tr>\n",
       "    <tr>\n",
       "      <th>4</th>\n",
       "      <td>AAPL</td>\n",
       "      <td>2017-03-23</td>\n",
       "      <td>33.460449</td>\n",
       "      <td>33.617162</td>\n",
       "      <td>33.386843</td>\n",
       "      <td>33.541179</td>\n",
       "      <td>81385200.0</td>\n",
       "    </tr>\n",
       "  </tbody>\n",
       "</table>\n",
       "</div>"
      ],
      "text/plain": [
       "  Ticker       Date      Close       High        Low       Open       Volume\n",
       "0   AAPL 2017-03-17  33.239635  33.479452  33.215890  33.479452  175540000.0\n",
       "1   AAPL 2017-03-20  33.588676  33.598173  33.296619  33.336984   86168000.0\n",
       "2   AAPL 2017-03-21  33.204002  33.906835  33.177884  33.742999  158119600.0\n",
       "3   AAPL 2017-03-22  33.579170  33.621912  33.185014  33.206387  103440800.0\n",
       "4   AAPL 2017-03-23  33.460449  33.617162  33.386843  33.541179   81385200.0"
      ]
     },
     "execution_count": 8,
     "metadata": {},
     "output_type": "execute_result"
    }
   ],
   "source": [
    "df = process_stock_data_from_yf(data)\n",
    "df.head()"
   ]
  },
  {
   "cell_type": "code",
   "execution_count": 9,
   "id": "pharmaceutical-allocation",
   "metadata": {},
   "outputs": [
    {
     "data": {
      "text/html": [
       "<div>\n",
       "<style scoped>\n",
       "    .dataframe tbody tr th:only-of-type {\n",
       "        vertical-align: middle;\n",
       "    }\n",
       "\n",
       "    .dataframe tbody tr th {\n",
       "        vertical-align: top;\n",
       "    }\n",
       "\n",
       "    .dataframe thead th {\n",
       "        text-align: right;\n",
       "    }\n",
       "</style>\n",
       "<table border=\"1\" class=\"dataframe\">\n",
       "  <thead>\n",
       "    <tr style=\"text-align: right;\">\n",
       "      <th></th>\n",
       "      <th>Ticker</th>\n",
       "      <th>Date</th>\n",
       "      <th>Close</th>\n",
       "      <th>High</th>\n",
       "      <th>Low</th>\n",
       "      <th>Open</th>\n",
       "      <th>Volume</th>\n",
       "    </tr>\n",
       "  </thead>\n",
       "  <tbody>\n",
       "  </tbody>\n",
       "</table>\n",
       "</div>"
      ],
      "text/plain": [
       "Empty DataFrame\n",
       "Columns: [Ticker, Date, Close, High, Low, Open, Volume]\n",
       "Index: []"
      ]
     },
     "execution_count": 9,
     "metadata": {},
     "output_type": "execute_result"
    }
   ],
   "source": [
    "df[df['Ticker']=='CRWD'].isna()"
   ]
  },
  {
   "cell_type": "code",
   "execution_count": 10,
   "id": "effective-sudan",
   "metadata": {},
   "outputs": [],
   "source": [
    "crwd = df[df['Ticker']=='CRWD']"
   ]
  },
  {
   "cell_type": "code",
   "execution_count": 11,
   "id": "weighted-venture",
   "metadata": {},
   "outputs": [
    {
     "data": {
      "text/html": [
       "<div>\n",
       "<style scoped>\n",
       "    .dataframe tbody tr th:only-of-type {\n",
       "        vertical-align: middle;\n",
       "    }\n",
       "\n",
       "    .dataframe tbody tr th {\n",
       "        vertical-align: top;\n",
       "    }\n",
       "\n",
       "    .dataframe thead th {\n",
       "        text-align: right;\n",
       "    }\n",
       "</style>\n",
       "<table border=\"1\" class=\"dataframe\">\n",
       "  <thead>\n",
       "    <tr style=\"text-align: right;\">\n",
       "      <th></th>\n",
       "      <th>Ticker</th>\n",
       "      <th>Date</th>\n",
       "      <th>Close</th>\n",
       "      <th>High</th>\n",
       "      <th>Low</th>\n",
       "      <th>Open</th>\n",
       "      <th>Volume</th>\n",
       "    </tr>\n",
       "  </thead>\n",
       "  <tbody>\n",
       "  </tbody>\n",
       "</table>\n",
       "</div>"
      ],
      "text/plain": [
       "Empty DataFrame\n",
       "Columns: [Ticker, Date, Close, High, Low, Open, Volume]\n",
       "Index: []"
      ]
     },
     "execution_count": 11,
     "metadata": {},
     "output_type": "execute_result"
    }
   ],
   "source": [
    "crwd"
   ]
  },
  {
   "cell_type": "code",
   "execution_count": 12,
   "id": "uniform-superintendent",
   "metadata": {},
   "outputs": [
    {
     "data": {
      "text/plain": [
       "False"
      ]
     },
     "execution_count": 12,
     "metadata": {},
     "output_type": "execute_result"
    }
   ],
   "source": [
    "# check all nan values are in a continguous block. \n",
    "crwd[crwd['Close'].isna()].index.tolist() == list(range(18126, 18688))"
   ]
  },
  {
   "cell_type": "code",
   "execution_count": 13,
   "id": "opposite-combine",
   "metadata": {},
   "outputs": [],
   "source": [
    "tickers_with_all_data = df.groupby(\"Ticker\").apply(lambda x: x.isna().sum()).max(axis=1)==0"
   ]
  },
  {
   "cell_type": "code",
   "execution_count": 14,
   "id": "executive-salad",
   "metadata": {},
   "outputs": [
    {
     "name": "stdout",
     "output_type": "stream",
     "text": [
      "100.00% of companies had the required length of historical data. \n"
     ]
    }
   ],
   "source": [
    "print(\"{:.2f}% of companies had the required length of historical data. \".format(tickers_with_all_data.mean()*100))"
   ]
  },
  {
   "cell_type": "code",
   "execution_count": 15,
   "id": "variable-peeing",
   "metadata": {},
   "outputs": [],
   "source": [
    "tickers_with_all_data_list = tickers_with_all_data[tickers_with_all_data].index.tolist()"
   ]
  },
  {
   "cell_type": "code",
   "execution_count": 16,
   "id": "brown-oklahoma",
   "metadata": {},
   "outputs": [
    {
     "data": {
      "text/plain": [
       "False"
      ]
     },
     "execution_count": 16,
     "metadata": {},
     "output_type": "execute_result"
    }
   ],
   "source": [
    "'AFRM' in tickers_with_all_data_list"
   ]
  },
  {
   "cell_type": "code",
   "execution_count": null,
   "id": "alone-brazilian",
   "metadata": {},
   "outputs": [],
   "source": []
  },
  {
   "cell_type": "code",
   "execution_count": 17,
   "id": "touched-superior",
   "metadata": {},
   "outputs": [],
   "source": [
    "df = df[df['Ticker'].isin(tickers_with_all_data_list)]"
   ]
  },
  {
   "cell_type": "code",
   "execution_count": 18,
   "id": "voluntary-centre",
   "metadata": {},
   "outputs": [
    {
     "data": {
      "text/plain": [
       "Ticker\n",
       "AAPL    0\n",
       "ADBE    0\n",
       "ASML    0\n",
       "AVGO    0\n",
       "CRM     0\n",
       "INTC    0\n",
       "MSFT    0\n",
       "NVDA    0\n",
       "ORCL    0\n",
       "TSM     0\n",
       "dtype: int64"
      ]
     },
     "execution_count": 18,
     "metadata": {},
     "output_type": "execute_result"
    }
   ],
   "source": [
    "df.groupby(\"Ticker\").apply(lambda x: x.isna().sum()).max(axis=1)"
   ]
  },
  {
   "cell_type": "code",
   "execution_count": 19,
   "id": "legal-concord",
   "metadata": {},
   "outputs": [],
   "source": [
    "# nan_days = sum(data.isna().sum(axis=1)>0)\n",
    "# if nan_days >1:\n",
    "#     print(\"WARNING: there are {} days with missing data\".format(nan_days))\n",
    "# data = data.dropna()"
   ]
  },
  {
   "cell_type": "code",
   "execution_count": 20,
   "id": "anticipated-duration",
   "metadata": {},
   "outputs": [
    {
     "name": "stderr",
     "output_type": "stream",
     "text": [
      "C:\\Users\\jaker\\miniconda3\\envs\\finance\\lib\\site-packages\\numpy\\core\\fromnumeric.py:3370: FutureWarning: DataFrame.mean and DataFrame.median with numeric_only=None will include datetime64 and datetime64tz columns in a future version.\n",
      "  return mean(axis=axis, dtype=dtype, out=out, **kwargs)\n"
     ]
    },
    {
     "data": {
      "text/html": [
       "<div>\n",
       "<style scoped>\n",
       "    .dataframe tbody tr th:only-of-type {\n",
       "        vertical-align: middle;\n",
       "    }\n",
       "\n",
       "    .dataframe tbody tr th {\n",
       "        vertical-align: top;\n",
       "    }\n",
       "\n",
       "    .dataframe thead th {\n",
       "        text-align: right;\n",
       "    }\n",
       "</style>\n",
       "<table border=\"1\" class=\"dataframe\">\n",
       "  <thead>\n",
       "    <tr style=\"text-align: right;\">\n",
       "      <th></th>\n",
       "      <th>Close</th>\n",
       "      <th>High</th>\n",
       "      <th>Low</th>\n",
       "      <th>Open</th>\n",
       "      <th>Volume</th>\n",
       "    </tr>\n",
       "    <tr>\n",
       "      <th>Ticker</th>\n",
       "      <th></th>\n",
       "      <th></th>\n",
       "      <th></th>\n",
       "      <th></th>\n",
       "      <th></th>\n",
       "    </tr>\n",
       "  </thead>\n",
       "  <tbody>\n",
       "    <tr>\n",
       "      <th>AAPL</th>\n",
       "      <td>62.043339</td>\n",
       "      <td>62.722322</td>\n",
       "      <td>61.303811</td>\n",
       "      <td>62.016252</td>\n",
       "      <td>1.286454e+08</td>\n",
       "    </tr>\n",
       "    <tr>\n",
       "      <th>ADBE</th>\n",
       "      <td>286.827006</td>\n",
       "      <td>290.144260</td>\n",
       "      <td>283.009156</td>\n",
       "      <td>286.849881</td>\n",
       "      <td>2.900182e+06</td>\n",
       "    </tr>\n",
       "    <tr>\n",
       "      <th>ASML</th>\n",
       "      <td>244.719181</td>\n",
       "      <td>247.084581</td>\n",
       "      <td>242.118046</td>\n",
       "      <td>244.649380</td>\n",
       "      <td>8.355158e+05</td>\n",
       "    </tr>\n",
       "    <tr>\n",
       "      <th>AVGO</th>\n",
       "      <td>265.861253</td>\n",
       "      <td>269.084277</td>\n",
       "      <td>262.445566</td>\n",
       "      <td>265.823437</td>\n",
       "      <td>2.951590e+06</td>\n",
       "    </tr>\n",
       "    <tr>\n",
       "      <th>CRM</th>\n",
       "      <td>152.103307</td>\n",
       "      <td>153.943456</td>\n",
       "      <td>150.059424</td>\n",
       "      <td>152.166902</td>\n",
       "      <td>6.000089e+06</td>\n",
       "    </tr>\n",
       "  </tbody>\n",
       "</table>\n",
       "</div>"
      ],
      "text/plain": [
       "             Close        High         Low        Open        Volume\n",
       "Ticker                                                              \n",
       "AAPL     62.043339   62.722322   61.303811   62.016252  1.286454e+08\n",
       "ADBE    286.827006  290.144260  283.009156  286.849881  2.900182e+06\n",
       "ASML    244.719181  247.084581  242.118046  244.649380  8.355158e+05\n",
       "AVGO    265.861253  269.084277  262.445566  265.823437  2.951590e+06\n",
       "CRM     152.103307  153.943456  150.059424  152.166902  6.000089e+06"
      ]
     },
     "execution_count": 20,
     "metadata": {},
     "output_type": "execute_result"
    }
   ],
   "source": [
    "df.groupby(\"Ticker\").apply(np.mean).head()"
   ]
  },
  {
   "cell_type": "code",
   "execution_count": 21,
   "id": "gentle-mustang",
   "metadata": {},
   "outputs": [
    {
     "data": {
      "text/plain": [
       "0"
      ]
     },
     "execution_count": 21,
     "metadata": {},
     "output_type": "execute_result"
    }
   ],
   "source": [
    "df.isna().sum().sum()"
   ]
  },
  {
   "cell_type": "markdown",
   "id": "strategic-claim",
   "metadata": {},
   "source": [
    "### Compute Technical Markers"
   ]
  },
  {
   "cell_type": "code",
   "execution_count": 22,
   "id": "legendary-namibia",
   "metadata": {},
   "outputs": [],
   "source": [
    "# compute all our technical markers for each of the stocks. \n",
    "dataset = df.groupby('Ticker').apply(lambda x: add_technical_markers(x, trail_size))"
   ]
  },
  {
   "cell_type": "markdown",
   "id": "innocent-thriller",
   "metadata": {},
   "source": [
    "### Filter to only one stock"
   ]
  },
  {
   "cell_type": "code",
   "execution_count": 23,
   "id": "lesbian-breathing",
   "metadata": {},
   "outputs": [],
   "source": [
    "# dataset = dataset.loc[dataset['Ticker']=='MSFT']"
   ]
  },
  {
   "cell_type": "code",
   "execution_count": 24,
   "id": "norman-carbon",
   "metadata": {},
   "outputs": [
    {
     "data": {
      "text/html": [
       "<div>\n",
       "<style scoped>\n",
       "    .dataframe tbody tr th:only-of-type {\n",
       "        vertical-align: middle;\n",
       "    }\n",
       "\n",
       "    .dataframe tbody tr th {\n",
       "        vertical-align: top;\n",
       "    }\n",
       "\n",
       "    .dataframe thead th {\n",
       "        text-align: right;\n",
       "    }\n",
       "</style>\n",
       "<table border=\"1\" class=\"dataframe\">\n",
       "  <thead>\n",
       "    <tr style=\"text-align: right;\">\n",
       "      <th></th>\n",
       "      <th>Ticker</th>\n",
       "      <th>Date</th>\n",
       "      <th>Close</th>\n",
       "      <th>High</th>\n",
       "      <th>Low</th>\n",
       "      <th>Open</th>\n",
       "      <th>Volume</th>\n",
       "      <th>HH</th>\n",
       "      <th>LL</th>\n",
       "      <th>AV</th>\n",
       "      <th>SMA</th>\n",
       "      <th>SD</th>\n",
       "      <th>WILLR</th>\n",
       "      <th>ATR</th>\n",
       "      <th>DMH</th>\n",
       "      <th>DML</th>\n",
       "      <th>EMA</th>\n",
       "      <th>WMA</th>\n",
       "      <th>BBHIGH</th>\n",
       "      <th>BBLOW</th>\n",
       "      <th>PERBHIGH</th>\n",
       "      <th>PERBLOW</th>\n",
       "      <th>TRIMA</th>\n",
       "      <th>RSI</th>\n",
       "      <th>DX</th>\n",
       "      <th>PDI</th>\n",
       "      <th>NDI</th>\n",
       "      <th>ADX</th>\n",
       "      <th>ROC</th>\n",
       "      <th>MACD</th>\n",
       "      <th>CCI</th>\n",
       "    </tr>\n",
       "  </thead>\n",
       "  <tbody>\n",
       "    <tr>\n",
       "      <th>0</th>\n",
       "      <td>AAPL</td>\n",
       "      <td>2017-03-17</td>\n",
       "      <td>33.239635</td>\n",
       "      <td>33.479452</td>\n",
       "      <td>33.215890</td>\n",
       "      <td>33.479452</td>\n",
       "      <td>175540000.0</td>\n",
       "      <td>33.479452</td>\n",
       "      <td>33.215890</td>\n",
       "      <td>1.755400e+08</td>\n",
       "      <td>33.239635</td>\n",
       "      <td>NaN</td>\n",
       "      <td>-90.990446</td>\n",
       "      <td>0.263562</td>\n",
       "      <td>0.000000</td>\n",
       "      <td>0.000000</td>\n",
       "      <td>33.239635</td>\n",
       "      <td>NaN</td>\n",
       "      <td>NaN</td>\n",
       "      <td>NaN</td>\n",
       "      <td>NaN</td>\n",
       "      <td>NaN</td>\n",
       "      <td>NaN</td>\n",
       "      <td>NaN</td>\n",
       "      <td>NaN</td>\n",
       "      <td>0.000000</td>\n",
       "      <td>0.000000</td>\n",
       "      <td>NaN</td>\n",
       "      <td>0.000000</td>\n",
       "      <td>0.000000</td>\n",
       "      <td>NaN</td>\n",
       "    </tr>\n",
       "    <tr>\n",
       "      <th>1</th>\n",
       "      <td>AAPL</td>\n",
       "      <td>2017-03-20</td>\n",
       "      <td>33.588676</td>\n",
       "      <td>33.598173</td>\n",
       "      <td>33.296619</td>\n",
       "      <td>33.336984</td>\n",
       "      <td>86168000.0</td>\n",
       "      <td>33.598173</td>\n",
       "      <td>33.215890</td>\n",
       "      <td>1.308540e+08</td>\n",
       "      <td>33.414156</td>\n",
       "      <td>0.246809</td>\n",
       "      <td>-3.149067</td>\n",
       "      <td>0.311049</td>\n",
       "      <td>0.118721</td>\n",
       "      <td>0.080729</td>\n",
       "      <td>33.426622</td>\n",
       "      <td>NaN</td>\n",
       "      <td>33.907774</td>\n",
       "      <td>32.920537</td>\n",
       "      <td>137.384538</td>\n",
       "      <td>133.384538</td>\n",
       "      <td>NaN</td>\n",
       "      <td>NaN</td>\n",
       "      <td>19.048211</td>\n",
       "      <td>38.167907</td>\n",
       "      <td>25.953858</td>\n",
       "      <td>19.048211</td>\n",
       "      <td>1.050075</td>\n",
       "      <td>0.006233</td>\n",
       "      <td>5.985703</td>\n",
       "    </tr>\n",
       "    <tr>\n",
       "      <th>2</th>\n",
       "      <td>AAPL</td>\n",
       "      <td>2017-03-21</td>\n",
       "      <td>33.204002</td>\n",
       "      <td>33.906835</td>\n",
       "      <td>33.177884</td>\n",
       "      <td>33.742999</td>\n",
       "      <td>158119600.0</td>\n",
       "      <td>33.906835</td>\n",
       "      <td>33.177884</td>\n",
       "      <td>1.399425e+08</td>\n",
       "      <td>33.344105</td>\n",
       "      <td>0.212553</td>\n",
       "      <td>-96.416927</td>\n",
       "      <td>0.450350</td>\n",
       "      <td>0.308662</td>\n",
       "      <td>-0.118736</td>\n",
       "      <td>33.341580</td>\n",
       "      <td>NaN</td>\n",
       "      <td>33.769211</td>\n",
       "      <td>32.918998</td>\n",
       "      <td>158.874076</td>\n",
       "      <td>154.874076</td>\n",
       "      <td>NaN</td>\n",
       "      <td>NaN</td>\n",
       "      <td>225.033073</td>\n",
       "      <td>68.538274</td>\n",
       "      <td>-26.365166</td>\n",
       "      <td>122.040642</td>\n",
       "      <td>-0.107201</td>\n",
       "      <td>-0.001468</td>\n",
       "      <td>41.454561</td>\n",
       "    </tr>\n",
       "    <tr>\n",
       "      <th>3</th>\n",
       "      <td>AAPL</td>\n",
       "      <td>2017-03-22</td>\n",
       "      <td>33.579170</td>\n",
       "      <td>33.621912</td>\n",
       "      <td>33.185014</td>\n",
       "      <td>33.206387</td>\n",
       "      <td>103440800.0</td>\n",
       "      <td>33.906835</td>\n",
       "      <td>33.177884</td>\n",
       "      <td>1.308171e+08</td>\n",
       "      <td>33.402871</td>\n",
       "      <td>0.209603</td>\n",
       "      <td>-9.782978</td>\n",
       "      <td>0.446987</td>\n",
       "      <td>-0.284923</td>\n",
       "      <td>0.007131</td>\n",
       "      <td>33.414266</td>\n",
       "      <td>NaN</td>\n",
       "      <td>33.822076</td>\n",
       "      <td>32.983666</td>\n",
       "      <td>161.362926</td>\n",
       "      <td>157.362926</td>\n",
       "      <td>NaN</td>\n",
       "      <td>NaN</td>\n",
       "      <td>105.133814</td>\n",
       "      <td>-63.743001</td>\n",
       "      <td>1.595274</td>\n",
       "      <td>116.405033</td>\n",
       "      <td>1.021476</td>\n",
       "      <td>0.005717</td>\n",
       "      <td>0.125503</td>\n",
       "    </tr>\n",
       "    <tr>\n",
       "      <th>4</th>\n",
       "      <td>AAPL</td>\n",
       "      <td>2017-03-23</td>\n",
       "      <td>33.460449</td>\n",
       "      <td>33.617162</td>\n",
       "      <td>33.386843</td>\n",
       "      <td>33.541179</td>\n",
       "      <td>81385200.0</td>\n",
       "      <td>33.906835</td>\n",
       "      <td>33.177884</td>\n",
       "      <td>1.209307e+08</td>\n",
       "      <td>33.414387</td>\n",
       "      <td>0.183338</td>\n",
       "      <td>-68.041529</td>\n",
       "      <td>0.403654</td>\n",
       "      <td>-0.004749</td>\n",
       "      <td>0.201828</td>\n",
       "      <td>33.426315</td>\n",
       "      <td>NaN</td>\n",
       "      <td>33.781063</td>\n",
       "      <td>33.047710</td>\n",
       "      <td>184.255279</td>\n",
       "      <td>180.255279</td>\n",
       "      <td>NaN</td>\n",
       "      <td>NaN</td>\n",
       "      <td>104.819840</td>\n",
       "      <td>-1.176614</td>\n",
       "      <td>50.000385</td>\n",
       "      <td>113.508735</td>\n",
       "      <td>0.664309</td>\n",
       "      <td>0.005852</td>\n",
       "      <td>21.239585</td>\n",
       "    </tr>\n",
       "    <tr>\n",
       "      <th>...</th>\n",
       "      <td>...</td>\n",
       "      <td>...</td>\n",
       "      <td>...</td>\n",
       "      <td>...</td>\n",
       "      <td>...</td>\n",
       "      <td>...</td>\n",
       "      <td>...</td>\n",
       "      <td>...</td>\n",
       "      <td>...</td>\n",
       "      <td>...</td>\n",
       "      <td>...</td>\n",
       "      <td>...</td>\n",
       "      <td>...</td>\n",
       "      <td>...</td>\n",
       "      <td>...</td>\n",
       "      <td>...</td>\n",
       "      <td>...</td>\n",
       "      <td>...</td>\n",
       "      <td>...</td>\n",
       "      <td>...</td>\n",
       "      <td>...</td>\n",
       "      <td>...</td>\n",
       "      <td>...</td>\n",
       "      <td>...</td>\n",
       "      <td>...</td>\n",
       "      <td>...</td>\n",
       "      <td>...</td>\n",
       "      <td>...</td>\n",
       "      <td>...</td>\n",
       "      <td>...</td>\n",
       "      <td>...</td>\n",
       "    </tr>\n",
       "    <tr>\n",
       "      <th>10065</th>\n",
       "      <td>TSM</td>\n",
       "      <td>2021-03-11</td>\n",
       "      <td>120.580002</td>\n",
       "      <td>120.800003</td>\n",
       "      <td>117.070000</td>\n",
       "      <td>118.239998</td>\n",
       "      <td>15044000.0</td>\n",
       "      <td>135.279999</td>\n",
       "      <td>113.410004</td>\n",
       "      <td>1.484734e+07</td>\n",
       "      <td>123.288573</td>\n",
       "      <td>6.646426</td>\n",
       "      <td>-5.898151</td>\n",
       "      <td>5.642146</td>\n",
       "      <td>2.770004</td>\n",
       "      <td>3.659996</td>\n",
       "      <td>122.157277</td>\n",
       "      <td>126.307812</td>\n",
       "      <td>136.581425</td>\n",
       "      <td>109.995721</td>\n",
       "      <td>20.549604</td>\n",
       "      <td>16.549604</td>\n",
       "      <td>130.527655</td>\n",
       "      <td>46.147260</td>\n",
       "      <td>13.841240</td>\n",
       "      <td>49.094871</td>\n",
       "      <td>64.868865</td>\n",
       "      <td>730.406110</td>\n",
       "      <td>-11.766429</td>\n",
       "      <td>-2.080529</td>\n",
       "      <td>-29.112199</td>\n",
       "    </tr>\n",
       "    <tr>\n",
       "      <th>10066</th>\n",
       "      <td>TSM</td>\n",
       "      <td>2021-03-12</td>\n",
       "      <td>118.300003</td>\n",
       "      <td>119.000000</td>\n",
       "      <td>117.279999</td>\n",
       "      <td>119.000000</td>\n",
       "      <td>8147600.0</td>\n",
       "      <td>132.380005</td>\n",
       "      <td>113.410004</td>\n",
       "      <td>1.468904e+07</td>\n",
       "      <td>122.197859</td>\n",
       "      <td>6.056131</td>\n",
       "      <td>-40.697468</td>\n",
       "      <td>5.629288</td>\n",
       "      <td>-1.800003</td>\n",
       "      <td>0.209999</td>\n",
       "      <td>121.642974</td>\n",
       "      <td>124.791526</td>\n",
       "      <td>134.310122</td>\n",
       "      <td>110.085596</td>\n",
       "      <td>22.177544</td>\n",
       "      <td>18.177544</td>\n",
       "      <td>129.719390</td>\n",
       "      <td>44.031475</td>\n",
       "      <td>126.414913</td>\n",
       "      <td>-31.975677</td>\n",
       "      <td>3.730473</td>\n",
       "      <td>739.257532</td>\n",
       "      <td>-11.432210</td>\n",
       "      <td>-2.185328</td>\n",
       "      <td>-29.779620</td>\n",
       "    </tr>\n",
       "    <tr>\n",
       "      <th>10067</th>\n",
       "      <td>TSM</td>\n",
       "      <td>2021-03-15</td>\n",
       "      <td>119.080002</td>\n",
       "      <td>119.110001</td>\n",
       "      <td>116.709999</td>\n",
       "      <td>118.650002</td>\n",
       "      <td>8935000.0</td>\n",
       "      <td>132.380005</td>\n",
       "      <td>113.410004</td>\n",
       "      <td>1.400977e+07</td>\n",
       "      <td>121.482144</td>\n",
       "      <td>5.762661</td>\n",
       "      <td>-1.249948</td>\n",
       "      <td>5.215716</td>\n",
       "      <td>0.110001</td>\n",
       "      <td>-0.570000</td>\n",
       "      <td>121.301244</td>\n",
       "      <td>123.775811</td>\n",
       "      <td>133.007466</td>\n",
       "      <td>109.956822</td>\n",
       "      <td>23.080911</td>\n",
       "      <td>19.080911</td>\n",
       "      <td>128.856635</td>\n",
       "      <td>44.961166</td>\n",
       "      <td>147.826448</td>\n",
       "      <td>2.109022</td>\n",
       "      <td>-10.928503</td>\n",
       "      <td>747.133265</td>\n",
       "      <td>-7.761428</td>\n",
       "      <td>-2.199589</td>\n",
       "      <td>-27.550113</td>\n",
       "    </tr>\n",
       "    <tr>\n",
       "      <th>10068</th>\n",
       "      <td>TSM</td>\n",
       "      <td>2021-03-16</td>\n",
       "      <td>119.349998</td>\n",
       "      <td>121.250000</td>\n",
       "      <td>118.099998</td>\n",
       "      <td>119.720001</td>\n",
       "      <td>10766500.0</td>\n",
       "      <td>131.539993</td>\n",
       "      <td>113.410004</td>\n",
       "      <td>1.386574e+07</td>\n",
       "      <td>120.557144</td>\n",
       "      <td>4.861534</td>\n",
       "      <td>-60.317480</td>\n",
       "      <td>5.105002</td>\n",
       "      <td>2.139999</td>\n",
       "      <td>1.389999</td>\n",
       "      <td>121.041078</td>\n",
       "      <td>122.210096</td>\n",
       "      <td>130.280211</td>\n",
       "      <td>110.834077</td>\n",
       "      <td>26.798172</td>\n",
       "      <td>22.798172</td>\n",
       "      <td>127.903318</td>\n",
       "      <td>45.299879</td>\n",
       "      <td>21.246466</td>\n",
       "      <td>41.919660</td>\n",
       "      <td>27.228186</td>\n",
       "      <td>744.617822</td>\n",
       "      <td>-9.788363</td>\n",
       "      <td>-2.173491</td>\n",
       "      <td>-8.064619</td>\n",
       "    </tr>\n",
       "    <tr>\n",
       "      <th>10069</th>\n",
       "      <td>TSM</td>\n",
       "      <td>2021-03-17</td>\n",
       "      <td>119.250000</td>\n",
       "      <td>119.519997</td>\n",
       "      <td>115.400002</td>\n",
       "      <td>117.750000</td>\n",
       "      <td>8268830.0</td>\n",
       "      <td>130.300003</td>\n",
       "      <td>113.410004</td>\n",
       "      <td>1.348629e+07</td>\n",
       "      <td>120.075001</td>\n",
       "      <td>4.608338</td>\n",
       "      <td>-6.553324</td>\n",
       "      <td>4.929287</td>\n",
       "      <td>-1.730003</td>\n",
       "      <td>-2.699997</td>\n",
       "      <td>120.802268</td>\n",
       "      <td>121.420096</td>\n",
       "      <td>129.291676</td>\n",
       "      <td>110.858326</td>\n",
       "      <td>28.056034</td>\n",
       "      <td>24.056034</td>\n",
       "      <td>126.926533</td>\n",
       "      <td>45.188958</td>\n",
       "      <td>21.896016</td>\n",
       "      <td>-35.096422</td>\n",
       "      <td>-54.774595</td>\n",
       "      <td>743.324723</td>\n",
       "      <td>-5.357143</td>\n",
       "      <td>-2.138883</td>\n",
       "      <td>-25.220005</td>\n",
       "    </tr>\n",
       "  </tbody>\n",
       "</table>\n",
       "<p>10070 rows × 31 columns</p>\n",
       "</div>"
      ],
      "text/plain": [
       "      Ticker       Date       Close        High         Low        Open       Volume          HH          LL            AV         SMA        SD      WILLR       ATR       DMH       DML         EMA         WMA      BBHIGH       BBLOW    PERBHIGH     PERBLOW       TRIMA        RSI          DX        PDI        NDI         ADX        ROC      MACD        CCI\n",
       "0       AAPL 2017-03-17   33.239635   33.479452   33.215890   33.479452  175540000.0   33.479452   33.215890  1.755400e+08   33.239635       NaN -90.990446  0.263562  0.000000  0.000000   33.239635         NaN         NaN         NaN         NaN         NaN         NaN        NaN         NaN   0.000000   0.000000         NaN   0.000000  0.000000        NaN\n",
       "1       AAPL 2017-03-20   33.588676   33.598173   33.296619   33.336984   86168000.0   33.598173   33.215890  1.308540e+08   33.414156  0.246809  -3.149067  0.311049  0.118721  0.080729   33.426622         NaN   33.907774   32.920537  137.384538  133.384538         NaN        NaN   19.048211  38.167907  25.953858   19.048211   1.050075  0.006233   5.985703\n",
       "2       AAPL 2017-03-21   33.204002   33.906835   33.177884   33.742999  158119600.0   33.906835   33.177884  1.399425e+08   33.344105  0.212553 -96.416927  0.450350  0.308662 -0.118736   33.341580         NaN   33.769211   32.918998  158.874076  154.874076         NaN        NaN  225.033073  68.538274 -26.365166  122.040642  -0.107201 -0.001468  41.454561\n",
       "3       AAPL 2017-03-22   33.579170   33.621912   33.185014   33.206387  103440800.0   33.906835   33.177884  1.308171e+08   33.402871  0.209603  -9.782978  0.446987 -0.284923  0.007131   33.414266         NaN   33.822076   32.983666  161.362926  157.362926         NaN        NaN  105.133814 -63.743001   1.595274  116.405033   1.021476  0.005717   0.125503\n",
       "4       AAPL 2017-03-23   33.460449   33.617162   33.386843   33.541179   81385200.0   33.906835   33.177884  1.209307e+08   33.414387  0.183338 -68.041529  0.403654 -0.004749  0.201828   33.426315         NaN   33.781063   33.047710  184.255279  180.255279         NaN        NaN  104.819840  -1.176614  50.000385  113.508735   0.664309  0.005852  21.239585\n",
       "...      ...        ...         ...         ...         ...         ...          ...         ...         ...           ...         ...       ...        ...       ...       ...       ...         ...         ...         ...         ...         ...         ...         ...        ...         ...        ...        ...         ...        ...       ...        ...\n",
       "10065    TSM 2021-03-11  120.580002  120.800003  117.070000  118.239998   15044000.0  135.279999  113.410004  1.484734e+07  123.288573  6.646426  -5.898151  5.642146  2.770004  3.659996  122.157277  126.307812  136.581425  109.995721   20.549604   16.549604  130.527655  46.147260   13.841240  49.094871  64.868865  730.406110 -11.766429 -2.080529 -29.112199\n",
       "10066    TSM 2021-03-12  118.300003  119.000000  117.279999  119.000000    8147600.0  132.380005  113.410004  1.468904e+07  122.197859  6.056131 -40.697468  5.629288 -1.800003  0.209999  121.642974  124.791526  134.310122  110.085596   22.177544   18.177544  129.719390  44.031475  126.414913 -31.975677   3.730473  739.257532 -11.432210 -2.185328 -29.779620\n",
       "10067    TSM 2021-03-15  119.080002  119.110001  116.709999  118.650002    8935000.0  132.380005  113.410004  1.400977e+07  121.482144  5.762661  -1.249948  5.215716  0.110001 -0.570000  121.301244  123.775811  133.007466  109.956822   23.080911   19.080911  128.856635  44.961166  147.826448   2.109022 -10.928503  747.133265  -7.761428 -2.199589 -27.550113\n",
       "10068    TSM 2021-03-16  119.349998  121.250000  118.099998  119.720001   10766500.0  131.539993  113.410004  1.386574e+07  120.557144  4.861534 -60.317480  5.105002  2.139999  1.389999  121.041078  122.210096  130.280211  110.834077   26.798172   22.798172  127.903318  45.299879   21.246466  41.919660  27.228186  744.617822  -9.788363 -2.173491  -8.064619\n",
       "10069    TSM 2021-03-17  119.250000  119.519997  115.400002  117.750000    8268830.0  130.300003  113.410004  1.348629e+07  120.075001  4.608338  -6.553324  4.929287 -1.730003 -2.699997  120.802268  121.420096  129.291676  110.858326   28.056034   24.056034  126.926533  45.188958   21.896016 -35.096422 -54.774595  743.324723  -5.357143 -2.138883 -25.220005\n",
       "\n",
       "[10070 rows x 31 columns]"
      ]
     },
     "execution_count": 24,
     "metadata": {},
     "output_type": "execute_result"
    }
   ],
   "source": [
    "dataset"
   ]
  },
  {
   "cell_type": "markdown",
   "id": "ruled-lemon",
   "metadata": {},
   "source": [
    "### Quick visualizations"
   ]
  },
  {
   "cell_type": "code",
   "execution_count": 25,
   "id": "positive-therapy",
   "metadata": {},
   "outputs": [
    {
     "data": {
      "text/plain": [
       "<AxesSubplot:xlabel='Date'>"
      ]
     },
     "execution_count": 25,
     "metadata": {},
     "output_type": "execute_result"
    },
    {
     "data": {
      "image/png": "[encoded data removed]",
      "text/plain": [
       "<Figure size 432x288 with 1 Axes>"
      ]
     },
     "metadata": {
      "needs_background": "light"
     },
     "output_type": "display_data"
    }
   ],
   "source": [
    "dataset.loc[dataset['Ticker']=='TSM', ['Date', 'Close']].set_index('Date').plot()"
   ]
  },
  {
   "cell_type": "code",
   "execution_count": 26,
   "id": "unable-nature",
   "metadata": {},
   "outputs": [
    {
     "data": {
      "text/plain": [
       "[<matplotlib.lines.Line2D at 0x20b441bf520>]"
      ]
     },
     "execution_count": 26,
     "metadata": {},
     "output_type": "execute_result"
    },
    {
     "data": {
      "image/png": "[encoded data removed]",
      "text/plain": [
       "<Figure size 432x288 with 1 Axes>"
      ]
     },
     "metadata": {
      "needs_background": "light"
     },
     "output_type": "display_data"
    }
   ],
   "source": [
    "plt.plot('Date', 'Close', data=dataset)"
   ]
  },
  {
   "cell_type": "code",
   "execution_count": 27,
   "id": "altered-cleveland",
   "metadata": {},
   "outputs": [
    {
     "data": {
      "text/plain": [
       "(10070, 31)"
      ]
     },
     "execution_count": 27,
     "metadata": {},
     "output_type": "execute_result"
    }
   ],
   "source": [
    "dataset.shape"
   ]
  },
  {
   "cell_type": "code",
   "execution_count": 28,
   "id": "played-plenty",
   "metadata": {},
   "outputs": [
    {
     "data": {
      "text/html": [
       "<div>\n",
       "<style scoped>\n",
       "    .dataframe tbody tr th:only-of-type {\n",
       "        vertical-align: middle;\n",
       "    }\n",
       "\n",
       "    .dataframe tbody tr th {\n",
       "        vertical-align: top;\n",
       "    }\n",
       "\n",
       "    .dataframe thead th {\n",
       "        text-align: right;\n",
       "    }\n",
       "</style>\n",
       "<table border=\"1\" class=\"dataframe\">\n",
       "  <thead>\n",
       "    <tr style=\"text-align: right;\">\n",
       "      <th></th>\n",
       "      <th>Ticker</th>\n",
       "      <th>Date</th>\n",
       "      <th>Close</th>\n",
       "      <th>High</th>\n",
       "      <th>Low</th>\n",
       "      <th>Open</th>\n",
       "      <th>Volume</th>\n",
       "      <th>HH</th>\n",
       "      <th>LL</th>\n",
       "      <th>AV</th>\n",
       "      <th>SMA</th>\n",
       "      <th>SD</th>\n",
       "      <th>WILLR</th>\n",
       "      <th>ATR</th>\n",
       "      <th>DMH</th>\n",
       "      <th>DML</th>\n",
       "      <th>EMA</th>\n",
       "      <th>WMA</th>\n",
       "      <th>BBHIGH</th>\n",
       "      <th>BBLOW</th>\n",
       "      <th>PERBHIGH</th>\n",
       "      <th>PERBLOW</th>\n",
       "      <th>TRIMA</th>\n",
       "      <th>RSI</th>\n",
       "      <th>DX</th>\n",
       "      <th>PDI</th>\n",
       "      <th>NDI</th>\n",
       "      <th>ADX</th>\n",
       "      <th>ROC</th>\n",
       "      <th>MACD</th>\n",
       "      <th>CCI</th>\n",
       "    </tr>\n",
       "  </thead>\n",
       "  <tbody>\n",
       "    <tr>\n",
       "      <th>0</th>\n",
       "      <td>AAPL</td>\n",
       "      <td>2017-03-17</td>\n",
       "      <td>33.239635</td>\n",
       "      <td>33.479452</td>\n",
       "      <td>33.215890</td>\n",
       "      <td>33.479452</td>\n",
       "      <td>175540000.0</td>\n",
       "      <td>33.479452</td>\n",
       "      <td>33.215890</td>\n",
       "      <td>1.755400e+08</td>\n",
       "      <td>33.239635</td>\n",
       "      <td>NaN</td>\n",
       "      <td>-90.990446</td>\n",
       "      <td>0.263562</td>\n",
       "      <td>0.000000</td>\n",
       "      <td>0.000000</td>\n",
       "      <td>33.239635</td>\n",
       "      <td>NaN</td>\n",
       "      <td>NaN</td>\n",
       "      <td>NaN</td>\n",
       "      <td>NaN</td>\n",
       "      <td>NaN</td>\n",
       "      <td>NaN</td>\n",
       "      <td>NaN</td>\n",
       "      <td>NaN</td>\n",
       "      <td>0.000000</td>\n",
       "      <td>0.000000</td>\n",
       "      <td>NaN</td>\n",
       "      <td>0.000000</td>\n",
       "      <td>0.000000</td>\n",
       "      <td>NaN</td>\n",
       "    </tr>\n",
       "    <tr>\n",
       "      <th>1</th>\n",
       "      <td>AAPL</td>\n",
       "      <td>2017-03-20</td>\n",
       "      <td>33.588676</td>\n",
       "      <td>33.598173</td>\n",
       "      <td>33.296619</td>\n",
       "      <td>33.336984</td>\n",
       "      <td>86168000.0</td>\n",
       "      <td>33.598173</td>\n",
       "      <td>33.215890</td>\n",
       "      <td>1.308540e+08</td>\n",
       "      <td>33.414156</td>\n",
       "      <td>0.246809</td>\n",
       "      <td>-3.149067</td>\n",
       "      <td>0.311049</td>\n",
       "      <td>0.118721</td>\n",
       "      <td>0.080729</td>\n",
       "      <td>33.426622</td>\n",
       "      <td>NaN</td>\n",
       "      <td>33.907774</td>\n",
       "      <td>32.920537</td>\n",
       "      <td>137.384538</td>\n",
       "      <td>133.384538</td>\n",
       "      <td>NaN</td>\n",
       "      <td>NaN</td>\n",
       "      <td>19.048211</td>\n",
       "      <td>38.167907</td>\n",
       "      <td>25.953858</td>\n",
       "      <td>19.048211</td>\n",
       "      <td>1.050075</td>\n",
       "      <td>0.006233</td>\n",
       "      <td>5.985703</td>\n",
       "    </tr>\n",
       "    <tr>\n",
       "      <th>2</th>\n",
       "      <td>AAPL</td>\n",
       "      <td>2017-03-21</td>\n",
       "      <td>33.204002</td>\n",
       "      <td>33.906835</td>\n",
       "      <td>33.177884</td>\n",
       "      <td>33.742999</td>\n",
       "      <td>158119600.0</td>\n",
       "      <td>33.906835</td>\n",
       "      <td>33.177884</td>\n",
       "      <td>1.399425e+08</td>\n",
       "      <td>33.344105</td>\n",
       "      <td>0.212553</td>\n",
       "      <td>-96.416927</td>\n",
       "      <td>0.450350</td>\n",
       "      <td>0.308662</td>\n",
       "      <td>-0.118736</td>\n",
       "      <td>33.341580</td>\n",
       "      <td>NaN</td>\n",
       "      <td>33.769211</td>\n",
       "      <td>32.918998</td>\n",
       "      <td>158.874076</td>\n",
       "      <td>154.874076</td>\n",
       "      <td>NaN</td>\n",
       "      <td>NaN</td>\n",
       "      <td>225.033073</td>\n",
       "      <td>68.538274</td>\n",
       "      <td>-26.365166</td>\n",
       "      <td>122.040642</td>\n",
       "      <td>-0.107201</td>\n",
       "      <td>-0.001468</td>\n",
       "      <td>41.454561</td>\n",
       "    </tr>\n",
       "    <tr>\n",
       "      <th>3</th>\n",
       "      <td>AAPL</td>\n",
       "      <td>2017-03-22</td>\n",
       "      <td>33.579170</td>\n",
       "      <td>33.621912</td>\n",
       "      <td>33.185014</td>\n",
       "      <td>33.206387</td>\n",
       "      <td>103440800.0</td>\n",
       "      <td>33.906835</td>\n",
       "      <td>33.177884</td>\n",
       "      <td>1.308171e+08</td>\n",
       "      <td>33.402871</td>\n",
       "      <td>0.209603</td>\n",
       "      <td>-9.782978</td>\n",
       "      <td>0.446987</td>\n",
       "      <td>-0.284923</td>\n",
       "      <td>0.007131</td>\n",
       "      <td>33.414266</td>\n",
       "      <td>NaN</td>\n",
       "      <td>33.822076</td>\n",
       "      <td>32.983666</td>\n",
       "      <td>161.362926</td>\n",
       "      <td>157.362926</td>\n",
       "      <td>NaN</td>\n",
       "      <td>NaN</td>\n",
       "      <td>105.133814</td>\n",
       "      <td>-63.743001</td>\n",
       "      <td>1.595274</td>\n",
       "      <td>116.405033</td>\n",
       "      <td>1.021476</td>\n",
       "      <td>0.005717</td>\n",
       "      <td>0.125503</td>\n",
       "    </tr>\n",
       "    <tr>\n",
       "      <th>4</th>\n",
       "      <td>AAPL</td>\n",
       "      <td>2017-03-23</td>\n",
       "      <td>33.460449</td>\n",
       "      <td>33.617162</td>\n",
       "      <td>33.386843</td>\n",
       "      <td>33.541179</td>\n",
       "      <td>81385200.0</td>\n",
       "      <td>33.906835</td>\n",
       "      <td>33.177884</td>\n",
       "      <td>1.209307e+08</td>\n",
       "      <td>33.414387</td>\n",
       "      <td>0.183338</td>\n",
       "      <td>-68.041529</td>\n",
       "      <td>0.403654</td>\n",
       "      <td>-0.004749</td>\n",
       "      <td>0.201828</td>\n",
       "      <td>33.426315</td>\n",
       "      <td>NaN</td>\n",
       "      <td>33.781063</td>\n",
       "      <td>33.047710</td>\n",
       "      <td>184.255279</td>\n",
       "      <td>180.255279</td>\n",
       "      <td>NaN</td>\n",
       "      <td>NaN</td>\n",
       "      <td>104.819840</td>\n",
       "      <td>-1.176614</td>\n",
       "      <td>50.000385</td>\n",
       "      <td>113.508735</td>\n",
       "      <td>0.664309</td>\n",
       "      <td>0.005852</td>\n",
       "      <td>21.239585</td>\n",
       "    </tr>\n",
       "    <tr>\n",
       "      <th>5</th>\n",
       "      <td>AAPL</td>\n",
       "      <td>2017-03-24</td>\n",
       "      <td>33.393963</td>\n",
       "      <td>33.655151</td>\n",
       "      <td>33.325106</td>\n",
       "      <td>33.598164</td>\n",
       "      <td>89582400.0</td>\n",
       "      <td>33.906835</td>\n",
       "      <td>33.177884</td>\n",
       "      <td>1.157060e+08</td>\n",
       "      <td>33.410983</td>\n",
       "      <td>0.164195</td>\n",
       "      <td>-79.137164</td>\n",
       "      <td>0.391386</td>\n",
       "      <td>0.037989</td>\n",
       "      <td>-0.061736</td>\n",
       "      <td>33.418829</td>\n",
       "      <td>NaN</td>\n",
       "      <td>33.739372</td>\n",
       "      <td>33.082593</td>\n",
       "      <td>205.483964</td>\n",
       "      <td>201.483964</td>\n",
       "      <td>NaN</td>\n",
       "      <td>NaN</td>\n",
       "      <td>419.942710</td>\n",
       "      <td>9.706303</td>\n",
       "      <td>-15.773829</td>\n",
       "      <td>174.795530</td>\n",
       "      <td>0.464287</td>\n",
       "      <td>0.003608</td>\n",
       "      <td>21.423342</td>\n",
       "    </tr>\n",
       "  </tbody>\n",
       "</table>\n",
       "</div>"
      ],
      "text/plain": [
       "  Ticker       Date      Close       High        Low       Open       Volume         HH         LL            AV        SMA        SD      WILLR       ATR       DMH       DML        EMA  WMA     BBHIGH      BBLOW    PERBHIGH     PERBLOW  TRIMA  RSI          DX        PDI        NDI         ADX       ROC      MACD        CCI\n",
       "0   AAPL 2017-03-17  33.239635  33.479452  33.215890  33.479452  175540000.0  33.479452  33.215890  1.755400e+08  33.239635       NaN -90.990446  0.263562  0.000000  0.000000  33.239635  NaN        NaN        NaN         NaN         NaN    NaN  NaN         NaN   0.000000   0.000000         NaN  0.000000  0.000000        NaN\n",
       "1   AAPL 2017-03-20  33.588676  33.598173  33.296619  33.336984   86168000.0  33.598173  33.215890  1.308540e+08  33.414156  0.246809  -3.149067  0.311049  0.118721  0.080729  33.426622  NaN  33.907774  32.920537  137.384538  133.384538    NaN  NaN   19.048211  38.167907  25.953858   19.048211  1.050075  0.006233   5.985703\n",
       "2   AAPL 2017-03-21  33.204002  33.906835  33.177884  33.742999  158119600.0  33.906835  33.177884  1.399425e+08  33.344105  0.212553 -96.416927  0.450350  0.308662 -0.118736  33.341580  NaN  33.769211  32.918998  158.874076  154.874076    NaN  NaN  225.033073  68.538274 -26.365166  122.040642 -0.107201 -0.001468  41.454561\n",
       "3   AAPL 2017-03-22  33.579170  33.621912  33.185014  33.206387  103440800.0  33.906835  33.177884  1.308171e+08  33.402871  0.209603  -9.782978  0.446987 -0.284923  0.007131  33.414266  NaN  33.822076  32.983666  161.362926  157.362926    NaN  NaN  105.133814 -63.743001   1.595274  116.405033  1.021476  0.005717   0.125503\n",
       "4   AAPL 2017-03-23  33.460449  33.617162  33.386843  33.541179   81385200.0  33.906835  33.177884  1.209307e+08  33.414387  0.183338 -68.041529  0.403654 -0.004749  0.201828  33.426315  NaN  33.781063  33.047710  184.255279  180.255279    NaN  NaN  104.819840  -1.176614  50.000385  113.508735  0.664309  0.005852  21.239585\n",
       "5   AAPL 2017-03-24  33.393963  33.655151  33.325106  33.598164   89582400.0  33.906835  33.177884  1.157060e+08  33.410983  0.164195 -79.137164  0.391386  0.037989 -0.061736  33.418829  NaN  33.739372  33.082593  205.483964  201.483964    NaN  NaN  419.942710   9.706303 -15.773829  174.795530  0.464287  0.003608  21.423342"
      ]
     },
     "execution_count": 28,
     "metadata": {},
     "output_type": "execute_result"
    }
   ],
   "source": [
    "dataset.head(6)"
   ]
  },
  {
   "cell_type": "code",
   "execution_count": 29,
   "id": "fixed-amendment",
   "metadata": {},
   "outputs": [
    {
     "data": {
      "text/html": [
       "<div>\n",
       "<style scoped>\n",
       "    .dataframe tbody tr th:only-of-type {\n",
       "        vertical-align: middle;\n",
       "    }\n",
       "\n",
       "    .dataframe tbody tr th {\n",
       "        vertical-align: top;\n",
       "    }\n",
       "\n",
       "    .dataframe thead th {\n",
       "        text-align: right;\n",
       "    }\n",
       "</style>\n",
       "<table border=\"1\" class=\"dataframe\">\n",
       "  <thead>\n",
       "    <tr style=\"text-align: right;\">\n",
       "      <th></th>\n",
       "      <th>Close</th>\n",
       "      <th>High</th>\n",
       "      <th>Low</th>\n",
       "      <th>Open</th>\n",
       "      <th>Volume</th>\n",
       "      <th>HH</th>\n",
       "      <th>LL</th>\n",
       "      <th>AV</th>\n",
       "      <th>SMA</th>\n",
       "      <th>SD</th>\n",
       "      <th>WILLR</th>\n",
       "      <th>ATR</th>\n",
       "      <th>DMH</th>\n",
       "      <th>DML</th>\n",
       "      <th>EMA</th>\n",
       "      <th>WMA</th>\n",
       "      <th>BBHIGH</th>\n",
       "      <th>BBLOW</th>\n",
       "      <th>PERBHIGH</th>\n",
       "      <th>PERBLOW</th>\n",
       "      <th>TRIMA</th>\n",
       "      <th>RSI</th>\n",
       "      <th>DX</th>\n",
       "      <th>PDI</th>\n",
       "      <th>NDI</th>\n",
       "      <th>ADX</th>\n",
       "      <th>ROC</th>\n",
       "      <th>MACD</th>\n",
       "      <th>CCI</th>\n",
       "    </tr>\n",
       "  </thead>\n",
       "  <tbody>\n",
       "    <tr>\n",
       "      <th>count</th>\n",
       "      <td>10070.000000</td>\n",
       "      <td>10070.000000</td>\n",
       "      <td>10070.000000</td>\n",
       "      <td>10070.000000</td>\n",
       "      <td>1.007000e+04</td>\n",
       "      <td>10070.000000</td>\n",
       "      <td>10070.000000</td>\n",
       "      <td>1.007000e+04</td>\n",
       "      <td>10070.000000</td>\n",
       "      <td>10060.000000</td>\n",
       "      <td>1.007000e+04</td>\n",
       "      <td>10070.000000</td>\n",
       "      <td>10070.000000</td>\n",
       "      <td>10070.000000</td>\n",
       "      <td>10070.000000</td>\n",
       "      <td>9940.000000</td>\n",
       "      <td>10060.000000</td>\n",
       "      <td>10060.000000</td>\n",
       "      <td>10060.000000</td>\n",
       "      <td>10060.000000</td>\n",
       "      <td>9940.000000</td>\n",
       "      <td>9930.000000</td>\n",
       "      <td>1.005900e+04</td>\n",
       "      <td>10070.000000</td>\n",
       "      <td>10070.000000</td>\n",
       "      <td>1.006000e+04</td>\n",
       "      <td>10070.000000</td>\n",
       "      <td>10070.000000</td>\n",
       "      <td>10060.000000</td>\n",
       "    </tr>\n",
       "    <tr>\n",
       "      <th>mean</th>\n",
       "      <td>154.878748</td>\n",
       "      <td>156.726468</td>\n",
       "      <td>152.873772</td>\n",
       "      <td>154.880581</td>\n",
       "      <td>2.337453e+07</td>\n",
       "      <td>161.968212</td>\n",
       "      <td>144.465093</td>\n",
       "      <td>2.339096e+07</td>\n",
       "      <td>153.617582</td>\n",
       "      <td>4.355835</td>\n",
       "      <td>-4.691101e+01</td>\n",
       "      <td>4.303167</td>\n",
       "      <td>0.202864</td>\n",
       "      <td>0.195022</td>\n",
       "      <td>153.596989</td>\n",
       "      <td>154.126274</td>\n",
       "      <td>162.399815</td>\n",
       "      <td>144.976474</td>\n",
       "      <td>55.950286</td>\n",
       "      <td>51.950286</td>\n",
       "      <td>153.233930</td>\n",
       "      <td>55.496305</td>\n",
       "      <td>9.966524e+03</td>\n",
       "      <td>6.435271</td>\n",
       "      <td>5.755944</td>\n",
       "      <td>1.002698e+04</td>\n",
       "      <td>1.843882</td>\n",
       "      <td>1.405431</td>\n",
       "      <td>14.626565</td>\n",
       "    </tr>\n",
       "    <tr>\n",
       "      <th>std</th>\n",
       "      <td>119.528878</td>\n",
       "      <td>121.145372</td>\n",
       "      <td>117.753569</td>\n",
       "      <td>119.589808</td>\n",
       "      <td>4.131775e+07</td>\n",
       "      <td>125.581011</td>\n",
       "      <td>110.729381</td>\n",
       "      <td>3.876413e+07</td>\n",
       "      <td>118.249647</td>\n",
       "      <td>4.910641</td>\n",
       "      <td>3.075218e+01</td>\n",
       "      <td>4.530700</td>\n",
       "      <td>3.865422</td>\n",
       "      <td>4.089517</td>\n",
       "      <td>118.123983</td>\n",
       "      <td>118.263348</td>\n",
       "      <td>125.827936</td>\n",
       "      <td>111.080214</td>\n",
       "      <td>63.472808</td>\n",
       "      <td>63.472808</td>\n",
       "      <td>117.312370</td>\n",
       "      <td>11.545583</td>\n",
       "      <td>3.675925e+05</td>\n",
       "      <td>66.759425</td>\n",
       "      <td>69.925545</td>\n",
       "      <td>9.817273e+04</td>\n",
       "      <td>7.073740</td>\n",
       "      <td>4.067513</td>\n",
       "      <td>51.401272</td>\n",
       "    </tr>\n",
       "    <tr>\n",
       "      <th>min</th>\n",
       "      <td>27.470289</td>\n",
       "      <td>27.687547</td>\n",
       "      <td>27.366004</td>\n",
       "      <td>27.600643</td>\n",
       "      <td>1.913000e+05</td>\n",
       "      <td>28.469678</td>\n",
       "      <td>27.366004</td>\n",
       "      <td>4.171571e+05</td>\n",
       "      <td>28.089788</td>\n",
       "      <td>0.036782</td>\n",
       "      <td>-1.000000e+02</td>\n",
       "      <td>0.207927</td>\n",
       "      <td>-43.387152</td>\n",
       "      <td>-46.946157</td>\n",
       "      <td>27.986732</td>\n",
       "      <td>27.982607</td>\n",
       "      <td>28.607390</td>\n",
       "      <td>26.925503</td>\n",
       "      <td>8.037656</td>\n",
       "      <td>4.037656</td>\n",
       "      <td>28.221296</td>\n",
       "      <td>18.890778</td>\n",
       "      <td>0.000000e+00</td>\n",
       "      <td>-449.429295</td>\n",
       "      <td>-544.398188</td>\n",
       "      <td>1.202830e+01</td>\n",
       "      <td>-38.722400</td>\n",
       "      <td>-25.861245</td>\n",
       "      <td>-175.465054</td>\n",
       "    </tr>\n",
       "    <tr>\n",
       "      <th>25%</th>\n",
       "      <td>51.008257</td>\n",
       "      <td>51.559239</td>\n",
       "      <td>50.473342</td>\n",
       "      <td>51.045671</td>\n",
       "      <td>3.078475e+06</td>\n",
       "      <td>53.286771</td>\n",
       "      <td>48.426459</td>\n",
       "      <td>3.348832e+06</td>\n",
       "      <td>50.885908</td>\n",
       "      <td>1.087235</td>\n",
       "      <td>-7.400099e+01</td>\n",
       "      <td>1.076022</td>\n",
       "      <td>-0.685048</td>\n",
       "      <td>-0.675590</td>\n",
       "      <td>50.862148</td>\n",
       "      <td>50.957418</td>\n",
       "      <td>53.242673</td>\n",
       "      <td>48.434499</td>\n",
       "      <td>32.945979</td>\n",
       "      <td>28.945979</td>\n",
       "      <td>50.814430</td>\n",
       "      <td>47.799062</td>\n",
       "      <td>1.511242e+01</td>\n",
       "      <td>-30.860486</td>\n",
       "      <td>-31.399173</td>\n",
       "      <td>5.548101e+01</td>\n",
       "      <td>-1.775629</td>\n",
       "      <td>-0.096203</td>\n",
       "      <td>-25.406277</td>\n",
       "    </tr>\n",
       "    <tr>\n",
       "      <th>50%</th>\n",
       "      <td>131.651375</td>\n",
       "      <td>133.336992</td>\n",
       "      <td>129.891466</td>\n",
       "      <td>131.788840</td>\n",
       "      <td>8.778400e+06</td>\n",
       "      <td>137.536835</td>\n",
       "      <td>123.771597</td>\n",
       "      <td>9.247739e+06</td>\n",
       "      <td>130.669492</td>\n",
       "      <td>2.610393</td>\n",
       "      <td>-4.561395e+01</td>\n",
       "      <td>2.856430</td>\n",
       "      <td>0.094867</td>\n",
       "      <td>0.163937</td>\n",
       "      <td>130.466267</td>\n",
       "      <td>132.525317</td>\n",
       "      <td>137.203793</td>\n",
       "      <td>123.708644</td>\n",
       "      <td>47.428019</td>\n",
       "      <td>43.428019</td>\n",
       "      <td>131.683565</td>\n",
       "      <td>55.761720</td>\n",
       "      <td>3.602945e+01</td>\n",
       "      <td>5.794501</td>\n",
       "      <td>10.229095</td>\n",
       "      <td>8.266121e+01</td>\n",
       "      <td>2.105122</td>\n",
       "      <td>0.694059</td>\n",
       "      <td>24.568649</td>\n",
       "    </tr>\n",
       "    <tr>\n",
       "      <th>75%</th>\n",
       "      <td>219.588718</td>\n",
       "      <td>222.787591</td>\n",
       "      <td>216.339291</td>\n",
       "      <td>219.813892</td>\n",
       "      <td>2.191515e+07</td>\n",
       "      <td>231.339996</td>\n",
       "      <td>204.949997</td>\n",
       "      <td>2.306113e+07</td>\n",
       "      <td>218.896396</td>\n",
       "      <td>5.901053</td>\n",
       "      <td>-1.842753e+01</td>\n",
       "      <td>5.813570</td>\n",
       "      <td>1.058029</td>\n",
       "      <td>1.196552</td>\n",
       "      <td>218.371801</td>\n",
       "      <td>219.384064</td>\n",
       "      <td>232.252160</td>\n",
       "      <td>205.669071</td>\n",
       "      <td>69.301105</td>\n",
       "      <td>65.301105</td>\n",
       "      <td>218.631658</td>\n",
       "      <td>63.665667</td>\n",
       "      <td>8.054374e+01</td>\n",
       "      <td>42.661235</td>\n",
       "      <td>47.013004</td>\n",
       "      <td>1.435163e+02</td>\n",
       "      <td>5.813836</td>\n",
       "      <td>2.591635</td>\n",
       "      <td>55.344585</td>\n",
       "    </tr>\n",
       "    <tr>\n",
       "      <th>max</th>\n",
       "      <td>613.210022</td>\n",
       "      <td>614.900024</td>\n",
       "      <td>599.169983</td>\n",
       "      <td>606.840027</td>\n",
       "      <td>4.268848e+08</td>\n",
       "      <td>614.900024</td>\n",
       "      <td>559.659973</td>\n",
       "      <td>3.155055e+08</td>\n",
       "      <td>582.634290</td>\n",
       "      <td>41.908829</td>\n",
       "      <td>1.312337e-12</td>\n",
       "      <td>34.143489</td>\n",
       "      <td>59.619995</td>\n",
       "      <td>38.669998</td>\n",
       "      <td>579.551148</td>\n",
       "      <td>589.851623</td>\n",
       "      <td>635.333070</td>\n",
       "      <td>554.851308</td>\n",
       "      <td>5214.226377</td>\n",
       "      <td>5210.226377</td>\n",
       "      <td>574.697402</td>\n",
       "      <td>92.784113</td>\n",
       "      <td>2.327154e+07</td>\n",
       "      <td>607.968514</td>\n",
       "      <td>432.043602</td>\n",
       "      <td>1.662365e+06</td>\n",
       "      <td>53.437230</td>\n",
       "      <td>30.346531</td>\n",
       "      <td>523.611477</td>\n",
       "    </tr>\n",
       "  </tbody>\n",
       "</table>\n",
       "</div>"
      ],
      "text/plain": [
       "              Close          High           Low          Open        Volume            HH            LL            AV           SMA            SD         WILLR           ATR           DMH           DML           EMA          WMA        BBHIGH         BBLOW      PERBHIGH       PERBLOW        TRIMA          RSI            DX           PDI           NDI           ADX           ROC          MACD           CCI\n",
       "count  10070.000000  10070.000000  10070.000000  10070.000000  1.007000e+04  10070.000000  10070.000000  1.007000e+04  10070.000000  10060.000000  1.007000e+04  10070.000000  10070.000000  10070.000000  10070.000000  9940.000000  10060.000000  10060.000000  10060.000000  10060.000000  9940.000000  9930.000000  1.005900e+04  10070.000000  10070.000000  1.006000e+04  10070.000000  10070.000000  10060.000000\n",
       "mean     154.878748    156.726468    152.873772    154.880581  2.337453e+07    161.968212    144.465093  2.339096e+07    153.617582      4.355835 -4.691101e+01      4.303167      0.202864      0.195022    153.596989   154.126274    162.399815    144.976474     55.950286     51.950286   153.233930    55.496305  9.966524e+03      6.435271      5.755944  1.002698e+04      1.843882      1.405431     14.626565\n",
       "std      119.528878    121.145372    117.753569    119.589808  4.131775e+07    125.581011    110.729381  3.876413e+07    118.249647      4.910641  3.075218e+01      4.530700      3.865422      4.089517    118.123983   118.263348    125.827936    111.080214     63.472808     63.472808   117.312370    11.545583  3.675925e+05     66.759425     69.925545  9.817273e+04      7.073740      4.067513     51.401272\n",
       "min       27.470289     27.687547     27.366004     27.600643  1.913000e+05     28.469678     27.366004  4.171571e+05     28.089788      0.036782 -1.000000e+02      0.207927    -43.387152    -46.946157     27.986732    27.982607     28.607390     26.925503      8.037656      4.037656    28.221296    18.890778  0.000000e+00   -449.429295   -544.398188  1.202830e+01    -38.722400    -25.861245   -175.465054\n",
       "25%       51.008257     51.559239     50.473342     51.045671  3.078475e+06     53.286771     48.426459  3.348832e+06     50.885908      1.087235 -7.400099e+01      1.076022     -0.685048     -0.675590     50.862148    50.957418     53.242673     48.434499     32.945979     28.945979    50.814430    47.799062  1.511242e+01    -30.860486    -31.399173  5.548101e+01     -1.775629     -0.096203    -25.406277\n",
       "50%      131.651375    133.336992    129.891466    131.788840  8.778400e+06    137.536835    123.771597  9.247739e+06    130.669492      2.610393 -4.561395e+01      2.856430      0.094867      0.163937    130.466267   132.525317    137.203793    123.708644     47.428019     43.428019   131.683565    55.761720  3.602945e+01      5.794501     10.229095  8.266121e+01      2.105122      0.694059     24.568649\n",
       "75%      219.588718    222.787591    216.339291    219.813892  2.191515e+07    231.339996    204.949997  2.306113e+07    218.896396      5.901053 -1.842753e+01      5.813570      1.058029      1.196552    218.371801   219.384064    232.252160    205.669071     69.301105     65.301105   218.631658    63.665667  8.054374e+01     42.661235     47.013004  1.435163e+02      5.813836      2.591635     55.344585\n",
       "max      613.210022    614.900024    599.169983    606.840027  4.268848e+08    614.900024    559.659973  3.155055e+08    582.634290     41.908829  1.312337e-12     34.143489     59.619995     38.669998    579.551148   589.851623    635.333070    554.851308   5214.226377   5210.226377   574.697402    92.784113  2.327154e+07    607.968514    432.043602  1.662365e+06     53.437230     30.346531    523.611477"
      ]
     },
     "execution_count": 29,
     "metadata": {},
     "output_type": "execute_result"
    }
   ],
   "source": [
    "dataset.describe()"
   ]
  },
  {
   "cell_type": "code",
   "execution_count": 30,
   "id": "valued-girlfriend",
   "metadata": {},
   "outputs": [],
   "source": [
    "tickers = dataset['Ticker'].unique()"
   ]
  },
  {
   "cell_type": "code",
   "execution_count": 31,
   "id": "exceptional-private",
   "metadata": {},
   "outputs": [
    {
     "data": {
      "text/plain": [
       "Ticker        0\n",
       "Date          0\n",
       "Close         0\n",
       "High          0\n",
       "Low           0\n",
       "Open          0\n",
       "Volume        0\n",
       "HH            0\n",
       "LL            0\n",
       "AV            0\n",
       "SMA           0\n",
       "SD           10\n",
       "WILLR         0\n",
       "ATR           0\n",
       "DMH           0\n",
       "DML           0\n",
       "EMA           0\n",
       "WMA         130\n",
       "BBHIGH       10\n",
       "BBLOW        10\n",
       "PERBHIGH     10\n",
       "PERBLOW      10\n",
       "TRIMA       130\n",
       "RSI         140\n",
       "DX           11\n",
       "PDI           0\n",
       "NDI           0\n",
       "ADX          10\n",
       "ROC           0\n",
       "MACD          0\n",
       "CCI          10\n",
       "dtype: int64"
      ]
     },
     "execution_count": 31,
     "metadata": {},
     "output_type": "execute_result"
    }
   ],
   "source": [
    "dataset.isna().sum()"
   ]
  },
  {
   "cell_type": "markdown",
   "id": "attempted-nelson",
   "metadata": {},
   "source": [
    "### Choose features"
   ]
  },
  {
   "cell_type": "code",
   "execution_count": 32,
   "id": "massive-member",
   "metadata": {},
   "outputs": [
    {
     "data": {
      "text/html": [
       "<div>\n",
       "<style scoped>\n",
       "    .dataframe tbody tr th:only-of-type {\n",
       "        vertical-align: middle;\n",
       "    }\n",
       "\n",
       "    .dataframe tbody tr th {\n",
       "        vertical-align: top;\n",
       "    }\n",
       "\n",
       "    .dataframe thead th {\n",
       "        text-align: right;\n",
       "    }\n",
       "</style>\n",
       "<table border=\"1\" class=\"dataframe\">\n",
       "  <thead>\n",
       "    <tr style=\"text-align: right;\">\n",
       "      <th></th>\n",
       "      <th>Ticker</th>\n",
       "      <th>Date</th>\n",
       "      <th>Close</th>\n",
       "      <th>High</th>\n",
       "      <th>Low</th>\n",
       "      <th>Open</th>\n",
       "      <th>Volume</th>\n",
       "      <th>HH</th>\n",
       "      <th>LL</th>\n",
       "      <th>AV</th>\n",
       "      <th>SMA</th>\n",
       "      <th>SD</th>\n",
       "      <th>WILLR</th>\n",
       "      <th>ATR</th>\n",
       "      <th>DMH</th>\n",
       "      <th>DML</th>\n",
       "      <th>EMA</th>\n",
       "      <th>WMA</th>\n",
       "      <th>BBHIGH</th>\n",
       "      <th>BBLOW</th>\n",
       "      <th>PERBHIGH</th>\n",
       "      <th>PERBLOW</th>\n",
       "      <th>TRIMA</th>\n",
       "      <th>RSI</th>\n",
       "      <th>DX</th>\n",
       "      <th>PDI</th>\n",
       "      <th>NDI</th>\n",
       "      <th>ADX</th>\n",
       "      <th>ROC</th>\n",
       "      <th>MACD</th>\n",
       "      <th>CCI</th>\n",
       "    </tr>\n",
       "  </thead>\n",
       "  <tbody>\n",
       "    <tr>\n",
       "      <th>0</th>\n",
       "      <td>AAPL</td>\n",
       "      <td>2017-03-17</td>\n",
       "      <td>33.239635</td>\n",
       "      <td>33.479452</td>\n",
       "      <td>33.215890</td>\n",
       "      <td>33.479452</td>\n",
       "      <td>175540000.0</td>\n",
       "      <td>33.479452</td>\n",
       "      <td>33.215890</td>\n",
       "      <td>1.755400e+08</td>\n",
       "      <td>33.239635</td>\n",
       "      <td>NaN</td>\n",
       "      <td>-90.990446</td>\n",
       "      <td>0.263562</td>\n",
       "      <td>0.000000</td>\n",
       "      <td>0.000000</td>\n",
       "      <td>33.239635</td>\n",
       "      <td>NaN</td>\n",
       "      <td>NaN</td>\n",
       "      <td>NaN</td>\n",
       "      <td>NaN</td>\n",
       "      <td>NaN</td>\n",
       "      <td>NaN</td>\n",
       "      <td>NaN</td>\n",
       "      <td>NaN</td>\n",
       "      <td>0.000000</td>\n",
       "      <td>0.000000</td>\n",
       "      <td>NaN</td>\n",
       "      <td>0.000000</td>\n",
       "      <td>0.000000</td>\n",
       "      <td>NaN</td>\n",
       "    </tr>\n",
       "    <tr>\n",
       "      <th>1</th>\n",
       "      <td>AAPL</td>\n",
       "      <td>2017-03-20</td>\n",
       "      <td>33.588676</td>\n",
       "      <td>33.598173</td>\n",
       "      <td>33.296619</td>\n",
       "      <td>33.336984</td>\n",
       "      <td>86168000.0</td>\n",
       "      <td>33.598173</td>\n",
       "      <td>33.215890</td>\n",
       "      <td>1.308540e+08</td>\n",
       "      <td>33.414156</td>\n",
       "      <td>0.246809</td>\n",
       "      <td>-3.149067</td>\n",
       "      <td>0.311049</td>\n",
       "      <td>0.118721</td>\n",
       "      <td>0.080729</td>\n",
       "      <td>33.426622</td>\n",
       "      <td>NaN</td>\n",
       "      <td>33.907774</td>\n",
       "      <td>32.920537</td>\n",
       "      <td>137.384538</td>\n",
       "      <td>133.384538</td>\n",
       "      <td>NaN</td>\n",
       "      <td>NaN</td>\n",
       "      <td>19.048211</td>\n",
       "      <td>38.167907</td>\n",
       "      <td>25.953858</td>\n",
       "      <td>19.048211</td>\n",
       "      <td>1.050075</td>\n",
       "      <td>0.006233</td>\n",
       "      <td>5.985703</td>\n",
       "    </tr>\n",
       "    <tr>\n",
       "      <th>2</th>\n",
       "      <td>AAPL</td>\n",
       "      <td>2017-03-21</td>\n",
       "      <td>33.204002</td>\n",
       "      <td>33.906835</td>\n",
       "      <td>33.177884</td>\n",
       "      <td>33.742999</td>\n",
       "      <td>158119600.0</td>\n",
       "      <td>33.906835</td>\n",
       "      <td>33.177884</td>\n",
       "      <td>1.399425e+08</td>\n",
       "      <td>33.344105</td>\n",
       "      <td>0.212553</td>\n",
       "      <td>-96.416927</td>\n",
       "      <td>0.450350</td>\n",
       "      <td>0.308662</td>\n",
       "      <td>-0.118736</td>\n",
       "      <td>33.341580</td>\n",
       "      <td>NaN</td>\n",
       "      <td>33.769211</td>\n",
       "      <td>32.918998</td>\n",
       "      <td>158.874076</td>\n",
       "      <td>154.874076</td>\n",
       "      <td>NaN</td>\n",
       "      <td>NaN</td>\n",
       "      <td>225.033073</td>\n",
       "      <td>68.538274</td>\n",
       "      <td>-26.365166</td>\n",
       "      <td>122.040642</td>\n",
       "      <td>-0.107201</td>\n",
       "      <td>-0.001468</td>\n",
       "      <td>41.454561</td>\n",
       "    </tr>\n",
       "    <tr>\n",
       "      <th>3</th>\n",
       "      <td>AAPL</td>\n",
       "      <td>2017-03-22</td>\n",
       "      <td>33.579170</td>\n",
       "      <td>33.621912</td>\n",
       "      <td>33.185014</td>\n",
       "      <td>33.206387</td>\n",
       "      <td>103440800.0</td>\n",
       "      <td>33.906835</td>\n",
       "      <td>33.177884</td>\n",
       "      <td>1.308171e+08</td>\n",
       "      <td>33.402871</td>\n",
       "      <td>0.209603</td>\n",
       "      <td>-9.782978</td>\n",
       "      <td>0.446987</td>\n",
       "      <td>-0.284923</td>\n",
       "      <td>0.007131</td>\n",
       "      <td>33.414266</td>\n",
       "      <td>NaN</td>\n",
       "      <td>33.822076</td>\n",
       "      <td>32.983666</td>\n",
       "      <td>161.362926</td>\n",
       "      <td>157.362926</td>\n",
       "      <td>NaN</td>\n",
       "      <td>NaN</td>\n",
       "      <td>105.133814</td>\n",
       "      <td>-63.743001</td>\n",
       "      <td>1.595274</td>\n",
       "      <td>116.405033</td>\n",
       "      <td>1.021476</td>\n",
       "      <td>0.005717</td>\n",
       "      <td>0.125503</td>\n",
       "    </tr>\n",
       "    <tr>\n",
       "      <th>4</th>\n",
       "      <td>AAPL</td>\n",
       "      <td>2017-03-23</td>\n",
       "      <td>33.460449</td>\n",
       "      <td>33.617162</td>\n",
       "      <td>33.386843</td>\n",
       "      <td>33.541179</td>\n",
       "      <td>81385200.0</td>\n",
       "      <td>33.906835</td>\n",
       "      <td>33.177884</td>\n",
       "      <td>1.209307e+08</td>\n",
       "      <td>33.414387</td>\n",
       "      <td>0.183338</td>\n",
       "      <td>-68.041529</td>\n",
       "      <td>0.403654</td>\n",
       "      <td>-0.004749</td>\n",
       "      <td>0.201828</td>\n",
       "      <td>33.426315</td>\n",
       "      <td>NaN</td>\n",
       "      <td>33.781063</td>\n",
       "      <td>33.047710</td>\n",
       "      <td>184.255279</td>\n",
       "      <td>180.255279</td>\n",
       "      <td>NaN</td>\n",
       "      <td>NaN</td>\n",
       "      <td>104.819840</td>\n",
       "      <td>-1.176614</td>\n",
       "      <td>50.000385</td>\n",
       "      <td>113.508735</td>\n",
       "      <td>0.664309</td>\n",
       "      <td>0.005852</td>\n",
       "      <td>21.239585</td>\n",
       "    </tr>\n",
       "  </tbody>\n",
       "</table>\n",
       "</div>"
      ],
      "text/plain": [
       "  Ticker       Date      Close       High        Low       Open       Volume         HH         LL            AV        SMA        SD      WILLR       ATR       DMH       DML        EMA  WMA     BBHIGH      BBLOW    PERBHIGH     PERBLOW  TRIMA  RSI          DX        PDI        NDI         ADX       ROC      MACD        CCI\n",
       "0   AAPL 2017-03-17  33.239635  33.479452  33.215890  33.479452  175540000.0  33.479452  33.215890  1.755400e+08  33.239635       NaN -90.990446  0.263562  0.000000  0.000000  33.239635  NaN        NaN        NaN         NaN         NaN    NaN  NaN         NaN   0.000000   0.000000         NaN  0.000000  0.000000        NaN\n",
       "1   AAPL 2017-03-20  33.588676  33.598173  33.296619  33.336984   86168000.0  33.598173  33.215890  1.308540e+08  33.414156  0.246809  -3.149067  0.311049  0.118721  0.080729  33.426622  NaN  33.907774  32.920537  137.384538  133.384538    NaN  NaN   19.048211  38.167907  25.953858   19.048211  1.050075  0.006233   5.985703\n",
       "2   AAPL 2017-03-21  33.204002  33.906835  33.177884  33.742999  158119600.0  33.906835  33.177884  1.399425e+08  33.344105  0.212553 -96.416927  0.450350  0.308662 -0.118736  33.341580  NaN  33.769211  32.918998  158.874076  154.874076    NaN  NaN  225.033073  68.538274 -26.365166  122.040642 -0.107201 -0.001468  41.454561\n",
       "3   AAPL 2017-03-22  33.579170  33.621912  33.185014  33.206387  103440800.0  33.906835  33.177884  1.308171e+08  33.402871  0.209603  -9.782978  0.446987 -0.284923  0.007131  33.414266  NaN  33.822076  32.983666  161.362926  157.362926    NaN  NaN  105.133814 -63.743001   1.595274  116.405033  1.021476  0.005717   0.125503\n",
       "4   AAPL 2017-03-23  33.460449  33.617162  33.386843  33.541179   81385200.0  33.906835  33.177884  1.209307e+08  33.414387  0.183338 -68.041529  0.403654 -0.004749  0.201828  33.426315  NaN  33.781063  33.047710  184.255279  180.255279    NaN  NaN  104.819840  -1.176614  50.000385  113.508735  0.664309  0.005852  21.239585"
      ]
     },
     "execution_count": 32,
     "metadata": {},
     "output_type": "execute_result"
    }
   ],
   "source": [
    "dataset.head()"
   ]
  },
  {
   "cell_type": "code",
   "execution_count": 33,
   "id": "unavailable-gnome",
   "metadata": {},
   "outputs": [
    {
     "data": {
      "text/plain": [
       "['Ticker',\n",
       " 'Date',\n",
       " 'Close',\n",
       " 'High',\n",
       " 'Low',\n",
       " 'Open',\n",
       " 'Volume',\n",
       " 'HH',\n",
       " 'LL',\n",
       " 'AV',\n",
       " 'SMA',\n",
       " 'SD',\n",
       " 'WILLR',\n",
       " 'ATR',\n",
       " 'DMH',\n",
       " 'DML',\n",
       " 'EMA',\n",
       " 'WMA',\n",
       " 'BBHIGH',\n",
       " 'BBLOW',\n",
       " 'PERBHIGH',\n",
       " 'PERBLOW',\n",
       " 'TRIMA',\n",
       " 'RSI',\n",
       " 'DX',\n",
       " 'PDI',\n",
       " 'NDI',\n",
       " 'ADX',\n",
       " 'ROC',\n",
       " 'MACD',\n",
       " 'CCI']"
      ]
     },
     "execution_count": 33,
     "metadata": {},
     "output_type": "execute_result"
    }
   ],
   "source": [
    "dataset.columns.tolist()"
   ]
  },
  {
   "cell_type": "code",
   "execution_count": 34,
   "id": "unlikely-pottery",
   "metadata": {},
   "outputs": [],
   "source": [
    "features = ['Close', 'High',\n",
    " 'Low', 'Open', 'Volume', ]\n",
    "#  'HH', 'LL', 'AV',\n",
    "#  'SMA', 'SD', 'WILLR',\n",
    "#  'ATR', 'DMH', 'DML',\n",
    "#  'EMA', 'WMA', 'BBHIGH',\n",
    "#  'BBLOW', 'PERBHIGH', 'PERBLOW',\n",
    "#  'TRIMA', 'RSI', 'DX',\n",
    "#  'PDI', 'NDI', 'ADX',\n",
    "#  'ROC', 'MACD', 'CCI']\n",
    "dataset = dataset[['Ticker', 'Date'] + features]\n",
    "num_features = len(features)"
   ]
  },
  {
   "cell_type": "markdown",
   "id": "arbitrary-institute",
   "metadata": {},
   "source": [
    "### Normalization\n",
    "We want to normalize the prices, and there are two challenges\n",
    "1. We want to be able to recover performance metrics like RMSE in dollars, so we have to have the saved transforms for closing price to un transform after prediction. \n",
    "2. We will want to normalize the data within each year, because the stock will tend to have different averages in different years\n",
    "3. We will want to normalize each different company differently, because the stocks will be of differing magnitudes"
   ]
  },
  {
   "cell_type": "code",
   "execution_count": 35,
   "id": "exotic-karen",
   "metadata": {},
   "outputs": [
    {
     "name": "stderr",
     "output_type": "stream",
     "text": [
      "<ipython-input-35-127d150588a5>:4: SettingWithCopyWarning: \n",
      "A value is trying to be set on a copy of a slice from a DataFrame.\n",
      "Try using .loc[row_indexer,col_indexer] = value instead\n",
      "\n",
      "See the caveats in the documentation: https://pandas.pydata.org/pandas-docs/stable/user_guide/indexing.html#returning-a-view-versus-a-copy\n",
      "  dataset[features] = sc.fit_transform(dataset[features])\n",
      "C:\\Users\\jaker\\miniconda3\\envs\\finance\\lib\\site-packages\\pandas\\core\\indexing.py:1738: SettingWithCopyWarning: \n",
      "A value is trying to be set on a copy of a slice from a DataFrame.\n",
      "Try using .loc[row_indexer,col_indexer] = value instead\n",
      "\n",
      "See the caveats in the documentation: https://pandas.pydata.org/pandas-docs/stable/user_guide/indexing.html#returning-a-view-versus-a-copy\n",
      "  self._setitem_single_column(loc, value[:, i].tolist(), pi)\n"
     ]
    }
   ],
   "source": [
    "# simple one normalizing model approach\n",
    "\n",
    "sc = RobustScaler()\n",
    "dataset[features] = sc.fit_transform(dataset[features])"
   ]
  },
  {
   "cell_type": "code",
   "execution_count": 36,
   "id": "persistent-johnston",
   "metadata": {},
   "outputs": [
    {
     "data": {
      "text/html": [
       "<div>\n",
       "<style scoped>\n",
       "    .dataframe tbody tr th:only-of-type {\n",
       "        vertical-align: middle;\n",
       "    }\n",
       "\n",
       "    .dataframe tbody tr th {\n",
       "        vertical-align: top;\n",
       "    }\n",
       "\n",
       "    .dataframe thead th {\n",
       "        text-align: right;\n",
       "    }\n",
       "</style>\n",
       "<table border=\"1\" class=\"dataframe\">\n",
       "  <thead>\n",
       "    <tr style=\"text-align: right;\">\n",
       "      <th></th>\n",
       "      <th>Close</th>\n",
       "      <th>High</th>\n",
       "      <th>Low</th>\n",
       "      <th>Open</th>\n",
       "      <th>Volume</th>\n",
       "    </tr>\n",
       "  </thead>\n",
       "  <tbody>\n",
       "    <tr>\n",
       "      <th>count</th>\n",
       "      <td>10070.000000</td>\n",
       "      <td>10070.000000</td>\n",
       "      <td>1.007000e+04</td>\n",
       "      <td>10070.000000</td>\n",
       "      <td>10070.000000</td>\n",
       "    </tr>\n",
       "    <tr>\n",
       "      <th>mean</th>\n",
       "      <td>0.137782</td>\n",
       "      <td>0.136598</td>\n",
       "      <td>1.385595e-01</td>\n",
       "      <td>0.136825</td>\n",
       "      <td>0.774878</td>\n",
       "    </tr>\n",
       "    <tr>\n",
       "      <th>std</th>\n",
       "      <td>0.709032</td>\n",
       "      <td>0.707508</td>\n",
       "      <td>7.099321e-01</td>\n",
       "      <td>0.708604</td>\n",
       "      <td>2.193474</td>\n",
       "    </tr>\n",
       "    <tr>\n",
       "      <th>min</th>\n",
       "      <td>-0.617990</td>\n",
       "      <td>-0.617009</td>\n",
       "      <td>-6.181224e-01</td>\n",
       "      <td>-0.617345</td>\n",
       "      <td>-0.455871</td>\n",
       "    </tr>\n",
       "    <tr>\n",
       "      <th>25%</th>\n",
       "      <td>-0.478366</td>\n",
       "      <td>-0.477595</td>\n",
       "      <td>-4.788091e-01</td>\n",
       "      <td>-0.478426</td>\n",
       "      <td>-0.302597</td>\n",
       "    </tr>\n",
       "    <tr>\n",
       "      <th>50%</th>\n",
       "      <td>0.000000</td>\n",
       "      <td>0.000000</td>\n",
       "      <td>-8.567908e-17</td>\n",
       "      <td>0.000000</td>\n",
       "      <td>0.000000</td>\n",
       "    </tr>\n",
       "    <tr>\n",
       "      <th>75%</th>\n",
       "      <td>0.521634</td>\n",
       "      <td>0.522405</td>\n",
       "      <td>5.211909e-01</td>\n",
       "      <td>0.521574</td>\n",
       "      <td>0.697403</td>\n",
       "    </tr>\n",
       "    <tr>\n",
       "      <th>max</th>\n",
       "      <td>2.856551</td>\n",
       "      <td>2.812402</td>\n",
       "      <td>2.829264e+00</td>\n",
       "      <td>2.814814</td>\n",
       "      <td>22.196401</td>\n",
       "    </tr>\n",
       "  </tbody>\n",
       "</table>\n",
       "</div>"
      ],
      "text/plain": [
       "              Close          High           Low          Open        Volume\n",
       "count  10070.000000  10070.000000  1.007000e+04  10070.000000  10070.000000\n",
       "mean       0.137782      0.136598  1.385595e-01      0.136825      0.774878\n",
       "std        0.709032      0.707508  7.099321e-01      0.708604      2.193474\n",
       "min       -0.617990     -0.617009 -6.181224e-01     -0.617345     -0.455871\n",
       "25%       -0.478366     -0.477595 -4.788091e-01     -0.478426     -0.302597\n",
       "50%        0.000000      0.000000 -8.567908e-17      0.000000      0.000000\n",
       "75%        0.521634      0.522405  5.211909e-01      0.521574      0.697403\n",
       "max        2.856551      2.812402  2.829264e+00      2.814814     22.196401"
      ]
     },
     "execution_count": 36,
     "metadata": {},
     "output_type": "execute_result"
    }
   ],
   "source": [
    "dataset.describe()"
   ]
  },
  {
   "cell_type": "markdown",
   "id": "nearby-coupon",
   "metadata": {},
   "source": [
    "### Train test split"
   ]
  },
  {
   "cell_type": "code",
   "execution_count": 37,
   "id": "provincial-combination",
   "metadata": {},
   "outputs": [],
   "source": [
    "train = dataset.loc[dataset['Date'] < \"2020-03-13\"]\n",
    "test = dataset.loc[dataset['Date'] > \"2020-03-13\"]"
   ]
  },
  {
   "cell_type": "code",
   "execution_count": 38,
   "id": "severe-pierre",
   "metadata": {},
   "outputs": [
    {
     "data": {
      "text/html": [
       "<div>\n",
       "<style scoped>\n",
       "    .dataframe tbody tr th:only-of-type {\n",
       "        vertical-align: middle;\n",
       "    }\n",
       "\n",
       "    .dataframe tbody tr th {\n",
       "        vertical-align: top;\n",
       "    }\n",
       "\n",
       "    .dataframe thead th {\n",
       "        text-align: right;\n",
       "    }\n",
       "</style>\n",
       "<table border=\"1\" class=\"dataframe\">\n",
       "  <thead>\n",
       "    <tr style=\"text-align: right;\">\n",
       "      <th></th>\n",
       "      <th>Ticker</th>\n",
       "      <th>Date</th>\n",
       "      <th>Close</th>\n",
       "      <th>High</th>\n",
       "      <th>Low</th>\n",
       "      <th>Open</th>\n",
       "      <th>Volume</th>\n",
       "    </tr>\n",
       "  </thead>\n",
       "  <tbody>\n",
       "    <tr>\n",
       "      <th>0</th>\n",
       "      <td>AAPL</td>\n",
       "      <td>2017-03-17</td>\n",
       "      <td>-0.583767</td>\n",
       "      <td>-0.583183</td>\n",
       "      <td>-0.582854</td>\n",
       "      <td>-0.582511</td>\n",
       "      <td>8.853027</td>\n",
       "    </tr>\n",
       "    <tr>\n",
       "      <th>1</th>\n",
       "      <td>AAPL</td>\n",
       "      <td>2017-03-20</td>\n",
       "      <td>-0.581697</td>\n",
       "      <td>-0.582490</td>\n",
       "      <td>-0.582367</td>\n",
       "      <td>-0.583355</td>\n",
       "      <td>4.108453</td>\n",
       "    </tr>\n",
       "    <tr>\n",
       "      <th>2</th>\n",
       "      <td>AAPL</td>\n",
       "      <td>2017-03-21</td>\n",
       "      <td>-0.583979</td>\n",
       "      <td>-0.580687</td>\n",
       "      <td>-0.583083</td>\n",
       "      <td>-0.580950</td>\n",
       "      <td>7.928215</td>\n",
       "    </tr>\n",
       "    <tr>\n",
       "      <th>3</th>\n",
       "      <td>AAPL</td>\n",
       "      <td>2017-03-22</td>\n",
       "      <td>-0.581753</td>\n",
       "      <td>-0.582351</td>\n",
       "      <td>-0.583040</td>\n",
       "      <td>-0.584129</td>\n",
       "      <td>5.025430</td>\n",
       "    </tr>\n",
       "    <tr>\n",
       "      <th>4</th>\n",
       "      <td>AAPL</td>\n",
       "      <td>2017-03-23</td>\n",
       "      <td>-0.582457</td>\n",
       "      <td>-0.582379</td>\n",
       "      <td>-0.581823</td>\n",
       "      <td>-0.582146</td>\n",
       "      <td>3.854544</td>\n",
       "    </tr>\n",
       "  </tbody>\n",
       "</table>\n",
       "</div>"
      ],
      "text/plain": [
       "  Ticker       Date     Close      High       Low      Open    Volume\n",
       "0   AAPL 2017-03-17 -0.583767 -0.583183 -0.582854 -0.582511  8.853027\n",
       "1   AAPL 2017-03-20 -0.581697 -0.582490 -0.582367 -0.583355  4.108453\n",
       "2   AAPL 2017-03-21 -0.583979 -0.580687 -0.583083 -0.580950  7.928215\n",
       "3   AAPL 2017-03-22 -0.581753 -0.582351 -0.583040 -0.584129  5.025430\n",
       "4   AAPL 2017-03-23 -0.582457 -0.582379 -0.581823 -0.582146  3.854544"
      ]
     },
     "execution_count": 38,
     "metadata": {},
     "output_type": "execute_result"
    }
   ],
   "source": [
    "train.head()"
   ]
  },
  {
   "cell_type": "code",
   "execution_count": 39,
   "id": "returning-royal",
   "metadata": {},
   "outputs": [
    {
     "data": {
      "text/html": [
       "<div>\n",
       "<style scoped>\n",
       "    .dataframe tbody tr th:only-of-type {\n",
       "        vertical-align: middle;\n",
       "    }\n",
       "\n",
       "    .dataframe tbody tr th {\n",
       "        vertical-align: top;\n",
       "    }\n",
       "\n",
       "    .dataframe thead th {\n",
       "        text-align: right;\n",
       "    }\n",
       "</style>\n",
       "<table border=\"1\" class=\"dataframe\">\n",
       "  <thead>\n",
       "    <tr style=\"text-align: right;\">\n",
       "      <th></th>\n",
       "      <th>Ticker</th>\n",
       "      <th>Date</th>\n",
       "      <th>Close</th>\n",
       "      <th>High</th>\n",
       "      <th>Low</th>\n",
       "      <th>Open</th>\n",
       "      <th>Volume</th>\n",
       "    </tr>\n",
       "  </thead>\n",
       "  <tbody>\n",
       "    <tr>\n",
       "      <th>753</th>\n",
       "      <td>AAPL</td>\n",
       "      <td>2020-03-16</td>\n",
       "      <td>-0.424513</td>\n",
       "      <td>-0.403351</td>\n",
       "      <td>-0.424156</td>\n",
       "      <td>-0.425238</td>\n",
       "      <td>16.650773</td>\n",
       "    </tr>\n",
       "    <tr>\n",
       "      <th>754</th>\n",
       "      <td>AAPL</td>\n",
       "      <td>2020-03-17</td>\n",
       "      <td>-0.408841</td>\n",
       "      <td>-0.405481</td>\n",
       "      <td>-0.426549</td>\n",
       "      <td>-0.417065</td>\n",
       "      <td>16.737434</td>\n",
       "    </tr>\n",
       "    <tr>\n",
       "      <th>755</th>\n",
       "      <td>AAPL</td>\n",
       "      <td>2020-03-18</td>\n",
       "      <td>-0.417950</td>\n",
       "      <td>-0.416507</td>\n",
       "      <td>-0.428463</td>\n",
       "      <td>-0.428442</td>\n",
       "      <td>15.472752</td>\n",
       "    </tr>\n",
       "    <tr>\n",
       "      <th>756</th>\n",
       "      <td>AAPL</td>\n",
       "      <td>2020-03-19</td>\n",
       "      <td>-0.420731</td>\n",
       "      <td>-0.412392</td>\n",
       "      <td>-0.420252</td>\n",
       "      <td>-0.417241</td>\n",
       "      <td>13.966308</td>\n",
       "    </tr>\n",
       "    <tr>\n",
       "      <th>757</th>\n",
       "      <td>AAPL</td>\n",
       "      <td>2020-03-20</td>\n",
       "      <td>-0.443599</td>\n",
       "      <td>-0.413855</td>\n",
       "      <td>-0.442103</td>\n",
       "      <td>-0.417550</td>\n",
       "      <td>20.859032</td>\n",
       "    </tr>\n",
       "  </tbody>\n",
       "</table>\n",
       "</div>"
      ],
      "text/plain": [
       "    Ticker       Date     Close      High       Low      Open     Volume\n",
       "753   AAPL 2020-03-16 -0.424513 -0.403351 -0.424156 -0.425238  16.650773\n",
       "754   AAPL 2020-03-17 -0.408841 -0.405481 -0.426549 -0.417065  16.737434\n",
       "755   AAPL 2020-03-18 -0.417950 -0.416507 -0.428463 -0.428442  15.472752\n",
       "756   AAPL 2020-03-19 -0.420731 -0.412392 -0.420252 -0.417241  13.966308\n",
       "757   AAPL 2020-03-20 -0.443599 -0.413855 -0.442103 -0.417550  20.859032"
      ]
     },
     "execution_count": 39,
     "metadata": {},
     "output_type": "execute_result"
    }
   ],
   "source": [
    "test.head()"
   ]
  },
  {
   "cell_type": "code",
   "execution_count": 40,
   "id": "australian-egyptian",
   "metadata": {},
   "outputs": [
    {
     "data": {
      "text/plain": [
       "<AxesSubplot:xlabel='Date'>"
      ]
     },
     "execution_count": 40,
     "metadata": {},
     "output_type": "execute_result"
    },
    {
     "data": {
      "image/png": "[encoded data removed]",
      "text/plain": [
       "<Figure size 432x288 with 1 Axes>"
      ]
     },
     "metadata": {
      "needs_background": "light"
     },
     "output_type": "display_data"
    }
   ],
   "source": [
    "train.loc[dataset['Ticker']=='MSFT', ['Date', 'Close']].set_index('Date').plot()"
   ]
  },
  {
   "cell_type": "code",
   "execution_count": 41,
   "id": "colonial-regard",
   "metadata": {},
   "outputs": [
    {
     "data": {
      "text/plain": [
       "<AxesSubplot:xlabel='Date'>"
      ]
     },
     "execution_count": 41,
     "metadata": {},
     "output_type": "execute_result"
    },
    {
     "data": {
      "image/png": "[encoded data removed]",
      "text/plain": [
       "<Figure size 432x288 with 1 Axes>"
      ]
     },
     "metadata": {
      "needs_background": "light"
     },
     "output_type": "display_data"
    }
   ],
   "source": [
    "test.loc[dataset['Ticker']=='MSFT', ['Date', 'Close']].set_index('Date').plot()"
   ]
  },
  {
   "cell_type": "markdown",
   "id": "sixth-filter",
   "metadata": {},
   "source": [
    "### Convert one stock into x and y format for input to model"
   ]
  },
  {
   "cell_type": "code",
   "execution_count": 42,
   "id": "swiss-penny",
   "metadata": {},
   "outputs": [],
   "source": [
    "\n",
    "def apply_rolling(stock, trail_size):\n",
    "    x = []\n",
    "    y = []\n",
    "    for i in range(trail_size, len(stock) + 1 - predict_length):\n",
    "        x_point = stock.drop(columns=['Date', 'Ticker']).iloc[i-trail_size : i].values\n",
    "        y_point = stock['Close'].iloc[i + predict_length -1]\n",
    "        \n",
    "        if np.isnan(x_point).sum() ==0:\n",
    "            x.append(x_point)\n",
    "            y.append(y_point)\n",
    "    \n",
    "    return np.array(x), np.array(y)"
   ]
  },
  {
   "cell_type": "code",
   "execution_count": 43,
   "id": "digital-effect",
   "metadata": {},
   "outputs": [],
   "source": [
    "x, y = apply_rolling(dataset.loc[dataset['Ticker']=='AAPL'], trail_size=3)"
   ]
  },
  {
   "cell_type": "code",
   "execution_count": 44,
   "id": "abandoned-associate",
   "metadata": {},
   "outputs": [
    {
     "data": {
      "text/html": [
       "<div>\n",
       "<style scoped>\n",
       "    .dataframe tbody tr th:only-of-type {\n",
       "        vertical-align: middle;\n",
       "    }\n",
       "\n",
       "    .dataframe tbody tr th {\n",
       "        vertical-align: top;\n",
       "    }\n",
       "\n",
       "    .dataframe thead th {\n",
       "        text-align: right;\n",
       "    }\n",
       "</style>\n",
       "<table border=\"1\" class=\"dataframe\">\n",
       "  <thead>\n",
       "    <tr style=\"text-align: right;\">\n",
       "      <th></th>\n",
       "      <th>Ticker</th>\n",
       "      <th>Date</th>\n",
       "      <th>Close</th>\n",
       "      <th>High</th>\n",
       "      <th>Low</th>\n",
       "      <th>Open</th>\n",
       "      <th>Volume</th>\n",
       "    </tr>\n",
       "  </thead>\n",
       "  <tbody>\n",
       "    <tr>\n",
       "      <th>0</th>\n",
       "      <td>AAPL</td>\n",
       "      <td>2017-03-17</td>\n",
       "      <td>-0.583767</td>\n",
       "      <td>-0.583183</td>\n",
       "      <td>-0.582854</td>\n",
       "      <td>-0.582511</td>\n",
       "      <td>8.853027</td>\n",
       "    </tr>\n",
       "    <tr>\n",
       "      <th>1</th>\n",
       "      <td>AAPL</td>\n",
       "      <td>2017-03-20</td>\n",
       "      <td>-0.581697</td>\n",
       "      <td>-0.582490</td>\n",
       "      <td>-0.582367</td>\n",
       "      <td>-0.583355</td>\n",
       "      <td>4.108453</td>\n",
       "    </tr>\n",
       "    <tr>\n",
       "      <th>2</th>\n",
       "      <td>AAPL</td>\n",
       "      <td>2017-03-21</td>\n",
       "      <td>-0.583979</td>\n",
       "      <td>-0.580687</td>\n",
       "      <td>-0.583083</td>\n",
       "      <td>-0.580950</td>\n",
       "      <td>7.928215</td>\n",
       "    </tr>\n",
       "    <tr>\n",
       "      <th>3</th>\n",
       "      <td>AAPL</td>\n",
       "      <td>2017-03-22</td>\n",
       "      <td>-0.581753</td>\n",
       "      <td>-0.582351</td>\n",
       "      <td>-0.583040</td>\n",
       "      <td>-0.584129</td>\n",
       "      <td>5.025430</td>\n",
       "    </tr>\n",
       "    <tr>\n",
       "      <th>4</th>\n",
       "      <td>AAPL</td>\n",
       "      <td>2017-03-23</td>\n",
       "      <td>-0.582457</td>\n",
       "      <td>-0.582379</td>\n",
       "      <td>-0.581823</td>\n",
       "      <td>-0.582146</td>\n",
       "      <td>3.854544</td>\n",
       "    </tr>\n",
       "    <tr>\n",
       "      <th>...</th>\n",
       "      <td>...</td>\n",
       "      <td>...</td>\n",
       "      <td>...</td>\n",
       "      <td>...</td>\n",
       "      <td>...</td>\n",
       "      <td>...</td>\n",
       "      <td>...</td>\n",
       "    </tr>\n",
       "    <tr>\n",
       "      <th>1002</th>\n",
       "      <td>AAPL</td>\n",
       "      <td>2021-03-11</td>\n",
       "      <td>-0.057488</td>\n",
       "      <td>-0.059143</td>\n",
       "      <td>-0.052039</td>\n",
       "      <td>-0.054802</td>\n",
       "      <td>4.988948</td>\n",
       "    </tr>\n",
       "    <tr>\n",
       "      <th>1003</th>\n",
       "      <td>AAPL</td>\n",
       "      <td>2021-03-12</td>\n",
       "      <td>-0.063005</td>\n",
       "      <td>-0.071057</td>\n",
       "      <td>-0.064700</td>\n",
       "      <td>-0.067482</td>\n",
       "      <td>4.203767</td>\n",
       "    </tr>\n",
       "    <tr>\n",
       "      <th>1004</th>\n",
       "      <td>AAPL</td>\n",
       "      <td>2021-03-15</td>\n",
       "      <td>-0.045446</td>\n",
       "      <td>-0.054529</td>\n",
       "      <td>-0.057103</td>\n",
       "      <td>-0.061498</td>\n",
       "      <td>4.439499</td>\n",
       "    </tr>\n",
       "    <tr>\n",
       "      <th>1005</th>\n",
       "      <td>AAPL</td>\n",
       "      <td>2021-03-16</td>\n",
       "      <td>-0.036074</td>\n",
       "      <td>-0.035724</td>\n",
       "      <td>-0.031179</td>\n",
       "      <td>-0.036078</td>\n",
       "      <td>5.625282</td>\n",
       "    </tr>\n",
       "    <tr>\n",
       "      <th>1006</th>\n",
       "      <td>AAPL</td>\n",
       "      <td>2021-03-17</td>\n",
       "      <td>-0.037349</td>\n",
       "      <td>-0.043667</td>\n",
       "      <td>-0.045528</td>\n",
       "      <td>-0.045855</td>\n",
       "      <td>4.441004</td>\n",
       "    </tr>\n",
       "  </tbody>\n",
       "</table>\n",
       "<p>1007 rows × 7 columns</p>\n",
       "</div>"
      ],
      "text/plain": [
       "     Ticker       Date     Close      High       Low      Open    Volume\n",
       "0      AAPL 2017-03-17 -0.583767 -0.583183 -0.582854 -0.582511  8.853027\n",
       "1      AAPL 2017-03-20 -0.581697 -0.582490 -0.582367 -0.583355  4.108453\n",
       "2      AAPL 2017-03-21 -0.583979 -0.580687 -0.583083 -0.580950  7.928215\n",
       "3      AAPL 2017-03-22 -0.581753 -0.582351 -0.583040 -0.584129  5.025430\n",
       "4      AAPL 2017-03-23 -0.582457 -0.582379 -0.581823 -0.582146  3.854544\n",
       "...     ...        ...       ...       ...       ...       ...       ...\n",
       "1002   AAPL 2021-03-11 -0.057488 -0.059143 -0.052039 -0.054802  4.988948\n",
       "1003   AAPL 2021-03-12 -0.063005 -0.071057 -0.064700 -0.067482  4.203767\n",
       "1004   AAPL 2021-03-15 -0.045446 -0.054529 -0.057103 -0.061498  4.439499\n",
       "1005   AAPL 2021-03-16 -0.036074 -0.035724 -0.031179 -0.036078  5.625282\n",
       "1006   AAPL 2021-03-17 -0.037349 -0.043667 -0.045528 -0.045855  4.441004\n",
       "\n",
       "[1007 rows x 7 columns]"
      ]
     },
     "execution_count": 44,
     "metadata": {},
     "output_type": "execute_result"
    }
   ],
   "source": [
    "dataset.loc[dataset['Ticker']=='AAPL']"
   ]
  },
  {
   "cell_type": "code",
   "execution_count": 45,
   "id": "civic-battery",
   "metadata": {},
   "outputs": [
    {
     "data": {
      "text/plain": [
       "(1000, 3, 5)"
      ]
     },
     "execution_count": 45,
     "metadata": {},
     "output_type": "execute_result"
    }
   ],
   "source": [
    "x.shape"
   ]
  },
  {
   "cell_type": "code",
   "execution_count": 46,
   "id": "super-retail",
   "metadata": {},
   "outputs": [
    {
     "data": {
      "text/plain": [
       "(1000,)"
      ]
     },
     "execution_count": 46,
     "metadata": {},
     "output_type": "execute_result"
    }
   ],
   "source": [
    "y.shape"
   ]
  },
  {
   "cell_type": "markdown",
   "id": "broken-crowd",
   "metadata": {},
   "source": [
    "### Convert all stocks into x and y for model input"
   ]
  },
  {
   "cell_type": "code",
   "execution_count": 47,
   "id": "neutral-independence",
   "metadata": {},
   "outputs": [],
   "source": [
    "def roll_all_stocks(dataset, trail_size):\n",
    "    res = dataset.groupby('Ticker').apply(lambda x: apply_rolling(x, trail_size=trail_size))\n",
    "    x = [x[0] for x in res.values]\n",
    "    y = [x[1] for x in res.values]\n",
    "    return np.concatenate(x), np.concatenate(y)"
   ]
  },
  {
   "cell_type": "code",
   "execution_count": 48,
   "id": "tutorial-reason",
   "metadata": {},
   "outputs": [],
   "source": [
    "x_train, y_train = roll_all_stocks(train, trail_size)"
   ]
  },
  {
   "cell_type": "code",
   "execution_count": 49,
   "id": "nonprofit-minimum",
   "metadata": {},
   "outputs": [
    {
     "data": {
      "text/plain": [
       "(7340, 14, 5)"
      ]
     },
     "execution_count": 49,
     "metadata": {},
     "output_type": "execute_result"
    }
   ],
   "source": [
    "x_train.shape"
   ]
  },
  {
   "cell_type": "code",
   "execution_count": 50,
   "id": "naval-belle",
   "metadata": {},
   "outputs": [
    {
     "data": {
      "text/plain": [
       "(7340,)"
      ]
     },
     "execution_count": 50,
     "metadata": {},
     "output_type": "execute_result"
    }
   ],
   "source": [
    "y_train.shape"
   ]
  },
  {
   "cell_type": "code",
   "execution_count": 51,
   "id": "reasonable-biotechnology",
   "metadata": {},
   "outputs": [],
   "source": [
    "x_test, y_test = roll_all_stocks(test, trail_size)"
   ]
  },
  {
   "cell_type": "code",
   "execution_count": 52,
   "id": "difficult-lying",
   "metadata": {},
   "outputs": [
    {
     "data": {
      "text/plain": [
       "(2360, 14, 5)"
      ]
     },
     "execution_count": 52,
     "metadata": {},
     "output_type": "execute_result"
    }
   ],
   "source": [
    "x_test.shape"
   ]
  },
  {
   "cell_type": "code",
   "execution_count": 53,
   "id": "imported-guatemala",
   "metadata": {},
   "outputs": [
    {
     "data": {
      "text/plain": [
       "(2360,)"
      ]
     },
     "execution_count": 53,
     "metadata": {},
     "output_type": "execute_result"
    }
   ],
   "source": [
    "y_test.shape"
   ]
  },
  {
   "cell_type": "code",
   "execution_count": 54,
   "id": "novel-commonwealth",
   "metadata": {},
   "outputs": [
    {
     "data": {
      "text/plain": [
       "0"
      ]
     },
     "execution_count": 54,
     "metadata": {},
     "output_type": "execute_result"
    }
   ],
   "source": [
    "np.isnan(x_train).sum() == 0 and np.isnan(x_test).sum() and np.isnan(y_test).sum() and np.isnan(y_train).sum()"
   ]
  },
  {
   "cell_type": "markdown",
   "id": "widespread-union",
   "metadata": {},
   "source": [
    "### Model Design"
   ]
  },
  {
   "cell_type": "code",
   "execution_count": 55,
   "id": "mediterranean-galaxy",
   "metadata": {},
   "outputs": [],
   "source": [
    "model = Sequential()\n",
    "model.add(LSTM(units=75, input_shape=(trail_size, num_features), return_sequences=True))\n",
    "model.add(Dropout(0.4))\n",
    "\n",
    "model.add(LSTM(units=30, return_sequences=True))\n",
    "model.add(Dropout(0.4))\n",
    "\n",
    "model.add(LSTM(units=30, return_sequences=True))\n",
    "model.add(Dropout(0.4))\n",
    "\n",
    "model.add(LSTM(units=30, return_sequences=True))\n",
    "model.add(Dropout(0.4))\n",
    "\n",
    "model.add(LSTM(units=30, return_sequences=True))\n",
    "model.add(Dropout(0.4))\n",
    "\n",
    "model.add(Flatten())\n",
    "# model.add(Dense(50, activation='relu'))\n",
    "# model.add(Dense(25, activation='relu'))\n",
    "model.add(Dense(1))"
   ]
  },
  {
   "cell_type": "code",
   "execution_count": 56,
   "id": "hollow-assets",
   "metadata": {},
   "outputs": [],
   "source": [
    "model = Sequential()\n",
    "model.add(LSTM(units=75, input_shape=(trail_size, num_features), return_sequences=True))\n",
    "model.add(Dropout(0.25))\n",
    "model.add(LSTM(units=30, return_sequences=True))\n",
    "model.add(Dropout(0.25))\n",
    "\n",
    "model.add(LSTM(units=30, return_sequences=True))\n",
    "model.add(Dropout(0.25))\n",
    "\n",
    "model.add(Flatten())\n",
    "# model.add(Dense(50, activation='relu'))\n",
    "# model.add(Dense(25, activation='relu'))\n",
    "model.add(Dense(1))"
   ]
  },
  {
   "cell_type": "code",
   "execution_count": 57,
   "id": "posted-violation",
   "metadata": {},
   "outputs": [],
   "source": [
    "# model = Sequential()\n",
    "# model.add(Dense(100, input_shape=(trail_size, num_features), activation='relu'))\n",
    "# model.add(Dropout(0.1))\n",
    "\n",
    "# model.add(Flatten())\n",
    "\n",
    "# model.add(Dense(50, activation='relu'))\n",
    "# model.add(Dropout(0.1))\n",
    "\n",
    "# model.add(Dense(10, activation='relu'))\n",
    "# model.add(Dropout(0.1))\n",
    "\n",
    "# # model.add(Dense(50, activation='relu'))\n",
    "# # model.add(Dense(25, activation='relu'))\n",
    "# model.add(Dense(1, activation='linear'))"
   ]
  },
  {
   "cell_type": "code",
   "execution_count": 58,
   "id": "recent-honduras",
   "metadata": {},
   "outputs": [
    {
     "name": "stdout",
     "output_type": "stream",
     "text": [
      "Model: \"sequential_1\"\n",
      "_________________________________________________________________\n",
      "Layer (type)                 Output Shape              Param #   \n",
      "=================================================================\n",
      "lstm_5 (LSTM)                (None, 14, 75)            24300     \n",
      "_________________________________________________________________\n",
      "dropout_5 (Dropout)          (None, 14, 75)            0         \n",
      "_________________________________________________________________\n",
      "lstm_6 (LSTM)                (None, 14, 30)            12720     \n",
      "_________________________________________________________________\n",
      "dropout_6 (Dropout)          (None, 14, 30)            0         \n",
      "_________________________________________________________________\n",
      "lstm_7 (LSTM)                (None, 14, 30)            7320      \n",
      "_________________________________________________________________\n",
      "dropout_7 (Dropout)          (None, 14, 30)            0         \n",
      "_________________________________________________________________\n",
      "flatten_1 (Flatten)          (None, 420)               0         \n",
      "_________________________________________________________________\n",
      "dense_1 (Dense)              (None, 1)                 421       \n",
      "=================================================================\n",
      "Total params: 44,761\n",
      "Trainable params: 44,761\n",
      "Non-trainable params: 0\n",
      "_________________________________________________________________\n"
     ]
    }
   ],
   "source": [
    "model.summary()"
   ]
  },
  {
   "cell_type": "code",
   "execution_count": 59,
   "id": "together-amount",
   "metadata": {},
   "outputs": [],
   "source": [
    "tensorboard = TensorBoard(log_dir='logs/{}'.format(time()))"
   ]
  },
  {
   "cell_type": "code",
   "execution_count": 60,
   "id": "measured-customer",
   "metadata": {},
   "outputs": [],
   "source": [
    "model.compile(optimizer='adam', loss='mean_squared_error')"
   ]
  },
  {
   "cell_type": "code",
   "execution_count": 61,
   "id": "efficient-ferry",
   "metadata": {},
   "outputs": [
    {
     "name": "stdout",
     "output_type": "stream",
     "text": [
      "Epoch 1/80\n",
      "115/115 [==============================] - 8s 29ms/step - loss: 0.0684 - val_loss: 0.3661\n",
      "Epoch 2/80\n",
      "115/115 [==============================] - 1s 10ms/step - loss: 0.0199 - val_loss: 0.3022\n",
      "Epoch 3/80\n",
      "115/115 [==============================] - 1s 9ms/step - loss: 0.0192 - val_loss: 0.2900\n",
      "Epoch 4/80\n",
      "115/115 [==============================] - 1s 10ms/step - loss: 0.0191 - val_loss: 0.2516\n",
      "Epoch 5/80\n",
      "115/115 [==============================] - 1s 10ms/step - loss: 0.0178 - val_loss: 0.2728\n",
      "Epoch 6/80\n",
      "115/115 [==============================] - 1s 10ms/step - loss: 0.0187 - val_loss: 0.2443\n",
      "Epoch 7/80\n",
      "115/115 [==============================] - 1s 10ms/step - loss: 0.0169 - val_loss: 0.2047\n",
      "Epoch 8/80\n",
      "115/115 [==============================] - 1s 9ms/step - loss: 0.0163 - val_loss: 0.1697\n",
      "Epoch 9/80\n",
      "115/115 [==============================] - 1s 10ms/step - loss: 0.0136 - val_loss: 0.1377\n",
      "Epoch 10/80\n",
      "115/115 [==============================] - 1s 10ms/step - loss: 0.0111 - val_loss: 0.1194\n",
      "Epoch 11/80\n",
      "115/115 [==============================] - 1s 10ms/step - loss: 0.0107 - val_loss: 0.0946\n",
      "Epoch 12/80\n",
      "115/115 [==============================] - 1s 10ms/step - loss: 0.0093 - val_loss: 0.0886\n",
      "Epoch 13/80\n",
      "115/115 [==============================] - 1s 10ms/step - loss: 0.0091 - val_loss: 0.0903\n",
      "Epoch 14/80\n",
      "115/115 [==============================] - 1s 10ms/step - loss: 0.0082 - val_loss: 0.0775\n",
      "Epoch 15/80\n",
      "115/115 [==============================] - 1s 10ms/step - loss: 0.0078 - val_loss: 0.0709\n",
      "Epoch 16/80\n",
      "115/115 [==============================] - 1s 10ms/step - loss: 0.0077 - val_loss: 0.0703\n",
      "Epoch 17/80\n",
      "115/115 [==============================] - 1s 10ms/step - loss: 0.0072 - val_loss: 0.0620\n",
      "Epoch 18/80\n",
      "115/115 [==============================] - 1s 10ms/step - loss: 0.0069 - val_loss: 0.0444\n",
      "Epoch 19/80\n",
      "115/115 [==============================] - 1s 10ms/step - loss: 0.0071 - val_loss: 0.0347\n",
      "Epoch 20/80\n",
      "115/115 [==============================] - 1s 10ms/step - loss: 0.0068 - val_loss: 0.0224\n",
      "Epoch 21/80\n",
      "115/115 [==============================] - 1s 11ms/step - loss: 0.0080 - val_loss: 0.0261\n",
      "Epoch 22/80\n",
      "115/115 [==============================] - 1s 10ms/step - loss: 0.0080 - val_loss: 0.0241\n",
      "Epoch 23/80\n",
      "115/115 [==============================] - 1s 10ms/step - loss: 0.0073 - val_loss: 0.0186\n",
      "Epoch 24/80\n",
      "115/115 [==============================] - 1s 10ms/step - loss: 0.0073 - val_loss: 0.0220\n",
      "Epoch 25/80\n",
      "115/115 [==============================] - 1s 10ms/step - loss: 0.0065 - val_loss: 0.0124\n",
      "Epoch 26/80\n",
      "115/115 [==============================] - 1s 11ms/step - loss: 0.0082 - val_loss: 0.0113\n",
      "Epoch 27/80\n",
      "115/115 [==============================] - 1s 11ms/step - loss: 0.0090 - val_loss: 0.0141\n",
      "Epoch 28/80\n",
      "115/115 [==============================] - 1s 11ms/step - loss: 0.0068 - val_loss: 0.0116\n",
      "Epoch 29/80\n",
      "115/115 [==============================] - 1s 10ms/step - loss: 0.0074 - val_loss: 0.0207\n",
      "Epoch 30/80\n",
      "115/115 [==============================] - 1s 10ms/step - loss: 0.0061 - val_loss: 0.0178\n",
      "Epoch 31/80\n",
      "115/115 [==============================] - 1s 10ms/step - loss: 0.0056 - val_loss: 0.0118\n",
      "Epoch 32/80\n",
      "115/115 [==============================] - 1s 11ms/step - loss: 0.0054 - val_loss: 0.0110\n",
      "Epoch 33/80\n",
      "115/115 [==============================] - 1s 10ms/step - loss: 0.0054 - val_loss: 0.0096\n",
      "Epoch 34/80\n",
      "115/115 [==============================] - 1s 10ms/step - loss: 0.0058 - val_loss: 0.0095\n",
      "Epoch 35/80\n",
      "115/115 [==============================] - 1s 11ms/step - loss: 0.0061 - val_loss: 0.0092\n",
      "Epoch 36/80\n",
      "115/115 [==============================] - 1s 10ms/step - loss: 0.0065 - val_loss: 0.0094\n",
      "Epoch 37/80\n",
      "115/115 [==============================] - 1s 10ms/step - loss: 0.0066 - val_loss: 0.0092\n",
      "Epoch 38/80\n",
      "115/115 [==============================] - 1s 10ms/step - loss: 0.0068 - val_loss: 0.0091\n",
      "Epoch 39/80\n",
      "115/115 [==============================] - 1s 10ms/step - loss: 0.0063 - val_loss: 0.0088\n",
      "Epoch 40/80\n",
      "115/115 [==============================] - 1s 10ms/step - loss: 0.0064 - val_loss: 0.0086\n",
      "Epoch 41/80\n",
      "115/115 [==============================] - 1s 10ms/step - loss: 0.0061 - val_loss: 0.0089\n",
      "Epoch 42/80\n",
      "115/115 [==============================] - 1s 10ms/step - loss: 0.0063 - val_loss: 0.0090\n",
      "Epoch 43/80\n",
      "115/115 [==============================] - 1s 10ms/step - loss: 0.0061 - val_loss: 0.0086\n",
      "Epoch 44/80\n",
      "115/115 [==============================] - 1s 10ms/step - loss: 0.0060 - val_loss: 0.0086\n",
      "Epoch 45/80\n",
      "115/115 [==============================] - 1s 10ms/step - loss: 0.0059 - val_loss: 0.0088\n",
      "Epoch 46/80\n",
      "115/115 [==============================] - 1s 10ms/step - loss: 0.0062 - val_loss: 0.0091\n",
      "Epoch 47/80\n",
      "115/115 [==============================] - 1s 10ms/step - loss: 0.0066 - val_loss: 0.0175\n",
      "Epoch 48/80\n",
      "115/115 [==============================] - 1s 9ms/step - loss: 0.0077 - val_loss: 0.0093\n",
      "Epoch 49/80\n",
      "115/115 [==============================] - 1s 10ms/step - loss: 0.0074 - val_loss: 0.0095\n",
      "Epoch 50/80\n",
      "115/115 [==============================] - 1s 9ms/step - loss: 0.0056 - val_loss: 0.0084\n",
      "Epoch 51/80\n",
      "115/115 [==============================] - 1s 10ms/step - loss: 0.0050 - val_loss: 0.0080\n",
      "Epoch 52/80\n",
      "115/115 [==============================] - 1s 10ms/step - loss: 0.0059 - val_loss: 0.0091\n",
      "Epoch 53/80\n",
      "115/115 [==============================] - 1s 10ms/step - loss: 0.0047 - val_loss: 0.0082\n",
      "Epoch 54/80\n",
      "115/115 [==============================] - 1s 9ms/step - loss: 0.0045 - val_loss: 0.0081\n",
      "Epoch 55/80\n",
      "115/115 [==============================] - 1s 10ms/step - loss: 0.0048 - val_loss: 0.0083\n",
      "Epoch 56/80\n",
      "115/115 [==============================] - 1s 10ms/step - loss: 0.0054 - val_loss: 0.0088\n",
      "Epoch 57/80\n",
      "115/115 [==============================] - 1s 10ms/step - loss: 0.0056 - val_loss: 0.0084\n",
      "Epoch 58/80\n",
      "115/115 [==============================] - 1s 10ms/step - loss: 0.0061 - val_loss: 0.0082\n",
      "Epoch 59/80\n",
      "115/115 [==============================] - 1s 10ms/step - loss: 0.0058 - val_loss: 0.0084\n",
      "Epoch 60/80\n",
      "115/115 [==============================] - 1s 10ms/step - loss: 0.0056 - val_loss: 0.0085\n",
      "Epoch 61/80\n",
      "115/115 [==============================] - 1s 10ms/step - loss: 0.0055 - val_loss: 0.0082\n",
      "Epoch 62/80\n",
      "115/115 [==============================] - 1s 10ms/step - loss: 0.0055 - val_loss: 0.0086\n",
      "Epoch 63/80\n",
      "115/115 [==============================] - 1s 10ms/step - loss: 0.0059 - val_loss: 0.0098\n",
      "Epoch 64/80\n",
      "115/115 [==============================] - 1s 10ms/step - loss: 0.0060 - val_loss: 0.0093\n",
      "Epoch 65/80\n",
      "115/115 [==============================] - 1s 10ms/step - loss: 0.0063 - val_loss: 0.0082\n",
      "Epoch 66/80\n",
      "115/115 [==============================] - 1s 10ms/step - loss: 0.0050 - val_loss: 0.0085\n",
      "Epoch 67/80\n",
      "115/115 [==============================] - 1s 10ms/step - loss: 0.0046 - val_loss: 0.0076\n",
      "Epoch 68/80\n",
      "115/115 [==============================] - 1s 10ms/step - loss: 0.0047 - val_loss: 0.0079\n",
      "Epoch 69/80\n",
      "115/115 [==============================] - 1s 10ms/step - loss: 0.0047 - val_loss: 0.0084\n",
      "Epoch 70/80\n",
      "115/115 [==============================] - 1s 10ms/step - loss: 0.0054 - val_loss: 0.0079\n",
      "Epoch 71/80\n",
      "115/115 [==============================] - 1s 10ms/step - loss: 0.0049 - val_loss: 0.0086\n",
      "Epoch 72/80\n",
      "115/115 [==============================] - 1s 10ms/step - loss: 0.0052 - val_loss: 0.0097\n",
      "Epoch 73/80\n",
      "115/115 [==============================] - 1s 10ms/step - loss: 0.0058 - val_loss: 0.0080\n",
      "Epoch 74/80\n",
      "115/115 [==============================] - 1s 10ms/step - loss: 0.0050 - val_loss: 0.0085\n",
      "Epoch 75/80\n",
      "115/115 [==============================] - 1s 10ms/step - loss: 0.0053 - val_loss: 0.0091\n",
      "Epoch 76/80\n",
      "115/115 [==============================] - 1s 10ms/step - loss: 0.0058 - val_loss: 0.0086\n",
      "Epoch 77/80\n",
      "115/115 [==============================] - 1s 10ms/step - loss: 0.0053 - val_loss: 0.0083\n",
      "Epoch 78/80\n",
      "115/115 [==============================] - 1s 10ms/step - loss: 0.0057 - val_loss: 0.0083\n",
      "Epoch 79/80\n",
      "115/115 [==============================] - 1s 10ms/step - loss: 0.0050 - val_loss: 0.0086\n",
      "Epoch 80/80\n",
      "115/115 [==============================] - 1s 10ms/step - loss: 0.0049 - val_loss: 0.0077\n"
     ]
    }
   ],
   "source": [
    "history = model.fit(x_train, y_train, epochs=80, validation_data=(x_test, y_test), batch_size=64, shuffle=False, callbacks=[tensorboard])"
   ]
  },
  {
   "cell_type": "code",
   "execution_count": 62,
   "id": "conditional-personality",
   "metadata": {},
   "outputs": [
    {
     "data": {
      "image/png": "[encoded data removed]",
      "text/plain": [
       "<Figure size 576x432 with 1 Axes>"
      ]
     },
     "metadata": {
      "needs_background": "light"
     },
     "output_type": "display_data"
    }
   ],
   "source": [
    "plt.figure(figsize=(8,6))\n",
    "plt.plot(history.history['loss'], 'bo--')\n",
    "plt.plot(history.history['val_loss'], 'ro-')\n",
    "plt.ylabel('Loss')\n",
    "plt.xlabel('Epochs (n)')\n",
    "plt.legend(['Training loss', 'Validation loss'])\n",
    "plt.title(\"Loss curve for LSTM\")\n",
    "plt.show()"
   ]
  },
  {
   "cell_type": "code",
   "execution_count": 63,
   "id": "weekly-gathering",
   "metadata": {},
   "outputs": [],
   "source": [
    "def evaluate_model_rmse(y_preds, y_true):\n",
    "    dummies = np.zeros((y_preds.shape[0], num_features-1))\n",
    "    res = np.concatenate([y_preds, dummies], axis=1)\n",
    "    pred_dollars = sc.inverse_transform(res)[:, 0]\n",
    "    \n",
    "    res2 = np.concatenate([np.expand_dims(y_true, axis=1), dummies], axis=1)\n",
    "    true_dollars = sc.inverse_transform(res2)[:, 0]\n",
    "    return np.sqrt(mean_squared_error(true_dollars, pred_dollars))"
   ]
  },
  {
   "cell_type": "code",
   "execution_count": 64,
   "id": "excited-overhead",
   "metadata": {},
   "outputs": [
    {
     "data": {
      "text/plain": [
       "(7340, 1)"
      ]
     },
     "execution_count": 64,
     "metadata": {},
     "output_type": "execute_result"
    }
   ],
   "source": [
    "model.predict(x_train).shape"
   ]
  },
  {
   "cell_type": "code",
   "execution_count": 65,
   "id": "instructional-rugby",
   "metadata": {},
   "outputs": [
    {
     "data": {
      "text/plain": [
       "(7340, 4)"
      ]
     },
     "execution_count": 65,
     "metadata": {},
     "output_type": "execute_result"
    }
   ],
   "source": [
    "np.zeros((y_train.shape[0], num_features-1)).shape"
   ]
  },
  {
   "cell_type": "code",
   "execution_count": 66,
   "id": "according-robin",
   "metadata": {},
   "outputs": [
    {
     "data": {
      "text/plain": [
       "(7340, 1)"
      ]
     },
     "execution_count": 66,
     "metadata": {},
     "output_type": "execute_result"
    }
   ],
   "source": [
    "model.predict(x_train).shape"
   ]
  },
  {
   "cell_type": "code",
   "execution_count": 67,
   "id": "british-direction",
   "metadata": {},
   "outputs": [
    {
     "data": {
      "text/plain": [
       "(7340,)"
      ]
     },
     "execution_count": 67,
     "metadata": {},
     "output_type": "execute_result"
    }
   ],
   "source": [
    "y_train.shape"
   ]
  },
  {
   "cell_type": "code",
   "execution_count": 68,
   "id": "silver-cheat",
   "metadata": {},
   "outputs": [
    {
     "data": {
      "text/plain": [
       "(7340, 14, 5)"
      ]
     },
     "execution_count": 68,
     "metadata": {},
     "output_type": "execute_result"
    }
   ],
   "source": [
    "x_train.shape"
   ]
  },
  {
   "cell_type": "code",
   "execution_count": 69,
   "id": "satellite-sociology",
   "metadata": {},
   "outputs": [
    {
     "name": "stdout",
     "output_type": "stream",
     "text": [
      "Training RMSE = 9.027681898850211\n"
     ]
    }
   ],
   "source": [
    "print(\"Training RMSE = {}\".format(evaluate_model_rmse(model.predict(x_train), y_train)))"
   ]
  },
  {
   "cell_type": "code",
   "execution_count": 70,
   "id": "efficient-philosophy",
   "metadata": {},
   "outputs": [
    {
     "name": "stdout",
     "output_type": "stream",
     "text": [
      "Testing RMSE = 14.748364935290757\n"
     ]
    }
   ],
   "source": [
    "print(\"Testing RMSE = {}\".format(evaluate_model_rmse(model.predict(x_test), y_test)))"
   ]
  },
  {
   "cell_type": "markdown",
   "id": "caroline-consumer",
   "metadata": {},
   "source": [
    "#### Compare to simple baseline"
   ]
  },
  {
   "cell_type": "code",
   "execution_count": 71,
   "id": "coral-dodge",
   "metadata": {},
   "outputs": [],
   "source": [
    "def predict_no_change(x):\n",
    "    return x[-1][0]"
   ]
  },
  {
   "cell_type": "code",
   "execution_count": 72,
   "id": "lightweight-spray",
   "metadata": {},
   "outputs": [],
   "source": [
    "no_change_preds = np.array([predict_no_change(x) for x in x_train])\n",
    "no_change_preds = np.expand_dims(no_change_preds, axis=1)"
   ]
  },
  {
   "cell_type": "code",
   "execution_count": 73,
   "id": "genetic-holly",
   "metadata": {},
   "outputs": [
    {
     "data": {
      "text/plain": [
       "6.923379133494281"
      ]
     },
     "execution_count": 73,
     "metadata": {},
     "output_type": "execute_result"
    }
   ],
   "source": [
    "evaluate_model_rmse(no_change_preds, y_train)"
   ]
  },
  {
   "cell_type": "code",
   "execution_count": 74,
   "id": "injured-loading",
   "metadata": {},
   "outputs": [],
   "source": [
    "no_change_preds = np.array([predict_no_change(x) for x in x_test])\n",
    "no_change_preds = np.expand_dims(no_change_preds, axis=1)"
   ]
  },
  {
   "cell_type": "code",
   "execution_count": 75,
   "id": "wound-pantyhose",
   "metadata": {},
   "outputs": [
    {
     "data": {
      "text/plain": [
       "14.187264486822826"
      ]
     },
     "execution_count": 75,
     "metadata": {},
     "output_type": "execute_result"
    }
   ],
   "source": [
    "evaluate_model_rmse(no_change_preds, y_test)"
   ]
  },
  {
   "cell_type": "code",
   "execution_count": null,
   "id": "approved-feeling",
   "metadata": {},
   "outputs": [],
   "source": []
  }
 ],
 "metadata": {
  "kernelspec": {
   "display_name": "Python 3",
   "language": "python",
   "name": "python3"
  },
  "language_info": {
   "codemirror_mode": {
    "name": "ipython",
    "version": 3
   },
   "file_extension": ".py",
   "mimetype": "text/x-python",
   "name": "python",
   "nbconvert_exporter": "python",
   "pygments_lexer": "ipython3",
   "version": "3.8.5"
  }
 },
 "nbformat": 4,
 "nbformat_minor": 5
}
