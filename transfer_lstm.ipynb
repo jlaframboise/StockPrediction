{
 "cells": [
  {
   "cell_type": "markdown",
   "id": "cardiac-marijuana",
   "metadata": {},
   "source": [
    "### Imports"
   ]
  },
  {
   "cell_type": "code",
   "execution_count": 1,
   "id": "bored-abraham",
   "metadata": {},
   "outputs": [
    {
     "data": {
      "text/html": [
       "<style>.container { width:100% !important; }</style>"
      ],
      "text/plain": [
       "<IPython.core.display.HTML object>"
      ]
     },
     "metadata": {},
     "output_type": "display_data"
    }
   ],
   "source": [
    "import os, sys\n",
    "import pandas as pd\n",
    "import numpy as np\n",
    "import yfinance as yf\n",
    "import matplotlib.pyplot as plt\n",
    "import seaborn as sns\n",
    "import random\n",
    "\n",
    "import tensorflow as tf\n",
    "from tensorflow.keras import Input, Model\n",
    "from tensorflow.keras.models import Sequential\n",
    "from tensorflow.keras.layers import *\n",
    "from tensorflow.keras.losses import CategoricalCrossentropy\n",
    "from tensorflow.keras.utils import to_categorical, plot_model\n",
    "from tensorflow.keras.preprocessing.sequence import TimeseriesGenerator\n",
    "from sklearn.metrics import confusion_matrix, mean_squared_error\n",
    "from sklearn.feature_extraction.text import CountVectorizer\n",
    "from sklearn.preprocessing import StandardScaler, MinMaxScaler, RobustScaler\n",
    "\n",
    "from time import time\n",
    "from tensorflow.python.keras.callbacks import TensorBoard\n",
    "\n",
    "from indicators import *\n",
    "from data_loading import *\n",
    "from util_functions import *\n",
    "\n",
    "\n",
    "physical_devices = tf.config.list_physical_devices('GPU')\n",
    "tf.config.experimental.set_memory_growth(physical_devices[0], enable=True)\n",
    "\n",
    "from IPython.core.display import display, HTML\n",
    "display(HTML(\"<style>.container { width:100% !important; }</style>\"))\n",
    "\n",
    "pd.set_option('display.max_rows', 500)\n",
    "pd.set_option('display.max_columns', 500)\n",
    "pd.set_option('display.width', 1000)\n"
   ]
  },
  {
   "cell_type": "markdown",
   "id": "approved-battlefield",
   "metadata": {},
   "source": [
    "### Parameters"
   ]
  },
  {
   "cell_type": "code",
   "execution_count": 2,
   "id": "engaged-november",
   "metadata": {},
   "outputs": [],
   "source": [
    "trail_size=14\n",
    "predict_length = 5\n",
    "time_period = '4y'"
   ]
  },
  {
   "cell_type": "markdown",
   "id": "literary-morgan",
   "metadata": {},
   "source": [
    "### Load data"
   ]
  },
  {
   "cell_type": "code",
   "execution_count": 3,
   "id": "beginning-comparison",
   "metadata": {},
   "outputs": [],
   "source": [
    "top100tech = ['AAPL', 'MSFT', 'TSM', 'NVDA', 'INTC', 'ASML', 'ADBE', 'CRM', 'AVGO', 'ORCL', 'CSCO', 'ACN', 'TXN', 'SHOP', 'QCOM', 'SAP', 'SNE', 'AMAT', 'INTU', 'NOW', 'SQ', 'IBM', 'MU', 'AMD',\n",
    "'UBER', 'FIS', 'LRCX', 'FISV', 'SNOW', 'INFY', 'TEAM', 'ADSK', 'DELL', 'WDAY', 'VMW', 'ADI', 'NXPI', 'KLAC',\n",
    "'CRWD', 'PLTR', 'DOCU', 'TEL', 'ERIC', 'MCHP', 'CDNS', 'CTSH', 'APH', 'SNPS', 'HPQ',\n",
    "'PANW', 'OKTA','RNG','STM','MRVL','XLNX','WIT','MSI','SWKS','GLW','DDOG','ANSS','U','ZS','FTNT','STNE','ZBRA','KEYS','FTV','MXIM','COUP','GRMN','SPLK','HUBS','WORK','NET','FLT','CDW','CAJ','AFRM','PAYC','TER',\n",
    "'VRSN','WDC', 'ZI', 'UMC','ANET','EPAM', 'UI','XM',\n",
    "'GIB','TRMB', 'TYL','WIX','HPE','LYFT', 'LOGI', 'MPWR']\n",
    "top10tech = top100tech[:10]"
   ]
  },
  {
   "cell_type": "code",
   "execution_count": 4,
   "id": "devoted-wages",
   "metadata": {},
   "outputs": [
    {
     "name": "stdout",
     "output_type": "stream",
     "text": [
      "[*********************100%***********************]  10 of 10 completed\n"
     ]
    }
   ],
   "source": [
    "data = get_data_yf(top10tech, time_period)"
   ]
  },
  {
   "cell_type": "code",
   "execution_count": 5,
   "id": "vanilla-swiss",
   "metadata": {},
   "outputs": [],
   "source": [
    "data = process_stock_data_from_yf(data)"
   ]
  },
  {
   "cell_type": "code",
   "execution_count": 6,
   "id": "harmful-shield",
   "metadata": {},
   "outputs": [],
   "source": [
    "has_data_ratio, data = filter_has_all_data(data)"
   ]
  },
  {
   "cell_type": "markdown",
   "id": "warming-specific",
   "metadata": {},
   "source": [
    "### Compute technical indicators"
   ]
  },
  {
   "cell_type": "code",
   "execution_count": 7,
   "id": "cooked-dutch",
   "metadata": {},
   "outputs": [],
   "source": [
    "# compute all our technical markers for each of the stocks. \n",
    "dataset = data.groupby('Ticker').apply(lambda x: add_technical_markers(x, trail_size))"
   ]
  },
  {
   "cell_type": "markdown",
   "id": "interesting-outdoors",
   "metadata": {},
   "source": [
    "### Choose features"
   ]
  },
  {
   "cell_type": "code",
   "execution_count": 8,
   "id": "medical-directive",
   "metadata": {},
   "outputs": [],
   "source": [
    "features = ['Close', 'High',\n",
    " 'Low', 'Open', 'Volume', ]\n",
    "#  'HH', 'LL', 'AV',\n",
    "#  'SMA', 'SD', 'WILLR',\n",
    "#  'ATR', 'DMH', 'DML',\n",
    "#  'EMA', 'WMA', 'BBHIGH',\n",
    "#  'BBLOW', 'PERBHIGH', 'PERBLOW',\n",
    "#  'TRIMA', 'RSI', 'DX',\n",
    "#  'PDI', 'NDI', 'ADX',\n",
    "#  'ROC', 'MACD', 'CCI']\n",
    "dataset = dataset[['Ticker', 'Date'] + features]\n",
    "num_features = len(features)"
   ]
  },
  {
   "cell_type": "markdown",
   "id": "alien-rogers",
   "metadata": {},
   "source": [
    "### Normalization\n",
    "We want to normalize the prices, and there are two challenges\n",
    "1. We want to be able to recover performance metrics like RMSE in dollars, so we have to have the saved transforms for closing price to un transform after prediction. \n",
    "2. We will want to normalize the data within each year, because the stock will tend to have different averages in different years\n",
    "3. We will want to normalize each different company differently, because the stocks will be of differing magnitudes"
   ]
  },
  {
   "cell_type": "code",
   "execution_count": 9,
   "id": "novel-shopping",
   "metadata": {},
   "outputs": [],
   "source": [
    "sc = RobustScaler()\n",
    "dataset[features] = sc.fit_transform(dataset[features])"
   ]
  },
  {
   "cell_type": "markdown",
   "id": "friendly-hampton",
   "metadata": {},
   "source": [
    "### Train test split"
   ]
  },
  {
   "cell_type": "code",
   "execution_count": 10,
   "id": "pacific-escape",
   "metadata": {},
   "outputs": [],
   "source": [
    "train = dataset.loc[dataset['Date'] < \"2020-03-13\"]\n",
    "test = dataset.loc[dataset['Date'] > \"2020-03-13\"]"
   ]
  },
  {
   "cell_type": "markdown",
   "id": "korean-swing",
   "metadata": {},
   "source": [
    "#### Prepare training inputs and outputs"
   ]
  },
  {
   "cell_type": "code",
   "execution_count": 11,
   "id": "supported-webmaster",
   "metadata": {},
   "outputs": [],
   "source": [
    "x_train, y_train = roll_all_stocks(train, trail_size, predict_length)"
   ]
  },
  {
   "cell_type": "code",
   "execution_count": 12,
   "id": "diverse-silver",
   "metadata": {},
   "outputs": [],
   "source": [
    "x_test, y_test = roll_all_stocks(test, trail_size, predict_length)"
   ]
  },
  {
   "cell_type": "markdown",
   "id": "funded-frequency",
   "metadata": {},
   "source": [
    "#### Confirm shapes"
   ]
  },
  {
   "cell_type": "code",
   "execution_count": 13,
   "id": "dominant-pilot",
   "metadata": {},
   "outputs": [
    {
     "name": "stdout",
     "output_type": "stream",
     "text": [
      "x_train: (7330, 14, 5)\n",
      "y_train: (7330,)\n",
      "x_test: (2370, 14, 5)\n",
      "y_test (2370,)\n"
     ]
    }
   ],
   "source": [
    "print(\"x_train: {}\".format(x_train.shape))\n",
    "print(\"y_train: {}\".format(y_train.shape))\n",
    "print(\"x_test: {}\".format(x_test.shape))\n",
    "print(\"y_test {}\".format(y_test.shape))"
   ]
  },
  {
   "cell_type": "markdown",
   "id": "round-contemporary",
   "metadata": {},
   "source": [
    "### Model design"
   ]
  },
  {
   "cell_type": "code",
   "execution_count": 14,
   "id": "removed-degree",
   "metadata": {},
   "outputs": [],
   "source": [
    "model = Sequential()\n",
    "model.add(LSTM(units=75, input_shape=(trail_size, num_features), return_sequences=True))\n",
    "model.add(Dropout(0.25))\n",
    "model.add(LSTM(units=30, return_sequences=True))\n",
    "model.add(Dropout(0.25))\n",
    "\n",
    "model.add(LSTM(units=30, return_sequences=True))\n",
    "model.add(Dropout(0.25))\n",
    "\n",
    "model.add(Flatten())\n",
    "# model.add(Dense(50, activation='relu'))\n",
    "# model.add(Dense(25, activation='relu'))\n",
    "model.add(Dense(1))"
   ]
  },
  {
   "cell_type": "code",
   "execution_count": 15,
   "id": "norman-rover",
   "metadata": {},
   "outputs": [
    {
     "name": "stdout",
     "output_type": "stream",
     "text": [
      "Model: \"sequential\"\n",
      "_________________________________________________________________\n",
      "Layer (type)                 Output Shape              Param #   \n",
      "=================================================================\n",
      "lstm (LSTM)                  (None, 14, 75)            24300     \n",
      "_________________________________________________________________\n",
      "dropout (Dropout)            (None, 14, 75)            0         \n",
      "_________________________________________________________________\n",
      "lstm_1 (LSTM)                (None, 14, 30)            12720     \n",
      "_________________________________________________________________\n",
      "dropout_1 (Dropout)          (None, 14, 30)            0         \n",
      "_________________________________________________________________\n",
      "lstm_2 (LSTM)                (None, 14, 30)            7320      \n",
      "_________________________________________________________________\n",
      "dropout_2 (Dropout)          (None, 14, 30)            0         \n",
      "_________________________________________________________________\n",
      "flatten (Flatten)            (None, 420)               0         \n",
      "_________________________________________________________________\n",
      "dense (Dense)                (None, 1)                 421       \n",
      "=================================================================\n",
      "Total params: 44,761\n",
      "Trainable params: 44,761\n",
      "Non-trainable params: 0\n",
      "_________________________________________________________________\n"
     ]
    }
   ],
   "source": [
    "model.summary()"
   ]
  },
  {
   "cell_type": "code",
   "execution_count": 16,
   "id": "hearing-greensboro",
   "metadata": {},
   "outputs": [],
   "source": [
    "time_stamp = time()\n",
    "tensorboard = TensorBoard(log_dir='logs/{}'.format(time_stamp))"
   ]
  },
  {
   "cell_type": "code",
   "execution_count": 17,
   "id": "earned-beads",
   "metadata": {},
   "outputs": [],
   "source": [
    "model.compile(optimizer='adam', loss='mean_squared_error')"
   ]
  },
  {
   "cell_type": "markdown",
   "id": "sacred-collar",
   "metadata": {},
   "source": [
    "### Train on many stocks"
   ]
  },
  {
   "cell_type": "code",
   "execution_count": 18,
   "id": "daily-angola",
   "metadata": {},
   "outputs": [
    {
     "name": "stdout",
     "output_type": "stream",
     "text": [
      "Epoch 1/80\n",
      "115/115 [==============================] - 8s 32ms/step - loss: 0.0819 - val_loss: 0.2297\n",
      "Epoch 2/80\n",
      "115/115 [==============================] - 1s 10ms/step - loss: 0.0221 - val_loss: 0.2407\n",
      "Epoch 3/80\n",
      "115/115 [==============================] - 1s 10ms/step - loss: 0.0159 - val_loss: 0.2124\n",
      "Epoch 4/80\n",
      "115/115 [==============================] - 1s 9ms/step - loss: 0.0135 - val_loss: 0.1817\n",
      "Epoch 5/80\n",
      "115/115 [==============================] - 1s 10ms/step - loss: 0.0123 - val_loss: 0.1622\n",
      "Epoch 6/80\n",
      "115/115 [==============================] - 1s 10ms/step - loss: 0.0118 - val_loss: 0.1829\n",
      "Epoch 7/80\n",
      "115/115 [==============================] - 1s 9ms/step - loss: 0.0109 - val_loss: 0.1475\n",
      "Epoch 8/80\n",
      "115/115 [==============================] - 1s 10ms/step - loss: 0.0104 - val_loss: 0.1068\n",
      "Epoch 9/80\n",
      "115/115 [==============================] - 1s 10ms/step - loss: 0.0130 - val_loss: 0.1413\n",
      "Epoch 10/80\n",
      "115/115 [==============================] - 1s 10ms/step - loss: 0.0108 - val_loss: 0.0862\n",
      "Epoch 11/80\n",
      "115/115 [==============================] - 1s 10ms/step - loss: 0.0100 - val_loss: 0.0761\n",
      "Epoch 12/80\n",
      "115/115 [==============================] - 1s 10ms/step - loss: 0.0082 - val_loss: 0.0843\n",
      "Epoch 13/80\n",
      "115/115 [==============================] - 1s 10ms/step - loss: 0.0074 - val_loss: 0.0589\n",
      "Epoch 14/80\n",
      "115/115 [==============================] - 1s 10ms/step - loss: 0.0071 - val_loss: 0.0482\n",
      "Epoch 15/80\n",
      "115/115 [==============================] - 1s 10ms/step - loss: 0.0081 - val_loss: 0.0435\n",
      "Epoch 16/80\n",
      "115/115 [==============================] - 1s 10ms/step - loss: 0.0076 - val_loss: 0.0323\n",
      "Epoch 17/80\n",
      "115/115 [==============================] - 1s 10ms/step - loss: 0.0096 - val_loss: 0.0414\n",
      "Epoch 18/80\n",
      "115/115 [==============================] - 1s 10ms/step - loss: 0.0093 - val_loss: 0.0356\n",
      "Epoch 19/80\n",
      "115/115 [==============================] - 1s 11ms/step - loss: 0.0090 - val_loss: 0.0241\n",
      "Epoch 20/80\n",
      "115/115 [==============================] - 1s 11ms/step - loss: 0.0091 - val_loss: 0.0447\n",
      "Epoch 21/80\n",
      "115/115 [==============================] - 1s 10ms/step - loss: 0.0071 - val_loss: 0.0409\n",
      "Epoch 22/80\n",
      "115/115 [==============================] - 1s 10ms/step - loss: 0.0070 - val_loss: 0.0398\n",
      "Epoch 23/80\n",
      "115/115 [==============================] - 1s 10ms/step - loss: 0.0069 - val_loss: 0.0338\n",
      "Epoch 24/80\n",
      "115/115 [==============================] - 1s 10ms/step - loss: 0.0063 - val_loss: 0.0248\n",
      "Epoch 25/80\n",
      "115/115 [==============================] - 1s 10ms/step - loss: 0.0064 - val_loss: 0.0193\n",
      "Epoch 26/80\n",
      "115/115 [==============================] - 1s 10ms/step - loss: 0.0075 - val_loss: 0.0168\n",
      "Epoch 27/80\n",
      "115/115 [==============================] - 1s 10ms/step - loss: 0.0076 - val_loss: 0.0109\n",
      "Epoch 28/80\n",
      "115/115 [==============================] - 1s 10ms/step - loss: 0.0081 - val_loss: 0.0171\n",
      "Epoch 29/80\n",
      "115/115 [==============================] - 1s 10ms/step - loss: 0.0072 - val_loss: 0.0168\n",
      "Epoch 30/80\n",
      "115/115 [==============================] - 1s 10ms/step - loss: 0.0062 - val_loss: 0.0127\n",
      "Epoch 31/80\n",
      "115/115 [==============================] - 1s 10ms/step - loss: 0.0058 - val_loss: 0.0102\n",
      "Epoch 32/80\n",
      "115/115 [==============================] - 1s 10ms/step - loss: 0.0061 - val_loss: 0.0121\n",
      "Epoch 33/80\n",
      "115/115 [==============================] - 1s 10ms/step - loss: 0.0066 - val_loss: 0.0096\n",
      "Epoch 34/80\n",
      "115/115 [==============================] - 1s 10ms/step - loss: 0.0069 - val_loss: 0.0096\n",
      "Epoch 35/80\n",
      "115/115 [==============================] - 1s 10ms/step - loss: 0.0072 - val_loss: 0.0093\n",
      "Epoch 36/80\n",
      "115/115 [==============================] - 1s 10ms/step - loss: 0.0070 - val_loss: 0.0146\n",
      "Epoch 37/80\n",
      "115/115 [==============================] - 1s 10ms/step - loss: 0.0073 - val_loss: 0.0092\n",
      "Epoch 38/80\n",
      "115/115 [==============================] - 1s 10ms/step - loss: 0.0063 - val_loss: 0.0088\n",
      "Epoch 39/80\n",
      "115/115 [==============================] - 1s 10ms/step - loss: 0.0054 - val_loss: 0.0100\n",
      "Epoch 40/80\n",
      "115/115 [==============================] - 1s 10ms/step - loss: 0.0052 - val_loss: 0.0085\n",
      "Epoch 41/80\n",
      "115/115 [==============================] - 1s 10ms/step - loss: 0.0050 - val_loss: 0.0112\n",
      "Epoch 42/80\n",
      "115/115 [==============================] - 1s 10ms/step - loss: 0.0048 - val_loss: 0.0116\n",
      "Epoch 43/80\n",
      "115/115 [==============================] - 1s 10ms/step - loss: 0.0049 - val_loss: 0.0091\n",
      "Epoch 44/80\n",
      "115/115 [==============================] - 1s 10ms/step - loss: 0.0057 - val_loss: 0.0109\n",
      "Epoch 45/80\n",
      "115/115 [==============================] - 1s 10ms/step - loss: 0.0065 - val_loss: 0.0107\n",
      "Epoch 46/80\n",
      "115/115 [==============================] - 1s 10ms/step - loss: 0.0076 - val_loss: 0.0433\n",
      "Epoch 47/80\n",
      "115/115 [==============================] - 1s 10ms/step - loss: 0.0104 - val_loss: 0.0107\n",
      "Epoch 48/80\n",
      "115/115 [==============================] - 1s 10ms/step - loss: 0.0089 - val_loss: 0.0174\n",
      "Epoch 49/80\n",
      "115/115 [==============================] - 1s 10ms/step - loss: 0.0056 - val_loss: 0.0081\n",
      "Epoch 50/80\n",
      "115/115 [==============================] - 1s 9ms/step - loss: 0.0053 - val_loss: 0.0185\n",
      "Epoch 51/80\n",
      "115/115 [==============================] - 1s 10ms/step - loss: 0.0041 - val_loss: 0.0123\n",
      "Epoch 52/80\n",
      "115/115 [==============================] - 1s 9ms/step - loss: 0.0041 - val_loss: 0.0120\n",
      "Epoch 53/80\n",
      "115/115 [==============================] - 1s 10ms/step - loss: 0.0037 - val_loss: 0.0079\n",
      "Epoch 54/80\n",
      "115/115 [==============================] - 1s 10ms/step - loss: 0.0044 - val_loss: 0.0083\n",
      "Epoch 55/80\n",
      "115/115 [==============================] - 1s 9ms/step - loss: 0.0041 - val_loss: 0.0076\n",
      "Epoch 56/80\n",
      "115/115 [==============================] - 1s 10ms/step - loss: 0.0038 - val_loss: 0.0074\n",
      "Epoch 57/80\n",
      "115/115 [==============================] - 1s 9ms/step - loss: 0.0038 - val_loss: 0.0076\n",
      "Epoch 58/80\n",
      "115/115 [==============================] - 1s 10ms/step - loss: 0.0041 - val_loss: 0.0076\n",
      "Epoch 59/80\n",
      "115/115 [==============================] - 1s 10ms/step - loss: 0.0048 - val_loss: 0.0075\n",
      "Epoch 60/80\n",
      "115/115 [==============================] - 1s 10ms/step - loss: 0.0041 - val_loss: 0.0078\n",
      "Epoch 61/80\n",
      "115/115 [==============================] - 1s 10ms/step - loss: 0.0048 - val_loss: 0.0085\n",
      "Epoch 62/80\n",
      "115/115 [==============================] - 1s 10ms/step - loss: 0.0055 - val_loss: 0.0106\n",
      "Epoch 63/80\n",
      "115/115 [==============================] - 1s 11ms/step - loss: 0.0065 - val_loss: 0.0183\n",
      "Epoch 64/80\n",
      "115/115 [==============================] - 1s 10ms/step - loss: 0.0063 - val_loss: 0.0202\n",
      "Epoch 65/80\n",
      "115/115 [==============================] - 1s 10ms/step - loss: 0.0065 - val_loss: 0.0079\n",
      "Epoch 66/80\n",
      "115/115 [==============================] - 1s 10ms/step - loss: 0.0048 - val_loss: 0.0099\n",
      "Epoch 67/80\n",
      "115/115 [==============================] - 1s 10ms/step - loss: 0.0055 - val_loss: 0.0073\n",
      "Epoch 68/80\n",
      "115/115 [==============================] - 1s 10ms/step - loss: 0.0040 - val_loss: 0.0072\n",
      "Epoch 69/80\n",
      "115/115 [==============================] - 1s 10ms/step - loss: 0.0049 - val_loss: 0.0072\n",
      "Epoch 70/80\n",
      "115/115 [==============================] - 1s 10ms/step - loss: 0.0041 - val_loss: 0.0071\n",
      "Epoch 71/80\n",
      "115/115 [==============================] - 1s 10ms/step - loss: 0.0041 - val_loss: 0.0073\n",
      "Epoch 72/80\n",
      "115/115 [==============================] - 1s 10ms/step - loss: 0.0038 - val_loss: 0.0084\n",
      "Epoch 73/80\n",
      "115/115 [==============================] - 1s 10ms/step - loss: 0.0043 - val_loss: 0.0132\n",
      "Epoch 74/80\n",
      "115/115 [==============================] - 1s 10ms/step - loss: 0.0042 - val_loss: 0.0098\n",
      "Epoch 75/80\n",
      "115/115 [==============================] - 1s 10ms/step - loss: 0.0040 - val_loss: 0.0094\n",
      "Epoch 76/80\n",
      "115/115 [==============================] - 1s 10ms/step - loss: 0.0041 - val_loss: 0.0080\n",
      "Epoch 77/80\n",
      "115/115 [==============================] - 1s 10ms/step - loss: 0.0039 - val_loss: 0.0094\n",
      "Epoch 78/80\n",
      "115/115 [==============================] - 1s 10ms/step - loss: 0.0043 - val_loss: 0.0071\n",
      "Epoch 79/80\n",
      "115/115 [==============================] - 1s 10ms/step - loss: 0.0041 - val_loss: 0.0092\n",
      "Epoch 80/80\n",
      "115/115 [==============================] - 1s 10ms/step - loss: 0.0044 - val_loss: 0.0130\n"
     ]
    }
   ],
   "source": [
    "history1 = model.fit(x_train, y_train, epochs=80, validation_data=(x_test, y_test), batch_size=64, shuffle=False, callbacks=[tensorboard])"
   ]
  },
  {
   "cell_type": "markdown",
   "id": "developing-pulse",
   "metadata": {},
   "source": [
    "### Prepare data for one stock"
   ]
  },
  {
   "cell_type": "code",
   "execution_count": 19,
   "id": "first-large",
   "metadata": {},
   "outputs": [],
   "source": [
    "single_stock_dataset = dataset[dataset['Ticker']=='MSFT'].reset_index(drop=True)"
   ]
  },
  {
   "cell_type": "markdown",
   "id": "charming-yacht",
   "metadata": {},
   "source": [
    "### Train test split"
   ]
  },
  {
   "cell_type": "code",
   "execution_count": 20,
   "id": "pacific-escape",
   "metadata": {},
   "outputs": [],
   "source": [
    "train = single_stock_dataset.loc[single_stock_dataset['Date'] < \"2020-03-13\"]\n",
    "test = single_stock_dataset.loc[single_stock_dataset['Date'] > \"2020-03-13\"]"
   ]
  },
  {
   "cell_type": "markdown",
   "id": "korean-swing",
   "metadata": {},
   "source": [
    "#### Prepare training inputs and outputs"
   ]
  },
  {
   "cell_type": "code",
   "execution_count": 21,
   "id": "supported-webmaster",
   "metadata": {},
   "outputs": [],
   "source": [
    "x_train, y_train = roll_all_stocks(train, trail_size, predict_length)"
   ]
  },
  {
   "cell_type": "code",
   "execution_count": 22,
   "id": "diverse-silver",
   "metadata": {},
   "outputs": [],
   "source": [
    "x_test, y_test = roll_all_stocks(test, trail_size, predict_length)"
   ]
  },
  {
   "cell_type": "markdown",
   "id": "funded-frequency",
   "metadata": {},
   "source": [
    "#### Confirm shapes"
   ]
  },
  {
   "cell_type": "code",
   "execution_count": 23,
   "id": "dominant-pilot",
   "metadata": {},
   "outputs": [
    {
     "name": "stdout",
     "output_type": "stream",
     "text": [
      "x_train: (733, 14, 5)\n",
      "y_train: (733,)\n",
      "x_test: (237, 14, 5)\n",
      "y_test (237,)\n"
     ]
    }
   ],
   "source": [
    "print(\"x_train: {}\".format(x_train.shape))\n",
    "print(\"y_train: {}\".format(y_train.shape))\n",
    "print(\"x_test: {}\".format(x_test.shape))\n",
    "print(\"y_test {}\".format(y_test.shape)) "
   ]
  },
  {
   "cell_type": "markdown",
   "id": "essential-scheduling",
   "metadata": {},
   "source": [
    "### Train model on single stock"
   ]
  },
  {
   "cell_type": "code",
   "execution_count": 25,
   "id": "vocal-allocation",
   "metadata": {},
   "outputs": [],
   "source": [
    "tensorboard = TensorBoard(log_dir='logs/{}_2'.format(time_stamp))"
   ]
  },
  {
   "cell_type": "code",
   "execution_count": 26,
   "id": "threatened-projection",
   "metadata": {},
   "outputs": [
    {
     "name": "stdout",
     "output_type": "stream",
     "text": [
      "Epoch 1/80\n",
      "12/12 [==============================] - 2s 150ms/step - loss: 0.0010 - val_loss: 0.0026\n",
      "Epoch 2/80\n",
      "12/12 [==============================] - 0s 12ms/step - loss: 0.0011 - val_loss: 0.0024\n",
      "Epoch 3/80\n",
      "12/12 [==============================] - 0s 13ms/step - loss: 0.0011 - val_loss: 0.0024\n",
      "Epoch 4/80\n",
      "12/12 [==============================] - 0s 12ms/step - loss: 8.6938e-04 - val_loss: 0.0023\n",
      "Epoch 5/80\n",
      "12/12 [==============================] - 0s 12ms/step - loss: 8.6176e-04 - val_loss: 0.0024\n",
      "Epoch 6/80\n",
      "12/12 [==============================] - 0s 12ms/step - loss: 8.5983e-04 - val_loss: 0.0024\n",
      "Epoch 7/80\n",
      "12/12 [==============================] - 0s 12ms/step - loss: 7.6234e-04 - val_loss: 0.0023\n",
      "Epoch 8/80\n",
      "12/12 [==============================] - 0s 12ms/step - loss: 8.1320e-04 - val_loss: 0.0024\n",
      "Epoch 9/80\n",
      "12/12 [==============================] - 0s 12ms/step - loss: 7.7783e-04 - val_loss: 0.0025\n",
      "Epoch 10/80\n",
      "12/12 [==============================] - 0s 14ms/step - loss: 7.1584e-04 - val_loss: 0.0024\n",
      "Epoch 11/80\n",
      "12/12 [==============================] - 0s 14ms/step - loss: 7.4745e-04 - val_loss: 0.0025\n",
      "Epoch 12/80\n",
      "12/12 [==============================] - 0s 13ms/step - loss: 7.0988e-04 - val_loss: 0.0027\n",
      "Epoch 13/80\n",
      "12/12 [==============================] - 0s 12ms/step - loss: 7.4243e-04 - val_loss: 0.0027\n",
      "Epoch 14/80\n",
      "12/12 [==============================] - 0s 13ms/step - loss: 7.0166e-04 - val_loss: 0.0029\n",
      "Epoch 15/80\n",
      "12/12 [==============================] - 0s 13ms/step - loss: 7.3564e-04 - val_loss: 0.0032\n",
      "Epoch 16/80\n",
      "12/12 [==============================] - 0s 12ms/step - loss: 6.7279e-04 - val_loss: 0.0033\n",
      "Epoch 17/80\n",
      "12/12 [==============================] - 0s 12ms/step - loss: 6.3732e-04 - val_loss: 0.0035\n",
      "Epoch 18/80\n",
      "12/12 [==============================] - 0s 11ms/step - loss: 7.1205e-04 - val_loss: 0.0038\n",
      "Epoch 19/80\n",
      "12/12 [==============================] - 0s 11ms/step - loss: 6.4923e-04 - val_loss: 0.0040\n",
      "Epoch 20/80\n",
      "12/12 [==============================] - 0s 12ms/step - loss: 6.4970e-04 - val_loss: 0.0040\n",
      "Epoch 21/80\n",
      "12/12 [==============================] - 0s 12ms/step - loss: 6.1635e-04 - val_loss: 0.0041\n",
      "Epoch 22/80\n",
      "12/12 [==============================] - 0s 12ms/step - loss: 6.9769e-04 - val_loss: 0.0042\n",
      "Epoch 23/80\n",
      "12/12 [==============================] - 0s 12ms/step - loss: 6.2136e-04 - val_loss: 0.0043\n",
      "Epoch 24/80\n",
      "12/12 [==============================] - 0s 13ms/step - loss: 6.8127e-04 - val_loss: 0.0047\n",
      "Epoch 25/80\n",
      "12/12 [==============================] - 0s 13ms/step - loss: 6.0612e-04 - val_loss: 0.0049\n",
      "Epoch 26/80\n",
      "12/12 [==============================] - 0s 13ms/step - loss: 6.2143e-04 - val_loss: 0.0047\n",
      "Epoch 27/80\n",
      "12/12 [==============================] - 0s 13ms/step - loss: 6.2750e-04 - val_loss: 0.0051\n",
      "Epoch 28/80\n",
      "12/12 [==============================] - 0s 12ms/step - loss: 6.2784e-04 - val_loss: 0.0049\n",
      "Epoch 29/80\n",
      "12/12 [==============================] - 0s 12ms/step - loss: 6.5191e-04 - val_loss: 0.0058\n",
      "Epoch 30/80\n",
      "12/12 [==============================] - 0s 11ms/step - loss: 6.3096e-04 - val_loss: 0.0060\n",
      "Epoch 31/80\n",
      "12/12 [==============================] - 0s 11ms/step - loss: 5.9824e-04 - val_loss: 0.0051\n",
      "Epoch 32/80\n",
      "12/12 [==============================] - 0s 11ms/step - loss: 6.1573e-04 - val_loss: 0.0057\n",
      "Epoch 33/80\n",
      "12/12 [==============================] - 0s 11ms/step - loss: 6.4287e-04 - val_loss: 0.0063\n",
      "Epoch 34/80\n",
      "12/12 [==============================] - 0s 11ms/step - loss: 6.4384e-04 - val_loss: 0.0055\n",
      "Epoch 35/80\n",
      "12/12 [==============================] - 0s 11ms/step - loss: 6.2716e-04 - val_loss: 0.0055\n",
      "Epoch 36/80\n",
      "12/12 [==============================] - 0s 12ms/step - loss: 6.0104e-04 - val_loss: 0.0065\n",
      "Epoch 37/80\n",
      "12/12 [==============================] - 0s 14ms/step - loss: 6.1950e-04 - val_loss: 0.0060\n",
      "Epoch 38/80\n",
      "12/12 [==============================] - 0s 13ms/step - loss: 5.5296e-04 - val_loss: 0.0057\n",
      "Epoch 39/80\n",
      "12/12 [==============================] - 0s 13ms/step - loss: 6.1745e-04 - val_loss: 0.0061\n",
      "Epoch 40/80\n",
      "12/12 [==============================] - 0s 12ms/step - loss: 5.7208e-04 - val_loss: 0.0071\n",
      "Epoch 41/80\n",
      "12/12 [==============================] - 0s 12ms/step - loss: 6.1278e-04 - val_loss: 0.0061\n",
      "Epoch 42/80\n",
      "12/12 [==============================] - 0s 12ms/step - loss: 5.6727e-04 - val_loss: 0.0055\n",
      "Epoch 43/80\n",
      "12/12 [==============================] - 0s 12ms/step - loss: 6.3181e-04 - val_loss: 0.0063\n",
      "Epoch 44/80\n",
      "12/12 [==============================] - 0s 11ms/step - loss: 5.7324e-04 - val_loss: 0.0056\n",
      "Epoch 45/80\n",
      "12/12 [==============================] - 0s 12ms/step - loss: 5.8008e-04 - val_loss: 0.0065\n",
      "Epoch 46/80\n",
      "12/12 [==============================] - 0s 12ms/step - loss: 5.7148e-04 - val_loss: 0.0063\n",
      "Epoch 47/80\n",
      "12/12 [==============================] - 0s 11ms/step - loss: 6.0557e-04 - val_loss: 0.0060\n",
      "Epoch 48/80\n",
      "12/12 [==============================] - 0s 11ms/step - loss: 6.2032e-04 - val_loss: 0.0077\n",
      "Epoch 49/80\n",
      "12/12 [==============================] - 0s 11ms/step - loss: 5.8394e-04 - val_loss: 0.0045\n",
      "Epoch 50/80\n",
      "12/12 [==============================] - 0s 11ms/step - loss: 6.9138e-04 - val_loss: 0.0073\n",
      "Epoch 51/80\n",
      "12/12 [==============================] - 0s 13ms/step - loss: 6.2832e-04 - val_loss: 0.0065\n",
      "Epoch 52/80\n",
      "12/12 [==============================] - 0s 13ms/step - loss: 5.8373e-04 - val_loss: 0.0073\n",
      "Epoch 53/80\n",
      "12/12 [==============================] - 0s 12ms/step - loss: 6.6808e-04 - val_loss: 0.0064\n",
      "Epoch 54/80\n",
      "12/12 [==============================] - 0s 13ms/step - loss: 5.9009e-04 - val_loss: 0.0061\n",
      "Epoch 55/80\n",
      "12/12 [==============================] - 0s 13ms/step - loss: 5.4845e-04 - val_loss: 0.0068\n",
      "Epoch 56/80\n",
      "12/12 [==============================] - 0s 12ms/step - loss: 6.0330e-04 - val_loss: 0.0070\n",
      "Epoch 57/80\n",
      "12/12 [==============================] - 0s 12ms/step - loss: 5.6525e-04 - val_loss: 0.0085\n",
      "Epoch 58/80\n",
      "12/12 [==============================] - 0s 11ms/step - loss: 5.8923e-04 - val_loss: 0.0066\n",
      "Epoch 59/80\n",
      "12/12 [==============================] - 0s 12ms/step - loss: 6.4944e-04 - val_loss: 0.0067\n",
      "Epoch 60/80\n",
      "12/12 [==============================] - 0s 11ms/step - loss: 5.7837e-04 - val_loss: 0.0094\n",
      "Epoch 61/80\n",
      "12/12 [==============================] - 0s 10ms/step - loss: 6.4554e-04 - val_loss: 0.0051\n",
      "Epoch 62/80\n",
      "12/12 [==============================] - 0s 11ms/step - loss: 6.1809e-04 - val_loss: 0.0094\n",
      "Epoch 63/80\n",
      "12/12 [==============================] - 0s 12ms/step - loss: 6.2097e-04 - val_loss: 0.0061\n",
      "Epoch 64/80\n",
      "12/12 [==============================] - 0s 12ms/step - loss: 6.3298e-04 - val_loss: 0.0072\n",
      "Epoch 65/80\n",
      "12/12 [==============================] - 0s 12ms/step - loss: 5.6237e-04 - val_loss: 0.0103\n",
      "Epoch 66/80\n",
      "12/12 [==============================] - 0s 12ms/step - loss: 5.6005e-04 - val_loss: 0.0076\n",
      "Epoch 67/80\n",
      "12/12 [==============================] - 0s 12ms/step - loss: 5.8627e-04 - val_loss: 0.0086\n",
      "Epoch 68/80\n",
      "12/12 [==============================] - 0s 12ms/step - loss: 5.4478e-04 - val_loss: 0.0094\n",
      "Epoch 69/80\n",
      "12/12 [==============================] - 0s 13ms/step - loss: 5.5817e-04 - val_loss: 0.0097\n",
      "Epoch 70/80\n",
      "12/12 [==============================] - 0s 13ms/step - loss: 5.3511e-04 - val_loss: 0.0071\n",
      "Epoch 71/80\n",
      "12/12 [==============================] - 0s 13ms/step - loss: 5.4162e-04 - val_loss: 0.0067\n",
      "Epoch 72/80\n",
      "12/12 [==============================] - 0s 12ms/step - loss: 5.7885e-04 - val_loss: 0.0101\n",
      "Epoch 73/80\n",
      "12/12 [==============================] - 0s 14ms/step - loss: 5.7425e-04 - val_loss: 0.0104\n",
      "Epoch 74/80\n",
      "12/12 [==============================] - 0s 12ms/step - loss: 5.6098e-04 - val_loss: 0.0089\n",
      "Epoch 75/80\n",
      "12/12 [==============================] - 0s 11ms/step - loss: 6.0008e-04 - val_loss: 0.0159\n",
      "Epoch 76/80\n",
      "12/12 [==============================] - 0s 12ms/step - loss: 7.4085e-04 - val_loss: 0.0042\n",
      "Epoch 77/80\n",
      "12/12 [==============================] - 0s 12ms/step - loss: 8.4243e-04 - val_loss: 0.0162\n",
      "Epoch 78/80\n",
      "12/12 [==============================] - 0s 11ms/step - loss: 9.5041e-04 - val_loss: 0.0036\n",
      "Epoch 79/80\n",
      "12/12 [==============================] - 0s 12ms/step - loss: 7.5527e-04 - val_loss: 0.0068\n"
     ]
    },
    {
     "name": "stdout",
     "output_type": "stream",
     "text": [
      "Epoch 80/80\n",
      "12/12 [==============================] - 0s 12ms/step - loss: 6.7512e-04 - val_loss: 0.0087\n"
     ]
    }
   ],
   "source": [
    "history2 = model.fit(x_train, y_train, epochs=80, validation_data=(x_test, y_test), batch_size=64, shuffle=False, callbacks=[tensorboard])"
   ]
  },
  {
   "cell_type": "markdown",
   "id": "promising-republican",
   "metadata": {},
   "source": [
    "### Visualize results"
   ]
  },
  {
   "cell_type": "code",
   "execution_count": 27,
   "id": "greatest-sodium",
   "metadata": {},
   "outputs": [
    {
     "data": {
      "image/png": "[encoded data removed]",
      "text/plain": [
       "<Figure size 576x432 with 1 Axes>"
      ]
     },
     "metadata": {
      "needs_background": "light"
     },
     "output_type": "display_data"
    }
   ],
   "source": [
    "plot_loss(history1)"
   ]
  },
  {
   "cell_type": "code",
   "execution_count": 29,
   "id": "vanilla-reception",
   "metadata": {},
   "outputs": [
    {
     "data": {
      "image/png": "[encoded data removed]",
      "text/plain": [
       "<Figure size 576x432 with 1 Axes>"
      ]
     },
     "metadata": {
      "needs_background": "light"
     },
     "output_type": "display_data"
    }
   ],
   "source": [
    "plot_loss(history2)"
   ]
  },
  {
   "cell_type": "code",
   "execution_count": 30,
   "id": "prepared-principal",
   "metadata": {},
   "outputs": [
    {
     "name": "stdout",
     "output_type": "stream",
     "text": [
      "Training RMSE = 3.3345976993825492\n"
     ]
    }
   ],
   "source": [
    "print(\"Training RMSE = {}\".format(evaluate_model_rmse(model.predict(x_train), \n",
    "                                                      y_train,\n",
    "                                                     num_features,\n",
    "                                                     sc)))"
   ]
  },
  {
   "cell_type": "code",
   "execution_count": 31,
   "id": "final-advertising",
   "metadata": {},
   "outputs": [
    {
     "name": "stdout",
     "output_type": "stream",
     "text": [
      "Testing RMSE = 15.740957211078946\n"
     ]
    }
   ],
   "source": [
    "print(\"Testing RMSE = {}\".format(evaluate_model_rmse(model.predict(x_test), \n",
    "                                                     y_test,\n",
    "                                                    num_features,\n",
    "                                                    sc)))"
   ]
  },
  {
   "cell_type": "markdown",
   "id": "caroline-consumer",
   "metadata": {},
   "source": [
    "#### Compare to simple baseline"
   ]
  },
  {
   "cell_type": "code",
   "execution_count": 32,
   "id": "coral-dodge",
   "metadata": {},
   "outputs": [],
   "source": [
    "def predict_no_change(x):\n",
    "    return x[-1][0]"
   ]
  },
  {
   "cell_type": "code",
   "execution_count": 33,
   "id": "lightweight-spray",
   "metadata": {},
   "outputs": [],
   "source": [
    "no_change_preds = np.array([predict_no_change(x) for x in x_train])\n",
    "no_change_preds = np.expand_dims(no_change_preds, axis=1)"
   ]
  },
  {
   "cell_type": "code",
   "execution_count": 34,
   "id": "genetic-holly",
   "metadata": {},
   "outputs": [
    {
     "data": {
      "text/plain": [
       "3.672158117675387"
      ]
     },
     "execution_count": 34,
     "metadata": {},
     "output_type": "execute_result"
    }
   ],
   "source": [
    "evaluate_model_rmse(no_change_preds, y_train, num_features, sc)"
   ]
  },
  {
   "cell_type": "code",
   "execution_count": 35,
   "id": "injured-loading",
   "metadata": {},
   "outputs": [],
   "source": [
    "no_change_preds = np.array([predict_no_change(x) for x in x_test])\n",
    "no_change_preds = np.expand_dims(no_change_preds, axis=1)"
   ]
  },
  {
   "cell_type": "code",
   "execution_count": 36,
   "id": "wound-pantyhose",
   "metadata": {},
   "outputs": [
    {
     "data": {
      "text/plain": [
       "7.626194136851525"
      ]
     },
     "execution_count": 36,
     "metadata": {},
     "output_type": "execute_result"
    }
   ],
   "source": [
    "evaluate_model_rmse(no_change_preds, y_test, num_features, sc)"
   ]
  },
  {
   "cell_type": "code",
   "execution_count": null,
   "id": "monthly-ethernet",
   "metadata": {},
   "outputs": [],
   "source": []
  }
 ],
 "metadata": {
  "kernelspec": {
   "display_name": "Python 3",
   "language": "python",
   "name": "python3"
  },
  "language_info": {
   "codemirror_mode": {
    "name": "ipython",
    "version": 3
   },
   "file_extension": ".py",
   "mimetype": "text/x-python",
   "name": "python",
   "nbconvert_exporter": "python",
   "pygments_lexer": "ipython3",
   "version": "3.8.5"
  }
 },
 "nbformat": 4,
 "nbformat_minor": 5
}
