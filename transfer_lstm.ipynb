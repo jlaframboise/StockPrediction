{
 "cells": [
  {
   "cell_type": "markdown",
   "id": "cardiac-marijuana",
   "metadata": {},
   "source": [
    "### Imports"
   ]
  },
  {
   "cell_type": "code",
   "execution_count": 1,
   "id": "bored-abraham",
   "metadata": {},
   "outputs": [
    {
     "data": {
      "text/html": [
       "<style>.container { width:100% !important; }</style>"
      ],
      "text/plain": [
       "<IPython.core.display.HTML object>"
      ]
     },
     "metadata": {},
     "output_type": "display_data"
    }
   ],
   "source": [
    "import os, sys\n",
    "import pandas as pd\n",
    "import numpy as np\n",
    "import yfinance as yf\n",
    "import matplotlib.pyplot as plt\n",
    "import seaborn as sns\n",
    "import random\n",
    "\n",
    "import tensorflow as tf\n",
    "from tensorflow.keras import Input, Model\n",
    "from tensorflow.keras.models import Sequential\n",
    "from tensorflow.keras.layers import *\n",
    "from tensorflow.keras.losses import CategoricalCrossentropy\n",
    "from tensorflow.keras.utils import to_categorical, plot_model\n",
    "from tensorflow.keras.preprocessing.sequence import TimeseriesGenerator\n",
    "from sklearn.metrics import confusion_matrix, mean_squared_error\n",
    "from sklearn.feature_extraction.text import CountVectorizer\n",
    "from sklearn.preprocessing import StandardScaler, MinMaxScaler, RobustScaler\n",
    "\n",
    "from time import time\n",
    "from tensorflow.python.keras.callbacks import TensorBoard\n",
    "\n",
    "from indicators import *\n",
    "from data_loading import *\n",
    "from util_functions import *\n",
    "\n",
    "\n",
    "physical_devices = tf.config.list_physical_devices('GPU')\n",
    "tf.config.experimental.set_memory_growth(physical_devices[0], enable=True)\n",
    "\n",
    "from IPython.core.display import display, HTML\n",
    "display(HTML(\"<style>.container { width:100% !important; }</style>\"))\n",
    "\n",
    "pd.set_option('display.max_rows', 500)\n",
    "pd.set_option('display.max_columns', 500)\n",
    "pd.set_option('display.width', 1000)\n"
   ]
  },
  {
   "cell_type": "markdown",
   "id": "approved-battlefield",
   "metadata": {},
   "source": [
    "### Parameters"
   ]
  },
  {
   "cell_type": "code",
   "execution_count": 2,
   "id": "engaged-november",
   "metadata": {},
   "outputs": [],
   "source": [
    "trail_size=14\n",
    "predict_length = 5\n",
    "time_period = '6y'"
   ]
  },
  {
   "cell_type": "markdown",
   "id": "literary-morgan",
   "metadata": {},
   "source": [
    "### Load data"
   ]
  },
  {
   "cell_type": "code",
   "execution_count": 3,
   "id": "beginning-comparison",
   "metadata": {},
   "outputs": [],
   "source": [
    "top100tech = ['AAPL', 'MSFT', 'TSM', 'NVDA', 'INTC', 'ASML', 'ADBE', 'CRM', 'AVGO', 'ORCL', 'CSCO', 'ACN', 'TXN', 'SHOP', 'QCOM', 'SAP', 'SNE', 'AMAT', 'INTU', 'NOW', 'SQ', 'IBM', 'MU', 'AMD',\n",
    "'UBER', 'FIS', 'LRCX', 'FISV', 'SNOW', 'INFY', 'TEAM', 'ADSK', 'DELL', 'WDAY', 'VMW', 'ADI', 'NXPI', 'KLAC',\n",
    "'CRWD', 'PLTR', 'DOCU', 'TEL', 'ERIC', 'MCHP', 'CDNS', 'CTSH', 'APH', 'SNPS', 'HPQ',\n",
    "'PANW', 'OKTA','RNG','STM','MRVL','XLNX','WIT','MSI','SWKS','GLW','DDOG','ANSS','U','ZS','FTNT','STNE','ZBRA','KEYS','FTV','MXIM','COUP','GRMN','SPLK','HUBS','WORK','NET','FLT','CDW','CAJ','AFRM','PAYC','TER',\n",
    "'VRSN','WDC', 'ZI', 'UMC','ANET','EPAM', 'UI','XM',\n",
    "'GIB','TRMB', 'TYL','WIX','HPE','LYFT', 'LOGI', 'MPWR']\n",
    "top10tech = top100tech[:10]"
   ]
  },
  {
   "cell_type": "code",
   "execution_count": 4,
   "id": "stretch-video",
   "metadata": {},
   "outputs": [],
   "source": [
    "top_energy = [\"XOM\", \"CVX\", \"RDS-A\", \"RDS-B\", \"PTR\", \"TOT\", \"BP\",\n",
    "\"SNP\", \"ENB\", \"COP\", \"EQNR\", \"PBR-A\", \"PBR\", \"EPD\",\n",
    "\"TRP\", \"E\", \"EOG\", \"SLB\", \"KMI\", \"PSX\", \"CNQ\",\n",
    "\"MPC\", \"PXD\", \"SU\", \"VLO\"]"
   ]
  },
  {
   "cell_type": "code",
   "execution_count": 5,
   "id": "devoted-wages",
   "metadata": {},
   "outputs": [
    {
     "name": "stdout",
     "output_type": "stream",
     "text": [
      "[*********************100%***********************]  25 of 25 completed\n"
     ]
    }
   ],
   "source": [
    "data = get_data_yf(top_energy, time_period)"
   ]
  },
  {
   "cell_type": "code",
   "execution_count": 6,
   "id": "qualified-concept",
   "metadata": {},
   "outputs": [
    {
     "data": {
      "text/plain": [
       "0"
      ]
     },
     "execution_count": 6,
     "metadata": {},
     "output_type": "execute_result"
    }
   ],
   "source": [
    "data.isna().sum().sum()"
   ]
  },
  {
   "cell_type": "code",
   "execution_count": 7,
   "id": "vanilla-swiss",
   "metadata": {},
   "outputs": [],
   "source": [
    "data = process_stock_data_from_yf(data)"
   ]
  },
  {
   "cell_type": "code",
   "execution_count": 8,
   "id": "harmful-shield",
   "metadata": {},
   "outputs": [
    {
     "data": {
      "text/plain": [
       "100.0"
      ]
     },
     "execution_count": 8,
     "metadata": {},
     "output_type": "execute_result"
    }
   ],
   "source": [
    "has_data_ratio, data = filter_has_all_data(data)\n",
    "has_data_ratio"
   ]
  },
  {
   "cell_type": "markdown",
   "id": "warming-specific",
   "metadata": {},
   "source": [
    "### Compute technical indicators"
   ]
  },
  {
   "cell_type": "code",
   "execution_count": 9,
   "id": "cooked-dutch",
   "metadata": {},
   "outputs": [],
   "source": [
    "# compute all our technical markers for each of the stocks. \n",
    "dataset = data.groupby('Ticker').apply(lambda x: add_technical_markers(x, trail_size))"
   ]
  },
  {
   "cell_type": "markdown",
   "id": "interesting-outdoors",
   "metadata": {},
   "source": [
    "### Choose features"
   ]
  },
  {
   "cell_type": "code",
   "execution_count": 10,
   "id": "medical-directive",
   "metadata": {},
   "outputs": [],
   "source": [
    "features = ['Close', 'High',\n",
    " 'Low', 'Open', 'Volume',\n",
    " 'HH', 'LL', 'AV',\n",
    " 'SMA', 'SD', 'WILLR',\n",
    " 'ATR', 'DMH', 'DML',\n",
    " 'EMA', 'WMA', 'BBHIGH',\n",
    " 'BBLOW', 'PERBHIGH', 'PERBLOW',\n",
    " 'TRIMA', 'RSI', 'DX',\n",
    " 'PDI', 'NDI', 'ADX',\n",
    " 'ROC', 'MACD', 'CCI']\n",
    "dataset = dataset[['Ticker', 'Date'] + features]\n",
    "num_features = len(features)"
   ]
  },
  {
   "cell_type": "markdown",
   "id": "alien-rogers",
   "metadata": {},
   "source": [
    "### Normalization\n",
    "We want to normalize the prices, and there are two challenges\n",
    "1. We want to be able to recover performance metrics like RMSE in dollars, so we have to have the saved transforms for closing price to un transform after prediction. \n",
    "2. We will want to normalize the data within each year, because the stock will tend to have different averages in different years\n",
    "3. We will want to normalize each different company differently, because the stocks will be of differing magnitudes"
   ]
  },
  {
   "cell_type": "markdown",
   "id": "friendly-hampton",
   "metadata": {},
   "source": [
    "### Train test split"
   ]
  },
  {
   "cell_type": "code",
   "execution_count": 12,
   "id": "pacific-escape",
   "metadata": {},
   "outputs": [],
   "source": [
    "train = dataset.loc[dataset['Date'] < \"2018-03-01\"]\n",
    "valid = dataset.loc[(dataset['Date'] > \"2018-03-13\") & (dataset['Date'] < \"2019-03-01\")]\n",
    "test = dataset.loc[(dataset['Date'] > \"2019-03-01\") & (dataset['Date'] < \"2020-03-01\")]"
   ]
  },
  {
   "cell_type": "markdown",
   "id": "mexican-annotation",
   "metadata": {},
   "source": [
    "#### Per stock normalization\n",
    "We make sure to fit the transforms on the training, and\n",
    "apply them on training, validation, and test"
   ]
  },
  {
   "cell_type": "code",
   "execution_count": 13,
   "id": "crucial-picnic",
   "metadata": {},
   "outputs": [
    {
     "name": "stderr",
     "output_type": "stream",
     "text": [
      "C:\\Users\\jaker\\miniconda3\\envs\\finance\\lib\\site-packages\\pandas\\core\\indexing.py:1738: SettingWithCopyWarning: \n",
      "A value is trying to be set on a copy of a slice from a DataFrame.\n",
      "Try using .loc[row_indexer,col_indexer] = value instead\n",
      "\n",
      "See the caveats in the documentation: https://pandas.pydata.org/pandas-docs/stable/user_guide/indexing.html#returning-a-view-versus-a-copy\n",
      "  self._setitem_single_column(loc, value[:, i].tolist(), pi)\n",
      "C:\\Users\\jaker\\miniconda3\\envs\\finance\\lib\\site-packages\\pandas\\core\\indexing.py:1738: SettingWithCopyWarning: \n",
      "A value is trying to be set on a copy of a slice from a DataFrame.\n",
      "Try using .loc[row_indexer,col_indexer] = value instead\n",
      "\n",
      "See the caveats in the documentation: https://pandas.pydata.org/pandas-docs/stable/user_guide/indexing.html#returning-a-view-versus-a-copy\n",
      "  self._setitem_single_column(loc, value[:, i].tolist(), pi)\n",
      "C:\\Users\\jaker\\miniconda3\\envs\\finance\\lib\\site-packages\\pandas\\core\\indexing.py:1738: SettingWithCopyWarning: \n",
      "A value is trying to be set on a copy of a slice from a DataFrame.\n",
      "Try using .loc[row_indexer,col_indexer] = value instead\n",
      "\n",
      "See the caveats in the documentation: https://pandas.pydata.org/pandas-docs/stable/user_guide/indexing.html#returning-a-view-versus-a-copy\n",
      "  self._setitem_single_column(loc, value[:, i].tolist(), pi)\n",
      "C:\\Users\\jaker\\miniconda3\\envs\\finance\\lib\\site-packages\\pandas\\core\\indexing.py:1738: SettingWithCopyWarning: \n",
      "A value is trying to be set on a copy of a slice from a DataFrame.\n",
      "Try using .loc[row_indexer,col_indexer] = value instead\n",
      "\n",
      "See the caveats in the documentation: https://pandas.pydata.org/pandas-docs/stable/user_guide/indexing.html#returning-a-view-versus-a-copy\n",
      "  self._setitem_single_column(loc, value[:, i].tolist(), pi)\n",
      "C:\\Users\\jaker\\miniconda3\\envs\\finance\\lib\\site-packages\\pandas\\core\\indexing.py:1738: SettingWithCopyWarning: \n",
      "A value is trying to be set on a copy of a slice from a DataFrame.\n",
      "Try using .loc[row_indexer,col_indexer] = value instead\n",
      "\n",
      "See the caveats in the documentation: https://pandas.pydata.org/pandas-docs/stable/user_guide/indexing.html#returning-a-view-versus-a-copy\n",
      "  self._setitem_single_column(loc, value[:, i].tolist(), pi)\n",
      "C:\\Users\\jaker\\miniconda3\\envs\\finance\\lib\\site-packages\\pandas\\core\\indexing.py:1738: SettingWithCopyWarning: \n",
      "A value is trying to be set on a copy of a slice from a DataFrame.\n",
      "Try using .loc[row_indexer,col_indexer] = value instead\n",
      "\n",
      "See the caveats in the documentation: https://pandas.pydata.org/pandas-docs/stable/user_guide/indexing.html#returning-a-view-versus-a-copy\n",
      "  self._setitem_single_column(loc, value[:, i].tolist(), pi)\n",
      "C:\\Users\\jaker\\miniconda3\\envs\\finance\\lib\\site-packages\\pandas\\core\\indexing.py:1738: SettingWithCopyWarning: \n",
      "A value is trying to be set on a copy of a slice from a DataFrame.\n",
      "Try using .loc[row_indexer,col_indexer] = value instead\n",
      "\n",
      "See the caveats in the documentation: https://pandas.pydata.org/pandas-docs/stable/user_guide/indexing.html#returning-a-view-versus-a-copy\n",
      "  self._setitem_single_column(loc, value[:, i].tolist(), pi)\n",
      "C:\\Users\\jaker\\miniconda3\\envs\\finance\\lib\\site-packages\\pandas\\core\\indexing.py:1738: SettingWithCopyWarning: \n",
      "A value is trying to be set on a copy of a slice from a DataFrame.\n",
      "Try using .loc[row_indexer,col_indexer] = value instead\n",
      "\n",
      "See the caveats in the documentation: https://pandas.pydata.org/pandas-docs/stable/user_guide/indexing.html#returning-a-view-versus-a-copy\n",
      "  self._setitem_single_column(loc, value[:, i].tolist(), pi)\n",
      "C:\\Users\\jaker\\miniconda3\\envs\\finance\\lib\\site-packages\\pandas\\core\\indexing.py:1738: SettingWithCopyWarning: \n",
      "A value is trying to be set on a copy of a slice from a DataFrame.\n",
      "Try using .loc[row_indexer,col_indexer] = value instead\n",
      "\n",
      "See the caveats in the documentation: https://pandas.pydata.org/pandas-docs/stable/user_guide/indexing.html#returning-a-view-versus-a-copy\n",
      "  self._setitem_single_column(loc, value[:, i].tolist(), pi)\n",
      "C:\\Users\\jaker\\miniconda3\\envs\\finance\\lib\\site-packages\\pandas\\core\\indexing.py:1738: SettingWithCopyWarning: \n",
      "A value is trying to be set on a copy of a slice from a DataFrame.\n",
      "Try using .loc[row_indexer,col_indexer] = value instead\n",
      "\n",
      "See the caveats in the documentation: https://pandas.pydata.org/pandas-docs/stable/user_guide/indexing.html#returning-a-view-versus-a-copy\n",
      "  self._setitem_single_column(loc, value[:, i].tolist(), pi)\n",
      "C:\\Users\\jaker\\miniconda3\\envs\\finance\\lib\\site-packages\\pandas\\core\\indexing.py:1738: SettingWithCopyWarning: \n",
      "A value is trying to be set on a copy of a slice from a DataFrame.\n",
      "Try using .loc[row_indexer,col_indexer] = value instead\n",
      "\n",
      "See the caveats in the documentation: https://pandas.pydata.org/pandas-docs/stable/user_guide/indexing.html#returning-a-view-versus-a-copy\n",
      "  self._setitem_single_column(loc, value[:, i].tolist(), pi)\n",
      "C:\\Users\\jaker\\miniconda3\\envs\\finance\\lib\\site-packages\\pandas\\core\\indexing.py:1738: SettingWithCopyWarning: \n",
      "A value is trying to be set on a copy of a slice from a DataFrame.\n",
      "Try using .loc[row_indexer,col_indexer] = value instead\n",
      "\n",
      "See the caveats in the documentation: https://pandas.pydata.org/pandas-docs/stable/user_guide/indexing.html#returning-a-view-versus-a-copy\n",
      "  self._setitem_single_column(loc, value[:, i].tolist(), pi)\n",
      "C:\\Users\\jaker\\miniconda3\\envs\\finance\\lib\\site-packages\\pandas\\core\\indexing.py:1738: SettingWithCopyWarning: \n",
      "A value is trying to be set on a copy of a slice from a DataFrame.\n",
      "Try using .loc[row_indexer,col_indexer] = value instead\n",
      "\n",
      "See the caveats in the documentation: https://pandas.pydata.org/pandas-docs/stable/user_guide/indexing.html#returning-a-view-versus-a-copy\n",
      "  self._setitem_single_column(loc, value[:, i].tolist(), pi)\n",
      "C:\\Users\\jaker\\miniconda3\\envs\\finance\\lib\\site-packages\\pandas\\core\\indexing.py:1738: SettingWithCopyWarning: \n",
      "A value is trying to be set on a copy of a slice from a DataFrame.\n",
      "Try using .loc[row_indexer,col_indexer] = value instead\n",
      "\n",
      "See the caveats in the documentation: https://pandas.pydata.org/pandas-docs/stable/user_guide/indexing.html#returning-a-view-versus-a-copy\n",
      "  self._setitem_single_column(loc, value[:, i].tolist(), pi)\n",
      "C:\\Users\\jaker\\miniconda3\\envs\\finance\\lib\\site-packages\\pandas\\core\\indexing.py:1738: SettingWithCopyWarning: \n",
      "A value is trying to be set on a copy of a slice from a DataFrame.\n",
      "Try using .loc[row_indexer,col_indexer] = value instead\n",
      "\n",
      "See the caveats in the documentation: https://pandas.pydata.org/pandas-docs/stable/user_guide/indexing.html#returning-a-view-versus-a-copy\n",
      "  self._setitem_single_column(loc, value[:, i].tolist(), pi)\n",
      "C:\\Users\\jaker\\miniconda3\\envs\\finance\\lib\\site-packages\\pandas\\core\\indexing.py:1738: SettingWithCopyWarning: \n",
      "A value is trying to be set on a copy of a slice from a DataFrame.\n",
      "Try using .loc[row_indexer,col_indexer] = value instead\n",
      "\n",
      "See the caveats in the documentation: https://pandas.pydata.org/pandas-docs/stable/user_guide/indexing.html#returning-a-view-versus-a-copy\n",
      "  self._setitem_single_column(loc, value[:, i].tolist(), pi)\n",
      "C:\\Users\\jaker\\miniconda3\\envs\\finance\\lib\\site-packages\\pandas\\core\\indexing.py:1738: SettingWithCopyWarning: \n",
      "A value is trying to be set on a copy of a slice from a DataFrame.\n",
      "Try using .loc[row_indexer,col_indexer] = value instead\n",
      "\n",
      "See the caveats in the documentation: https://pandas.pydata.org/pandas-docs/stable/user_guide/indexing.html#returning-a-view-versus-a-copy\n",
      "  self._setitem_single_column(loc, value[:, i].tolist(), pi)\n",
      "C:\\Users\\jaker\\miniconda3\\envs\\finance\\lib\\site-packages\\pandas\\core\\indexing.py:1738: SettingWithCopyWarning: \n",
      "A value is trying to be set on a copy of a slice from a DataFrame.\n",
      "Try using .loc[row_indexer,col_indexer] = value instead\n",
      "\n",
      "See the caveats in the documentation: https://pandas.pydata.org/pandas-docs/stable/user_guide/indexing.html#returning-a-view-versus-a-copy\n",
      "  self._setitem_single_column(loc, value[:, i].tolist(), pi)\n",
      "C:\\Users\\jaker\\miniconda3\\envs\\finance\\lib\\site-packages\\pandas\\core\\indexing.py:1738: SettingWithCopyWarning: \n",
      "A value is trying to be set on a copy of a slice from a DataFrame.\n",
      "Try using .loc[row_indexer,col_indexer] = value instead\n",
      "\n",
      "See the caveats in the documentation: https://pandas.pydata.org/pandas-docs/stable/user_guide/indexing.html#returning-a-view-versus-a-copy\n",
      "  self._setitem_single_column(loc, value[:, i].tolist(), pi)\n",
      "C:\\Users\\jaker\\miniconda3\\envs\\finance\\lib\\site-packages\\pandas\\core\\indexing.py:1738: SettingWithCopyWarning: \n",
      "A value is trying to be set on a copy of a slice from a DataFrame.\n",
      "Try using .loc[row_indexer,col_indexer] = value instead\n",
      "\n",
      "See the caveats in the documentation: https://pandas.pydata.org/pandas-docs/stable/user_guide/indexing.html#returning-a-view-versus-a-copy\n",
      "  self._setitem_single_column(loc, value[:, i].tolist(), pi)\n",
      "C:\\Users\\jaker\\miniconda3\\envs\\finance\\lib\\site-packages\\pandas\\core\\indexing.py:1738: SettingWithCopyWarning: \n",
      "A value is trying to be set on a copy of a slice from a DataFrame.\n",
      "Try using .loc[row_indexer,col_indexer] = value instead\n",
      "\n",
      "See the caveats in the documentation: https://pandas.pydata.org/pandas-docs/stable/user_guide/indexing.html#returning-a-view-versus-a-copy\n",
      "  self._setitem_single_column(loc, value[:, i].tolist(), pi)\n",
      "C:\\Users\\jaker\\miniconda3\\envs\\finance\\lib\\site-packages\\pandas\\core\\indexing.py:1738: SettingWithCopyWarning: \n",
      "A value is trying to be set on a copy of a slice from a DataFrame.\n",
      "Try using .loc[row_indexer,col_indexer] = value instead\n",
      "\n",
      "See the caveats in the documentation: https://pandas.pydata.org/pandas-docs/stable/user_guide/indexing.html#returning-a-view-versus-a-copy\n",
      "  self._setitem_single_column(loc, value[:, i].tolist(), pi)\n",
      "C:\\Users\\jaker\\miniconda3\\envs\\finance\\lib\\site-packages\\pandas\\core\\indexing.py:1738: SettingWithCopyWarning: \n",
      "A value is trying to be set on a copy of a slice from a DataFrame.\n",
      "Try using .loc[row_indexer,col_indexer] = value instead\n",
      "\n",
      "See the caveats in the documentation: https://pandas.pydata.org/pandas-docs/stable/user_guide/indexing.html#returning-a-view-versus-a-copy\n",
      "  self._setitem_single_column(loc, value[:, i].tolist(), pi)\n",
      "C:\\Users\\jaker\\miniconda3\\envs\\finance\\lib\\site-packages\\pandas\\core\\indexing.py:1738: SettingWithCopyWarning: \n",
      "A value is trying to be set on a copy of a slice from a DataFrame.\n",
      "Try using .loc[row_indexer,col_indexer] = value instead\n",
      "\n",
      "See the caveats in the documentation: https://pandas.pydata.org/pandas-docs/stable/user_guide/indexing.html#returning-a-view-versus-a-copy\n",
      "  self._setitem_single_column(loc, value[:, i].tolist(), pi)\n",
      "C:\\Users\\jaker\\miniconda3\\envs\\finance\\lib\\site-packages\\pandas\\core\\indexing.py:1738: SettingWithCopyWarning: \n",
      "A value is trying to be set on a copy of a slice from a DataFrame.\n",
      "Try using .loc[row_indexer,col_indexer] = value instead\n",
      "\n",
      "See the caveats in the documentation: https://pandas.pydata.org/pandas-docs/stable/user_guide/indexing.html#returning-a-view-versus-a-copy\n",
      "  self._setitem_single_column(loc, value[:, i].tolist(), pi)\n"
     ]
    },
    {
     "name": "stderr",
     "output_type": "stream",
     "text": [
      "C:\\Users\\jaker\\miniconda3\\envs\\finance\\lib\\site-packages\\pandas\\core\\indexing.py:1738: SettingWithCopyWarning: \n",
      "A value is trying to be set on a copy of a slice from a DataFrame.\n",
      "Try using .loc[row_indexer,col_indexer] = value instead\n",
      "\n",
      "See the caveats in the documentation: https://pandas.pydata.org/pandas-docs/stable/user_guide/indexing.html#returning-a-view-versus-a-copy\n",
      "  self._setitem_single_column(loc, value[:, i].tolist(), pi)\n",
      "C:\\Users\\jaker\\miniconda3\\envs\\finance\\lib\\site-packages\\pandas\\core\\indexing.py:1738: SettingWithCopyWarning: \n",
      "A value is trying to be set on a copy of a slice from a DataFrame.\n",
      "Try using .loc[row_indexer,col_indexer] = value instead\n",
      "\n",
      "See the caveats in the documentation: https://pandas.pydata.org/pandas-docs/stable/user_guide/indexing.html#returning-a-view-versus-a-copy\n",
      "  self._setitem_single_column(loc, value[:, i].tolist(), pi)\n",
      "C:\\Users\\jaker\\miniconda3\\envs\\finance\\lib\\site-packages\\pandas\\core\\indexing.py:1738: SettingWithCopyWarning: \n",
      "A value is trying to be set on a copy of a slice from a DataFrame.\n",
      "Try using .loc[row_indexer,col_indexer] = value instead\n",
      "\n",
      "See the caveats in the documentation: https://pandas.pydata.org/pandas-docs/stable/user_guide/indexing.html#returning-a-view-versus-a-copy\n",
      "  self._setitem_single_column(loc, value[:, i].tolist(), pi)\n",
      "C:\\Users\\jaker\\miniconda3\\envs\\finance\\lib\\site-packages\\pandas\\core\\indexing.py:1738: SettingWithCopyWarning: \n",
      "A value is trying to be set on a copy of a slice from a DataFrame.\n",
      "Try using .loc[row_indexer,col_indexer] = value instead\n",
      "\n",
      "See the caveats in the documentation: https://pandas.pydata.org/pandas-docs/stable/user_guide/indexing.html#returning-a-view-versus-a-copy\n",
      "  self._setitem_single_column(loc, value[:, i].tolist(), pi)\n",
      "C:\\Users\\jaker\\miniconda3\\envs\\finance\\lib\\site-packages\\pandas\\core\\indexing.py:1738: SettingWithCopyWarning: \n",
      "A value is trying to be set on a copy of a slice from a DataFrame.\n",
      "Try using .loc[row_indexer,col_indexer] = value instead\n",
      "\n",
      "See the caveats in the documentation: https://pandas.pydata.org/pandas-docs/stable/user_guide/indexing.html#returning-a-view-versus-a-copy\n",
      "  self._setitem_single_column(loc, value[:, i].tolist(), pi)\n",
      "C:\\Users\\jaker\\miniconda3\\envs\\finance\\lib\\site-packages\\pandas\\core\\indexing.py:1738: SettingWithCopyWarning: \n",
      "A value is trying to be set on a copy of a slice from a DataFrame.\n",
      "Try using .loc[row_indexer,col_indexer] = value instead\n",
      "\n",
      "See the caveats in the documentation: https://pandas.pydata.org/pandas-docs/stable/user_guide/indexing.html#returning-a-view-versus-a-copy\n",
      "  self._setitem_single_column(loc, value[:, i].tolist(), pi)\n",
      "C:\\Users\\jaker\\miniconda3\\envs\\finance\\lib\\site-packages\\pandas\\core\\indexing.py:1738: SettingWithCopyWarning: \n",
      "A value is trying to be set on a copy of a slice from a DataFrame.\n",
      "Try using .loc[row_indexer,col_indexer] = value instead\n",
      "\n",
      "See the caveats in the documentation: https://pandas.pydata.org/pandas-docs/stable/user_guide/indexing.html#returning-a-view-versus-a-copy\n",
      "  self._setitem_single_column(loc, value[:, i].tolist(), pi)\n",
      "C:\\Users\\jaker\\miniconda3\\envs\\finance\\lib\\site-packages\\pandas\\core\\indexing.py:1738: SettingWithCopyWarning: \n",
      "A value is trying to be set on a copy of a slice from a DataFrame.\n",
      "Try using .loc[row_indexer,col_indexer] = value instead\n",
      "\n",
      "See the caveats in the documentation: https://pandas.pydata.org/pandas-docs/stable/user_guide/indexing.html#returning-a-view-versus-a-copy\n",
      "  self._setitem_single_column(loc, value[:, i].tolist(), pi)\n",
      "C:\\Users\\jaker\\miniconda3\\envs\\finance\\lib\\site-packages\\pandas\\core\\indexing.py:1738: SettingWithCopyWarning: \n",
      "A value is trying to be set on a copy of a slice from a DataFrame.\n",
      "Try using .loc[row_indexer,col_indexer] = value instead\n",
      "\n",
      "See the caveats in the documentation: https://pandas.pydata.org/pandas-docs/stable/user_guide/indexing.html#returning-a-view-versus-a-copy\n",
      "  self._setitem_single_column(loc, value[:, i].tolist(), pi)\n",
      "C:\\Users\\jaker\\miniconda3\\envs\\finance\\lib\\site-packages\\pandas\\core\\indexing.py:1738: SettingWithCopyWarning: \n",
      "A value is trying to be set on a copy of a slice from a DataFrame.\n",
      "Try using .loc[row_indexer,col_indexer] = value instead\n",
      "\n",
      "See the caveats in the documentation: https://pandas.pydata.org/pandas-docs/stable/user_guide/indexing.html#returning-a-view-versus-a-copy\n",
      "  self._setitem_single_column(loc, value[:, i].tolist(), pi)\n",
      "C:\\Users\\jaker\\miniconda3\\envs\\finance\\lib\\site-packages\\pandas\\core\\indexing.py:1738: SettingWithCopyWarning: \n",
      "A value is trying to be set on a copy of a slice from a DataFrame.\n",
      "Try using .loc[row_indexer,col_indexer] = value instead\n",
      "\n",
      "See the caveats in the documentation: https://pandas.pydata.org/pandas-docs/stable/user_guide/indexing.html#returning-a-view-versus-a-copy\n",
      "  self._setitem_single_column(loc, value[:, i].tolist(), pi)\n",
      "C:\\Users\\jaker\\miniconda3\\envs\\finance\\lib\\site-packages\\pandas\\core\\indexing.py:1738: SettingWithCopyWarning: \n",
      "A value is trying to be set on a copy of a slice from a DataFrame.\n",
      "Try using .loc[row_indexer,col_indexer] = value instead\n",
      "\n",
      "See the caveats in the documentation: https://pandas.pydata.org/pandas-docs/stable/user_guide/indexing.html#returning-a-view-versus-a-copy\n",
      "  self._setitem_single_column(loc, value[:, i].tolist(), pi)\n",
      "C:\\Users\\jaker\\miniconda3\\envs\\finance\\lib\\site-packages\\pandas\\core\\indexing.py:1738: SettingWithCopyWarning: \n",
      "A value is trying to be set on a copy of a slice from a DataFrame.\n",
      "Try using .loc[row_indexer,col_indexer] = value instead\n",
      "\n",
      "See the caveats in the documentation: https://pandas.pydata.org/pandas-docs/stable/user_guide/indexing.html#returning-a-view-versus-a-copy\n",
      "  self._setitem_single_column(loc, value[:, i].tolist(), pi)\n",
      "C:\\Users\\jaker\\miniconda3\\envs\\finance\\lib\\site-packages\\pandas\\core\\indexing.py:1738: SettingWithCopyWarning: \n",
      "A value is trying to be set on a copy of a slice from a DataFrame.\n",
      "Try using .loc[row_indexer,col_indexer] = value instead\n",
      "\n",
      "See the caveats in the documentation: https://pandas.pydata.org/pandas-docs/stable/user_guide/indexing.html#returning-a-view-versus-a-copy\n",
      "  self._setitem_single_column(loc, value[:, i].tolist(), pi)\n",
      "C:\\Users\\jaker\\miniconda3\\envs\\finance\\lib\\site-packages\\pandas\\core\\indexing.py:1738: SettingWithCopyWarning: \n",
      "A value is trying to be set on a copy of a slice from a DataFrame.\n",
      "Try using .loc[row_indexer,col_indexer] = value instead\n",
      "\n",
      "See the caveats in the documentation: https://pandas.pydata.org/pandas-docs/stable/user_guide/indexing.html#returning-a-view-versus-a-copy\n",
      "  self._setitem_single_column(loc, value[:, i].tolist(), pi)\n",
      "C:\\Users\\jaker\\miniconda3\\envs\\finance\\lib\\site-packages\\pandas\\core\\indexing.py:1738: SettingWithCopyWarning: \n",
      "A value is trying to be set on a copy of a slice from a DataFrame.\n",
      "Try using .loc[row_indexer,col_indexer] = value instead\n",
      "\n",
      "See the caveats in the documentation: https://pandas.pydata.org/pandas-docs/stable/user_guide/indexing.html#returning-a-view-versus-a-copy\n",
      "  self._setitem_single_column(loc, value[:, i].tolist(), pi)\n",
      "C:\\Users\\jaker\\miniconda3\\envs\\finance\\lib\\site-packages\\pandas\\core\\indexing.py:1738: SettingWithCopyWarning: \n",
      "A value is trying to be set on a copy of a slice from a DataFrame.\n",
      "Try using .loc[row_indexer,col_indexer] = value instead\n",
      "\n",
      "See the caveats in the documentation: https://pandas.pydata.org/pandas-docs/stable/user_guide/indexing.html#returning-a-view-versus-a-copy\n",
      "  self._setitem_single_column(loc, value[:, i].tolist(), pi)\n",
      "C:\\Users\\jaker\\miniconda3\\envs\\finance\\lib\\site-packages\\pandas\\core\\indexing.py:1738: SettingWithCopyWarning: \n",
      "A value is trying to be set on a copy of a slice from a DataFrame.\n",
      "Try using .loc[row_indexer,col_indexer] = value instead\n",
      "\n",
      "See the caveats in the documentation: https://pandas.pydata.org/pandas-docs/stable/user_guide/indexing.html#returning-a-view-versus-a-copy\n",
      "  self._setitem_single_column(loc, value[:, i].tolist(), pi)\n",
      "C:\\Users\\jaker\\miniconda3\\envs\\finance\\lib\\site-packages\\pandas\\core\\indexing.py:1738: SettingWithCopyWarning: \n",
      "A value is trying to be set on a copy of a slice from a DataFrame.\n",
      "Try using .loc[row_indexer,col_indexer] = value instead\n",
      "\n",
      "See the caveats in the documentation: https://pandas.pydata.org/pandas-docs/stable/user_guide/indexing.html#returning-a-view-versus-a-copy\n",
      "  self._setitem_single_column(loc, value[:, i].tolist(), pi)\n",
      "C:\\Users\\jaker\\miniconda3\\envs\\finance\\lib\\site-packages\\pandas\\core\\indexing.py:1738: SettingWithCopyWarning: \n",
      "A value is trying to be set on a copy of a slice from a DataFrame.\n",
      "Try using .loc[row_indexer,col_indexer] = value instead\n",
      "\n",
      "See the caveats in the documentation: https://pandas.pydata.org/pandas-docs/stable/user_guide/indexing.html#returning-a-view-versus-a-copy\n",
      "  self._setitem_single_column(loc, value[:, i].tolist(), pi)\n",
      "C:\\Users\\jaker\\miniconda3\\envs\\finance\\lib\\site-packages\\pandas\\core\\indexing.py:1738: SettingWithCopyWarning: \n",
      "A value is trying to be set on a copy of a slice from a DataFrame.\n",
      "Try using .loc[row_indexer,col_indexer] = value instead\n",
      "\n",
      "See the caveats in the documentation: https://pandas.pydata.org/pandas-docs/stable/user_guide/indexing.html#returning-a-view-versus-a-copy\n",
      "  self._setitem_single_column(loc, value[:, i].tolist(), pi)\n",
      "C:\\Users\\jaker\\miniconda3\\envs\\finance\\lib\\site-packages\\pandas\\core\\indexing.py:1738: SettingWithCopyWarning: \n",
      "A value is trying to be set on a copy of a slice from a DataFrame.\n",
      "Try using .loc[row_indexer,col_indexer] = value instead\n",
      "\n",
      "See the caveats in the documentation: https://pandas.pydata.org/pandas-docs/stable/user_guide/indexing.html#returning-a-view-versus-a-copy\n",
      "  self._setitem_single_column(loc, value[:, i].tolist(), pi)\n",
      "C:\\Users\\jaker\\miniconda3\\envs\\finance\\lib\\site-packages\\pandas\\core\\indexing.py:1738: SettingWithCopyWarning: \n",
      "A value is trying to be set on a copy of a slice from a DataFrame.\n",
      "Try using .loc[row_indexer,col_indexer] = value instead\n",
      "\n",
      "See the caveats in the documentation: https://pandas.pydata.org/pandas-docs/stable/user_guide/indexing.html#returning-a-view-versus-a-copy\n",
      "  self._setitem_single_column(loc, value[:, i].tolist(), pi)\n",
      "C:\\Users\\jaker\\miniconda3\\envs\\finance\\lib\\site-packages\\pandas\\core\\indexing.py:1738: SettingWithCopyWarning: \n",
      "A value is trying to be set on a copy of a slice from a DataFrame.\n",
      "Try using .loc[row_indexer,col_indexer] = value instead\n",
      "\n",
      "See the caveats in the documentation: https://pandas.pydata.org/pandas-docs/stable/user_guide/indexing.html#returning-a-view-versus-a-copy\n",
      "  self._setitem_single_column(loc, value[:, i].tolist(), pi)\n",
      "C:\\Users\\jaker\\miniconda3\\envs\\finance\\lib\\site-packages\\pandas\\core\\indexing.py:1738: SettingWithCopyWarning: \n",
      "A value is trying to be set on a copy of a slice from a DataFrame.\n",
      "Try using .loc[row_indexer,col_indexer] = value instead\n",
      "\n",
      "See the caveats in the documentation: https://pandas.pydata.org/pandas-docs/stable/user_guide/indexing.html#returning-a-view-versus-a-copy\n",
      "  self._setitem_single_column(loc, value[:, i].tolist(), pi)\n",
      "C:\\Users\\jaker\\miniconda3\\envs\\finance\\lib\\site-packages\\pandas\\core\\indexing.py:1738: SettingWithCopyWarning: \n",
      "A value is trying to be set on a copy of a slice from a DataFrame.\n",
      "Try using .loc[row_indexer,col_indexer] = value instead\n",
      "\n",
      "See the caveats in the documentation: https://pandas.pydata.org/pandas-docs/stable/user_guide/indexing.html#returning-a-view-versus-a-copy\n",
      "  self._setitem_single_column(loc, value[:, i].tolist(), pi)\n",
      "C:\\Users\\jaker\\miniconda3\\envs\\finance\\lib\\site-packages\\pandas\\core\\indexing.py:1738: SettingWithCopyWarning: \n",
      "A value is trying to be set on a copy of a slice from a DataFrame.\n",
      "Try using .loc[row_indexer,col_indexer] = value instead\n",
      "\n",
      "See the caveats in the documentation: https://pandas.pydata.org/pandas-docs/stable/user_guide/indexing.html#returning-a-view-versus-a-copy\n",
      "  self._setitem_single_column(loc, value[:, i].tolist(), pi)\n"
     ]
    },
    {
     "name": "stderr",
     "output_type": "stream",
     "text": [
      "C:\\Users\\jaker\\miniconda3\\envs\\finance\\lib\\site-packages\\pandas\\core\\indexing.py:1738: SettingWithCopyWarning: \n",
      "A value is trying to be set on a copy of a slice from a DataFrame.\n",
      "Try using .loc[row_indexer,col_indexer] = value instead\n",
      "\n",
      "See the caveats in the documentation: https://pandas.pydata.org/pandas-docs/stable/user_guide/indexing.html#returning-a-view-versus-a-copy\n",
      "  self._setitem_single_column(loc, value[:, i].tolist(), pi)\n",
      "C:\\Users\\jaker\\miniconda3\\envs\\finance\\lib\\site-packages\\pandas\\core\\indexing.py:1738: SettingWithCopyWarning: \n",
      "A value is trying to be set on a copy of a slice from a DataFrame.\n",
      "Try using .loc[row_indexer,col_indexer] = value instead\n",
      "\n",
      "See the caveats in the documentation: https://pandas.pydata.org/pandas-docs/stable/user_guide/indexing.html#returning-a-view-versus-a-copy\n",
      "  self._setitem_single_column(loc, value[:, i].tolist(), pi)\n",
      "C:\\Users\\jaker\\miniconda3\\envs\\finance\\lib\\site-packages\\pandas\\core\\indexing.py:1738: SettingWithCopyWarning: \n",
      "A value is trying to be set on a copy of a slice from a DataFrame.\n",
      "Try using .loc[row_indexer,col_indexer] = value instead\n",
      "\n",
      "See the caveats in the documentation: https://pandas.pydata.org/pandas-docs/stable/user_guide/indexing.html#returning-a-view-versus-a-copy\n",
      "  self._setitem_single_column(loc, value[:, i].tolist(), pi)\n",
      "C:\\Users\\jaker\\miniconda3\\envs\\finance\\lib\\site-packages\\pandas\\core\\indexing.py:1738: SettingWithCopyWarning: \n",
      "A value is trying to be set on a copy of a slice from a DataFrame.\n",
      "Try using .loc[row_indexer,col_indexer] = value instead\n",
      "\n",
      "See the caveats in the documentation: https://pandas.pydata.org/pandas-docs/stable/user_guide/indexing.html#returning-a-view-versus-a-copy\n",
      "  self._setitem_single_column(loc, value[:, i].tolist(), pi)\n",
      "C:\\Users\\jaker\\miniconda3\\envs\\finance\\lib\\site-packages\\pandas\\core\\indexing.py:1738: SettingWithCopyWarning: \n",
      "A value is trying to be set on a copy of a slice from a DataFrame.\n",
      "Try using .loc[row_indexer,col_indexer] = value instead\n",
      "\n",
      "See the caveats in the documentation: https://pandas.pydata.org/pandas-docs/stable/user_guide/indexing.html#returning-a-view-versus-a-copy\n",
      "  self._setitem_single_column(loc, value[:, i].tolist(), pi)\n",
      "C:\\Users\\jaker\\miniconda3\\envs\\finance\\lib\\site-packages\\pandas\\core\\indexing.py:1738: SettingWithCopyWarning: \n",
      "A value is trying to be set on a copy of a slice from a DataFrame.\n",
      "Try using .loc[row_indexer,col_indexer] = value instead\n",
      "\n",
      "See the caveats in the documentation: https://pandas.pydata.org/pandas-docs/stable/user_guide/indexing.html#returning-a-view-versus-a-copy\n",
      "  self._setitem_single_column(loc, value[:, i].tolist(), pi)\n",
      "C:\\Users\\jaker\\miniconda3\\envs\\finance\\lib\\site-packages\\pandas\\core\\indexing.py:1738: SettingWithCopyWarning: \n",
      "A value is trying to be set on a copy of a slice from a DataFrame.\n",
      "Try using .loc[row_indexer,col_indexer] = value instead\n",
      "\n",
      "See the caveats in the documentation: https://pandas.pydata.org/pandas-docs/stable/user_guide/indexing.html#returning-a-view-versus-a-copy\n",
      "  self._setitem_single_column(loc, value[:, i].tolist(), pi)\n",
      "C:\\Users\\jaker\\miniconda3\\envs\\finance\\lib\\site-packages\\pandas\\core\\indexing.py:1738: SettingWithCopyWarning: \n",
      "A value is trying to be set on a copy of a slice from a DataFrame.\n",
      "Try using .loc[row_indexer,col_indexer] = value instead\n",
      "\n",
      "See the caveats in the documentation: https://pandas.pydata.org/pandas-docs/stable/user_guide/indexing.html#returning-a-view-versus-a-copy\n",
      "  self._setitem_single_column(loc, value[:, i].tolist(), pi)\n",
      "C:\\Users\\jaker\\miniconda3\\envs\\finance\\lib\\site-packages\\pandas\\core\\indexing.py:1738: SettingWithCopyWarning: \n",
      "A value is trying to be set on a copy of a slice from a DataFrame.\n",
      "Try using .loc[row_indexer,col_indexer] = value instead\n",
      "\n",
      "See the caveats in the documentation: https://pandas.pydata.org/pandas-docs/stable/user_guide/indexing.html#returning-a-view-versus-a-copy\n",
      "  self._setitem_single_column(loc, value[:, i].tolist(), pi)\n",
      "C:\\Users\\jaker\\miniconda3\\envs\\finance\\lib\\site-packages\\pandas\\core\\indexing.py:1738: SettingWithCopyWarning: \n",
      "A value is trying to be set on a copy of a slice from a DataFrame.\n",
      "Try using .loc[row_indexer,col_indexer] = value instead\n",
      "\n",
      "See the caveats in the documentation: https://pandas.pydata.org/pandas-docs/stable/user_guide/indexing.html#returning-a-view-versus-a-copy\n",
      "  self._setitem_single_column(loc, value[:, i].tolist(), pi)\n",
      "C:\\Users\\jaker\\miniconda3\\envs\\finance\\lib\\site-packages\\pandas\\core\\indexing.py:1738: SettingWithCopyWarning: \n",
      "A value is trying to be set on a copy of a slice from a DataFrame.\n",
      "Try using .loc[row_indexer,col_indexer] = value instead\n",
      "\n",
      "See the caveats in the documentation: https://pandas.pydata.org/pandas-docs/stable/user_guide/indexing.html#returning-a-view-versus-a-copy\n",
      "  self._setitem_single_column(loc, value[:, i].tolist(), pi)\n",
      "C:\\Users\\jaker\\miniconda3\\envs\\finance\\lib\\site-packages\\pandas\\core\\indexing.py:1738: SettingWithCopyWarning: \n",
      "A value is trying to be set on a copy of a slice from a DataFrame.\n",
      "Try using .loc[row_indexer,col_indexer] = value instead\n",
      "\n",
      "See the caveats in the documentation: https://pandas.pydata.org/pandas-docs/stable/user_guide/indexing.html#returning-a-view-versus-a-copy\n",
      "  self._setitem_single_column(loc, value[:, i].tolist(), pi)\n",
      "C:\\Users\\jaker\\miniconda3\\envs\\finance\\lib\\site-packages\\pandas\\core\\indexing.py:1738: SettingWithCopyWarning: \n",
      "A value is trying to be set on a copy of a slice from a DataFrame.\n",
      "Try using .loc[row_indexer,col_indexer] = value instead\n",
      "\n",
      "See the caveats in the documentation: https://pandas.pydata.org/pandas-docs/stable/user_guide/indexing.html#returning-a-view-versus-a-copy\n",
      "  self._setitem_single_column(loc, value[:, i].tolist(), pi)\n",
      "C:\\Users\\jaker\\miniconda3\\envs\\finance\\lib\\site-packages\\pandas\\core\\indexing.py:1738: SettingWithCopyWarning: \n",
      "A value is trying to be set on a copy of a slice from a DataFrame.\n",
      "Try using .loc[row_indexer,col_indexer] = value instead\n",
      "\n",
      "See the caveats in the documentation: https://pandas.pydata.org/pandas-docs/stable/user_guide/indexing.html#returning-a-view-versus-a-copy\n",
      "  self._setitem_single_column(loc, value[:, i].tolist(), pi)\n",
      "C:\\Users\\jaker\\miniconda3\\envs\\finance\\lib\\site-packages\\pandas\\core\\indexing.py:1738: SettingWithCopyWarning: \n",
      "A value is trying to be set on a copy of a slice from a DataFrame.\n",
      "Try using .loc[row_indexer,col_indexer] = value instead\n",
      "\n",
      "See the caveats in the documentation: https://pandas.pydata.org/pandas-docs/stable/user_guide/indexing.html#returning-a-view-versus-a-copy\n",
      "  self._setitem_single_column(loc, value[:, i].tolist(), pi)\n",
      "C:\\Users\\jaker\\miniconda3\\envs\\finance\\lib\\site-packages\\pandas\\core\\indexing.py:1738: SettingWithCopyWarning: \n",
      "A value is trying to be set on a copy of a slice from a DataFrame.\n",
      "Try using .loc[row_indexer,col_indexer] = value instead\n",
      "\n",
      "See the caveats in the documentation: https://pandas.pydata.org/pandas-docs/stable/user_guide/indexing.html#returning-a-view-versus-a-copy\n",
      "  self._setitem_single_column(loc, value[:, i].tolist(), pi)\n",
      "C:\\Users\\jaker\\miniconda3\\envs\\finance\\lib\\site-packages\\pandas\\core\\indexing.py:1738: SettingWithCopyWarning: \n",
      "A value is trying to be set on a copy of a slice from a DataFrame.\n",
      "Try using .loc[row_indexer,col_indexer] = value instead\n",
      "\n",
      "See the caveats in the documentation: https://pandas.pydata.org/pandas-docs/stable/user_guide/indexing.html#returning-a-view-versus-a-copy\n",
      "  self._setitem_single_column(loc, value[:, i].tolist(), pi)\n",
      "C:\\Users\\jaker\\miniconda3\\envs\\finance\\lib\\site-packages\\pandas\\core\\indexing.py:1738: SettingWithCopyWarning: \n",
      "A value is trying to be set on a copy of a slice from a DataFrame.\n",
      "Try using .loc[row_indexer,col_indexer] = value instead\n",
      "\n",
      "See the caveats in the documentation: https://pandas.pydata.org/pandas-docs/stable/user_guide/indexing.html#returning-a-view-versus-a-copy\n",
      "  self._setitem_single_column(loc, value[:, i].tolist(), pi)\n",
      "C:\\Users\\jaker\\miniconda3\\envs\\finance\\lib\\site-packages\\pandas\\core\\indexing.py:1738: SettingWithCopyWarning: \n",
      "A value is trying to be set on a copy of a slice from a DataFrame.\n",
      "Try using .loc[row_indexer,col_indexer] = value instead\n",
      "\n",
      "See the caveats in the documentation: https://pandas.pydata.org/pandas-docs/stable/user_guide/indexing.html#returning-a-view-versus-a-copy\n",
      "  self._setitem_single_column(loc, value[:, i].tolist(), pi)\n",
      "C:\\Users\\jaker\\miniconda3\\envs\\finance\\lib\\site-packages\\pandas\\core\\indexing.py:1738: SettingWithCopyWarning: \n",
      "A value is trying to be set on a copy of a slice from a DataFrame.\n",
      "Try using .loc[row_indexer,col_indexer] = value instead\n",
      "\n",
      "See the caveats in the documentation: https://pandas.pydata.org/pandas-docs/stable/user_guide/indexing.html#returning-a-view-versus-a-copy\n",
      "  self._setitem_single_column(loc, value[:, i].tolist(), pi)\n",
      "C:\\Users\\jaker\\miniconda3\\envs\\finance\\lib\\site-packages\\pandas\\core\\indexing.py:1738: SettingWithCopyWarning: \n",
      "A value is trying to be set on a copy of a slice from a DataFrame.\n",
      "Try using .loc[row_indexer,col_indexer] = value instead\n",
      "\n",
      "See the caveats in the documentation: https://pandas.pydata.org/pandas-docs/stable/user_guide/indexing.html#returning-a-view-versus-a-copy\n",
      "  self._setitem_single_column(loc, value[:, i].tolist(), pi)\n",
      "C:\\Users\\jaker\\miniconda3\\envs\\finance\\lib\\site-packages\\pandas\\core\\indexing.py:1738: SettingWithCopyWarning: \n",
      "A value is trying to be set on a copy of a slice from a DataFrame.\n",
      "Try using .loc[row_indexer,col_indexer] = value instead\n",
      "\n",
      "See the caveats in the documentation: https://pandas.pydata.org/pandas-docs/stable/user_guide/indexing.html#returning-a-view-versus-a-copy\n",
      "  self._setitem_single_column(loc, value[:, i].tolist(), pi)\n",
      "C:\\Users\\jaker\\miniconda3\\envs\\finance\\lib\\site-packages\\pandas\\core\\indexing.py:1738: SettingWithCopyWarning: \n",
      "A value is trying to be set on a copy of a slice from a DataFrame.\n",
      "Try using .loc[row_indexer,col_indexer] = value instead\n",
      "\n",
      "See the caveats in the documentation: https://pandas.pydata.org/pandas-docs/stable/user_guide/indexing.html#returning-a-view-versus-a-copy\n",
      "  self._setitem_single_column(loc, value[:, i].tolist(), pi)\n"
     ]
    }
   ],
   "source": [
    "scaler_models = norm_per_stock_split(train, valid, test, features, MinMaxScaler)"
   ]
  },
  {
   "cell_type": "markdown",
   "id": "korean-swing",
   "metadata": {},
   "source": [
    "#### Prepare training inputs and outputs\n",
    "Convert the daily data points into a set of data points each with {trail_size} days.   \n",
    "We keep track of the tickers so we can later inverse the normalization with the right model. "
   ]
  },
  {
   "cell_type": "code",
   "execution_count": 15,
   "id": "diverse-silver",
   "metadata": {},
   "outputs": [],
   "source": [
    "x_train, y_train, tickers_train = roll_all_stocks(train, trail_size, predict_length)\n",
    "x_valid, y_valid, tickers_valid = roll_all_stocks(valid, trail_size, predict_length)\n",
    "x_test, y_test, tickers_test = roll_all_stocks(test, trail_size, predict_length)"
   ]
  },
  {
   "cell_type": "markdown",
   "id": "funded-frequency",
   "metadata": {},
   "source": [
    "#### Confirm shapes"
   ]
  },
  {
   "cell_type": "code",
   "execution_count": 16,
   "id": "dominant-pilot",
   "metadata": {},
   "outputs": [
    {
     "name": "stdout",
     "output_type": "stream",
     "text": [
      "x_train: (17675, 14, 29)\n",
      "y_train: (17675,)\n",
      "x_valid: (5600, 14, 29)\n",
      "y_valid (5600,)\n",
      "x_test: (5825, 14, 29)\n",
      "y_test (5825,)\n"
     ]
    }
   ],
   "source": [
    "print(\"x_train: {}\".format(x_train.shape))\n",
    "print(\"y_train: {}\".format(y_train.shape))\n",
    "print(\"x_valid: {}\".format(x_valid.shape))\n",
    "print(\"y_valid {}\".format(y_valid.shape))\n",
    "print(\"x_test: {}\".format(x_test.shape))\n",
    "print(\"y_test {}\".format(y_test.shape))"
   ]
  },
  {
   "cell_type": "code",
   "execution_count": 17,
   "id": "hollywood-forty",
   "metadata": {},
   "outputs": [
    {
     "name": "stdout",
     "output_type": "stream",
     "text": [
      "tickers_train: (17675,)\n",
      "tickers_train: (5600,)\n",
      "tickers_train: (5825,)\n"
     ]
    }
   ],
   "source": [
    "print(\"tickers_train: {}\".format(tickers_train.shape))\n",
    "print(\"tickers_train: {}\".format(tickers_valid.shape))\n",
    "print(\"tickers_train: {}\".format(tickers_test.shape))"
   ]
  },
  {
   "cell_type": "markdown",
   "id": "round-contemporary",
   "metadata": {},
   "source": [
    "### Model design"
   ]
  },
  {
   "cell_type": "code",
   "execution_count": 18,
   "id": "removed-degree",
   "metadata": {},
   "outputs": [],
   "source": [
    "model = Sequential()\n",
    "model.add(LSTM(units=75, input_shape=(trail_size, num_features), return_sequences=True))\n",
    "model.add(Dropout(0.25))\n",
    "model.add(LSTM(units=30, return_sequences=True))\n",
    "model.add(Dropout(0.25))\n",
    "\n",
    "model.add(LSTM(units=30, return_sequences=True))\n",
    "model.add(Dropout(0.25))\n",
    "\n",
    "model.add(Flatten())\n",
    "# model.add(Dense(50, activation='relu'))\n",
    "# model.add(Dense(25, activation='relu'))\n",
    "model.add(Dense(1))"
   ]
  },
  {
   "cell_type": "code",
   "execution_count": 19,
   "id": "norman-rover",
   "metadata": {
    "scrolled": false
   },
   "outputs": [
    {
     "name": "stdout",
     "output_type": "stream",
     "text": [
      "Model: \"sequential\"\n",
      "_________________________________________________________________\n",
      "Layer (type)                 Output Shape              Param #   \n",
      "=================================================================\n",
      "lstm (LSTM)                  (None, 14, 75)            31500     \n",
      "_________________________________________________________________\n",
      "dropout (Dropout)            (None, 14, 75)            0         \n",
      "_________________________________________________________________\n",
      "lstm_1 (LSTM)                (None, 14, 30)            12720     \n",
      "_________________________________________________________________\n",
      "dropout_1 (Dropout)          (None, 14, 30)            0         \n",
      "_________________________________________________________________\n",
      "lstm_2 (LSTM)                (None, 14, 30)            7320      \n",
      "_________________________________________________________________\n",
      "dropout_2 (Dropout)          (None, 14, 30)            0         \n",
      "_________________________________________________________________\n",
      "flatten (Flatten)            (None, 420)               0         \n",
      "_________________________________________________________________\n",
      "dense (Dense)                (None, 1)                 421       \n",
      "=================================================================\n",
      "Total params: 51,961\n",
      "Trainable params: 51,961\n",
      "Non-trainable params: 0\n",
      "_________________________________________________________________\n"
     ]
    }
   ],
   "source": [
    "model.summary()"
   ]
  },
  {
   "cell_type": "code",
   "execution_count": 20,
   "id": "hearing-greensboro",
   "metadata": {},
   "outputs": [],
   "source": [
    "time_stamp = time()\n",
    "tensorboard = TensorBoard(log_dir='logs/{}'.format(time_stamp))"
   ]
  },
  {
   "cell_type": "code",
   "execution_count": 21,
   "id": "earned-beads",
   "metadata": {},
   "outputs": [],
   "source": [
    "model.compile(optimizer='adam', loss='mean_squared_error')"
   ]
  },
  {
   "cell_type": "markdown",
   "id": "sacred-collar",
   "metadata": {},
   "source": [
    "### Train on many stocks"
   ]
  },
  {
   "cell_type": "code",
   "execution_count": 22,
   "id": "daily-angola",
   "metadata": {},
   "outputs": [
    {
     "name": "stdout",
     "output_type": "stream",
     "text": [
      "Epoch 1/45\n",
      "277/277 [==============================] - 9s 16ms/step - loss: 0.0229 - val_loss: 0.0724\n",
      "Epoch 2/45\n",
      "277/277 [==============================] - 3s 9ms/step - loss: 0.0136 - val_loss: 0.0667\n",
      "Epoch 3/45\n",
      "277/277 [==============================] - 3s 10ms/step - loss: 0.0123 - val_loss: 0.0384\n",
      "Epoch 4/45\n",
      "277/277 [==============================] - 3s 10ms/step - loss: 0.0116 - val_loss: 0.0353\n",
      "Epoch 5/45\n",
      "277/277 [==============================] - 3s 10ms/step - loss: 0.0097 - val_loss: 0.0321\n",
      "Epoch 6/45\n",
      "277/277 [==============================] - 3s 10ms/step - loss: 0.0101 - val_loss: 0.0273\n",
      "Epoch 7/45\n",
      "277/277 [==============================] - 3s 10ms/step - loss: 0.0084 - val_loss: 0.0297\n",
      "Epoch 8/45\n",
      "277/277 [==============================] - 3s 10ms/step - loss: 0.0076 - val_loss: 0.0284\n",
      "Epoch 9/45\n",
      "277/277 [==============================] - 3s 10ms/step - loss: 0.0073 - val_loss: 0.0281\n",
      "Epoch 10/45\n",
      "277/277 [==============================] - 3s 10ms/step - loss: 0.0069 - val_loss: 0.0275\n",
      "Epoch 11/45\n",
      "277/277 [==============================] - 3s 10ms/step - loss: 0.0067 - val_loss: 0.0291\n",
      "Epoch 12/45\n",
      "277/277 [==============================] - 3s 10ms/step - loss: 0.0062 - val_loss: 0.0305\n",
      "Epoch 13/45\n",
      "277/277 [==============================] - 3s 10ms/step - loss: 0.0064 - val_loss: 0.0271\n",
      "Epoch 14/45\n",
      "277/277 [==============================] - 3s 10ms/step - loss: 0.0059 - val_loss: 0.0279\n",
      "Epoch 15/45\n",
      "277/277 [==============================] - 3s 10ms/step - loss: 0.0060 - val_loss: 0.0275\n",
      "Epoch 16/45\n",
      "277/277 [==============================] - 3s 10ms/step - loss: 0.0058 - val_loss: 0.0259\n",
      "Epoch 17/45\n",
      "277/277 [==============================] - 3s 10ms/step - loss: 0.0053 - val_loss: 0.0300\n",
      "Epoch 18/45\n",
      "277/277 [==============================] - 3s 10ms/step - loss: 0.0054 - val_loss: 0.0249\n",
      "Epoch 19/45\n",
      "277/277 [==============================] - 3s 10ms/step - loss: 0.0050 - val_loss: 0.0295\n",
      "Epoch 20/45\n",
      "277/277 [==============================] - 3s 10ms/step - loss: 0.0052 - val_loss: 0.0310\n",
      "Epoch 21/45\n",
      "277/277 [==============================] - 3s 10ms/step - loss: 0.0049 - val_loss: 0.0258\n",
      "Epoch 22/45\n",
      "277/277 [==============================] - 3s 10ms/step - loss: 0.0048 - val_loss: 0.0283\n",
      "Epoch 23/45\n",
      "277/277 [==============================] - 3s 10ms/step - loss: 0.0050 - val_loss: 0.0288\n",
      "Epoch 24/45\n",
      "277/277 [==============================] - 3s 10ms/step - loss: 0.0046 - val_loss: 0.0289\n",
      "Epoch 25/45\n",
      "277/277 [==============================] - 3s 10ms/step - loss: 0.0048 - val_loss: 0.0293\n",
      "Epoch 26/45\n",
      "277/277 [==============================] - 3s 10ms/step - loss: 0.0044 - val_loss: 0.0301\n",
      "Epoch 27/45\n",
      "277/277 [==============================] - 3s 10ms/step - loss: 0.0044 - val_loss: 0.0317\n",
      "Epoch 28/45\n",
      "277/277 [==============================] - 3s 10ms/step - loss: 0.0045 - val_loss: 0.0331\n",
      "Epoch 29/45\n",
      "277/277 [==============================] - 3s 10ms/step - loss: 0.0043 - val_loss: 0.0318\n",
      "Epoch 30/45\n",
      "277/277 [==============================] - 3s 10ms/step - loss: 0.0045 - val_loss: 0.0351\n",
      "Epoch 31/45\n",
      "277/277 [==============================] - 3s 10ms/step - loss: 0.0042 - val_loss: 0.0311\n",
      "Epoch 32/45\n",
      "277/277 [==============================] - 3s 10ms/step - loss: 0.0042 - val_loss: 0.0344\n",
      "Epoch 33/45\n",
      "277/277 [==============================] - 3s 10ms/step - loss: 0.0041 - val_loss: 0.0359\n",
      "Epoch 34/45\n",
      "277/277 [==============================] - 3s 10ms/step - loss: 0.0041 - val_loss: 0.0361\n",
      "Epoch 35/45\n",
      "277/277 [==============================] - 3s 10ms/step - loss: 0.0041 - val_loss: 0.0346\n",
      "Epoch 36/45\n",
      "277/277 [==============================] - 3s 10ms/step - loss: 0.0041 - val_loss: 0.0353\n",
      "Epoch 37/45\n",
      "277/277 [==============================] - 3s 10ms/step - loss: 0.0040 - val_loss: 0.0345\n",
      "Epoch 38/45\n",
      "277/277 [==============================] - 3s 10ms/step - loss: 0.0040 - val_loss: 0.0337\n",
      "Epoch 39/45\n",
      "277/277 [==============================] - 3s 10ms/step - loss: 0.0040 - val_loss: 0.0323\n",
      "Epoch 40/45\n",
      "277/277 [==============================] - 3s 10ms/step - loss: 0.0039 - val_loss: 0.0334\n",
      "Epoch 41/45\n",
      "277/277 [==============================] - 3s 10ms/step - loss: 0.0039 - val_loss: 0.0318\n",
      "Epoch 42/45\n",
      "277/277 [==============================] - 3s 10ms/step - loss: 0.0039 - val_loss: 0.0288\n",
      "Epoch 43/45\n",
      "277/277 [==============================] - 3s 10ms/step - loss: 0.0039 - val_loss: 0.0304\n",
      "Epoch 44/45\n",
      "277/277 [==============================] - 3s 10ms/step - loss: 0.0037 - val_loss: 0.0339\n",
      "Epoch 45/45\n",
      "277/277 [==============================] - 3s 10ms/step - loss: 0.0039 - val_loss: 0.0345\n"
     ]
    }
   ],
   "source": [
    "history1 = model.fit(x_train, y_train, epochs=45, validation_data=(x_valid, y_valid), batch_size=64, shuffle=False, callbacks=[tensorboard])"
   ]
  },
  {
   "cell_type": "markdown",
   "id": "developing-pulse",
   "metadata": {},
   "source": [
    "### Prepare data for one stock"
   ]
  },
  {
   "cell_type": "code",
   "execution_count": 23,
   "id": "multiple-industry",
   "metadata": {},
   "outputs": [],
   "source": [
    "target_stock = 'XOM'"
   ]
  },
  {
   "cell_type": "code",
   "execution_count": 32,
   "id": "first-large",
   "metadata": {},
   "outputs": [],
   "source": [
    "single_stock_dataset = dataset[dataset['Ticker']==target_stock].reset_index(drop=True)"
   ]
  },
  {
   "cell_type": "code",
   "execution_count": 33,
   "id": "similar-genius",
   "metadata": {},
   "outputs": [
    {
     "data": {
      "text/plain": [
       "<AxesSubplot:xlabel='Date', ylabel='Close'>"
      ]
     },
     "execution_count": 33,
     "metadata": {},
     "output_type": "execute_result"
    },
    {
     "data": {
      "image/png": "[encoded data removed]",
      "text/plain": [
       "<Figure size 432x288 with 1 Axes>"
      ]
     },
     "metadata": {
      "needs_background": "light"
     },
     "output_type": "display_data"
    }
   ],
   "source": [
    "sns.lineplot(x=single_stock_dataset['Date'], y=single_stock_dataset['Close'])"
   ]
  },
  {
   "cell_type": "markdown",
   "id": "charming-yacht",
   "metadata": {},
   "source": [
    "### Train test split"
   ]
  },
  {
   "cell_type": "code",
   "execution_count": 34,
   "id": "healthy-pressing",
   "metadata": {},
   "outputs": [],
   "source": [
    "train = single_stock_dataset.loc[single_stock_dataset['Date'] < \"2018-03-01\"]\n",
    "valid = single_stock_dataset.loc[(single_stock_dataset['Date'] > \"2018-03-13\") & (single_stock_dataset['Date'] < \"2019-03-01\")]\n",
    "test = single_stock_dataset.loc[(single_stock_dataset['Date'] > \"2019-03-01\") & (single_stock_dataset['Date'] < \"2020-03-01\")]"
   ]
  },
  {
   "cell_type": "code",
   "execution_count": 35,
   "id": "negative-objective",
   "metadata": {},
   "outputs": [
    {
     "name": "stderr",
     "output_type": "stream",
     "text": [
      "C:\\Users\\jaker\\miniconda3\\envs\\finance\\lib\\site-packages\\pandas\\core\\indexing.py:1738: SettingWithCopyWarning: \n",
      "A value is trying to be set on a copy of a slice from a DataFrame.\n",
      "Try using .loc[row_indexer,col_indexer] = value instead\n",
      "\n",
      "See the caveats in the documentation: https://pandas.pydata.org/pandas-docs/stable/user_guide/indexing.html#returning-a-view-versus-a-copy\n",
      "  self._setitem_single_column(loc, value[:, i].tolist(), pi)\n",
      "C:\\Users\\jaker\\miniconda3\\envs\\finance\\lib\\site-packages\\pandas\\core\\indexing.py:1738: SettingWithCopyWarning: \n",
      "A value is trying to be set on a copy of a slice from a DataFrame.\n",
      "Try using .loc[row_indexer,col_indexer] = value instead\n",
      "\n",
      "See the caveats in the documentation: https://pandas.pydata.org/pandas-docs/stable/user_guide/indexing.html#returning-a-view-versus-a-copy\n",
      "  self._setitem_single_column(loc, value[:, i].tolist(), pi)\n",
      "C:\\Users\\jaker\\miniconda3\\envs\\finance\\lib\\site-packages\\pandas\\core\\indexing.py:1738: SettingWithCopyWarning: \n",
      "A value is trying to be set on a copy of a slice from a DataFrame.\n",
      "Try using .loc[row_indexer,col_indexer] = value instead\n",
      "\n",
      "See the caveats in the documentation: https://pandas.pydata.org/pandas-docs/stable/user_guide/indexing.html#returning-a-view-versus-a-copy\n",
      "  self._setitem_single_column(loc, value[:, i].tolist(), pi)\n"
     ]
    }
   ],
   "source": [
    "single_stock_scaler_models = norm_per_stock_split(train, valid, test, features, MinMaxScaler)"
   ]
  },
  {
   "cell_type": "markdown",
   "id": "binary-royal",
   "metadata": {},
   "source": [
    "#### Prepare training inputs and outputs\n",
    "Since we are using just one stock, we don't need to keep track of tickers"
   ]
  },
  {
   "cell_type": "code",
   "execution_count": 36,
   "id": "authentic-shipping",
   "metadata": {},
   "outputs": [],
   "source": [
    "x_train, y_train, _ = roll_all_stocks(train, trail_size, predict_length)\n",
    "x_valid, y_valid, _ = roll_all_stocks(valid, trail_size, predict_length)\n",
    "x_test, y_test, _ = roll_all_stocks(test, trail_size, predict_length)"
   ]
  },
  {
   "cell_type": "markdown",
   "id": "supported-synthesis",
   "metadata": {},
   "source": [
    "#### Confirm shapes"
   ]
  },
  {
   "cell_type": "code",
   "execution_count": 37,
   "id": "hungry-fields",
   "metadata": {},
   "outputs": [
    {
     "name": "stdout",
     "output_type": "stream",
     "text": [
      "x_train: (707, 14, 29)\n",
      "y_train: (707,)\n",
      "x_valid: (224, 14, 29)\n",
      "y_valid (224,)\n",
      "x_test: (233, 14, 29)\n",
      "y_test (233,)\n"
     ]
    }
   ],
   "source": [
    "print(\"x_train: {}\".format(x_train.shape))\n",
    "print(\"y_train: {}\".format(y_train.shape))\n",
    "print(\"x_valid: {}\".format(x_valid.shape))\n",
    "print(\"y_valid {}\".format(y_valid.shape))\n",
    "print(\"x_test: {}\".format(x_test.shape))\n",
    "print(\"y_test {}\".format(y_test.shape))"
   ]
  },
  {
   "cell_type": "markdown",
   "id": "played-mother",
   "metadata": {},
   "source": [
    "### Test model on single stock"
   ]
  },
  {
   "cell_type": "code",
   "execution_count": 38,
   "id": "seeing-lighter",
   "metadata": {},
   "outputs": [
    {
     "name": "stdout",
     "output_type": "stream",
     "text": [
      "Training RMSE = 1.6030326439142637\n"
     ]
    }
   ],
   "source": [
    "print(\"Training RMSE = {}\".format(evaluate_model_rmse(model.predict(x_train), \n",
    "                                                      y_train,\n",
    "                                                     num_features,\n",
    "                                                     single_stock_scaler_models[target_stock])))"
   ]
  },
  {
   "cell_type": "code",
   "execution_count": 39,
   "id": "adapted-allocation",
   "metadata": {},
   "outputs": [
    {
     "name": "stdout",
     "output_type": "stream",
     "text": [
      "Validation RMSE = 2.3158186089610315\n"
     ]
    }
   ],
   "source": [
    "print(\"Validation RMSE = {}\".format(evaluate_model_rmse(model.predict(x_valid), \n",
    "                                                      y_valid,\n",
    "                                                     num_features,\n",
    "                                                     single_stock_scaler_models[target_stock])))"
   ]
  },
  {
   "cell_type": "code",
   "execution_count": 40,
   "id": "mounted-identifier",
   "metadata": {},
   "outputs": [
    {
     "name": "stdout",
     "output_type": "stream",
     "text": [
      "Testing RMSE = 2.185711394862339\n"
     ]
    }
   ],
   "source": [
    "print(\"Testing RMSE = {}\".format(evaluate_model_rmse(model.predict(x_test), \n",
    "                                                     y_test,\n",
    "                                                    num_features,\n",
    "                                                    single_stock_scaler_models[target_stock])))"
   ]
  },
  {
   "cell_type": "code",
   "execution_count": 41,
   "id": "large-poultry",
   "metadata": {},
   "outputs": [],
   "source": [
    "model.layers[7].trainable = False\n",
    "model.layers[4].trainable = False\n",
    "model.layers[2].trainable = False\n",
    "model.layers[0].trainable = False"
   ]
  },
  {
   "cell_type": "code",
   "execution_count": 43,
   "id": "occupied-spirituality",
   "metadata": {},
   "outputs": [
    {
     "name": "stdout",
     "output_type": "stream",
     "text": [
      "Model: \"sequential\"\n",
      "_________________________________________________________________\n",
      "Layer (type)                 Output Shape              Param #   \n",
      "=================================================================\n",
      "lstm (LSTM)                  (None, 14, 75)            31500     \n",
      "_________________________________________________________________\n",
      "dropout (Dropout)            (None, 14, 75)            0         \n",
      "_________________________________________________________________\n",
      "lstm_1 (LSTM)                (None, 14, 30)            12720     \n",
      "_________________________________________________________________\n",
      "dropout_1 (Dropout)          (None, 14, 30)            0         \n",
      "_________________________________________________________________\n",
      "lstm_2 (LSTM)                (None, 14, 30)            7320      \n",
      "_________________________________________________________________\n",
      "dropout_2 (Dropout)          (None, 14, 30)            0         \n",
      "_________________________________________________________________\n",
      "flatten (Flatten)            (None, 420)               0         \n",
      "_________________________________________________________________\n",
      "dense (Dense)                (None, 1)                 421       \n",
      "=================================================================\n",
      "Total params: 51,961\n",
      "Trainable params: 0\n",
      "Non-trainable params: 51,961\n",
      "_________________________________________________________________\n"
     ]
    }
   ],
   "source": [
    "model.summary()"
   ]
  },
  {
   "cell_type": "code",
   "execution_count": 44,
   "id": "friendly-residence",
   "metadata": {},
   "outputs": [],
   "source": [
    "model.compile(optimizer='adam', loss='mean_squared_error')"
   ]
  },
  {
   "cell_type": "markdown",
   "id": "essential-scheduling",
   "metadata": {},
   "source": [
    "### Train model on single stock"
   ]
  },
  {
   "cell_type": "code",
   "execution_count": 45,
   "id": "vocal-allocation",
   "metadata": {},
   "outputs": [],
   "source": [
    "tensorboard = TensorBoard(log_dir='logs/{}_2'.format(time_stamp))"
   ]
  },
  {
   "cell_type": "code",
   "execution_count": 46,
   "id": "threatened-projection",
   "metadata": {},
   "outputs": [
    {
     "name": "stdout",
     "output_type": "stream",
     "text": [
      "Epoch 1/45\n",
      "12/12 [==============================] - 7s 418ms/step - loss: 0.0054 - val_loss: 0.0108\n",
      "Epoch 2/45\n",
      "12/12 [==============================] - 0s 7ms/step - loss: 0.0056 - val_loss: 0.0108\n",
      "Epoch 3/45\n",
      "12/12 [==============================] - 0s 7ms/step - loss: 0.0059 - val_loss: 0.0108\n",
      "Epoch 4/45\n",
      "12/12 [==============================] - 0s 7ms/step - loss: 0.0055 - val_loss: 0.0108\n",
      "Epoch 5/45\n",
      "12/12 [==============================] - 0s 7ms/step - loss: 0.0058 - val_loss: 0.0108\n",
      "Epoch 6/45\n",
      "12/12 [==============================] - 0s 7ms/step - loss: 0.0058 - val_loss: 0.0108\n",
      "Epoch 7/45\n",
      "12/12 [==============================] - 0s 8ms/step - loss: 0.0057 - val_loss: 0.0108\n",
      "Epoch 8/45\n",
      "12/12 [==============================] - 0s 7ms/step - loss: 0.0057 - val_loss: 0.0108\n",
      "Epoch 9/45\n",
      "12/12 [==============================] - 0s 7ms/step - loss: 0.0058 - val_loss: 0.0108\n",
      "Epoch 10/45\n",
      "12/12 [==============================] - 0s 8ms/step - loss: 0.0056 - val_loss: 0.0108\n",
      "Epoch 11/45\n",
      "12/12 [==============================] - 0s 7ms/step - loss: 0.0056 - val_loss: 0.0108\n",
      "Epoch 12/45\n",
      "12/12 [==============================] - 0s 7ms/step - loss: 0.0056 - val_loss: 0.0108\n",
      "Epoch 13/45\n",
      "12/12 [==============================] - 0s 8ms/step - loss: 0.0057 - val_loss: 0.0108\n",
      "Epoch 14/45\n",
      "12/12 [==============================] - 0s 7ms/step - loss: 0.0058 - val_loss: 0.0108\n",
      "Epoch 15/45\n",
      "12/12 [==============================] - 0s 6ms/step - loss: 0.0056 - val_loss: 0.0108\n",
      "Epoch 16/45\n",
      "12/12 [==============================] - 0s 7ms/step - loss: 0.0057 - val_loss: 0.0108\n",
      "Epoch 17/45\n",
      "12/12 [==============================] - 0s 7ms/step - loss: 0.0056 - val_loss: 0.0108\n",
      "Epoch 18/45\n",
      "12/12 [==============================] - 0s 7ms/step - loss: 0.0056 - val_loss: 0.0108\n",
      "Epoch 19/45\n",
      "12/12 [==============================] - 0s 7ms/step - loss: 0.0057 - val_loss: 0.0108\n",
      "Epoch 20/45\n",
      "12/12 [==============================] - 0s 7ms/step - loss: 0.0057 - val_loss: 0.0108\n",
      "Epoch 21/45\n",
      "12/12 [==============================] - 0s 8ms/step - loss: 0.0057 - val_loss: 0.0108\n",
      "Epoch 22/45\n",
      "12/12 [==============================] - 0s 7ms/step - loss: 0.0059 - val_loss: 0.0108\n",
      "Epoch 23/45\n",
      "12/12 [==============================] - 0s 7ms/step - loss: 0.0056 - val_loss: 0.0108\n",
      "Epoch 24/45\n",
      "12/12 [==============================] - 0s 7ms/step - loss: 0.0056 - val_loss: 0.0108\n",
      "Epoch 25/45\n",
      "12/12 [==============================] - 0s 7ms/step - loss: 0.0057 - val_loss: 0.0108\n",
      "Epoch 26/45\n",
      "12/12 [==============================] - 0s 7ms/step - loss: 0.0055 - val_loss: 0.0108\n",
      "Epoch 27/45\n",
      "12/12 [==============================] - 0s 7ms/step - loss: 0.0057 - val_loss: 0.0108\n",
      "Epoch 28/45\n",
      "12/12 [==============================] - 0s 7ms/step - loss: 0.0059 - val_loss: 0.0108\n",
      "Epoch 29/45\n",
      "12/12 [==============================] - 0s 7ms/step - loss: 0.0057 - val_loss: 0.0108\n",
      "Epoch 30/45\n",
      "12/12 [==============================] - 0s 7ms/step - loss: 0.0056 - val_loss: 0.0108\n",
      "Epoch 31/45\n",
      "12/12 [==============================] - 0s 8ms/step - loss: 0.0056 - val_loss: 0.0108\n",
      "Epoch 32/45\n",
      "12/12 [==============================] - 0s 8ms/step - loss: 0.0058 - val_loss: 0.0108\n",
      "Epoch 33/45\n",
      "12/12 [==============================] - 0s 8ms/step - loss: 0.0055 - val_loss: 0.0108\n",
      "Epoch 34/45\n",
      "12/12 [==============================] - 0s 8ms/step - loss: 0.0056 - val_loss: 0.0108\n",
      "Epoch 35/45\n",
      "12/12 [==============================] - 0s 7ms/step - loss: 0.0056 - val_loss: 0.0108\n",
      "Epoch 36/45\n",
      "12/12 [==============================] - 0s 7ms/step - loss: 0.0056 - val_loss: 0.0108\n",
      "Epoch 37/45\n",
      "12/12 [==============================] - 0s 7ms/step - loss: 0.0056 - val_loss: 0.0108\n",
      "Epoch 38/45\n",
      "12/12 [==============================] - 0s 7ms/step - loss: 0.0054 - val_loss: 0.0108\n",
      "Epoch 39/45\n",
      "12/12 [==============================] - 0s 7ms/step - loss: 0.0057 - val_loss: 0.0108\n",
      "Epoch 40/45\n",
      "12/12 [==============================] - 0s 7ms/step - loss: 0.0057 - val_loss: 0.0108\n",
      "Epoch 41/45\n",
      "12/12 [==============================] - 0s 7ms/step - loss: 0.0055 - val_loss: 0.0108\n",
      "Epoch 42/45\n",
      "12/12 [==============================] - 0s 7ms/step - loss: 0.0056 - val_loss: 0.0108\n",
      "Epoch 43/45\n",
      "12/12 [==============================] - 0s 7ms/step - loss: 0.0055 - val_loss: 0.0108\n",
      "Epoch 44/45\n",
      "12/12 [==============================] - 0s 8ms/step - loss: 0.0057 - val_loss: 0.0108\n",
      "Epoch 45/45\n",
      "12/12 [==============================] - 0s 7ms/step - loss: 0.0057 - val_loss: 0.0108\n"
     ]
    }
   ],
   "source": [
    "history2 = model.fit(x_train, y_train, epochs=45, validation_data=(x_valid, y_valid), batch_size=64, shuffle=False, callbacks=[tensorboard])"
   ]
  },
  {
   "cell_type": "markdown",
   "id": "promising-republican",
   "metadata": {},
   "source": [
    "### Visualize results"
   ]
  },
  {
   "cell_type": "code",
   "execution_count": 47,
   "id": "greatest-sodium",
   "metadata": {},
   "outputs": [
    {
     "data": {
      "image/png": "[encoded data removed]",
      "text/plain": [
       "<Figure size 576x432 with 1 Axes>"
      ]
     },
     "metadata": {
      "needs_background": "light"
     },
     "output_type": "display_data"
    }
   ],
   "source": [
    "plot_loss(history1)"
   ]
  },
  {
   "cell_type": "code",
   "execution_count": 48,
   "id": "vanilla-reception",
   "metadata": {},
   "outputs": [
    {
     "data": {
      "image/png": "[encoded data removed]",
      "text/plain": [
       "<Figure size 576x432 with 1 Axes>"
      ]
     },
     "metadata": {
      "needs_background": "light"
     },
     "output_type": "display_data"
    }
   ],
   "source": [
    "plot_loss(history2)"
   ]
  },
  {
   "cell_type": "code",
   "execution_count": 49,
   "id": "prepared-principal",
   "metadata": {},
   "outputs": [
    {
     "name": "stdout",
     "output_type": "stream",
     "text": [
      "Training RMSE = 1.6030326439142637\n"
     ]
    }
   ],
   "source": [
    "print(\"Training RMSE = {}\".format(evaluate_model_rmse(model.predict(x_train), \n",
    "                                                      y_train,\n",
    "                                                     num_features,\n",
    "                                                     single_stock_scaler_models[target_stock])))"
   ]
  },
  {
   "cell_type": "code",
   "execution_count": 50,
   "id": "alert-execution",
   "metadata": {},
   "outputs": [
    {
     "name": "stdout",
     "output_type": "stream",
     "text": [
      "Validation RMSE = 2.3158186089610315\n"
     ]
    }
   ],
   "source": [
    "print(\"Validation RMSE = {}\".format(evaluate_model_rmse(model.predict(x_valid), \n",
    "                                                      y_valid,\n",
    "                                                     num_features,\n",
    "                                                     single_stock_scaler_models[target_stock])))"
   ]
  },
  {
   "cell_type": "code",
   "execution_count": 51,
   "id": "final-advertising",
   "metadata": {},
   "outputs": [
    {
     "name": "stdout",
     "output_type": "stream",
     "text": [
      "Testing RMSE = 2.185711394862339\n"
     ]
    }
   ],
   "source": [
    "print(\"Testing RMSE = {}\".format(evaluate_model_rmse(model.predict(x_test), \n",
    "                                                     y_test,\n",
    "                                                    num_features,\n",
    "                                                    single_stock_scaler_models[target_stock])))"
   ]
  },
  {
   "cell_type": "markdown",
   "id": "caroline-consumer",
   "metadata": {},
   "source": [
    "#### Compare to simple baseline"
   ]
  },
  {
   "cell_type": "code",
   "execution_count": 52,
   "id": "coral-dodge",
   "metadata": {},
   "outputs": [],
   "source": [
    "def predict_no_change(x):\n",
    "    return x[-1][0]"
   ]
  },
  {
   "cell_type": "code",
   "execution_count": 53,
   "id": "lightweight-spray",
   "metadata": {},
   "outputs": [],
   "source": [
    "no_change_preds = np.array([predict_no_change(x) for x in x_train])\n",
    "no_change_preds = np.expand_dims(no_change_preds, axis=1)"
   ]
  },
  {
   "cell_type": "code",
   "execution_count": 54,
   "id": "genetic-holly",
   "metadata": {},
   "outputs": [
    {
     "data": {
      "text/plain": [
       "1.6421249249726655"
      ]
     },
     "execution_count": 54,
     "metadata": {},
     "output_type": "execute_result"
    }
   ],
   "source": [
    "evaluate_model_rmse(no_change_preds, y_train, num_features, single_stock_scaler_models['XOM'])"
   ]
  },
  {
   "cell_type": "code",
   "execution_count": 55,
   "id": "injured-loading",
   "metadata": {},
   "outputs": [],
   "source": [
    "no_change_preds = np.array([predict_no_change(x) for x in x_test])\n",
    "no_change_preds = np.expand_dims(no_change_preds, axis=1)"
   ]
  },
  {
   "cell_type": "code",
   "execution_count": 56,
   "id": "wound-pantyhose",
   "metadata": {},
   "outputs": [
    {
     "data": {
      "text/plain": [
       "1.949052443325683"
      ]
     },
     "execution_count": 56,
     "metadata": {},
     "output_type": "execute_result"
    }
   ],
   "source": [
    "evaluate_model_rmse(no_change_preds, y_test, num_features, single_stock_scaler_models['XOM'])"
   ]
  },
  {
   "cell_type": "markdown",
   "id": "signal-willow",
   "metadata": {},
   "source": [
    "### Plot data against predictions"
   ]
  },
  {
   "cell_type": "code",
   "execution_count": 57,
   "id": "christian-stopping",
   "metadata": {},
   "outputs": [
    {
     "data": {
      "text/plain": [
       "<AxesSubplot:title={'center':'Training performance'}>"
      ]
     },
     "execution_count": 57,
     "metadata": {},
     "output_type": "execute_result"
    },
    {
     "data": {
      "image/png": "[encoded data removed]",
      "text/plain": [
       "<Figure size 864x576 with 1 Axes>"
      ]
     },
     "metadata": {
      "needs_background": "light"
     },
     "output_type": "display_data"
    }
   ],
   "source": [
    "price_vs_preds = pd.DataFrame([x_train[:, -1, 0], model.predict(x_train)[:, 0]]).T\n",
    "price_vs_preds.columns = ['Price', 'Prediction']\n",
    "price_vs_preds.plot(figsize=(12,8), title=\"Training performance\")"
   ]
  },
  {
   "cell_type": "code",
   "execution_count": 60,
   "id": "fitted-debate",
   "metadata": {},
   "outputs": [
    {
     "data": {
      "text/plain": [
       "<AxesSubplot:title={'center':'Validation performance'}>"
      ]
     },
     "execution_count": 60,
     "metadata": {},
     "output_type": "execute_result"
    },
    {
     "data": {
      "image/png": "[encoded data removed]",
      "text/plain": [
       "<Figure size 864x576 with 1 Axes>"
      ]
     },
     "metadata": {
      "needs_background": "light"
     },
     "output_type": "display_data"
    }
   ],
   "source": [
    "price_vs_preds = pd.DataFrame([x_valid[:, -1, 0], model.predict(x_valid)[:, 0]]).T\n",
    "price_vs_preds.columns = ['Price', 'Prediction']\n",
    "price_vs_preds.plot(figsize=(12,8), title=\"Validation performance\")"
   ]
  },
  {
   "cell_type": "code",
   "execution_count": 61,
   "id": "close-coupon",
   "metadata": {},
   "outputs": [
    {
     "data": {
      "text/plain": [
       "<AxesSubplot:title={'center':'Testing performance'}>"
      ]
     },
     "execution_count": 61,
     "metadata": {},
     "output_type": "execute_result"
    },
    {
     "data": {
      "image/png": "[encoded data removed]",
      "text/plain": [
       "<Figure size 864x576 with 1 Axes>"
      ]
     },
     "metadata": {
      "needs_background": "light"
     },
     "output_type": "display_data"
    }
   ],
   "source": [
    "price_vs_preds = pd.DataFrame([x_test[:, -1, 0], model.predict(x_test)[:, 0]]).T\n",
    "price_vs_preds.columns = ['Price', 'Prediction']\n",
    "price_vs_preds.plot(figsize=(12,8), title=\"Testing performance\")"
   ]
  },
  {
   "cell_type": "code",
   "execution_count": null,
   "id": "passive-vector",
   "metadata": {},
   "outputs": [],
   "source": []
  }
 ],
 "metadata": {
  "kernelspec": {
   "display_name": "Python 3",
   "language": "python",
   "name": "python3"
  },
  "language_info": {
   "codemirror_mode": {
    "name": "ipython",
    "version": 3
   },
   "file_extension": ".py",
   "mimetype": "text/x-python",
   "name": "python",
   "nbconvert_exporter": "python",
   "pygments_lexer": "ipython3",
   "version": "3.8.5"
  }
 },
 "nbformat": 4,
 "nbformat_minor": 5
}
