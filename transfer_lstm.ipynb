{
 "cells": [
  {
   "cell_type": "markdown",
   "id": "cardiac-marijuana",
   "metadata": {},
   "source": [
    "### Imports"
   ]
  },
  {
   "cell_type": "code",
   "execution_count": 1,
   "id": "bored-abraham",
   "metadata": {},
   "outputs": [
    {
     "data": {
      "text/html": [
       "<style>.container { width:100% !important; }</style>"
      ],
      "text/plain": [
       "<IPython.core.display.HTML object>"
      ]
     },
     "metadata": {},
     "output_type": "display_data"
    }
   ],
   "source": [
    "import os, sys\n",
    "import pandas as pd\n",
    "import numpy as np\n",
    "import yfinance as yf\n",
    "import matplotlib.pyplot as plt\n",
    "import seaborn as sns\n",
    "import random\n",
    "\n",
    "import tensorflow as tf\n",
    "from tensorflow.keras import Input, Model\n",
    "from tensorflow.keras.models import Sequential\n",
    "from tensorflow.keras.layers import *\n",
    "from tensorflow.keras.losses import CategoricalCrossentropy\n",
    "from tensorflow.keras.utils import to_categorical, plot_model\n",
    "from tensorflow.keras.preprocessing.sequence import TimeseriesGenerator\n",
    "from sklearn.metrics import confusion_matrix, mean_squared_error\n",
    "from sklearn.feature_extraction.text import CountVectorizer\n",
    "from sklearn.preprocessing import StandardScaler, MinMaxScaler, RobustScaler\n",
    "\n",
    "from time import time\n",
    "from tensorflow.python.keras.callbacks import TensorBoard\n",
    "\n",
    "from indicators import *\n",
    "from data_loading import *\n",
    "from util_functions import *\n",
    "\n",
    "\n",
    "physical_devices = tf.config.list_physical_devices('GPU')\n",
    "tf.config.experimental.set_memory_growth(physical_devices[0], enable=True)\n",
    "\n",
    "from IPython.core.display import display, HTML\n",
    "display(HTML(\"<style>.container { width:100% !important; }</style>\"))\n",
    "\n",
    "pd.set_option('display.max_rows', 500)\n",
    "pd.set_option('display.max_columns', 500)\n",
    "pd.set_option('display.width', 1000)\n"
   ]
  },
  {
   "cell_type": "markdown",
   "id": "approved-battlefield",
   "metadata": {},
   "source": [
    "### Parameters"
   ]
  },
  {
   "cell_type": "code",
   "execution_count": 2,
   "id": "engaged-november",
   "metadata": {},
   "outputs": [],
   "source": [
    "trail_size=14\n",
    "predict_length = 5\n",
    "time_period = '6y'"
   ]
  },
  {
   "cell_type": "markdown",
   "id": "literary-morgan",
   "metadata": {},
   "source": [
    "### Load stock data"
   ]
  },
  {
   "cell_type": "code",
   "execution_count": 3,
   "id": "beginning-comparison",
   "metadata": {},
   "outputs": [],
   "source": [
    "top100tech = ['AAPL', 'MSFT', 'TSM', 'NVDA', 'INTC', 'ASML', 'ADBE', 'CRM', 'AVGO', 'ORCL', 'CSCO', 'ACN', 'TXN', 'SHOP', 'QCOM', 'SAP', 'SNE', 'AMAT', 'INTU', 'NOW', 'SQ', 'IBM', 'MU', 'AMD',\n",
    "'UBER', 'FIS', 'LRCX', 'FISV', 'SNOW', 'INFY', 'TEAM', 'ADSK', 'DELL', 'WDAY', 'VMW', 'ADI', 'NXPI', 'KLAC',\n",
    "'CRWD', 'PLTR', 'DOCU', 'TEL', 'ERIC', 'MCHP', 'CDNS', 'CTSH', 'APH', 'SNPS', 'HPQ',\n",
    "'PANW', 'OKTA','RNG','STM','MRVL','XLNX','WIT','MSI','SWKS','GLW','DDOG','ANSS','U','ZS','FTNT','STNE','ZBRA','KEYS','FTV','MXIM','COUP','GRMN','SPLK','HUBS','WORK','NET','FLT','CDW','CAJ','AFRM','PAYC','TER',\n",
    "'VRSN','WDC', 'ZI', 'UMC','ANET','EPAM', 'UI','XM',\n",
    "'GIB','TRMB', 'TYL','WIX','HPE','LYFT', 'LOGI', 'MPWR']\n",
    "top10tech = top100tech[:10]"
   ]
  },
  {
   "cell_type": "code",
   "execution_count": 4,
   "id": "stretch-video",
   "metadata": {},
   "outputs": [],
   "source": [
    "top_energy = [\"XOM\", \"CVX\", \"RDS-A\", \"RDS-B\", \"PTR\", \"TOT\", \"BP\",\n",
    "\"SNP\", \"ENB\", \"COP\", \"EQNR\", \"PBR-A\", \"PBR\", \"EPD\",\n",
    "\"TRP\", \"E\", \"EOG\", \"SLB\", \"KMI\", \"PSX\", \"CNQ\",\n",
    "\"MPC\", \"PXD\", \"SU\", \"VLO\"]"
   ]
  },
  {
   "cell_type": "code",
   "execution_count": 5,
   "id": "olympic-exhaust",
   "metadata": {},
   "outputs": [],
   "source": [
    "traditional_energy_stocks = [\n",
    "    \"LNG\",\n",
    "    \"OKE\",\n",
    "    \"BKR\",\n",
    "    \"WMB\",\n",
    "    \"EQT\", \n",
    "    \"XEC\", \n",
    "    \"XOM\", \n",
    "    \"CVX\", \n",
    "    \"BP\", \n",
    "    \"OXY\", \n",
    "    \"COP\", \n",
    "    \"EOG\", \n",
    "    \"COG\", \n",
    "    \"CNQ\", \n",
    "    \"SLB\", \n",
    "    \"PTR\", \n",
    "    \"TOT\", \n",
    "    \"ENB\",  \n",
    "]"
   ]
  },
  {
   "cell_type": "code",
   "execution_count": 6,
   "id": "devoted-wages",
   "metadata": {},
   "outputs": [
    {
     "name": "stdout",
     "output_type": "stream",
     "text": [
      "[*********************100%***********************]  18 of 18 completed\n"
     ]
    }
   ],
   "source": [
    "data = get_data_yf(traditional_energy_stocks, time_period)"
   ]
  },
  {
   "cell_type": "code",
   "execution_count": 7,
   "id": "qualified-concept",
   "metadata": {},
   "outputs": [
    {
     "data": {
      "text/plain": [
       "0"
      ]
     },
     "execution_count": 7,
     "metadata": {},
     "output_type": "execute_result"
    }
   ],
   "source": [
    "data.isna().sum().sum()"
   ]
  },
  {
   "cell_type": "code",
   "execution_count": 8,
   "id": "vanilla-swiss",
   "metadata": {},
   "outputs": [],
   "source": [
    "data = process_stock_data_from_yf(data)"
   ]
  },
  {
   "cell_type": "code",
   "execution_count": 9,
   "id": "harmful-shield",
   "metadata": {},
   "outputs": [
    {
     "data": {
      "text/plain": [
       "100.0"
      ]
     },
     "execution_count": 9,
     "metadata": {},
     "output_type": "execute_result"
    }
   ],
   "source": [
    "has_data_ratio, data = filter_has_all_data(data)\n",
    "has_data_ratio"
   ]
  },
  {
   "cell_type": "markdown",
   "id": "warming-specific",
   "metadata": {},
   "source": [
    "### Compute technical indicators"
   ]
  },
  {
   "cell_type": "code",
   "execution_count": 10,
   "id": "cooked-dutch",
   "metadata": {},
   "outputs": [],
   "source": [
    "# compute all our technical markers for each of the stocks. \n",
    "dataset = data.groupby('Ticker').apply(lambda x: add_technical_markers(x, trail_size))"
   ]
  },
  {
   "cell_type": "markdown",
   "id": "social-ebony",
   "metadata": {},
   "source": [
    "### Load climate trends data"
   ]
  },
  {
   "cell_type": "code",
   "execution_count": 11,
   "id": "innovative-metallic",
   "metadata": {},
   "outputs": [],
   "source": [
    "filenames = [\n",
    "    \"data climate change adjusted.csv\",\n",
    "    \"data greenhouse gas adjusted.csv\",\n",
    "    \"data oil adjusted.csv\",\n",
    "    \"data renewable adjusted.csv\",\n",
    "    \"data carbon tax adjusted.csv\",\n",
    "    \"data electric vehicles adjusted.csv\",\n",
    "    \"data environmental protection agency adjusted.csv\",\n",
    "    \"data fossil fuels adjusted.csv\",\n",
    "    \"data fracking adjusted.csv\",\n",
    "    \"data global warming adjusted.csv\",\n",
    "]\n",
    "filenames = [\n",
    "    \"data climate change.csv\",\n",
    "    \"data greenhouse gas.csv\",\n",
    "    \"data oil.csv\",\n",
    "    \"data renewable.csv\",\n",
    "    \"data carbon tax.csv\",\n",
    "    \"data electric vehicles.csv\",\n",
    "    \"data environmental protection agency.csv\",\n",
    "    \"data fossil fuels.csv\",\n",
    "    \"data fracking.csv\",\n",
    "    \"data global warming.csv\",\n",
    "]\n",
    "terms = [\n",
    "    \"climate change\",\n",
    "    \"greenhouse gas\",\n",
    "    \"oil\",\n",
    "    \"renewable\",\n",
    "    \"carbon tax\",\n",
    "    \"electric vehicles\",\n",
    "    \"environmental protection agency\",\n",
    "    \"fossil fuels\",\n",
    "    \"fracking\",\n",
    "    \"global warming\",\n",
    "]"
   ]
  },
  {
   "cell_type": "code",
   "execution_count": 12,
   "id": "powerful-nowhere",
   "metadata": {},
   "outputs": [],
   "source": [
    "dfs = [pd.read_csv(f) for f in filenames]\n",
    "\n",
    "for i in range(len(dfs)):\n",
    "    dfs[i].columns = [\"Date\", \"Popularity\"]\n",
    "    dfs[i].insert(2, \"Term\", terms[i])\n",
    "\n",
    "climate_trends_data = pd.concat(dfs).reset_index(drop=True)"
   ]
  },
  {
   "cell_type": "code",
   "execution_count": 13,
   "id": "twenty-railway",
   "metadata": {},
   "outputs": [],
   "source": [
    "climate_trends_data['Date'] = pd.to_datetime(climate_trends_data['Date'])"
   ]
  },
  {
   "cell_type": "code",
   "execution_count": 14,
   "id": "satisfied-korean",
   "metadata": {},
   "outputs": [],
   "source": [
    "climate_trends_data = climate_trends_data.pivot(index='Date', columns=\"Term\", values=\"Popularity\").reset_index()"
   ]
  },
  {
   "cell_type": "code",
   "execution_count": null,
   "id": "fuzzy-forth",
   "metadata": {},
   "outputs": [],
   "source": []
  },
  {
   "cell_type": "code",
   "execution_count": 15,
   "id": "specified-terminal",
   "metadata": {},
   "outputs": [],
   "source": [
    "num_climate_features = len(climate_trends_data.columns.tolist()) - 1 # minus date"
   ]
  },
  {
   "cell_type": "code",
   "execution_count": 16,
   "id": "naval-pavilion",
   "metadata": {},
   "outputs": [
    {
     "data": {
      "text/html": [
       "<div>\n",
       "<style scoped>\n",
       "    .dataframe tbody tr th:only-of-type {\n",
       "        vertical-align: middle;\n",
       "    }\n",
       "\n",
       "    .dataframe tbody tr th {\n",
       "        vertical-align: top;\n",
       "    }\n",
       "\n",
       "    .dataframe thead th {\n",
       "        text-align: right;\n",
       "    }\n",
       "</style>\n",
       "<table border=\"1\" class=\"dataframe\">\n",
       "  <thead>\n",
       "    <tr style=\"text-align: right;\">\n",
       "      <th>Term</th>\n",
       "      <th>Date</th>\n",
       "      <th>carbon tax</th>\n",
       "      <th>climate change</th>\n",
       "      <th>electric vehicles</th>\n",
       "      <th>environmental protection agency</th>\n",
       "      <th>fossil fuels</th>\n",
       "      <th>fracking</th>\n",
       "      <th>global warming</th>\n",
       "      <th>greenhouse gas</th>\n",
       "      <th>oil</th>\n",
       "      <th>renewable</th>\n",
       "    </tr>\n",
       "  </thead>\n",
       "  <tbody>\n",
       "    <tr>\n",
       "      <th>2267</th>\n",
       "      <td>2021-03-17</td>\n",
       "      <td>88</td>\n",
       "      <td>57</td>\n",
       "      <td>60</td>\n",
       "      <td>56</td>\n",
       "      <td>53</td>\n",
       "      <td>17</td>\n",
       "      <td>65</td>\n",
       "      <td>54</td>\n",
       "      <td>87</td>\n",
       "      <td>75</td>\n",
       "    </tr>\n",
       "    <tr>\n",
       "      <th>2268</th>\n",
       "      <td>2021-03-18</td>\n",
       "      <td>88</td>\n",
       "      <td>57</td>\n",
       "      <td>64</td>\n",
       "      <td>56</td>\n",
       "      <td>64</td>\n",
       "      <td>14</td>\n",
       "      <td>77</td>\n",
       "      <td>66</td>\n",
       "      <td>86</td>\n",
       "      <td>73</td>\n",
       "    </tr>\n",
       "    <tr>\n",
       "      <th>2269</th>\n",
       "      <td>2021-03-19</td>\n",
       "      <td>57</td>\n",
       "      <td>52</td>\n",
       "      <td>40</td>\n",
       "      <td>29</td>\n",
       "      <td>61</td>\n",
       "      <td>14</td>\n",
       "      <td>56</td>\n",
       "      <td>75</td>\n",
       "      <td>86</td>\n",
       "      <td>69</td>\n",
       "    </tr>\n",
       "    <tr>\n",
       "      <th>2270</th>\n",
       "      <td>2021-03-20</td>\n",
       "      <td>54</td>\n",
       "      <td>41</td>\n",
       "      <td>55</td>\n",
       "      <td>32</td>\n",
       "      <td>32</td>\n",
       "      <td>6</td>\n",
       "      <td>41</td>\n",
       "      <td>41</td>\n",
       "      <td>99</td>\n",
       "      <td>39</td>\n",
       "    </tr>\n",
       "    <tr>\n",
       "      <th>2271</th>\n",
       "      <td>2021-03-21</td>\n",
       "      <td>91</td>\n",
       "      <td>41</td>\n",
       "      <td>66</td>\n",
       "      <td>16</td>\n",
       "      <td>39</td>\n",
       "      <td>7</td>\n",
       "      <td>46</td>\n",
       "      <td>74</td>\n",
       "      <td>93</td>\n",
       "      <td>56</td>\n",
       "    </tr>\n",
       "  </tbody>\n",
       "</table>\n",
       "</div>"
      ],
      "text/plain": [
       "Term       Date  carbon tax  climate change  electric vehicles  environmental protection agency  fossil fuels  fracking  global warming  greenhouse gas  oil  renewable\n",
       "2267 2021-03-17          88              57                 60                               56            53        17              65              54   87         75\n",
       "2268 2021-03-18          88              57                 64                               56            64        14              77              66   86         73\n",
       "2269 2021-03-19          57              52                 40                               29            61        14              56              75   86         69\n",
       "2270 2021-03-20          54              41                 55                               32            32         6              41              41   99         39\n",
       "2271 2021-03-21          91              41                 66                               16            39         7              46              74   93         56"
      ]
     },
     "execution_count": 16,
     "metadata": {},
     "output_type": "execute_result"
    }
   ],
   "source": [
    "climate_trends_data.tail()"
   ]
  },
  {
   "cell_type": "code",
   "execution_count": 19,
   "id": "forty-concept",
   "metadata": {},
   "outputs": [
    {
     "data": {
      "text/plain": [
       "<AxesSubplot:xlabel='Date'>"
      ]
     },
     "execution_count": 19,
     "metadata": {},
     "output_type": "execute_result"
    },
    {
     "data": {
      "image/png": "[encoded data removed]",
      "text/plain": [
       "<Figure size 432x288 with 1 Axes>"
      ]
     },
     "metadata": {
      "needs_background": "light"
     },
     "output_type": "display_data"
    }
   ],
   "source": [
    "climate_trends_data.set_index('Date')['climate change'].plot()"
   ]
  },
  {
   "cell_type": "code",
   "execution_count": 20,
   "id": "respective-possession",
   "metadata": {},
   "outputs": [
    {
     "data": {
      "text/html": [
       "<div>\n",
       "<style scoped>\n",
       "    .dataframe tbody tr th:only-of-type {\n",
       "        vertical-align: middle;\n",
       "    }\n",
       "\n",
       "    .dataframe tbody tr th {\n",
       "        vertical-align: top;\n",
       "    }\n",
       "\n",
       "    .dataframe thead th {\n",
       "        text-align: right;\n",
       "    }\n",
       "</style>\n",
       "<table border=\"1\" class=\"dataframe\">\n",
       "  <thead>\n",
       "    <tr style=\"text-align: right;\">\n",
       "      <th>Term</th>\n",
       "      <th>Date</th>\n",
       "      <th>carbon tax</th>\n",
       "      <th>climate change</th>\n",
       "      <th>electric vehicles</th>\n",
       "      <th>environmental protection agency</th>\n",
       "      <th>fossil fuels</th>\n",
       "      <th>fracking</th>\n",
       "      <th>global warming</th>\n",
       "      <th>greenhouse gas</th>\n",
       "      <th>oil</th>\n",
       "      <th>renewable</th>\n",
       "    </tr>\n",
       "  </thead>\n",
       "  <tbody>\n",
       "    <tr>\n",
       "      <th>0</th>\n",
       "      <td>2015-01-01</td>\n",
       "      <td>13</td>\n",
       "      <td>29</td>\n",
       "      <td>67</td>\n",
       "      <td>0</td>\n",
       "      <td>22</td>\n",
       "      <td>22</td>\n",
       "      <td>30</td>\n",
       "      <td>0</td>\n",
       "      <td>64</td>\n",
       "      <td>17</td>\n",
       "    </tr>\n",
       "    <tr>\n",
       "      <th>1</th>\n",
       "      <td>2015-01-02</td>\n",
       "      <td>34</td>\n",
       "      <td>27</td>\n",
       "      <td>19</td>\n",
       "      <td>23</td>\n",
       "      <td>14</td>\n",
       "      <td>21</td>\n",
       "      <td>31</td>\n",
       "      <td>18</td>\n",
       "      <td>78</td>\n",
       "      <td>28</td>\n",
       "    </tr>\n",
       "    <tr>\n",
       "      <th>2</th>\n",
       "      <td>2015-01-03</td>\n",
       "      <td>83</td>\n",
       "      <td>24</td>\n",
       "      <td>41</td>\n",
       "      <td>47</td>\n",
       "      <td>20</td>\n",
       "      <td>21</td>\n",
       "      <td>36</td>\n",
       "      <td>44</td>\n",
       "      <td>80</td>\n",
       "      <td>29</td>\n",
       "    </tr>\n",
       "    <tr>\n",
       "      <th>3</th>\n",
       "      <td>2015-01-04</td>\n",
       "      <td>35</td>\n",
       "      <td>30</td>\n",
       "      <td>20</td>\n",
       "      <td>23</td>\n",
       "      <td>33</td>\n",
       "      <td>35</td>\n",
       "      <td>40</td>\n",
       "      <td>36</td>\n",
       "      <td>75</td>\n",
       "      <td>24</td>\n",
       "    </tr>\n",
       "    <tr>\n",
       "      <th>4</th>\n",
       "      <td>2015-01-05</td>\n",
       "      <td>40</td>\n",
       "      <td>42</td>\n",
       "      <td>60</td>\n",
       "      <td>10</td>\n",
       "      <td>33</td>\n",
       "      <td>27</td>\n",
       "      <td>54</td>\n",
       "      <td>16</td>\n",
       "      <td>89</td>\n",
       "      <td>56</td>\n",
       "    </tr>\n",
       "  </tbody>\n",
       "</table>\n",
       "</div>"
      ],
      "text/plain": [
       "Term       Date  carbon tax  climate change  electric vehicles  environmental protection agency  fossil fuels  fracking  global warming  greenhouse gas  oil  renewable\n",
       "0    2015-01-01          13              29                 67                                0            22        22              30               0   64         17\n",
       "1    2015-01-02          34              27                 19                               23            14        21              31              18   78         28\n",
       "2    2015-01-03          83              24                 41                               47            20        21              36              44   80         29\n",
       "3    2015-01-04          35              30                 20                               23            33        35              40              36   75         24\n",
       "4    2015-01-05          40              42                 60                               10            33        27              54              16   89         56"
      ]
     },
     "execution_count": 20,
     "metadata": {},
     "output_type": "execute_result"
    }
   ],
   "source": [
    "climate_trends_data.head()"
   ]
  },
  {
   "cell_type": "code",
   "execution_count": 21,
   "id": "wired-fashion",
   "metadata": {},
   "outputs": [
    {
     "data": {
      "text/html": [
       "<div>\n",
       "<style scoped>\n",
       "    .dataframe tbody tr th:only-of-type {\n",
       "        vertical-align: middle;\n",
       "    }\n",
       "\n",
       "    .dataframe tbody tr th {\n",
       "        vertical-align: top;\n",
       "    }\n",
       "\n",
       "    .dataframe thead th {\n",
       "        text-align: right;\n",
       "    }\n",
       "</style>\n",
       "<table border=\"1\" class=\"dataframe\">\n",
       "  <thead>\n",
       "    <tr style=\"text-align: right;\">\n",
       "      <th></th>\n",
       "      <th>Ticker</th>\n",
       "      <th>Date</th>\n",
       "      <th>Close</th>\n",
       "      <th>High</th>\n",
       "      <th>Low</th>\n",
       "      <th>Open</th>\n",
       "      <th>Volume</th>\n",
       "      <th>HH</th>\n",
       "      <th>LL</th>\n",
       "      <th>AV</th>\n",
       "      <th>SMA</th>\n",
       "      <th>SD</th>\n",
       "      <th>WILLR</th>\n",
       "      <th>ATR</th>\n",
       "      <th>DMH</th>\n",
       "      <th>DML</th>\n",
       "      <th>EMA</th>\n",
       "      <th>WMA</th>\n",
       "      <th>BBHIGH</th>\n",
       "      <th>BBLOW</th>\n",
       "      <th>PERBHIGH</th>\n",
       "      <th>PERBLOW</th>\n",
       "      <th>TRIMA</th>\n",
       "      <th>RSI</th>\n",
       "      <th>DX</th>\n",
       "      <th>PDI</th>\n",
       "      <th>NDI</th>\n",
       "      <th>ADX</th>\n",
       "      <th>ROC</th>\n",
       "      <th>MACD</th>\n",
       "      <th>CCI</th>\n",
       "    </tr>\n",
       "  </thead>\n",
       "  <tbody>\n",
       "    <tr>\n",
       "      <th>0</th>\n",
       "      <td>BKR</td>\n",
       "      <td>2015-03-27</td>\n",
       "      <td>37.843140</td>\n",
       "      <td>38.096270</td>\n",
       "      <td>37.469468</td>\n",
       "      <td>37.837111</td>\n",
       "      <td>2559600.0</td>\n",
       "      <td>38.096270</td>\n",
       "      <td>37.469468</td>\n",
       "      <td>2559600.0</td>\n",
       "      <td>37.843140</td>\n",
       "      <td>NaN</td>\n",
       "      <td>-40.384404</td>\n",
       "      <td>0.626802</td>\n",
       "      <td>0.000000</td>\n",
       "      <td>0.000000</td>\n",
       "      <td>37.843140</td>\n",
       "      <td>NaN</td>\n",
       "      <td>NaN</td>\n",
       "      <td>NaN</td>\n",
       "      <td>NaN</td>\n",
       "      <td>NaN</td>\n",
       "      <td>NaN</td>\n",
       "      <td>NaN</td>\n",
       "      <td>NaN</td>\n",
       "      <td>0.000000</td>\n",
       "      <td>0.000000</td>\n",
       "      <td>NaN</td>\n",
       "      <td>0.000000</td>\n",
       "      <td>0.000000</td>\n",
       "      <td>NaN</td>\n",
       "    </tr>\n",
       "    <tr>\n",
       "      <th>1</th>\n",
       "      <td>BKR</td>\n",
       "      <td>2015-03-30</td>\n",
       "      <td>38.258999</td>\n",
       "      <td>38.421726</td>\n",
       "      <td>37.927518</td>\n",
       "      <td>37.999840</td>\n",
       "      <td>2259500.0</td>\n",
       "      <td>38.421726</td>\n",
       "      <td>37.469468</td>\n",
       "      <td>2409550.0</td>\n",
       "      <td>38.051069</td>\n",
       "      <td>0.294057</td>\n",
       "      <td>-32.926897</td>\n",
       "      <td>0.602694</td>\n",
       "      <td>0.325457</td>\n",
       "      <td>0.458050</td>\n",
       "      <td>38.065921</td>\n",
       "      <td>NaN</td>\n",
       "      <td>38.639183</td>\n",
       "      <td>37.462956</td>\n",
       "      <td>131.400372</td>\n",
       "      <td>127.400372</td>\n",
       "      <td>NaN</td>\n",
       "      <td>NaN</td>\n",
       "      <td>16.923069</td>\n",
       "      <td>54.000259</td>\n",
       "      <td>76.000353</td>\n",
       "      <td>16.923069</td>\n",
       "      <td>1.098903</td>\n",
       "      <td>0.007426</td>\n",
       "      <td>18.674068</td>\n",
       "    </tr>\n",
       "    <tr>\n",
       "      <th>2</th>\n",
       "      <td>BKR</td>\n",
       "      <td>2015-03-31</td>\n",
       "      <td>38.319275</td>\n",
       "      <td>38.554325</td>\n",
       "      <td>37.879306</td>\n",
       "      <td>38.060116</td>\n",
       "      <td>2975200.0</td>\n",
       "      <td>38.554325</td>\n",
       "      <td>37.469468</td>\n",
       "      <td>2598100.0</td>\n",
       "      <td>38.140471</td>\n",
       "      <td>0.259254</td>\n",
       "      <td>-34.821289</td>\n",
       "      <td>0.626803</td>\n",
       "      <td>0.132599</td>\n",
       "      <td>-0.048211</td>\n",
       "      <td>38.162703</td>\n",
       "      <td>NaN</td>\n",
       "      <td>38.658980</td>\n",
       "      <td>37.621962</td>\n",
       "      <td>149.116038</td>\n",
       "      <td>145.116038</td>\n",
       "      <td>NaN</td>\n",
       "      <td>NaN</td>\n",
       "      <td>214.262209</td>\n",
       "      <td>21.154776</td>\n",
       "      <td>-7.691639</td>\n",
       "      <td>115.592639</td>\n",
       "      <td>1.258181</td>\n",
       "      <td>0.011001</td>\n",
       "      <td>13.087897</td>\n",
       "    </tr>\n",
       "    <tr>\n",
       "      <th>3</th>\n",
       "      <td>BKR</td>\n",
       "      <td>2015-04-01</td>\n",
       "      <td>38.469944</td>\n",
       "      <td>38.759234</td>\n",
       "      <td>38.156543</td>\n",
       "      <td>38.488024</td>\n",
       "      <td>3796500.0</td>\n",
       "      <td>38.759234</td>\n",
       "      <td>37.469468</td>\n",
       "      <td>2897700.0</td>\n",
       "      <td>38.222839</td>\n",
       "      <td>0.268229</td>\n",
       "      <td>-47.999756</td>\n",
       "      <td>0.620775</td>\n",
       "      <td>0.204909</td>\n",
       "      <td>0.277237</td>\n",
       "      <td>38.256697</td>\n",
       "      <td>NaN</td>\n",
       "      <td>38.759297</td>\n",
       "      <td>37.686382</td>\n",
       "      <td>144.500933</td>\n",
       "      <td>140.500933</td>\n",
       "      <td>NaN</td>\n",
       "      <td>NaN</td>\n",
       "      <td>15.001120</td>\n",
       "      <td>33.008639</td>\n",
       "      <td>44.659771</td>\n",
       "      <td>82.062133</td>\n",
       "      <td>1.656322</td>\n",
       "      <td>0.016714</td>\n",
       "      <td>38.946756</td>\n",
       "    </tr>\n",
       "    <tr>\n",
       "      <th>4</th>\n",
       "      <td>BKR</td>\n",
       "      <td>2015-04-02</td>\n",
       "      <td>38.427746</td>\n",
       "      <td>38.843604</td>\n",
       "      <td>38.204750</td>\n",
       "      <td>38.271046</td>\n",
       "      <td>4331700.0</td>\n",
       "      <td>38.843604</td>\n",
       "      <td>37.469468</td>\n",
       "      <td>3184500.0</td>\n",
       "      <td>38.263821</td>\n",
       "      <td>0.249714</td>\n",
       "      <td>-65.094360</td>\n",
       "      <td>0.624391</td>\n",
       "      <td>0.084369</td>\n",
       "      <td>0.048207</td>\n",
       "      <td>38.301323</td>\n",
       "      <td>NaN</td>\n",
       "      <td>38.763250</td>\n",
       "      <td>37.764392</td>\n",
       "      <td>155.230303</td>\n",
       "      <td>151.230303</td>\n",
       "      <td>NaN</td>\n",
       "      <td>NaN</td>\n",
       "      <td>27.276674</td>\n",
       "      <td>13.512244</td>\n",
       "      <td>7.720624</td>\n",
       "      <td>68.365768</td>\n",
       "      <td>1.544814</td>\n",
       "      <td>0.018239</td>\n",
       "      <td>46.338450</td>\n",
       "    </tr>\n",
       "  </tbody>\n",
       "</table>\n",
       "</div>"
      ],
      "text/plain": [
       "  Ticker       Date      Close       High        Low       Open     Volume         HH         LL         AV        SMA        SD      WILLR       ATR       DMH       DML        EMA  WMA     BBHIGH      BBLOW    PERBHIGH     PERBLOW  TRIMA  RSI          DX        PDI        NDI         ADX       ROC      MACD        CCI\n",
       "0    BKR 2015-03-27  37.843140  38.096270  37.469468  37.837111  2559600.0  38.096270  37.469468  2559600.0  37.843140       NaN -40.384404  0.626802  0.000000  0.000000  37.843140  NaN        NaN        NaN         NaN         NaN    NaN  NaN         NaN   0.000000   0.000000         NaN  0.000000  0.000000        NaN\n",
       "1    BKR 2015-03-30  38.258999  38.421726  37.927518  37.999840  2259500.0  38.421726  37.469468  2409550.0  38.051069  0.294057 -32.926897  0.602694  0.325457  0.458050  38.065921  NaN  38.639183  37.462956  131.400372  127.400372    NaN  NaN   16.923069  54.000259  76.000353   16.923069  1.098903  0.007426  18.674068\n",
       "2    BKR 2015-03-31  38.319275  38.554325  37.879306  38.060116  2975200.0  38.554325  37.469468  2598100.0  38.140471  0.259254 -34.821289  0.626803  0.132599 -0.048211  38.162703  NaN  38.658980  37.621962  149.116038  145.116038    NaN  NaN  214.262209  21.154776  -7.691639  115.592639  1.258181  0.011001  13.087897\n",
       "3    BKR 2015-04-01  38.469944  38.759234  38.156543  38.488024  3796500.0  38.759234  37.469468  2897700.0  38.222839  0.268229 -47.999756  0.620775  0.204909  0.277237  38.256697  NaN  38.759297  37.686382  144.500933  140.500933    NaN  NaN   15.001120  33.008639  44.659771   82.062133  1.656322  0.016714  38.946756\n",
       "4    BKR 2015-04-02  38.427746  38.843604  38.204750  38.271046  4331700.0  38.843604  37.469468  3184500.0  38.263821  0.249714 -65.094360  0.624391  0.084369  0.048207  38.301323  NaN  38.763250  37.764392  155.230303  151.230303    NaN  NaN   27.276674  13.512244   7.720624   68.365768  1.544814  0.018239  46.338450"
      ]
     },
     "execution_count": 21,
     "metadata": {},
     "output_type": "execute_result"
    }
   ],
   "source": [
    "dataset.head()"
   ]
  },
  {
   "cell_type": "code",
   "execution_count": null,
   "id": "actual-designer",
   "metadata": {},
   "outputs": [],
   "source": []
  },
  {
   "cell_type": "markdown",
   "id": "interesting-outdoors",
   "metadata": {},
   "source": [
    "### Choose features"
   ]
  },
  {
   "cell_type": "code",
   "execution_count": 22,
   "id": "medical-directive",
   "metadata": {},
   "outputs": [],
   "source": [
    "features = ['Close', 'High',\n",
    " 'Low', 'Open', 'Volume',\n",
    " 'HH', 'LL', 'AV',\n",
    " 'SMA', 'SD', 'WILLR',\n",
    "#  'ATR', 'DMH', 'DML',\n",
    " 'EMA', 'WMA', 'BBHIGH',\n",
    "#  'BBLOW', 'PERBHIGH', 'PERBLOW',\n",
    " 'TRIMA', 'RSI', 'DX',\n",
    " 'PDI', 'NDI', 'ADX',\n",
    " 'ROC', 'MACD', 'CCI']\n",
    "dataset = dataset[['Ticker', 'Date'] + features]\n",
    "num_features = len(features)"
   ]
  },
  {
   "cell_type": "markdown",
   "id": "alien-rogers",
   "metadata": {},
   "source": [
    "### Normalization\n",
    "We want to normalize the prices, and there are two challenges\n",
    "1. We want to be able to recover performance metrics like RMSE in dollars, so we have to have the saved transforms for closing price to un transform after prediction. \n",
    "2. We will want to normalize the data within each year, because the stock will tend to have different averages in different years\n",
    "3. We will want to normalize each different company differently, because the stocks will be of differing magnitudes"
   ]
  },
  {
   "cell_type": "markdown",
   "id": "friendly-hampton",
   "metadata": {},
   "source": [
    "### Train test split"
   ]
  },
  {
   "cell_type": "code",
   "execution_count": 23,
   "id": "pacific-escape",
   "metadata": {},
   "outputs": [],
   "source": [
    "train = dataset.loc[dataset['Date'] < \"2018-03-01\"]\n",
    "valid = dataset.loc[(dataset['Date'] > \"2018-03-13\") & (dataset['Date'] < \"2019-03-01\")]\n",
    "test = dataset.loc[(dataset['Date'] > \"2019-03-01\") & (dataset['Date'] < \"2020-03-01\")]"
   ]
  },
  {
   "cell_type": "markdown",
   "id": "mexican-annotation",
   "metadata": {},
   "source": [
    "#### Per stock normalization\n",
    "We make sure to fit the transforms on the training, and\n",
    "apply them on training, validation, and test"
   ]
  },
  {
   "cell_type": "code",
   "execution_count": 24,
   "id": "crucial-picnic",
   "metadata": {},
   "outputs": [
    {
     "name": "stderr",
     "output_type": "stream",
     "text": [
      "C:\\Users\\jaker\\miniconda3\\envs\\finance\\lib\\site-packages\\pandas\\core\\indexing.py:1738: SettingWithCopyWarning: \n",
      "A value is trying to be set on a copy of a slice from a DataFrame.\n",
      "Try using .loc[row_indexer,col_indexer] = value instead\n",
      "\n",
      "See the caveats in the documentation: https://pandas.pydata.org/pandas-docs/stable/user_guide/indexing.html#returning-a-view-versus-a-copy\n",
      "  self._setitem_single_column(loc, value[:, i].tolist(), pi)\n",
      "C:\\Users\\jaker\\miniconda3\\envs\\finance\\lib\\site-packages\\pandas\\core\\indexing.py:1738: SettingWithCopyWarning: \n",
      "A value is trying to be set on a copy of a slice from a DataFrame.\n",
      "Try using .loc[row_indexer,col_indexer] = value instead\n",
      "\n",
      "See the caveats in the documentation: https://pandas.pydata.org/pandas-docs/stable/user_guide/indexing.html#returning-a-view-versus-a-copy\n",
      "  self._setitem_single_column(loc, value[:, i].tolist(), pi)\n",
      "C:\\Users\\jaker\\miniconda3\\envs\\finance\\lib\\site-packages\\pandas\\core\\indexing.py:1738: SettingWithCopyWarning: \n",
      "A value is trying to be set on a copy of a slice from a DataFrame.\n",
      "Try using .loc[row_indexer,col_indexer] = value instead\n",
      "\n",
      "See the caveats in the documentation: https://pandas.pydata.org/pandas-docs/stable/user_guide/indexing.html#returning-a-view-versus-a-copy\n",
      "  self._setitem_single_column(loc, value[:, i].tolist(), pi)\n",
      "C:\\Users\\jaker\\miniconda3\\envs\\finance\\lib\\site-packages\\pandas\\core\\indexing.py:1738: SettingWithCopyWarning: \n",
      "A value is trying to be set on a copy of a slice from a DataFrame.\n",
      "Try using .loc[row_indexer,col_indexer] = value instead\n",
      "\n",
      "See the caveats in the documentation: https://pandas.pydata.org/pandas-docs/stable/user_guide/indexing.html#returning-a-view-versus-a-copy\n",
      "  self._setitem_single_column(loc, value[:, i].tolist(), pi)\n",
      "C:\\Users\\jaker\\miniconda3\\envs\\finance\\lib\\site-packages\\pandas\\core\\indexing.py:1738: SettingWithCopyWarning: \n",
      "A value is trying to be set on a copy of a slice from a DataFrame.\n",
      "Try using .loc[row_indexer,col_indexer] = value instead\n",
      "\n",
      "See the caveats in the documentation: https://pandas.pydata.org/pandas-docs/stable/user_guide/indexing.html#returning-a-view-versus-a-copy\n",
      "  self._setitem_single_column(loc, value[:, i].tolist(), pi)\n",
      "C:\\Users\\jaker\\miniconda3\\envs\\finance\\lib\\site-packages\\pandas\\core\\indexing.py:1738: SettingWithCopyWarning: \n",
      "A value is trying to be set on a copy of a slice from a DataFrame.\n",
      "Try using .loc[row_indexer,col_indexer] = value instead\n",
      "\n",
      "See the caveats in the documentation: https://pandas.pydata.org/pandas-docs/stable/user_guide/indexing.html#returning-a-view-versus-a-copy\n",
      "  self._setitem_single_column(loc, value[:, i].tolist(), pi)\n",
      "C:\\Users\\jaker\\miniconda3\\envs\\finance\\lib\\site-packages\\pandas\\core\\indexing.py:1738: SettingWithCopyWarning: \n",
      "A value is trying to be set on a copy of a slice from a DataFrame.\n",
      "Try using .loc[row_indexer,col_indexer] = value instead\n",
      "\n",
      "See the caveats in the documentation: https://pandas.pydata.org/pandas-docs/stable/user_guide/indexing.html#returning-a-view-versus-a-copy\n",
      "  self._setitem_single_column(loc, value[:, i].tolist(), pi)\n",
      "C:\\Users\\jaker\\miniconda3\\envs\\finance\\lib\\site-packages\\pandas\\core\\indexing.py:1738: SettingWithCopyWarning: \n",
      "A value is trying to be set on a copy of a slice from a DataFrame.\n",
      "Try using .loc[row_indexer,col_indexer] = value instead\n",
      "\n",
      "See the caveats in the documentation: https://pandas.pydata.org/pandas-docs/stable/user_guide/indexing.html#returning-a-view-versus-a-copy\n",
      "  self._setitem_single_column(loc, value[:, i].tolist(), pi)\n",
      "C:\\Users\\jaker\\miniconda3\\envs\\finance\\lib\\site-packages\\pandas\\core\\indexing.py:1738: SettingWithCopyWarning: \n",
      "A value is trying to be set on a copy of a slice from a DataFrame.\n",
      "Try using .loc[row_indexer,col_indexer] = value instead\n",
      "\n",
      "See the caveats in the documentation: https://pandas.pydata.org/pandas-docs/stable/user_guide/indexing.html#returning-a-view-versus-a-copy\n",
      "  self._setitem_single_column(loc, value[:, i].tolist(), pi)\n",
      "C:\\Users\\jaker\\miniconda3\\envs\\finance\\lib\\site-packages\\pandas\\core\\indexing.py:1738: SettingWithCopyWarning: \n",
      "A value is trying to be set on a copy of a slice from a DataFrame.\n",
      "Try using .loc[row_indexer,col_indexer] = value instead\n",
      "\n",
      "See the caveats in the documentation: https://pandas.pydata.org/pandas-docs/stable/user_guide/indexing.html#returning-a-view-versus-a-copy\n",
      "  self._setitem_single_column(loc, value[:, i].tolist(), pi)\n",
      "C:\\Users\\jaker\\miniconda3\\envs\\finance\\lib\\site-packages\\pandas\\core\\indexing.py:1738: SettingWithCopyWarning: \n",
      "A value is trying to be set on a copy of a slice from a DataFrame.\n",
      "Try using .loc[row_indexer,col_indexer] = value instead\n",
      "\n",
      "See the caveats in the documentation: https://pandas.pydata.org/pandas-docs/stable/user_guide/indexing.html#returning-a-view-versus-a-copy\n",
      "  self._setitem_single_column(loc, value[:, i].tolist(), pi)\n",
      "C:\\Users\\jaker\\miniconda3\\envs\\finance\\lib\\site-packages\\pandas\\core\\indexing.py:1738: SettingWithCopyWarning: \n",
      "A value is trying to be set on a copy of a slice from a DataFrame.\n",
      "Try using .loc[row_indexer,col_indexer] = value instead\n",
      "\n",
      "See the caveats in the documentation: https://pandas.pydata.org/pandas-docs/stable/user_guide/indexing.html#returning-a-view-versus-a-copy\n",
      "  self._setitem_single_column(loc, value[:, i].tolist(), pi)\n",
      "C:\\Users\\jaker\\miniconda3\\envs\\finance\\lib\\site-packages\\pandas\\core\\indexing.py:1738: SettingWithCopyWarning: \n",
      "A value is trying to be set on a copy of a slice from a DataFrame.\n",
      "Try using .loc[row_indexer,col_indexer] = value instead\n",
      "\n",
      "See the caveats in the documentation: https://pandas.pydata.org/pandas-docs/stable/user_guide/indexing.html#returning-a-view-versus-a-copy\n",
      "  self._setitem_single_column(loc, value[:, i].tolist(), pi)\n",
      "C:\\Users\\jaker\\miniconda3\\envs\\finance\\lib\\site-packages\\pandas\\core\\indexing.py:1738: SettingWithCopyWarning: \n",
      "A value is trying to be set on a copy of a slice from a DataFrame.\n",
      "Try using .loc[row_indexer,col_indexer] = value instead\n",
      "\n",
      "See the caveats in the documentation: https://pandas.pydata.org/pandas-docs/stable/user_guide/indexing.html#returning-a-view-versus-a-copy\n",
      "  self._setitem_single_column(loc, value[:, i].tolist(), pi)\n",
      "C:\\Users\\jaker\\miniconda3\\envs\\finance\\lib\\site-packages\\pandas\\core\\indexing.py:1738: SettingWithCopyWarning: \n",
      "A value is trying to be set on a copy of a slice from a DataFrame.\n",
      "Try using .loc[row_indexer,col_indexer] = value instead\n",
      "\n",
      "See the caveats in the documentation: https://pandas.pydata.org/pandas-docs/stable/user_guide/indexing.html#returning-a-view-versus-a-copy\n",
      "  self._setitem_single_column(loc, value[:, i].tolist(), pi)\n",
      "C:\\Users\\jaker\\miniconda3\\envs\\finance\\lib\\site-packages\\pandas\\core\\indexing.py:1738: SettingWithCopyWarning: \n",
      "A value is trying to be set on a copy of a slice from a DataFrame.\n",
      "Try using .loc[row_indexer,col_indexer] = value instead\n",
      "\n",
      "See the caveats in the documentation: https://pandas.pydata.org/pandas-docs/stable/user_guide/indexing.html#returning-a-view-versus-a-copy\n",
      "  self._setitem_single_column(loc, value[:, i].tolist(), pi)\n",
      "C:\\Users\\jaker\\miniconda3\\envs\\finance\\lib\\site-packages\\pandas\\core\\indexing.py:1738: SettingWithCopyWarning: \n",
      "A value is trying to be set on a copy of a slice from a DataFrame.\n",
      "Try using .loc[row_indexer,col_indexer] = value instead\n",
      "\n",
      "See the caveats in the documentation: https://pandas.pydata.org/pandas-docs/stable/user_guide/indexing.html#returning-a-view-versus-a-copy\n",
      "  self._setitem_single_column(loc, value[:, i].tolist(), pi)\n",
      "C:\\Users\\jaker\\miniconda3\\envs\\finance\\lib\\site-packages\\pandas\\core\\indexing.py:1738: SettingWithCopyWarning: \n",
      "A value is trying to be set on a copy of a slice from a DataFrame.\n",
      "Try using .loc[row_indexer,col_indexer] = value instead\n",
      "\n",
      "See the caveats in the documentation: https://pandas.pydata.org/pandas-docs/stable/user_guide/indexing.html#returning-a-view-versus-a-copy\n",
      "  self._setitem_single_column(loc, value[:, i].tolist(), pi)\n",
      "C:\\Users\\jaker\\miniconda3\\envs\\finance\\lib\\site-packages\\pandas\\core\\indexing.py:1738: SettingWithCopyWarning: \n",
      "A value is trying to be set on a copy of a slice from a DataFrame.\n",
      "Try using .loc[row_indexer,col_indexer] = value instead\n",
      "\n",
      "See the caveats in the documentation: https://pandas.pydata.org/pandas-docs/stable/user_guide/indexing.html#returning-a-view-versus-a-copy\n",
      "  self._setitem_single_column(loc, value[:, i].tolist(), pi)\n",
      "C:\\Users\\jaker\\miniconda3\\envs\\finance\\lib\\site-packages\\pandas\\core\\indexing.py:1738: SettingWithCopyWarning: \n",
      "A value is trying to be set on a copy of a slice from a DataFrame.\n",
      "Try using .loc[row_indexer,col_indexer] = value instead\n",
      "\n",
      "See the caveats in the documentation: https://pandas.pydata.org/pandas-docs/stable/user_guide/indexing.html#returning-a-view-versus-a-copy\n",
      "  self._setitem_single_column(loc, value[:, i].tolist(), pi)\n",
      "C:\\Users\\jaker\\miniconda3\\envs\\finance\\lib\\site-packages\\pandas\\core\\indexing.py:1738: SettingWithCopyWarning: \n",
      "A value is trying to be set on a copy of a slice from a DataFrame.\n",
      "Try using .loc[row_indexer,col_indexer] = value instead\n",
      "\n",
      "See the caveats in the documentation: https://pandas.pydata.org/pandas-docs/stable/user_guide/indexing.html#returning-a-view-versus-a-copy\n",
      "  self._setitem_single_column(loc, value[:, i].tolist(), pi)\n",
      "C:\\Users\\jaker\\miniconda3\\envs\\finance\\lib\\site-packages\\pandas\\core\\indexing.py:1738: SettingWithCopyWarning: \n",
      "A value is trying to be set on a copy of a slice from a DataFrame.\n",
      "Try using .loc[row_indexer,col_indexer] = value instead\n",
      "\n",
      "See the caveats in the documentation: https://pandas.pydata.org/pandas-docs/stable/user_guide/indexing.html#returning-a-view-versus-a-copy\n",
      "  self._setitem_single_column(loc, value[:, i].tolist(), pi)\n",
      "C:\\Users\\jaker\\miniconda3\\envs\\finance\\lib\\site-packages\\pandas\\core\\indexing.py:1738: SettingWithCopyWarning: \n",
      "A value is trying to be set on a copy of a slice from a DataFrame.\n",
      "Try using .loc[row_indexer,col_indexer] = value instead\n",
      "\n",
      "See the caveats in the documentation: https://pandas.pydata.org/pandas-docs/stable/user_guide/indexing.html#returning-a-view-versus-a-copy\n",
      "  self._setitem_single_column(loc, value[:, i].tolist(), pi)\n",
      "C:\\Users\\jaker\\miniconda3\\envs\\finance\\lib\\site-packages\\pandas\\core\\indexing.py:1738: SettingWithCopyWarning: \n",
      "A value is trying to be set on a copy of a slice from a DataFrame.\n",
      "Try using .loc[row_indexer,col_indexer] = value instead\n",
      "\n",
      "See the caveats in the documentation: https://pandas.pydata.org/pandas-docs/stable/user_guide/indexing.html#returning-a-view-versus-a-copy\n",
      "  self._setitem_single_column(loc, value[:, i].tolist(), pi)\n",
      "C:\\Users\\jaker\\miniconda3\\envs\\finance\\lib\\site-packages\\pandas\\core\\indexing.py:1738: SettingWithCopyWarning: \n",
      "A value is trying to be set on a copy of a slice from a DataFrame.\n",
      "Try using .loc[row_indexer,col_indexer] = value instead\n",
      "\n",
      "See the caveats in the documentation: https://pandas.pydata.org/pandas-docs/stable/user_guide/indexing.html#returning-a-view-versus-a-copy\n",
      "  self._setitem_single_column(loc, value[:, i].tolist(), pi)\n",
      "C:\\Users\\jaker\\miniconda3\\envs\\finance\\lib\\site-packages\\pandas\\core\\indexing.py:1738: SettingWithCopyWarning: \n",
      "A value is trying to be set on a copy of a slice from a DataFrame.\n",
      "Try using .loc[row_indexer,col_indexer] = value instead\n",
      "\n",
      "See the caveats in the documentation: https://pandas.pydata.org/pandas-docs/stable/user_guide/indexing.html#returning-a-view-versus-a-copy\n",
      "  self._setitem_single_column(loc, value[:, i].tolist(), pi)\n",
      "C:\\Users\\jaker\\miniconda3\\envs\\finance\\lib\\site-packages\\pandas\\core\\indexing.py:1738: SettingWithCopyWarning: \n",
      "A value is trying to be set on a copy of a slice from a DataFrame.\n",
      "Try using .loc[row_indexer,col_indexer] = value instead\n",
      "\n",
      "See the caveats in the documentation: https://pandas.pydata.org/pandas-docs/stable/user_guide/indexing.html#returning-a-view-versus-a-copy\n",
      "  self._setitem_single_column(loc, value[:, i].tolist(), pi)\n",
      "C:\\Users\\jaker\\miniconda3\\envs\\finance\\lib\\site-packages\\pandas\\core\\indexing.py:1738: SettingWithCopyWarning: \n",
      "A value is trying to be set on a copy of a slice from a DataFrame.\n",
      "Try using .loc[row_indexer,col_indexer] = value instead\n",
      "\n",
      "See the caveats in the documentation: https://pandas.pydata.org/pandas-docs/stable/user_guide/indexing.html#returning-a-view-versus-a-copy\n",
      "  self._setitem_single_column(loc, value[:, i].tolist(), pi)\n",
      "C:\\Users\\jaker\\miniconda3\\envs\\finance\\lib\\site-packages\\pandas\\core\\indexing.py:1738: SettingWithCopyWarning: \n",
      "A value is trying to be set on a copy of a slice from a DataFrame.\n",
      "Try using .loc[row_indexer,col_indexer] = value instead\n",
      "\n",
      "See the caveats in the documentation: https://pandas.pydata.org/pandas-docs/stable/user_guide/indexing.html#returning-a-view-versus-a-copy\n",
      "  self._setitem_single_column(loc, value[:, i].tolist(), pi)\n",
      "C:\\Users\\jaker\\miniconda3\\envs\\finance\\lib\\site-packages\\pandas\\core\\indexing.py:1738: SettingWithCopyWarning: \n",
      "A value is trying to be set on a copy of a slice from a DataFrame.\n",
      "Try using .loc[row_indexer,col_indexer] = value instead\n",
      "\n",
      "See the caveats in the documentation: https://pandas.pydata.org/pandas-docs/stable/user_guide/indexing.html#returning-a-view-versus-a-copy\n",
      "  self._setitem_single_column(loc, value[:, i].tolist(), pi)\n",
      "C:\\Users\\jaker\\miniconda3\\envs\\finance\\lib\\site-packages\\pandas\\core\\indexing.py:1738: SettingWithCopyWarning: \n",
      "A value is trying to be set on a copy of a slice from a DataFrame.\n",
      "Try using .loc[row_indexer,col_indexer] = value instead\n",
      "\n",
      "See the caveats in the documentation: https://pandas.pydata.org/pandas-docs/stable/user_guide/indexing.html#returning-a-view-versus-a-copy\n",
      "  self._setitem_single_column(loc, value[:, i].tolist(), pi)\n"
     ]
    },
    {
     "name": "stderr",
     "output_type": "stream",
     "text": [
      "C:\\Users\\jaker\\miniconda3\\envs\\finance\\lib\\site-packages\\pandas\\core\\indexing.py:1738: SettingWithCopyWarning: \n",
      "A value is trying to be set on a copy of a slice from a DataFrame.\n",
      "Try using .loc[row_indexer,col_indexer] = value instead\n",
      "\n",
      "See the caveats in the documentation: https://pandas.pydata.org/pandas-docs/stable/user_guide/indexing.html#returning-a-view-versus-a-copy\n",
      "  self._setitem_single_column(loc, value[:, i].tolist(), pi)\n",
      "C:\\Users\\jaker\\miniconda3\\envs\\finance\\lib\\site-packages\\pandas\\core\\indexing.py:1738: SettingWithCopyWarning: \n",
      "A value is trying to be set on a copy of a slice from a DataFrame.\n",
      "Try using .loc[row_indexer,col_indexer] = value instead\n",
      "\n",
      "See the caveats in the documentation: https://pandas.pydata.org/pandas-docs/stable/user_guide/indexing.html#returning-a-view-versus-a-copy\n",
      "  self._setitem_single_column(loc, value[:, i].tolist(), pi)\n",
      "C:\\Users\\jaker\\miniconda3\\envs\\finance\\lib\\site-packages\\pandas\\core\\indexing.py:1738: SettingWithCopyWarning: \n",
      "A value is trying to be set on a copy of a slice from a DataFrame.\n",
      "Try using .loc[row_indexer,col_indexer] = value instead\n",
      "\n",
      "See the caveats in the documentation: https://pandas.pydata.org/pandas-docs/stable/user_guide/indexing.html#returning-a-view-versus-a-copy\n",
      "  self._setitem_single_column(loc, value[:, i].tolist(), pi)\n",
      "C:\\Users\\jaker\\miniconda3\\envs\\finance\\lib\\site-packages\\pandas\\core\\indexing.py:1738: SettingWithCopyWarning: \n",
      "A value is trying to be set on a copy of a slice from a DataFrame.\n",
      "Try using .loc[row_indexer,col_indexer] = value instead\n",
      "\n",
      "See the caveats in the documentation: https://pandas.pydata.org/pandas-docs/stable/user_guide/indexing.html#returning-a-view-versus-a-copy\n",
      "  self._setitem_single_column(loc, value[:, i].tolist(), pi)\n",
      "C:\\Users\\jaker\\miniconda3\\envs\\finance\\lib\\site-packages\\pandas\\core\\indexing.py:1738: SettingWithCopyWarning: \n",
      "A value is trying to be set on a copy of a slice from a DataFrame.\n",
      "Try using .loc[row_indexer,col_indexer] = value instead\n",
      "\n",
      "See the caveats in the documentation: https://pandas.pydata.org/pandas-docs/stable/user_guide/indexing.html#returning-a-view-versus-a-copy\n",
      "  self._setitem_single_column(loc, value[:, i].tolist(), pi)\n",
      "C:\\Users\\jaker\\miniconda3\\envs\\finance\\lib\\site-packages\\pandas\\core\\indexing.py:1738: SettingWithCopyWarning: \n",
      "A value is trying to be set on a copy of a slice from a DataFrame.\n",
      "Try using .loc[row_indexer,col_indexer] = value instead\n",
      "\n",
      "See the caveats in the documentation: https://pandas.pydata.org/pandas-docs/stable/user_guide/indexing.html#returning-a-view-versus-a-copy\n",
      "  self._setitem_single_column(loc, value[:, i].tolist(), pi)\n",
      "C:\\Users\\jaker\\miniconda3\\envs\\finance\\lib\\site-packages\\pandas\\core\\indexing.py:1738: SettingWithCopyWarning: \n",
      "A value is trying to be set on a copy of a slice from a DataFrame.\n",
      "Try using .loc[row_indexer,col_indexer] = value instead\n",
      "\n",
      "See the caveats in the documentation: https://pandas.pydata.org/pandas-docs/stable/user_guide/indexing.html#returning-a-view-versus-a-copy\n",
      "  self._setitem_single_column(loc, value[:, i].tolist(), pi)\n",
      "C:\\Users\\jaker\\miniconda3\\envs\\finance\\lib\\site-packages\\pandas\\core\\indexing.py:1738: SettingWithCopyWarning: \n",
      "A value is trying to be set on a copy of a slice from a DataFrame.\n",
      "Try using .loc[row_indexer,col_indexer] = value instead\n",
      "\n",
      "See the caveats in the documentation: https://pandas.pydata.org/pandas-docs/stable/user_guide/indexing.html#returning-a-view-versus-a-copy\n",
      "  self._setitem_single_column(loc, value[:, i].tolist(), pi)\n",
      "C:\\Users\\jaker\\miniconda3\\envs\\finance\\lib\\site-packages\\pandas\\core\\indexing.py:1738: SettingWithCopyWarning: \n",
      "A value is trying to be set on a copy of a slice from a DataFrame.\n",
      "Try using .loc[row_indexer,col_indexer] = value instead\n",
      "\n",
      "See the caveats in the documentation: https://pandas.pydata.org/pandas-docs/stable/user_guide/indexing.html#returning-a-view-versus-a-copy\n",
      "  self._setitem_single_column(loc, value[:, i].tolist(), pi)\n",
      "C:\\Users\\jaker\\miniconda3\\envs\\finance\\lib\\site-packages\\pandas\\core\\indexing.py:1738: SettingWithCopyWarning: \n",
      "A value is trying to be set on a copy of a slice from a DataFrame.\n",
      "Try using .loc[row_indexer,col_indexer] = value instead\n",
      "\n",
      "See the caveats in the documentation: https://pandas.pydata.org/pandas-docs/stable/user_guide/indexing.html#returning-a-view-versus-a-copy\n",
      "  self._setitem_single_column(loc, value[:, i].tolist(), pi)\n",
      "C:\\Users\\jaker\\miniconda3\\envs\\finance\\lib\\site-packages\\pandas\\core\\indexing.py:1738: SettingWithCopyWarning: \n",
      "A value is trying to be set on a copy of a slice from a DataFrame.\n",
      "Try using .loc[row_indexer,col_indexer] = value instead\n",
      "\n",
      "See the caveats in the documentation: https://pandas.pydata.org/pandas-docs/stable/user_guide/indexing.html#returning-a-view-versus-a-copy\n",
      "  self._setitem_single_column(loc, value[:, i].tolist(), pi)\n",
      "C:\\Users\\jaker\\miniconda3\\envs\\finance\\lib\\site-packages\\pandas\\core\\indexing.py:1738: SettingWithCopyWarning: \n",
      "A value is trying to be set on a copy of a slice from a DataFrame.\n",
      "Try using .loc[row_indexer,col_indexer] = value instead\n",
      "\n",
      "See the caveats in the documentation: https://pandas.pydata.org/pandas-docs/stable/user_guide/indexing.html#returning-a-view-versus-a-copy\n",
      "  self._setitem_single_column(loc, value[:, i].tolist(), pi)\n",
      "C:\\Users\\jaker\\miniconda3\\envs\\finance\\lib\\site-packages\\pandas\\core\\indexing.py:1738: SettingWithCopyWarning: \n",
      "A value is trying to be set on a copy of a slice from a DataFrame.\n",
      "Try using .loc[row_indexer,col_indexer] = value instead\n",
      "\n",
      "See the caveats in the documentation: https://pandas.pydata.org/pandas-docs/stable/user_guide/indexing.html#returning-a-view-versus-a-copy\n",
      "  self._setitem_single_column(loc, value[:, i].tolist(), pi)\n",
      "C:\\Users\\jaker\\miniconda3\\envs\\finance\\lib\\site-packages\\pandas\\core\\indexing.py:1738: SettingWithCopyWarning: \n",
      "A value is trying to be set on a copy of a slice from a DataFrame.\n",
      "Try using .loc[row_indexer,col_indexer] = value instead\n",
      "\n",
      "See the caveats in the documentation: https://pandas.pydata.org/pandas-docs/stable/user_guide/indexing.html#returning-a-view-versus-a-copy\n",
      "  self._setitem_single_column(loc, value[:, i].tolist(), pi)\n",
      "C:\\Users\\jaker\\miniconda3\\envs\\finance\\lib\\site-packages\\pandas\\core\\indexing.py:1738: SettingWithCopyWarning: \n",
      "A value is trying to be set on a copy of a slice from a DataFrame.\n",
      "Try using .loc[row_indexer,col_indexer] = value instead\n",
      "\n",
      "See the caveats in the documentation: https://pandas.pydata.org/pandas-docs/stable/user_guide/indexing.html#returning-a-view-versus-a-copy\n",
      "  self._setitem_single_column(loc, value[:, i].tolist(), pi)\n",
      "C:\\Users\\jaker\\miniconda3\\envs\\finance\\lib\\site-packages\\pandas\\core\\indexing.py:1738: SettingWithCopyWarning: \n",
      "A value is trying to be set on a copy of a slice from a DataFrame.\n",
      "Try using .loc[row_indexer,col_indexer] = value instead\n",
      "\n",
      "See the caveats in the documentation: https://pandas.pydata.org/pandas-docs/stable/user_guide/indexing.html#returning-a-view-versus-a-copy\n",
      "  self._setitem_single_column(loc, value[:, i].tolist(), pi)\n",
      "C:\\Users\\jaker\\miniconda3\\envs\\finance\\lib\\site-packages\\pandas\\core\\indexing.py:1738: SettingWithCopyWarning: \n",
      "A value is trying to be set on a copy of a slice from a DataFrame.\n",
      "Try using .loc[row_indexer,col_indexer] = value instead\n",
      "\n",
      "See the caveats in the documentation: https://pandas.pydata.org/pandas-docs/stable/user_guide/indexing.html#returning-a-view-versus-a-copy\n",
      "  self._setitem_single_column(loc, value[:, i].tolist(), pi)\n",
      "C:\\Users\\jaker\\miniconda3\\envs\\finance\\lib\\site-packages\\pandas\\core\\indexing.py:1738: SettingWithCopyWarning: \n",
      "A value is trying to be set on a copy of a slice from a DataFrame.\n",
      "Try using .loc[row_indexer,col_indexer] = value instead\n",
      "\n",
      "See the caveats in the documentation: https://pandas.pydata.org/pandas-docs/stable/user_guide/indexing.html#returning-a-view-versus-a-copy\n",
      "  self._setitem_single_column(loc, value[:, i].tolist(), pi)\n",
      "C:\\Users\\jaker\\miniconda3\\envs\\finance\\lib\\site-packages\\pandas\\core\\indexing.py:1738: SettingWithCopyWarning: \n",
      "A value is trying to be set on a copy of a slice from a DataFrame.\n",
      "Try using .loc[row_indexer,col_indexer] = value instead\n",
      "\n",
      "See the caveats in the documentation: https://pandas.pydata.org/pandas-docs/stable/user_guide/indexing.html#returning-a-view-versus-a-copy\n",
      "  self._setitem_single_column(loc, value[:, i].tolist(), pi)\n",
      "C:\\Users\\jaker\\miniconda3\\envs\\finance\\lib\\site-packages\\pandas\\core\\indexing.py:1738: SettingWithCopyWarning: \n",
      "A value is trying to be set on a copy of a slice from a DataFrame.\n",
      "Try using .loc[row_indexer,col_indexer] = value instead\n",
      "\n",
      "See the caveats in the documentation: https://pandas.pydata.org/pandas-docs/stable/user_guide/indexing.html#returning-a-view-versus-a-copy\n",
      "  self._setitem_single_column(loc, value[:, i].tolist(), pi)\n",
      "C:\\Users\\jaker\\miniconda3\\envs\\finance\\lib\\site-packages\\pandas\\core\\indexing.py:1738: SettingWithCopyWarning: \n",
      "A value is trying to be set on a copy of a slice from a DataFrame.\n",
      "Try using .loc[row_indexer,col_indexer] = value instead\n",
      "\n",
      "See the caveats in the documentation: https://pandas.pydata.org/pandas-docs/stable/user_guide/indexing.html#returning-a-view-versus-a-copy\n",
      "  self._setitem_single_column(loc, value[:, i].tolist(), pi)\n",
      "C:\\Users\\jaker\\miniconda3\\envs\\finance\\lib\\site-packages\\pandas\\core\\indexing.py:1738: SettingWithCopyWarning: \n",
      "A value is trying to be set on a copy of a slice from a DataFrame.\n",
      "Try using .loc[row_indexer,col_indexer] = value instead\n",
      "\n",
      "See the caveats in the documentation: https://pandas.pydata.org/pandas-docs/stable/user_guide/indexing.html#returning-a-view-versus-a-copy\n",
      "  self._setitem_single_column(loc, value[:, i].tolist(), pi)\n",
      "C:\\Users\\jaker\\miniconda3\\envs\\finance\\lib\\site-packages\\pandas\\core\\indexing.py:1738: SettingWithCopyWarning: \n",
      "A value is trying to be set on a copy of a slice from a DataFrame.\n",
      "Try using .loc[row_indexer,col_indexer] = value instead\n",
      "\n",
      "See the caveats in the documentation: https://pandas.pydata.org/pandas-docs/stable/user_guide/indexing.html#returning-a-view-versus-a-copy\n",
      "  self._setitem_single_column(loc, value[:, i].tolist(), pi)\n"
     ]
    }
   ],
   "source": [
    "scaler_models = norm_per_stock_split(train, valid, test, features, MinMaxScaler)"
   ]
  },
  {
   "cell_type": "markdown",
   "id": "selected-manchester",
   "metadata": {},
   "source": [
    "### Merge in the climate data"
   ]
  },
  {
   "cell_type": "code",
   "execution_count": 25,
   "id": "little-clothing",
   "metadata": {},
   "outputs": [],
   "source": [
    "train = train.merge(climate_trends_data, on=[\"Date\"], how='left')\n",
    "valid = valid.merge(climate_trends_data, on=[\"Date\"], how='left')\n",
    "test = test.merge(climate_trends_data, on=[\"Date\"], how='left')"
   ]
  },
  {
   "cell_type": "markdown",
   "id": "korean-swing",
   "metadata": {},
   "source": [
    "#### Prepare training inputs and outputs\n",
    "Convert the daily data points into a set of data points each with {trail_size} days.   \n",
    "We keep track of the tickers so we can later inverse the normalization with the right model. "
   ]
  },
  {
   "cell_type": "code",
   "execution_count": 26,
   "id": "diverse-silver",
   "metadata": {},
   "outputs": [],
   "source": [
    "x_train, y_train, tickers_train = roll_all_stocks(train, trail_size, predict_length)\n",
    "x_valid, y_valid, tickers_valid = roll_all_stocks(valid, trail_size, predict_length)\n",
    "x_test, y_test, tickers_test = roll_all_stocks(test, trail_size, predict_length)"
   ]
  },
  {
   "cell_type": "code",
   "execution_count": 27,
   "id": "educated-sherman",
   "metadata": {},
   "outputs": [],
   "source": [
    "num_features+=num_climate_features"
   ]
  },
  {
   "cell_type": "markdown",
   "id": "funded-frequency",
   "metadata": {},
   "source": [
    "#### Confirm shapes"
   ]
  },
  {
   "cell_type": "code",
   "execution_count": 28,
   "id": "dominant-pilot",
   "metadata": {},
   "outputs": [
    {
     "name": "stdout",
     "output_type": "stream",
     "text": [
      "x_train: (12690, 14, 33)\n",
      "y_train: (12690,)\n",
      "x_valid: (4032, 14, 33)\n",
      "y_valid (4032,)\n",
      "x_test: (4180, 14, 33)\n",
      "y_test (4180,)\n"
     ]
    }
   ],
   "source": [
    "print(\"x_train: {}\".format(x_train.shape))\n",
    "print(\"y_train: {}\".format(y_train.shape))\n",
    "print(\"x_valid: {}\".format(x_valid.shape))\n",
    "print(\"y_valid {}\".format(y_valid.shape))\n",
    "print(\"x_test: {}\".format(x_test.shape))\n",
    "print(\"y_test {}\".format(y_test.shape))"
   ]
  },
  {
   "cell_type": "code",
   "execution_count": 29,
   "id": "hollywood-forty",
   "metadata": {},
   "outputs": [
    {
     "name": "stdout",
     "output_type": "stream",
     "text": [
      "tickers_train: (12690,)\n",
      "tickers_train: (4032,)\n",
      "tickers_train: (4180,)\n"
     ]
    }
   ],
   "source": [
    "print(\"tickers_train: {}\".format(tickers_train.shape))\n",
    "print(\"tickers_train: {}\".format(tickers_valid.shape))\n",
    "print(\"tickers_train: {}\".format(tickers_test.shape))"
   ]
  },
  {
   "cell_type": "markdown",
   "id": "round-contemporary",
   "metadata": {},
   "source": [
    "### Model design"
   ]
  },
  {
   "cell_type": "code",
   "execution_count": 30,
   "id": "removed-degree",
   "metadata": {},
   "outputs": [],
   "source": [
    "model = Sequential()\n",
    "model.add(LSTM(units=75, input_shape=(trail_size, num_features), return_sequences=True))\n",
    "model.add(Dropout(0.25))\n",
    "model.add(LSTM(units=30, return_sequences=True))\n",
    "model.add(Dropout(0.25))\n",
    "\n",
    "model.add(LSTM(units=30, return_sequences=True))\n",
    "model.add(Dropout(0.25))\n",
    "\n",
    "model.add(Flatten())\n",
    "# model.add(Dense(50, activation='relu'))\n",
    "# model.add(Dense(25, activation='relu'))\n",
    "model.add(Dense(1))"
   ]
  },
  {
   "cell_type": "code",
   "execution_count": 31,
   "id": "norman-rover",
   "metadata": {
    "scrolled": false
   },
   "outputs": [
    {
     "name": "stdout",
     "output_type": "stream",
     "text": [
      "Model: \"sequential\"\n",
      "_________________________________________________________________\n",
      "Layer (type)                 Output Shape              Param #   \n",
      "=================================================================\n",
      "lstm (LSTM)                  (None, 14, 75)            32700     \n",
      "_________________________________________________________________\n",
      "dropout (Dropout)            (None, 14, 75)            0         \n",
      "_________________________________________________________________\n",
      "lstm_1 (LSTM)                (None, 14, 30)            12720     \n",
      "_________________________________________________________________\n",
      "dropout_1 (Dropout)          (None, 14, 30)            0         \n",
      "_________________________________________________________________\n",
      "lstm_2 (LSTM)                (None, 14, 30)            7320      \n",
      "_________________________________________________________________\n",
      "dropout_2 (Dropout)          (None, 14, 30)            0         \n",
      "_________________________________________________________________\n",
      "flatten (Flatten)            (None, 420)               0         \n",
      "_________________________________________________________________\n",
      "dense (Dense)                (None, 1)                 421       \n",
      "=================================================================\n",
      "Total params: 53,161\n",
      "Trainable params: 53,161\n",
      "Non-trainable params: 0\n",
      "_________________________________________________________________\n"
     ]
    }
   ],
   "source": [
    "model.summary()"
   ]
  },
  {
   "cell_type": "code",
   "execution_count": 32,
   "id": "hearing-greensboro",
   "metadata": {},
   "outputs": [],
   "source": [
    "time_stamp = time()\n",
    "tensorboard = TensorBoard(log_dir='logs/{}'.format(time_stamp))"
   ]
  },
  {
   "cell_type": "code",
   "execution_count": 33,
   "id": "earned-beads",
   "metadata": {},
   "outputs": [],
   "source": [
    "model.compile(optimizer='adam', loss='mean_squared_error')"
   ]
  },
  {
   "cell_type": "markdown",
   "id": "sacred-collar",
   "metadata": {},
   "source": [
    "### Train on many stocks"
   ]
  },
  {
   "cell_type": "code",
   "execution_count": 34,
   "id": "daily-angola",
   "metadata": {},
   "outputs": [
    {
     "name": "stdout",
     "output_type": "stream",
     "text": [
      "Epoch 1/100\n",
      "199/199 [==============================] - 8s 18ms/step - loss: 0.0994 - val_loss: 0.1737\n",
      "Epoch 2/100\n",
      "199/199 [==============================] - 2s 9ms/step - loss: 0.0573 - val_loss: 0.1740\n",
      "Epoch 3/100\n",
      "199/199 [==============================] - 2s 9ms/step - loss: 0.0500 - val_loss: 0.1701\n",
      "Epoch 4/100\n",
      "199/199 [==============================] - 2s 9ms/step - loss: 0.0488 - val_loss: 0.1669\n",
      "Epoch 5/100\n",
      "199/199 [==============================] - 2s 9ms/step - loss: 0.0459 - val_loss: 0.1644\n",
      "Epoch 6/100\n",
      "199/199 [==============================] - 2s 9ms/step - loss: 0.0439 - val_loss: 0.1589\n",
      "Epoch 7/100\n",
      "199/199 [==============================] - 2s 9ms/step - loss: 0.0414 - val_loss: 0.1586\n",
      "Epoch 8/100\n",
      "199/199 [==============================] - 2s 10ms/step - loss: 0.0401 - val_loss: 0.1527\n",
      "Epoch 9/100\n",
      "199/199 [==============================] - 2s 10ms/step - loss: 0.0380 - val_loss: 0.1503\n",
      "Epoch 10/100\n",
      "199/199 [==============================] - 2s 10ms/step - loss: 0.0376 - val_loss: 0.1425\n",
      "Epoch 11/100\n",
      "199/199 [==============================] - 2s 9ms/step - loss: 0.0358 - val_loss: 0.1370\n",
      "Epoch 12/100\n",
      "199/199 [==============================] - 2s 9ms/step - loss: 0.0327 - val_loss: 0.1293\n",
      "Epoch 13/100\n",
      "199/199 [==============================] - 2s 10ms/step - loss: 0.0308 - val_loss: 0.1190\n",
      "Epoch 14/100\n",
      "199/199 [==============================] - 2s 10ms/step - loss: 0.0285 - val_loss: 0.1092\n",
      "Epoch 15/100\n",
      "199/199 [==============================] - 2s 10ms/step - loss: 0.0266 - val_loss: 0.0995\n",
      "Epoch 16/100\n",
      "199/199 [==============================] - 2s 9ms/step - loss: 0.0242 - val_loss: 0.0974\n",
      "Epoch 17/100\n",
      "199/199 [==============================] - 2s 9ms/step - loss: 0.0234 - val_loss: 0.0861\n",
      "Epoch 18/100\n",
      "199/199 [==============================] - 2s 9ms/step - loss: 0.0203 - val_loss: 0.0782\n",
      "Epoch 19/100\n",
      "199/199 [==============================] - 2s 9ms/step - loss: 0.0175 - val_loss: 0.0714\n",
      "Epoch 20/100\n",
      "199/199 [==============================] - 2s 10ms/step - loss: 0.0146 - val_loss: 0.0676\n",
      "Epoch 21/100\n",
      "199/199 [==============================] - 2s 9ms/step - loss: 0.0128 - val_loss: 0.0663\n",
      "Epoch 22/100\n",
      "199/199 [==============================] - 2s 9ms/step - loss: 0.0123 - val_loss: 0.0655\n",
      "Epoch 23/100\n",
      "199/199 [==============================] - 2s 9ms/step - loss: 0.0117 - val_loss: 0.0649\n",
      "Epoch 24/100\n",
      "199/199 [==============================] - 2s 9ms/step - loss: 0.0108 - val_loss: 0.0641\n",
      "Epoch 25/100\n",
      "199/199 [==============================] - 2s 9ms/step - loss: 0.0104 - val_loss: 0.0624\n",
      "Epoch 26/100\n",
      "199/199 [==============================] - 2s 9ms/step - loss: 0.0099 - val_loss: 0.0621\n",
      "Epoch 27/100\n",
      "199/199 [==============================] - 2s 9ms/step - loss: 0.0096 - val_loss: 0.0631\n",
      "Epoch 28/100\n",
      "199/199 [==============================] - 2s 9ms/step - loss: 0.0096 - val_loss: 0.0611\n",
      "Epoch 29/100\n",
      "199/199 [==============================] - 2s 9ms/step - loss: 0.0092 - val_loss: 0.0593\n",
      "Epoch 30/100\n",
      "199/199 [==============================] - 2s 9ms/step - loss: 0.0090 - val_loss: 0.0575\n",
      "Epoch 31/100\n",
      "199/199 [==============================] - 2s 9ms/step - loss: 0.0090 - val_loss: 0.0570\n",
      "Epoch 32/100\n",
      "199/199 [==============================] - 2s 9ms/step - loss: 0.0089 - val_loss: 0.0568\n",
      "Epoch 33/100\n",
      "199/199 [==============================] - 2s 9ms/step - loss: 0.0083 - val_loss: 0.0554\n",
      "Epoch 34/100\n",
      "199/199 [==============================] - 2s 9ms/step - loss: 0.0084 - val_loss: 0.0543\n",
      "Epoch 35/100\n",
      "199/199 [==============================] - 2s 9ms/step - loss: 0.0085 - val_loss: 0.0549\n",
      "Epoch 36/100\n",
      "199/199 [==============================] - 2s 9ms/step - loss: 0.0085 - val_loss: 0.0530\n",
      "Epoch 37/100\n",
      "199/199 [==============================] - 2s 9ms/step - loss: 0.0081 - val_loss: 0.0520\n",
      "Epoch 38/100\n",
      "199/199 [==============================] - 2s 9ms/step - loss: 0.0083 - val_loss: 0.0517\n",
      "Epoch 39/100\n",
      "199/199 [==============================] - 2s 9ms/step - loss: 0.0080 - val_loss: 0.0517\n",
      "Epoch 40/100\n",
      "199/199 [==============================] - 2s 9ms/step - loss: 0.0080 - val_loss: 0.0499\n",
      "Epoch 41/100\n",
      "199/199 [==============================] - 2s 9ms/step - loss: 0.0076 - val_loss: 0.0506\n",
      "Epoch 42/100\n",
      "199/199 [==============================] - 2s 9ms/step - loss: 0.0078 - val_loss: 0.0504\n",
      "Epoch 43/100\n",
      "199/199 [==============================] - 2s 9ms/step - loss: 0.0075 - val_loss: 0.0479\n",
      "Epoch 44/100\n",
      "199/199 [==============================] - 2s 9ms/step - loss: 0.0075 - val_loss: 0.0491\n",
      "Epoch 45/100\n",
      "199/199 [==============================] - 2s 9ms/step - loss: 0.0075 - val_loss: 0.0493\n",
      "Epoch 46/100\n",
      "199/199 [==============================] - 2s 9ms/step - loss: 0.0071 - val_loss: 0.0488\n",
      "Epoch 47/100\n",
      "199/199 [==============================] - 2s 9ms/step - loss: 0.0073 - val_loss: 0.0467\n",
      "Epoch 48/100\n",
      "199/199 [==============================] - 2s 9ms/step - loss: 0.0069 - val_loss: 0.0469\n",
      "Epoch 49/100\n",
      "199/199 [==============================] - 2s 10ms/step - loss: 0.0068 - val_loss: 0.0483\n",
      "Epoch 50/100\n",
      "199/199 [==============================] - 2s 9ms/step - loss: 0.0068 - val_loss: 0.0443\n",
      "Epoch 51/100\n",
      "199/199 [==============================] - 2s 10ms/step - loss: 0.0070 - val_loss: 0.0453\n",
      "Epoch 52/100\n",
      "199/199 [==============================] - 2s 9ms/step - loss: 0.0067 - val_loss: 0.0445\n",
      "Epoch 53/100\n",
      "199/199 [==============================] - 2s 9ms/step - loss: 0.0067 - val_loss: 0.0466\n",
      "Epoch 54/100\n",
      "199/199 [==============================] - 2s 9ms/step - loss: 0.0066 - val_loss: 0.0460\n",
      "Epoch 55/100\n",
      "199/199 [==============================] - 2s 9ms/step - loss: 0.0064 - val_loss: 0.0471\n",
      "Epoch 56/100\n",
      "199/199 [==============================] - 2s 9ms/step - loss: 0.0066 - val_loss: 0.0465\n",
      "Epoch 57/100\n",
      "199/199 [==============================] - 2s 9ms/step - loss: 0.0065 - val_loss: 0.0458\n",
      "Epoch 58/100\n",
      "199/199 [==============================] - 2s 9ms/step - loss: 0.0063 - val_loss: 0.0441\n",
      "Epoch 59/100\n",
      "199/199 [==============================] - 2s 9ms/step - loss: 0.0067 - val_loss: 0.0440\n",
      "Epoch 60/100\n",
      "199/199 [==============================] - 2s 9ms/step - loss: 0.0063 - val_loss: 0.0448\n",
      "Epoch 61/100\n",
      "199/199 [==============================] - 2s 9ms/step - loss: 0.0062 - val_loss: 0.0441\n",
      "Epoch 62/100\n",
      "199/199 [==============================] - 2s 9ms/step - loss: 0.0061 - val_loss: 0.0442\n",
      "Epoch 63/100\n",
      "199/199 [==============================] - 2s 9ms/step - loss: 0.0061 - val_loss: 0.0463\n",
      "Epoch 64/100\n",
      "199/199 [==============================] - 2s 9ms/step - loss: 0.0059 - val_loss: 0.0442\n",
      "Epoch 65/100\n",
      "199/199 [==============================] - 2s 9ms/step - loss: 0.0058 - val_loss: 0.0449\n",
      "Epoch 66/100\n",
      "199/199 [==============================] - 2s 9ms/step - loss: 0.0058 - val_loss: 0.0440\n",
      "Epoch 67/100\n",
      "199/199 [==============================] - 2s 9ms/step - loss: 0.0058 - val_loss: 0.0438\n",
      "Epoch 68/100\n",
      "199/199 [==============================] - 2s 9ms/step - loss: 0.0060 - val_loss: 0.0447\n",
      "Epoch 69/100\n",
      "199/199 [==============================] - 2s 9ms/step - loss: 0.0057 - val_loss: 0.0438\n",
      "Epoch 70/100\n",
      "199/199 [==============================] - 2s 9ms/step - loss: 0.0060 - val_loss: 0.0431\n",
      "Epoch 71/100\n",
      "199/199 [==============================] - 2s 10ms/step - loss: 0.0055 - val_loss: 0.0426\n",
      "Epoch 72/100\n",
      "199/199 [==============================] - 2s 9ms/step - loss: 0.0055 - val_loss: 0.0463\n",
      "Epoch 73/100\n",
      "199/199 [==============================] - 2s 9ms/step - loss: 0.0058 - val_loss: 0.0438\n",
      "Epoch 74/100\n",
      "199/199 [==============================] - 2s 9ms/step - loss: 0.0056 - val_loss: 0.0451\n",
      "Epoch 75/100\n",
      "199/199 [==============================] - 2s 9ms/step - loss: 0.0053 - val_loss: 0.0456\n",
      "Epoch 76/100\n",
      "199/199 [==============================] - 2s 9ms/step - loss: 0.0055 - val_loss: 0.0476\n",
      "Epoch 77/100\n",
      "199/199 [==============================] - 2s 9ms/step - loss: 0.0054 - val_loss: 0.0457\n",
      "Epoch 78/100\n",
      "199/199 [==============================] - 2s 9ms/step - loss: 0.0054 - val_loss: 0.0447\n",
      "Epoch 79/100\n",
      "199/199 [==============================] - 2s 10ms/step - loss: 0.0055 - val_loss: 0.0455\n",
      "Epoch 80/100\n",
      "199/199 [==============================] - 2s 9ms/step - loss: 0.0053 - val_loss: 0.0447\n",
      "Epoch 81/100\n"
     ]
    },
    {
     "name": "stdout",
     "output_type": "stream",
     "text": [
      "199/199 [==============================] - 2s 9ms/step - loss: 0.0052 - val_loss: 0.0447\n",
      "Epoch 82/100\n",
      "199/199 [==============================] - 2s 9ms/step - loss: 0.0052 - val_loss: 0.0486\n",
      "Epoch 83/100\n",
      "199/199 [==============================] - 2s 9ms/step - loss: 0.0054 - val_loss: 0.0465\n",
      "Epoch 84/100\n",
      "199/199 [==============================] - 2s 9ms/step - loss: 0.0052 - val_loss: 0.0454\n",
      "Epoch 85/100\n",
      "199/199 [==============================] - 2s 9ms/step - loss: 0.0051 - val_loss: 0.0446\n",
      "Epoch 86/100\n",
      "199/199 [==============================] - 2s 9ms/step - loss: 0.0050 - val_loss: 0.0454\n",
      "Epoch 87/100\n",
      "199/199 [==============================] - 2s 9ms/step - loss: 0.0053 - val_loss: 0.0451\n",
      "Epoch 88/100\n",
      "199/199 [==============================] - 2s 9ms/step - loss: 0.0053 - val_loss: 0.0439\n",
      "Epoch 89/100\n",
      "199/199 [==============================] - 2s 9ms/step - loss: 0.0049 - val_loss: 0.0432\n",
      "Epoch 90/100\n",
      "199/199 [==============================] - 2s 9ms/step - loss: 0.0051 - val_loss: 0.0467\n",
      "Epoch 91/100\n",
      "199/199 [==============================] - 2s 9ms/step - loss: 0.0050 - val_loss: 0.0475\n",
      "Epoch 92/100\n",
      "199/199 [==============================] - 2s 9ms/step - loss: 0.0049 - val_loss: 0.0455\n",
      "Epoch 93/100\n",
      "199/199 [==============================] - 2s 9ms/step - loss: 0.0050 - val_loss: 0.0467\n",
      "Epoch 94/100\n",
      "199/199 [==============================] - 2s 9ms/step - loss: 0.0051 - val_loss: 0.0478\n",
      "Epoch 95/100\n",
      "199/199 [==============================] - 2s 9ms/step - loss: 0.0050 - val_loss: 0.0469\n",
      "Epoch 96/100\n",
      "199/199 [==============================] - 2s 9ms/step - loss: 0.0051 - val_loss: 0.0442\n",
      "Epoch 97/100\n",
      "199/199 [==============================] - 2s 9ms/step - loss: 0.0047 - val_loss: 0.0470\n",
      "Epoch 98/100\n",
      "199/199 [==============================] - 2s 9ms/step - loss: 0.0048 - val_loss: 0.0489\n",
      "Epoch 99/100\n",
      "199/199 [==============================] - 2s 9ms/step - loss: 0.0052 - val_loss: 0.0519\n",
      "Epoch 100/100\n",
      "199/199 [==============================] - 2s 9ms/step - loss: 0.0052 - val_loss: 0.0465\n"
     ]
    }
   ],
   "source": [
    "history1 = model.fit(x_train, y_train, epochs=100, validation_data=(x_valid, y_valid), batch_size=64, shuffle=False, callbacks=[tensorboard])"
   ]
  },
  {
   "cell_type": "markdown",
   "id": "developing-pulse",
   "metadata": {},
   "source": [
    "### Prepare data for one stock"
   ]
  },
  {
   "cell_type": "code",
   "execution_count": 35,
   "id": "multiple-industry",
   "metadata": {},
   "outputs": [],
   "source": [
    "target_stock = 'XOM'"
   ]
  },
  {
   "cell_type": "code",
   "execution_count": 36,
   "id": "first-large",
   "metadata": {},
   "outputs": [],
   "source": [
    "single_stock_dataset = dataset[dataset['Ticker']==target_stock].reset_index(drop=True)"
   ]
  },
  {
   "cell_type": "code",
   "execution_count": 37,
   "id": "similar-genius",
   "metadata": {},
   "outputs": [
    {
     "data": {
      "text/plain": [
       "<AxesSubplot:xlabel='Date', ylabel='Close'>"
      ]
     },
     "execution_count": 37,
     "metadata": {},
     "output_type": "execute_result"
    },
    {
     "data": {
      "image/png": "[encoded data removed]",
      "text/plain": [
       "<Figure size 432x288 with 1 Axes>"
      ]
     },
     "metadata": {
      "needs_background": "light"
     },
     "output_type": "display_data"
    }
   ],
   "source": [
    "sns.lineplot(x=single_stock_dataset['Date'], y=single_stock_dataset['Close'])"
   ]
  },
  {
   "cell_type": "markdown",
   "id": "charming-yacht",
   "metadata": {},
   "source": [
    "### Train test split"
   ]
  },
  {
   "cell_type": "code",
   "execution_count": 38,
   "id": "healthy-pressing",
   "metadata": {},
   "outputs": [],
   "source": [
    "train = single_stock_dataset.loc[single_stock_dataset['Date'] < \"2018-03-01\"]\n",
    "valid = single_stock_dataset.loc[(single_stock_dataset['Date'] > \"2018-03-13\") & (single_stock_dataset['Date'] < \"2019-03-01\")]\n",
    "test = single_stock_dataset.loc[(single_stock_dataset['Date'] > \"2019-03-01\") & (single_stock_dataset['Date'] < \"2020-03-01\")]"
   ]
  },
  {
   "cell_type": "code",
   "execution_count": 39,
   "id": "negative-objective",
   "metadata": {},
   "outputs": [
    {
     "name": "stderr",
     "output_type": "stream",
     "text": [
      "C:\\Users\\jaker\\miniconda3\\envs\\finance\\lib\\site-packages\\pandas\\core\\indexing.py:1738: SettingWithCopyWarning: \n",
      "A value is trying to be set on a copy of a slice from a DataFrame.\n",
      "Try using .loc[row_indexer,col_indexer] = value instead\n",
      "\n",
      "See the caveats in the documentation: https://pandas.pydata.org/pandas-docs/stable/user_guide/indexing.html#returning-a-view-versus-a-copy\n",
      "  self._setitem_single_column(loc, value[:, i].tolist(), pi)\n",
      "C:\\Users\\jaker\\miniconda3\\envs\\finance\\lib\\site-packages\\pandas\\core\\indexing.py:1738: SettingWithCopyWarning: \n",
      "A value is trying to be set on a copy of a slice from a DataFrame.\n",
      "Try using .loc[row_indexer,col_indexer] = value instead\n",
      "\n",
      "See the caveats in the documentation: https://pandas.pydata.org/pandas-docs/stable/user_guide/indexing.html#returning-a-view-versus-a-copy\n",
      "  self._setitem_single_column(loc, value[:, i].tolist(), pi)\n",
      "C:\\Users\\jaker\\miniconda3\\envs\\finance\\lib\\site-packages\\pandas\\core\\indexing.py:1738: SettingWithCopyWarning: \n",
      "A value is trying to be set on a copy of a slice from a DataFrame.\n",
      "Try using .loc[row_indexer,col_indexer] = value instead\n",
      "\n",
      "See the caveats in the documentation: https://pandas.pydata.org/pandas-docs/stable/user_guide/indexing.html#returning-a-view-versus-a-copy\n",
      "  self._setitem_single_column(loc, value[:, i].tolist(), pi)\n"
     ]
    }
   ],
   "source": [
    "single_stock_scaler_models = norm_per_stock_split(train, valid, test, features, MinMaxScaler)"
   ]
  },
  {
   "cell_type": "code",
   "execution_count": 40,
   "id": "apart-performer",
   "metadata": {},
   "outputs": [],
   "source": [
    "train = train.merge(climate_trends_data, on=[\"Date\"], how='left')\n",
    "valid = valid.merge(climate_trends_data, on=[\"Date\"], how='left')\n",
    "test = test.merge(climate_trends_data, on=[\"Date\"], how='left')"
   ]
  },
  {
   "cell_type": "markdown",
   "id": "binary-royal",
   "metadata": {},
   "source": [
    "#### Prepare training inputs and outputs\n",
    "Since we are using just one stock, we don't need to keep track of tickers"
   ]
  },
  {
   "cell_type": "code",
   "execution_count": 41,
   "id": "authentic-shipping",
   "metadata": {},
   "outputs": [],
   "source": [
    "x_train, y_train, _ = roll_all_stocks(train, trail_size, predict_length)\n",
    "x_valid, y_valid, _ = roll_all_stocks(valid, trail_size, predict_length)\n",
    "x_test, y_test, _ = roll_all_stocks(test, trail_size, predict_length)"
   ]
  },
  {
   "cell_type": "markdown",
   "id": "supported-synthesis",
   "metadata": {},
   "source": [
    "#### Confirm shapes"
   ]
  },
  {
   "cell_type": "code",
   "execution_count": 42,
   "id": "hungry-fields",
   "metadata": {},
   "outputs": [
    {
     "name": "stdout",
     "output_type": "stream",
     "text": [
      "x_train: (705, 14, 33)\n",
      "y_train: (705,)\n",
      "x_valid: (224, 14, 33)\n",
      "y_valid (224,)\n",
      "x_test: (233, 14, 33)\n",
      "y_test (233,)\n"
     ]
    }
   ],
   "source": [
    "print(\"x_train: {}\".format(x_train.shape))\n",
    "print(\"y_train: {}\".format(y_train.shape))\n",
    "print(\"x_valid: {}\".format(x_valid.shape))\n",
    "print(\"y_valid {}\".format(y_valid.shape))\n",
    "print(\"x_test: {}\".format(x_test.shape))\n",
    "print(\"y_test {}\".format(y_test.shape))"
   ]
  },
  {
   "cell_type": "markdown",
   "id": "played-mother",
   "metadata": {},
   "source": [
    "### Test model on single stock"
   ]
  },
  {
   "cell_type": "code",
   "execution_count": 43,
   "id": "seeing-lighter",
   "metadata": {},
   "outputs": [
    {
     "name": "stdout",
     "output_type": "stream",
     "text": [
      "Training RMSE = 1.2668196369210123\n"
     ]
    }
   ],
   "source": [
    "print(\"Training RMSE = {}\".format(evaluate_model_rmse(model.predict(x_train), \n",
    "                                                      y_train,\n",
    "                                                     num_features - num_climate_features,\n",
    "                                                     single_stock_scaler_models[target_stock])))"
   ]
  },
  {
   "cell_type": "code",
   "execution_count": 44,
   "id": "adapted-allocation",
   "metadata": {},
   "outputs": [
    {
     "name": "stdout",
     "output_type": "stream",
     "text": [
      "Validation RMSE = 2.7814386238582722\n"
     ]
    }
   ],
   "source": [
    "print(\"Validation RMSE = {}\".format(evaluate_model_rmse(model.predict(x_valid), \n",
    "                                                      y_valid,\n",
    "                                                     num_features - num_climate_features,\n",
    "                                                     single_stock_scaler_models[target_stock])))"
   ]
  },
  {
   "cell_type": "code",
   "execution_count": 45,
   "id": "mounted-identifier",
   "metadata": {},
   "outputs": [
    {
     "name": "stdout",
     "output_type": "stream",
     "text": [
      "Testing RMSE = 3.4740116994708146\n"
     ]
    }
   ],
   "source": [
    "print(\"Testing RMSE = {}\".format(evaluate_model_rmse(model.predict(x_test), \n",
    "                                                     y_test,\n",
    "                                                    num_features - num_climate_features,\n",
    "                                                    single_stock_scaler_models[target_stock])))"
   ]
  },
  {
   "cell_type": "code",
   "execution_count": 46,
   "id": "large-poultry",
   "metadata": {},
   "outputs": [],
   "source": [
    "model.layers[7].trainable = False\n",
    "model.layers[4].trainable = False\n",
    "model.layers[2].trainable = False\n",
    "model.layers[0].trainable = False"
   ]
  },
  {
   "cell_type": "code",
   "execution_count": 47,
   "id": "occupied-spirituality",
   "metadata": {},
   "outputs": [
    {
     "name": "stdout",
     "output_type": "stream",
     "text": [
      "Model: \"sequential\"\n",
      "_________________________________________________________________\n",
      "Layer (type)                 Output Shape              Param #   \n",
      "=================================================================\n",
      "lstm (LSTM)                  (None, 14, 75)            32700     \n",
      "_________________________________________________________________\n",
      "dropout (Dropout)            (None, 14, 75)            0         \n",
      "_________________________________________________________________\n",
      "lstm_1 (LSTM)                (None, 14, 30)            12720     \n",
      "_________________________________________________________________\n",
      "dropout_1 (Dropout)          (None, 14, 30)            0         \n",
      "_________________________________________________________________\n",
      "lstm_2 (LSTM)                (None, 14, 30)            7320      \n",
      "_________________________________________________________________\n",
      "dropout_2 (Dropout)          (None, 14, 30)            0         \n",
      "_________________________________________________________________\n",
      "flatten (Flatten)            (None, 420)               0         \n",
      "_________________________________________________________________\n",
      "dense (Dense)                (None, 1)                 421       \n",
      "=================================================================\n",
      "Total params: 53,161\n",
      "Trainable params: 0\n",
      "Non-trainable params: 53,161\n",
      "_________________________________________________________________\n"
     ]
    }
   ],
   "source": [
    "model.summary()"
   ]
  },
  {
   "cell_type": "code",
   "execution_count": 48,
   "id": "friendly-residence",
   "metadata": {},
   "outputs": [],
   "source": [
    "model.compile(optimizer='adam', loss='mean_squared_error')"
   ]
  },
  {
   "cell_type": "markdown",
   "id": "essential-scheduling",
   "metadata": {},
   "source": [
    "### Train model on single stock"
   ]
  },
  {
   "cell_type": "code",
   "execution_count": 49,
   "id": "vocal-allocation",
   "metadata": {},
   "outputs": [],
   "source": [
    "tensorboard = TensorBoard(log_dir='logs/{}_2'.format(time_stamp))"
   ]
  },
  {
   "cell_type": "code",
   "execution_count": 50,
   "id": "threatened-projection",
   "metadata": {},
   "outputs": [
    {
     "name": "stdout",
     "output_type": "stream",
     "text": [
      "Epoch 1/45\n",
      "12/12 [==============================] - 7s 370ms/step - loss: 0.0049 - val_loss: 0.0156\n",
      "Epoch 2/45\n",
      "12/12 [==============================] - 0s 7ms/step - loss: 0.0047 - val_loss: 0.0156\n",
      "Epoch 3/45\n",
      "12/12 [==============================] - 0s 7ms/step - loss: 0.0044 - val_loss: 0.0156\n",
      "Epoch 4/45\n",
      "12/12 [==============================] - 0s 7ms/step - loss: 0.0043 - val_loss: 0.0156\n",
      "Epoch 5/45\n",
      "12/12 [==============================] - 0s 7ms/step - loss: 0.0043 - val_loss: 0.0156\n",
      "Epoch 6/45\n",
      "12/12 [==============================] - 0s 7ms/step - loss: 0.0045 - val_loss: 0.0156\n",
      "Epoch 7/45\n",
      "12/12 [==============================] - 0s 7ms/step - loss: 0.0048 - val_loss: 0.0156\n",
      "Epoch 8/45\n",
      "12/12 [==============================] - 0s 7ms/step - loss: 0.0044 - val_loss: 0.0156\n",
      "Epoch 9/45\n",
      "12/12 [==============================] - 0s 7ms/step - loss: 0.0048 - val_loss: 0.0156\n",
      "Epoch 10/45\n",
      "12/12 [==============================] - 0s 7ms/step - loss: 0.0046 - val_loss: 0.0156\n",
      "Epoch 11/45\n",
      "12/12 [==============================] - 0s 7ms/step - loss: 0.0046 - val_loss: 0.0156\n",
      "Epoch 12/45\n",
      "12/12 [==============================] - 0s 7ms/step - loss: 0.0045 - val_loss: 0.0156\n",
      "Epoch 13/45\n",
      "12/12 [==============================] - 0s 7ms/step - loss: 0.0048 - val_loss: 0.0156\n",
      "Epoch 14/45\n",
      "12/12 [==============================] - 0s 7ms/step - loss: 0.0049 - val_loss: 0.0156\n",
      "Epoch 15/45\n",
      "12/12 [==============================] - 0s 7ms/step - loss: 0.0045 - val_loss: 0.0156\n",
      "Epoch 16/45\n",
      "12/12 [==============================] - 0s 8ms/step - loss: 0.0047 - val_loss: 0.0156\n",
      "Epoch 17/45\n",
      "12/12 [==============================] - 0s 8ms/step - loss: 0.0049 - val_loss: 0.0156\n",
      "Epoch 18/45\n",
      "12/12 [==============================] - 0s 7ms/step - loss: 0.0044 - val_loss: 0.0156\n",
      "Epoch 19/45\n",
      "12/12 [==============================] - 0s 7ms/step - loss: 0.0050 - val_loss: 0.0156\n",
      "Epoch 20/45\n",
      "12/12 [==============================] - 0s 8ms/step - loss: 0.0047 - val_loss: 0.0156\n",
      "Epoch 21/45\n",
      "12/12 [==============================] - 0s 7ms/step - loss: 0.0045 - val_loss: 0.0156\n",
      "Epoch 22/45\n",
      "12/12 [==============================] - 0s 7ms/step - loss: 0.0044 - val_loss: 0.0156\n",
      "Epoch 23/45\n",
      "12/12 [==============================] - 0s 7ms/step - loss: 0.0043 - val_loss: 0.0156\n",
      "Epoch 24/45\n",
      "12/12 [==============================] - 0s 7ms/step - loss: 0.0048 - val_loss: 0.0156\n",
      "Epoch 25/45\n",
      "12/12 [==============================] - 0s 9ms/step - loss: 0.0044 - val_loss: 0.0156\n",
      "Epoch 26/45\n",
      "12/12 [==============================] - 0s 7ms/step - loss: 0.0045 - val_loss: 0.0156\n",
      "Epoch 27/45\n",
      "12/12 [==============================] - 0s 7ms/step - loss: 0.0045 - val_loss: 0.0156\n",
      "Epoch 28/45\n",
      "12/12 [==============================] - 0s 7ms/step - loss: 0.0045 - val_loss: 0.0156\n",
      "Epoch 29/45\n",
      "12/12 [==============================] - 0s 7ms/step - loss: 0.0040 - val_loss: 0.0156\n",
      "Epoch 30/45\n",
      "12/12 [==============================] - 0s 7ms/step - loss: 0.0046 - val_loss: 0.0156\n",
      "Epoch 31/45\n",
      "12/12 [==============================] - 0s 7ms/step - loss: 0.0046 - val_loss: 0.0156\n",
      "Epoch 32/45\n",
      "12/12 [==============================] - 0s 7ms/step - loss: 0.0045 - val_loss: 0.0156\n",
      "Epoch 33/45\n",
      "12/12 [==============================] - 0s 7ms/step - loss: 0.0043 - val_loss: 0.0156\n",
      "Epoch 34/45\n",
      "12/12 [==============================] - 0s 7ms/step - loss: 0.0046 - val_loss: 0.0156\n",
      "Epoch 35/45\n",
      "12/12 [==============================] - 0s 7ms/step - loss: 0.0047 - val_loss: 0.0156\n",
      "Epoch 36/45\n",
      "12/12 [==============================] - 0s 7ms/step - loss: 0.0045 - val_loss: 0.0156\n",
      "Epoch 37/45\n",
      "12/12 [==============================] - 0s 7ms/step - loss: 0.0047 - val_loss: 0.0156\n",
      "Epoch 38/45\n",
      "12/12 [==============================] - 0s 7ms/step - loss: 0.0044 - val_loss: 0.0156\n",
      "Epoch 39/45\n",
      "12/12 [==============================] - 0s 8ms/step - loss: 0.0047 - val_loss: 0.0156\n",
      "Epoch 40/45\n",
      "12/12 [==============================] - 0s 7ms/step - loss: 0.0046 - val_loss: 0.0156\n",
      "Epoch 41/45\n",
      "12/12 [==============================] - 0s 8ms/step - loss: 0.0046 - val_loss: 0.0156\n",
      "Epoch 42/45\n",
      "12/12 [==============================] - 0s 7ms/step - loss: 0.0045 - val_loss: 0.0156\n",
      "Epoch 43/45\n",
      "12/12 [==============================] - 0s 7ms/step - loss: 0.0046 - val_loss: 0.0156\n",
      "Epoch 44/45\n",
      "12/12 [==============================] - 0s 7ms/step - loss: 0.0047 - val_loss: 0.0156\n",
      "Epoch 45/45\n",
      "12/12 [==============================] - 0s 7ms/step - loss: 0.0048 - val_loss: 0.0156\n"
     ]
    }
   ],
   "source": [
    "history2 = model.fit(x_train, y_train, epochs=45, validation_data=(x_valid, y_valid), batch_size=64, shuffle=False, callbacks=[tensorboard])"
   ]
  },
  {
   "cell_type": "markdown",
   "id": "promising-republican",
   "metadata": {},
   "source": [
    "### Visualize results"
   ]
  },
  {
   "cell_type": "code",
   "execution_count": 51,
   "id": "greatest-sodium",
   "metadata": {},
   "outputs": [
    {
     "data": {
      "image/png": "[encoded data removed]",
      "text/plain": [
       "<Figure size 576x432 with 1 Axes>"
      ]
     },
     "metadata": {
      "needs_background": "light"
     },
     "output_type": "display_data"
    }
   ],
   "source": [
    "plot_loss(history1)"
   ]
  },
  {
   "cell_type": "code",
   "execution_count": 52,
   "id": "vanilla-reception",
   "metadata": {},
   "outputs": [
    {
     "data": {
      "image/png": "[encoded data removed]",
      "text/plain": [
       "<Figure size 576x432 with 1 Axes>"
      ]
     },
     "metadata": {
      "needs_background": "light"
     },
     "output_type": "display_data"
    }
   ],
   "source": [
    "plot_loss(history2)"
   ]
  },
  {
   "cell_type": "code",
   "execution_count": 53,
   "id": "prepared-principal",
   "metadata": {},
   "outputs": [
    {
     "name": "stdout",
     "output_type": "stream",
     "text": [
      "Training RMSE = 1.2668196369210123\n"
     ]
    }
   ],
   "source": [
    "print(\"Training RMSE = {}\".format(evaluate_model_rmse(model.predict(x_train), \n",
    "                                                      y_train,\n",
    "                                                     num_features - num_climate_features,\n",
    "                                                     single_stock_scaler_models[target_stock])))"
   ]
  },
  {
   "cell_type": "code",
   "execution_count": 54,
   "id": "alert-execution",
   "metadata": {},
   "outputs": [
    {
     "name": "stdout",
     "output_type": "stream",
     "text": [
      "Validation RMSE = 2.7814386238582722\n"
     ]
    }
   ],
   "source": [
    "print(\"Validation RMSE = {}\".format(evaluate_model_rmse(model.predict(x_valid), \n",
    "                                                      y_valid,\n",
    "                                                     num_features - num_climate_features,\n",
    "                                                     single_stock_scaler_models[target_stock])))"
   ]
  },
  {
   "cell_type": "code",
   "execution_count": 55,
   "id": "final-advertising",
   "metadata": {},
   "outputs": [
    {
     "name": "stdout",
     "output_type": "stream",
     "text": [
      "Testing RMSE = 3.4740116994708146\n"
     ]
    }
   ],
   "source": [
    "print(\"Testing RMSE = {}\".format(evaluate_model_rmse(model.predict(x_test), \n",
    "                                                     y_test,\n",
    "                                                    num_features - num_climate_features,\n",
    "                                                    single_stock_scaler_models[target_stock])))"
   ]
  },
  {
   "cell_type": "markdown",
   "id": "caroline-consumer",
   "metadata": {},
   "source": [
    "#### Compare to simple baseline"
   ]
  },
  {
   "cell_type": "code",
   "execution_count": 56,
   "id": "coral-dodge",
   "metadata": {},
   "outputs": [],
   "source": [
    "def predict_no_change(x):\n",
    "    return x[-1][0]"
   ]
  },
  {
   "cell_type": "code",
   "execution_count": 57,
   "id": "lightweight-spray",
   "metadata": {},
   "outputs": [],
   "source": [
    "no_change_preds = np.array([predict_no_change(x) for x in x_train])\n",
    "no_change_preds = np.expand_dims(no_change_preds, axis=1)"
   ]
  },
  {
   "cell_type": "code",
   "execution_count": 58,
   "id": "genetic-holly",
   "metadata": {},
   "outputs": [
    {
     "data": {
      "text/plain": [
       "1.6436243482541002"
      ]
     },
     "execution_count": 58,
     "metadata": {},
     "output_type": "execute_result"
    }
   ],
   "source": [
    "evaluate_model_rmse(no_change_preds, y_train, num_features - num_climate_features, single_stock_scaler_models[target_stock])"
   ]
  },
  {
   "cell_type": "code",
   "execution_count": 59,
   "id": "infectious-constant",
   "metadata": {},
   "outputs": [],
   "source": [
    "no_change_preds = np.array([predict_no_change(x) for x in x_valid])\n",
    "no_change_preds = np.expand_dims(no_change_preds, axis=1)"
   ]
  },
  {
   "cell_type": "code",
   "execution_count": 60,
   "id": "political-centre",
   "metadata": {},
   "outputs": [
    {
     "data": {
      "text/plain": [
       "2.083410876375274"
      ]
     },
     "execution_count": 60,
     "metadata": {},
     "output_type": "execute_result"
    }
   ],
   "source": [
    "evaluate_model_rmse(no_change_preds, y_valid, num_features - num_climate_features, single_stock_scaler_models[target_stock])"
   ]
  },
  {
   "cell_type": "code",
   "execution_count": 61,
   "id": "injured-loading",
   "metadata": {},
   "outputs": [],
   "source": [
    "no_change_preds = np.array([predict_no_change(x) for x in x_test])\n",
    "no_change_preds = np.expand_dims(no_change_preds, axis=1)"
   ]
  },
  {
   "cell_type": "code",
   "execution_count": 62,
   "id": "wound-pantyhose",
   "metadata": {},
   "outputs": [
    {
     "data": {
      "text/plain": [
       "1.949052443325683"
      ]
     },
     "execution_count": 62,
     "metadata": {},
     "output_type": "execute_result"
    }
   ],
   "source": [
    "evaluate_model_rmse(no_change_preds, y_test, num_features - num_climate_features, single_stock_scaler_models[target_stock])"
   ]
  },
  {
   "cell_type": "markdown",
   "id": "signal-willow",
   "metadata": {},
   "source": [
    "### Plot data against predictions"
   ]
  },
  {
   "cell_type": "code",
   "execution_count": 63,
   "id": "christian-stopping",
   "metadata": {},
   "outputs": [
    {
     "data": {
      "text/plain": [
       "<AxesSubplot:title={'center':'Training performance'}>"
      ]
     },
     "execution_count": 63,
     "metadata": {},
     "output_type": "execute_result"
    },
    {
     "data": {
      "image/png": "[encoded data removed]",
      "text/plain": [
       "<Figure size 864x576 with 1 Axes>"
      ]
     },
     "metadata": {
      "needs_background": "light"
     },
     "output_type": "display_data"
    }
   ],
   "source": [
    "price_vs_preds = pd.DataFrame([y_train, model.predict(x_train)[:, 0]]).T\n",
    "price_vs_preds.columns = ['Price', 'Prediction']\n",
    "price_vs_preds.plot(figsize=(12,8), title=\"Training performance\")"
   ]
  },
  {
   "cell_type": "code",
   "execution_count": 64,
   "id": "fitted-debate",
   "metadata": {},
   "outputs": [
    {
     "data": {
      "text/plain": [
       "<AxesSubplot:title={'center':'Validation performance'}>"
      ]
     },
     "execution_count": 64,
     "metadata": {},
     "output_type": "execute_result"
    },
    {
     "data": {
      "image/png": "[encoded data removed]",
      "text/plain": [
       "<Figure size 864x576 with 1 Axes>"
      ]
     },
     "metadata": {
      "needs_background": "light"
     },
     "output_type": "display_data"
    }
   ],
   "source": [
    "price_vs_preds = pd.DataFrame([y_valid, model.predict(x_valid)[:, 0]]).T\n",
    "price_vs_preds.columns = ['Price', 'Prediction']\n",
    "price_vs_preds.plot(figsize=(12,8), title=\"Validation performance\")"
   ]
  },
  {
   "cell_type": "code",
   "execution_count": 65,
   "id": "close-coupon",
   "metadata": {},
   "outputs": [
    {
     "data": {
      "text/plain": [
       "<AxesSubplot:title={'center':'Testing performance'}>"
      ]
     },
     "execution_count": 65,
     "metadata": {},
     "output_type": "execute_result"
    },
    {
     "data": {
      "image/png": "[encoded data removed]",
      "text/plain": [
       "<Figure size 864x576 with 1 Axes>"
      ]
     },
     "metadata": {
      "needs_background": "light"
     },
     "output_type": "display_data"
    }
   ],
   "source": [
    "price_vs_preds = pd.DataFrame([y_test, model.predict(x_test)[:, 0]]).T\n",
    "price_vs_preds.columns = ['Price', 'Prediction']\n",
    "price_vs_preds.plot(figsize=(12,8), title=\"Testing performance\")"
   ]
  },
  {
   "cell_type": "code",
   "execution_count": null,
   "id": "passive-vector",
   "metadata": {},
   "outputs": [],
   "source": []
  }
 ],
 "metadata": {
  "kernelspec": {
   "display_name": "Python 3",
   "language": "python",
   "name": "python3"
  },
  "language_info": {
   "codemirror_mode": {
    "name": "ipython",
    "version": 3
   },
   "file_extension": ".py",
   "mimetype": "text/x-python",
   "name": "python",
   "nbconvert_exporter": "python",
   "pygments_lexer": "ipython3",
   "version": "3.8.5"
  }
 },
 "nbformat": 4,
 "nbformat_minor": 5
}
