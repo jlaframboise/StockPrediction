{
 "cells": [
  {
   "cell_type": "markdown",
   "id": "geographic-egyptian",
   "metadata": {},
   "source": [
    "# Trend Classification on Electric Vehicle Stocks\n",
    "# With Trends Data"
   ]
  },
  {
   "cell_type": "markdown",
   "id": "thermal-satin",
   "metadata": {},
   "source": [
    "### Imports"
   ]
  },
  {
   "cell_type": "code",
   "execution_count": 75,
   "id": "lightweight-birmingham",
   "metadata": {},
   "outputs": [
    {
     "data": {
      "text/html": [
       "<style>.container { width:100% !important; }</style>"
      ],
      "text/plain": [
       "<IPython.core.display.HTML object>"
      ]
     },
     "metadata": {},
     "output_type": "display_data"
    }
   ],
   "source": [
    "import os, sys\n",
    "import pandas as pd\n",
    "import numpy as np\n",
    "import yfinance as yf\n",
    "import matplotlib.pyplot as plt\n",
    "import seaborn as sns\n",
    "import random\n",
    "\n",
    "import tensorflow as tf\n",
    "from tensorflow.keras import Input, Model\n",
    "from tensorflow.keras.models import Sequential\n",
    "from tensorflow.keras.layers import *\n",
    "from tensorflow.keras.losses import CategoricalCrossentropy\n",
    "from tensorflow.keras.regularizers import l1, l2\n",
    "from tensorflow.keras.utils import to_categorical, plot_model\n",
    "from tensorflow.keras.preprocessing.sequence import TimeseriesGenerator\n",
    "from sklearn.metrics import confusion_matrix, ConfusionMatrixDisplay, mean_squared_error, classification_report\n",
    "from sklearn.feature_extraction.text import CountVectorizer\n",
    "from sklearn.preprocessing import StandardScaler, MinMaxScaler, RobustScaler\n",
    "\n",
    "from time import time\n",
    "from tensorflow.python.keras.callbacks import TensorBoard\n",
    "import warnings\n",
    "warnings.simplefilter(\"ignore\")\n",
    "\n",
    "from indicators import *\n",
    "from data_loading import *\n",
    "from util_functions import *\n",
    "\n",
    "\n",
    "physical_devices = tf.config.list_physical_devices('GPU')\n",
    "tf.config.experimental.set_memory_growth(physical_devices[0], enable=True)\n",
    "\n",
    "from IPython.core.display import display, HTML\n",
    "display(HTML(\"<style>.container { width:100% !important; }</style>\"))\n",
    "\n",
    "pd.set_option('display.max_rows', 500)\n",
    "pd.set_option('display.max_columns', 500)\n",
    "pd.set_option('display.width', 1000)\n"
   ]
  },
  {
   "cell_type": "markdown",
   "id": "minus-mitchell",
   "metadata": {},
   "source": [
    "### Parameters"
   ]
  },
  {
   "cell_type": "code",
   "execution_count": 2,
   "id": "pressed-equality",
   "metadata": {},
   "outputs": [],
   "source": [
    "trail_size=14\n",
    "predict_length = 5\n",
    "time_period = '6y'"
   ]
  },
  {
   "cell_type": "markdown",
   "id": "mediterranean-pursuit",
   "metadata": {},
   "source": [
    "# 1.0 Load data"
   ]
  },
  {
   "cell_type": "markdown",
   "id": "opposite-bronze",
   "metadata": {},
   "source": [
    "## 1.1 Load stock data"
   ]
  },
  {
   "cell_type": "code",
   "execution_count": 3,
   "id": "color-myrtle",
   "metadata": {},
   "outputs": [],
   "source": [
    "top_energy = [\"XOM\", \"CVX\", \"RDS-A\", \"RDS-B\", \"PTR\", \"TOT\", \"BP\",\n",
    "\"SNP\", \"ENB\", \"COP\", \"EQNR\", \"PBR-A\", \"PBR\", \"EPD\",\n",
    "\"TRP\", \"E\", \"EOG\", \"SLB\", \"KMI\", \"PSX\", \"CNQ\",\n",
    "\"MPC\", \"PXD\", \"SU\", \"VLO\"]"
   ]
  },
  {
   "cell_type": "code",
   "execution_count": 4,
   "id": "coordinated-engineering",
   "metadata": {},
   "outputs": [],
   "source": [
    "traditional_energy_stocks = [ \"LNG\", \"OKE\", \"BKR\", \"WMB\", \"EQT\",  \"XEC\",  \"XOM\",  \"CVX\",  \"BP\",  \"OXY\",  \"COP\",  \"EOG\",  \"COG\",  \"CNQ\",  \"SLB\",  \"PTR\",  \"TOT\",  \"ENB\"]"
   ]
  },
  {
   "cell_type": "code",
   "execution_count": 5,
   "id": "numeric-transformation",
   "metadata": {},
   "outputs": [],
   "source": [
    "green_energy_stocks = [\"CSIQ\", \"SPWR\", \"AQN.TO\", \"DQ\", \"HYSR\", \"PLUG\", \"SOL\", \"NEE\", \"ENPH\", \"FSLR\", \"SEDG\", \"ORA\", ]"
   ]
  },
  {
   "cell_type": "code",
   "execution_count": 6,
   "id": "worst-testament",
   "metadata": {},
   "outputs": [],
   "source": [
    "ev_battery_stocks = [\"TSLA\", \"WKHS\", \"BLNK\", \"LAC\", \"MG\", \"KNDI\", \"NFI.TO\", \"BLDP\", \"AYRO\"]"
   ]
  },
  {
   "cell_type": "code",
   "execution_count": 7,
   "id": "adult-graphic",
   "metadata": {},
   "outputs": [
    {
     "name": "stdout",
     "output_type": "stream",
     "text": [
      "[*********************100%***********************]  9 of 9 completed\n"
     ]
    }
   ],
   "source": [
    "data = get_data_yf(ev_battery_stocks, time_period)"
   ]
  },
  {
   "cell_type": "code",
   "execution_count": 8,
   "id": "innovative-november",
   "metadata": {},
   "outputs": [
    {
     "data": {
      "text/plain": [
       "1190"
      ]
     },
     "execution_count": 8,
     "metadata": {},
     "output_type": "execute_result"
    }
   ],
   "source": [
    "data.isna().sum().sum()"
   ]
  },
  {
   "cell_type": "code",
   "execution_count": 9,
   "id": "toxic-rating",
   "metadata": {},
   "outputs": [
    {
     "data": {
      "text/plain": [
       "56"
      ]
     },
     "execution_count": 9,
     "metadata": {},
     "output_type": "execute_result"
    }
   ],
   "source": [
    "sum(data.isna().sum(axis=1)>0)"
   ]
  },
  {
   "cell_type": "code",
   "execution_count": 10,
   "id": "hearing-yugoslavia",
   "metadata": {
    "scrolled": false
   },
   "outputs": [],
   "source": [
    "data = data.dropna()"
   ]
  },
  {
   "cell_type": "code",
   "execution_count": 11,
   "id": "accessory-basis",
   "metadata": {},
   "outputs": [
    {
     "data": {
      "text/plain": [
       "0"
      ]
     },
     "execution_count": 11,
     "metadata": {},
     "output_type": "execute_result"
    }
   ],
   "source": [
    "sum(data.isna().sum(axis=1)>0)"
   ]
  },
  {
   "cell_type": "code",
   "execution_count": 12,
   "id": "weighted-design",
   "metadata": {},
   "outputs": [],
   "source": [
    "data = process_stock_data_from_yf(data)"
   ]
  },
  {
   "cell_type": "code",
   "execution_count": 13,
   "id": "incorporate-prime",
   "metadata": {},
   "outputs": [
    {
     "data": {
      "text/plain": [
       "100.0"
      ]
     },
     "execution_count": 13,
     "metadata": {},
     "output_type": "execute_result"
    }
   ],
   "source": [
    "has_data_ratio, data = filter_has_all_data(data)\n",
    "has_data_ratio"
   ]
  },
  {
   "cell_type": "markdown",
   "id": "elegant-convertible",
   "metadata": {},
   "source": [
    "## 1.2 Compute technical indicators"
   ]
  },
  {
   "cell_type": "code",
   "execution_count": 14,
   "id": "geographic-devon",
   "metadata": {},
   "outputs": [],
   "source": [
    "all_stock_features = ['Close', 'High',\n",
    " 'Low', 'Open', 'Volume',\n",
    " 'HH', 'LL', 'AV',\n",
    " 'SMA', 'SD', 'WILLR',\n",
    " 'ATR', 'DMH', 'DML',\n",
    " 'EMA', 'WMA', 'BBHIGH',\n",
    " 'BBLOW', 'PERBHIGH', 'PERBLOW',\n",
    " 'TRIMA', 'RSI', 'DX',\n",
    " 'PDI', 'NDI', 'ADX',\n",
    " 'ROC', 'MACD', 'CCI']"
   ]
  },
  {
   "cell_type": "code",
   "execution_count": 15,
   "id": "introductory-controversy",
   "metadata": {},
   "outputs": [],
   "source": [
    "# compute all our technical markers for each of the stocks. \n",
    "dataset = data.groupby('Ticker').apply(lambda x: add_technical_markers(x, trail_size))"
   ]
  },
  {
   "cell_type": "markdown",
   "id": "focal-wichita",
   "metadata": {},
   "source": [
    "## 1.3 Load trends data"
   ]
  },
  {
   "cell_type": "code",
   "execution_count": 16,
   "id": "skilled-lodging",
   "metadata": {},
   "outputs": [],
   "source": [
    "filenames = [\n",
    "    \"data climate change adjusted.csv\",\n",
    "    \"data greenhouse gas adjusted.csv\",\n",
    "    \"data oil adjusted.csv\",\n",
    "    \"data renewable adjusted.csv\",\n",
    "    \"data carbon tax adjusted.csv\",\n",
    "    \"data electric vehicles adjusted.csv\",\n",
    "    \"data environmental protection agency adjusted.csv\",\n",
    "    \"data fossil fuels adjusted.csv\",\n",
    "    \"data fracking adjusted.csv\",\n",
    "    \"data global warming adjusted.csv\",\n",
    "]\n",
    "terms = [\n",
    "    \"climate change\",\n",
    "    \"greenhouse gas\",\n",
    "    \"oil\",\n",
    "    \"renewable\",\n",
    "    \"carbon tax\",\n",
    "    \"electric vehicles\",\n",
    "    \"environmental protection agency\",\n",
    "    \"fossil fuels\",\n",
    "    \"fracking\",\n",
    "    \"global warming\",\n",
    "]"
   ]
  },
  {
   "cell_type": "code",
   "execution_count": 17,
   "id": "senior-dispute",
   "metadata": {},
   "outputs": [],
   "source": [
    "climate_trends_data = load_climate_data(filenames, terms)"
   ]
  },
  {
   "cell_type": "code",
   "execution_count": 18,
   "id": "alive-mirror",
   "metadata": {},
   "outputs": [
    {
     "data": {
      "text/plain": [
       "(2278, 11)"
      ]
     },
     "execution_count": 18,
     "metadata": {},
     "output_type": "execute_result"
    }
   ],
   "source": [
    "climate_trends_data.shape"
   ]
  },
  {
   "cell_type": "code",
   "execution_count": 19,
   "id": "dietary-compatibility",
   "metadata": {},
   "outputs": [
    {
     "data": {
      "text/plain": [
       "<AxesSubplot:xlabel='Date'>"
      ]
     },
     "execution_count": 19,
     "metadata": {},
     "output_type": "execute_result"
    },
    {
     "data": {
      "image/png": "[encoded data removed]",
      "text/plain": [
       "<Figure size 432x288 with 1 Axes>"
      ]
     },
     "metadata": {
      "needs_background": "light"
     },
     "output_type": "display_data"
    }
   ],
   "source": [
    "climate_trends_data.set_index('Date')[terms[0]].plot()"
   ]
  },
  {
   "cell_type": "markdown",
   "id": "utility-speed",
   "metadata": {},
   "source": [
    "### Choose features"
   ]
  },
  {
   "cell_type": "code",
   "execution_count": 20,
   "id": "graphic-cornell",
   "metadata": {},
   "outputs": [],
   "source": [
    "chosen_stock_features = ['Close', 'High',\n",
    " 'Low', \n",
    "'Open', 'Volume',\n",
    " 'HH', 'LL', 'AV',\n",
    " 'SMA', 'SD', \n",
    "#'WILLR',\n",
    " 'ATR', 'DMH', 'DML',\n",
    " 'EMA', \n",
    "'WMA', \n",
    "'BBHIGH',\n",
    " 'BBLOW', 'PERBHIGH', 'PERBLOW',\n",
    " 'TRIMA', 'RSI', \n",
    "#'DX',\n",
    " 'PDI', 'NDI', \n",
    "'ADX',\n",
    " 'ROC', 'MACD', 'CCI'\n",
    "                        ]\n",
    "# DX and WILLR can cause issues when stock prices don't change, results in lots of nan. "
   ]
  },
  {
   "cell_type": "code",
   "execution_count": 21,
   "id": "certain-arbor",
   "metadata": {},
   "outputs": [],
   "source": [
    "chosen_trend_terms = [\n",
    "    \"climate change\",\n",
    "    \"greenhouse gas\",\n",
    "    \"oil\",\n",
    "    \"renewable\",\n",
    "    \"carbon tax\",\n",
    "    \"electric vehicles\",\n",
    "#     \"environmental protection agency\",\n",
    "    \"fossil fuels\",\n",
    "#     \"fracking\",\n",
    "    \"global warming\",\n",
    "]"
   ]
  },
  {
   "cell_type": "markdown",
   "id": "latest-facility",
   "metadata": {},
   "source": [
    "# 2.0 Model design"
   ]
  },
  {
   "cell_type": "code",
   "execution_count": 22,
   "id": "solid-worse",
   "metadata": {},
   "outputs": [],
   "source": [
    "num_features = len(chosen_stock_features) + len(chosen_trend_terms) "
   ]
  },
  {
   "cell_type": "code",
   "execution_count": 23,
   "id": "noble-instrument",
   "metadata": {},
   "outputs": [],
   "source": [
    "reg = 0.002\n",
    "drop=0.25\n",
    "\n",
    "model = Sequential()\n",
    "model.add(LSTM(units=75, input_shape=(trail_size, num_features), return_sequences=True, activity_regularizer=l2(reg)))\n",
    "model.add(Dropout(drop))\n",
    "model.add(LSTM(units=30, return_sequences=True, activity_regularizer=l2(reg)))\n",
    "model.add(Dropout(drop))\n",
    "\n",
    "model.add(LSTM(units=30, return_sequences=True, activity_regularizer=l2(reg)))\n",
    "model.add(Dropout(drop))\n",
    "\n",
    "model.add(LSTM(units=30, return_sequences=True, activity_regularizer=l2(reg)))\n",
    "model.add(Dropout(drop))\n",
    "\n",
    "model.add(Flatten())\n",
    "\n",
    "model.add(Dense(5, activation='relu', activity_regularizer=l2(reg)))\n",
    "model.add(Dropout(drop))\n",
    "\n",
    "\n",
    "model.add(Dense(1, activation='sigmoid'))"
   ]
  },
  {
   "cell_type": "code",
   "execution_count": 24,
   "id": "different-compatibility",
   "metadata": {},
   "outputs": [
    {
     "name": "stdout",
     "output_type": "stream",
     "text": [
      "Model: \"sequential\"\n",
      "_________________________________________________________________\n",
      "Layer (type)                 Output Shape              Param #   \n",
      "=================================================================\n",
      "lstm (LSTM)                  (None, 14, 75)            33300     \n",
      "_________________________________________________________________\n",
      "dropout (Dropout)            (None, 14, 75)            0         \n",
      "_________________________________________________________________\n",
      "lstm_1 (LSTM)                (None, 14, 30)            12720     \n",
      "_________________________________________________________________\n",
      "dropout_1 (Dropout)          (None, 14, 30)            0         \n",
      "_________________________________________________________________\n",
      "lstm_2 (LSTM)                (None, 14, 30)            7320      \n",
      "_________________________________________________________________\n",
      "dropout_2 (Dropout)          (None, 14, 30)            0         \n",
      "_________________________________________________________________\n",
      "lstm_3 (LSTM)                (None, 14, 30)            7320      \n",
      "_________________________________________________________________\n",
      "dropout_3 (Dropout)          (None, 14, 30)            0         \n",
      "_________________________________________________________________\n",
      "flatten (Flatten)            (None, 420)               0         \n",
      "_________________________________________________________________\n",
      "dense (Dense)                (None, 5)                 2105      \n",
      "_________________________________________________________________\n",
      "dropout_4 (Dropout)          (None, 5)                 0         \n",
      "_________________________________________________________________\n",
      "dense_1 (Dense)              (None, 1)                 6         \n",
      "=================================================================\n",
      "Total params: 62,771\n",
      "Trainable params: 62,771\n",
      "Non-trainable params: 0\n",
      "_________________________________________________________________\n"
     ]
    }
   ],
   "source": [
    "model.summary()"
   ]
  },
  {
   "cell_type": "markdown",
   "id": "western-symphony",
   "metadata": {},
   "source": [
    "# 3.0 Prepare dataset of many stocks"
   ]
  },
  {
   "cell_type": "code",
   "execution_count": 25,
   "id": "least-baker",
   "metadata": {},
   "outputs": [],
   "source": [
    "x_train, y_train, x_valid, y_valid, x_test, y_test = generate_dataset(dataset, \n",
    "                                                                           climate_trends_data,\n",
    "                                                                           ev_battery_stocks + green_energy_stocks,\n",
    "                                                                           \"2018-03-01\", \"2019-03-01\", \"2020-03-01\", \n",
    "                                                                           chosen_stock_features, chosen_trend_terms,\n",
    "                                                                            trail_size, predict_length\n",
    "                                                                           )"
   ]
  },
  {
   "cell_type": "code",
   "execution_count": 26,
   "id": "convinced-reggae",
   "metadata": {},
   "outputs": [
    {
     "name": "stdout",
     "output_type": "stream",
     "text": [
      "x_train: (6174, 14, 35)\n",
      "y_train: (6174,)\n",
      "x_valid: (2043, 14, 35)\n",
      "y_valid (2043,)\n",
      "x_test: (2052, 14, 35)\n",
      "y_test (2052,)\n"
     ]
    }
   ],
   "source": [
    "print(\"x_train: {}\".format(x_train.shape))\n",
    "print(\"y_train: {}\".format(y_train.shape))\n",
    "print(\"x_valid: {}\".format(x_valid.shape))\n",
    "print(\"y_valid {}\".format(y_valid.shape))\n",
    "print(\"x_test: {}\".format(x_test.shape))\n",
    "print(\"y_test {}\".format(y_test.shape))"
   ]
  },
  {
   "cell_type": "markdown",
   "id": "distinguished-polish",
   "metadata": {},
   "source": [
    "## 3.1 Train on many stocks"
   ]
  },
  {
   "cell_type": "code",
   "execution_count": 27,
   "id": "working-uganda",
   "metadata": {},
   "outputs": [],
   "source": [
    "time_stamp = time()\n",
    "tensorboard = TensorBoard(log_dir='logs/{}'.format(time_stamp))"
   ]
  },
  {
   "cell_type": "code",
   "execution_count": 28,
   "id": "acting-holiday",
   "metadata": {},
   "outputs": [],
   "source": [
    "model.compile(optimizer='adam', loss='binary_crossentropy', metrics='accuracy')"
   ]
  },
  {
   "cell_type": "code",
   "execution_count": 29,
   "id": "broke-blank",
   "metadata": {},
   "outputs": [
    {
     "name": "stdout",
     "output_type": "stream",
     "text": [
      "Epoch 1/15\n",
      "97/97 [==============================] - 11s 48ms/step - loss: 0.8825 - accuracy: 0.5071 - val_loss: 0.6991 - val_accuracy: 0.5839\n",
      "Epoch 2/15\n",
      "97/97 [==============================] - 2s 16ms/step - loss: 0.6930 - accuracy: 0.5219 - val_loss: 0.6920 - val_accuracy: 0.5839\n",
      "Epoch 3/15\n",
      "97/97 [==============================] - 2s 16ms/step - loss: 0.6925 - accuracy: 0.5252 - val_loss: 0.6912 - val_accuracy: 0.5839\n",
      "Epoch 4/15\n",
      "97/97 [==============================] - 2s 16ms/step - loss: 0.6932 - accuracy: 0.5122 - val_loss: 0.6901 - val_accuracy: 0.5839\n",
      "Epoch 5/15\n",
      "97/97 [==============================] - 1s 15ms/step - loss: 0.6925 - accuracy: 0.5195 - val_loss: 0.6902 - val_accuracy: 0.5839\n",
      "Epoch 6/15\n",
      "97/97 [==============================] - 1s 15ms/step - loss: 0.6929 - accuracy: 0.5131 - val_loss: 0.6904 - val_accuracy: 0.5839\n",
      "Epoch 7/15\n",
      "97/97 [==============================] - 1s 15ms/step - loss: 0.6918 - accuracy: 0.5301 - val_loss: 0.6910 - val_accuracy: 0.5839\n",
      "Epoch 8/15\n",
      "97/97 [==============================] - 1s 15ms/step - loss: 0.6929 - accuracy: 0.5085 - val_loss: 0.6955 - val_accuracy: 0.5839\n",
      "Epoch 9/15\n",
      "97/97 [==============================] - 1s 15ms/step - loss: 0.6937 - accuracy: 0.5148 - val_loss: 0.6903 - val_accuracy: 0.5839\n",
      "Epoch 10/15\n",
      "97/97 [==============================] - 2s 16ms/step - loss: 0.6938 - accuracy: 0.5047 - val_loss: 0.6898 - val_accuracy: 0.5839\n",
      "Epoch 11/15\n",
      "97/97 [==============================] - 1s 15ms/step - loss: 0.6925 - accuracy: 0.5201 - val_loss: 0.6894 - val_accuracy: 0.5839\n",
      "Epoch 12/15\n",
      "97/97 [==============================] - 2s 16ms/step - loss: 0.6930 - accuracy: 0.5119 - val_loss: 0.6887 - val_accuracy: 0.5839\n",
      "Epoch 13/15\n",
      "97/97 [==============================] - 1s 15ms/step - loss: 0.6933 - accuracy: 0.5080 - val_loss: 0.6882 - val_accuracy: 0.5839\n",
      "Epoch 14/15\n",
      "97/97 [==============================] - 1s 15ms/step - loss: 0.6923 - accuracy: 0.5205 - val_loss: 0.6886 - val_accuracy: 0.5839\n",
      "Epoch 15/15\n",
      "97/97 [==============================] - 1s 15ms/step - loss: 0.6927 - accuracy: 0.5151 - val_loss: 0.6881 - val_accuracy: 0.5839\n"
     ]
    }
   ],
   "source": [
    "history1 = model.fit(x_train, \n",
    "                     y_train, \n",
    "                     epochs=15, \n",
    "                     validation_data=(x_valid, y_valid), \n",
    "                     batch_size=64, \n",
    "                     shuffle=True, \n",
    "                     callbacks=[tensorboard])"
   ]
  },
  {
   "cell_type": "code",
   "execution_count": 30,
   "id": "remarkable-senate",
   "metadata": {},
   "outputs": [
    {
     "data": {
      "image/png": "[encoded data removed]",
      "text/plain": [
       "<Figure size 576x432 with 1 Axes>"
      ]
     },
     "metadata": {
      "needs_background": "light"
     },
     "output_type": "display_data"
    }
   ],
   "source": [
    "plot_loss(history1)"
   ]
  },
  {
   "cell_type": "code",
   "execution_count": 31,
   "id": "requested-launch",
   "metadata": {},
   "outputs": [
    {
     "data": {
      "image/png": "[encoded data removed]",
      "text/plain": [
       "<Figure size 576x432 with 1 Axes>"
      ]
     },
     "metadata": {
      "needs_background": "light"
     },
     "output_type": "display_data"
    }
   ],
   "source": [
    "plot_acc(history1)"
   ]
  },
  {
   "cell_type": "markdown",
   "id": "concerned-suite",
   "metadata": {},
   "source": [
    "## 3.2 Performance of model"
   ]
  },
  {
   "cell_type": "code",
   "execution_count": 32,
   "id": "blessed-probe",
   "metadata": {},
   "outputs": [
    {
     "name": "stdout",
     "output_type": "stream",
     "text": [
      "Upward ratio: 48.02%\n",
      "Mean prediction: 47.93%\n",
      "Predicted upward ratio: 0.00%\n",
      "Accuracy: 51.98%\n"
     ]
    }
   ],
   "source": [
    "performance_stats(model, x_train, y_train)"
   ]
  },
  {
   "cell_type": "code",
   "execution_count": 33,
   "id": "lesser-repair",
   "metadata": {},
   "outputs": [
    {
     "name": "stdout",
     "output_type": "stream",
     "text": [
      "Upward ratio: 41.61%\n",
      "Mean prediction: 48.01%\n",
      "Predicted upward ratio: 0.00%\n",
      "Accuracy: 58.39%\n"
     ]
    }
   ],
   "source": [
    "performance_stats(model, x_valid, y_valid)"
   ]
  },
  {
   "cell_type": "code",
   "execution_count": 34,
   "id": "through-prevention",
   "metadata": {
    "scrolled": false
   },
   "outputs": [
    {
     "name": "stdout",
     "output_type": "stream",
     "text": [
      "Upward ratio: 50.15%\n",
      "Mean prediction: 48.02%\n",
      "Predicted upward ratio: 0.00%\n",
      "Accuracy: 49.85%\n"
     ]
    }
   ],
   "source": [
    "performance_stats(model, x_test, y_test)"
   ]
  },
  {
   "cell_type": "markdown",
   "id": "complete-riverside",
   "metadata": {},
   "source": [
    "# 4.0 Prepare data for less stocks"
   ]
  },
  {
   "cell_type": "code",
   "execution_count": 35,
   "id": "wireless-bosnia",
   "metadata": {},
   "outputs": [],
   "source": [
    "x_train2, y_train2, x_valid2, y_valid2, x_test2, y_test2 = generate_dataset(dataset, \n",
    "                                                                           climate_trends_data,\n",
    "                                                                           ev_battery_stocks,\n",
    "                                                                           \"2018-03-01\", \"2019-03-01\", \"2020-03-01\", \n",
    "                                                                           chosen_stock_features, chosen_trend_terms,\n",
    "                                                                            trail_size, predict_length\n",
    "                                                                           )"
   ]
  },
  {
   "cell_type": "code",
   "execution_count": 36,
   "id": "injured-warren",
   "metadata": {},
   "outputs": [
    {
     "name": "stdout",
     "output_type": "stream",
     "text": [
      "x_train: (6174, 14, 35)\n",
      "y_train: (6174,)\n",
      "x_valid: (2043, 14, 35)\n",
      "y_valid (2043,)\n",
      "x_test: (2052, 14, 35)\n",
      "y_test (2052,)\n"
     ]
    }
   ],
   "source": [
    "print(\"x_train: {}\".format(x_train2.shape))\n",
    "print(\"y_train: {}\".format(y_train2.shape))\n",
    "print(\"x_valid: {}\".format(x_valid2.shape))\n",
    "print(\"y_valid {}\".format(y_valid2.shape))\n",
    "print(\"x_test: {}\".format(x_test2.shape))\n",
    "print(\"y_test {}\".format(y_test2.shape))"
   ]
  },
  {
   "cell_type": "markdown",
   "id": "meaningful-wallet",
   "metadata": {},
   "source": [
    "## 4.1 Train model on less stocks"
   ]
  },
  {
   "cell_type": "code",
   "execution_count": 37,
   "id": "severe-slovakia",
   "metadata": {},
   "outputs": [],
   "source": [
    "# model.layers[7].trainable = False\n",
    "# model.layers[4].trainable = False\n",
    "# model.layers[2].trainable = False\n",
    "# model.layers[0].trainable = False"
   ]
  },
  {
   "cell_type": "code",
   "execution_count": 38,
   "id": "existing-luther",
   "metadata": {},
   "outputs": [],
   "source": [
    "model.compile(optimizer='adam', loss='binary_crossentropy', metrics=['accuracy'])"
   ]
  },
  {
   "cell_type": "code",
   "execution_count": 39,
   "id": "academic-negative",
   "metadata": {},
   "outputs": [],
   "source": [
    "tensorboard = TensorBoard(log_dir='logs/{}_2'.format(time_stamp))"
   ]
  },
  {
   "cell_type": "code",
   "execution_count": 40,
   "id": "relative-airplane",
   "metadata": {},
   "outputs": [
    {
     "name": "stdout",
     "output_type": "stream",
     "text": [
      "Epoch 1/15\n",
      "97/97 [==============================] - 11s 70ms/step - loss: 0.6917 - accuracy: 0.5185 - val_loss: 0.6894 - val_accuracy: 0.5839\n",
      "Epoch 2/15\n",
      "97/97 [==============================] - 1s 14ms/step - loss: 0.6900 - accuracy: 0.5258 - val_loss: 0.6907 - val_accuracy: 0.5844\n",
      "Epoch 3/15\n",
      "97/97 [==============================] - 1s 15ms/step - loss: 0.6898 - accuracy: 0.5281 - val_loss: 0.6908 - val_accuracy: 0.5849\n",
      "Epoch 4/15\n",
      "97/97 [==============================] - 1s 15ms/step - loss: 0.6888 - accuracy: 0.5274 - val_loss: 0.6912 - val_accuracy: 0.5849\n",
      "Epoch 5/15\n",
      "97/97 [==============================] - 1s 14ms/step - loss: 0.6891 - accuracy: 0.5147 - val_loss: 0.6945 - val_accuracy: 0.5732\n",
      "Epoch 6/15\n",
      "97/97 [==============================] - 1s 14ms/step - loss: 0.6899 - accuracy: 0.5253 - val_loss: 0.6918 - val_accuracy: 0.5815\n",
      "Epoch 7/15\n",
      "97/97 [==============================] - 1s 15ms/step - loss: 0.6895 - accuracy: 0.5223 - val_loss: 0.6904 - val_accuracy: 0.5820\n",
      "Epoch 8/15\n",
      "97/97 [==============================] - 1s 15ms/step - loss: 0.6875 - accuracy: 0.5312 - val_loss: 0.6901 - val_accuracy: 0.5869\n",
      "Epoch 9/15\n",
      "97/97 [==============================] - 1s 14ms/step - loss: 0.6877 - accuracy: 0.5315 - val_loss: 0.6922 - val_accuracy: 0.5551\n",
      "Epoch 10/15\n",
      "97/97 [==============================] - 1s 15ms/step - loss: 0.6889 - accuracy: 0.5137 - val_loss: 0.6936 - val_accuracy: 0.5844\n",
      "Epoch 11/15\n",
      "97/97 [==============================] - 1s 15ms/step - loss: 0.6870 - accuracy: 0.5241 - val_loss: 0.6914 - val_accuracy: 0.5844\n",
      "Epoch 12/15\n",
      "97/97 [==============================] - 1s 14ms/step - loss: 0.6877 - accuracy: 0.5134 - val_loss: 0.6912 - val_accuracy: 0.5849\n",
      "Epoch 13/15\n",
      "97/97 [==============================] - 1s 15ms/step - loss: 0.6851 - accuracy: 0.5310 - val_loss: 0.7027 - val_accuracy: 0.6021\n",
      "Epoch 14/15\n",
      "97/97 [==============================] - 1s 14ms/step - loss: 0.6833 - accuracy: 0.5321 - val_loss: 0.7129 - val_accuracy: 0.5830\n",
      "Epoch 15/15\n",
      "97/97 [==============================] - 1s 15ms/step - loss: 0.6884 - accuracy: 0.5176 - val_loss: 0.7093 - val_accuracy: 0.5306\n"
     ]
    }
   ],
   "source": [
    "history2 = model.fit(x_train2, \n",
    "                     y_train2, \n",
    "                     epochs=15, \n",
    "                     validation_data=(x_valid2, y_valid2), \n",
    "                     batch_size=64, \n",
    "                     shuffle=True, \n",
    "                     callbacks=[tensorboard])"
   ]
  },
  {
   "cell_type": "code",
   "execution_count": 41,
   "id": "sustainable-thomas",
   "metadata": {},
   "outputs": [
    {
     "data": {
      "image/png": "[encoded data removed]",
      "text/plain": [
       "<Figure size 576x432 with 1 Axes>"
      ]
     },
     "metadata": {
      "needs_background": "light"
     },
     "output_type": "display_data"
    }
   ],
   "source": [
    "plot_loss(history2)"
   ]
  },
  {
   "cell_type": "code",
   "execution_count": 42,
   "id": "regulation-alberta",
   "metadata": {},
   "outputs": [
    {
     "data": {
      "image/png": "[encoded data removed]",
      "text/plain": [
       "<Figure size 576x432 with 1 Axes>"
      ]
     },
     "metadata": {
      "needs_background": "light"
     },
     "output_type": "display_data"
    }
   ],
   "source": [
    "plot_acc(history2)"
   ]
  },
  {
   "cell_type": "markdown",
   "id": "quality-barbados",
   "metadata": {},
   "source": [
    "## 4.2 Performance of model"
   ]
  },
  {
   "cell_type": "code",
   "execution_count": 43,
   "id": "opening-today",
   "metadata": {},
   "outputs": [
    {
     "name": "stdout",
     "output_type": "stream",
     "text": [
      "Upward ratio: 48.02%\n",
      "Mean prediction: 50.35%\n",
      "Predicted upward ratio: 78.25%\n",
      "Accuracy: 54.16%\n"
     ]
    }
   ],
   "source": [
    "performance_stats(model, x_train2, y_train2)"
   ]
  },
  {
   "cell_type": "code",
   "execution_count": 44,
   "id": "unauthorized-substance",
   "metadata": {},
   "outputs": [
    {
     "name": "stdout",
     "output_type": "stream",
     "text": [
      "Upward ratio: 41.61%\n",
      "Mean prediction: 49.47%\n",
      "Predicted upward ratio: 41.36%\n",
      "Accuracy: 53.06%\n"
     ]
    }
   ],
   "source": [
    "performance_stats(model, x_valid2, y_valid2)"
   ]
  },
  {
   "cell_type": "code",
   "execution_count": 45,
   "id": "expressed-transaction",
   "metadata": {
    "scrolled": false
   },
   "outputs": [
    {
     "name": "stdout",
     "output_type": "stream",
     "text": [
      "Upward ratio: 50.15%\n",
      "Mean prediction: 48.00%\n",
      "Predicted upward ratio: 48.20%\n",
      "Accuracy: 52.83%\n"
     ]
    }
   ],
   "source": [
    "performance_stats(model, x_test2, y_test2)"
   ]
  },
  {
   "cell_type": "code",
   "execution_count": 78,
   "id": "billion-colorado",
   "metadata": {
    "scrolled": false
   },
   "outputs": [
    {
     "data": {
      "text/plain": [
       "Text(0.5, 1.0, 'Testing confusion matrix')"
      ]
     },
     "execution_count": 78,
     "metadata": {},
     "output_type": "execute_result"
    },
    {
     "data": {
      "image/png": "[encoded data removed]",
      "text/plain": [
       "<Figure size 432x288 with 2 Axes>"
      ]
     },
     "metadata": {
      "needs_background": "light"
     },
     "output_type": "display_data"
    }
   ],
   "source": [
    "cm = confusion_matrix(y_true=y_test2, \n",
    "                      y_pred=model.predict(x_test2)>0.5)\n",
    "\n",
    "ConfusionMatrixDisplay(cm).plot(cmap=\"Blues\")\n",
    "plt.title(\"Testing confusion matrix\")"
   ]
  },
  {
   "cell_type": "code",
   "execution_count": 79,
   "id": "disturbed-target",
   "metadata": {
    "scrolled": false
   },
   "outputs": [
    {
     "name": "stdout",
     "output_type": "stream",
     "text": [
      "              precision    recall  f1-score   support\n",
      "\n",
      "           0       0.49      0.23      0.31      1023\n",
      "           1       0.50      0.77      0.60      1029\n",
      "\n",
      "    accuracy                           0.50      2052\n",
      "   macro avg       0.49      0.50      0.46      2052\n",
      "weighted avg       0.49      0.50      0.46      2052\n",
      "\n"
     ]
    }
   ],
   "source": [
    "print(classification_report(y_true = y_test2,\n",
    "                     y_pred = model.predict(x_test2)>0.5))"
   ]
  },
  {
   "cell_type": "markdown",
   "id": "furnished-ghana",
   "metadata": {},
   "source": [
    "# 5.0 Prepare data for one stock"
   ]
  },
  {
   "cell_type": "code",
   "execution_count": 46,
   "id": "apart-tuning",
   "metadata": {},
   "outputs": [
    {
     "data": {
      "text/plain": [
       "'TSLA'"
      ]
     },
     "execution_count": 46,
     "metadata": {},
     "output_type": "execute_result"
    }
   ],
   "source": [
    "ev_battery_stocks[0]"
   ]
  },
  {
   "cell_type": "code",
   "execution_count": 47,
   "id": "banned-momentum",
   "metadata": {},
   "outputs": [],
   "source": [
    "x_train3, y_train3, x_valid3, y_valid3, x_test3, y_test3 = generate_dataset(dataset, \n",
    "                                                                           climate_trends_data,\n",
    "                                                                           [ev_battery_stocks[0]],\n",
    "                                                                           \"2018-03-01\", \"2019-03-01\", \"2020-03-01\", \n",
    "                                                                           chosen_stock_features, chosen_trend_terms,\n",
    "                                                                            trail_size, predict_length\n",
    "                                                                           )"
   ]
  },
  {
   "cell_type": "code",
   "execution_count": 48,
   "id": "honey-evidence",
   "metadata": {},
   "outputs": [
    {
     "name": "stdout",
     "output_type": "stream",
     "text": [
      "x_train: (686, 14, 35)\n",
      "y_train: (686,)\n",
      "x_valid: (227, 14, 35)\n",
      "y_valid (227,)\n",
      "x_test: (228, 14, 35)\n",
      "y_test (228,)\n"
     ]
    }
   ],
   "source": [
    "print(\"x_train: {}\".format(x_train3.shape))\n",
    "print(\"y_train: {}\".format(y_train3.shape))\n",
    "print(\"x_valid: {}\".format(x_valid3.shape))\n",
    "print(\"y_valid {}\".format(y_valid3.shape))\n",
    "print(\"x_test: {}\".format(x_test3.shape))\n",
    "print(\"y_test {}\".format(y_test3.shape))"
   ]
  },
  {
   "cell_type": "markdown",
   "id": "negative-yukon",
   "metadata": {},
   "source": [
    "## 5.1 Train model on less stocks"
   ]
  },
  {
   "cell_type": "code",
   "execution_count": 49,
   "id": "located-absolute",
   "metadata": {},
   "outputs": [],
   "source": [
    "# model.layers[7].trainable = False\n",
    "# model.layers[4].trainable = False\n",
    "# model.layers[2].trainable = False\n",
    "# model.layers[0].trainable = False"
   ]
  },
  {
   "cell_type": "code",
   "execution_count": 50,
   "id": "annual-bonus",
   "metadata": {},
   "outputs": [],
   "source": [
    "model.compile(optimizer='adam', loss='binary_crossentropy', metrics=['accuracy'])"
   ]
  },
  {
   "cell_type": "code",
   "execution_count": 51,
   "id": "purple-logging",
   "metadata": {},
   "outputs": [],
   "source": [
    "tensorboard = TensorBoard(log_dir='logs/{}_3'.format(time_stamp))"
   ]
  },
  {
   "cell_type": "code",
   "execution_count": 52,
   "id": "nominated-montreal",
   "metadata": {},
   "outputs": [
    {
     "name": "stdout",
     "output_type": "stream",
     "text": [
      "Epoch 1/5\n",
      "11/11 [==============================] - 10s 606ms/step - loss: 0.6791 - accuracy: 0.5590 - val_loss: 0.7269 - val_accuracy: 0.5198\n",
      "Epoch 2/5\n",
      "11/11 [==============================] - 0s 18ms/step - loss: 0.6562 - accuracy: 0.5973 - val_loss: 0.7549 - val_accuracy: 0.5110\n",
      "Epoch 3/5\n",
      "11/11 [==============================] - 0s 17ms/step - loss: 0.6496 - accuracy: 0.6078 - val_loss: 0.8007 - val_accuracy: 0.5286\n",
      "Epoch 4/5\n",
      "11/11 [==============================] - 0s 18ms/step - loss: 0.6270 - accuracy: 0.6253 - val_loss: 0.8854 - val_accuracy: 0.5374\n",
      "Epoch 5/5\n",
      "11/11 [==============================] - 0s 18ms/step - loss: 0.6078 - accuracy: 0.6757 - val_loss: 0.9577 - val_accuracy: 0.5110\n"
     ]
    }
   ],
   "source": [
    "history3 = model.fit(x_train3, \n",
    "                     y_train3, \n",
    "                     epochs=5, \n",
    "                     validation_data=(x_valid3, y_valid3), \n",
    "                     batch_size=64, \n",
    "                     shuffle=True, \n",
    "                     callbacks=[tensorboard])"
   ]
  },
  {
   "cell_type": "code",
   "execution_count": 53,
   "id": "stable-taiwan",
   "metadata": {},
   "outputs": [
    {
     "data": {
      "image/png": "[encoded data removed]",
      "text/plain": [
       "<Figure size 576x432 with 1 Axes>"
      ]
     },
     "metadata": {
      "needs_background": "light"
     },
     "output_type": "display_data"
    }
   ],
   "source": [
    "plot_loss(history3)"
   ]
  },
  {
   "cell_type": "code",
   "execution_count": 54,
   "id": "adopted-member",
   "metadata": {},
   "outputs": [
    {
     "data": {
      "image/png": "[encoded data removed]",
      "text/plain": [
       "<Figure size 576x432 with 1 Axes>"
      ]
     },
     "metadata": {
      "needs_background": "light"
     },
     "output_type": "display_data"
    }
   ],
   "source": [
    "plot_acc(history3)"
   ]
  },
  {
   "cell_type": "markdown",
   "id": "billion-fossil",
   "metadata": {},
   "source": [
    "## 5.2 Performance of model"
   ]
  },
  {
   "cell_type": "code",
   "execution_count": 55,
   "id": "affiliated-particular",
   "metadata": {},
   "outputs": [
    {
     "name": "stdout",
     "output_type": "stream",
     "text": [
      "Upward ratio: 55.69%\n",
      "Mean prediction: 56.80%\n",
      "Predicted upward ratio: 76.53%\n",
      "Accuracy: 68.95%\n"
     ]
    }
   ],
   "source": [
    "performance_stats(model, x_train3, y_train3)"
   ]
  },
  {
   "cell_type": "code",
   "execution_count": 56,
   "id": "agricultural-palestine",
   "metadata": {},
   "outputs": [
    {
     "name": "stdout",
     "output_type": "stream",
     "text": [
      "Upward ratio: 54.63%\n",
      "Mean prediction: 70.95%\n",
      "Predicted upward ratio: 85.02%\n",
      "Accuracy: 51.10%\n"
     ]
    }
   ],
   "source": [
    "performance_stats(model, x_valid3, y_valid3)"
   ]
  },
  {
   "cell_type": "code",
   "execution_count": 57,
   "id": "sound-alexandria",
   "metadata": {
    "scrolled": false
   },
   "outputs": [
    {
     "name": "stdout",
     "output_type": "stream",
     "text": [
      "Upward ratio: 63.60%\n",
      "Mean prediction: 66.40%\n",
      "Predicted upward ratio: 80.26%\n",
      "Accuracy: 57.89%\n"
     ]
    }
   ],
   "source": [
    "performance_stats(model, x_test3, y_test3)"
   ]
  },
  {
   "cell_type": "code",
   "execution_count": 74,
   "id": "painted-diagram",
   "metadata": {
    "scrolled": false
   },
   "outputs": [
    {
     "data": {
      "text/plain": [
       "Text(0.5, 1.0, 'Testing confusion matrix')"
      ]
     },
     "execution_count": 74,
     "metadata": {},
     "output_type": "execute_result"
    },
    {
     "data": {
      "image/png": "[encoded data removed]",
      "text/plain": [
       "<Figure size 432x288 with 2 Axes>"
      ]
     },
     "metadata": {
      "needs_background": "light"
     },
     "output_type": "display_data"
    }
   ],
   "source": [
    "cm = confusion_matrix(y_true=y_test3, \n",
    "                      y_pred=model.predict(x_test3)>0.5)\n",
    "\n",
    "ConfusionMatrixDisplay(cm).plot(cmap=\"Blues\")\n",
    "plt.title(\"Testing confusion matrix\")"
   ]
  },
  {
   "cell_type": "code",
   "execution_count": 77,
   "id": "accompanied-arkansas",
   "metadata": {
    "scrolled": false
   },
   "outputs": [
    {
     "name": "stdout",
     "output_type": "stream",
     "text": [
      "              precision    recall  f1-score   support\n",
      "\n",
      "           0       0.36      0.19      0.25        83\n",
      "           1       0.63      0.80      0.71       145\n",
      "\n",
      "    accuracy                           0.58       228\n",
      "   macro avg       0.49      0.50      0.48       228\n",
      "weighted avg       0.53      0.58      0.54       228\n",
      "\n"
     ]
    }
   ],
   "source": [
    "print(classification_report(y_true = y_test3,\n",
    "                     y_pred = model.predict(x_test3)>0.5))"
   ]
  },
  {
   "cell_type": "code",
   "execution_count": null,
   "id": "intensive-sustainability",
   "metadata": {},
   "outputs": [],
   "source": []
  }
 ],
 "metadata": {
  "kernelspec": {
   "display_name": "Python 3",
   "language": "python",
   "name": "python3"
  },
  "language_info": {
   "codemirror_mode": {
    "name": "ipython",
    "version": 3
   },
   "file_extension": ".py",
   "mimetype": "text/x-python",
   "name": "python",
   "nbconvert_exporter": "python",
   "pygments_lexer": "ipython3",
   "version": "3.8.5"
  }
 },
 "nbformat": 4,
 "nbformat_minor": 5
}
