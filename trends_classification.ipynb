{
 "cells": [
  {
   "cell_type": "markdown",
   "id": "warming-board",
   "metadata": {},
   "source": [
    "# Trend Classification with LSTM"
   ]
  },
  {
   "cell_type": "markdown",
   "id": "eligible-stream",
   "metadata": {},
   "source": [
    "### Imports"
   ]
  },
  {
   "cell_type": "code",
   "execution_count": 1,
   "id": "christian-given",
   "metadata": {},
   "outputs": [
    {
     "data": {
      "text/html": [
       "<style>.container { width:100% !important; }</style>"
      ],
      "text/plain": [
       "<IPython.core.display.HTML object>"
      ]
     },
     "metadata": {},
     "output_type": "display_data"
    }
   ],
   "source": [
    "import os, sys\n",
    "import pandas as pd\n",
    "import numpy as np\n",
    "import yfinance as yf\n",
    "import matplotlib.pyplot as plt\n",
    "import seaborn as sns\n",
    "import random\n",
    "\n",
    "import tensorflow as tf\n",
    "from tensorflow.keras import Input, Model\n",
    "from tensorflow.keras.models import Sequential\n",
    "from tensorflow.keras.layers import *\n",
    "from tensorflow.keras.losses import CategoricalCrossentropy\n",
    "from tensorflow.keras.utils import to_categorical, plot_model\n",
    "from tensorflow.keras.preprocessing.sequence import TimeseriesGenerator\n",
    "from sklearn.metrics import confusion_matrix, mean_squared_error\n",
    "from sklearn.feature_extraction.text import CountVectorizer\n",
    "from sklearn.preprocessing import StandardScaler, MinMaxScaler, RobustScaler\n",
    "\n",
    "from time import time\n",
    "from tensorflow.python.keras.callbacks import TensorBoard\n",
    "import warnings\n",
    "warnings.simplefilter(\"ignore\")\n",
    "\n",
    "from indicators import *\n",
    "from data_loading import *\n",
    "from util_functions import *\n",
    "\n",
    "\n",
    "physical_devices = tf.config.list_physical_devices('GPU')\n",
    "tf.config.experimental.set_memory_growth(physical_devices[0], enable=True)\n",
    "\n",
    "from IPython.core.display import display, HTML\n",
    "display(HTML(\"<style>.container { width:100% !important; }</style>\"))\n",
    "\n",
    "pd.set_option('display.max_rows', 500)\n",
    "pd.set_option('display.max_columns', 500)\n",
    "pd.set_option('display.width', 1000)\n"
   ]
  },
  {
   "cell_type": "markdown",
   "id": "protecting-separation",
   "metadata": {},
   "source": [
    "### Parameters"
   ]
  },
  {
   "cell_type": "code",
   "execution_count": 2,
   "id": "running-channels",
   "metadata": {},
   "outputs": [],
   "source": [
    "trail_size=14\n",
    "predict_length = 5\n",
    "time_period = '6y'"
   ]
  },
  {
   "cell_type": "markdown",
   "id": "printable-thesis",
   "metadata": {},
   "source": [
    "# 1.0 Load data"
   ]
  },
  {
   "cell_type": "code",
   "execution_count": 3,
   "id": "deadly-costume",
   "metadata": {},
   "outputs": [],
   "source": [
    "top_energy = [\"XOM\", \"CVX\", \"RDS-A\", \"RDS-B\", \"PTR\", \"TOT\", \"BP\",\n",
    "\"SNP\", \"ENB\", \"COP\", \"EQNR\", \"PBR-A\", \"PBR\", \"EPD\",\n",
    "\"TRP\", \"E\", \"EOG\", \"SLB\", \"KMI\", \"PSX\", \"CNQ\",\n",
    "\"MPC\", \"PXD\", \"SU\", \"VLO\"]"
   ]
  },
  {
   "cell_type": "code",
   "execution_count": 4,
   "id": "dramatic-syndrome",
   "metadata": {},
   "outputs": [],
   "source": [
    "traditional_energy_stocks = [\n",
    "    \"LNG\",\n",
    "    \"OKE\",\n",
    "    \"BKR\",\n",
    "    \"WMB\",\n",
    "    \"EQT\", \n",
    "    \"XEC\", \n",
    "    \"XOM\", \n",
    "    \"CVX\", \n",
    "    \"BP\", \n",
    "    \"OXY\", \n",
    "    \"COP\", \n",
    "    \"EOG\", \n",
    "    \"COG\", \n",
    "    \"CNQ\", \n",
    "    \"SLB\", \n",
    "    \"PTR\", \n",
    "    \"TOT\", \n",
    "    \"ENB\",  \n",
    "]"
   ]
  },
  {
   "cell_type": "code",
   "execution_count": 5,
   "id": "finnish-junction",
   "metadata": {},
   "outputs": [
    {
     "name": "stdout",
     "output_type": "stream",
     "text": [
      "[*********************100%***********************]  18 of 18 completed\n"
     ]
    }
   ],
   "source": [
    "data = get_data_yf(traditional_energy_stocks, time_period)"
   ]
  },
  {
   "cell_type": "code",
   "execution_count": 6,
   "id": "crucial-pursuit",
   "metadata": {},
   "outputs": [
    {
     "data": {
      "text/plain": [
       "0"
      ]
     },
     "execution_count": 6,
     "metadata": {},
     "output_type": "execute_result"
    }
   ],
   "source": [
    "data.isna().sum().sum()"
   ]
  },
  {
   "cell_type": "code",
   "execution_count": 7,
   "id": "technological-circulation",
   "metadata": {},
   "outputs": [],
   "source": [
    "data = process_stock_data_from_yf(data)"
   ]
  },
  {
   "cell_type": "code",
   "execution_count": 8,
   "id": "overhead-arcade",
   "metadata": {},
   "outputs": [
    {
     "data": {
      "text/plain": [
       "100.0"
      ]
     },
     "execution_count": 8,
     "metadata": {},
     "output_type": "execute_result"
    }
   ],
   "source": [
    "has_data_ratio, data = filter_has_all_data(data)\n",
    "has_data_ratio"
   ]
  },
  {
   "cell_type": "code",
   "execution_count": 9,
   "id": "rapid-netherlands",
   "metadata": {},
   "outputs": [],
   "source": [
    "### Compute technical indicators"
   ]
  },
  {
   "cell_type": "code",
   "execution_count": 10,
   "id": "handed-egyptian",
   "metadata": {},
   "outputs": [],
   "source": [
    "# compute all our technical markers for each of the stocks. \n",
    "dataset = data.groupby('Ticker').apply(lambda x: add_technical_markers(x, trail_size))"
   ]
  },
  {
   "cell_type": "code",
   "execution_count": 11,
   "id": "harmful-setup",
   "metadata": {},
   "outputs": [],
   "source": [
    "### Load climate trends data"
   ]
  },
  {
   "cell_type": "code",
   "execution_count": 12,
   "id": "fuzzy-maine",
   "metadata": {},
   "outputs": [],
   "source": [
    "filenames = [\n",
    "    \"data climate change adjusted.csv\",\n",
    "    \"data greenhouse gas adjusted.csv\",\n",
    "    \"data oil adjusted.csv\",\n",
    "    \"data renewable adjusted.csv\",\n",
    "    \"data carbon tax adjusted.csv\",\n",
    "    \"data electric vehicles adjusted.csv\",\n",
    "    \"data environmental protection agency adjusted.csv\",\n",
    "    \"data fossil fuels adjusted.csv\",\n",
    "    \"data fracking adjusted.csv\",\n",
    "    \"data global warming adjusted.csv\",\n",
    "]\n",
    "terms = [\n",
    "    \"climate change\",\n",
    "    \"greenhouse gas\",\n",
    "    \"oil\",\n",
    "    \"renewable\",\n",
    "    \"carbon tax\",\n",
    "    \"electric vehicles\",\n",
    "    \"environmental protection agency\",\n",
    "    \"fossil fuels\",\n",
    "    \"fracking\",\n",
    "    \"global warming\",\n",
    "]"
   ]
  },
  {
   "cell_type": "code",
   "execution_count": 13,
   "id": "resident-queue",
   "metadata": {},
   "outputs": [],
   "source": [
    "climate_trends_data = load_climate_data(filenames, terms)"
   ]
  },
  {
   "cell_type": "code",
   "execution_count": 14,
   "id": "classical-watts",
   "metadata": {},
   "outputs": [
    {
     "data": {
      "text/plain": [
       "(2278, 11)"
      ]
     },
     "execution_count": 14,
     "metadata": {},
     "output_type": "execute_result"
    }
   ],
   "source": [
    "climate_trends_data.shape"
   ]
  },
  {
   "cell_type": "code",
   "execution_count": 15,
   "id": "impressive-stretch",
   "metadata": {},
   "outputs": [],
   "source": [
    "num_climate_features = len(climate_trends_data.columns.tolist()) - 1 # minus date"
   ]
  },
  {
   "cell_type": "code",
   "execution_count": 16,
   "id": "cathedral-whole",
   "metadata": {},
   "outputs": [
    {
     "data": {
      "text/plain": [
       "<AxesSubplot:xlabel='Date'>"
      ]
     },
     "execution_count": 16,
     "metadata": {},
     "output_type": "execute_result"
    },
    {
     "data": {
      "image/png": "[encoded data removed]",
      "text/plain": [
       "<Figure size 432x288 with 1 Axes>"
      ]
     },
     "metadata": {
      "needs_background": "light"
     },
     "output_type": "display_data"
    }
   ],
   "source": [
    "climate_trends_data.set_index('Date')['climate change'].plot()"
   ]
  },
  {
   "cell_type": "markdown",
   "id": "graphic-barcelona",
   "metadata": {},
   "source": [
    "# 2.0 Prepare dataset of many stocks"
   ]
  },
  {
   "cell_type": "markdown",
   "id": "extended-vatican",
   "metadata": {},
   "source": [
    "### Choose technical features"
   ]
  },
  {
   "cell_type": "code",
   "execution_count": 17,
   "id": "textile-encyclopedia",
   "metadata": {},
   "outputs": [],
   "source": [
    "features = ['Close', 'High',\n",
    " 'Low', 'Open', 'Volume',\n",
    " 'HH', 'LL', 'AV',\n",
    " 'SMA', 'SD', 'WILLR',\n",
    " 'ATR', 'DMH', 'DML',\n",
    " 'EMA', 'WMA', 'BBHIGH',\n",
    " 'BBLOW', 'PERBHIGH', 'PERBLOW',\n",
    " 'TRIMA', 'RSI', 'DX',\n",
    " 'PDI', 'NDI', 'ADX',\n",
    " 'ROC', 'MACD', 'CCI']\n",
    "dataset = dataset[['Ticker', 'Date'] + features]\n",
    "num_features = len(features)"
   ]
  },
  {
   "cell_type": "markdown",
   "id": "educational-market",
   "metadata": {},
   "source": [
    "### Train test split"
   ]
  },
  {
   "cell_type": "code",
   "execution_count": 18,
   "id": "aboriginal-anderson",
   "metadata": {},
   "outputs": [],
   "source": [
    "train = dataset.loc[dataset['Date'] < \"2018-03-01\"]\n",
    "valid = dataset.loc[(dataset['Date'] > \"2018-03-13\") & (dataset['Date'] < \"2019-03-01\")]\n",
    "test = dataset.loc[(dataset['Date'] > \"2019-03-01\") & (dataset['Date'] < \"2020-03-01\")]"
   ]
  },
  {
   "cell_type": "code",
   "execution_count": 19,
   "id": "incredible-general",
   "metadata": {},
   "outputs": [
    {
     "data": {
      "text/plain": [
       "(13230, 31)"
      ]
     },
     "execution_count": 19,
     "metadata": {},
     "output_type": "execute_result"
    }
   ],
   "source": [
    "train.shape"
   ]
  },
  {
   "cell_type": "code",
   "execution_count": 20,
   "id": "blank-logan",
   "metadata": {},
   "outputs": [
    {
     "data": {
      "text/plain": [
       "(4518, 31)"
      ]
     },
     "execution_count": 20,
     "metadata": {},
     "output_type": "execute_result"
    }
   ],
   "source": [
    "test.shape"
   ]
  },
  {
   "cell_type": "markdown",
   "id": "supposed-missile",
   "metadata": {},
   "source": [
    "#### Per stock normalization\n",
    "We make sure to fit the transforms on the training, and\n",
    "apply them on training, validation, and test"
   ]
  },
  {
   "cell_type": "code",
   "execution_count": 21,
   "id": "remarkable-daisy",
   "metadata": {},
   "outputs": [],
   "source": [
    "scaler_models = norm_per_stock_split(train, valid, test, features, MinMaxScaler)"
   ]
  },
  {
   "cell_type": "markdown",
   "id": "practical-puzzle",
   "metadata": {},
   "source": [
    "### Merge in the climate data"
   ]
  },
  {
   "cell_type": "code",
   "execution_count": 22,
   "id": "colonial-pipeline",
   "metadata": {},
   "outputs": [],
   "source": [
    "train = train.merge(climate_trends_data, on=[\"Date\"], how='left')\n",
    "valid = valid.merge(climate_trends_data, on=[\"Date\"], how='left')\n",
    "test = test.merge(climate_trends_data, on=[\"Date\"], how='left')"
   ]
  },
  {
   "cell_type": "markdown",
   "id": "variable-victory",
   "metadata": {},
   "source": [
    "#### Prepare training inputs and outputs\n",
    "Convert the daily data points into a set of data points each with {trail_size} days.   \n",
    "We keep track of the tickers so we can later inverse the normalization with the right model. "
   ]
  },
  {
   "cell_type": "code",
   "execution_count": 23,
   "id": "scenic-arrival",
   "metadata": {},
   "outputs": [],
   "source": [
    "x_train, y_train, tickers_train = roll_all_stocks(train, trail_size, predict_length, trend_classify=True)\n",
    "x_valid, y_valid, tickers_valid = roll_all_stocks(valid, trail_size, predict_length, trend_classify=True)\n",
    "x_test, y_test, tickers_test = roll_all_stocks(test, trail_size, predict_length, trend_classify=True)"
   ]
  },
  {
   "cell_type": "code",
   "execution_count": 24,
   "id": "supreme-salad",
   "metadata": {},
   "outputs": [],
   "source": [
    "num_features+=num_climate_features"
   ]
  },
  {
   "cell_type": "code",
   "execution_count": 25,
   "id": "vocal-tower",
   "metadata": {},
   "outputs": [],
   "source": [
    "#### Confirm shapes"
   ]
  },
  {
   "cell_type": "code",
   "execution_count": 26,
   "id": "immune-consistency",
   "metadata": {},
   "outputs": [
    {
     "name": "stdout",
     "output_type": "stream",
     "text": [
      "x_train: (12654, 14, 39)\n",
      "y_train: (12654,)\n",
      "x_valid: (4032, 14, 39)\n",
      "y_valid (4032,)\n",
      "x_test: (4180, 14, 39)\n",
      "y_test (4180,)\n"
     ]
    }
   ],
   "source": [
    "print(\"x_train: {}\".format(x_train.shape))\n",
    "print(\"y_train: {}\".format(y_train.shape))\n",
    "print(\"x_valid: {}\".format(x_valid.shape))\n",
    "print(\"y_valid {}\".format(y_valid.shape))\n",
    "print(\"x_test: {}\".format(x_test.shape))\n",
    "print(\"y_test {}\".format(y_test.shape))"
   ]
  },
  {
   "cell_type": "code",
   "execution_count": 27,
   "id": "innocent-xerox",
   "metadata": {},
   "outputs": [
    {
     "data": {
      "text/plain": [
       "0.4973131025762605"
      ]
     },
     "execution_count": 27,
     "metadata": {},
     "output_type": "execute_result"
    }
   ],
   "source": [
    "np.mean(y_train)"
   ]
  },
  {
   "cell_type": "code",
   "execution_count": 28,
   "id": "future-definition",
   "metadata": {},
   "outputs": [
    {
     "data": {
      "text/plain": [
       "0.5277777777777778"
      ]
     },
     "execution_count": 28,
     "metadata": {},
     "output_type": "execute_result"
    }
   ],
   "source": [
    "np.mean(y_valid)"
   ]
  },
  {
   "cell_type": "code",
   "execution_count": 29,
   "id": "respiratory-waste",
   "metadata": {},
   "outputs": [
    {
     "data": {
      "text/plain": [
       "0.47033492822966505"
      ]
     },
     "execution_count": 29,
     "metadata": {},
     "output_type": "execute_result"
    }
   ],
   "source": [
    "np.mean(y_test)"
   ]
  },
  {
   "cell_type": "markdown",
   "id": "modified-synthetic",
   "metadata": {},
   "source": [
    "### Model design"
   ]
  },
  {
   "cell_type": "code",
   "execution_count": 30,
   "id": "amazing-clerk",
   "metadata": {},
   "outputs": [],
   "source": [
    "model = Sequential()\n",
    "model.add(LSTM(units=75, input_shape=(trail_size, num_features), return_sequences=True))\n",
    "model.add(Dropout(0.25))\n",
    "model.add(LSTM(units=30, return_sequences=True))\n",
    "model.add(Dropout(0.25))\n",
    "\n",
    "model.add(LSTM(units=30, return_sequences=True))\n",
    "model.add(Dropout(0.25))\n",
    "\n",
    "model.add(Flatten())\n",
    "# model.add(Dense(50, activation='relu'))\n",
    "# model.add(Dense(25, activation='relu'))\n",
    "model.add(Dense(1, activation='sigmoid'))"
   ]
  },
  {
   "cell_type": "code",
   "execution_count": 31,
   "id": "faced-zealand",
   "metadata": {},
   "outputs": [
    {
     "name": "stdout",
     "output_type": "stream",
     "text": [
      "Model: \"sequential\"\n",
      "_________________________________________________________________\n",
      "Layer (type)                 Output Shape              Param #   \n",
      "=================================================================\n",
      "lstm (LSTM)                  (None, 14, 75)            34500     \n",
      "_________________________________________________________________\n",
      "dropout (Dropout)            (None, 14, 75)            0         \n",
      "_________________________________________________________________\n",
      "lstm_1 (LSTM)                (None, 14, 30)            12720     \n",
      "_________________________________________________________________\n",
      "dropout_1 (Dropout)          (None, 14, 30)            0         \n",
      "_________________________________________________________________\n",
      "lstm_2 (LSTM)                (None, 14, 30)            7320      \n",
      "_________________________________________________________________\n",
      "dropout_2 (Dropout)          (None, 14, 30)            0         \n",
      "_________________________________________________________________\n",
      "flatten (Flatten)            (None, 420)               0         \n",
      "_________________________________________________________________\n",
      "dense (Dense)                (None, 1)                 421       \n",
      "=================================================================\n",
      "Total params: 54,961\n",
      "Trainable params: 54,961\n",
      "Non-trainable params: 0\n",
      "_________________________________________________________________\n"
     ]
    }
   ],
   "source": [
    "model.summary()"
   ]
  },
  {
   "cell_type": "code",
   "execution_count": 32,
   "id": "productive-consortium",
   "metadata": {},
   "outputs": [],
   "source": [
    "time_stamp = time()\n",
    "tensorboard = TensorBoard(log_dir='logs/{}'.format(time_stamp))"
   ]
  },
  {
   "cell_type": "code",
   "execution_count": 33,
   "id": "personalized-forge",
   "metadata": {},
   "outputs": [],
   "source": [
    "model.compile(optimizer='adam', loss='binary_crossentropy', metrics='accuracy')"
   ]
  },
  {
   "cell_type": "code",
   "execution_count": 34,
   "id": "supreme-aberdeen",
   "metadata": {},
   "outputs": [
    {
     "name": "stdout",
     "output_type": "stream",
     "text": [
      "Epoch 1/30\n",
      "198/198 [==============================] - 9s 22ms/step - loss: 0.6881 - accuracy: 0.5361 - val_loss: 0.7275 - val_accuracy: 0.5312\n",
      "Epoch 2/30\n",
      "198/198 [==============================] - 2s 11ms/step - loss: 0.6674 - accuracy: 0.5943 - val_loss: 0.7911 - val_accuracy: 0.5278\n",
      "Epoch 3/30\n",
      "198/198 [==============================] - 2s 10ms/step - loss: 0.6482 - accuracy: 0.6256 - val_loss: 0.8707 - val_accuracy: 0.5278\n",
      "Epoch 4/30\n",
      "198/198 [==============================] - 2s 10ms/step - loss: 0.6219 - accuracy: 0.6594 - val_loss: 0.7790 - val_accuracy: 0.4831\n",
      "Epoch 5/30\n",
      "198/198 [==============================] - 2s 10ms/step - loss: 0.6048 - accuracy: 0.6788 - val_loss: 0.8030 - val_accuracy: 0.5027\n",
      "Epoch 6/30\n",
      "198/198 [==============================] - 2s 10ms/step - loss: 0.5863 - accuracy: 0.6933 - val_loss: 0.8134 - val_accuracy: 0.4883\n",
      "Epoch 7/30\n",
      "198/198 [==============================] - 2s 10ms/step - loss: 0.5640 - accuracy: 0.7118 - val_loss: 0.8043 - val_accuracy: 0.4973\n",
      "Epoch 8/30\n",
      "198/198 [==============================] - 2s 11ms/step - loss: 0.5612 - accuracy: 0.7155 - val_loss: 0.8866 - val_accuracy: 0.5079\n",
      "Epoch 9/30\n",
      "198/198 [==============================] - 2s 10ms/step - loss: 0.5615 - accuracy: 0.7138 - val_loss: 0.7567 - val_accuracy: 0.4990\n",
      "Epoch 10/30\n",
      "198/198 [==============================] - 2s 11ms/step - loss: 0.5478 - accuracy: 0.7181 - val_loss: 0.7347 - val_accuracy: 0.5238\n",
      "Epoch 11/30\n",
      "198/198 [==============================] - 2s 10ms/step - loss: 0.5464 - accuracy: 0.7218 - val_loss: 0.7453 - val_accuracy: 0.5337\n",
      "Epoch 12/30\n",
      "198/198 [==============================] - 2s 10ms/step - loss: 0.5440 - accuracy: 0.7285 - val_loss: 0.7319 - val_accuracy: 0.5079\n",
      "Epoch 13/30\n",
      "198/198 [==============================] - 2s 11ms/step - loss: 0.5416 - accuracy: 0.7223 - val_loss: 0.7177 - val_accuracy: 0.5129\n",
      "Epoch 14/30\n",
      "198/198 [==============================] - 2s 10ms/step - loss: 0.5306 - accuracy: 0.7363 - val_loss: 0.7296 - val_accuracy: 0.5161\n",
      "Epoch 15/30\n",
      "198/198 [==============================] - 2s 11ms/step - loss: 0.5258 - accuracy: 0.7414 - val_loss: 0.7122 - val_accuracy: 0.5099\n",
      "Epoch 16/30\n",
      "198/198 [==============================] - 2s 11ms/step - loss: 0.5325 - accuracy: 0.7334 - val_loss: 0.7062 - val_accuracy: 0.5042\n",
      "Epoch 17/30\n",
      "198/198 [==============================] - 2s 11ms/step - loss: 0.5261 - accuracy: 0.7378 - val_loss: 0.7063 - val_accuracy: 0.5228\n",
      "Epoch 18/30\n",
      "198/198 [==============================] - 2s 11ms/step - loss: 0.5254 - accuracy: 0.7397 - val_loss: 0.7435 - val_accuracy: 0.5067\n",
      "Epoch 19/30\n",
      "198/198 [==============================] - 2s 10ms/step - loss: 0.5234 - accuracy: 0.7407 - val_loss: 0.7397 - val_accuracy: 0.5122\n",
      "Epoch 20/30\n",
      "198/198 [==============================] - 2s 11ms/step - loss: 0.5138 - accuracy: 0.7499 - val_loss: 0.7195 - val_accuracy: 0.5032\n",
      "Epoch 21/30\n",
      "198/198 [==============================] - 2s 11ms/step - loss: 0.5212 - accuracy: 0.7443 - val_loss: 0.7079 - val_accuracy: 0.5174\n",
      "Epoch 22/30\n",
      "198/198 [==============================] - 2s 10ms/step - loss: 0.5134 - accuracy: 0.7454 - val_loss: 0.7122 - val_accuracy: 0.4980\n",
      "Epoch 23/30\n",
      "198/198 [==============================] - 2s 10ms/step - loss: 0.5116 - accuracy: 0.7468 - val_loss: 0.7077 - val_accuracy: 0.5032\n",
      "Epoch 24/30\n",
      "198/198 [==============================] - 2s 11ms/step - loss: 0.5122 - accuracy: 0.7424 - val_loss: 0.7227 - val_accuracy: 0.5146\n",
      "Epoch 25/30\n",
      "198/198 [==============================] - 2s 10ms/step - loss: 0.5136 - accuracy: 0.7469 - val_loss: 0.7284 - val_accuracy: 0.4881\n",
      "Epoch 26/30\n",
      "198/198 [==============================] - 2s 10ms/step - loss: 0.5229 - accuracy: 0.7379 - val_loss: 0.7238 - val_accuracy: 0.5174\n",
      "Epoch 27/30\n",
      "198/198 [==============================] - 2s 11ms/step - loss: 0.5115 - accuracy: 0.7505 - val_loss: 0.7360 - val_accuracy: 0.4913\n",
      "Epoch 28/30\n",
      "198/198 [==============================] - 2s 10ms/step - loss: 0.5013 - accuracy: 0.7524 - val_loss: 0.7480 - val_accuracy: 0.5055\n",
      "Epoch 29/30\n",
      "198/198 [==============================] - 2s 11ms/step - loss: 0.5112 - accuracy: 0.7402 - val_loss: 0.7539 - val_accuracy: 0.5139\n",
      "Epoch 30/30\n",
      "198/198 [==============================] - 2s 10ms/step - loss: 0.5110 - accuracy: 0.7452 - val_loss: 0.7386 - val_accuracy: 0.4804\n"
     ]
    }
   ],
   "source": [
    "history1 = model.fit(x_train, \n",
    "                     y_train, \n",
    "                     epochs=30, \n",
    "                     validation_data=(x_valid, y_valid), \n",
    "                     batch_size=64, \n",
    "                     shuffle=True, \n",
    "                     callbacks=[tensorboard])"
   ]
  },
  {
   "cell_type": "code",
   "execution_count": 35,
   "id": "enclosed-tolerance",
   "metadata": {},
   "outputs": [
    {
     "data": {
      "image/png": "[encoded data removed]",
      "text/plain": [
       "<Figure size 576x432 with 1 Axes>"
      ]
     },
     "metadata": {
      "needs_background": "light"
     },
     "output_type": "display_data"
    }
   ],
   "source": [
    "plot_loss(history1)"
   ]
  },
  {
   "cell_type": "code",
   "execution_count": 36,
   "id": "south-router",
   "metadata": {},
   "outputs": [
    {
     "data": {
      "image/png": "[encoded data removed]",
      "text/plain": [
       "<Figure size 576x432 with 1 Axes>"
      ]
     },
     "metadata": {
      "needs_background": "light"
     },
     "output_type": "display_data"
    }
   ],
   "source": [
    "plot_acc(history1)"
   ]
  },
  {
   "cell_type": "markdown",
   "id": "remarkable-final",
   "metadata": {},
   "source": [
    "#### Performance of model"
   ]
  },
  {
   "cell_type": "code",
   "execution_count": 37,
   "id": "cleared-rocket",
   "metadata": {},
   "outputs": [
    {
     "name": "stdout",
     "output_type": "stream",
     "text": [
      "Upward ratio: 0.4973131025762605\n",
      "Mean prediction: 0.47685664892196655\n",
      "Predicted upward ratio: 0.46119804014540855\n",
      "Accuracy: 0.7664770033191086\n"
     ]
    }
   ],
   "source": [
    "performance_stats(model, x_train, y_train)"
   ]
  },
  {
   "cell_type": "code",
   "execution_count": 38,
   "id": "synthetic-married",
   "metadata": {},
   "outputs": [
    {
     "name": "stdout",
     "output_type": "stream",
     "text": [
      "Upward ratio: 0.5277777777777778\n",
      "Mean prediction: 0.5948706269264221\n",
      "Predicted upward ratio: 0.8043154761904762\n",
      "Accuracy: 0.48040674603174605\n"
     ]
    }
   ],
   "source": [
    "performance_stats(model, x_valid, y_valid)"
   ]
  },
  {
   "cell_type": "code",
   "execution_count": 39,
   "id": "optical-compromise",
   "metadata": {
    "scrolled": false
   },
   "outputs": [
    {
     "name": "stdout",
     "output_type": "stream",
     "text": [
      "Upward ratio: 0.47033492822966505\n",
      "Mean prediction: 0.6041234135627747\n",
      "Predicted upward ratio: 0.7811004784688995\n",
      "Accuracy: 0.533732057416268\n"
     ]
    }
   ],
   "source": [
    "performance_stats(model, x_test, y_test)"
   ]
  },
  {
   "cell_type": "markdown",
   "id": "warming-crawford",
   "metadata": {},
   "source": [
    "# 3.0 Prepare data for one stock"
   ]
  },
  {
   "cell_type": "code",
   "execution_count": 40,
   "id": "closing-password",
   "metadata": {},
   "outputs": [],
   "source": [
    "target_stock = 'XOM'"
   ]
  },
  {
   "cell_type": "code",
   "execution_count": 41,
   "id": "settled-genealogy",
   "metadata": {},
   "outputs": [],
   "source": [
    "single_stock_dataset = dataset[dataset['Ticker']==target_stock].reset_index(drop=True)"
   ]
  },
  {
   "cell_type": "code",
   "execution_count": 42,
   "id": "sweet-passenger",
   "metadata": {},
   "outputs": [
    {
     "data": {
      "text/plain": [
       "<AxesSubplot:xlabel='Date', ylabel='Close'>"
      ]
     },
     "execution_count": 42,
     "metadata": {},
     "output_type": "execute_result"
    },
    {
     "data": {
      "image/png": "[encoded data removed]",
      "text/plain": [
       "<Figure size 432x288 with 1 Axes>"
      ]
     },
     "metadata": {
      "needs_background": "light"
     },
     "output_type": "display_data"
    }
   ],
   "source": [
    "sns.lineplot(x=single_stock_dataset['Date'], y=single_stock_dataset['Close'])"
   ]
  },
  {
   "cell_type": "code",
   "execution_count": 43,
   "id": "established-sponsorship",
   "metadata": {},
   "outputs": [],
   "source": [
    "train = single_stock_dataset.loc[single_stock_dataset['Date'] < \"2018-03-01\"]\n",
    "valid = single_stock_dataset.loc[(single_stock_dataset['Date'] > \"2018-03-13\") & (single_stock_dataset['Date'] < \"2019-03-01\")]\n",
    "test = single_stock_dataset.loc[(single_stock_dataset['Date'] > \"2019-03-01\") & (single_stock_dataset['Date'] < \"2020-03-01\")]"
   ]
  },
  {
   "cell_type": "code",
   "execution_count": 44,
   "id": "crude-ancient",
   "metadata": {},
   "outputs": [],
   "source": [
    "single_stock_scaler_models = norm_per_stock_split(train, valid, test, features, MinMaxScaler)"
   ]
  },
  {
   "cell_type": "code",
   "execution_count": 45,
   "id": "contained-harrison",
   "metadata": {},
   "outputs": [],
   "source": [
    "train = train.merge(climate_trends_data, on=[\"Date\"], how='left')\n",
    "valid = valid.merge(climate_trends_data, on=[\"Date\"], how='left')\n",
    "test = test.merge(climate_trends_data, on=[\"Date\"], how='left')"
   ]
  },
  {
   "cell_type": "markdown",
   "id": "temporal-familiar",
   "metadata": {},
   "source": [
    "#### Prepare training inputs and outputs"
   ]
  },
  {
   "cell_type": "code",
   "execution_count": 46,
   "id": "phantom-consent",
   "metadata": {},
   "outputs": [],
   "source": [
    "x_train, y_train, _ = roll_all_stocks(train, trail_size, predict_length, trend_classify=True)\n",
    "x_valid, y_valid, _ = roll_all_stocks(valid, trail_size, predict_length, trend_classify=True)\n",
    "x_test, y_test, _ = roll_all_stocks(test, trail_size, predict_length, trend_classify=True)"
   ]
  },
  {
   "cell_type": "code",
   "execution_count": 47,
   "id": "geographic-germany",
   "metadata": {},
   "outputs": [
    {
     "name": "stdout",
     "output_type": "stream",
     "text": [
      "x_train: (703, 14, 39)\n",
      "y_train: (703,)\n",
      "x_valid: (224, 14, 39)\n",
      "y_valid (224,)\n",
      "x_test: (233, 14, 39)\n",
      "y_test (233,)\n"
     ]
    }
   ],
   "source": [
    "print(\"x_train: {}\".format(x_train.shape))\n",
    "print(\"y_train: {}\".format(y_train.shape))\n",
    "print(\"x_valid: {}\".format(x_valid.shape))\n",
    "print(\"y_valid {}\".format(y_valid.shape))\n",
    "print(\"x_test: {}\".format(x_test.shape))\n",
    "print(\"y_test {}\".format(y_test.shape))"
   ]
  },
  {
   "cell_type": "code",
   "execution_count": 49,
   "id": "tested-hypothesis",
   "metadata": {},
   "outputs": [],
   "source": [
    "# model.layers[7].trainable = False\n",
    "# model.layers[4].trainable = False\n",
    "# model.layers[2].trainable = False\n",
    "# model.layers[0].trainable = False"
   ]
  },
  {
   "cell_type": "code",
   "execution_count": 50,
   "id": "korean-uncle",
   "metadata": {},
   "outputs": [],
   "source": [
    "model.compile(optimizer='adam', loss='binary_crossentropy', metrics=['accuracy'])"
   ]
  },
  {
   "cell_type": "markdown",
   "id": "qualified-bleeding",
   "metadata": {},
   "source": [
    "### Train model on single stock"
   ]
  },
  {
   "cell_type": "code",
   "execution_count": 51,
   "id": "superb-tours",
   "metadata": {},
   "outputs": [],
   "source": [
    "tensorboard = TensorBoard(log_dir='logs/{}_2'.format(time_stamp))"
   ]
  },
  {
   "cell_type": "code",
   "execution_count": 52,
   "id": "subsequent-yemen",
   "metadata": {},
   "outputs": [
    {
     "name": "stdout",
     "output_type": "stream",
     "text": [
      "Epoch 1/20\n",
      "11/11 [==============================] - 8s 495ms/step - loss: 0.5599 - accuracy: 0.7173 - val_loss: 0.7287 - val_accuracy: 0.5268\n",
      "Epoch 2/20\n",
      "11/11 [==============================] - 0s 12ms/step - loss: 0.4420 - accuracy: 0.8049 - val_loss: 0.7487 - val_accuracy: 0.5179\n",
      "Epoch 3/20\n",
      "11/11 [==============================] - 0s 13ms/step - loss: 0.4510 - accuracy: 0.7915 - val_loss: 0.7645 - val_accuracy: 0.5134\n",
      "Epoch 4/20\n",
      "11/11 [==============================] - 0s 13ms/step - loss: 0.4149 - accuracy: 0.8246 - val_loss: 0.7865 - val_accuracy: 0.4911\n",
      "Epoch 5/20\n",
      "11/11 [==============================] - 0s 13ms/step - loss: 0.3946 - accuracy: 0.8135 - val_loss: 0.8278 - val_accuracy: 0.5223\n",
      "Epoch 6/20\n",
      "11/11 [==============================] - 0s 13ms/step - loss: 0.3700 - accuracy: 0.8378 - val_loss: 0.8327 - val_accuracy: 0.5000\n",
      "Epoch 7/20\n",
      "11/11 [==============================] - 0s 14ms/step - loss: 0.3654 - accuracy: 0.8366 - val_loss: 0.8620 - val_accuracy: 0.4911\n",
      "Epoch 8/20\n",
      "11/11 [==============================] - 0s 13ms/step - loss: 0.3419 - accuracy: 0.8613 - val_loss: 0.8745 - val_accuracy: 0.4955\n",
      "Epoch 9/20\n",
      "11/11 [==============================] - 0s 13ms/step - loss: 0.3511 - accuracy: 0.8638 - val_loss: 0.8939 - val_accuracy: 0.4598\n",
      "Epoch 10/20\n",
      "11/11 [==============================] - 0s 14ms/step - loss: 0.3496 - accuracy: 0.8408 - val_loss: 0.9326 - val_accuracy: 0.4732\n",
      "Epoch 11/20\n",
      "11/11 [==============================] - 0s 13ms/step - loss: 0.3226 - accuracy: 0.8670 - val_loss: 0.9517 - val_accuracy: 0.4866\n",
      "Epoch 12/20\n",
      "11/11 [==============================] - 0s 13ms/step - loss: 0.3131 - accuracy: 0.8676 - val_loss: 0.9525 - val_accuracy: 0.4598\n",
      "Epoch 13/20\n",
      "11/11 [==============================] - 0s 13ms/step - loss: 0.3043 - accuracy: 0.8627 - val_loss: 0.9765 - val_accuracy: 0.5179\n",
      "Epoch 14/20\n",
      "11/11 [==============================] - 0s 14ms/step - loss: 0.3245 - accuracy: 0.8615 - val_loss: 1.0186 - val_accuracy: 0.4777\n",
      "Epoch 15/20\n",
      "11/11 [==============================] - 0s 13ms/step - loss: 0.2927 - accuracy: 0.8820 - val_loss: 0.9765 - val_accuracy: 0.5179\n",
      "Epoch 16/20\n",
      "11/11 [==============================] - 0s 13ms/step - loss: 0.3100 - accuracy: 0.8713 - val_loss: 0.8780 - val_accuracy: 0.5357\n",
      "Epoch 17/20\n",
      "11/11 [==============================] - 0s 13ms/step - loss: 0.2825 - accuracy: 0.8747 - val_loss: 0.9354 - val_accuracy: 0.5134\n",
      "Epoch 18/20\n",
      "11/11 [==============================] - 0s 13ms/step - loss: 0.2771 - accuracy: 0.8921 - val_loss: 0.9184 - val_accuracy: 0.5580\n",
      "Epoch 19/20\n",
      "11/11 [==============================] - 0s 13ms/step - loss: 0.2737 - accuracy: 0.8917 - val_loss: 0.9420 - val_accuracy: 0.5536\n",
      "Epoch 20/20\n",
      "11/11 [==============================] - 0s 14ms/step - loss: 0.2941 - accuracy: 0.8608 - val_loss: 1.0380 - val_accuracy: 0.5402\n"
     ]
    }
   ],
   "source": [
    "history2 = model.fit(x_train, \n",
    "                     y_train, \n",
    "                     epochs=20, \n",
    "                     validation_data=(x_valid, y_valid), \n",
    "                     batch_size=64, \n",
    "                     shuffle=True, \n",
    "                     callbacks=[tensorboard])"
   ]
  },
  {
   "cell_type": "code",
   "execution_count": 53,
   "id": "handled-words",
   "metadata": {},
   "outputs": [
    {
     "data": {
      "image/png": "[encoded data removed]",
      "text/plain": [
       "<Figure size 576x432 with 1 Axes>"
      ]
     },
     "metadata": {
      "needs_background": "light"
     },
     "output_type": "display_data"
    }
   ],
   "source": [
    "plot_loss(history2)"
   ]
  },
  {
   "cell_type": "code",
   "execution_count": 54,
   "id": "measured-damage",
   "metadata": {},
   "outputs": [
    {
     "data": {
      "image/png": "[encoded data removed]",
      "text/plain": [
       "<Figure size 576x432 with 1 Axes>"
      ]
     },
     "metadata": {
      "needs_background": "light"
     },
     "output_type": "display_data"
    }
   ],
   "source": [
    "plot_acc(history2)"
   ]
  },
  {
   "cell_type": "markdown",
   "id": "another-paste",
   "metadata": {},
   "source": [
    "#### Model performance"
   ]
  },
  {
   "cell_type": "code",
   "execution_count": 55,
   "id": "welcome-explorer",
   "metadata": {},
   "outputs": [
    {
     "name": "stdout",
     "output_type": "stream",
     "text": [
      "Upward ratio: 0.5320056899004267\n",
      "Mean prediction: 0.531935453414917\n",
      "Predicted upward ratio: 0.5391180654338549\n",
      "Accuracy: 0.9103840682788051\n"
     ]
    }
   ],
   "source": [
    "performance_stats(model, x_train, y_train)"
   ]
  },
  {
   "cell_type": "code",
   "execution_count": 56,
   "id": "freelance-gasoline",
   "metadata": {},
   "outputs": [
    {
     "name": "stdout",
     "output_type": "stream",
     "text": [
      "Upward ratio: 0.5848214285714286\n",
      "Mean prediction: 0.7080590128898621\n",
      "Predicted upward ratio: 0.7767857142857143\n",
      "Accuracy: 0.5401785714285714\n"
     ]
    }
   ],
   "source": [
    "performance_stats(model, x_valid, y_valid)"
   ]
  },
  {
   "cell_type": "code",
   "execution_count": 57,
   "id": "killing-hamilton",
   "metadata": {
    "scrolled": true
   },
   "outputs": [
    {
     "name": "stdout",
     "output_type": "stream",
     "text": [
      "Upward ratio: 0.4206008583690987\n",
      "Mean prediction: 0.48047253489494324\n",
      "Predicted upward ratio: 0.4592274678111588\n",
      "Accuracy: 0.6008583690987125\n"
     ]
    }
   ],
   "source": [
    "performance_stats(model, x_test, y_test)"
   ]
  },
  {
   "cell_type": "code",
   "execution_count": null,
   "id": "civil-queue",
   "metadata": {},
   "outputs": [],
   "source": []
  }
 ],
 "metadata": {
  "kernelspec": {
   "display_name": "Python 3",
   "language": "python",
   "name": "python3"
  },
  "language_info": {
   "codemirror_mode": {
    "name": "ipython",
    "version": 3
   },
   "file_extension": ".py",
   "mimetype": "text/x-python",
   "name": "python",
   "nbconvert_exporter": "python",
   "pygments_lexer": "ipython3",
   "version": "3.8.5"
  }
 },
 "nbformat": 4,
 "nbformat_minor": 5
}
