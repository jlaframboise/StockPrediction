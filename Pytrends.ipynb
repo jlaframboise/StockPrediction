{
 "cells": [
  {
   "cell_type": "markdown",
   "id": "collect-encyclopedia",
   "metadata": {},
   "source": [
    "Pytrends implementation"
   ]
  },
  {
   "cell_type": "code",
   "execution_count": 1,
   "id": "variable-generation",
   "metadata": {},
   "outputs": [],
   "source": [
    "from pytrends.request import TrendReq\n",
    "import pandas as pd\n",
    "import os\n",
    "from dateutil.relativedelta import *\n",
    "from dateutil.rrule import *\n",
    "from datetime import date"
   ]
  },
  {
   "cell_type": "markdown",
   "id": "intelligent-rapid",
   "metadata": {},
   "source": [
    "Timeframe setup. A timeframe over 9 months will condense the data into weekly markers - not very good for our use. Timeframes are 9 months so they are still daily markers."
   ]
  },
  {
   "cell_type": "code",
   "execution_count": 2,
   "id": "elect-raleigh",
   "metadata": {},
   "outputs": [],
   "source": [
    "use_date = date(2016,1,1)\n",
    "today = date.today()\n",
    "#beginning period of 9 months\n",
    "begin = list(rrule(freq=MONTHLY, interval=8,count=10, dtstart=use_date))\n",
    "for i in range(len(begin)):\n",
    "    begin[i] = begin[i].date()\n",
    "\n",
    "#calculate the last day of last month\n",
    "use_date = use_date+relativedelta(months=-1)\n",
    "use_date = use_date+relativedelta(day=31)\n",
    "\n",
    "#end period of 9 months\n",
    "end = list(rrule(freq=MONTHLY, interval=8,count=11, dtstart=use_date, bymonthday=(-1,)))\n",
    "for i in range(len(end)):\n",
    "    end[i] = end[i].date()\n",
    "\n",
    "#adds time periods to a list\n",
    "#if the end date is later than today's date, today's date will be used\n",
    "dates = []\n",
    "for i in range(len(begin)):\n",
    "    if today >= begin[i] and today >= end[i+1]:\n",
    "        full = (str(begin[i]), str(end[i+1]))\n",
    "        dates.append(full)\n",
    "    elif today >= begin[i] and today <= end[i+1]:\n",
    "        recent = (str(begin[i]), str(today))\n",
    "        dates.append(recent)\n",
    "# for i in dates:\n",
    "#     print(i)"
   ]
  },
  {
   "cell_type": "markdown",
   "id": "widespread-bernard",
   "metadata": {},
   "source": [
    "Data processing. Creates a 'data.csv' file to store the data for each 9 month period while mantaining its daily marker. The keywords come from 'keywords.txt'. Pytrends only accepts up to 5 keywords each time a payload is built so a 2D list is constructed. Each element of the list is another list containing 5 keywords."
   ]
  },
  {
   "cell_type": "code",
   "execution_count": 3,
   "id": "pressed-superior",
   "metadata": {},
   "outputs": [],
   "source": [
    "filename = 'keywords.txt'\n",
    "with open(filename) as f:\n",
    "    content = f.readlines()\n",
    "for i in range(len(content)):\n",
    "    content[i] = content[i].strip()\n",
    "fullLists = len(content)//5\n",
    "remainder = len(content)%5\n",
    "kw = []\n",
    "a = 0\n",
    "b = 5\n",
    "for i in range(0,fullLists):\n",
    "    kw.append(content[a:b])\n",
    "    a += 5\n",
    "    b += 5\n",
    "if remainder > 0:\n",
    "    kw.append(content[b-5:len(content)])"
   ]
  },
  {
   "cell_type": "markdown",
   "id": "swedish-czech",
   "metadata": {},
   "source": [
    "Constructing the payload with the keywords lists. After constructing the payload, it will be written to a csv file with the name of 'data_.csv' where the _ is a number according to which keyword list it is. It will iterate through the keywords, then iterate through each 9 month time period so it maintains its daily markers."
   ]
  },
  {
   "cell_type": "code",
   "execution_count": 4,
   "id": "alpha-fundamental",
   "metadata": {},
   "outputs": [],
   "source": [
    "pytrend = TrendReq()\n",
    "count = 0\n",
    "csvname = 'data'\n",
    "allcsv = []\n",
    "for i in kw: \n",
    "    csvfile = csvname + str(count) + '.csv'\n",
    "    allcsv.append(csvfile)\n",
    "    for j in dates:\n",
    "        timef = ''\n",
    "        timef = j[0] + ' ' +  j[1]   \n",
    "        pytrend.build_payload(i,timeframe=timef)\n",
    "        df = pytrend.interest_over_time().drop(['isPartial'],axis=1)\n",
    "        try:\n",
    "            if os.stat(csvfile).st_size > 0:\n",
    "                df.to_csv(csvfile, mode='a', header=False)\n",
    "            else:\n",
    "                #file should never be empty\n",
    "                print(\"empty file\")\n",
    "        except OSError:\n",
    "            df.to_csv(csvfile,index=True)\n",
    "    count += 1\n"
   ]
  },
  {
   "cell_type": "markdown",
   "id": "known-terror",
   "metadata": {},
   "source": [
    "All the separate csvs are then concatenated into one big csv. Extra date columns are removed as they are redundant."
   ]
  },
  {
   "cell_type": "code",
   "execution_count": 6,
   "id": "fifteen-station",
   "metadata": {},
   "outputs": [],
   "source": [
    "allData = []\n",
    "count = 0\n",
    "for file in allcsv:\n",
    "    df = pd.read_csv(file)\n",
    "    if count > 0:\n",
    "        df =df.drop('date',axis=1)\n",
    "    allData.append(df)\n",
    "    count +=1\n",
    "concatDf = pd.concat(allData, axis=1)\n",
    "concatDf.to_csv('aggregate.csv',index=False)"
   ]
  },
  {
   "cell_type": "markdown",
   "id": "academic-newark",
   "metadata": {},
   "source": [
    "Some issues: <br/>\n",
    "- I noticed that the data was rather inconsistent when the timeframe was shifted around, i.e. if there are two timeframes set to 2020-01-01 to 2020-03-01 and 2020-02-01 and 2020-03-01, the data from 02-01 to 03-01 is different between the two datasets.<br/>\n",
    "https://support.google.com/google-ads/thread/8389370?msgid=26184434<br/>\n",
    "https://support.google.com/google-ads/thread/8632416?hl=en<br/>\n",
    "I believe that this won't an issue since the timeframes I chose and the way I implemented it doesn't overlap or contain any subsets of any timeframe. This way, the data can just be interrepted as fluctuation. \n",
    "- Pytrends only includes the most recent data up to two days ago as far as I can tell - not too sure if this is a problem.<br/>\n"
   ]
  },
  {
   "cell_type": "code",
   "execution_count": null,
   "id": "major-handy",
   "metadata": {},
   "outputs": [],
   "source": []
  }
 ],
 "metadata": {
  "kernelspec": {
   "display_name": "Python 3",
   "language": "python",
   "name": "python3"
  },
  "language_info": {
   "codemirror_mode": {
    "name": "ipython",
    "version": 3
   },
   "file_extension": ".py",
   "mimetype": "text/x-python",
   "name": "python",
   "nbconvert_exporter": "python",
   "pygments_lexer": "ipython3",
   "version": "3.9.1"
  }
 },
 "nbformat": 4,
 "nbformat_minor": 5
}
