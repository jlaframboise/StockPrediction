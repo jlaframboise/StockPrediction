{
 "cells": [
  {
   "cell_type": "markdown",
   "metadata": {},
   "source": [
    "# Trend Classification with LSTM"
   ]
  },
  {
   "cell_type": "markdown",
   "metadata": {},
   "source": [
    "### Imports"
   ]
  },
  {
   "cell_type": "code",
   "execution_count": 124,
   "metadata": {},
   "outputs": [
    {
     "data": {
      "text/html": [
       "<style>.container { width:100% !important; }</style>"
      ],
      "text/plain": [
       "<IPython.core.display.HTML object>"
      ]
     },
     "metadata": {},
     "output_type": "display_data"
    }
   ],
   "source": [
    "import os, sys\n",
    "import pandas as pd\n",
    "import numpy as np\n",
    "from numpy import set_printoptions\n",
    "import yfinance as yf\n",
    "import matplotlib.pyplot as plt\n",
    "import seaborn as sns\n",
    "import random\n",
    "\n",
    "import tensorflow as tf\n",
    "from tensorflow.keras import Input, Model\n",
    "from tensorflow.keras.models import Sequential\n",
    "from tensorflow.keras.layers import *\n",
    "from tensorflow.keras.losses import CategoricalCrossentropy\n",
    "from tensorflow.keras.utils import to_categorical, plot_model\n",
    "from tensorflow.keras.preprocessing.sequence import TimeseriesGenerator\n",
    "from sklearn.feature_selection import SelectKBest\n",
    "from sklearn.feature_selection import f_classif\n",
    "from sklearn.metrics import confusion_matrix, mean_squared_error\n",
    "from sklearn.feature_extraction.text import CountVectorizer\n",
    "from sklearn.preprocessing import StandardScaler, MinMaxScaler, RobustScaler\n",
    "\n",
    "from time import time\n",
    "from tensorflow.python.keras.callbacks import TensorBoard\n",
    "import warnings\n",
    "warnings.simplefilter(\"ignore\")\n",
    "\n",
    "from indicators import *\n",
    "from data_loading import *\n",
    "from util_functions import *\n",
    "\n",
    "\n",
    "physical_devices = tf.config.list_physical_devices('None')\n",
    "#tf.config.experimental.set_memory_growth(physical_devices[0], enable=True)\n",
    "\n",
    "from IPython.core.display import display, HTML\n",
    "display(HTML(\"<style>.container { width:100% !important; }</style>\"))\n",
    "\n",
    "pd.set_option('display.max_rows', 500)\n",
    "pd.set_option('display.max_columns', 500)\n",
    "pd.set_option('display.width', 1000)\n"
   ]
  },
  {
   "cell_type": "markdown",
   "metadata": {},
   "source": [
    "### Parameters"
   ]
  },
  {
   "cell_type": "code",
   "execution_count": 125,
   "metadata": {},
   "outputs": [],
   "source": [
    "trail_size=14\n",
    "predict_length = 5\n",
    "time_period = '6y'"
   ]
  },
  {
   "cell_type": "markdown",
   "metadata": {},
   "source": [
    "# 1.0 Load data"
   ]
  },
  {
   "cell_type": "markdown",
   "metadata": {},
   "source": [
    "## 1.1 Load stock data"
   ]
  },
  {
   "cell_type": "code",
   "execution_count": 126,
   "metadata": {},
   "outputs": [],
   "source": [
    "top_energy = [\"XOM\", \"CVX\", \"RDS-A\", \"RDS-B\", \"PTR\", \"TOT\", \"BP\",\n",
    "\"SNP\", \"ENB\", \"COP\", \"EQNR\", \"PBR-A\", \"PBR\", \"EPD\",\n",
    "\"TRP\", \"E\", \"EOG\", \"SLB\", \"KMI\", \"PSX\", \"CNQ\",\n",
    "\"MPC\", \"PXD\", \"SU\", \"VLO\"]"
   ]
  },
  {
   "cell_type": "code",
   "execution_count": 127,
   "metadata": {},
   "outputs": [],
   "source": [
    "traditional_energy_stocks = [ \"LNG\", \"OKE\", \"BKR\", \"WMB\", \"EQT\",  \"XEC\",  \"XOM\",  \"CVX\",  \"BP\",  \"OXY\",  \"COP\",  \"EOG\",  \"COG\",  \"CNQ\",  \"SLB\",  \"PTR\",  \"TOT\",  \"ENB\"]"
   ]
  },
  {
   "cell_type": "code",
   "execution_count": 128,
   "metadata": {},
   "outputs": [
    {
     "name": "stdout",
     "output_type": "stream",
     "text": [
      "[*********************100%***********************]  33 of 33 completed\n"
     ]
    }
   ],
   "source": [
    "data = get_data_yf(traditional_energy_stocks + top_energy, time_period)"
   ]
  },
  {
   "cell_type": "code",
   "execution_count": 129,
   "metadata": {},
   "outputs": [
    {
     "data": {
      "text/plain": [
       "0"
      ]
     },
     "execution_count": 129,
     "metadata": {},
     "output_type": "execute_result"
    }
   ],
   "source": [
    "data.isna().sum().sum()"
   ]
  },
  {
   "cell_type": "code",
   "execution_count": 130,
   "metadata": {},
   "outputs": [],
   "source": [
    "data = process_stock_data_from_yf(data)"
   ]
  },
  {
   "cell_type": "code",
   "execution_count": 131,
   "metadata": {},
   "outputs": [
    {
     "data": {
      "text/plain": [
       "100.0"
      ]
     },
     "execution_count": 131,
     "metadata": {},
     "output_type": "execute_result"
    }
   ],
   "source": [
    "has_data_ratio, data = filter_has_all_data(data)\n",
    "has_data_ratio"
   ]
  },
  {
   "cell_type": "markdown",
   "metadata": {},
   "source": [
    "## 1.2 Compute technical indicators"
   ]
  },
  {
   "cell_type": "code",
   "execution_count": 132,
   "metadata": {},
   "outputs": [],
   "source": [
    "all_stock_features = ['Close', 'High',\n",
    " 'Low', 'Open', 'Volume',\n",
    " 'HH', 'LL', 'AV',\n",
    " 'SMA', 'SD', 'WILLR',\n",
    " 'ATR', 'DMH', 'DML',\n",
    " 'EMA', 'WMA', 'BBHIGH',\n",
    " 'BBLOW', 'PERBHIGH', 'PERBLOW',\n",
    " 'TRIMA', 'RSI', 'DX',\n",
    " 'PDI', 'NDI', 'ADX',\n",
    " 'ROC', 'MACD', 'CCI']\n",
    "\n",
    "#all_stock_features = ['Close', 'High', 'Low', 'Open','HH', 'LL','SMA', 'EMA', 'WMA', 'BBHIGH','BBLOW','TRIMA']\n",
    "\n",
    "#all_stock_features = ['Close', 'High', 'Low', 'Open','HH', 'LL','SMA', 'EMA', 'WMA', 'BBHIGH','BBLOW','TRIMA', 'DX']\n",
    "\n",
    "#all_stock_features = ['Close', 'High', 'Low', 'Open','Volume', 'AV', 'HH', 'LL','SMA', 'EMA', 'WMA', 'BBHIGH','BBLOW','TRIMA', 'DX']"
   ]
  },
  {
   "cell_type": "code",
   "execution_count": 133,
   "metadata": {},
   "outputs": [],
   "source": [
    "# compute all our technical markers for each of the stocks. \n",
    "dataset = data.groupby('Ticker').apply(lambda x: add_technical_markers(x, trail_size))"
   ]
  },
  {
   "cell_type": "markdown",
   "metadata": {},
   "source": [
    "## 1.3 Load trends data"
   ]
  },
  {
   "cell_type": "code",
   "execution_count": 134,
   "metadata": {},
   "outputs": [],
   "source": [
    "filenames = [\n",
    "    \"data climate change adjusted.csv\",\n",
    "    \"data greenhouse gas adjusted.csv\",\n",
    "    \"data oil adjusted.csv\",\n",
    "    \"data renewable adjusted.csv\",\n",
    "    \"data carbon tax adjusted.csv\",\n",
    "    \"data electric vehicles adjusted.csv\",\n",
    "    \"data environmental protection agency adjusted.csv\",\n",
    "    \"data fossil fuels adjusted.csv\",\n",
    "    \"data fracking adjusted.csv\",\n",
    "    \"data global warming adjusted.csv\",\n",
    "]\n",
    "terms = [\n",
    "    \"climate change\",\n",
    "    \"greenhouse gas\",\n",
    "    \"oil\",\n",
    "    \"renewable\",\n",
    "    \"carbon tax\",\n",
    "    \"electric vehicles\",\n",
    "    \"environmental protection agency\",\n",
    "    \"fossil fuels\",\n",
    "    \"fracking\",\n",
    "    \"global warming\",\n",
    "]"
   ]
  },
  {
   "cell_type": "code",
   "execution_count": 135,
   "metadata": {},
   "outputs": [],
   "source": [
    "climate_trends_data = load_climate_data(filenames, terms)"
   ]
  },
  {
   "cell_type": "code",
   "execution_count": 136,
   "metadata": {},
   "outputs": [
    {
     "data": {
      "text/plain": [
       "(2278, 11)"
      ]
     },
     "execution_count": 136,
     "metadata": {},
     "output_type": "execute_result"
    }
   ],
   "source": [
    "climate_trends_data.shape"
   ]
  },
  {
   "cell_type": "code",
   "execution_count": 137,
   "metadata": {},
   "outputs": [
    {
     "data": {
      "text/plain": [
       "<AxesSubplot:xlabel='Date'>"
      ]
     },
     "execution_count": 137,
     "metadata": {},
     "output_type": "execute_result"
    },
    {
     "data": {
      "image/png": "[encoded data removed]",
      "text/plain": [
       "<Figure size 432x288 with 1 Axes>"
      ]
     },
     "metadata": {
      "needs_background": "light"
     },
     "output_type": "display_data"
    }
   ],
   "source": [
    "climate_trends_data.set_index('Date')[terms[0]].plot()"
   ]
  },
  {
   "cell_type": "markdown",
   "metadata": {},
   "source": [
    "### Choose features"
   ]
  },
  {
   "cell_type": "code",
   "execution_count": 138,
   "metadata": {},
   "outputs": [],
   "source": [
    "chosen_stock_features = all_stock_features"
   ]
  },
  {
   "cell_type": "code",
   "execution_count": 139,
   "metadata": {},
   "outputs": [],
   "source": [
    "chosen_trend_terms = terms"
   ]
  },
  {
   "cell_type": "markdown",
   "metadata": {},
   "source": [
    "# 3.0 Model design"
   ]
  },
  {
   "cell_type": "code",
   "execution_count": 140,
   "metadata": {},
   "outputs": [],
   "source": [
    "num_features = len(chosen_stock_features) + len(chosen_trend_terms) "
   ]
  },
  {
   "cell_type": "code",
   "execution_count": 141,
   "metadata": {},
   "outputs": [],
   "source": [
    "model = Sequential()\n",
    "model.add(LSTM(units=75, input_shape=(trail_size, num_features), return_sequences=True))\n",
    "model.add(Dropout(0.25))\n",
    "model.add(LSTM(units=30, return_sequences=True))\n",
    "model.add(Dropout(0.25))\n",
    "\n",
    "model.add(LSTM(units=30, return_sequences=True))\n",
    "model.add(Dropout(0.25))\n",
    "\n",
    "model.add(LSTM(units=30, return_sequences=True))\n",
    "model.add(Dropout(0.25))\n",
    "\n",
    "model.add(Flatten())\n",
    "\n",
    "model.add(Dense(5, activation='relu'))\n",
    "model.add(Dropout(0.25))\n",
    "\n",
    "\n",
    "model.add(Dense(1, activation='sigmoid'))"
   ]
  },
  {
   "cell_type": "code",
   "execution_count": 142,
   "metadata": {},
   "outputs": [
    {
     "name": "stdout",
     "output_type": "stream",
     "text": [
      "Model: \"sequential_3\"\n",
      "_________________________________________________________________\n",
      "Layer (type)                 Output Shape              Param #   \n",
      "=================================================================\n",
      "lstm_12 (LSTM)               (None, 14, 75)            30300     \n",
      "_________________________________________________________________\n",
      "dropout_15 (Dropout)         (None, 14, 75)            0         \n",
      "_________________________________________________________________\n",
      "lstm_13 (LSTM)               (None, 14, 30)            12720     \n",
      "_________________________________________________________________\n",
      "dropout_16 (Dropout)         (None, 14, 30)            0         \n",
      "_________________________________________________________________\n",
      "lstm_14 (LSTM)               (None, 14, 30)            7320      \n",
      "_________________________________________________________________\n",
      "dropout_17 (Dropout)         (None, 14, 30)            0         \n",
      "_________________________________________________________________\n",
      "lstm_15 (LSTM)               (None, 14, 30)            7320      \n",
      "_________________________________________________________________\n",
      "dropout_18 (Dropout)         (None, 14, 30)            0         \n",
      "_________________________________________________________________\n",
      "flatten_3 (Flatten)          (None, 420)               0         \n",
      "_________________________________________________________________\n",
      "dense_6 (Dense)              (None, 5)                 2105      \n",
      "_________________________________________________________________\n",
      "dropout_19 (Dropout)         (None, 5)                 0         \n",
      "_________________________________________________________________\n",
      "dense_7 (Dense)              (None, 1)                 6         \n",
      "=================================================================\n",
      "Total params: 59,771\n",
      "Trainable params: 59,771\n",
      "Non-trainable params: 0\n",
      "_________________________________________________________________\n"
     ]
    }
   ],
   "source": [
    "model.summary()"
   ]
  },
  {
   "cell_type": "markdown",
   "metadata": {},
   "source": [
    "# 2.0 Prepare dataset of many stocks"
   ]
  },
  {
   "cell_type": "code",
   "execution_count": 143,
   "metadata": {},
   "outputs": [],
   "source": [
    "x_train, y_train, x_valid, y_valid, x_test, y_test = generate_dataset(dataset, \n",
    "                                                                           climate_trends_data,\n",
    "                                                                           traditional_energy_stocks + top_energy,\n",
    "                                                                           \"2018-03-01\", \"2019-03-01\", \"2020-03-01\", \n",
    "                                                                           chosen_stock_features, chosen_trend_terms,\n",
    "                                                                            trail_size, predict_length\n",
    "                                                                           )"
   ]
  },
  {
   "cell_type": "code",
   "execution_count": 144,
   "metadata": {},
   "outputs": [
    {
     "name": "stdout",
     "output_type": "stream",
     "text": [
      "x_train: (23199, 14, 25)\n",
      "y_train: (23199,)\n",
      "x_valid: (7656, 14, 25)\n",
      "y_valid (7656,)\n",
      "x_test: (7689, 14, 25)\n",
      "y_test (7689,)\n"
     ]
    }
   ],
   "source": [
    "print(\"x_train: {}\".format(x_train.shape))\n",
    "print(\"y_train: {}\".format(y_train.shape))\n",
    "print(\"x_valid: {}\".format(x_valid.shape))\n",
    "print(\"y_valid {}\".format(y_valid.shape))\n",
    "print(\"x_test: {}\".format(x_test.shape))\n",
    "print(\"y_test {}\".format(y_test.shape))"
   ]
  },
  {
   "cell_type": "markdown",
   "metadata": {},
   "source": [
    "## 2.1 Train on many stocks"
   ]
  },
  {
   "cell_type": "code",
   "execution_count": 145,
   "metadata": {},
   "outputs": [],
   "source": [
    "time_stamp = time()\n",
    "tensorboard = TensorBoard(log_dir='logs/{}'.format(time_stamp))"
   ]
  },
  {
   "cell_type": "code",
   "execution_count": 146,
   "metadata": {},
   "outputs": [],
   "source": [
    "model.compile(optimizer='adam', loss='binary_crossentropy', metrics='accuracy')"
   ]
  },
  {
   "cell_type": "code",
   "execution_count": 147,
   "metadata": {},
   "outputs": [
    {
     "name": "stdout",
     "output_type": "stream",
     "text": [
      "Epoch 1/15\n",
      "  2/363 [..............................] - ETA: 12:08 - loss: 0.6959 - accuracy: 0.4922WARNING:tensorflow:Method (on_train_batch_end) is slow compared to the batch update (2.003675). Check your callbacks.\n",
      "363/363 [==============================] - 19s 53ms/step - loss: 0.6861 - accuracy: 0.5484 - val_loss: 0.6903 - val_accuracy: 0.5283\n",
      "Epoch 2/15\n",
      "363/363 [==============================] - 13s 37ms/step - loss: 0.6744 - accuracy: 0.5775 - val_loss: 0.6950 - val_accuracy: 0.5231\n",
      "Epoch 3/15\n",
      "363/363 [==============================] - 14s 37ms/step - loss: 0.6579 - accuracy: 0.6071 - val_loss: 0.7190 - val_accuracy: 0.5302\n",
      "Epoch 4/15\n",
      "363/363 [==============================] - 15s 42ms/step - loss: 0.6485 - accuracy: 0.6179 - val_loss: 0.6940 - val_accuracy: 0.5308\n",
      "Epoch 5/15\n",
      "363/363 [==============================] - 12s 33ms/step - loss: 0.6389 - accuracy: 0.6296 - val_loss: 0.7023 - val_accuracy: 0.5311\n",
      "Epoch 6/15\n",
      "363/363 [==============================] - 13s 36ms/step - loss: 0.6242 - accuracy: 0.6471 - val_loss: 0.7304 - val_accuracy: 0.4983\n",
      "Epoch 7/15\n",
      "363/363 [==============================] - 14s 39ms/step - loss: 0.6133 - accuracy: 0.6630 - val_loss: 0.7309 - val_accuracy: 0.4557\n",
      "Epoch 8/15\n",
      "363/363 [==============================] - 14s 38ms/step - loss: 0.6050 - accuracy: 0.6721 - val_loss: 0.7112 - val_accuracy: 0.4880\n",
      "Epoch 9/15\n",
      "363/363 [==============================] - 15s 40ms/step - loss: 0.5948 - accuracy: 0.6834 - val_loss: 0.7057 - val_accuracy: 0.5108\n",
      "Epoch 10/15\n",
      "363/363 [==============================] - 14s 37ms/step - loss: 0.5851 - accuracy: 0.6932 - val_loss: 0.7373 - val_accuracy: 0.5278\n",
      "Epoch 11/15\n",
      "363/363 [==============================] - 12s 34ms/step - loss: 0.5762 - accuracy: 0.7076 - val_loss: 0.7097 - val_accuracy: 0.5165\n",
      "Epoch 12/15\n",
      "363/363 [==============================] - 13s 34ms/step - loss: 0.5718 - accuracy: 0.7058 - val_loss: 0.6987 - val_accuracy: 0.5226\n",
      "Epoch 13/15\n",
      "363/363 [==============================] - 12s 34ms/step - loss: 0.5691 - accuracy: 0.7127 - val_loss: 0.7017 - val_accuracy: 0.5282\n",
      "Epoch 14/15\n",
      "363/363 [==============================] - 12s 34ms/step - loss: 0.5631 - accuracy: 0.7162 - val_loss: 0.7012 - val_accuracy: 0.5260\n",
      "Epoch 15/15\n",
      "363/363 [==============================] - 13s 35ms/step - loss: 0.5654 - accuracy: 0.7131 - val_loss: 0.7937 - val_accuracy: 0.5299\n"
     ]
    }
   ],
   "source": [
    "history1 = model.fit(x_train, \n",
    "                     y_train, \n",
    "                     epochs=15, \n",
    "                     validation_data=(x_valid, y_valid), \n",
    "                     batch_size=64, \n",
    "                     shuffle=True, \n",
    "                     callbacks=[tensorboard])"
   ]
  },
  {
   "cell_type": "code",
   "execution_count": 148,
   "metadata": {},
   "outputs": [
    {
     "data": {
      "image/png": "[encoded data removed]",
      "text/plain": [
       "<Figure size 576x432 with 1 Axes>"
      ]
     },
     "metadata": {
      "needs_background": "light"
     },
     "output_type": "display_data"
    }
   ],
   "source": [
    "plot_loss(history1)"
   ]
  },
  {
   "cell_type": "code",
   "execution_count": 149,
   "metadata": {},
   "outputs": [
    {
     "data": {
      "image/png": "[encoded data removed]",
      "text/plain": [
       "<Figure size 576x432 with 1 Axes>"
      ]
     },
     "metadata": {
      "needs_background": "light"
     },
     "output_type": "display_data"
    }
   ],
   "source": [
    "plot_acc(history1)"
   ]
  },
  {
   "cell_type": "markdown",
   "metadata": {},
   "source": [
    "## 2.2 Performance of model"
   ]
  },
  {
   "cell_type": "code",
   "execution_count": 150,
   "metadata": {},
   "outputs": [
    {
     "name": "stdout",
     "output_type": "stream",
     "text": [
      "Upward ratio: 50.86%\n",
      "Mean prediction: 54.15%\n",
      "Predicted upward ratio: 55.54%\n",
      "Accuracy: 73.25%\n"
     ]
    }
   ],
   "source": [
    "performance_stats(model, x_train, y_train)"
   ]
  },
  {
   "cell_type": "code",
   "execution_count": 151,
   "metadata": {},
   "outputs": [
    {
     "name": "stdout",
     "output_type": "stream",
     "text": [
      "Upward ratio: 53.02%\n",
      "Mean prediction: 73.46%\n",
      "Predicted upward ratio: 99.95%\n",
      "Accuracy: 52.99%\n"
     ]
    }
   ],
   "source": [
    "performance_stats(model, x_valid, y_valid)"
   ]
  },
  {
   "cell_type": "code",
   "execution_count": 152,
   "metadata": {
    "scrolled": false
   },
   "outputs": [
    {
     "name": "stdout",
     "output_type": "stream",
     "text": [
      "Upward ratio: 47.24%\n",
      "Mean prediction: 71.40%\n",
      "Predicted upward ratio: 93.98%\n",
      "Accuracy: 47.67%\n"
     ]
    }
   ],
   "source": [
    "performance_stats(model, x_test, y_test)"
   ]
  },
  {
   "cell_type": "markdown",
   "metadata": {},
   "source": [
    "# 3.0 Prepare data for less stocks"
   ]
  },
  {
   "cell_type": "code",
   "execution_count": 153,
   "metadata": {},
   "outputs": [],
   "source": [
    "x_train2, y_train2, x_valid2, y_valid2, x_test2, y_test2 = generate_dataset(dataset, \n",
    "                                                                           climate_trends_data,\n",
    "                                                                           traditional_energy_stocks,\n",
    "                                                                           \"2018-03-01\", \"2019-03-01\", \"2020-03-01\", \n",
    "                                                                           chosen_stock_features, chosen_trend_terms,\n",
    "                                                                            trail_size, predict_length\n",
    "                                                                           )"
   ]
  },
  {
   "cell_type": "code",
   "execution_count": 154,
   "metadata": {},
   "outputs": [
    {
     "name": "stdout",
     "output_type": "stream",
     "text": [
      "x_train: (12654, 14, 25)\n",
      "y_train: (12654,)\n",
      "x_valid: (4176, 14, 25)\n",
      "y_valid (4176,)\n",
      "x_test: (4194, 14, 25)\n",
      "y_test (4194,)\n"
     ]
    }
   ],
   "source": [
    "print(\"x_train: {}\".format(x_train2.shape))\n",
    "print(\"y_train: {}\".format(y_train2.shape))\n",
    "print(\"x_valid: {}\".format(x_valid2.shape))\n",
    "print(\"y_valid {}\".format(y_valid2.shape))\n",
    "print(\"x_test: {}\".format(x_test2.shape))\n",
    "print(\"y_test {}\".format(y_test2.shape))"
   ]
  },
  {
   "cell_type": "markdown",
   "metadata": {},
   "source": [
    "## 3.1 Train model on less stocks"
   ]
  },
  {
   "cell_type": "code",
   "execution_count": 155,
   "metadata": {},
   "outputs": [],
   "source": [
    "# model.layers[7].trainable = False\n",
    "# model.layers[4].trainable = False\n",
    "# model.layers[2].trainable = False\n",
    "# model.layers[0].trainable = False"
   ]
  },
  {
   "cell_type": "code",
   "execution_count": 156,
   "metadata": {},
   "outputs": [],
   "source": [
    "model.compile(optimizer='adam', loss='binary_crossentropy', metrics=['accuracy'])"
   ]
  },
  {
   "cell_type": "code",
   "execution_count": 157,
   "metadata": {},
   "outputs": [],
   "source": [
    "tensorboard = TensorBoard(log_dir='logs/{}_2'.format(time_stamp))"
   ]
  },
  {
   "cell_type": "code",
   "execution_count": 158,
   "metadata": {},
   "outputs": [
    {
     "name": "stdout",
     "output_type": "stream",
     "text": [
      "Epoch 1/8\n",
      "  2/198 [..............................] - ETA: 7:15 - loss: 0.4984 - accuracy: 0.8203WARNING:tensorflow:Method (on_train_batch_end) is slow compared to the batch update (2.202957). Check your callbacks.\n",
      "198/198 [==============================] - 13s 66ms/step - loss: 0.5555 - accuracy: 0.7284 - val_loss: 0.7059 - val_accuracy: 0.4935\n",
      "Epoch 2/8\n",
      "198/198 [==============================] - 8s 40ms/step - loss: 0.5541 - accuracy: 0.7276 - val_loss: 0.7022 - val_accuracy: 0.5172\n",
      "Epoch 3/8\n",
      "198/198 [==============================] - 8s 38ms/step - loss: 0.5501 - accuracy: 0.7307 - val_loss: 0.6906 - val_accuracy: 0.5350\n",
      "Epoch 4/8\n",
      "198/198 [==============================] - 8s 38ms/step - loss: 0.5459 - accuracy: 0.7278 - val_loss: 0.6929 - val_accuracy: 0.5321\n",
      "Epoch 5/8\n",
      "198/198 [==============================] - 8s 40ms/step - loss: 0.5449 - accuracy: 0.7341 - val_loss: 0.6992 - val_accuracy: 0.5235\n",
      "Epoch 6/8\n",
      "198/198 [==============================] - 8s 39ms/step - loss: 0.5437 - accuracy: 0.7327 - val_loss: 0.6984 - val_accuracy: 0.5055\n",
      "Epoch 7/8\n",
      "198/198 [==============================] - 8s 39ms/step - loss: 0.5412 - accuracy: 0.7324 - val_loss: 0.7209 - val_accuracy: 0.5316\n",
      "Epoch 8/8\n",
      "198/198 [==============================] - 7s 37ms/step - loss: 0.5445 - accuracy: 0.7300 - val_loss: 0.7206 - val_accuracy: 0.5287\n"
     ]
    }
   ],
   "source": [
    "history2 = model.fit(x_train2, \n",
    "                     y_train2, \n",
    "                     epochs=8, \n",
    "                     validation_data=(x_valid2, y_valid2), \n",
    "                     batch_size=64, \n",
    "                     shuffle=True, \n",
    "                     callbacks=[tensorboard])"
   ]
  },
  {
   "cell_type": "code",
   "execution_count": 159,
   "metadata": {},
   "outputs": [
    {
     "data": {
      "image/png": "[encoded data removed]",
      "text/plain": [
       "<Figure size 576x432 with 1 Axes>"
      ]
     },
     "metadata": {
      "needs_background": "light"
     },
     "output_type": "display_data"
    }
   ],
   "source": [
    "plot_loss(history2)"
   ]
  },
  {
   "cell_type": "code",
   "execution_count": 160,
   "metadata": {},
   "outputs": [
    {
     "data": {
      "image/png": "[encoded data removed]",
      "text/plain": [
       "<Figure size 576x432 with 1 Axes>"
      ]
     },
     "metadata": {
      "needs_background": "light"
     },
     "output_type": "display_data"
    }
   ],
   "source": [
    "plot_acc(history2)"
   ]
  },
  {
   "cell_type": "markdown",
   "metadata": {},
   "source": [
    "## 3.2 Performance of model"
   ]
  },
  {
   "cell_type": "code",
   "execution_count": 161,
   "metadata": {},
   "outputs": [
    {
     "name": "stdout",
     "output_type": "stream",
     "text": [
      "Upward ratio: 49.73%\n",
      "Mean prediction: 51.18%\n",
      "Predicted upward ratio: 46.89%\n",
      "Accuracy: 74.37%\n"
     ]
    }
   ],
   "source": [
    "performance_stats(model, x_train2, y_train2)"
   ]
  },
  {
   "cell_type": "code",
   "execution_count": 162,
   "metadata": {},
   "outputs": [
    {
     "name": "stdout",
     "output_type": "stream",
     "text": [
      "Upward ratio: 52.85%\n",
      "Mean prediction: 63.51%\n",
      "Predicted upward ratio: 96.77%\n",
      "Accuracy: 52.87%\n"
     ]
    }
   ],
   "source": [
    "performance_stats(model, x_valid2, y_valid2)"
   ]
  },
  {
   "cell_type": "code",
   "execution_count": 163,
   "metadata": {
    "scrolled": true
   },
   "outputs": [
    {
     "name": "stdout",
     "output_type": "stream",
     "text": [
      "Upward ratio: 47.04%\n",
      "Mean prediction: 58.20%\n",
      "Predicted upward ratio: 80.07%\n",
      "Accuracy: 47.14%\n"
     ]
    }
   ],
   "source": [
    "performance_stats(model, x_test2, y_test2)"
   ]
  }
 ],
 "metadata": {
  "kernelspec": {
   "display_name": "Python 3",
   "language": "python",
   "name": "python3"
  },
  "language_info": {
   "codemirror_mode": {
    "name": "ipython",
    "version": 3
   },
   "file_extension": ".py",
   "mimetype": "text/x-python",
   "name": "python",
   "nbconvert_exporter": "python",
   "pygments_lexer": "ipython3",
   "version": "3.8.5"
  }
 },
 "nbformat": 4,
 "nbformat_minor": 5
}
