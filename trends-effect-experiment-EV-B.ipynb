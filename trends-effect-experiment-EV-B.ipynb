{
 "cells": [
  {
   "cell_type": "markdown",
   "id": "geographic-egyptian",
   "metadata": {},
   "source": [
    "# Trend Classification with LSTM"
   ]
  },
  {
   "cell_type": "markdown",
   "id": "thermal-satin",
   "metadata": {},
   "source": [
    "### Imports"
   ]
  },
  {
   "cell_type": "code",
   "execution_count": 1,
   "id": "lightweight-birmingham",
   "metadata": {},
   "outputs": [
    {
     "data": {
      "text/html": [
       "<style>.container { width:100% !important; }</style>"
      ],
      "text/plain": [
       "<IPython.core.display.HTML object>"
      ]
     },
     "metadata": {},
     "output_type": "display_data"
    }
   ],
   "source": [
    "import os, sys\n",
    "import pandas as pd\n",
    "import numpy as np\n",
    "import yfinance as yf\n",
    "import matplotlib.pyplot as plt\n",
    "import seaborn as sns\n",
    "import random\n",
    "\n",
    "import tensorflow as tf\n",
    "from tensorflow.keras import Input, Model\n",
    "from tensorflow.keras.models import Sequential\n",
    "from tensorflow.keras.layers import *\n",
    "from tensorflow.keras.losses import CategoricalCrossentropy\n",
    "from tensorflow.keras.regularizers import l1, l2\n",
    "from tensorflow.keras.utils import to_categorical, plot_model\n",
    "from tensorflow.keras.preprocessing.sequence import TimeseriesGenerator\n",
    "from sklearn.metrics import confusion_matrix, mean_squared_error\n",
    "from sklearn.feature_extraction.text import CountVectorizer\n",
    "from sklearn.preprocessing import StandardScaler, MinMaxScaler, RobustScaler\n",
    "\n",
    "from time import time\n",
    "from tensorflow.python.keras.callbacks import TensorBoard\n",
    "import warnings\n",
    "warnings.simplefilter(\"ignore\")\n",
    "\n",
    "from indicators import *\n",
    "from data_loading import *\n",
    "from util_functions import *\n",
    "\n",
    "\n",
    "physical_devices = tf.config.list_physical_devices('GPU')\n",
    "tf.config.experimental.set_memory_growth(physical_devices[0], enable=True)\n",
    "\n",
    "from IPython.core.display import display, HTML\n",
    "display(HTML(\"<style>.container { width:100% !important; }</style>\"))\n",
    "\n",
    "pd.set_option('display.max_rows', 500)\n",
    "pd.set_option('display.max_columns', 500)\n",
    "pd.set_option('display.width', 1000)\n"
   ]
  },
  {
   "cell_type": "markdown",
   "id": "minus-mitchell",
   "metadata": {},
   "source": [
    "### Parameters"
   ]
  },
  {
   "cell_type": "code",
   "execution_count": 2,
   "id": "pressed-equality",
   "metadata": {},
   "outputs": [],
   "source": [
    "trail_size=14\n",
    "predict_length = 5\n",
    "time_period = '6y'"
   ]
  },
  {
   "cell_type": "markdown",
   "id": "mediterranean-pursuit",
   "metadata": {},
   "source": [
    "# 1.0 Load data"
   ]
  },
  {
   "cell_type": "markdown",
   "id": "opposite-bronze",
   "metadata": {},
   "source": [
    "## 1.1 Load stock data"
   ]
  },
  {
   "cell_type": "code",
   "execution_count": 3,
   "id": "color-myrtle",
   "metadata": {},
   "outputs": [],
   "source": [
    "top_energy = [\"XOM\", \"CVX\", \"RDS-A\", \"RDS-B\", \"PTR\", \"TOT\", \"BP\",\n",
    "\"SNP\", \"ENB\", \"COP\", \"EQNR\", \"PBR-A\", \"PBR\", \"EPD\",\n",
    "\"TRP\", \"E\", \"EOG\", \"SLB\", \"KMI\", \"PSX\", \"CNQ\",\n",
    "\"MPC\", \"PXD\", \"SU\", \"VLO\"]"
   ]
  },
  {
   "cell_type": "code",
   "execution_count": 4,
   "id": "coordinated-engineering",
   "metadata": {},
   "outputs": [],
   "source": [
    "traditional_energy_stocks = [ \"LNG\", \"OKE\", \"BKR\", \"WMB\", \"EQT\",  \"XEC\",  \"XOM\",  \"CVX\",  \"BP\",  \"OXY\",  \"COP\",  \"EOG\",  \"COG\",  \"CNQ\",  \"SLB\",  \"PTR\",  \"TOT\",  \"ENB\"]"
   ]
  },
  {
   "cell_type": "code",
   "execution_count": 5,
   "id": "northern-glance",
   "metadata": {},
   "outputs": [],
   "source": [
    "green_energy_stocks = [\"CSIQ\", \"SPWR\", \"AQN.TO\", \"DQ\", \"HYSR\", \"PLUG\", \"SOL\", \"NEE\", \"ENPH\", \"FSLR\", \"SEDG\", \"ORA\", ]"
   ]
  },
  {
   "cell_type": "code",
   "execution_count": 6,
   "id": "parallel-landscape",
   "metadata": {},
   "outputs": [],
   "source": [
    "ev_battery_stocks = [\"TSLA\", \"WKHS\", \"BLNK\", \"LAC\", \"MG\", \"KNDI\", \"NFI.TO\", \"BLDP\", \"AYRO\"]"
   ]
  },
  {
   "cell_type": "code",
   "execution_count": 7,
   "id": "adult-graphic",
   "metadata": {},
   "outputs": [
    {
     "name": "stdout",
     "output_type": "stream",
     "text": [
      "[*********************100%***********************]  21 of 21 completed\n"
     ]
    }
   ],
   "source": [
    "data = get_data_yf(green_energy_stocks + ev_battery_stocks, time_period)"
   ]
  },
  {
   "cell_type": "code",
   "execution_count": 8,
   "id": "innovative-november",
   "metadata": {},
   "outputs": [
    {
     "data": {
      "text/plain": [
       "2770"
      ]
     },
     "execution_count": 8,
     "metadata": {},
     "output_type": "execute_result"
    }
   ],
   "source": [
    "data.isna().sum().sum()"
   ]
  },
  {
   "cell_type": "code",
   "execution_count": 9,
   "id": "consolidated-witness",
   "metadata": {},
   "outputs": [
    {
     "data": {
      "text/plain": [
       "56"
      ]
     },
     "execution_count": 9,
     "metadata": {},
     "output_type": "execute_result"
    }
   ],
   "source": [
    "sum(data.isna().sum(axis=1)>0)"
   ]
  },
  {
   "cell_type": "code",
   "execution_count": 10,
   "id": "preceding-closer",
   "metadata": {},
   "outputs": [],
   "source": [
    "data = data.dropna()"
   ]
  },
  {
   "cell_type": "code",
   "execution_count": 11,
   "id": "controlling-start",
   "metadata": {},
   "outputs": [
    {
     "data": {
      "text/plain": [
       "0"
      ]
     },
     "execution_count": 11,
     "metadata": {},
     "output_type": "execute_result"
    }
   ],
   "source": [
    "sum(data.isna().sum(axis=1)>0)"
   ]
  },
  {
   "cell_type": "code",
   "execution_count": 12,
   "id": "weighted-design",
   "metadata": {},
   "outputs": [],
   "source": [
    "data = process_stock_data_from_yf(data)"
   ]
  },
  {
   "cell_type": "code",
   "execution_count": 13,
   "id": "incorporate-prime",
   "metadata": {},
   "outputs": [
    {
     "data": {
      "text/plain": [
       "100.0"
      ]
     },
     "execution_count": 13,
     "metadata": {},
     "output_type": "execute_result"
    }
   ],
   "source": [
    "has_data_ratio, data = filter_has_all_data(data)\n",
    "has_data_ratio"
   ]
  },
  {
   "cell_type": "markdown",
   "id": "elegant-convertible",
   "metadata": {},
   "source": [
    "## 1.2 Compute technical indicators"
   ]
  },
  {
   "cell_type": "code",
   "execution_count": 14,
   "id": "geographic-devon",
   "metadata": {},
   "outputs": [],
   "source": [
    "all_stock_features = ['Close', 'High',\n",
    " 'Low', 'Open', 'Volume',\n",
    " 'HH', 'LL', 'AV',\n",
    " 'SMA', 'SD', 'WILLR',\n",
    " 'ATR', 'DMH', 'DML',\n",
    " 'EMA', 'WMA', 'BBHIGH',\n",
    " 'BBLOW', 'PERBHIGH', 'PERBLOW',\n",
    " 'TRIMA', 'RSI', 'DX',\n",
    " 'PDI', 'NDI', 'ADX',\n",
    " 'ROC', 'MACD', 'CCI']"
   ]
  },
  {
   "cell_type": "code",
   "execution_count": 15,
   "id": "introductory-controversy",
   "metadata": {},
   "outputs": [],
   "source": [
    "# compute all our technical markers for each of the stocks. \n",
    "dataset = data.groupby('Ticker').apply(lambda x: add_technical_markers(x, trail_size))"
   ]
  },
  {
   "cell_type": "markdown",
   "id": "focal-wichita",
   "metadata": {},
   "source": [
    "## 1.3 Load trends data"
   ]
  },
  {
   "cell_type": "code",
   "execution_count": 16,
   "id": "skilled-lodging",
   "metadata": {},
   "outputs": [],
   "source": [
    "filenames = [\n",
    "    \"data climate change adjusted.csv\",\n",
    "    \"data greenhouse gas adjusted.csv\",\n",
    "    \"data oil adjusted.csv\",\n",
    "    \"data renewable adjusted.csv\",\n",
    "    \"data carbon tax adjusted.csv\",\n",
    "    \"data electric vehicles adjusted.csv\",\n",
    "    \"data environmental protection agency adjusted.csv\",\n",
    "    \"data fossil fuels adjusted.csv\",\n",
    "    \"data fracking adjusted.csv\",\n",
    "    \"data global warming adjusted.csv\",\n",
    "]\n",
    "terms = [\n",
    "    \"climate change\",\n",
    "    \"greenhouse gas\",\n",
    "    \"oil\",\n",
    "    \"renewable\",\n",
    "    \"carbon tax\",\n",
    "    \"electric vehicles\",\n",
    "    \"environmental protection agency\",\n",
    "    \"fossil fuels\",\n",
    "    \"fracking\",\n",
    "    \"global warming\",\n",
    "]"
   ]
  },
  {
   "cell_type": "code",
   "execution_count": 17,
   "id": "senior-dispute",
   "metadata": {},
   "outputs": [],
   "source": [
    "climate_trends_data = load_climate_data(filenames, terms)"
   ]
  },
  {
   "cell_type": "code",
   "execution_count": 18,
   "id": "alive-mirror",
   "metadata": {},
   "outputs": [
    {
     "data": {
      "text/plain": [
       "(2278, 11)"
      ]
     },
     "execution_count": 18,
     "metadata": {},
     "output_type": "execute_result"
    }
   ],
   "source": [
    "climate_trends_data.shape"
   ]
  },
  {
   "cell_type": "code",
   "execution_count": 19,
   "id": "dietary-compatibility",
   "metadata": {},
   "outputs": [
    {
     "data": {
      "text/plain": [
       "<AxesSubplot:xlabel='Date'>"
      ]
     },
     "execution_count": 19,
     "metadata": {},
     "output_type": "execute_result"
    },
    {
     "data": {
      "image/png": "[encoded data removed]",
      "text/plain": [
       "<Figure size 432x288 with 1 Axes>"
      ]
     },
     "metadata": {
      "needs_background": "light"
     },
     "output_type": "display_data"
    }
   ],
   "source": [
    "climate_trends_data.set_index('Date')[terms[0]].plot()"
   ]
  },
  {
   "cell_type": "markdown",
   "id": "utility-speed",
   "metadata": {},
   "source": [
    "### Choose features"
   ]
  },
  {
   "cell_type": "code",
   "execution_count": 20,
   "id": "graphic-cornell",
   "metadata": {},
   "outputs": [],
   "source": [
    "chosen_stock_features = ['Close', 'High',\n",
    " 'Low', \n",
    "'Open', 'Volume',\n",
    " 'HH', 'LL', 'AV',\n",
    " 'SMA', 'SD', \n",
    "#'WILLR',\n",
    " 'ATR', 'DMH', 'DML',\n",
    " 'EMA', \n",
    "'WMA', \n",
    "'BBHIGH',\n",
    " 'BBLOW', 'PERBHIGH', 'PERBLOW',\n",
    " 'TRIMA', 'RSI', \n",
    "#'DX',\n",
    " 'PDI', 'NDI', \n",
    "'ADX',\n",
    " 'ROC', 'MACD', 'CCI'\n",
    "                        ]\n",
    "# DX and WILLR can cause issues when stock prices don't change, results in lots of nan. "
   ]
  },
  {
   "cell_type": "code",
   "execution_count": 21,
   "id": "certain-arbor",
   "metadata": {},
   "outputs": [],
   "source": [
    "chosen_trend_terms = [\n",
    "#     \"climate change\",\n",
    "#     \"greenhouse gas\",\n",
    "#     \"oil\",\n",
    "#     \"renewable\",\n",
    "#     \"carbon tax\",\n",
    "#     \"electric vehicles\",\n",
    "# #     \"environmental protection agency\",\n",
    "#     \"fossil fuels\",\n",
    "# #     \"fracking\",\n",
    "#     \"global warming\",\n",
    "]"
   ]
  },
  {
   "cell_type": "markdown",
   "id": "latest-facility",
   "metadata": {},
   "source": [
    "# 3.0 Model design"
   ]
  },
  {
   "cell_type": "code",
   "execution_count": 22,
   "id": "solid-worse",
   "metadata": {},
   "outputs": [],
   "source": [
    "num_features = len(chosen_stock_features) + len(chosen_trend_terms) "
   ]
  },
  {
   "cell_type": "code",
   "execution_count": 23,
   "id": "noble-instrument",
   "metadata": {},
   "outputs": [],
   "source": [
    "reg = 0.002\n",
    "drop=0.25\n",
    "\n",
    "model = Sequential()\n",
    "model.add(LSTM(units=75, input_shape=(trail_size, num_features), return_sequences=True, activity_regularizer=l2(reg)))\n",
    "model.add(Dropout(drop))\n",
    "model.add(LSTM(units=30, return_sequences=True, activity_regularizer=l2(reg)))\n",
    "model.add(Dropout(drop))\n",
    "\n",
    "model.add(LSTM(units=30, return_sequences=True, activity_regularizer=l2(reg)))\n",
    "model.add(Dropout(drop))\n",
    "\n",
    "model.add(LSTM(units=30, return_sequences=True, activity_regularizer=l2(reg)))\n",
    "model.add(Dropout(drop))\n",
    "\n",
    "model.add(Flatten())\n",
    "\n",
    "model.add(Dense(5, activation='relu', activity_regularizer=l2(reg)))\n",
    "model.add(Dropout(drop))\n",
    "\n",
    "\n",
    "model.add(Dense(1, activation='sigmoid'))"
   ]
  },
  {
   "cell_type": "code",
   "execution_count": 24,
   "id": "different-compatibility",
   "metadata": {},
   "outputs": [
    {
     "name": "stdout",
     "output_type": "stream",
     "text": [
      "Model: \"sequential\"\n",
      "_________________________________________________________________\n",
      "Layer (type)                 Output Shape              Param #   \n",
      "=================================================================\n",
      "lstm (LSTM)                  (None, 14, 75)            30900     \n",
      "_________________________________________________________________\n",
      "dropout (Dropout)            (None, 14, 75)            0         \n",
      "_________________________________________________________________\n",
      "lstm_1 (LSTM)                (None, 14, 30)            12720     \n",
      "_________________________________________________________________\n",
      "dropout_1 (Dropout)          (None, 14, 30)            0         \n",
      "_________________________________________________________________\n",
      "lstm_2 (LSTM)                (None, 14, 30)            7320      \n",
      "_________________________________________________________________\n",
      "dropout_2 (Dropout)          (None, 14, 30)            0         \n",
      "_________________________________________________________________\n",
      "lstm_3 (LSTM)                (None, 14, 30)            7320      \n",
      "_________________________________________________________________\n",
      "dropout_3 (Dropout)          (None, 14, 30)            0         \n",
      "_________________________________________________________________\n",
      "flatten (Flatten)            (None, 420)               0         \n",
      "_________________________________________________________________\n",
      "dense (Dense)                (None, 5)                 2105      \n",
      "_________________________________________________________________\n",
      "dropout_4 (Dropout)          (None, 5)                 0         \n",
      "_________________________________________________________________\n",
      "dense_1 (Dense)              (None, 1)                 6         \n",
      "=================================================================\n",
      "Total params: 60,371\n",
      "Trainable params: 60,371\n",
      "Non-trainable params: 0\n",
      "_________________________________________________________________\n"
     ]
    }
   ],
   "source": [
    "model.summary()"
   ]
  },
  {
   "cell_type": "markdown",
   "id": "western-symphony",
   "metadata": {},
   "source": [
    "# 2.0 Prepare dataset of many stocks"
   ]
  },
  {
   "cell_type": "code",
   "execution_count": 25,
   "id": "least-baker",
   "metadata": {},
   "outputs": [],
   "source": [
    "x_train, y_train, x_valid, y_valid, x_test, y_test = generate_dataset(dataset, \n",
    "                                                                           climate_trends_data,\n",
    "                                                                           ev_battery_stocks + top_energy,\n",
    "                                                                           \"2018-03-01\", \"2019-03-01\", \"2020-03-01\", \n",
    "                                                                           chosen_stock_features, chosen_trend_terms,\n",
    "                                                                            trail_size, predict_length\n",
    "                                                                           )"
   ]
  },
  {
   "cell_type": "code",
   "execution_count": 26,
   "id": "convinced-reggae",
   "metadata": {},
   "outputs": [
    {
     "name": "stdout",
     "output_type": "stream",
     "text": [
      "x_train: (6174, 14, 27)\n",
      "y_train: (6174,)\n",
      "x_valid: (2043, 14, 27)\n",
      "y_valid (2043,)\n",
      "x_test: (2052, 14, 27)\n",
      "y_test (2052,)\n"
     ]
    }
   ],
   "source": [
    "print(\"x_train: {}\".format(x_train.shape))\n",
    "print(\"y_train: {}\".format(y_train.shape))\n",
    "print(\"x_valid: {}\".format(x_valid.shape))\n",
    "print(\"y_valid {}\".format(y_valid.shape))\n",
    "print(\"x_test: {}\".format(x_test.shape))\n",
    "print(\"y_test {}\".format(y_test.shape))"
   ]
  },
  {
   "cell_type": "markdown",
   "id": "distinguished-polish",
   "metadata": {},
   "source": [
    "## 2.1 Train on many stocks"
   ]
  },
  {
   "cell_type": "code",
   "execution_count": 27,
   "id": "working-uganda",
   "metadata": {},
   "outputs": [],
   "source": [
    "time_stamp = time()\n",
    "tensorboard = TensorBoard(log_dir='logs/{}'.format(time_stamp))"
   ]
  },
  {
   "cell_type": "code",
   "execution_count": 28,
   "id": "acting-holiday",
   "metadata": {},
   "outputs": [],
   "source": [
    "model.compile(optimizer='adam', loss='binary_crossentropy', metrics='accuracy')"
   ]
  },
  {
   "cell_type": "code",
   "execution_count": 29,
   "id": "broke-blank",
   "metadata": {},
   "outputs": [
    {
     "name": "stdout",
     "output_type": "stream",
     "text": [
      "Epoch 1/15\n",
      "97/97 [==============================] - 11s 54ms/step - loss: 0.7052 - accuracy: 0.5124 - val_loss: 0.6962 - val_accuracy: 0.5839\n",
      "Epoch 2/15\n",
      "97/97 [==============================] - 2s 18ms/step - loss: 0.6931 - accuracy: 0.5155 - val_loss: 0.6956 - val_accuracy: 0.5737\n",
      "Epoch 3/15\n",
      "97/97 [==============================] - 2s 18ms/step - loss: 0.6929 - accuracy: 0.5248 - val_loss: 0.6938 - val_accuracy: 0.5565\n",
      "Epoch 4/15\n",
      "97/97 [==============================] - 2s 18ms/step - loss: 0.6914 - accuracy: 0.5360 - val_loss: 0.7122 - val_accuracy: 0.5409\n",
      "Epoch 5/15\n",
      "97/97 [==============================] - 2s 19ms/step - loss: 0.6909 - accuracy: 0.5290 - val_loss: 0.7047 - val_accuracy: 0.5482\n",
      "Epoch 6/15\n",
      "97/97 [==============================] - 2s 18ms/step - loss: 0.6910 - accuracy: 0.5287 - val_loss: 0.7327 - val_accuracy: 0.5575\n",
      "Epoch 7/15\n",
      "97/97 [==============================] - 2s 18ms/step - loss: 0.6893 - accuracy: 0.5367 - val_loss: 0.7832 - val_accuracy: 0.4395\n",
      "Epoch 8/15\n",
      "97/97 [==============================] - 2s 18ms/step - loss: 0.6877 - accuracy: 0.5474 - val_loss: 0.8083 - val_accuracy: 0.5002\n",
      "Epoch 9/15\n",
      "97/97 [==============================] - 2s 18ms/step - loss: 0.6856 - accuracy: 0.5487 - val_loss: 0.8489 - val_accuracy: 0.4405\n",
      "Epoch 10/15\n",
      "97/97 [==============================] - 2s 16ms/step - loss: 0.6871 - accuracy: 0.5515 - val_loss: 0.8388 - val_accuracy: 0.4934\n",
      "Epoch 11/15\n",
      "97/97 [==============================] - 2s 16ms/step - loss: 0.6850 - accuracy: 0.5514 - val_loss: 0.7911 - val_accuracy: 0.4983\n",
      "Epoch 12/15\n",
      "97/97 [==============================] - 1s 15ms/step - loss: 0.6842 - accuracy: 0.5512 - val_loss: 0.9480 - val_accuracy: 0.4895\n",
      "Epoch 13/15\n",
      "97/97 [==============================] - 2s 16ms/step - loss: 0.6828 - accuracy: 0.5580 - val_loss: 0.9388 - val_accuracy: 0.4381\n",
      "Epoch 14/15\n",
      "97/97 [==============================] - 1s 15ms/step - loss: 0.6835 - accuracy: 0.5470 - val_loss: 0.9364 - val_accuracy: 0.4581\n",
      "Epoch 15/15\n",
      "97/97 [==============================] - 1s 15ms/step - loss: 0.6845 - accuracy: 0.5608 - val_loss: 0.9847 - val_accuracy: 0.4430\n"
     ]
    }
   ],
   "source": [
    "history1 = model.fit(x_train, \n",
    "                     y_train, \n",
    "                     epochs=15, \n",
    "                     validation_data=(x_valid, y_valid), \n",
    "                     batch_size=64, \n",
    "                     shuffle=True, \n",
    "                     callbacks=[tensorboard])"
   ]
  },
  {
   "cell_type": "code",
   "execution_count": 30,
   "id": "remarkable-senate",
   "metadata": {},
   "outputs": [
    {
     "data": {
      "image/png": "[encoded data removed]",
      "text/plain": [
       "<Figure size 576x432 with 1 Axes>"
      ]
     },
     "metadata": {
      "needs_background": "light"
     },
     "output_type": "display_data"
    }
   ],
   "source": [
    "plot_loss(history1)"
   ]
  },
  {
   "cell_type": "code",
   "execution_count": 31,
   "id": "requested-launch",
   "metadata": {},
   "outputs": [
    {
     "data": {
      "image/png": "[encoded data removed]",
      "text/plain": [
       "<Figure size 576x432 with 1 Axes>"
      ]
     },
     "metadata": {
      "needs_background": "light"
     },
     "output_type": "display_data"
    }
   ],
   "source": [
    "plot_acc(history1)"
   ]
  },
  {
   "cell_type": "markdown",
   "id": "concerned-suite",
   "metadata": {},
   "source": [
    "## 2.2 Performance of model"
   ]
  },
  {
   "cell_type": "code",
   "execution_count": 32,
   "id": "blessed-probe",
   "metadata": {},
   "outputs": [
    {
     "name": "stdout",
     "output_type": "stream",
     "text": [
      "Upward ratio: 48.02%\n",
      "Mean prediction: 50.07%\n",
      "Predicted upward ratio: 46.50%\n",
      "Accuracy: 56.30%\n"
     ]
    }
   ],
   "source": [
    "performance_stats(model, x_train, y_train)"
   ]
  },
  {
   "cell_type": "code",
   "execution_count": 33,
   "id": "lesser-repair",
   "metadata": {},
   "outputs": [
    {
     "name": "stdout",
     "output_type": "stream",
     "text": [
      "Upward ratio: 41.61%\n",
      "Mean prediction: 61.82%\n",
      "Predicted upward ratio: 65.20%\n",
      "Accuracy: 44.30%\n"
     ]
    }
   ],
   "source": [
    "performance_stats(model, x_valid, y_valid)"
   ]
  },
  {
   "cell_type": "code",
   "execution_count": 34,
   "id": "through-prevention",
   "metadata": {
    "scrolled": false
   },
   "outputs": [
    {
     "name": "stdout",
     "output_type": "stream",
     "text": [
      "Upward ratio: 50.15%\n",
      "Mean prediction: 63.67%\n",
      "Predicted upward ratio: 77.00%\n",
      "Accuracy: 51.71%\n"
     ]
    }
   ],
   "source": [
    "performance_stats(model, x_test, y_test)"
   ]
  },
  {
   "cell_type": "markdown",
   "id": "complete-riverside",
   "metadata": {},
   "source": [
    "# 3.0 Prepare data for less stocks"
   ]
  },
  {
   "cell_type": "code",
   "execution_count": 35,
   "id": "front-porcelain",
   "metadata": {},
   "outputs": [
    {
     "data": {
      "text/html": [
       "<div>\n",
       "<style scoped>\n",
       "    .dataframe tbody tr th:only-of-type {\n",
       "        vertical-align: middle;\n",
       "    }\n",
       "\n",
       "    .dataframe tbody tr th {\n",
       "        vertical-align: top;\n",
       "    }\n",
       "\n",
       "    .dataframe thead th {\n",
       "        text-align: right;\n",
       "    }\n",
       "</style>\n",
       "<table border=\"1\" class=\"dataframe\">\n",
       "  <thead>\n",
       "    <tr style=\"text-align: right;\">\n",
       "      <th></th>\n",
       "      <th>Ticker</th>\n",
       "      <th>Date</th>\n",
       "      <th>Close</th>\n",
       "      <th>High</th>\n",
       "      <th>Low</th>\n",
       "      <th>Open</th>\n",
       "      <th>Volume</th>\n",
       "      <th>HH</th>\n",
       "      <th>LL</th>\n",
       "      <th>AV</th>\n",
       "      <th>SMA</th>\n",
       "      <th>SD</th>\n",
       "      <th>WILLR</th>\n",
       "      <th>ATR</th>\n",
       "      <th>DMH</th>\n",
       "      <th>DML</th>\n",
       "      <th>EMA</th>\n",
       "      <th>WMA</th>\n",
       "      <th>BBHIGH</th>\n",
       "      <th>BBLOW</th>\n",
       "      <th>PERBHIGH</th>\n",
       "      <th>PERBLOW</th>\n",
       "      <th>TRIMA</th>\n",
       "      <th>RSI</th>\n",
       "      <th>DX</th>\n",
       "      <th>PDI</th>\n",
       "      <th>NDI</th>\n",
       "      <th>ADX</th>\n",
       "      <th>ROC</th>\n",
       "      <th>MACD</th>\n",
       "      <th>CCI</th>\n",
       "    </tr>\n",
       "  </thead>\n",
       "  <tbody>\n",
       "    <tr>\n",
       "      <th>0</th>\n",
       "      <td>AQN.TO</td>\n",
       "      <td>2015-04-02</td>\n",
       "      <td>7.085742</td>\n",
       "      <td>7.138790</td>\n",
       "      <td>7.040272</td>\n",
       "      <td>7.047850</td>\n",
       "      <td>329000.0</td>\n",
       "      <td>7.138790</td>\n",
       "      <td>7.040272</td>\n",
       "      <td>3.290000e+05</td>\n",
       "      <td>7.085742</td>\n",
       "      <td>NaN</td>\n",
       "      <td>-53.845872</td>\n",
       "      <td>0.098518</td>\n",
       "      <td>0.000000e+00</td>\n",
       "      <td>0.000000</td>\n",
       "      <td>7.085742</td>\n",
       "      <td>NaN</td>\n",
       "      <td>NaN</td>\n",
       "      <td>NaN</td>\n",
       "      <td>NaN</td>\n",
       "      <td>NaN</td>\n",
       "      <td>NaN</td>\n",
       "      <td>NaN</td>\n",
       "      <td>NaN</td>\n",
       "      <td>0.000000</td>\n",
       "      <td>0.000000</td>\n",
       "      <td>NaN</td>\n",
       "      <td>0.000000</td>\n",
       "      <td>0.000000</td>\n",
       "      <td>NaN</td>\n",
       "    </tr>\n",
       "    <tr>\n",
       "      <th>1</th>\n",
       "      <td>AQN.TO</td>\n",
       "      <td>2015-04-06</td>\n",
       "      <td>7.366138</td>\n",
       "      <td>7.381295</td>\n",
       "      <td>7.138788</td>\n",
       "      <td>7.176680</td>\n",
       "      <td>630100.0</td>\n",
       "      <td>7.381295</td>\n",
       "      <td>7.040272</td>\n",
       "      <td>4.795500e+05</td>\n",
       "      <td>7.225940</td>\n",
       "      <td>0.198270</td>\n",
       "      <td>-6.249851</td>\n",
       "      <td>0.197036</td>\n",
       "      <td>2.425046e-01</td>\n",
       "      <td>0.098517</td>\n",
       "      <td>7.235954</td>\n",
       "      <td>NaN</td>\n",
       "      <td>7.622481</td>\n",
       "      <td>6.829400</td>\n",
       "      <td>38.444906</td>\n",
       "      <td>34.444906</td>\n",
       "      <td>NaN</td>\n",
       "      <td>NaN</td>\n",
       "      <td>42.222566</td>\n",
       "      <td>123.076574</td>\n",
       "      <td>49.999440</td>\n",
       "      <td>42.222566</td>\n",
       "      <td>3.957193</td>\n",
       "      <td>0.005007</td>\n",
       "      <td>7.644186</td>\n",
       "    </tr>\n",
       "    <tr>\n",
       "      <th>2</th>\n",
       "      <td>AQN.TO</td>\n",
       "      <td>2015-04-07</td>\n",
       "      <td>7.237308</td>\n",
       "      <td>7.381296</td>\n",
       "      <td>7.214573</td>\n",
       "      <td>7.381296</td>\n",
       "      <td>414500.0</td>\n",
       "      <td>7.381296</td>\n",
       "      <td>7.040272</td>\n",
       "      <td>4.578667e+05</td>\n",
       "      <td>7.229729</td>\n",
       "      <td>0.140352</td>\n",
       "      <td>-86.363715</td>\n",
       "      <td>0.186931</td>\n",
       "      <td>7.998546e-07</td>\n",
       "      <td>0.075784</td>\n",
       "      <td>7.236471</td>\n",
       "      <td>NaN</td>\n",
       "      <td>7.510433</td>\n",
       "      <td>6.949026</td>\n",
       "      <td>53.511498</td>\n",
       "      <td>49.511498</td>\n",
       "      <td>NaN</td>\n",
       "      <td>NaN</td>\n",
       "      <td>99.997889</td>\n",
       "      <td>0.000428</td>\n",
       "      <td>40.541299</td>\n",
       "      <td>71.110227</td>\n",
       "      <td>2.139022</td>\n",
       "      <td>0.003251</td>\n",
       "      <td>21.598056</td>\n",
       "    </tr>\n",
       "    <tr>\n",
       "      <th>3</th>\n",
       "      <td>AQN.TO</td>\n",
       "      <td>2015-04-08</td>\n",
       "      <td>7.244886</td>\n",
       "      <td>7.290356</td>\n",
       "      <td>7.176681</td>\n",
       "      <td>7.275199</td>\n",
       "      <td>263600.0</td>\n",
       "      <td>7.381296</td>\n",
       "      <td>7.040272</td>\n",
       "      <td>4.093000e+05</td>\n",
       "      <td>7.233518</td>\n",
       "      <td>0.114847</td>\n",
       "      <td>-39.999746</td>\n",
       "      <td>0.168617</td>\n",
       "      <td>-9.094004e-02</td>\n",
       "      <td>-0.037892</td>\n",
       "      <td>7.239046</td>\n",
       "      <td>NaN</td>\n",
       "      <td>7.463213</td>\n",
       "      <td>7.003824</td>\n",
       "      <td>64.983938</td>\n",
       "      <td>60.983938</td>\n",
       "      <td>NaN</td>\n",
       "      <td>NaN</td>\n",
       "      <td>41.176189</td>\n",
       "      <td>-53.932846</td>\n",
       "      <td>-22.472171</td>\n",
       "      <td>61.132215</td>\n",
       "      <td>2.245974</td>\n",
       "      <td>0.002589</td>\n",
       "      <td>-0.000123</td>\n",
       "    </tr>\n",
       "    <tr>\n",
       "      <th>4</th>\n",
       "      <td>AQN.TO</td>\n",
       "      <td>2015-04-09</td>\n",
       "      <td>7.206995</td>\n",
       "      <td>7.252465</td>\n",
       "      <td>7.161525</td>\n",
       "      <td>7.222151</td>\n",
       "      <td>622000.0</td>\n",
       "      <td>7.381296</td>\n",
       "      <td>7.040272</td>\n",
       "      <td>4.518400e+05</td>\n",
       "      <td>7.228214</td>\n",
       "      <td>0.100165</td>\n",
       "      <td>-49.999603</td>\n",
       "      <td>0.153082</td>\n",
       "      <td>-3.789091e-02</td>\n",
       "      <td>-0.015156</td>\n",
       "      <td>7.230684</td>\n",
       "      <td>NaN</td>\n",
       "      <td>7.428544</td>\n",
       "      <td>7.027883</td>\n",
       "      <td>74.162880</td>\n",
       "      <td>70.162880</td>\n",
       "      <td>NaN</td>\n",
       "      <td>NaN</td>\n",
       "      <td>42.857788</td>\n",
       "      <td>-24.752078</td>\n",
       "      <td>-9.900675</td>\n",
       "      <td>56.563608</td>\n",
       "      <td>1.711225</td>\n",
       "      <td>0.000990</td>\n",
       "      <td>-9.415168</td>\n",
       "    </tr>\n",
       "    <tr>\n",
       "      <th>...</th>\n",
       "      <td>...</td>\n",
       "      <td>...</td>\n",
       "      <td>...</td>\n",
       "      <td>...</td>\n",
       "      <td>...</td>\n",
       "      <td>...</td>\n",
       "      <td>...</td>\n",
       "      <td>...</td>\n",
       "      <td>...</td>\n",
       "      <td>...</td>\n",
       "      <td>...</td>\n",
       "      <td>...</td>\n",
       "      <td>...</td>\n",
       "      <td>...</td>\n",
       "      <td>...</td>\n",
       "      <td>...</td>\n",
       "      <td>...</td>\n",
       "      <td>...</td>\n",
       "      <td>...</td>\n",
       "      <td>...</td>\n",
       "      <td>...</td>\n",
       "      <td>...</td>\n",
       "      <td>...</td>\n",
       "      <td>...</td>\n",
       "      <td>...</td>\n",
       "      <td>...</td>\n",
       "      <td>...</td>\n",
       "      <td>...</td>\n",
       "      <td>...</td>\n",
       "      <td>...</td>\n",
       "      <td>...</td>\n",
       "    </tr>\n",
       "    <tr>\n",
       "      <th>31096</th>\n",
       "      <td>WKHS</td>\n",
       "      <td>2021-03-26</td>\n",
       "      <td>13.450000</td>\n",
       "      <td>14.300000</td>\n",
       "      <td>12.870000</td>\n",
       "      <td>13.730000</td>\n",
       "      <td>13457600.0</td>\n",
       "      <td>18.590000</td>\n",
       "      <td>12.570000</td>\n",
       "      <td>1.511144e+07</td>\n",
       "      <td>15.716429</td>\n",
       "      <td>1.507201</td>\n",
       "      <td>-59.440573</td>\n",
       "      <td>1.616714</td>\n",
       "      <td>2.399998e-01</td>\n",
       "      <td>0.300000</td>\n",
       "      <td>15.669805</td>\n",
       "      <td>16.349429</td>\n",
       "      <td>18.730831</td>\n",
       "      <td>12.702026</td>\n",
       "      <td>12.427557</td>\n",
       "      <td>8.427557</td>\n",
       "      <td>16.500918</td>\n",
       "      <td>35.077815</td>\n",
       "      <td>11.111190</td>\n",
       "      <td>14.844909</td>\n",
       "      <td>18.556166</td>\n",
       "      <td>53.740599</td>\n",
       "      <td>-13.225808</td>\n",
       "      <td>-2.797095</td>\n",
       "      <td>-62.851695</td>\n",
       "    </tr>\n",
       "    <tr>\n",
       "      <th>31097</th>\n",
       "      <td>WKHS</td>\n",
       "      <td>2021-03-29</td>\n",
       "      <td>12.930000</td>\n",
       "      <td>13.430000</td>\n",
       "      <td>12.600000</td>\n",
       "      <td>13.378000</td>\n",
       "      <td>9756800.0</td>\n",
       "      <td>18.590000</td>\n",
       "      <td>12.570000</td>\n",
       "      <td>1.369120e+07</td>\n",
       "      <td>15.472143</td>\n",
       "      <td>1.665460</td>\n",
       "      <td>-60.240969</td>\n",
       "      <td>1.513143</td>\n",
       "      <td>-8.699999e-01</td>\n",
       "      <td>-0.270000</td>\n",
       "      <td>15.304497</td>\n",
       "      <td>16.232381</td>\n",
       "      <td>18.803063</td>\n",
       "      <td>12.141223</td>\n",
       "      <td>11.290012</td>\n",
       "      <td>7.290012</td>\n",
       "      <td>16.225536</td>\n",
       "      <td>33.988706</td>\n",
       "      <td>52.631641</td>\n",
       "      <td>-57.496213</td>\n",
       "      <td>-17.843622</td>\n",
       "      <td>48.853383</td>\n",
       "      <td>-20.917431</td>\n",
       "      <td>-2.780547</td>\n",
       "      <td>-65.571277</td>\n",
       "    </tr>\n",
       "    <tr>\n",
       "      <th>31098</th>\n",
       "      <td>WKHS</td>\n",
       "      <td>2021-03-30</td>\n",
       "      <td>13.400000</td>\n",
       "      <td>13.410000</td>\n",
       "      <td>12.400000</td>\n",
       "      <td>12.940000</td>\n",
       "      <td>8341900.0</td>\n",
       "      <td>18.590000</td>\n",
       "      <td>12.400000</td>\n",
       "      <td>1.287926e+07</td>\n",
       "      <td>15.290714</td>\n",
       "      <td>1.746929</td>\n",
       "      <td>-0.990121</td>\n",
       "      <td>1.471714</td>\n",
       "      <td>-2.000046e-02</td>\n",
       "      <td>-0.200001</td>\n",
       "      <td>15.050564</td>\n",
       "      <td>16.145810</td>\n",
       "      <td>18.784573</td>\n",
       "      <td>11.796856</td>\n",
       "      <td>10.752910</td>\n",
       "      <td>6.752910</td>\n",
       "      <td>16.015153</td>\n",
       "      <td>35.925152</td>\n",
       "      <td>81.817867</td>\n",
       "      <td>-1.358991</td>\n",
       "      <td>-13.589646</td>\n",
       "      <td>40.990985</td>\n",
       "      <td>-15.934756</td>\n",
       "      <td>-2.711374</td>\n",
       "      <td>-60.696085</td>\n",
       "    </tr>\n",
       "    <tr>\n",
       "      <th>31099</th>\n",
       "      <td>WKHS</td>\n",
       "      <td>2021-03-31</td>\n",
       "      <td>13.770000</td>\n",
       "      <td>14.070000</td>\n",
       "      <td>13.390000</td>\n",
       "      <td>13.900000</td>\n",
       "      <td>11293600.0</td>\n",
       "      <td>18.590000</td>\n",
       "      <td>12.400000</td>\n",
       "      <td>1.203339e+07</td>\n",
       "      <td>15.024286</td>\n",
       "      <td>1.666658</td>\n",
       "      <td>-44.117577</td>\n",
       "      <td>1.369571</td>\n",
       "      <td>6.599998e-01</td>\n",
       "      <td>0.990001</td>\n",
       "      <td>14.879822</td>\n",
       "      <td>15.815715</td>\n",
       "      <td>18.357603</td>\n",
       "      <td>11.690969</td>\n",
       "      <td>11.014617</td>\n",
       "      <td>7.014617</td>\n",
       "      <td>15.864617</td>\n",
       "      <td>37.480028</td>\n",
       "      <td>20.000046</td>\n",
       "      <td>48.190247</td>\n",
       "      <td>72.285440</td>\n",
       "      <td>39.728054</td>\n",
       "      <td>-21.314283</td>\n",
       "      <td>-2.606809</td>\n",
       "      <td>-34.514462</td>\n",
       "    </tr>\n",
       "    <tr>\n",
       "      <th>31100</th>\n",
       "      <td>WKHS</td>\n",
       "      <td>2021-04-01</td>\n",
       "      <td>14.140000</td>\n",
       "      <td>14.910000</td>\n",
       "      <td>13.990000</td>\n",
       "      <td>14.650000</td>\n",
       "      <td>10178070.0</td>\n",
       "      <td>18.590000</td>\n",
       "      <td>12.400000</td>\n",
       "      <td>1.133992e+07</td>\n",
       "      <td>14.829286</td>\n",
       "      <td>1.592137</td>\n",
       "      <td>-83.695591</td>\n",
       "      <td>1.328143</td>\n",
       "      <td>8.400002e-01</td>\n",
       "      <td>0.599999</td>\n",
       "      <td>14.781179</td>\n",
       "      <td>15.543619</td>\n",
       "      <td>18.013560</td>\n",
       "      <td>11.645012</td>\n",
       "      <td>11.314077</td>\n",
       "      <td>7.314077</td>\n",
       "      <td>15.773980</td>\n",
       "      <td>39.072263</td>\n",
       "      <td>16.666722</td>\n",
       "      <td>63.246224</td>\n",
       "      <td>45.175823</td>\n",
       "      <td>35.288284</td>\n",
       "      <td>-16.182575</td>\n",
       "      <td>-2.474650</td>\n",
       "      <td>-10.587756</td>\n",
       "    </tr>\n",
       "  </tbody>\n",
       "</table>\n",
       "<p>31101 rows × 31 columns</p>\n",
       "</div>"
      ],
      "text/plain": [
       "       Ticker       Date      Close       High        Low       Open      Volume         HH         LL            AV        SMA        SD      WILLR       ATR           DMH       DML        EMA        WMA     BBHIGH      BBLOW   PERBHIGH    PERBLOW      TRIMA        RSI         DX         PDI        NDI        ADX        ROC      MACD        CCI\n",
       "0      AQN.TO 2015-04-02   7.085742   7.138790   7.040272   7.047850    329000.0   7.138790   7.040272  3.290000e+05   7.085742       NaN -53.845872  0.098518  0.000000e+00  0.000000   7.085742        NaN        NaN        NaN        NaN        NaN        NaN        NaN        NaN    0.000000   0.000000        NaN   0.000000  0.000000        NaN\n",
       "1      AQN.TO 2015-04-06   7.366138   7.381295   7.138788   7.176680    630100.0   7.381295   7.040272  4.795500e+05   7.225940  0.198270  -6.249851  0.197036  2.425046e-01  0.098517   7.235954        NaN   7.622481   6.829400  38.444906  34.444906        NaN        NaN  42.222566  123.076574  49.999440  42.222566   3.957193  0.005007   7.644186\n",
       "2      AQN.TO 2015-04-07   7.237308   7.381296   7.214573   7.381296    414500.0   7.381296   7.040272  4.578667e+05   7.229729  0.140352 -86.363715  0.186931  7.998546e-07  0.075784   7.236471        NaN   7.510433   6.949026  53.511498  49.511498        NaN        NaN  99.997889    0.000428  40.541299  71.110227   2.139022  0.003251  21.598056\n",
       "3      AQN.TO 2015-04-08   7.244886   7.290356   7.176681   7.275199    263600.0   7.381296   7.040272  4.093000e+05   7.233518  0.114847 -39.999746  0.168617 -9.094004e-02 -0.037892   7.239046        NaN   7.463213   7.003824  64.983938  60.983938        NaN        NaN  41.176189  -53.932846 -22.472171  61.132215   2.245974  0.002589  -0.000123\n",
       "4      AQN.TO 2015-04-09   7.206995   7.252465   7.161525   7.222151    622000.0   7.381296   7.040272  4.518400e+05   7.228214  0.100165 -49.999603  0.153082 -3.789091e-02 -0.015156   7.230684        NaN   7.428544   7.027883  74.162880  70.162880        NaN        NaN  42.857788  -24.752078  -9.900675  56.563608   1.711225  0.000990  -9.415168\n",
       "...       ...        ...        ...        ...        ...        ...         ...        ...        ...           ...        ...       ...        ...       ...           ...       ...        ...        ...        ...        ...        ...        ...        ...        ...        ...         ...        ...        ...        ...       ...        ...\n",
       "31096    WKHS 2021-03-26  13.450000  14.300000  12.870000  13.730000  13457600.0  18.590000  12.570000  1.511144e+07  15.716429  1.507201 -59.440573  1.616714  2.399998e-01  0.300000  15.669805  16.349429  18.730831  12.702026  12.427557   8.427557  16.500918  35.077815  11.111190   14.844909  18.556166  53.740599 -13.225808 -2.797095 -62.851695\n",
       "31097    WKHS 2021-03-29  12.930000  13.430000  12.600000  13.378000   9756800.0  18.590000  12.570000  1.369120e+07  15.472143  1.665460 -60.240969  1.513143 -8.699999e-01 -0.270000  15.304497  16.232381  18.803063  12.141223  11.290012   7.290012  16.225536  33.988706  52.631641  -57.496213 -17.843622  48.853383 -20.917431 -2.780547 -65.571277\n",
       "31098    WKHS 2021-03-30  13.400000  13.410000  12.400000  12.940000   8341900.0  18.590000  12.400000  1.287926e+07  15.290714  1.746929  -0.990121  1.471714 -2.000046e-02 -0.200001  15.050564  16.145810  18.784573  11.796856  10.752910   6.752910  16.015153  35.925152  81.817867   -1.358991 -13.589646  40.990985 -15.934756 -2.711374 -60.696085\n",
       "31099    WKHS 2021-03-31  13.770000  14.070000  13.390000  13.900000  11293600.0  18.590000  12.400000  1.203339e+07  15.024286  1.666658 -44.117577  1.369571  6.599998e-01  0.990001  14.879822  15.815715  18.357603  11.690969  11.014617   7.014617  15.864617  37.480028  20.000046   48.190247  72.285440  39.728054 -21.314283 -2.606809 -34.514462\n",
       "31100    WKHS 2021-04-01  14.140000  14.910000  13.990000  14.650000  10178070.0  18.590000  12.400000  1.133992e+07  14.829286  1.592137 -83.695591  1.328143  8.400002e-01  0.599999  14.781179  15.543619  18.013560  11.645012  11.314077   7.314077  15.773980  39.072263  16.666722   63.246224  45.175823  35.288284 -16.182575 -2.474650 -10.587756\n",
       "\n",
       "[31101 rows x 31 columns]"
      ]
     },
     "execution_count": 35,
     "metadata": {},
     "output_type": "execute_result"
    }
   ],
   "source": [
    "dataset"
   ]
  },
  {
   "cell_type": "code",
   "execution_count": 36,
   "id": "wireless-bosnia",
   "metadata": {},
   "outputs": [],
   "source": [
    "x_train2, y_train2, x_valid2, y_valid2, x_test2, y_test2 = generate_dataset(dataset, \n",
    "                                                                           climate_trends_data,\n",
    "                                                                           ev_battery_stocks,\n",
    "                                                                           \"2018-03-01\", \"2019-03-01\", \"2020-03-01\", \n",
    "                                                                           chosen_stock_features, chosen_trend_terms,\n",
    "                                                                            trail_size, predict_length\n",
    "                                                                           )"
   ]
  },
  {
   "cell_type": "code",
   "execution_count": 37,
   "id": "injured-warren",
   "metadata": {},
   "outputs": [
    {
     "name": "stdout",
     "output_type": "stream",
     "text": [
      "x_train: (6174, 14, 27)\n",
      "y_train: (6174,)\n",
      "x_valid: (2043, 14, 27)\n",
      "y_valid (2043,)\n",
      "x_test: (2052, 14, 27)\n",
      "y_test (2052,)\n"
     ]
    }
   ],
   "source": [
    "print(\"x_train: {}\".format(x_train2.shape))\n",
    "print(\"y_train: {}\".format(y_train2.shape))\n",
    "print(\"x_valid: {}\".format(x_valid2.shape))\n",
    "print(\"y_valid {}\".format(y_valid2.shape))\n",
    "print(\"x_test: {}\".format(x_test2.shape))\n",
    "print(\"y_test {}\".format(y_test2.shape))"
   ]
  },
  {
   "cell_type": "markdown",
   "id": "meaningful-wallet",
   "metadata": {},
   "source": [
    "## 3.1 Train model on less stocks"
   ]
  },
  {
   "cell_type": "code",
   "execution_count": 38,
   "id": "severe-slovakia",
   "metadata": {},
   "outputs": [],
   "source": [
    "# model.layers[7].trainable = False\n",
    "# model.layers[4].trainable = False\n",
    "# model.layers[2].trainable = False\n",
    "# model.layers[0].trainable = False"
   ]
  },
  {
   "cell_type": "code",
   "execution_count": 39,
   "id": "existing-luther",
   "metadata": {},
   "outputs": [],
   "source": [
    "model.compile(optimizer='adam', loss='binary_crossentropy', metrics=['accuracy'])"
   ]
  },
  {
   "cell_type": "code",
   "execution_count": 40,
   "id": "academic-negative",
   "metadata": {},
   "outputs": [],
   "source": [
    "tensorboard = TensorBoard(log_dir='logs/{}_2'.format(time_stamp))"
   ]
  },
  {
   "cell_type": "code",
   "execution_count": 41,
   "id": "relative-airplane",
   "metadata": {},
   "outputs": [
    {
     "name": "stdout",
     "output_type": "stream",
     "text": [
      "Epoch 1/15\n",
      "97/97 [==============================] - 11s 72ms/step - loss: 0.6847 - accuracy: 0.5428 - val_loss: 0.8160 - val_accuracy: 0.5051\n",
      "Epoch 2/15\n",
      "97/97 [==============================] - 1s 15ms/step - loss: 0.6801 - accuracy: 0.5728 - val_loss: 0.9178 - val_accuracy: 0.4787\n",
      "Epoch 3/15\n",
      "97/97 [==============================] - 2s 16ms/step - loss: 0.6805 - accuracy: 0.5729 - val_loss: 0.7940 - val_accuracy: 0.5046\n",
      "Epoch 4/15\n",
      "97/97 [==============================] - 2s 16ms/step - loss: 0.6818 - accuracy: 0.5516 - val_loss: 1.0313 - val_accuracy: 0.4469\n",
      "Epoch 5/15\n",
      "97/97 [==============================] - 2s 16ms/step - loss: 0.6815 - accuracy: 0.5498 - val_loss: 0.9523 - val_accuracy: 0.4591\n",
      "Epoch 6/15\n",
      "97/97 [==============================] - 1s 15ms/step - loss: 0.6820 - accuracy: 0.5594 - val_loss: 0.9100 - val_accuracy: 0.4772\n",
      "Epoch 7/15\n",
      "97/97 [==============================] - 1s 15ms/step - loss: 0.6811 - accuracy: 0.5712 - val_loss: 0.9793 - val_accuracy: 0.4464\n",
      "Epoch 8/15\n",
      "97/97 [==============================] - 1s 15ms/step - loss: 0.6831 - accuracy: 0.5622 - val_loss: 0.9536 - val_accuracy: 0.4640\n",
      "Epoch 9/15\n",
      "97/97 [==============================] - 1s 15ms/step - loss: 0.6789 - accuracy: 0.5612 - val_loss: 1.0616 - val_accuracy: 0.4655\n",
      "Epoch 10/15\n",
      "97/97 [==============================] - 1s 15ms/step - loss: 0.6758 - accuracy: 0.5824 - val_loss: 1.0382 - val_accuracy: 0.5056\n",
      "Epoch 11/15\n",
      "97/97 [==============================] - 1s 15ms/step - loss: 0.6795 - accuracy: 0.5510 - val_loss: 1.1546 - val_accuracy: 0.4430\n",
      "Epoch 12/15\n",
      "97/97 [==============================] - 1s 15ms/step - loss: 0.6769 - accuracy: 0.5844 - val_loss: 1.4934 - val_accuracy: 0.4665\n",
      "Epoch 13/15\n",
      "97/97 [==============================] - 1s 15ms/step - loss: 0.6760 - accuracy: 0.5739 - val_loss: 1.2545 - val_accuracy: 0.4347\n",
      "Epoch 14/15\n",
      "97/97 [==============================] - 1s 15ms/step - loss: 0.6738 - accuracy: 0.5717 - val_loss: 1.1857 - val_accuracy: 0.4567\n",
      "Epoch 15/15\n",
      "97/97 [==============================] - 1s 15ms/step - loss: 0.6754 - accuracy: 0.5758 - val_loss: 1.1299 - val_accuracy: 0.4586\n"
     ]
    }
   ],
   "source": [
    "history2 = model.fit(x_train2, \n",
    "                     y_train2, \n",
    "                     epochs=15, \n",
    "                     validation_data=(x_valid2, y_valid2), \n",
    "                     batch_size=64, \n",
    "                     shuffle=True, \n",
    "                     callbacks=[tensorboard])"
   ]
  },
  {
   "cell_type": "code",
   "execution_count": 42,
   "id": "sustainable-thomas",
   "metadata": {},
   "outputs": [
    {
     "data": {
      "image/png": "[encoded data removed]",
      "text/plain": [
       "<Figure size 576x432 with 1 Axes>"
      ]
     },
     "metadata": {
      "needs_background": "light"
     },
     "output_type": "display_data"
    }
   ],
   "source": [
    "plot_loss(history2)"
   ]
  },
  {
   "cell_type": "code",
   "execution_count": 43,
   "id": "regulation-alberta",
   "metadata": {},
   "outputs": [
    {
     "data": {
      "image/png": "[encoded data removed]",
      "text/plain": [
       "<Figure size 576x432 with 1 Axes>"
      ]
     },
     "metadata": {
      "needs_background": "light"
     },
     "output_type": "display_data"
    }
   ],
   "source": [
    "plot_acc(history2)"
   ]
  },
  {
   "cell_type": "markdown",
   "id": "quality-barbados",
   "metadata": {},
   "source": [
    "## 3.2 Performance of model"
   ]
  },
  {
   "cell_type": "code",
   "execution_count": 44,
   "id": "opening-today",
   "metadata": {},
   "outputs": [
    {
     "name": "stdout",
     "output_type": "stream",
     "text": [
      "Upward ratio: 48.02%\n",
      "Mean prediction: 51.07%\n",
      "Predicted upward ratio: 59.33%\n",
      "Accuracy: 59.05%\n"
     ]
    }
   ],
   "source": [
    "performance_stats(model, x_train2, y_train2)"
   ]
  },
  {
   "cell_type": "code",
   "execution_count": 45,
   "id": "unauthorized-substance",
   "metadata": {},
   "outputs": [
    {
     "name": "stdout",
     "output_type": "stream",
     "text": [
      "Upward ratio: 41.61%\n",
      "Mean prediction: 61.98%\n",
      "Predicted upward ratio: 72.44%\n",
      "Accuracy: 45.86%\n"
     ]
    }
   ],
   "source": [
    "performance_stats(model, x_valid2, y_valid2)"
   ]
  },
  {
   "cell_type": "code",
   "execution_count": 46,
   "id": "expressed-transaction",
   "metadata": {
    "scrolled": false
   },
   "outputs": [
    {
     "name": "stdout",
     "output_type": "stream",
     "text": [
      "Upward ratio: 50.15%\n",
      "Mean prediction: 62.20%\n",
      "Predicted upward ratio: 67.59%\n",
      "Accuracy: 49.61%\n"
     ]
    }
   ],
   "source": [
    "performance_stats(model, x_test2, y_test2)"
   ]
  },
  {
   "cell_type": "markdown",
   "id": "furnished-ghana",
   "metadata": {},
   "source": [
    "# 4.0 Prepare data for one stock"
   ]
  },
  {
   "cell_type": "code",
   "execution_count": 47,
   "id": "apart-tuning",
   "metadata": {},
   "outputs": [
    {
     "data": {
      "text/plain": [
       "'TSLA'"
      ]
     },
     "execution_count": 47,
     "metadata": {},
     "output_type": "execute_result"
    }
   ],
   "source": [
    "ev_battery_stocks[0]"
   ]
  },
  {
   "cell_type": "code",
   "execution_count": 48,
   "id": "banned-momentum",
   "metadata": {},
   "outputs": [],
   "source": [
    "x_train3, y_train3, x_valid3, y_valid3, x_test3, y_test3 = generate_dataset(dataset, \n",
    "                                                                           climate_trends_data,\n",
    "                                                                           [ev_battery_stocks[0]],\n",
    "                                                                           \"2018-03-01\", \"2019-03-01\", \"2020-03-01\", \n",
    "                                                                           chosen_stock_features, chosen_trend_terms,\n",
    "                                                                            trail_size, predict_length\n",
    "                                                                           )"
   ]
  },
  {
   "cell_type": "code",
   "execution_count": 49,
   "id": "honey-evidence",
   "metadata": {},
   "outputs": [
    {
     "name": "stdout",
     "output_type": "stream",
     "text": [
      "x_train: (686, 14, 27)\n",
      "y_train: (686,)\n",
      "x_valid: (227, 14, 27)\n",
      "y_valid (227,)\n",
      "x_test: (228, 14, 27)\n",
      "y_test (228,)\n"
     ]
    }
   ],
   "source": [
    "print(\"x_train: {}\".format(x_train3.shape))\n",
    "print(\"y_train: {}\".format(y_train3.shape))\n",
    "print(\"x_valid: {}\".format(x_valid3.shape))\n",
    "print(\"y_valid {}\".format(y_valid3.shape))\n",
    "print(\"x_test: {}\".format(x_test3.shape))\n",
    "print(\"y_test {}\".format(y_test3.shape))"
   ]
  },
  {
   "cell_type": "markdown",
   "id": "negative-yukon",
   "metadata": {},
   "source": [
    "## 4.1 Train model on less stocks"
   ]
  },
  {
   "cell_type": "code",
   "execution_count": 50,
   "id": "located-absolute",
   "metadata": {},
   "outputs": [],
   "source": [
    "# model.layers[7].trainable = False\n",
    "# model.layers[4].trainable = False\n",
    "# model.layers[2].trainable = False\n",
    "# model.layers[0].trainable = False"
   ]
  },
  {
   "cell_type": "code",
   "execution_count": 51,
   "id": "annual-bonus",
   "metadata": {},
   "outputs": [],
   "source": [
    "model.compile(optimizer='adam', loss='binary_crossentropy', metrics=['accuracy'])"
   ]
  },
  {
   "cell_type": "code",
   "execution_count": 52,
   "id": "abandoned-sherman",
   "metadata": {},
   "outputs": [],
   "source": [
    "tensorboard = TensorBoard(log_dir='logs/{}_3'.format(time_stamp))"
   ]
  },
  {
   "cell_type": "code",
   "execution_count": 53,
   "id": "infectious-clerk",
   "metadata": {},
   "outputs": [
    {
     "name": "stdout",
     "output_type": "stream",
     "text": [
      "Epoch 1/5\n",
      "11/11 [==============================] - 10s 594ms/step - loss: 0.6742 - accuracy: 0.5407 - val_loss: 0.6663 - val_accuracy: 0.5903\n",
      "Epoch 2/5\n",
      "11/11 [==============================] - 0s 19ms/step - loss: 0.6547 - accuracy: 0.6208 - val_loss: 0.6709 - val_accuracy: 0.5947\n",
      "Epoch 3/5\n",
      "11/11 [==============================] - 0s 19ms/step - loss: 0.6609 - accuracy: 0.5946 - val_loss: 0.6708 - val_accuracy: 0.5991\n",
      "Epoch 4/5\n",
      "11/11 [==============================] - 0s 18ms/step - loss: 0.6494 - accuracy: 0.6120 - val_loss: 0.6779 - val_accuracy: 0.5727\n",
      "Epoch 5/5\n",
      "11/11 [==============================] - 0s 18ms/step - loss: 0.6438 - accuracy: 0.6316 - val_loss: 0.6768 - val_accuracy: 0.6079\n"
     ]
    }
   ],
   "source": [
    "history3 = model.fit(x_train3, \n",
    "                     y_train3, \n",
    "                     epochs=5, \n",
    "                     validation_data=(x_valid3, y_valid3), \n",
    "                     batch_size=64, \n",
    "                     shuffle=True, \n",
    "                     callbacks=[tensorboard])"
   ]
  },
  {
   "cell_type": "code",
   "execution_count": 54,
   "id": "interesting-encyclopedia",
   "metadata": {},
   "outputs": [
    {
     "data": {
      "image/png": "[encoded data removed]",
      "text/plain": [
       "<Figure size 576x432 with 1 Axes>"
      ]
     },
     "metadata": {
      "needs_background": "light"
     },
     "output_type": "display_data"
    }
   ],
   "source": [
    "plot_loss(history3)"
   ]
  },
  {
   "cell_type": "code",
   "execution_count": 55,
   "id": "circular-superior",
   "metadata": {},
   "outputs": [
    {
     "data": {
      "image/png": "[encoded data removed]",
      "text/plain": [
       "<Figure size 576x432 with 1 Axes>"
      ]
     },
     "metadata": {
      "needs_background": "light"
     },
     "output_type": "display_data"
    }
   ],
   "source": [
    "plot_acc(history3)"
   ]
  },
  {
   "cell_type": "markdown",
   "id": "hybrid-faith",
   "metadata": {},
   "source": [
    "## 4.2 Performance of model"
   ]
  },
  {
   "cell_type": "code",
   "execution_count": 56,
   "id": "approved-navigator",
   "metadata": {},
   "outputs": [
    {
     "name": "stdout",
     "output_type": "stream",
     "text": [
      "Upward ratio: 55.69%\n",
      "Mean prediction: 50.78%\n",
      "Predicted upward ratio: 53.64%\n",
      "Accuracy: 61.81%\n"
     ]
    }
   ],
   "source": [
    "performance_stats(model, x_train3, y_train3)"
   ]
  },
  {
   "cell_type": "code",
   "execution_count": 57,
   "id": "answering-sussex",
   "metadata": {},
   "outputs": [
    {
     "name": "stdout",
     "output_type": "stream",
     "text": [
      "Upward ratio: 54.63%\n",
      "Mean prediction: 56.41%\n",
      "Predicted upward ratio: 72.69%\n",
      "Accuracy: 60.79%\n"
     ]
    }
   ],
   "source": [
    "performance_stats(model, x_valid3, y_valid3)"
   ]
  },
  {
   "cell_type": "code",
   "execution_count": 58,
   "id": "tracked-shoulder",
   "metadata": {
    "scrolled": false
   },
   "outputs": [
    {
     "name": "stdout",
     "output_type": "stream",
     "text": [
      "Upward ratio: 63.60%\n",
      "Mean prediction: 57.69%\n",
      "Predicted upward ratio: 76.75%\n",
      "Accuracy: 60.53%\n"
     ]
    }
   ],
   "source": [
    "performance_stats(model, x_test3, y_test3)"
   ]
  },
  {
   "cell_type": "code",
   "execution_count": null,
   "id": "varying-object",
   "metadata": {},
   "outputs": [],
   "source": []
  }
 ],
 "metadata": {
  "kernelspec": {
   "display_name": "Python 3",
   "language": "python",
   "name": "python3"
  },
  "language_info": {
   "codemirror_mode": {
    "name": "ipython",
    "version": 3
   },
   "file_extension": ".py",
   "mimetype": "text/x-python",
   "name": "python",
   "nbconvert_exporter": "python",
   "pygments_lexer": "ipython3",
   "version": "3.8.5"
  }
 },
 "nbformat": 4,
 "nbformat_minor": 5
}
