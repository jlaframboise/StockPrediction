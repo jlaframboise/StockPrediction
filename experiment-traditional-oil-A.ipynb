{
 "cells": [
  {
   "cell_type": "markdown",
   "id": "geographic-egyptian",
   "metadata": {},
   "source": [
    "# Trend Classification on Traditional Energy Stocks\n",
    "# With Trends Data"
   ]
  },
  {
   "cell_type": "markdown",
   "id": "thermal-satin",
   "metadata": {},
   "source": [
    "### Imports"
   ]
  },
  {
   "cell_type": "code",
   "execution_count": 1,
   "id": "lightweight-birmingham",
   "metadata": {},
   "outputs": [
    {
     "data": {
      "text/html": [
       "<style>.container { width:100% !important; }</style>"
      ],
      "text/plain": [
       "<IPython.core.display.HTML object>"
      ]
     },
     "metadata": {},
     "output_type": "display_data"
    }
   ],
   "source": [
    "import os, sys\n",
    "import pandas as pd\n",
    "import numpy as np\n",
    "import yfinance as yf\n",
    "import matplotlib.pyplot as plt\n",
    "import seaborn as sns\n",
    "import random\n",
    "\n",
    "import tensorflow as tf\n",
    "from tensorflow.keras import Input, Model\n",
    "from tensorflow.keras.models import Sequential\n",
    "from tensorflow.keras.layers import *\n",
    "from tensorflow.keras.losses import CategoricalCrossentropy\n",
    "from tensorflow.keras.regularizers import l1, l2\n",
    "from tensorflow.keras.utils import to_categorical, plot_model\n",
    "from tensorflow.keras.preprocessing.sequence import TimeseriesGenerator\n",
    "from sklearn.metrics import confusion_matrix, ConfusionMatrixDisplay, mean_squared_error, classification_report\n",
    "from sklearn.feature_extraction.text import CountVectorizer\n",
    "from sklearn.preprocessing import StandardScaler, MinMaxScaler, RobustScaler\n",
    "\n",
    "from time import time\n",
    "from tensorflow.python.keras.callbacks import TensorBoard\n",
    "import warnings\n",
    "warnings.simplefilter(\"ignore\")\n",
    "\n",
    "from indicators import *\n",
    "from data_loading import *\n",
    "from util_functions import *\n",
    "\n",
    "\n",
    "physical_devices = tf.config.list_physical_devices('GPU')\n",
    "tf.config.experimental.set_memory_growth(physical_devices[0], enable=True)\n",
    "\n",
    "from IPython.core.display import display, HTML\n",
    "display(HTML(\"<style>.container { width:100% !important; }</style>\"))\n",
    "\n",
    "pd.set_option('display.max_rows', 500)\n",
    "pd.set_option('display.max_columns', 500)\n",
    "pd.set_option('display.width', 1000)\n"
   ]
  },
  {
   "cell_type": "markdown",
   "id": "minus-mitchell",
   "metadata": {},
   "source": [
    "### Parameters"
   ]
  },
  {
   "cell_type": "code",
   "execution_count": 2,
   "id": "pressed-equality",
   "metadata": {},
   "outputs": [],
   "source": [
    "trail_size=30\n",
    "predict_length = 5\n",
    "time_period = '6y'"
   ]
  },
  {
   "cell_type": "markdown",
   "id": "mediterranean-pursuit",
   "metadata": {},
   "source": [
    "# 1.0 Load data"
   ]
  },
  {
   "cell_type": "markdown",
   "id": "opposite-bronze",
   "metadata": {},
   "source": [
    "## 1.1 Load stock data"
   ]
  },
  {
   "cell_type": "code",
   "execution_count": 3,
   "id": "color-myrtle",
   "metadata": {},
   "outputs": [],
   "source": [
    "top_energy = [\"XOM\", \"CVX\", \"RDS-A\", \"RDS-B\", \"PTR\", \"TOT\", \"BP\",\n",
    "\"SNP\", \"ENB\", \"COP\", \"EQNR\", \"PBR-A\", \"PBR\", \"EPD\",\n",
    "\"TRP\", \"E\", \"EOG\", \"SLB\", \"KMI\", \"PSX\", \"CNQ\",\n",
    "\"MPC\", \"PXD\", \"SU\", \"VLO\"]"
   ]
  },
  {
   "cell_type": "code",
   "execution_count": 4,
   "id": "coordinated-engineering",
   "metadata": {},
   "outputs": [],
   "source": [
    "traditional_energy_stocks = [ \"LNG\", \"OKE\", \"BKR\", \"WMB\", \"EQT\",  \"XEC\",  \"XOM\",  \"CVX\",  \"BP\",  \"OXY\",  \"COP\",  \"EOG\",  \"COG\",  \"CNQ\",  \"SLB\",  \"PTR\",  \"TOT\",  \"ENB\"]"
   ]
  },
  {
   "cell_type": "code",
   "execution_count": 5,
   "id": "adult-graphic",
   "metadata": {},
   "outputs": [
    {
     "name": "stdout",
     "output_type": "stream",
     "text": [
      "[*********************100%***********************]  33 of 33 completed\n"
     ]
    }
   ],
   "source": [
    "data = get_data_yf(traditional_energy_stocks + top_energy, time_period)"
   ]
  },
  {
   "cell_type": "code",
   "execution_count": 6,
   "id": "innovative-november",
   "metadata": {},
   "outputs": [
    {
     "data": {
      "text/plain": [
       "0"
      ]
     },
     "execution_count": 6,
     "metadata": {},
     "output_type": "execute_result"
    }
   ],
   "source": [
    "data.isna().sum().sum()"
   ]
  },
  {
   "cell_type": "code",
   "execution_count": 7,
   "id": "weighted-design",
   "metadata": {},
   "outputs": [],
   "source": [
    "data = process_stock_data_from_yf(data)"
   ]
  },
  {
   "cell_type": "code",
   "execution_count": 8,
   "id": "incorporate-prime",
   "metadata": {},
   "outputs": [
    {
     "data": {
      "text/plain": [
       "100.0"
      ]
     },
     "execution_count": 8,
     "metadata": {},
     "output_type": "execute_result"
    }
   ],
   "source": [
    "has_data_ratio, data = filter_has_all_data(data)\n",
    "has_data_ratio"
   ]
  },
  {
   "cell_type": "markdown",
   "id": "elegant-convertible",
   "metadata": {},
   "source": [
    "## 1.2 Compute technical indicators"
   ]
  },
  {
   "cell_type": "code",
   "execution_count": 9,
   "id": "geographic-devon",
   "metadata": {},
   "outputs": [],
   "source": [
    "all_stock_features = ['Close', 'High',\n",
    " 'Low', 'Open', 'Volume',\n",
    " 'HH', 'LL', 'AV',\n",
    " 'SMA', 'SD', 'WILLR',\n",
    " 'ATR', 'DMH', 'DML',\n",
    " 'EMA', 'WMA', 'BBHIGH',\n",
    " 'BBLOW', 'PERBHIGH', 'PERBLOW',\n",
    " 'TRIMA', 'RSI', 'DX',\n",
    " 'PDI', 'NDI', 'ADX',\n",
    " 'ROC', 'MACD', 'CCI']"
   ]
  },
  {
   "cell_type": "code",
   "execution_count": 10,
   "id": "introductory-controversy",
   "metadata": {},
   "outputs": [],
   "source": [
    "# compute all our technical markers for each of the stocks. \n",
    "dataset = data.groupby('Ticker').apply(lambda x: add_technical_markers(x, trail_size))"
   ]
  },
  {
   "cell_type": "markdown",
   "id": "focal-wichita",
   "metadata": {},
   "source": [
    "## 1.3 Load trends data"
   ]
  },
  {
   "cell_type": "code",
   "execution_count": 11,
   "id": "skilled-lodging",
   "metadata": {},
   "outputs": [],
   "source": [
    "filenames = [os.path.join(\"data\", x) for x in [\n",
    "    \"data climate change adjusted.csv\",\n",
    "    \"data greenhouse gas adjusted.csv\",\n",
    "    \"data oil adjusted.csv\",\n",
    "    \"data renewable adjusted.csv\",\n",
    "    \"data carbon tax adjusted.csv\",\n",
    "    \"data electric vehicles adjusted.csv\",\n",
    "    \"data environmental protection agency adjusted.csv\",\n",
    "    \"data fossil fuels adjusted.csv\",\n",
    "    \"data fracking adjusted.csv\",\n",
    "    \"data global warming adjusted.csv\",\n",
    "] ]\n",
    "terms = [\n",
    "    \"climate change\",\n",
    "    \"greenhouse gas\",\n",
    "    \"oil\",\n",
    "    \"renewable\",\n",
    "    \"carbon tax\",\n",
    "    \"electric vehicles\",\n",
    "    \"environmental protection agency\",\n",
    "    \"fossil fuels\",\n",
    "    \"fracking\",\n",
    "    \"global warming\",\n",
    "]"
   ]
  },
  {
   "cell_type": "code",
   "execution_count": 12,
   "id": "senior-dispute",
   "metadata": {},
   "outputs": [],
   "source": [
    "climate_trends_data = load_climate_data(filenames, terms)"
   ]
  },
  {
   "cell_type": "code",
   "execution_count": 13,
   "id": "alive-mirror",
   "metadata": {},
   "outputs": [
    {
     "data": {
      "text/plain": [
       "(2278, 11)"
      ]
     },
     "execution_count": 13,
     "metadata": {},
     "output_type": "execute_result"
    }
   ],
   "source": [
    "climate_trends_data.shape"
   ]
  },
  {
   "cell_type": "code",
   "execution_count": 14,
   "id": "dietary-compatibility",
   "metadata": {},
   "outputs": [
    {
     "data": {
      "text/plain": [
       "<AxesSubplot:xlabel='Date'>"
      ]
     },
     "execution_count": 14,
     "metadata": {},
     "output_type": "execute_result"
    },
    {
     "data": {
      "image/png": "[encoded data removed]",
      "text/plain": [
       "<Figure size 432x288 with 1 Axes>"
      ]
     },
     "metadata": {
      "needs_background": "light"
     },
     "output_type": "display_data"
    }
   ],
   "source": [
    "climate_trends_data.set_index('Date')[terms[0]].plot()"
   ]
  },
  {
   "cell_type": "markdown",
   "id": "utility-speed",
   "metadata": {},
   "source": [
    "### Choose features"
   ]
  },
  {
   "cell_type": "code",
   "execution_count": 15,
   "id": "graphic-cornell",
   "metadata": {},
   "outputs": [],
   "source": [
    "chosen_stock_features = ['Close', 'High',\n",
    " 'Low', \n",
    "'Open', 'Volume',\n",
    " 'HH', 'LL', 'AV',\n",
    " 'SMA', 'SD', 'WILLR',\n",
    " 'ATR', 'DMH', 'DML',\n",
    " 'EMA', \n",
    "'WMA', \n",
    "'BBHIGH',\n",
    " 'BBLOW', 'PERBHIGH', 'PERBLOW',\n",
    " 'TRIMA', 'RSI', 'DX',\n",
    " 'PDI', 'NDI', \n",
    "'ADX',\n",
    " 'ROC', 'MACD', 'CCI'\n",
    "                        ]"
   ]
  },
  {
   "cell_type": "code",
   "execution_count": 16,
   "id": "certain-arbor",
   "metadata": {},
   "outputs": [],
   "source": [
    "chosen_trend_terms = [\n",
    "    \"climate change\",\n",
    "    \"greenhouse gas\",\n",
    "    \"oil\",\n",
    "    \"renewable\",\n",
    "    \"carbon tax\",\n",
    "    \"electric vehicles\",\n",
    "#     \"environmental protection agency\",\n",
    "    \"fossil fuels\",\n",
    "#     \"fracking\",\n",
    "    \"global warming\",\n",
    "]"
   ]
  },
  {
   "cell_type": "markdown",
   "id": "latest-facility",
   "metadata": {},
   "source": [
    "# 2.0 Model design"
   ]
  },
  {
   "cell_type": "code",
   "execution_count": 17,
   "id": "solid-worse",
   "metadata": {},
   "outputs": [],
   "source": [
    "num_features = len(chosen_stock_features) + len(chosen_trend_terms) "
   ]
  },
  {
   "cell_type": "code",
   "execution_count": 18,
   "id": "noble-instrument",
   "metadata": {},
   "outputs": [],
   "source": [
    "reg = 0.002\n",
    "drop=0.5\n",
    "\n",
    "model = Sequential()\n",
    "model.add(LSTM(units=75, input_shape=(trail_size, num_features), return_sequences=True, activity_regularizer=l2(reg)))\n",
    "model.add(Dropout(drop))\n",
    "model.add(LSTM(units=30, return_sequences=True, activity_regularizer=l2(reg)))\n",
    "model.add(Dropout(drop))\n",
    "\n",
    "model.add(LSTM(units=30, return_sequences=True, activity_regularizer=l2(reg)))\n",
    "model.add(Dropout(drop))\n",
    "\n",
    "model.add(LSTM(units=30, return_sequences=True, activity_regularizer=l2(reg)))\n",
    "model.add(Dropout(drop))\n",
    "\n",
    "model.add(Flatten())\n",
    "\n",
    "model.add(Dense(5, activation='relu', activity_regularizer=l2(reg)))\n",
    "model.add(Dropout(drop))\n",
    "\n",
    "\n",
    "model.add(Dense(1, activation='sigmoid'))"
   ]
  },
  {
   "cell_type": "code",
   "execution_count": 19,
   "id": "different-compatibility",
   "metadata": {},
   "outputs": [
    {
     "name": "stdout",
     "output_type": "stream",
     "text": [
      "Model: \"sequential\"\n",
      "_________________________________________________________________\n",
      "Layer (type)                 Output Shape              Param #   \n",
      "=================================================================\n",
      "lstm (LSTM)                  (None, 30, 75)            33900     \n",
      "_________________________________________________________________\n",
      "dropout (Dropout)            (None, 30, 75)            0         \n",
      "_________________________________________________________________\n",
      "lstm_1 (LSTM)                (None, 30, 30)            12720     \n",
      "_________________________________________________________________\n",
      "dropout_1 (Dropout)          (None, 30, 30)            0         \n",
      "_________________________________________________________________\n",
      "lstm_2 (LSTM)                (None, 30, 30)            7320      \n",
      "_________________________________________________________________\n",
      "dropout_2 (Dropout)          (None, 30, 30)            0         \n",
      "_________________________________________________________________\n",
      "lstm_3 (LSTM)                (None, 30, 30)            7320      \n",
      "_________________________________________________________________\n",
      "dropout_3 (Dropout)          (None, 30, 30)            0         \n",
      "_________________________________________________________________\n",
      "flatten (Flatten)            (None, 900)               0         \n",
      "_________________________________________________________________\n",
      "dense (Dense)                (None, 5)                 4505      \n",
      "_________________________________________________________________\n",
      "dropout_4 (Dropout)          (None, 5)                 0         \n",
      "_________________________________________________________________\n",
      "dense_1 (Dense)              (None, 1)                 6         \n",
      "=================================================================\n",
      "Total params: 65,771\n",
      "Trainable params: 65,771\n",
      "Non-trainable params: 0\n",
      "_________________________________________________________________\n"
     ]
    }
   ],
   "source": [
    "model.summary()"
   ]
  },
  {
   "cell_type": "markdown",
   "id": "western-symphony",
   "metadata": {},
   "source": [
    "# 3.0 Prepare dataset of many stocks"
   ]
  },
  {
   "cell_type": "code",
   "execution_count": 20,
   "id": "least-baker",
   "metadata": {},
   "outputs": [],
   "source": [
    "x_train, y_train, x_valid, y_valid, x_test, y_test = generate_dataset(dataset, \n",
    "                                                                           climate_trends_data,\n",
    "                                                                           traditional_energy_stocks + top_energy,\n",
    "                                                                           \"2018-03-01\", \"2019-03-01\", \"2020-03-01\", \n",
    "                                                                           chosen_stock_features, chosen_trend_terms,\n",
    "                                                                            trail_size, predict_length\n",
    "                                                                           )"
   ]
  },
  {
   "cell_type": "code",
   "execution_count": 21,
   "id": "convinced-reggae",
   "metadata": {},
   "outputs": [
    {
     "name": "stdout",
     "output_type": "stream",
     "text": [
      "x_train: (22077, 30, 37)\n",
      "y_train: (22077,)\n",
      "x_valid: (7128, 30, 37)\n",
      "y_valid (7128,)\n",
      "x_test: (7131, 30, 37)\n",
      "y_test (7131,)\n"
     ]
    }
   ],
   "source": [
    "print(\"x_train: {}\".format(x_train.shape))\n",
    "print(\"y_train: {}\".format(y_train.shape))\n",
    "print(\"x_valid: {}\".format(x_valid.shape))\n",
    "print(\"y_valid {}\".format(y_valid.shape))\n",
    "print(\"x_test: {}\".format(x_test.shape))\n",
    "print(\"y_test {}\".format(y_test.shape))"
   ]
  },
  {
   "cell_type": "markdown",
   "id": "distinguished-polish",
   "metadata": {},
   "source": [
    "## 3.1 Train on many stocks"
   ]
  },
  {
   "cell_type": "code",
   "execution_count": 22,
   "id": "working-uganda",
   "metadata": {},
   "outputs": [],
   "source": [
    "time_stamp = time()\n",
    "tensorboard = TensorBoard(log_dir='logs/{}'.format(time_stamp))"
   ]
  },
  {
   "cell_type": "code",
   "execution_count": 23,
   "id": "acting-holiday",
   "metadata": {},
   "outputs": [],
   "source": [
    "model.compile(optimizer='adam', loss='binary_crossentropy', metrics='accuracy')"
   ]
  },
  {
   "cell_type": "code",
   "execution_count": 24,
   "id": "broke-blank",
   "metadata": {},
   "outputs": [
    {
     "name": "stdout",
     "output_type": "stream",
     "text": [
      "Epoch 1/15\n",
      "345/345 [==============================] - 15s 30ms/step - loss: 0.8651 - accuracy: 0.5157 - val_loss: 0.7054 - val_accuracy: 0.5156\n",
      "Epoch 2/15\n",
      "345/345 [==============================] - 7s 20ms/step - loss: 0.6879 - accuracy: 0.5523 - val_loss: 0.7828 - val_accuracy: 0.4771\n",
      "Epoch 3/15\n",
      "345/345 [==============================] - 7s 20ms/step - loss: 0.6750 - accuracy: 0.5772 - val_loss: 1.0561 - val_accuracy: 0.4575\n",
      "Epoch 4/15\n",
      "345/345 [==============================] - 7s 20ms/step - loss: 0.6644 - accuracy: 0.5971 - val_loss: 1.6816 - val_accuracy: 0.5065\n",
      "Epoch 5/15\n",
      "345/345 [==============================] - 7s 20ms/step - loss: 0.6573 - accuracy: 0.6026 - val_loss: 1.2661 - val_accuracy: 0.4663\n",
      "Epoch 6/15\n",
      "345/345 [==============================] - 7s 20ms/step - loss: 0.6561 - accuracy: 0.6039 - val_loss: 1.3857 - val_accuracy: 0.4682\n",
      "Epoch 7/15\n",
      "345/345 [==============================] - 7s 20ms/step - loss: 0.6550 - accuracy: 0.6116 - val_loss: 1.6648 - val_accuracy: 0.4614\n",
      "Epoch 8/15\n",
      "345/345 [==============================] - 7s 20ms/step - loss: 0.6503 - accuracy: 0.6244 - val_loss: 1.7139 - val_accuracy: 0.4801\n",
      "Epoch 9/15\n",
      "345/345 [==============================] - 7s 20ms/step - loss: 0.6445 - accuracy: 0.6235 - val_loss: 1.9595 - val_accuracy: 0.4696\n",
      "Epoch 10/15\n",
      "345/345 [==============================] - 7s 20ms/step - loss: 0.6425 - accuracy: 0.6223 - val_loss: 1.5897 - val_accuracy: 0.4794\n",
      "Epoch 11/15\n",
      "345/345 [==============================] - 7s 20ms/step - loss: 0.6424 - accuracy: 0.6322 - val_loss: 1.6061 - val_accuracy: 0.4352\n",
      "Epoch 12/15\n",
      "345/345 [==============================] - 7s 20ms/step - loss: 0.6359 - accuracy: 0.6408 - val_loss: 1.4529 - val_accuracy: 0.4971\n",
      "Epoch 13/15\n",
      "345/345 [==============================] - 7s 20ms/step - loss: 0.6351 - accuracy: 0.6292 - val_loss: 1.7282 - val_accuracy: 0.4421\n",
      "Epoch 14/15\n",
      "345/345 [==============================] - 7s 20ms/step - loss: 0.6399 - accuracy: 0.6321 - val_loss: 1.4892 - val_accuracy: 0.4694\n",
      "Epoch 15/15\n",
      "345/345 [==============================] - 7s 20ms/step - loss: 0.6279 - accuracy: 0.6455 - val_loss: 1.2139 - val_accuracy: 0.4675\n"
     ]
    }
   ],
   "source": [
    "history1 = model.fit(x_train, \n",
    "                     y_train, \n",
    "                     epochs=15, \n",
    "                     validation_data=(x_valid, y_valid), \n",
    "                     batch_size=64, \n",
    "                     shuffle=True, \n",
    "                     callbacks=[tensorboard])"
   ]
  },
  {
   "cell_type": "code",
   "execution_count": 25,
   "id": "remarkable-senate",
   "metadata": {},
   "outputs": [
    {
     "data": {
      "image/png": "[encoded data removed]",
      "text/plain": [
       "<Figure size 576x432 with 1 Axes>"
      ]
     },
     "metadata": {
      "needs_background": "light"
     },
     "output_type": "display_data"
    }
   ],
   "source": [
    "plot_loss(history1)"
   ]
  },
  {
   "cell_type": "code",
   "execution_count": 26,
   "id": "requested-launch",
   "metadata": {},
   "outputs": [
    {
     "data": {
      "image/png": "[encoded data removed]",
      "text/plain": [
       "<Figure size 576x432 with 1 Axes>"
      ]
     },
     "metadata": {
      "needs_background": "light"
     },
     "output_type": "display_data"
    }
   ],
   "source": [
    "plot_acc(history1)"
   ]
  },
  {
   "cell_type": "markdown",
   "id": "concerned-suite",
   "metadata": {},
   "source": [
    "## 3.2 Performance of model"
   ]
  },
  {
   "cell_type": "code",
   "execution_count": 27,
   "id": "blessed-probe",
   "metadata": {},
   "outputs": [
    {
     "name": "stdout",
     "output_type": "stream",
     "text": [
      "Upward ratio: 51.74%\n",
      "Mean prediction: 52.32%\n",
      "Predicted upward ratio: 60.08%\n",
      "Accuracy: 68.95%\n"
     ]
    }
   ],
   "source": [
    "performance_stats(model, x_train, y_train)"
   ]
  },
  {
   "cell_type": "code",
   "execution_count": 28,
   "id": "lesser-repair",
   "metadata": {},
   "outputs": [
    {
     "name": "stdout",
     "output_type": "stream",
     "text": [
      "Upward ratio: 51.36%\n",
      "Mean prediction: 74.65%\n",
      "Predicted upward ratio: 86.21%\n",
      "Accuracy: 46.75%\n"
     ]
    }
   ],
   "source": [
    "performance_stats(model, x_valid, y_valid)"
   ]
  },
  {
   "cell_type": "code",
   "execution_count": 29,
   "id": "through-prevention",
   "metadata": {
    "scrolled": false
   },
   "outputs": [
    {
     "name": "stdout",
     "output_type": "stream",
     "text": [
      "Upward ratio: 46.53%\n",
      "Mean prediction: 48.87%\n",
      "Predicted upward ratio: 47.26%\n",
      "Accuracy: 46.29%\n"
     ]
    }
   ],
   "source": [
    "performance_stats(model, x_test, y_test)"
   ]
  },
  {
   "cell_type": "markdown",
   "id": "complete-riverside",
   "metadata": {},
   "source": [
    "# 4.0 Prepare data for less stocks"
   ]
  },
  {
   "cell_type": "code",
   "execution_count": 30,
   "id": "wireless-bosnia",
   "metadata": {},
   "outputs": [],
   "source": [
    "x_train2, y_train2, x_valid2, y_valid2, x_test2, y_test2 = generate_dataset(dataset, \n",
    "                                                                           climate_trends_data,\n",
    "                                                                           traditional_energy_stocks,\n",
    "                                                                           \"2018-03-01\", \"2019-03-01\", \"2020-03-01\", \n",
    "                                                                           chosen_stock_features, chosen_trend_terms,\n",
    "                                                                            trail_size, predict_length\n",
    "                                                                           )"
   ]
  },
  {
   "cell_type": "code",
   "execution_count": 31,
   "id": "injured-warren",
   "metadata": {},
   "outputs": [
    {
     "name": "stdout",
     "output_type": "stream",
     "text": [
      "x_train: (12042, 30, 37)\n",
      "y_train: (12042,)\n",
      "x_valid: (3888, 30, 37)\n",
      "y_valid (3888,)\n",
      "x_test: (3876, 30, 37)\n",
      "y_test (3876,)\n"
     ]
    }
   ],
   "source": [
    "print(\"x_train: {}\".format(x_train2.shape))\n",
    "print(\"y_train: {}\".format(y_train2.shape))\n",
    "print(\"x_valid: {}\".format(x_valid2.shape))\n",
    "print(\"y_valid {}\".format(y_valid2.shape))\n",
    "print(\"x_test: {}\".format(x_test2.shape))\n",
    "print(\"y_test {}\".format(y_test2.shape))"
   ]
  },
  {
   "cell_type": "markdown",
   "id": "meaningful-wallet",
   "metadata": {},
   "source": [
    "## 4.1 Train model on less stocks"
   ]
  },
  {
   "cell_type": "code",
   "execution_count": 32,
   "id": "severe-slovakia",
   "metadata": {},
   "outputs": [],
   "source": [
    "# model.layers[7].trainable = False\n",
    "# model.layers[4].trainable = False\n",
    "# model.layers[2].trainable = False\n",
    "# model.layers[0].trainable = False"
   ]
  },
  {
   "cell_type": "code",
   "execution_count": 33,
   "id": "existing-luther",
   "metadata": {},
   "outputs": [],
   "source": [
    "model.compile(optimizer='adam', loss='binary_crossentropy', metrics=['accuracy'])"
   ]
  },
  {
   "cell_type": "code",
   "execution_count": 34,
   "id": "academic-negative",
   "metadata": {},
   "outputs": [],
   "source": [
    "tensorboard = TensorBoard(log_dir='logs/{}_2'.format(time_stamp))"
   ]
  },
  {
   "cell_type": "code",
   "execution_count": 35,
   "id": "relative-airplane",
   "metadata": {},
   "outputs": [
    {
     "name": "stdout",
     "output_type": "stream",
     "text": [
      "Epoch 1/8\n",
      "189/189 [==============================] - 14s 50ms/step - loss: 0.6287 - accuracy: 0.6460 - val_loss: 1.1502 - val_accuracy: 0.4694\n",
      "Epoch 2/8\n",
      "189/189 [==============================] - 4s 21ms/step - loss: 0.6300 - accuracy: 0.6459 - val_loss: 1.3361 - val_accuracy: 0.4668\n",
      "Epoch 3/8\n",
      "189/189 [==============================] - 4s 20ms/step - loss: 0.6235 - accuracy: 0.6549 - val_loss: 1.2115 - val_accuracy: 0.4702\n",
      "Epoch 4/8\n",
      "189/189 [==============================] - 4s 20ms/step - loss: 0.6218 - accuracy: 0.6632 - val_loss: 0.9914 - val_accuracy: 0.4805\n",
      "Epoch 5/8\n",
      "189/189 [==============================] - 4s 20ms/step - loss: 0.6246 - accuracy: 0.6599 - val_loss: 1.0164 - val_accuracy: 0.4853\n",
      "Epoch 6/8\n",
      "189/189 [==============================] - 4s 20ms/step - loss: 0.6275 - accuracy: 0.6583 - val_loss: 0.9384 - val_accuracy: 0.5131\n",
      "Epoch 7/8\n",
      "189/189 [==============================] - 4s 20ms/step - loss: 0.6218 - accuracy: 0.6432 - val_loss: 1.0830 - val_accuracy: 0.4859\n",
      "Epoch 8/8\n",
      "189/189 [==============================] - 4s 20ms/step - loss: 0.6236 - accuracy: 0.6566 - val_loss: 1.0837 - val_accuracy: 0.4805\n"
     ]
    }
   ],
   "source": [
    "history2 = model.fit(x_train2, \n",
    "                     y_train2, \n",
    "                     epochs=8, \n",
    "                     validation_data=(x_valid2, y_valid2), \n",
    "                     batch_size=64, \n",
    "                     shuffle=True, \n",
    "                     callbacks=[tensorboard])"
   ]
  },
  {
   "cell_type": "code",
   "execution_count": 36,
   "id": "sustainable-thomas",
   "metadata": {},
   "outputs": [
    {
     "data": {
      "image/png": "[encoded data removed]",
      "text/plain": [
       "<Figure size 576x432 with 1 Axes>"
      ]
     },
     "metadata": {
      "needs_background": "light"
     },
     "output_type": "display_data"
    }
   ],
   "source": [
    "plot_loss(history2)"
   ]
  },
  {
   "cell_type": "code",
   "execution_count": 37,
   "id": "regulation-alberta",
   "metadata": {},
   "outputs": [
    {
     "data": {
      "image/png": "[encoded data removed]",
      "text/plain": [
       "<Figure size 576x432 with 1 Axes>"
      ]
     },
     "metadata": {
      "needs_background": "light"
     },
     "output_type": "display_data"
    }
   ],
   "source": [
    "plot_acc(history2)"
   ]
  },
  {
   "cell_type": "markdown",
   "id": "quality-barbados",
   "metadata": {},
   "source": [
    "## 4.2 Performance of model"
   ]
  },
  {
   "cell_type": "code",
   "execution_count": 38,
   "id": "opening-today",
   "metadata": {},
   "outputs": [
    {
     "name": "stdout",
     "output_type": "stream",
     "text": [
      "Upward ratio: 50.76%\n",
      "Mean prediction: 54.14%\n",
      "Predicted upward ratio: 58.06%\n",
      "Accuracy: 70.49%\n"
     ]
    }
   ],
   "source": [
    "performance_stats(model, x_train2, y_train2)"
   ]
  },
  {
   "cell_type": "code",
   "execution_count": 39,
   "id": "unauthorized-substance",
   "metadata": {},
   "outputs": [
    {
     "name": "stdout",
     "output_type": "stream",
     "text": [
      "Upward ratio: 51.23%\n",
      "Mean prediction: 76.38%\n",
      "Predicted upward ratio: 94.86%\n",
      "Accuracy: 48.05%\n"
     ]
    }
   ],
   "source": [
    "performance_stats(model, x_valid2, y_valid2)"
   ]
  },
  {
   "cell_type": "code",
   "execution_count": 40,
   "id": "expressed-transaction",
   "metadata": {
    "scrolled": false
   },
   "outputs": [
    {
     "name": "stdout",
     "output_type": "stream",
     "text": [
      "Upward ratio: 46.16%\n",
      "Mean prediction: 63.51%\n",
      "Predicted upward ratio: 68.99%\n",
      "Accuracy: 49.56%\n"
     ]
    }
   ],
   "source": [
    "performance_stats(model, x_test2, y_test2)"
   ]
  },
  {
   "cell_type": "code",
   "execution_count": 72,
   "id": "pretty-bacon",
   "metadata": {},
   "outputs": [
    {
     "data": {
      "text/plain": [
       "Text(0.5, 1.0, 'Testing confusion matrix')"
      ]
     },
     "execution_count": 72,
     "metadata": {},
     "output_type": "execute_result"
    },
    {
     "data": {
      "image/png": "[encoded data removed]",
      "text/plain": [
       "<Figure size 432x288 with 2 Axes>"
      ]
     },
     "metadata": {
      "needs_background": "light"
     },
     "output_type": "display_data"
    }
   ],
   "source": [
    "cm = confusion_matrix(y_true=y_test2, \n",
    "                      y_pred=model.predict(x_test2)>0.5,\n",
    "                     normalize='all')\n",
    "\n",
    "ConfusionMatrixDisplay(cm).plot(cmap=\"Blues\")\n",
    "plt.title(\"Testing confusion matrix\")"
   ]
  },
  {
   "cell_type": "code",
   "execution_count": 42,
   "id": "ordinary-replacement",
   "metadata": {},
   "outputs": [
    {
     "name": "stdout",
     "output_type": "stream",
     "text": [
      "              precision    recall  f1-score   support\n",
      "\n",
      "           0       0.55      0.32      0.41      2087\n",
      "           1       0.47      0.70      0.56      1789\n",
      "\n",
      "    accuracy                           0.50      3876\n",
      "   macro avg       0.51      0.51      0.48      3876\n",
      "weighted avg       0.52      0.50      0.48      3876\n",
      "\n"
     ]
    }
   ],
   "source": [
    "print(classification_report(y_true = y_test2,\n",
    "                     y_pred = model.predict(x_test2)>0.5))"
   ]
  },
  {
   "cell_type": "markdown",
   "id": "descending-optimization",
   "metadata": {},
   "source": [
    "# 5.0 Prepare data for one stock"
   ]
  },
  {
   "cell_type": "code",
   "execution_count": 43,
   "id": "primary-insurance",
   "metadata": {},
   "outputs": [
    {
     "data": {
      "text/plain": [
       "'LNG'"
      ]
     },
     "execution_count": 43,
     "metadata": {},
     "output_type": "execute_result"
    }
   ],
   "source": [
    "traditional_energy_stocks[0]"
   ]
  },
  {
   "cell_type": "code",
   "execution_count": 44,
   "id": "clean-interval",
   "metadata": {},
   "outputs": [],
   "source": [
    "x_train3, y_train3, x_valid3, y_valid3, x_test3, y_test3 = generate_dataset(dataset, \n",
    "                                                                           climate_trends_data,\n",
    "                                                                           [traditional_energy_stocks[0]],\n",
    "                                                                           \"2018-03-01\", \"2019-03-01\", \"2020-03-01\", \n",
    "                                                                           chosen_stock_features, chosen_trend_terms,\n",
    "                                                                            trail_size, predict_length\n",
    "                                                                           )"
   ]
  },
  {
   "cell_type": "code",
   "execution_count": 45,
   "id": "spiritual-brief",
   "metadata": {},
   "outputs": [
    {
     "name": "stdout",
     "output_type": "stream",
     "text": [
      "x_train: (669, 30, 37)\n",
      "y_train: (669,)\n",
      "x_valid: (216, 30, 37)\n",
      "y_valid (216,)\n",
      "x_test: (217, 30, 37)\n",
      "y_test (217,)\n"
     ]
    }
   ],
   "source": [
    "print(\"x_train: {}\".format(x_train3.shape))\n",
    "print(\"y_train: {}\".format(y_train3.shape))\n",
    "print(\"x_valid: {}\".format(x_valid3.shape))\n",
    "print(\"y_valid {}\".format(y_valid3.shape))\n",
    "print(\"x_test: {}\".format(x_test3.shape))\n",
    "print(\"y_test {}\".format(y_test3.shape))"
   ]
  },
  {
   "cell_type": "markdown",
   "id": "ready-sympathy",
   "metadata": {},
   "source": [
    "## 5.1 Train model on less stocks"
   ]
  },
  {
   "cell_type": "code",
   "execution_count": 46,
   "id": "smoking-trout",
   "metadata": {},
   "outputs": [],
   "source": [
    "# model.layers[7].trainable = False\n",
    "# model.layers[4].trainable = False\n",
    "# model.layers[2].trainable = False\n",
    "# model.layers[0].trainable = False"
   ]
  },
  {
   "cell_type": "code",
   "execution_count": 47,
   "id": "endless-campaign",
   "metadata": {},
   "outputs": [],
   "source": [
    "model.compile(optimizer='adam', loss='binary_crossentropy', metrics=['accuracy'])"
   ]
  },
  {
   "cell_type": "code",
   "execution_count": 48,
   "id": "golden-matter",
   "metadata": {},
   "outputs": [],
   "source": [
    "tensorboard = TensorBoard(log_dir='logs/{}_3'.format(time_stamp))"
   ]
  },
  {
   "cell_type": "code",
   "execution_count": 49,
   "id": "relative-airplane",
   "metadata": {},
   "outputs": [
    {
     "name": "stdout",
     "output_type": "stream",
     "text": [
      "Epoch 1/5\n",
      "11/11 [==============================] - 11s 613ms/step - loss: 0.6326 - accuracy: 0.6441 - val_loss: 0.8570 - val_accuracy: 0.5370\n",
      "Epoch 2/5\n",
      "11/11 [==============================] - 0s 23ms/step - loss: 0.6310 - accuracy: 0.6506 - val_loss: 0.9039 - val_accuracy: 0.5231\n",
      "Epoch 3/5\n",
      "11/11 [==============================] - 0s 24ms/step - loss: 0.6198 - accuracy: 0.6699 - val_loss: 0.9065 - val_accuracy: 0.5463\n",
      "Epoch 4/5\n",
      "11/11 [==============================] - 0s 22ms/step - loss: 0.6127 - accuracy: 0.6974 - val_loss: 0.9463 - val_accuracy: 0.5278\n",
      "Epoch 5/5\n",
      "11/11 [==============================] - 0s 24ms/step - loss: 0.5944 - accuracy: 0.6753 - val_loss: 0.9089 - val_accuracy: 0.5278\n"
     ]
    }
   ],
   "source": [
    "history3 = model.fit(x_train3, \n",
    "                     y_train3, \n",
    "                     epochs=5, \n",
    "                     validation_data=(x_valid3, y_valid3), \n",
    "                     batch_size=64, \n",
    "                     shuffle=True, \n",
    "                     callbacks=[tensorboard])"
   ]
  },
  {
   "cell_type": "code",
   "execution_count": 50,
   "id": "sustainable-thomas",
   "metadata": {},
   "outputs": [
    {
     "data": {
      "image/png": "[encoded data removed]",
      "text/plain": [
       "<Figure size 576x432 with 1 Axes>"
      ]
     },
     "metadata": {
      "needs_background": "light"
     },
     "output_type": "display_data"
    }
   ],
   "source": [
    "plot_loss(history3)"
   ]
  },
  {
   "cell_type": "code",
   "execution_count": 51,
   "id": "regulation-alberta",
   "metadata": {},
   "outputs": [
    {
     "data": {
      "image/png": "[encoded data removed]",
      "text/plain": [
       "<Figure size 576x432 with 1 Axes>"
      ]
     },
     "metadata": {
      "needs_background": "light"
     },
     "output_type": "display_data"
    }
   ],
   "source": [
    "plot_acc(history3)"
   ]
  },
  {
   "cell_type": "markdown",
   "id": "quality-barbados",
   "metadata": {},
   "source": [
    "## 5.2 Performance of model"
   ]
  },
  {
   "cell_type": "code",
   "execution_count": 52,
   "id": "opening-today",
   "metadata": {},
   "outputs": [
    {
     "name": "stdout",
     "output_type": "stream",
     "text": [
      "Upward ratio: 48.28%\n",
      "Mean prediction: 47.53%\n",
      "Predicted upward ratio: 45.29%\n",
      "Accuracy: 72.80%\n"
     ]
    }
   ],
   "source": [
    "performance_stats(model, x_train3, y_train3)"
   ]
  },
  {
   "cell_type": "code",
   "execution_count": 53,
   "id": "unauthorized-substance",
   "metadata": {},
   "outputs": [
    {
     "name": "stdout",
     "output_type": "stream",
     "text": [
      "Upward ratio: 51.85%\n",
      "Mean prediction: 57.83%\n",
      "Predicted upward ratio: 78.70%\n",
      "Accuracy: 52.78%\n"
     ]
    }
   ],
   "source": [
    "performance_stats(model, x_valid3, y_valid3)"
   ]
  },
  {
   "cell_type": "code",
   "execution_count": 54,
   "id": "expressed-transaction",
   "metadata": {
    "scrolled": false
   },
   "outputs": [
    {
     "name": "stdout",
     "output_type": "stream",
     "text": [
      "Upward ratio: 44.24%\n",
      "Mean prediction: 46.54%\n",
      "Predicted upward ratio: 47.93%\n",
      "Accuracy: 52.07%\n"
     ]
    }
   ],
   "source": [
    "performance_stats(model, x_test3, y_test3)"
   ]
  },
  {
   "cell_type": "code",
   "execution_count": 71,
   "id": "working-contemporary",
   "metadata": {},
   "outputs": [
    {
     "data": {
      "text/plain": [
       "Text(0.5, 1.0, 'Testing confusion matrix')"
      ]
     },
     "execution_count": 71,
     "metadata": {},
     "output_type": "execute_result"
    },
    {
     "data": {
      "image/png": "[encoded data removed]",
      "text/plain": [
       "<Figure size 432x288 with 2 Axes>"
      ]
     },
     "metadata": {
      "needs_background": "light"
     },
     "output_type": "display_data"
    }
   ],
   "source": [
    "cm = confusion_matrix(y_true=y_test3, \n",
    "                      y_pred=model.predict(x_test3)>0.5,\n",
    "                     normalize=\"all\")\n",
    "\n",
    "ConfusionMatrixDisplay(cm).plot(cmap=\"Blues\")\n",
    "plt.title(\"Testing confusion matrix\")"
   ]
  },
  {
   "cell_type": "code",
   "execution_count": 65,
   "id": "italic-quality",
   "metadata": {},
   "outputs": [
    {
     "name": "stdout",
     "output_type": "stream",
     "text": [
      "              precision    recall  f1-score   support\n",
      "\n",
      "           0       0.58      0.54      0.56       121\n",
      "           1       0.46      0.50      0.48        96\n",
      "\n",
      "    accuracy                           0.52       217\n",
      "   macro avg       0.52      0.52      0.52       217\n",
      "weighted avg       0.52      0.52      0.52       217\n",
      "\n"
     ]
    }
   ],
   "source": [
    "print(classification_report(y_true = y_test3,\n",
    "                     y_pred = model.predict(x_test3)>0.5))"
   ]
  },
  {
   "cell_type": "code",
   "execution_count": null,
   "id": "suspended-firmware",
   "metadata": {},
   "outputs": [],
   "source": []
  }
 ],
 "metadata": {
  "kernelspec": {
   "display_name": "Python 3",
   "language": "python",
   "name": "python3"
  },
  "language_info": {
   "codemirror_mode": {
    "name": "ipython",
    "version": 3
   },
   "file_extension": ".py",
   "mimetype": "text/x-python",
   "name": "python",
   "nbconvert_exporter": "python",
   "pygments_lexer": "ipython3",
   "version": "3.8.5"
  }
 },
 "nbformat": 4,
 "nbformat_minor": 5
}
