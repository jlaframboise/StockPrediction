{
 "cells": [
  {
   "cell_type": "markdown",
   "id": "geographic-egyptian",
   "metadata": {},
   "source": [
    "# Trend Classification on Traditional Energy Stocks\n",
    "# Without Trends Data"
   ]
  },
  {
   "cell_type": "markdown",
   "id": "thermal-satin",
   "metadata": {},
   "source": [
    "### Imports"
   ]
  },
  {
   "cell_type": "code",
   "execution_count": 1,
   "id": "lightweight-birmingham",
   "metadata": {},
   "outputs": [
    {
     "data": {
      "text/html": [
       "<style>.container { width:100% !important; }</style>"
      ],
      "text/plain": [
       "<IPython.core.display.HTML object>"
      ]
     },
     "metadata": {},
     "output_type": "display_data"
    }
   ],
   "source": [
    "import os, sys\n",
    "import pandas as pd\n",
    "import numpy as np\n",
    "import yfinance as yf\n",
    "import matplotlib.pyplot as plt\n",
    "import seaborn as sns\n",
    "import random\n",
    "\n",
    "import tensorflow as tf\n",
    "from tensorflow.keras import Input, Model\n",
    "from tensorflow.keras.models import Sequential\n",
    "from tensorflow.keras.layers import *\n",
    "from tensorflow.keras.losses import CategoricalCrossentropy\n",
    "from tensorflow.keras.regularizers import l1, l2\n",
    "from tensorflow.keras.utils import to_categorical, plot_model\n",
    "from tensorflow.keras.preprocessing.sequence import TimeseriesGenerator\n",
    "from sklearn.metrics import confusion_matrix, ConfusionMatrixDisplay, mean_squared_error, classification_report\n",
    "from sklearn.feature_extraction.text import CountVectorizer\n",
    "from sklearn.preprocessing import StandardScaler, MinMaxScaler, RobustScaler\n",
    "\n",
    "from time import time\n",
    "from tensorflow.python.keras.callbacks import TensorBoard\n",
    "import warnings\n",
    "warnings.simplefilter(\"ignore\")\n",
    "\n",
    "from indicators import *\n",
    "from data_loading import *\n",
    "from util_functions import *\n",
    "\n",
    "\n",
    "physical_devices = tf.config.list_physical_devices('GPU')\n",
    "tf.config.experimental.set_memory_growth(physical_devices[0], enable=True)\n",
    "\n",
    "from IPython.core.display import display, HTML\n",
    "display(HTML(\"<style>.container { width:100% !important; }</style>\"))\n",
    "\n",
    "pd.set_option('display.max_rows', 500)\n",
    "pd.set_option('display.max_columns', 500)\n",
    "pd.set_option('display.width', 1000)\n"
   ]
  },
  {
   "cell_type": "markdown",
   "id": "minus-mitchell",
   "metadata": {},
   "source": [
    "### Parameters"
   ]
  },
  {
   "cell_type": "code",
   "execution_count": 2,
   "id": "pressed-equality",
   "metadata": {},
   "outputs": [],
   "source": [
    "trail_size=30\n",
    "predict_length = 5\n",
    "time_period = '6y'"
   ]
  },
  {
   "cell_type": "markdown",
   "id": "mediterranean-pursuit",
   "metadata": {},
   "source": [
    "# 1.0 Load data"
   ]
  },
  {
   "cell_type": "markdown",
   "id": "opposite-bronze",
   "metadata": {},
   "source": [
    "## 1.1 Load stock data"
   ]
  },
  {
   "cell_type": "code",
   "execution_count": 3,
   "id": "color-myrtle",
   "metadata": {},
   "outputs": [],
   "source": [
    "top_energy = [\"XOM\", \"CVX\", \"RDS-A\", \"RDS-B\", \"PTR\", \"TOT\", \"BP\",\n",
    "\"SNP\", \"ENB\", \"COP\", \"EQNR\", \"PBR-A\", \"PBR\", \"EPD\",\n",
    "\"TRP\", \"E\", \"EOG\", \"SLB\", \"KMI\", \"PSX\", \"CNQ\",\n",
    "\"MPC\", \"PXD\", \"SU\", \"VLO\"]"
   ]
  },
  {
   "cell_type": "code",
   "execution_count": 4,
   "id": "coordinated-engineering",
   "metadata": {},
   "outputs": [],
   "source": [
    "traditional_energy_stocks = [ \"LNG\", \"OKE\", \"BKR\", \"WMB\", \"EQT\",  \"XEC\",  \"XOM\",  \"CVX\",  \"BP\",  \"OXY\",  \"COP\",  \"EOG\",  \"COG\",  \"CNQ\",  \"SLB\",  \"PTR\",  \"TOT\",  \"ENB\"]"
   ]
  },
  {
   "cell_type": "code",
   "execution_count": 5,
   "id": "adult-graphic",
   "metadata": {},
   "outputs": [
    {
     "name": "stdout",
     "output_type": "stream",
     "text": [
      "[*********************100%***********************]  33 of 33 completed\n"
     ]
    }
   ],
   "source": [
    "data = get_data_yf(traditional_energy_stocks + top_energy, time_period)"
   ]
  },
  {
   "cell_type": "code",
   "execution_count": 6,
   "id": "innovative-november",
   "metadata": {},
   "outputs": [
    {
     "data": {
      "text/plain": [
       "0"
      ]
     },
     "execution_count": 6,
     "metadata": {},
     "output_type": "execute_result"
    }
   ],
   "source": [
    "data.isna().sum().sum()"
   ]
  },
  {
   "cell_type": "code",
   "execution_count": 7,
   "id": "weighted-design",
   "metadata": {},
   "outputs": [],
   "source": [
    "data = process_stock_data_from_yf(data)"
   ]
  },
  {
   "cell_type": "code",
   "execution_count": 8,
   "id": "incorporate-prime",
   "metadata": {},
   "outputs": [
    {
     "data": {
      "text/plain": [
       "100.0"
      ]
     },
     "execution_count": 8,
     "metadata": {},
     "output_type": "execute_result"
    }
   ],
   "source": [
    "has_data_ratio, data = filter_has_all_data(data)\n",
    "has_data_ratio"
   ]
  },
  {
   "cell_type": "markdown",
   "id": "elegant-convertible",
   "metadata": {},
   "source": [
    "## 1.2 Compute technical indicators"
   ]
  },
  {
   "cell_type": "code",
   "execution_count": 9,
   "id": "geographic-devon",
   "metadata": {},
   "outputs": [],
   "source": [
    "all_stock_features = ['Close', 'High',\n",
    " 'Low', 'Open', 'Volume',\n",
    " 'HH', 'LL', 'AV',\n",
    " 'SMA', 'SD', 'WILLR',\n",
    " 'ATR', 'DMH', 'DML',\n",
    " 'EMA', 'WMA', 'BBHIGH',\n",
    " 'BBLOW', 'PERBHIGH', 'PERBLOW',\n",
    " 'TRIMA', 'RSI', 'DX',\n",
    " 'PDI', 'NDI', 'ADX',\n",
    " 'ROC', 'MACD', 'CCI']"
   ]
  },
  {
   "cell_type": "code",
   "execution_count": 10,
   "id": "introductory-controversy",
   "metadata": {},
   "outputs": [],
   "source": [
    "# compute all our technical markers for each of the stocks. \n",
    "dataset = data.groupby('Ticker').apply(lambda x: add_technical_markers(x, trail_size))"
   ]
  },
  {
   "cell_type": "markdown",
   "id": "focal-wichita",
   "metadata": {},
   "source": [
    "## 1.3 Load trends data"
   ]
  },
  {
   "cell_type": "code",
   "execution_count": 11,
   "id": "skilled-lodging",
   "metadata": {},
   "outputs": [],
   "source": [
    "filenames = [os.path.join(\"data\", x) for x in [\n",
    "    \"data climate change adjusted.csv\",\n",
    "    \"data greenhouse gas adjusted.csv\",\n",
    "    \"data oil adjusted.csv\",\n",
    "    \"data renewable adjusted.csv\",\n",
    "    \"data carbon tax adjusted.csv\",\n",
    "    \"data electric vehicles adjusted.csv\",\n",
    "    \"data environmental protection agency adjusted.csv\",\n",
    "    \"data fossil fuels adjusted.csv\",\n",
    "    \"data fracking adjusted.csv\",\n",
    "    \"data global warming adjusted.csv\",\n",
    "] ]\n",
    "terms = [\n",
    "    \"climate change\",\n",
    "    \"greenhouse gas\",\n",
    "    \"oil\",\n",
    "    \"renewable\",\n",
    "    \"carbon tax\",\n",
    "    \"electric vehicles\",\n",
    "    \"environmental protection agency\",\n",
    "    \"fossil fuels\",\n",
    "    \"fracking\",\n",
    "    \"global warming\",\n",
    "]"
   ]
  },
  {
   "cell_type": "code",
   "execution_count": 12,
   "id": "senior-dispute",
   "metadata": {},
   "outputs": [],
   "source": [
    "climate_trends_data = load_climate_data(filenames, terms)"
   ]
  },
  {
   "cell_type": "code",
   "execution_count": 13,
   "id": "alive-mirror",
   "metadata": {},
   "outputs": [
    {
     "data": {
      "text/plain": [
       "(2278, 11)"
      ]
     },
     "execution_count": 13,
     "metadata": {},
     "output_type": "execute_result"
    }
   ],
   "source": [
    "climate_trends_data.shape"
   ]
  },
  {
   "cell_type": "code",
   "execution_count": 14,
   "id": "dietary-compatibility",
   "metadata": {},
   "outputs": [
    {
     "data": {
      "text/plain": [
       "<AxesSubplot:xlabel='Date'>"
      ]
     },
     "execution_count": 14,
     "metadata": {},
     "output_type": "execute_result"
    },
    {
     "data": {
      "image/png": "[encoded data removed]",
      "text/plain": [
       "<Figure size 432x288 with 1 Axes>"
      ]
     },
     "metadata": {
      "needs_background": "light"
     },
     "output_type": "display_data"
    }
   ],
   "source": [
    "climate_trends_data.set_index('Date')[terms[0]].plot()"
   ]
  },
  {
   "cell_type": "markdown",
   "id": "utility-speed",
   "metadata": {},
   "source": [
    "### Choose features"
   ]
  },
  {
   "cell_type": "code",
   "execution_count": 15,
   "id": "graphic-cornell",
   "metadata": {},
   "outputs": [],
   "source": [
    "chosen_stock_features = ['Close', 'High',\n",
    " 'Low', \n",
    "'Open', 'Volume',\n",
    " 'HH', 'LL', 'AV',\n",
    " 'SMA', 'SD', 'WILLR',\n",
    " 'ATR', 'DMH', 'DML',\n",
    " 'EMA', \n",
    "'WMA', \n",
    "'BBHIGH',\n",
    " 'BBLOW', 'PERBHIGH', 'PERBLOW',\n",
    " 'TRIMA', 'RSI', 'DX',\n",
    " 'PDI', 'NDI', \n",
    "'ADX',\n",
    " 'ROC', 'MACD', 'CCI'\n",
    "                        ]"
   ]
  },
  {
   "cell_type": "code",
   "execution_count": 16,
   "id": "certain-arbor",
   "metadata": {},
   "outputs": [],
   "source": [
    "chosen_trend_terms = [\n",
    "#     \"climate change\",\n",
    "#     \"greenhouse gas\",\n",
    "#     \"oil\",\n",
    "#     \"renewable\",\n",
    "#     \"carbon tax\",\n",
    "#     \"electric vehicles\",\n",
    "# #     \"environmental protection agency\",\n",
    "#     \"fossil fuels\",\n",
    "# #     \"fracking\",\n",
    "#     \"global warming\",\n",
    "]"
   ]
  },
  {
   "cell_type": "markdown",
   "id": "latest-facility",
   "metadata": {},
   "source": [
    "# 2.0 Model design"
   ]
  },
  {
   "cell_type": "code",
   "execution_count": 17,
   "id": "solid-worse",
   "metadata": {},
   "outputs": [],
   "source": [
    "num_features = len(chosen_stock_features) + len(chosen_trend_terms) "
   ]
  },
  {
   "cell_type": "code",
   "execution_count": 18,
   "id": "noble-instrument",
   "metadata": {},
   "outputs": [],
   "source": [
    "reg = 0.002\n",
    "drop=0.5\n",
    "\n",
    "model = Sequential()\n",
    "model.add(LSTM(units=75, input_shape=(trail_size, num_features), return_sequences=True, activity_regularizer=l2(reg)))\n",
    "model.add(Dropout(drop))\n",
    "model.add(LSTM(units=30, return_sequences=True, activity_regularizer=l2(reg)))\n",
    "model.add(Dropout(drop))\n",
    "\n",
    "model.add(LSTM(units=30, return_sequences=True, activity_regularizer=l2(reg)))\n",
    "model.add(Dropout(drop))\n",
    "\n",
    "model.add(LSTM(units=30, return_sequences=True, activity_regularizer=l2(reg)))\n",
    "model.add(Dropout(drop))\n",
    "\n",
    "model.add(Flatten())\n",
    "\n",
    "model.add(Dense(5, activation='relu', activity_regularizer=l2(reg)))\n",
    "model.add(Dropout(drop))\n",
    "\n",
    "\n",
    "model.add(Dense(1, activation='sigmoid'))"
   ]
  },
  {
   "cell_type": "code",
   "execution_count": 19,
   "id": "different-compatibility",
   "metadata": {},
   "outputs": [
    {
     "name": "stdout",
     "output_type": "stream",
     "text": [
      "Model: \"sequential\"\n",
      "_________________________________________________________________\n",
      "Layer (type)                 Output Shape              Param #   \n",
      "=================================================================\n",
      "lstm (LSTM)                  (None, 30, 75)            31500     \n",
      "_________________________________________________________________\n",
      "dropout (Dropout)            (None, 30, 75)            0         \n",
      "_________________________________________________________________\n",
      "lstm_1 (LSTM)                (None, 30, 30)            12720     \n",
      "_________________________________________________________________\n",
      "dropout_1 (Dropout)          (None, 30, 30)            0         \n",
      "_________________________________________________________________\n",
      "lstm_2 (LSTM)                (None, 30, 30)            7320      \n",
      "_________________________________________________________________\n",
      "dropout_2 (Dropout)          (None, 30, 30)            0         \n",
      "_________________________________________________________________\n",
      "lstm_3 (LSTM)                (None, 30, 30)            7320      \n",
      "_________________________________________________________________\n",
      "dropout_3 (Dropout)          (None, 30, 30)            0         \n",
      "_________________________________________________________________\n",
      "flatten (Flatten)            (None, 900)               0         \n",
      "_________________________________________________________________\n",
      "dense (Dense)                (None, 5)                 4505      \n",
      "_________________________________________________________________\n",
      "dropout_4 (Dropout)          (None, 5)                 0         \n",
      "_________________________________________________________________\n",
      "dense_1 (Dense)              (None, 1)                 6         \n",
      "=================================================================\n",
      "Total params: 63,371\n",
      "Trainable params: 63,371\n",
      "Non-trainable params: 0\n",
      "_________________________________________________________________\n"
     ]
    }
   ],
   "source": [
    "model.summary()"
   ]
  },
  {
   "cell_type": "markdown",
   "id": "western-symphony",
   "metadata": {},
   "source": [
    "# 3.0 Prepare dataset of many stocks"
   ]
  },
  {
   "cell_type": "code",
   "execution_count": 20,
   "id": "least-baker",
   "metadata": {},
   "outputs": [],
   "source": [
    "x_train, y_train, x_valid, y_valid, x_test, y_test = generate_dataset(dataset, \n",
    "                                                                           climate_trends_data,\n",
    "                                                                           traditional_energy_stocks + top_energy,\n",
    "                                                                           \"2018-03-01\", \"2019-03-01\", \"2020-03-01\", \n",
    "                                                                           chosen_stock_features, chosen_trend_terms,\n",
    "                                                                            trail_size, predict_length\n",
    "                                                                           )"
   ]
  },
  {
   "cell_type": "code",
   "execution_count": 21,
   "id": "convinced-reggae",
   "metadata": {},
   "outputs": [
    {
     "name": "stdout",
     "output_type": "stream",
     "text": [
      "x_train: (22077, 30, 29)\n",
      "y_train: (22077,)\n",
      "x_valid: (7128, 30, 29)\n",
      "y_valid (7128,)\n",
      "x_test: (7131, 30, 29)\n",
      "y_test (7131,)\n"
     ]
    }
   ],
   "source": [
    "print(\"x_train: {}\".format(x_train.shape))\n",
    "print(\"y_train: {}\".format(y_train.shape))\n",
    "print(\"x_valid: {}\".format(x_valid.shape))\n",
    "print(\"y_valid {}\".format(y_valid.shape))\n",
    "print(\"x_test: {}\".format(x_test.shape))\n",
    "print(\"y_test {}\".format(y_test.shape))"
   ]
  },
  {
   "cell_type": "markdown",
   "id": "distinguished-polish",
   "metadata": {},
   "source": [
    "## 3.1 Train on many stocks"
   ]
  },
  {
   "cell_type": "code",
   "execution_count": 22,
   "id": "working-uganda",
   "metadata": {},
   "outputs": [],
   "source": [
    "time_stamp = time()\n",
    "tensorboard = TensorBoard(log_dir='logs/{}'.format(time_stamp))"
   ]
  },
  {
   "cell_type": "code",
   "execution_count": 23,
   "id": "acting-holiday",
   "metadata": {},
   "outputs": [],
   "source": [
    "model.compile(optimizer='adam', loss='binary_crossentropy', metrics='accuracy')"
   ]
  },
  {
   "cell_type": "code",
   "execution_count": 24,
   "id": "broke-blank",
   "metadata": {},
   "outputs": [
    {
     "name": "stdout",
     "output_type": "stream",
     "text": [
      "Epoch 1/15\n",
      "345/345 [==============================] - 16s 30ms/step - loss: 0.7048 - accuracy: 0.5078 - val_loss: 0.7019 - val_accuracy: 0.5136\n",
      "Epoch 2/15\n",
      "345/345 [==============================] - 7s 21ms/step - loss: 0.6933 - accuracy: 0.5164 - val_loss: 0.6988 - val_accuracy: 0.5101\n",
      "Epoch 3/15\n",
      "345/345 [==============================] - 7s 20ms/step - loss: 0.6928 - accuracy: 0.5168 - val_loss: 0.6964 - val_accuracy: 0.5136\n",
      "Epoch 4/15\n",
      "345/345 [==============================] - 7s 20ms/step - loss: 0.6928 - accuracy: 0.5167 - val_loss: 0.6959 - val_accuracy: 0.5056\n",
      "Epoch 5/15\n",
      "345/345 [==============================] - 7s 20ms/step - loss: 0.6929 - accuracy: 0.5133 - val_loss: 0.7000 - val_accuracy: 0.4978\n",
      "Epoch 6/15\n",
      "345/345 [==============================] - 7s 20ms/step - loss: 0.6925 - accuracy: 0.5290 - val_loss: 0.6956 - val_accuracy: 0.5090\n",
      "Epoch 7/15\n",
      "345/345 [==============================] - 7s 20ms/step - loss: 0.6921 - accuracy: 0.5209 - val_loss: 0.6982 - val_accuracy: 0.5022\n",
      "Epoch 8/15\n",
      "345/345 [==============================] - 7s 20ms/step - loss: 0.6919 - accuracy: 0.5204 - val_loss: 0.7043 - val_accuracy: 0.5074\n",
      "Epoch 9/15\n",
      "345/345 [==============================] - 7s 20ms/step - loss: 0.6905 - accuracy: 0.5243 - val_loss: 0.7026 - val_accuracy: 0.4865\n",
      "Epoch 10/15\n",
      "345/345 [==============================] - 7s 20ms/step - loss: 0.6915 - accuracy: 0.5227 - val_loss: 0.7016 - val_accuracy: 0.5102\n",
      "Epoch 11/15\n",
      "345/345 [==============================] - 7s 20ms/step - loss: 0.6909 - accuracy: 0.5247 - val_loss: 0.7044 - val_accuracy: 0.4994\n",
      "Epoch 12/15\n",
      "345/345 [==============================] - 7s 20ms/step - loss: 0.6895 - accuracy: 0.5348 - val_loss: 0.7018 - val_accuracy: 0.5027\n",
      "Epoch 13/15\n",
      "345/345 [==============================] - 7s 20ms/step - loss: 0.6890 - accuracy: 0.5403 - val_loss: 0.7228 - val_accuracy: 0.4857\n",
      "Epoch 14/15\n",
      "345/345 [==============================] - 7s 21ms/step - loss: 0.6887 - accuracy: 0.5401 - val_loss: 0.7144 - val_accuracy: 0.4891\n",
      "Epoch 15/15\n",
      "345/345 [==============================] - 7s 21ms/step - loss: 0.6861 - accuracy: 0.5513 - val_loss: 0.7342 - val_accuracy: 0.4903\n"
     ]
    }
   ],
   "source": [
    "history1 = model.fit(x_train, \n",
    "                     y_train, \n",
    "                     epochs=15, \n",
    "                     validation_data=(x_valid, y_valid), \n",
    "                     batch_size=64, \n",
    "                     shuffle=True, \n",
    "                     callbacks=[tensorboard])"
   ]
  },
  {
   "cell_type": "code",
   "execution_count": 25,
   "id": "remarkable-senate",
   "metadata": {},
   "outputs": [
    {
     "data": {
      "image/png": "[encoded data removed]",
      "text/plain": [
       "<Figure size 576x432 with 1 Axes>"
      ]
     },
     "metadata": {
      "needs_background": "light"
     },
     "output_type": "display_data"
    }
   ],
   "source": [
    "plot_loss(history1)"
   ]
  },
  {
   "cell_type": "code",
   "execution_count": 26,
   "id": "requested-launch",
   "metadata": {},
   "outputs": [
    {
     "data": {
      "image/png": "[encoded data removed]",
      "text/plain": [
       "<Figure size 576x432 with 1 Axes>"
      ]
     },
     "metadata": {
      "needs_background": "light"
     },
     "output_type": "display_data"
    }
   ],
   "source": [
    "plot_acc(history1)"
   ]
  },
  {
   "cell_type": "markdown",
   "id": "concerned-suite",
   "metadata": {},
   "source": [
    "## 3.2 Performance of model"
   ]
  },
  {
   "cell_type": "code",
   "execution_count": 27,
   "id": "blessed-probe",
   "metadata": {},
   "outputs": [
    {
     "name": "stdout",
     "output_type": "stream",
     "text": [
      "Upward ratio: 51.74%\n",
      "Mean prediction: 52.19%\n",
      "Predicted upward ratio: 68.12%\n",
      "Accuracy: 56.61%\n"
     ]
    }
   ],
   "source": [
    "performance_stats(model, x_train, y_train)"
   ]
  },
  {
   "cell_type": "code",
   "execution_count": 28,
   "id": "lesser-repair",
   "metadata": {},
   "outputs": [
    {
     "name": "stdout",
     "output_type": "stream",
     "text": [
      "Upward ratio: 51.36%\n",
      "Mean prediction: 46.83%\n",
      "Predicted upward ratio: 34.15%\n",
      "Accuracy: 49.03%\n"
     ]
    }
   ],
   "source": [
    "performance_stats(model, x_valid, y_valid)"
   ]
  },
  {
   "cell_type": "code",
   "execution_count": 29,
   "id": "through-prevention",
   "metadata": {
    "scrolled": false
   },
   "outputs": [
    {
     "name": "stdout",
     "output_type": "stream",
     "text": [
      "Upward ratio: 46.53%\n",
      "Mean prediction: 52.46%\n",
      "Predicted upward ratio: 48.97%\n",
      "Accuracy: 51.09%\n"
     ]
    }
   ],
   "source": [
    "performance_stats(model, x_test, y_test)"
   ]
  },
  {
   "cell_type": "markdown",
   "id": "complete-riverside",
   "metadata": {},
   "source": [
    "# 4.0 Prepare data for less stocks"
   ]
  },
  {
   "cell_type": "code",
   "execution_count": 30,
   "id": "wireless-bosnia",
   "metadata": {},
   "outputs": [],
   "source": [
    "x_train2, y_train2, x_valid2, y_valid2, x_test2, y_test2 = generate_dataset(dataset, \n",
    "                                                                           climate_trends_data,\n",
    "                                                                           traditional_energy_stocks,\n",
    "                                                                           \"2018-03-01\", \"2019-03-01\", \"2020-03-01\", \n",
    "                                                                           chosen_stock_features, chosen_trend_terms,\n",
    "                                                                            trail_size, predict_length\n",
    "                                                                           )"
   ]
  },
  {
   "cell_type": "code",
   "execution_count": 31,
   "id": "injured-warren",
   "metadata": {},
   "outputs": [
    {
     "name": "stdout",
     "output_type": "stream",
     "text": [
      "x_train: (12042, 30, 29)\n",
      "y_train: (12042,)\n",
      "x_valid: (3888, 30, 29)\n",
      "y_valid (3888,)\n",
      "x_test: (3876, 30, 29)\n",
      "y_test (3876,)\n"
     ]
    }
   ],
   "source": [
    "print(\"x_train: {}\".format(x_train2.shape))\n",
    "print(\"y_train: {}\".format(y_train2.shape))\n",
    "print(\"x_valid: {}\".format(x_valid2.shape))\n",
    "print(\"y_valid {}\".format(y_valid2.shape))\n",
    "print(\"x_test: {}\".format(x_test2.shape))\n",
    "print(\"y_test {}\".format(y_test2.shape))"
   ]
  },
  {
   "cell_type": "markdown",
   "id": "meaningful-wallet",
   "metadata": {},
   "source": [
    "## 4.1 Train model on less stocks"
   ]
  },
  {
   "cell_type": "code",
   "execution_count": 32,
   "id": "severe-slovakia",
   "metadata": {},
   "outputs": [],
   "source": [
    "# model.layers[7].trainable = False\n",
    "# model.layers[4].trainable = False\n",
    "# model.layers[2].trainable = False\n",
    "# model.layers[0].trainable = False"
   ]
  },
  {
   "cell_type": "code",
   "execution_count": 33,
   "id": "existing-luther",
   "metadata": {},
   "outputs": [],
   "source": [
    "model.compile(optimizer='adam', loss='binary_crossentropy', metrics=['accuracy'])"
   ]
  },
  {
   "cell_type": "code",
   "execution_count": 34,
   "id": "academic-negative",
   "metadata": {},
   "outputs": [],
   "source": [
    "tensorboard = TensorBoard(log_dir='logs/{}_2'.format(time_stamp))"
   ]
  },
  {
   "cell_type": "code",
   "execution_count": 35,
   "id": "relative-airplane",
   "metadata": {},
   "outputs": [
    {
     "name": "stdout",
     "output_type": "stream",
     "text": [
      "Epoch 1/8\n",
      "189/189 [==============================] - 14s 49ms/step - loss: 0.6845 - accuracy: 0.5484 - val_loss: 0.7332 - val_accuracy: 0.4982\n",
      "Epoch 2/8\n",
      "189/189 [==============================] - 4s 20ms/step - loss: 0.6845 - accuracy: 0.5601 - val_loss: 0.7215 - val_accuracy: 0.5134\n",
      "Epoch 3/8\n",
      "189/189 [==============================] - 4s 20ms/step - loss: 0.6855 - accuracy: 0.5513 - val_loss: 0.7469 - val_accuracy: 0.4995\n",
      "Epoch 4/8\n",
      "189/189 [==============================] - 4s 20ms/step - loss: 0.6844 - accuracy: 0.5572 - val_loss: 0.7420 - val_accuracy: 0.5177\n",
      "Epoch 5/8\n",
      "189/189 [==============================] - 4s 20ms/step - loss: 0.6863 - accuracy: 0.5529 - val_loss: 0.7420 - val_accuracy: 0.4969\n",
      "Epoch 6/8\n",
      "189/189 [==============================] - 4s 20ms/step - loss: 0.6861 - accuracy: 0.5437 - val_loss: 0.7431 - val_accuracy: 0.5000\n",
      "Epoch 7/8\n",
      "189/189 [==============================] - 4s 20ms/step - loss: 0.6855 - accuracy: 0.5519 - val_loss: 0.7538 - val_accuracy: 0.4928\n",
      "Epoch 8/8\n",
      "189/189 [==============================] - 4s 20ms/step - loss: 0.6845 - accuracy: 0.5553 - val_loss: 0.7465 - val_accuracy: 0.4979\n"
     ]
    }
   ],
   "source": [
    "history2 = model.fit(x_train2, \n",
    "                     y_train2, \n",
    "                     epochs=8, \n",
    "                     validation_data=(x_valid2, y_valid2), \n",
    "                     batch_size=64, \n",
    "                     shuffle=True, \n",
    "                     callbacks=[tensorboard])"
   ]
  },
  {
   "cell_type": "code",
   "execution_count": 36,
   "id": "sustainable-thomas",
   "metadata": {},
   "outputs": [
    {
     "data": {
      "image/png": "[encoded data removed]",
      "text/plain": [
       "<Figure size 576x432 with 1 Axes>"
      ]
     },
     "metadata": {
      "needs_background": "light"
     },
     "output_type": "display_data"
    }
   ],
   "source": [
    "plot_loss(history2)"
   ]
  },
  {
   "cell_type": "code",
   "execution_count": 37,
   "id": "regulation-alberta",
   "metadata": {},
   "outputs": [
    {
     "data": {
      "image/png": "[encoded data removed]",
      "text/plain": [
       "<Figure size 576x432 with 1 Axes>"
      ]
     },
     "metadata": {
      "needs_background": "light"
     },
     "output_type": "display_data"
    }
   ],
   "source": [
    "plot_acc(history2)"
   ]
  },
  {
   "cell_type": "markdown",
   "id": "quality-barbados",
   "metadata": {},
   "source": [
    "## 4.2 Performance of model"
   ]
  },
  {
   "cell_type": "code",
   "execution_count": 38,
   "id": "opening-today",
   "metadata": {},
   "outputs": [
    {
     "name": "stdout",
     "output_type": "stream",
     "text": [
      "Upward ratio: 50.76%\n",
      "Mean prediction: 51.66%\n",
      "Predicted upward ratio: 58.40%\n",
      "Accuracy: 58.28%\n"
     ]
    }
   ],
   "source": [
    "performance_stats(model, x_train2, y_train2)"
   ]
  },
  {
   "cell_type": "code",
   "execution_count": 39,
   "id": "unauthorized-substance",
   "metadata": {},
   "outputs": [
    {
     "name": "stdout",
     "output_type": "stream",
     "text": [
      "Upward ratio: 51.23%\n",
      "Mean prediction: 49.02%\n",
      "Predicted upward ratio: 39.35%\n",
      "Accuracy: 49.79%\n"
     ]
    }
   ],
   "source": [
    "performance_stats(model, x_valid2, y_valid2)"
   ]
  },
  {
   "cell_type": "code",
   "execution_count": 40,
   "id": "expressed-transaction",
   "metadata": {
    "scrolled": false
   },
   "outputs": [
    {
     "name": "stdout",
     "output_type": "stream",
     "text": [
      "Upward ratio: 46.16%\n",
      "Mean prediction: 52.97%\n",
      "Predicted upward ratio: 57.87%\n",
      "Accuracy: 50.41%\n"
     ]
    }
   ],
   "source": [
    "performance_stats(model, x_test2, y_test2)"
   ]
  },
  {
   "cell_type": "code",
   "execution_count": 41,
   "id": "ordinary-price",
   "metadata": {},
   "outputs": [
    {
     "data": {
      "text/plain": [
       "Text(0.5, 1.0, 'Testing confusion matrix')"
      ]
     },
     "execution_count": 41,
     "metadata": {},
     "output_type": "execute_result"
    },
    {
     "data": {
      "image/png": "[encoded data removed]",
      "text/plain": [
       "<Figure size 432x288 with 2 Axes>"
      ]
     },
     "metadata": {
      "needs_background": "light"
     },
     "output_type": "display_data"
    }
   ],
   "source": [
    "cm = confusion_matrix(y_true=y_test2, \n",
    "                      y_pred=model.predict(x_test2)>0.5,\n",
    "                     normalize=\"all\")\n",
    "\n",
    "ConfusionMatrixDisplay(cm).plot(cmap=\"Blues\")\n",
    "plt.title(\"Testing confusion matrix\")"
   ]
  },
  {
   "cell_type": "code",
   "execution_count": 42,
   "id": "heavy-daily",
   "metadata": {},
   "outputs": [
    {
     "name": "stdout",
     "output_type": "stream",
     "text": [
      "              precision    recall  f1-score   support\n",
      "\n",
      "           0       0.55      0.43      0.48      2087\n",
      "           1       0.47      0.59      0.52      1789\n",
      "\n",
      "    accuracy                           0.50      3876\n",
      "   macro avg       0.51      0.51      0.50      3876\n",
      "weighted avg       0.51      0.50      0.50      3876\n",
      "\n"
     ]
    }
   ],
   "source": [
    "print(classification_report(y_true = y_test2,\n",
    "                     y_pred = model.predict(x_test2)>0.5))"
   ]
  },
  {
   "cell_type": "markdown",
   "id": "physical-ensemble",
   "metadata": {},
   "source": [
    "# 5.0 Prepare data for one stock"
   ]
  },
  {
   "cell_type": "code",
   "execution_count": 43,
   "id": "residential-hometown",
   "metadata": {},
   "outputs": [
    {
     "data": {
      "text/plain": [
       "'LNG'"
      ]
     },
     "execution_count": 43,
     "metadata": {},
     "output_type": "execute_result"
    }
   ],
   "source": [
    "traditional_energy_stocks[0]"
   ]
  },
  {
   "cell_type": "code",
   "execution_count": 44,
   "id": "signal-catering",
   "metadata": {},
   "outputs": [],
   "source": [
    "x_train3, y_train3, x_valid3, y_valid3, x_test3, y_test3 = generate_dataset(dataset, \n",
    "                                                                           climate_trends_data,\n",
    "                                                                           [traditional_energy_stocks[0]],\n",
    "                                                                           \"2018-03-01\", \"2019-03-01\", \"2020-03-01\", \n",
    "                                                                           chosen_stock_features, chosen_trend_terms,\n",
    "                                                                            trail_size, predict_length\n",
    "                                                                           )"
   ]
  },
  {
   "cell_type": "code",
   "execution_count": 45,
   "id": "spare-madison",
   "metadata": {},
   "outputs": [
    {
     "name": "stdout",
     "output_type": "stream",
     "text": [
      "x_train: (669, 30, 29)\n",
      "y_train: (669,)\n",
      "x_valid: (216, 30, 29)\n",
      "y_valid (216,)\n",
      "x_test: (217, 30, 29)\n",
      "y_test (217,)\n"
     ]
    }
   ],
   "source": [
    "print(\"x_train: {}\".format(x_train3.shape))\n",
    "print(\"y_train: {}\".format(y_train3.shape))\n",
    "print(\"x_valid: {}\".format(x_valid3.shape))\n",
    "print(\"y_valid {}\".format(y_valid3.shape))\n",
    "print(\"x_test: {}\".format(x_test3.shape))\n",
    "print(\"y_test {}\".format(y_test3.shape))"
   ]
  },
  {
   "cell_type": "markdown",
   "id": "unavailable-perry",
   "metadata": {},
   "source": [
    "## 5.1 Train model on less stocks"
   ]
  },
  {
   "cell_type": "code",
   "execution_count": 46,
   "id": "loving-arrow",
   "metadata": {},
   "outputs": [],
   "source": [
    "# model.layers[7].trainable = False\n",
    "# model.layers[4].trainable = False\n",
    "# model.layers[2].trainable = False\n",
    "# model.layers[0].trainable = False"
   ]
  },
  {
   "cell_type": "code",
   "execution_count": 47,
   "id": "scenic-manchester",
   "metadata": {},
   "outputs": [],
   "source": [
    "model.compile(optimizer='adam', loss='binary_crossentropy', metrics=['accuracy'])"
   ]
  },
  {
   "cell_type": "code",
   "execution_count": 48,
   "id": "hourly-drive",
   "metadata": {},
   "outputs": [],
   "source": [
    "tensorboard = TensorBoard(log_dir='logs/{}_3'.format(time_stamp))"
   ]
  },
  {
   "cell_type": "code",
   "execution_count": 49,
   "id": "civilian-compatibility",
   "metadata": {},
   "outputs": [
    {
     "name": "stdout",
     "output_type": "stream",
     "text": [
      "Epoch 1/5\n",
      "11/11 [==============================] - 11s 616ms/step - loss: 0.7013 - accuracy: 0.4962 - val_loss: 0.6966 - val_accuracy: 0.4583\n",
      "Epoch 2/5\n",
      "11/11 [==============================] - 0s 25ms/step - loss: 0.6875 - accuracy: 0.5417 - val_loss: 0.6993 - val_accuracy: 0.4815\n",
      "Epoch 3/5\n",
      "11/11 [==============================] - 0s 24ms/step - loss: 0.6851 - accuracy: 0.5727 - val_loss: 0.6958 - val_accuracy: 0.4769\n",
      "Epoch 4/5\n",
      "11/11 [==============================] - 0s 23ms/step - loss: 0.6905 - accuracy: 0.5552 - val_loss: 0.7073 - val_accuracy: 0.4815\n",
      "Epoch 5/5\n",
      "11/11 [==============================] - 0s 24ms/step - loss: 0.6927 - accuracy: 0.5666 - val_loss: 0.7023 - val_accuracy: 0.4815\n"
     ]
    }
   ],
   "source": [
    "history3 = model.fit(x_train3, \n",
    "                     y_train3, \n",
    "                     epochs=5, \n",
    "                     validation_data=(x_valid3, y_valid3), \n",
    "                     batch_size=64, \n",
    "                     shuffle=True, \n",
    "                     callbacks=[tensorboard])"
   ]
  },
  {
   "cell_type": "code",
   "execution_count": 50,
   "id": "shaped-surprise",
   "metadata": {},
   "outputs": [
    {
     "data": {
      "image/png": "[encoded data removed]",
      "text/plain": [
       "<Figure size 576x432 with 1 Axes>"
      ]
     },
     "metadata": {
      "needs_background": "light"
     },
     "output_type": "display_data"
    }
   ],
   "source": [
    "plot_loss(history3)"
   ]
  },
  {
   "cell_type": "code",
   "execution_count": 51,
   "id": "expensive-parameter",
   "metadata": {},
   "outputs": [
    {
     "data": {
      "image/png": "[encoded data removed]",
      "text/plain": [
       "<Figure size 576x432 with 1 Axes>"
      ]
     },
     "metadata": {
      "needs_background": "light"
     },
     "output_type": "display_data"
    }
   ],
   "source": [
    "plot_acc(history3)"
   ]
  },
  {
   "cell_type": "markdown",
   "id": "physical-orleans",
   "metadata": {},
   "source": [
    "## 5.2 Performance of model"
   ]
  },
  {
   "cell_type": "code",
   "execution_count": 52,
   "id": "fourth-taste",
   "metadata": {},
   "outputs": [
    {
     "name": "stdout",
     "output_type": "stream",
     "text": [
      "Upward ratio: 48.28%\n",
      "Mean prediction: 48.51%\n",
      "Predicted upward ratio: 24.96%\n",
      "Accuracy: 58.45%\n"
     ]
    }
   ],
   "source": [
    "performance_stats(model, x_train3, y_train3)"
   ]
  },
  {
   "cell_type": "code",
   "execution_count": 53,
   "id": "australian-subdivision",
   "metadata": {},
   "outputs": [
    {
     "name": "stdout",
     "output_type": "stream",
     "text": [
      "Upward ratio: 51.85%\n",
      "Mean prediction: 44.46%\n",
      "Predicted upward ratio: 0.00%\n",
      "Accuracy: 48.15%\n"
     ]
    }
   ],
   "source": [
    "performance_stats(model, x_valid3, y_valid3)"
   ]
  },
  {
   "cell_type": "code",
   "execution_count": 54,
   "id": "expressed-transaction",
   "metadata": {
    "scrolled": false
   },
   "outputs": [
    {
     "name": "stdout",
     "output_type": "stream",
     "text": [
      "Upward ratio: 44.24%\n",
      "Mean prediction: 42.11%\n",
      "Predicted upward ratio: 0.00%\n",
      "Accuracy: 55.76%\n"
     ]
    }
   ],
   "source": [
    "performance_stats(model, x_test3, y_test3)"
   ]
  },
  {
   "cell_type": "code",
   "execution_count": 55,
   "id": "double-mineral",
   "metadata": {},
   "outputs": [
    {
     "data": {
      "text/plain": [
       "Text(0.5, 1.0, 'Testing confusion matrix')"
      ]
     },
     "execution_count": 55,
     "metadata": {},
     "output_type": "execute_result"
    },
    {
     "data": {
      "image/png": "[encoded data removed]",
      "text/plain": [
       "<Figure size 432x288 with 2 Axes>"
      ]
     },
     "metadata": {
      "needs_background": "light"
     },
     "output_type": "display_data"
    }
   ],
   "source": [
    "cm = confusion_matrix(y_true=y_test3, \n",
    "                      y_pred=model.predict(x_test3 )>0.5,\n",
    "                     normalize=\"all\")\n",
    "\n",
    "ConfusionMatrixDisplay(cm).plot(cmap=\"Blues\")\n",
    "plt.title(\"Testing confusion matrix\")"
   ]
  },
  {
   "cell_type": "code",
   "execution_count": 56,
   "id": "brutal-joyce",
   "metadata": {},
   "outputs": [
    {
     "name": "stdout",
     "output_type": "stream",
     "text": [
      "              precision    recall  f1-score   support\n",
      "\n",
      "           0       0.56      1.00      0.72       121\n",
      "           1       0.00      0.00      0.00        96\n",
      "\n",
      "    accuracy                           0.56       217\n",
      "   macro avg       0.28      0.50      0.36       217\n",
      "weighted avg       0.31      0.56      0.40       217\n",
      "\n"
     ]
    }
   ],
   "source": [
    "print(classification_report(y_true = y_test3,\n",
    "                     y_pred = model.predict(x_test3)>0.5))"
   ]
  }
 ],
 "metadata": {
  "kernelspec": {
   "display_name": "Python 3",
   "language": "python",
   "name": "python3"
  },
  "language_info": {
   "codemirror_mode": {
    "name": "ipython",
    "version": 3
   },
   "file_extension": ".py",
   "mimetype": "text/x-python",
   "name": "python",
   "nbconvert_exporter": "python",
   "pygments_lexer": "ipython3",
   "version": "3.8.5"
  }
 },
 "nbformat": 4,
 "nbformat_minor": 5
}
