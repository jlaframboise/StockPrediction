{
 "cells": [
  {
   "cell_type": "code",
   "execution_count": 1,
   "id": "independent-original",
   "metadata": {},
   "outputs": [],
   "source": [
    "import pandas as pd\n",
    "import numpy as np\n",
    "import yfinance as yf"
   ]
  },
  {
   "cell_type": "code",
   "execution_count": 2,
   "id": "economic-supply",
   "metadata": {},
   "outputs": [
    {
     "output_type": "stream",
     "name": "stdout",
     "text": [
      "yfinance.Ticker object <AAPL>\n"
     ]
    }
   ],
   "source": [
    "msft = yf.Ticker(\"AAPL\")\n",
    "print(msft)"
   ]
  },
  {
   "cell_type": "code",
   "execution_count": 3,
   "id": "fresh-joshua",
   "metadata": {},
   "outputs": [
    {
     "output_type": "execute_result",
     "data": {
      "text/plain": [
       "{'zip': '95014',\n",
       " 'sector': 'Technology',\n",
       " 'fullTimeEmployees': 147000,\n",
       " 'longBusinessSummary': 'Apple Inc. designs, manufactures, and markets smartphones, personal computers, tablets, wearables, and accessories worldwide. It also sells various related services. The company offers iPhone, a line of smartphones; Mac, a line of personal computers; iPad, a line of multi-purpose tablets; and wearables, home, and accessories comprising AirPods, Apple TV, Apple Watch, Beats products, HomePod, iPod touch, and other Apple-branded and third-party accessories. It also provides AppleCare support services; cloud services store services; and operates various platforms, including the App Store, that allow customers to discover and download applications and digital content, such as books, music, video, games, and podcasts. In addition, the company offers various services, such as Apple Arcade, a game subscription service; Apple Music, which offers users a curated listening experience with on-demand radio stations; Apple News+, a subscription news and magazine service; Apple TV+, which offers exclusive original content; Apple Card, a co-branded credit card; and Apple Pay, a cashless payment service, as well as licenses its intellectual property. The company serves consumers, and small and mid-sized businesses; and the education, enterprise, and government markets. It sells and delivers third-party applications for its products through the App Store. The company also sells its products through its retail and online stores, and direct sales force; and third-party cellular network carriers, wholesalers, retailers, and resellers. Apple Inc. was founded in 1977 and is headquartered in Cupertino, California.',\n",
       " 'city': 'Cupertino',\n",
       " 'phone': '408-996-1010',\n",
       " 'state': 'CA',\n",
       " 'country': 'United States',\n",
       " 'companyOfficers': [],\n",
       " 'website': 'http://www.apple.com',\n",
       " 'maxAge': 1,\n",
       " 'address1': 'One Apple Park Way',\n",
       " 'industry': 'Consumer Electronics',\n",
       " 'previousClose': 121.42,\n",
       " 'regularMarketOpen': 120.93,\n",
       " 'twoHundredDayAverage': 123.254684,\n",
       " 'trailingAnnualDividendYield': 0.0066463514,\n",
       " 'payoutRatio': 0.2177,\n",
       " 'volume24Hr': None,\n",
       " 'regularMarketDayHigh': 121,\n",
       " 'navPrice': None,\n",
       " 'averageDailyVolume10Day': 132261940,\n",
       " 'totalAssets': None,\n",
       " 'regularMarketPreviousClose': 121.42,\n",
       " 'fiftyDayAverage': 131.77606,\n",
       " 'trailingAnnualDividendRate': 0.807,\n",
       " 'open': 120.93,\n",
       " 'toCurrency': None,\n",
       " 'averageVolume10days': 132261940,\n",
       " 'expireDate': None,\n",
       " 'yield': None,\n",
       " 'algorithm': None,\n",
       " 'dividendRate': 0.82,\n",
       " 'exDividendDate': 1612483200,\n",
       " 'beta': 1.251354,\n",
       " 'circulatingSupply': None,\n",
       " 'startDate': None,\n",
       " 'regularMarketDayLow': 116.21,\n",
       " 'priceHint': 2,\n",
       " 'currency': 'USD',\n",
       " 'trailingPE': 31.559534,\n",
       " 'regularMarketVolume': 148913253,\n",
       " 'lastMarket': None,\n",
       " 'maxSupply': None,\n",
       " 'openInterest': None,\n",
       " 'marketCap': 1953463402496,\n",
       " 'volumeAllCurrencies': None,\n",
       " 'strikePrice': None,\n",
       " 'averageVolume': 110418098,\n",
       " 'priceToSalesTrailing12Months': 6.6413836,\n",
       " 'dayLow': 116.21,\n",
       " 'ask': 116.84,\n",
       " 'ytdReturn': None,\n",
       " 'askSize': 1400,\n",
       " 'volume': 148913253,\n",
       " 'fiftyTwoWeekHigh': 145.09,\n",
       " 'forwardPE': 24.863249,\n",
       " 'fromCurrency': None,\n",
       " 'fiveYearAvgDividendYield': 1.42,\n",
       " 'fiftyTwoWeekLow': 53.1525,\n",
       " 'bid': 116.83,\n",
       " 'tradeable': False,\n",
       " 'dividendYield': 0.0069999998,\n",
       " 'bidSize': 1100,\n",
       " 'dayHigh': 121,\n",
       " 'exchange': 'NMS',\n",
       " 'shortName': 'Apple Inc.',\n",
       " 'longName': 'Apple Inc.',\n",
       " 'exchangeTimezoneName': 'America/New_York',\n",
       " 'exchangeTimezoneShortName': 'EST',\n",
       " 'isEsgPopulated': False,\n",
       " 'gmtOffSetMilliseconds': '-18000000',\n",
       " 'quoteType': 'EQUITY',\n",
       " 'symbol': 'AAPL',\n",
       " 'messageBoardId': 'finmb_24937',\n",
       " 'market': 'us_market',\n",
       " 'annualHoldingsTurnover': None,\n",
       " 'enterpriseToRevenue': 6.761,\n",
       " 'beta3Year': None,\n",
       " 'profitMargins': 0.21735,\n",
       " 'enterpriseToEbitda': 23.353,\n",
       " '52WeekChange': 0.7021098,\n",
       " 'morningStarRiskRating': None,\n",
       " 'forwardEps': 4.68,\n",
       " 'revenueQuarterlyGrowth': None,\n",
       " 'sharesOutstanding': 16788100096,\n",
       " 'fundInceptionDate': None,\n",
       " 'annualReportExpenseRatio': None,\n",
       " 'bookValue': 3.936,\n",
       " 'sharesShort': 88329668,\n",
       " 'sharesPercentSharesOut': 0.0053,\n",
       " 'fundFamily': None,\n",
       " 'lastFiscalYearEnd': 1601078400,\n",
       " 'heldPercentInstitutions': 0.59661996,\n",
       " 'netIncomeToCommon': 63929999360,\n",
       " 'trailingEps': 3.687,\n",
       " 'lastDividendValue': 0.205,\n",
       " 'SandP52WeekChange': 0.3329748,\n",
       " 'priceToBook': 29.563007,\n",
       " 'heldPercentInsiders': 0.00065,\n",
       " 'nextFiscalYearEnd': 1664150400,\n",
       " 'mostRecentQuarter': 1608940800,\n",
       " 'shortRatio': 0.88,\n",
       " 'sharesShortPreviousMonthDate': 1610668800,\n",
       " 'floatShares': 16770804261,\n",
       " 'enterpriseValue': 1988679827456,\n",
       " 'threeYearAverageReturn': None,\n",
       " 'lastSplitDate': 1598832000,\n",
       " 'lastSplitFactor': '4:1',\n",
       " 'legalType': None,\n",
       " 'lastDividendDate': 1612483200,\n",
       " 'morningStarOverallRating': None,\n",
       " 'earningsQuarterlyGrowth': 0.293,\n",
       " 'dateShortInterest': 1613088000,\n",
       " 'pegRatio': 2.02,\n",
       " 'lastCapGain': None,\n",
       " 'shortPercentOfFloat': 0.0053,\n",
       " 'sharesShortPriorMonth': 99897228,\n",
       " 'impliedSharesOutstanding': None,\n",
       " 'category': None,\n",
       " 'fiveYearAverageReturn': None,\n",
       " 'regularMarketPrice': 120.93,\n",
       " 'logo_url': 'https://logo.clearbit.com/apple.com'}"
      ]
     },
     "metadata": {},
     "execution_count": 3
    }
   ],
   "source": [
    "msft.info"
   ]
  },
  {
   "cell_type": "code",
   "execution_count": 4,
   "id": "disabled-resource",
   "metadata": {},
   "outputs": [
    {
     "output_type": "execute_result",
     "data": {
      "text/plain": [
       "                  Open        High         Low       Close     Volume  \\\n",
       "Date                                                                    \n",
       "2020-10-13  124.867649  124.987266  119.265705  120.711044  262330500   \n",
       "2020-10-14  120.611374  122.634853  119.235809  120.800766  151062300   \n",
       "2020-10-15  118.338697  120.810728  117.770528  120.322304  112559200   \n",
       "2020-10-16  120.890469  121.159606  118.428401  118.637726  115393800   \n",
       "2020-10-19  119.574711  120.033233  115.288526  115.607498  120639300   \n",
       "...                ...         ...         ...         ...        ...   \n",
       "2021-03-02  128.410004  128.720001  125.010002  125.120003  102015300   \n",
       "2021-03-03  124.809998  125.709999  121.839996  122.059998  112430400   \n",
       "2021-03-04  121.750000  123.599998  118.620003  120.129997  177275300   \n",
       "2021-03-05  120.980003  121.940002  117.570000  121.419998  153590400   \n",
       "2021-03-08  120.930000  121.000000  116.209999  116.360001  153918600   \n",
       "\n",
       "            Dividends  Stock Splits  \n",
       "Date                                 \n",
       "2020-10-13        0.0             0  \n",
       "2020-10-14        0.0             0  \n",
       "2020-10-15        0.0             0  \n",
       "2020-10-16        0.0             0  \n",
       "2020-10-19        0.0             0  \n",
       "...               ...           ...  \n",
       "2021-03-02        0.0             0  \n",
       "2021-03-03        0.0             0  \n",
       "2021-03-04        0.0             0  \n",
       "2021-03-05        0.0             0  \n",
       "2021-03-08        0.0             0  \n",
       "\n",
       "[100 rows x 7 columns]"
      ],
      "text/html": "<div>\n<style scoped>\n    .dataframe tbody tr th:only-of-type {\n        vertical-align: middle;\n    }\n\n    .dataframe tbody tr th {\n        vertical-align: top;\n    }\n\n    .dataframe thead th {\n        text-align: right;\n    }\n</style>\n<table border=\"1\" class=\"dataframe\">\n  <thead>\n    <tr style=\"text-align: right;\">\n      <th></th>\n      <th>Open</th>\n      <th>High</th>\n      <th>Low</th>\n      <th>Close</th>\n      <th>Volume</th>\n      <th>Dividends</th>\n      <th>Stock Splits</th>\n    </tr>\n    <tr>\n      <th>Date</th>\n      <th></th>\n      <th></th>\n      <th></th>\n      <th></th>\n      <th></th>\n      <th></th>\n      <th></th>\n    </tr>\n  </thead>\n  <tbody>\n    <tr>\n      <th>2020-10-13</th>\n      <td>124.867649</td>\n      <td>124.987266</td>\n      <td>119.265705</td>\n      <td>120.711044</td>\n      <td>262330500</td>\n      <td>0.0</td>\n      <td>0</td>\n    </tr>\n    <tr>\n      <th>2020-10-14</th>\n      <td>120.611374</td>\n      <td>122.634853</td>\n      <td>119.235809</td>\n      <td>120.800766</td>\n      <td>151062300</td>\n      <td>0.0</td>\n      <td>0</td>\n    </tr>\n    <tr>\n      <th>2020-10-15</th>\n      <td>118.338697</td>\n      <td>120.810728</td>\n      <td>117.770528</td>\n      <td>120.322304</td>\n      <td>112559200</td>\n      <td>0.0</td>\n      <td>0</td>\n    </tr>\n    <tr>\n      <th>2020-10-16</th>\n      <td>120.890469</td>\n      <td>121.159606</td>\n      <td>118.428401</td>\n      <td>118.637726</td>\n      <td>115393800</td>\n      <td>0.0</td>\n      <td>0</td>\n    </tr>\n    <tr>\n      <th>2020-10-19</th>\n      <td>119.574711</td>\n      <td>120.033233</td>\n      <td>115.288526</td>\n      <td>115.607498</td>\n      <td>120639300</td>\n      <td>0.0</td>\n      <td>0</td>\n    </tr>\n    <tr>\n      <th>...</th>\n      <td>...</td>\n      <td>...</td>\n      <td>...</td>\n      <td>...</td>\n      <td>...</td>\n      <td>...</td>\n      <td>...</td>\n    </tr>\n    <tr>\n      <th>2021-03-02</th>\n      <td>128.410004</td>\n      <td>128.720001</td>\n      <td>125.010002</td>\n      <td>125.120003</td>\n      <td>102015300</td>\n      <td>0.0</td>\n      <td>0</td>\n    </tr>\n    <tr>\n      <th>2021-03-03</th>\n      <td>124.809998</td>\n      <td>125.709999</td>\n      <td>121.839996</td>\n      <td>122.059998</td>\n      <td>112430400</td>\n      <td>0.0</td>\n      <td>0</td>\n    </tr>\n    <tr>\n      <th>2021-03-04</th>\n      <td>121.750000</td>\n      <td>123.599998</td>\n      <td>118.620003</td>\n      <td>120.129997</td>\n      <td>177275300</td>\n      <td>0.0</td>\n      <td>0</td>\n    </tr>\n    <tr>\n      <th>2021-03-05</th>\n      <td>120.980003</td>\n      <td>121.940002</td>\n      <td>117.570000</td>\n      <td>121.419998</td>\n      <td>153590400</td>\n      <td>0.0</td>\n      <td>0</td>\n    </tr>\n    <tr>\n      <th>2021-03-08</th>\n      <td>120.930000</td>\n      <td>121.000000</td>\n      <td>116.209999</td>\n      <td>116.360001</td>\n      <td>153918600</td>\n      <td>0.0</td>\n      <td>0</td>\n    </tr>\n  </tbody>\n</table>\n<p>100 rows × 7 columns</p>\n</div>"
     },
     "metadata": {},
     "execution_count": 4
    }
   ],
   "source": [
    "msft.history(period=\"100d\")"
   ]
  },
  {
   "cell_type": "code",
   "execution_count": 5,
   "id": "reduced-dividend",
   "metadata": {},
   "outputs": [],
   "source": [
    "series = msft.history(period = \"100d\")\n",
    "# series = pd.Series([1,2,3,4,5,6,7,8,9,10])"
   ]
  },
  {
   "cell_type": "code",
   "execution_count": 6,
   "id": "sunset-small",
   "metadata": {},
   "outputs": [
    {
     "output_type": "execute_result",
     "data": {
      "text/plain": [
       "                  Open        High         Low       Close     Volume  \\\n",
       "Date                                                                    \n",
       "2020-10-13  124.867649  124.987266  119.265705  120.711044  262330500   \n",
       "2020-10-14  120.611374  122.634853  119.235809  120.800766  151062300   \n",
       "2020-10-15  118.338697  120.810728  117.770528  120.322304  112559200   \n",
       "2020-10-16  120.890469  121.159606  118.428401  118.637726  115393800   \n",
       "2020-10-19  119.574711  120.033233  115.288526  115.607498  120639300   \n",
       "...                ...         ...         ...         ...        ...   \n",
       "2021-03-02  128.410004  128.720001  125.010002  125.120003  102015300   \n",
       "2021-03-03  124.809998  125.709999  121.839996  122.059998  112430400   \n",
       "2021-03-04  121.750000  123.599998  118.620003  120.129997  177275300   \n",
       "2021-03-05  120.980003  121.940002  117.570000  121.419998  153590400   \n",
       "2021-03-08  120.930000  121.000000  116.209999  116.360001  153918600   \n",
       "\n",
       "            Dividends  Stock Splits  \n",
       "Date                                 \n",
       "2020-10-13        0.0             0  \n",
       "2020-10-14        0.0             0  \n",
       "2020-10-15        0.0             0  \n",
       "2020-10-16        0.0             0  \n",
       "2020-10-19        0.0             0  \n",
       "...               ...           ...  \n",
       "2021-03-02        0.0             0  \n",
       "2021-03-03        0.0             0  \n",
       "2021-03-04        0.0             0  \n",
       "2021-03-05        0.0             0  \n",
       "2021-03-08        0.0             0  \n",
       "\n",
       "[100 rows x 7 columns]"
      ],
      "text/html": "<div>\n<style scoped>\n    .dataframe tbody tr th:only-of-type {\n        vertical-align: middle;\n    }\n\n    .dataframe tbody tr th {\n        vertical-align: top;\n    }\n\n    .dataframe thead th {\n        text-align: right;\n    }\n</style>\n<table border=\"1\" class=\"dataframe\">\n  <thead>\n    <tr style=\"text-align: right;\">\n      <th></th>\n      <th>Open</th>\n      <th>High</th>\n      <th>Low</th>\n      <th>Close</th>\n      <th>Volume</th>\n      <th>Dividends</th>\n      <th>Stock Splits</th>\n    </tr>\n    <tr>\n      <th>Date</th>\n      <th></th>\n      <th></th>\n      <th></th>\n      <th></th>\n      <th></th>\n      <th></th>\n      <th></th>\n    </tr>\n  </thead>\n  <tbody>\n    <tr>\n      <th>2020-10-13</th>\n      <td>124.867649</td>\n      <td>124.987266</td>\n      <td>119.265705</td>\n      <td>120.711044</td>\n      <td>262330500</td>\n      <td>0.0</td>\n      <td>0</td>\n    </tr>\n    <tr>\n      <th>2020-10-14</th>\n      <td>120.611374</td>\n      <td>122.634853</td>\n      <td>119.235809</td>\n      <td>120.800766</td>\n      <td>151062300</td>\n      <td>0.0</td>\n      <td>0</td>\n    </tr>\n    <tr>\n      <th>2020-10-15</th>\n      <td>118.338697</td>\n      <td>120.810728</td>\n      <td>117.770528</td>\n      <td>120.322304</td>\n      <td>112559200</td>\n      <td>0.0</td>\n      <td>0</td>\n    </tr>\n    <tr>\n      <th>2020-10-16</th>\n      <td>120.890469</td>\n      <td>121.159606</td>\n      <td>118.428401</td>\n      <td>118.637726</td>\n      <td>115393800</td>\n      <td>0.0</td>\n      <td>0</td>\n    </tr>\n    <tr>\n      <th>2020-10-19</th>\n      <td>119.574711</td>\n      <td>120.033233</td>\n      <td>115.288526</td>\n      <td>115.607498</td>\n      <td>120639300</td>\n      <td>0.0</td>\n      <td>0</td>\n    </tr>\n    <tr>\n      <th>...</th>\n      <td>...</td>\n      <td>...</td>\n      <td>...</td>\n      <td>...</td>\n      <td>...</td>\n      <td>...</td>\n      <td>...</td>\n    </tr>\n    <tr>\n      <th>2021-03-02</th>\n      <td>128.410004</td>\n      <td>128.720001</td>\n      <td>125.010002</td>\n      <td>125.120003</td>\n      <td>102015300</td>\n      <td>0.0</td>\n      <td>0</td>\n    </tr>\n    <tr>\n      <th>2021-03-03</th>\n      <td>124.809998</td>\n      <td>125.709999</td>\n      <td>121.839996</td>\n      <td>122.059998</td>\n      <td>112430400</td>\n      <td>0.0</td>\n      <td>0</td>\n    </tr>\n    <tr>\n      <th>2021-03-04</th>\n      <td>121.750000</td>\n      <td>123.599998</td>\n      <td>118.620003</td>\n      <td>120.129997</td>\n      <td>177275300</td>\n      <td>0.0</td>\n      <td>0</td>\n    </tr>\n    <tr>\n      <th>2021-03-05</th>\n      <td>120.980003</td>\n      <td>121.940002</td>\n      <td>117.570000</td>\n      <td>121.419998</td>\n      <td>153590400</td>\n      <td>0.0</td>\n      <td>0</td>\n    </tr>\n    <tr>\n      <th>2021-03-08</th>\n      <td>120.930000</td>\n      <td>121.000000</td>\n      <td>116.209999</td>\n      <td>116.360001</td>\n      <td>153918600</td>\n      <td>0.0</td>\n      <td>0</td>\n    </tr>\n  </tbody>\n</table>\n<p>100 rows × 7 columns</p>\n</div>"
     },
     "metadata": {},
     "execution_count": 6
    }
   ],
   "source": [
    "series"
   ]
  },
  {
   "cell_type": "code",
   "execution_count": 7,
   "id": "dutch-flood",
   "metadata": {},
   "outputs": [
    {
     "output_type": "stream",
     "name": "stdout",
     "text": [
      "[*********************100%***********************]  1 of 1 completed\n"
     ]
    },
    {
     "output_type": "execute_result",
     "data": {
      "text/plain": [
       "                  Open        High         Low       Close   Adj Close  \\\n",
       "Date                                                                     \n",
       "2020-10-13  125.269997  125.389999  119.650002  121.099998  120.711044   \n",
       "2020-10-14  121.000000  123.029999  119.620003  121.190002  120.800766   \n",
       "2020-10-15  118.720001  121.199997  118.150002  120.709999  120.322304   \n",
       "2020-10-16  121.279999  121.550003  118.809998  119.019997  118.637726   \n",
       "2020-10-19  119.959999  120.419998  115.660004  115.980003  115.607498   \n",
       "...                ...         ...         ...         ...         ...   \n",
       "2021-03-02  128.410004  128.720001  125.010002  125.120003  125.120003   \n",
       "2021-03-03  124.809998  125.709999  121.839996  122.059998  122.059998   \n",
       "2021-03-04  121.750000  123.599998  118.620003  120.129997  120.129997   \n",
       "2021-03-05  120.980003  121.940002  117.570000  121.419998  121.419998   \n",
       "2021-03-08  120.930000  121.000000  116.209999  116.360001  116.360001   \n",
       "\n",
       "               Volume  \n",
       "Date                   \n",
       "2020-10-13  262330500  \n",
       "2020-10-14  151062300  \n",
       "2020-10-15  112559200  \n",
       "2020-10-16  115393800  \n",
       "2020-10-19  120639300  \n",
       "...               ...  \n",
       "2021-03-02  102015300  \n",
       "2021-03-03  112430400  \n",
       "2021-03-04  177275300  \n",
       "2021-03-05  153590400  \n",
       "2021-03-08  153918600  \n",
       "\n",
       "[100 rows x 6 columns]"
      ],
      "text/html": "<div>\n<style scoped>\n    .dataframe tbody tr th:only-of-type {\n        vertical-align: middle;\n    }\n\n    .dataframe tbody tr th {\n        vertical-align: top;\n    }\n\n    .dataframe thead th {\n        text-align: right;\n    }\n</style>\n<table border=\"1\" class=\"dataframe\">\n  <thead>\n    <tr style=\"text-align: right;\">\n      <th></th>\n      <th>Open</th>\n      <th>High</th>\n      <th>Low</th>\n      <th>Close</th>\n      <th>Adj Close</th>\n      <th>Volume</th>\n    </tr>\n    <tr>\n      <th>Date</th>\n      <th></th>\n      <th></th>\n      <th></th>\n      <th></th>\n      <th></th>\n      <th></th>\n    </tr>\n  </thead>\n  <tbody>\n    <tr>\n      <th>2020-10-13</th>\n      <td>125.269997</td>\n      <td>125.389999</td>\n      <td>119.650002</td>\n      <td>121.099998</td>\n      <td>120.711044</td>\n      <td>262330500</td>\n    </tr>\n    <tr>\n      <th>2020-10-14</th>\n      <td>121.000000</td>\n      <td>123.029999</td>\n      <td>119.620003</td>\n      <td>121.190002</td>\n      <td>120.800766</td>\n      <td>151062300</td>\n    </tr>\n    <tr>\n      <th>2020-10-15</th>\n      <td>118.720001</td>\n      <td>121.199997</td>\n      <td>118.150002</td>\n      <td>120.709999</td>\n      <td>120.322304</td>\n      <td>112559200</td>\n    </tr>\n    <tr>\n      <th>2020-10-16</th>\n      <td>121.279999</td>\n      <td>121.550003</td>\n      <td>118.809998</td>\n      <td>119.019997</td>\n      <td>118.637726</td>\n      <td>115393800</td>\n    </tr>\n    <tr>\n      <th>2020-10-19</th>\n      <td>119.959999</td>\n      <td>120.419998</td>\n      <td>115.660004</td>\n      <td>115.980003</td>\n      <td>115.607498</td>\n      <td>120639300</td>\n    </tr>\n    <tr>\n      <th>...</th>\n      <td>...</td>\n      <td>...</td>\n      <td>...</td>\n      <td>...</td>\n      <td>...</td>\n      <td>...</td>\n    </tr>\n    <tr>\n      <th>2021-03-02</th>\n      <td>128.410004</td>\n      <td>128.720001</td>\n      <td>125.010002</td>\n      <td>125.120003</td>\n      <td>125.120003</td>\n      <td>102015300</td>\n    </tr>\n    <tr>\n      <th>2021-03-03</th>\n      <td>124.809998</td>\n      <td>125.709999</td>\n      <td>121.839996</td>\n      <td>122.059998</td>\n      <td>122.059998</td>\n      <td>112430400</td>\n    </tr>\n    <tr>\n      <th>2021-03-04</th>\n      <td>121.750000</td>\n      <td>123.599998</td>\n      <td>118.620003</td>\n      <td>120.129997</td>\n      <td>120.129997</td>\n      <td>177275300</td>\n    </tr>\n    <tr>\n      <th>2021-03-05</th>\n      <td>120.980003</td>\n      <td>121.940002</td>\n      <td>117.570000</td>\n      <td>121.419998</td>\n      <td>121.419998</td>\n      <td>153590400</td>\n    </tr>\n    <tr>\n      <th>2021-03-08</th>\n      <td>120.930000</td>\n      <td>121.000000</td>\n      <td>116.209999</td>\n      <td>116.360001</td>\n      <td>116.360001</td>\n      <td>153918600</td>\n    </tr>\n  </tbody>\n</table>\n<p>100 rows × 6 columns</p>\n</div>"
     },
     "metadata": {},
     "execution_count": 7
    }
   ],
   "source": [
    "yf.download(tickers = ['AAPL'],\n",
    "                  period='100d')"
   ]
  },
  {
   "cell_type": "markdown",
   "id": "filled-worry",
   "metadata": {},
   "source": [
    "#### Weird, data from two different methods in yfinance are returning slightly different open and close values. The adjusted close value matches the close value. "
   ]
  },
  {
   "cell_type": "markdown",
   "id": "related-korean",
   "metadata": {},
   "source": [
    "### Define functions for technical markers"
   ]
  },
  {
   "cell_type": "code",
   "execution_count": 8,
   "id": "quantitative-recruitment",
   "metadata": {},
   "outputs": [],
   "source": [
    "# note trail_size includes the current record. \n",
    "def compute_highest_high(series, trail_size=20):\n",
    "    \"\"\"A function to take in a dataframe for one stock time series, \n",
    "    and return a pandas series for the hioghest high. \"\"\"\n",
    "    return series['High'].rolling(window=trail_size, min_periods=1).max()"
   ]
  },
  {
   "cell_type": "code",
   "execution_count": 9,
   "id": "south-outside",
   "metadata": {},
   "outputs": [],
   "source": [
    "def compute_lowest_low(series, trail_size=20):\n",
    "    \"\"\"A function to take in a dataframe for one stock time series, \n",
    "    and return a pandas series for the lowest low. \"\"\"\n",
    "    return series['Low'].rolling(window=trail_size, min_periods=1).min()"
   ]
  },
  {
   "cell_type": "code",
   "execution_count": 10,
   "id": "rapid-position",
   "metadata": {},
   "outputs": [],
   "source": [
    "def compute_avg_vol(series, trail_size=20):\n",
    "    \"\"\"A function to take in a dataframe for one stock time series, \n",
    "    and return a pandas series for the average volume. \"\"\"\n",
    "    return series['Volume'].rolling(window=trail_size, min_periods=1).mean()"
   ]
  },
  {
   "cell_type": "code",
   "execution_count": 11,
   "id": "surprised-cooperation",
   "metadata": {},
   "outputs": [],
   "source": [
    "def compute_sma(series, trail_size=20):\n",
    "    \"\"\"A function to take in a dataframe for one stock time series, \n",
    "    and return a pandas series for the simple moving average. \"\"\"\n",
    "    return series['Close'].rolling(window=trail_size, min_periods=1).mean()"
   ]
  },
  {
   "cell_type": "code",
   "execution_count": 12,
   "id": "meaningful-mercy",
   "metadata": {},
   "outputs": [],
   "source": [
    "def compute_sd(series, trail_size=20):\n",
    "    \"\"\"A function to take in a dataframe for one stock time series, \n",
    "    and return a pandas series for the standard deviation. \"\"\"\n",
    "    return series['Close'].rolling(window=trail_size, min_periods=1).std()"
   ]
  },
  {
   "cell_type": "code",
   "execution_count": 13,
   "id": "frequent-circuit",
   "metadata": {},
   "outputs": [],
   "source": [
    "def compute_willr(series):\n",
    "    \"\"\"A function to take in a dataframe for one stock time series, \n",
    "    and return a pandas series Williams %R marker. \"\"\"\n",
    "    return -100*((series['High']-series['Close'])/(series['High']-series['Low']))"
   ]
  },
  {
   "cell_type": "code",
   "execution_count": 14,
   "id": "perceived-marble",
   "metadata": {},
   "outputs": [
    {
     "output_type": "execute_result",
     "data": {
      "text/plain": [
       "0     10\n",
       "1     20\n",
       "2     30\n",
       "3     40\n",
       "4     50\n",
       "5     60\n",
       "6     70\n",
       "7     80\n",
       "8     90\n",
       "9    100\n",
       "dtype: int64"
      ]
     },
     "metadata": {},
     "execution_count": 14
    }
   ],
   "source": [
    "s = pd.Series([1,2,3,4,5,6,7,8,9,10])\n",
    "s\n",
    "b = pd.Series([1,2,3,4,5,6,7,8,9,10])*10\n",
    "b"
   ]
  },
  {
   "cell_type": "code",
   "execution_count": 15,
   "id": "eight-florence",
   "metadata": {},
   "outputs": [
    {
     "output_type": "execute_result",
     "data": {
      "text/plain": [
       "0    1.0\n",
       "1    1.0\n",
       "2    2.0\n",
       "3    3.0\n",
       "4    4.0\n",
       "5    5.0\n",
       "6    6.0\n",
       "7    7.0\n",
       "8    8.0\n",
       "9    9.0\n",
       "dtype: float64"
      ]
     },
     "metadata": {},
     "execution_count": 15
    }
   ],
   "source": [
    "s.shift(1).fillna(method='bfill')"
   ]
  },
  {
   "cell_type": "code",
   "execution_count": 16,
   "id": "cellular-bloom",
   "metadata": {},
   "outputs": [],
   "source": [
    "a = pd.Series(range(10))\n",
    "b = pd.Series(range(10, 0, -1))"
   ]
  },
  {
   "cell_type": "code",
   "execution_count": 17,
   "id": "tight-butter",
   "metadata": {},
   "outputs": [
    {
     "output_type": "execute_result",
     "data": {
      "text/plain": [
       "0    10\n",
       "1     8\n",
       "2     6\n",
       "3     4\n",
       "4     2\n",
       "5     0\n",
       "6     2\n",
       "7     4\n",
       "8     6\n",
       "9     8\n",
       "dtype: int64"
      ]
     },
     "metadata": {},
     "execution_count": 17
    }
   ],
   "source": [
    "abs(a-b)"
   ]
  },
  {
   "cell_type": "code",
   "execution_count": 18,
   "id": "packed-tablet",
   "metadata": {},
   "outputs": [],
   "source": [
    "def compute_atr(series, trail_size=20):\n",
    "    \"\"\"A function to take in a dataframe for one stock time series, \n",
    "    and return a pandas series Average True Range. \"\"\"\n",
    "    \n",
    "    # get a series of the previous day's closes\n",
    "    prev_closes = series['Close'].shift(1).fillna(method='bfill')\n",
    "    \n",
    "    # make a df of the 3 differences we want to max\n",
    "    triple_diffs = pd.DataFrame()\n",
    "    triple_diffs['highlow'] = series['High'] - series['Low']\n",
    "    triple_diffs['highclose'] = abs(series['High'] - prev_closes)\n",
    "    triple_diffs['closelow'] = abs(prev_closes - series['Low'])\n",
    "    \n",
    "    true_ranges = triple_diffs.max(axis=1)\n",
    "    \n",
    "    return true_ranges.rolling(window=trail_size, min_periods=1).mean()"
   ]
  },
  {
   "cell_type": "code",
   "execution_count": 19,
   "id": "northern-stuart",
   "metadata": {},
   "outputs": [],
   "source": [
    "def compute_dmh(series):\n",
    "    \"\"\"A function to take in a dataframe for one stock time series, \n",
    "    and return a pandas series Directional Movement High. \"\"\"\n",
    "    return series['High'].diff(1).fillna(0)"
   ]
  },
  {
   "cell_type": "code",
   "execution_count": 20,
   "id": "cordless-convenience",
   "metadata": {},
   "outputs": [],
   "source": [
    "def compute_dml(series):\n",
    "    \"\"\"A function to take in a dataframe for one stock time series, \n",
    "    and return a pandas series Directional Movement Low. \"\"\"\n",
    "    return series['Low'].diff(1).fillna(0)"
   ]
  },
  {
   "cell_type": "code",
   "execution_count": 45,
   "metadata": {},
   "outputs": [],
   "source": [
    "def compute_adx(series,trailSize = 20):\n",
    "    \"\"\"A function to take in a dataframe for one stock time series,\n",
    "    and return a panda series Average Directional Index.\"\"\"\n",
    "    return (compute_adx(series.diff(1).fillna(0), trailSize) * (trailSize - 1) + compute_dx(series, trailSize))/trailSize"
   ]
  },
  {
   "cell_type": "code",
   "execution_count": 44,
   "metadata": {},
   "outputs": [],
   "source": [
    "def compute_roc(series,trailSize = 20):\n",
    "    \"\"\"A function to take in a dataframe for one stock time series,\n",
    "    and return a panda series Rate of Change.\"\"\"\n",
    "    return (series['Close']/(series['Close'].diff(trailSize).fillna(a)-1))*100"
   ]
  },
  {
   "cell_type": "code",
   "execution_count": null,
   "metadata": {},
   "outputs": [],
   "source": [
    "def compute_macd(series,trailSize = 20):\n",
    "    \"\"\"A function to take in a dataframe for one stock time series,\n",
    "    and return a panda series Moving Average Convergance Divergence.\"\"\"\n",
    "    return compute_ema[trailSize] - compute_ema[2*trailSize]"
   ]
  },
  {
   "cell_type": "code",
   "execution_count": 47,
   "metadata": {},
   "outputs": [],
   "source": [
    "def compute_cci(series,trailSize = 20):\n",
    "    \"\"\"A function to take in a dataframe for one stock time series,\n",
    "    and return a panda series Commonodity Channel Index.\"\"\"\n",
    "    return (((compute_high(series,trailSize)+compute_low(series,trailSize)+compute_sma(series,trailSize))/3)-compute_sma(series,trailSize))/0.015*compute_sd(series,trailSize)"
   ]
  },
  {
   "cell_type": "markdown",
   "id": "amazing-meter",
   "metadata": {},
   "source": [
    "#### A function to add markers to a given series"
   ]
  },
  {
   "cell_type": "code",
   "execution_count": 22,
   "id": "fallen-julian",
   "metadata": {},
   "outputs": [],
   "source": [
    "def add_technical_markers(series, trail_size=20):\n",
    "    series['HH'] = compute_highest_high(series, trail_size)\n",
    "    series['LL'] = compute_lowest_low(series, trail_size)\n",
    "    series['AV'] = compute_avg_vol(series, trail_size)\n",
    "    series['SMA'] = compute_sma(series, trail_size)\n",
    "    series['SD'] = compute_sd(series, trail_size)\n",
    "    series['WILLR'] = compute_willr(series)\n",
    "    series['ATR'] = compute_atr(series, trail_size)\n",
    "    series['DMH'] = compute_dmh(series)\n",
    "    series['DML'] = compute_dml(series)\n",
    "    return series"
   ]
  },
  {
   "cell_type": "code",
   "execution_count": 23,
   "id": "antique-scheduling",
   "metadata": {},
   "outputs": [
    {
     "output_type": "execute_result",
     "data": {
      "text/plain": [
       "                  Open        High         Low       Close     Volume  \\\n",
       "Date                                                                    \n",
       "2020-10-13  124.867649  124.987266  119.265705  120.711044  262330500   \n",
       "2020-10-14  120.611374  122.634853  119.235809  120.800766  151062300   \n",
       "2020-10-15  118.338697  120.810728  117.770528  120.322304  112559200   \n",
       "2020-10-16  120.890469  121.159606  118.428401  118.637726  115393800   \n",
       "2020-10-19  119.574711  120.033233  115.288526  115.607498  120639300   \n",
       "...                ...         ...         ...         ...        ...   \n",
       "2021-03-02  128.410004  128.720001  125.010002  125.120003  102015300   \n",
       "2021-03-03  124.809998  125.709999  121.839996  122.059998  112430400   \n",
       "2021-03-04  121.750000  123.599998  118.620003  120.129997  177275300   \n",
       "2021-03-05  120.980003  121.940002  117.570000  121.419998  153590400   \n",
       "2021-03-08  120.930000  121.000000  116.209999  116.360001  153918600   \n",
       "\n",
       "            Dividends  Stock Splits          HH          LL            AV  \\\n",
       "Date                                                                        \n",
       "2020-10-13        0.0             0  124.987266  119.265705  2.623305e+08   \n",
       "2020-10-14        0.0             0  124.987266  119.235809  2.066964e+08   \n",
       "2020-10-15        0.0             0  124.987266  117.770528  1.753173e+08   \n",
       "2020-10-16        0.0             0  122.634853  117.770528  1.263384e+08   \n",
       "2020-10-19        0.0             0  121.159606  115.288526  1.161974e+08   \n",
       "...               ...           ...         ...         ...           ...   \n",
       "2021-03-02        0.0             0  128.720001  121.199997  1.274445e+08   \n",
       "2021-03-03        0.0             0  128.720001  121.839996  1.101480e+08   \n",
       "2021-03-04        0.0             0  128.720001  118.620003  1.305737e+08   \n",
       "2021-03-05        0.0             0  125.709999  117.570000  1.477654e+08   \n",
       "2021-03-08        0.0             0  123.599998  116.209999  1.615948e+08   \n",
       "\n",
       "                   SMA        SD      WILLR       ATR       DMH       DML  \n",
       "Date                                                                       \n",
       "2020-10-13  120.711044       NaN -74.738720  5.721562  0.000000  0.000000  \n",
       "2020-10-14  120.755905  0.063443 -53.958900  4.560303 -2.352414 -0.029896  \n",
       "2020-10-15  120.611371  0.254328 -16.065528  4.053602 -1.824125 -1.465280  \n",
       "2020-10-16  119.920265  1.136183 -92.335815  3.056816  0.348878  0.657873  \n",
       "2020-10-19  118.189176  2.389194 -93.277310  3.505370 -1.126374 -3.139875  \n",
       "...                ...       ...        ...       ...       ...       ...  \n",
       "2021-03-02  124.723335  3.283021 -97.035023  4.746666  0.790001  2.220001  \n",
       "2021-03-03  124.990000  2.867213 -94.315218  4.750000 -3.010002 -3.170006  \n",
       "2021-03-04  122.436666  2.516237 -69.678799  4.186666 -2.110001 -3.219994  \n",
       "2021-03-05  121.203331  0.983074 -11.899404  4.406667 -1.659996 -1.050003  \n",
       "2021-03-08  119.303332  2.629339 -96.868445  4.853333 -0.940002 -1.360001  \n",
       "\n",
       "[100 rows x 16 columns]"
      ],
      "text/html": "<div>\n<style scoped>\n    .dataframe tbody tr th:only-of-type {\n        vertical-align: middle;\n    }\n\n    .dataframe tbody tr th {\n        vertical-align: top;\n    }\n\n    .dataframe thead th {\n        text-align: right;\n    }\n</style>\n<table border=\"1\" class=\"dataframe\">\n  <thead>\n    <tr style=\"text-align: right;\">\n      <th></th>\n      <th>Open</th>\n      <th>High</th>\n      <th>Low</th>\n      <th>Close</th>\n      <th>Volume</th>\n      <th>Dividends</th>\n      <th>Stock Splits</th>\n      <th>HH</th>\n      <th>LL</th>\n      <th>AV</th>\n      <th>SMA</th>\n      <th>SD</th>\n      <th>WILLR</th>\n      <th>ATR</th>\n      <th>DMH</th>\n      <th>DML</th>\n    </tr>\n    <tr>\n      <th>Date</th>\n      <th></th>\n      <th></th>\n      <th></th>\n      <th></th>\n      <th></th>\n      <th></th>\n      <th></th>\n      <th></th>\n      <th></th>\n      <th></th>\n      <th></th>\n      <th></th>\n      <th></th>\n      <th></th>\n      <th></th>\n      <th></th>\n    </tr>\n  </thead>\n  <tbody>\n    <tr>\n      <th>2020-10-13</th>\n      <td>124.867649</td>\n      <td>124.987266</td>\n      <td>119.265705</td>\n      <td>120.711044</td>\n      <td>262330500</td>\n      <td>0.0</td>\n      <td>0</td>\n      <td>124.987266</td>\n      <td>119.265705</td>\n      <td>2.623305e+08</td>\n      <td>120.711044</td>\n      <td>NaN</td>\n      <td>-74.738720</td>\n      <td>5.721562</td>\n      <td>0.000000</td>\n      <td>0.000000</td>\n    </tr>\n    <tr>\n      <th>2020-10-14</th>\n      <td>120.611374</td>\n      <td>122.634853</td>\n      <td>119.235809</td>\n      <td>120.800766</td>\n      <td>151062300</td>\n      <td>0.0</td>\n      <td>0</td>\n      <td>124.987266</td>\n      <td>119.235809</td>\n      <td>2.066964e+08</td>\n      <td>120.755905</td>\n      <td>0.063443</td>\n      <td>-53.958900</td>\n      <td>4.560303</td>\n      <td>-2.352414</td>\n      <td>-0.029896</td>\n    </tr>\n    <tr>\n      <th>2020-10-15</th>\n      <td>118.338697</td>\n      <td>120.810728</td>\n      <td>117.770528</td>\n      <td>120.322304</td>\n      <td>112559200</td>\n      <td>0.0</td>\n      <td>0</td>\n      <td>124.987266</td>\n      <td>117.770528</td>\n      <td>1.753173e+08</td>\n      <td>120.611371</td>\n      <td>0.254328</td>\n      <td>-16.065528</td>\n      <td>4.053602</td>\n      <td>-1.824125</td>\n      <td>-1.465280</td>\n    </tr>\n    <tr>\n      <th>2020-10-16</th>\n      <td>120.890469</td>\n      <td>121.159606</td>\n      <td>118.428401</td>\n      <td>118.637726</td>\n      <td>115393800</td>\n      <td>0.0</td>\n      <td>0</td>\n      <td>122.634853</td>\n      <td>117.770528</td>\n      <td>1.263384e+08</td>\n      <td>119.920265</td>\n      <td>1.136183</td>\n      <td>-92.335815</td>\n      <td>3.056816</td>\n      <td>0.348878</td>\n      <td>0.657873</td>\n    </tr>\n    <tr>\n      <th>2020-10-19</th>\n      <td>119.574711</td>\n      <td>120.033233</td>\n      <td>115.288526</td>\n      <td>115.607498</td>\n      <td>120639300</td>\n      <td>0.0</td>\n      <td>0</td>\n      <td>121.159606</td>\n      <td>115.288526</td>\n      <td>1.161974e+08</td>\n      <td>118.189176</td>\n      <td>2.389194</td>\n      <td>-93.277310</td>\n      <td>3.505370</td>\n      <td>-1.126374</td>\n      <td>-3.139875</td>\n    </tr>\n    <tr>\n      <th>...</th>\n      <td>...</td>\n      <td>...</td>\n      <td>...</td>\n      <td>...</td>\n      <td>...</td>\n      <td>...</td>\n      <td>...</td>\n      <td>...</td>\n      <td>...</td>\n      <td>...</td>\n      <td>...</td>\n      <td>...</td>\n      <td>...</td>\n      <td>...</td>\n      <td>...</td>\n      <td>...</td>\n    </tr>\n    <tr>\n      <th>2021-03-02</th>\n      <td>128.410004</td>\n      <td>128.720001</td>\n      <td>125.010002</td>\n      <td>125.120003</td>\n      <td>102015300</td>\n      <td>0.0</td>\n      <td>0</td>\n      <td>128.720001</td>\n      <td>121.199997</td>\n      <td>1.274445e+08</td>\n      <td>124.723335</td>\n      <td>3.283021</td>\n      <td>-97.035023</td>\n      <td>4.746666</td>\n      <td>0.790001</td>\n      <td>2.220001</td>\n    </tr>\n    <tr>\n      <th>2021-03-03</th>\n      <td>124.809998</td>\n      <td>125.709999</td>\n      <td>121.839996</td>\n      <td>122.059998</td>\n      <td>112430400</td>\n      <td>0.0</td>\n      <td>0</td>\n      <td>128.720001</td>\n      <td>121.839996</td>\n      <td>1.101480e+08</td>\n      <td>124.990000</td>\n      <td>2.867213</td>\n      <td>-94.315218</td>\n      <td>4.750000</td>\n      <td>-3.010002</td>\n      <td>-3.170006</td>\n    </tr>\n    <tr>\n      <th>2021-03-04</th>\n      <td>121.750000</td>\n      <td>123.599998</td>\n      <td>118.620003</td>\n      <td>120.129997</td>\n      <td>177275300</td>\n      <td>0.0</td>\n      <td>0</td>\n      <td>128.720001</td>\n      <td>118.620003</td>\n      <td>1.305737e+08</td>\n      <td>122.436666</td>\n      <td>2.516237</td>\n      <td>-69.678799</td>\n      <td>4.186666</td>\n      <td>-2.110001</td>\n      <td>-3.219994</td>\n    </tr>\n    <tr>\n      <th>2021-03-05</th>\n      <td>120.980003</td>\n      <td>121.940002</td>\n      <td>117.570000</td>\n      <td>121.419998</td>\n      <td>153590400</td>\n      <td>0.0</td>\n      <td>0</td>\n      <td>125.709999</td>\n      <td>117.570000</td>\n      <td>1.477654e+08</td>\n      <td>121.203331</td>\n      <td>0.983074</td>\n      <td>-11.899404</td>\n      <td>4.406667</td>\n      <td>-1.659996</td>\n      <td>-1.050003</td>\n    </tr>\n    <tr>\n      <th>2021-03-08</th>\n      <td>120.930000</td>\n      <td>121.000000</td>\n      <td>116.209999</td>\n      <td>116.360001</td>\n      <td>153918600</td>\n      <td>0.0</td>\n      <td>0</td>\n      <td>123.599998</td>\n      <td>116.209999</td>\n      <td>1.615948e+08</td>\n      <td>119.303332</td>\n      <td>2.629339</td>\n      <td>-96.868445</td>\n      <td>4.853333</td>\n      <td>-0.940002</td>\n      <td>-1.360001</td>\n    </tr>\n  </tbody>\n</table>\n<p>100 rows × 16 columns</p>\n</div>"
     },
     "metadata": {},
     "execution_count": 23
    }
   ],
   "source": [
    "add_technical_markers(series, trail_size=3)"
   ]
  },
  {
   "cell_type": "code",
   "execution_count": 24,
   "id": "desperate-margin",
   "metadata": {},
   "outputs": [
    {
     "output_type": "execute_result",
     "data": {
      "text/plain": [
       "                  Open        High         Low       Close     Volume  \\\n",
       "Date                                                                    \n",
       "2020-10-13  124.867649  124.987266  119.265705  120.711044  262330500   \n",
       "2020-10-14  120.611374  122.634853  119.235809  120.800766  151062300   \n",
       "2020-10-15  118.338697  120.810728  117.770528  120.322304  112559200   \n",
       "2020-10-16  120.890469  121.159606  118.428401  118.637726  115393800   \n",
       "2020-10-19  119.574711  120.033233  115.288526  115.607498  120639300   \n",
       "2020-10-20  115.826793  118.597871  115.258624  117.132591  124423700   \n",
       "2020-10-21  116.295282  118.328731  116.075987  116.494644   89946000   \n",
       "2020-10-22  117.072772  117.660881  114.221957  115.378235  101988000   \n",
       "2020-10-23  116.016180  116.175669  113.912956  114.670517   82572600   \n",
       "2020-10-26  113.643828  116.175671  112.517452  114.680489  111850700   \n",
       "2020-10-27  115.119074  116.903326  114.172128  116.225510   92276800   \n",
       "2020-10-28  114.680491  115.059267  110.743172  110.842850  143937800   \n",
       "2020-10-29  112.009093  116.554445  111.839634  114.949615  146129200   \n",
       "2020-10-30  110.703292  111.630305  107.374023  108.510361  190272600   \n",
       "2020-11-02  108.759566  110.324523  106.975314  108.420654  122866900   \n",
       "2020-11-03  109.307795  111.131912  108.380782  110.085289  107624400   \n",
       "2020-11-04  113.773407  115.218747  111.989155  114.580803  138235500   \n",
       "2020-11-05  117.571164  119.235806  116.494639  118.647697  126387100   \n",
       "2020-11-06  118.143458  119.022142  115.956723  118.512909  114457900   \n",
       "2020-11-09  120.320202  121.807977  115.876845  116.146439  154515300   \n",
       "2020-11-10  115.377595  117.414545  113.959708  115.796967  138023400   \n",
       "2020-11-11  117.015143  119.451497  116.266262  119.311707  112295000   \n",
       "2020-11-12  119.441519  120.350158  118.393083  119.032127  103162300   \n",
       "2020-11-13  119.261786  119.491438  117.694129  119.082054   81581900   \n",
       "2020-11-16  118.742560  120.809472  117.973713  120.120506   91183000   \n",
       "2020-11-17  119.371626  120.489950  118.782502  119.211861   74271000   \n",
       "2020-11-18  118.433026  119.641220  117.823935  117.853889   76322100   \n",
       "2020-11-19  117.414546  118.882354  116.635711  118.462982   74113000   \n",
       "2020-11-20  118.462980  118.592784  117.114996  117.164917   73604300   \n",
       "2020-11-23  117.005155  117.444501  113.580273  113.680122  127959300   \n",
       "2020-11-24  113.740039  115.677139  112.422001  114.998154  113874200   \n",
       "2020-11-25  115.377593  116.575799  114.998155  115.856873   76499200   \n",
       "2020-11-27  116.396064  117.314690  116.046588  116.416031   46691300   \n",
       "2020-11-30  116.795470  120.789501  116.635705  118.872368  169410200   \n",
       "2020-12-01  120.829448  123.285777  119.830940  122.536896  128166800   \n",
       "2020-12-02  121.837931  123.185923  120.709620  122.896355   89004200   \n",
       "2020-12-03  123.335698  123.595312  122.027655  122.756569   78967600   \n",
       "2020-12-04  122.417073  122.676687  121.338682  122.067596   78260400   \n",
       "2020-12-07  122.127500  124.384130  122.067592  123.565353   86712000   \n",
       "2020-12-08  124.184433  124.793523  122.906336  124.194412   82225500   \n",
       "2020-12-09  124.344186  125.762066  120.819455  121.598289  115089200   \n",
       "2020-12-10  120.320205  123.685179  119.970728  123.056114   81312200   \n",
       "2020-12-11  122.247323  122.576832  120.370131  122.227356   86939800   \n",
       "2020-12-14  122.417066  123.165947  121.358650  121.598289   79184500   \n",
       "2020-12-15  124.154467  127.709161  123.944782  127.689186  157572300   \n",
       "2020-12-16  127.219896  128.178455  126.371158  127.619293   98208600   \n",
       "2020-12-17  128.707664  129.386657  127.848946  128.507965   94359800   \n",
       "2020-12-18  128.767587  128.907378  125.931821  126.471016  192541500   \n",
       "2020-12-21  124.833456  128.118548  123.265799  128.038666  121251600   \n",
       "2020-12-22  131.413626  134.209451  129.456544  131.683228  168904800   \n",
       "2020-12-23  131.962809  132.232395  130.584863  130.764603   88223700   \n",
       "2020-12-24  131.124063  133.260869  130.904390  131.773087   54930100   \n",
       "2020-12-28  133.790085  137.135078  133.310790  136.486053  124486200   \n",
       "2020-12-29  137.844025  138.582912  134.139554  134.668762  121047300   \n",
       "2020-12-30  135.377703  135.787094  133.200947  133.520477   96452100   \n",
       "2020-12-31  133.879945  134.538964  131.523466  132.492020   99116600   \n",
       "2021-01-04  133.320787  133.410649  126.570871  129.216919  143301900   \n",
       "2021-01-05  128.697682  131.543436  128.238362  130.814514   97664900   \n",
       "2021-01-06  127.529434  130.854467  126.191429  126.411102  155088000   \n",
       "2021-01-07  128.168477  131.433602  127.669223  130.724655  109578200   \n",
       "\n",
       "            Dividends  Stock Splits          HH          LL            AV  \\\n",
       "Date                                                                        \n",
       "2020-10-13      0.000             0  124.987266  119.265705  2.623305e+08   \n",
       "2020-10-14      0.000             0  124.987266  119.235809  2.066964e+08   \n",
       "2020-10-15      0.000             0  124.987266  117.770528  1.753173e+08   \n",
       "2020-10-16      0.000             0  122.634853  117.770528  1.263384e+08   \n",
       "2020-10-19      0.000             0  121.159606  115.288526  1.161974e+08   \n",
       "2020-10-20      0.000             0  121.159606  115.258624  1.201523e+08   \n",
       "2020-10-21      0.000             0  120.033233  115.258624  1.116697e+08   \n",
       "2020-10-22      0.000             0  118.597871  114.221957  1.054526e+08   \n",
       "2020-10-23      0.000             0  118.328731  113.912956  9.150220e+07   \n",
       "2020-10-26      0.000             0  117.660881  112.517452  9.880377e+07   \n",
       "2020-10-27      0.000             0  116.903326  112.517452  9.556670e+07   \n",
       "2020-10-28      0.000             0  116.903326  110.743172  1.160218e+08   \n",
       "2020-10-29      0.000             0  116.903326  110.743172  1.274479e+08   \n",
       "2020-10-30      0.000             0  116.554445  107.374023  1.601132e+08   \n",
       "2020-11-02      0.000             0  116.554445  106.975314  1.530896e+08   \n",
       "2020-11-03      0.000             0  111.630305  106.975314  1.402546e+08   \n",
       "2020-11-04      0.000             0  115.218747  106.975314  1.229089e+08   \n",
       "2020-11-05      0.000             0  119.235806  108.380782  1.240823e+08   \n",
       "2020-11-06      0.205             0  119.235806  111.989155  1.263602e+08   \n",
       "2020-11-09      0.000             0  121.807977  115.876845  1.317868e+08   \n",
       "2020-11-10      0.000             0  121.807977  113.959708  1.356655e+08   \n",
       "2020-11-11      0.000             0  121.807977  113.959708  1.349446e+08   \n",
       "2020-11-12      0.000             0  120.350158  113.959708  1.178269e+08   \n",
       "2020-11-13      0.000             0  120.350158  116.266262  9.901307e+07   \n",
       "2020-11-16      0.000             0  120.809472  117.694129  9.197573e+07   \n",
       "2020-11-17      0.000             0  120.809472  117.694129  8.234530e+07   \n",
       "2020-11-18      0.000             0  120.809472  117.823935  8.059203e+07   \n",
       "2020-11-19      0.000             0  120.489950  116.635711  7.490203e+07   \n",
       "2020-11-20      0.000             0  119.641220  116.635711  7.467980e+07   \n",
       "2020-11-23      0.000             0  118.882354  113.580273  9.189220e+07   \n",
       "2020-11-24      0.000             0  118.592784  112.422001  1.051459e+08   \n",
       "2020-11-25      0.000             0  117.444501  112.422001  1.061109e+08   \n",
       "2020-11-27      0.000             0  117.314690  112.422001  7.902157e+07   \n",
       "2020-11-30      0.000             0  120.789501  114.998155  9.753357e+07   \n",
       "2020-12-01      0.000             0  123.285777  116.046588  1.147561e+08   \n",
       "2020-12-02      0.000             0  123.285777  116.635705  1.288604e+08   \n",
       "2020-12-03      0.000             0  123.595312  119.830940  9.871287e+07   \n",
       "2020-12-04      0.000             0  123.595312  120.709620  8.207740e+07   \n",
       "2020-12-07      0.000             0  124.384130  121.338682  8.131333e+07   \n",
       "2020-12-08      0.000             0  124.793523  121.338682  8.239930e+07   \n",
       "2020-12-09      0.000             0  125.762066  120.819455  9.467557e+07   \n",
       "2020-12-10      0.000             0  125.762066  119.970728  9.287563e+07   \n",
       "2020-12-11      0.000             0  125.762066  119.970728  9.444707e+07   \n",
       "2020-12-14      0.000             0  123.685179  119.970728  8.247883e+07   \n",
       "2020-12-15      0.000             0  127.709161  120.370131  1.078989e+08   \n",
       "2020-12-16      0.000             0  128.178455  121.358650  1.116551e+08   \n",
       "2020-12-17      0.000             0  129.386657  123.944782  1.167136e+08   \n",
       "2020-12-18      0.000             0  129.386657  125.931821  1.283700e+08   \n",
       "2020-12-21      0.000             0  129.386657  123.265799  1.360510e+08   \n",
       "2020-12-22      0.000             0  134.209451  123.265799  1.608993e+08   \n",
       "2020-12-23      0.000             0  134.209451  123.265799  1.261267e+08   \n",
       "2020-12-24      0.000             0  134.209451  129.456544  1.040195e+08   \n",
       "2020-12-28      0.000             0  137.135078  130.584863  8.921333e+07   \n",
       "2020-12-29      0.000             0  138.582912  130.904390  1.001545e+08   \n",
       "2020-12-30      0.000             0  138.582912  133.200947  1.139952e+08   \n",
       "2020-12-31      0.000             0  138.582912  131.523466  1.055387e+08   \n",
       "2021-01-04      0.000             0  135.787094  126.570871  1.129569e+08   \n",
       "2021-01-05      0.000             0  134.538964  126.570871  1.133611e+08   \n",
       "2021-01-06      0.000             0  133.410649  126.191429  1.320183e+08   \n",
       "2021-01-07      0.000             0  131.543436  126.191429  1.207770e+08   \n",
       "\n",
       "                   SMA        SD      WILLR       ATR       DMH       DML  \n",
       "Date                                                                       \n",
       "2020-10-13  120.711044       NaN -74.738720  5.721562  0.000000  0.000000  \n",
       "2020-10-14  120.755905  0.063443 -53.958900  4.560303 -2.352414 -0.029896  \n",
       "2020-10-15  120.611371  0.254328 -16.065528  4.053602 -1.824125 -1.465280  \n",
       "2020-10-16  119.920265  1.136183 -92.335815  3.056816  0.348878  0.657873  \n",
       "2020-10-19  118.189176  2.389194 -93.277310  3.505370 -1.126374 -3.139875  \n",
       "2020-10-20  117.125938  1.515125 -43.880554  3.605053 -1.435361 -0.029902  \n",
       "2020-10-21  116.411578  0.765932 -81.415690  3.445566 -0.269140  0.817363  \n",
       "2020-10-22  116.335157  0.887986 -66.376750  3.010305 -0.667850 -1.854030  \n",
       "2020-10-23  115.514465  0.919662 -66.519793  2.651460 -1.485211 -0.309001  \n",
       "2020-10-26  114.909747  0.405753 -40.871870  3.119952  0.000002 -1.395503  \n",
       "2020-10-27  115.192172  0.894911 -24.817549  2.884043  0.727655  1.654676  \n",
       "2020-10-28  113.916283  2.771510 -97.690567  3.957251 -1.844059 -3.428956  \n",
       "2020-10-29  114.005992  2.812664 -34.038044  4.641710  1.495178  1.096461  \n",
       "2020-10-30  111.434275  3.260113 -73.302101  6.256508 -4.924140 -4.465611  \n",
       "2020-11-02  110.626877  3.743870 -56.845337  5.545466 -1.305781 -0.398708  \n",
       "2020-11-03  109.005435  0.936256 -38.043388  4.558644  0.807389  1.405468  \n",
       "2020-11-04  111.028915  3.186641 -19.753081  3.744599  4.086835  3.608373  \n",
       "2020-11-05  114.437930  4.282992 -21.454690  4.179864  4.017060  4.505484  \n",
       "2020-11-06  117.247136  2.310096 -16.612201  4.284627 -0.213664 -0.537915  \n",
       "2020-11-09  117.769015  1.406808 -95.454598  4.550518  2.785834 -0.079879  \n",
       "2020-11-10  116.818771  1.477535 -46.820681  4.150462 -4.393432 -1.917137  \n",
       "2020-11-11  117.085037  1.936253  -4.388703  4.346833  2.036953  2.306554  \n",
       "2020-11-12  118.046933  1.953536 -67.346955  3.022147  0.898660  2.126821  \n",
       "2020-11-13  119.141963  0.149107 -22.777615  2.469638 -0.858719 -0.698954  \n",
       "2020-11-16  119.411563  0.614471 -24.295623  2.196714  1.318033  0.279584  \n",
       "2020-11-17  119.471474  0.565813 -74.853770  2.113505 -0.319522  0.808789  \n",
       "2020-11-18  119.062085  1.140707 -98.351715  2.120164 -0.848730 -0.958566  \n",
       "2020-11-19  118.509577  0.680184 -18.666585  1.923792 -0.758866 -1.188225  \n",
       "2020-11-20  117.827263  0.649442 -96.621921  1.847238 -0.289570  0.479285  \n",
       "2020-11-23  116.436007  2.473342 -97.416062  2.529553 -1.148282 -3.534723  \n",
       "2020-11-24  115.281064  1.759539 -20.858891  2.865718 -1.767362 -1.158272  \n",
       "2020-11-25  114.845050  1.096422 -45.569645  2.899004  0.898660  2.576154  \n",
       "2020-11-27  115.757019  0.714193 -70.866449  2.096867  0.738890  1.048433  \n",
       "2020-11-30  117.048424  1.604133 -46.153762  2.469644  3.474812  0.589117  \n",
       "2020-12-01  119.275098  3.080242 -21.676306  3.414899  2.496276  3.195235  \n",
       "2020-12-02  121.435206  2.226748 -11.693569  3.754394 -0.099854  0.878680  \n",
       "2020-12-03  122.729940  0.181203 -53.502962  2.819123  0.409389  1.318035  \n",
       "2020-12-04  122.573507  0.443671 -45.522299  1.820616 -0.918625 -0.688972  \n",
       "2020-12-07  122.796506  0.749677 -35.344819  1.767361  1.707443  0.728909  \n",
       "2020-12-08  123.275787  1.092576 -31.746237  1.873871  0.409394  0.838745  \n",
       "2020-12-09  123.119352  1.354308 -84.242439  3.048779  0.968542 -2.086882  \n",
       "2020-12-10  122.949605  1.301334 -16.935610  3.514750 -2.076886 -0.848726  \n",
       "2020-12-11  122.293920  0.731188 -15.837042  3.781015 -1.108347  0.399402  \n",
       "2020-12-14  122.293920  0.731188 -86.740432  2.735910  0.589114  0.988519  \n",
       "2020-12-15  123.838277  3.349784  -0.530617  3.534717  4.543214  2.586132  \n",
       "2020-12-16  125.635590  3.496579 -30.939133  3.241822  0.469295  2.426377  \n",
       "2020-12-17  127.938815  0.494136 -57.142857  3.228511  1.208202  1.477788  \n",
       "2020-12-18  127.532758  1.021228 -81.879184  2.183406 -0.479279 -1.917125  \n",
       "2020-12-21  127.672549  1.066687  -1.646128  3.198557 -0.788829 -2.666022  \n",
       "2020-12-22  128.730970  2.674182 -53.151126  4.666364  6.090903  6.190745  \n",
       "2020-12-23  130.162165  1.895496 -89.090388  4.223689 -1.977056  1.128319  \n",
       "2020-12-24  131.406972  0.558120 -63.135810  3.438195  1.028474  0.319526  \n",
       "2020-12-28  133.007914  3.054071 -16.971112  3.168596  3.874209  2.406401  \n",
       "2020-12-29  134.309301  2.376957 -88.089907  4.100538  1.447834  0.828764  \n",
       "2020-12-30  134.891764  1.495312 -87.644560  4.130498 -2.795817 -0.938607  \n",
       "2020-12-31  133.560420  1.088921 -67.880800  3.348334 -1.248131 -1.677482  \n",
       "2021-01-04  131.743139  2.247392 -61.313838  4.147141 -1.128315 -4.952594  \n",
       "2021-01-05  130.841151  1.637713 -22.054627  4.386783 -1.867213  1.667491  \n",
       "2021-01-06  128.814178  2.229161 -95.289059  4.935963 -0.688969 -2.046933  \n",
       "2021-01-07  129.316757  2.516772 -18.833048  4.330204  0.579135  1.477794  "
      ],
      "text/html": "<div>\n<style scoped>\n    .dataframe tbody tr th:only-of-type {\n        vertical-align: middle;\n    }\n\n    .dataframe tbody tr th {\n        vertical-align: top;\n    }\n\n    .dataframe thead th {\n        text-align: right;\n    }\n</style>\n<table border=\"1\" class=\"dataframe\">\n  <thead>\n    <tr style=\"text-align: right;\">\n      <th></th>\n      <th>Open</th>\n      <th>High</th>\n      <th>Low</th>\n      <th>Close</th>\n      <th>Volume</th>\n      <th>Dividends</th>\n      <th>Stock Splits</th>\n      <th>HH</th>\n      <th>LL</th>\n      <th>AV</th>\n      <th>SMA</th>\n      <th>SD</th>\n      <th>WILLR</th>\n      <th>ATR</th>\n      <th>DMH</th>\n      <th>DML</th>\n    </tr>\n    <tr>\n      <th>Date</th>\n      <th></th>\n      <th></th>\n      <th></th>\n      <th></th>\n      <th></th>\n      <th></th>\n      <th></th>\n      <th></th>\n      <th></th>\n      <th></th>\n      <th></th>\n      <th></th>\n      <th></th>\n      <th></th>\n      <th></th>\n      <th></th>\n    </tr>\n  </thead>\n  <tbody>\n    <tr>\n      <th>2020-10-13</th>\n      <td>124.867649</td>\n      <td>124.987266</td>\n      <td>119.265705</td>\n      <td>120.711044</td>\n      <td>262330500</td>\n      <td>0.000</td>\n      <td>0</td>\n      <td>124.987266</td>\n      <td>119.265705</td>\n      <td>2.623305e+08</td>\n      <td>120.711044</td>\n      <td>NaN</td>\n      <td>-74.738720</td>\n      <td>5.721562</td>\n      <td>0.000000</td>\n      <td>0.000000</td>\n    </tr>\n    <tr>\n      <th>2020-10-14</th>\n      <td>120.611374</td>\n      <td>122.634853</td>\n      <td>119.235809</td>\n      <td>120.800766</td>\n      <td>151062300</td>\n      <td>0.000</td>\n      <td>0</td>\n      <td>124.987266</td>\n      <td>119.235809</td>\n      <td>2.066964e+08</td>\n      <td>120.755905</td>\n      <td>0.063443</td>\n      <td>-53.958900</td>\n      <td>4.560303</td>\n      <td>-2.352414</td>\n      <td>-0.029896</td>\n    </tr>\n    <tr>\n      <th>2020-10-15</th>\n      <td>118.338697</td>\n      <td>120.810728</td>\n      <td>117.770528</td>\n      <td>120.322304</td>\n      <td>112559200</td>\n      <td>0.000</td>\n      <td>0</td>\n      <td>124.987266</td>\n      <td>117.770528</td>\n      <td>1.753173e+08</td>\n      <td>120.611371</td>\n      <td>0.254328</td>\n      <td>-16.065528</td>\n      <td>4.053602</td>\n      <td>-1.824125</td>\n      <td>-1.465280</td>\n    </tr>\n    <tr>\n      <th>2020-10-16</th>\n      <td>120.890469</td>\n      <td>121.159606</td>\n      <td>118.428401</td>\n      <td>118.637726</td>\n      <td>115393800</td>\n      <td>0.000</td>\n      <td>0</td>\n      <td>122.634853</td>\n      <td>117.770528</td>\n      <td>1.263384e+08</td>\n      <td>119.920265</td>\n      <td>1.136183</td>\n      <td>-92.335815</td>\n      <td>3.056816</td>\n      <td>0.348878</td>\n      <td>0.657873</td>\n    </tr>\n    <tr>\n      <th>2020-10-19</th>\n      <td>119.574711</td>\n      <td>120.033233</td>\n      <td>115.288526</td>\n      <td>115.607498</td>\n      <td>120639300</td>\n      <td>0.000</td>\n      <td>0</td>\n      <td>121.159606</td>\n      <td>115.288526</td>\n      <td>1.161974e+08</td>\n      <td>118.189176</td>\n      <td>2.389194</td>\n      <td>-93.277310</td>\n      <td>3.505370</td>\n      <td>-1.126374</td>\n      <td>-3.139875</td>\n    </tr>\n    <tr>\n      <th>2020-10-20</th>\n      <td>115.826793</td>\n      <td>118.597871</td>\n      <td>115.258624</td>\n      <td>117.132591</td>\n      <td>124423700</td>\n      <td>0.000</td>\n      <td>0</td>\n      <td>121.159606</td>\n      <td>115.258624</td>\n      <td>1.201523e+08</td>\n      <td>117.125938</td>\n      <td>1.515125</td>\n      <td>-43.880554</td>\n      <td>3.605053</td>\n      <td>-1.435361</td>\n      <td>-0.029902</td>\n    </tr>\n    <tr>\n      <th>2020-10-21</th>\n      <td>116.295282</td>\n      <td>118.328731</td>\n      <td>116.075987</td>\n      <td>116.494644</td>\n      <td>89946000</td>\n      <td>0.000</td>\n      <td>0</td>\n      <td>120.033233</td>\n      <td>115.258624</td>\n      <td>1.116697e+08</td>\n      <td>116.411578</td>\n      <td>0.765932</td>\n      <td>-81.415690</td>\n      <td>3.445566</td>\n      <td>-0.269140</td>\n      <td>0.817363</td>\n    </tr>\n    <tr>\n      <th>2020-10-22</th>\n      <td>117.072772</td>\n      <td>117.660881</td>\n      <td>114.221957</td>\n      <td>115.378235</td>\n      <td>101988000</td>\n      <td>0.000</td>\n      <td>0</td>\n      <td>118.597871</td>\n      <td>114.221957</td>\n      <td>1.054526e+08</td>\n      <td>116.335157</td>\n      <td>0.887986</td>\n      <td>-66.376750</td>\n      <td>3.010305</td>\n      <td>-0.667850</td>\n      <td>-1.854030</td>\n    </tr>\n    <tr>\n      <th>2020-10-23</th>\n      <td>116.016180</td>\n      <td>116.175669</td>\n      <td>113.912956</td>\n      <td>114.670517</td>\n      <td>82572600</td>\n      <td>0.000</td>\n      <td>0</td>\n      <td>118.328731</td>\n      <td>113.912956</td>\n      <td>9.150220e+07</td>\n      <td>115.514465</td>\n      <td>0.919662</td>\n      <td>-66.519793</td>\n      <td>2.651460</td>\n      <td>-1.485211</td>\n      <td>-0.309001</td>\n    </tr>\n    <tr>\n      <th>2020-10-26</th>\n      <td>113.643828</td>\n      <td>116.175671</td>\n      <td>112.517452</td>\n      <td>114.680489</td>\n      <td>111850700</td>\n      <td>0.000</td>\n      <td>0</td>\n      <td>117.660881</td>\n      <td>112.517452</td>\n      <td>9.880377e+07</td>\n      <td>114.909747</td>\n      <td>0.405753</td>\n      <td>-40.871870</td>\n      <td>3.119952</td>\n      <td>0.000002</td>\n      <td>-1.395503</td>\n    </tr>\n    <tr>\n      <th>2020-10-27</th>\n      <td>115.119074</td>\n      <td>116.903326</td>\n      <td>114.172128</td>\n      <td>116.225510</td>\n      <td>92276800</td>\n      <td>0.000</td>\n      <td>0</td>\n      <td>116.903326</td>\n      <td>112.517452</td>\n      <td>9.556670e+07</td>\n      <td>115.192172</td>\n      <td>0.894911</td>\n      <td>-24.817549</td>\n      <td>2.884043</td>\n      <td>0.727655</td>\n      <td>1.654676</td>\n    </tr>\n    <tr>\n      <th>2020-10-28</th>\n      <td>114.680491</td>\n      <td>115.059267</td>\n      <td>110.743172</td>\n      <td>110.842850</td>\n      <td>143937800</td>\n      <td>0.000</td>\n      <td>0</td>\n      <td>116.903326</td>\n      <td>110.743172</td>\n      <td>1.160218e+08</td>\n      <td>113.916283</td>\n      <td>2.771510</td>\n      <td>-97.690567</td>\n      <td>3.957251</td>\n      <td>-1.844059</td>\n      <td>-3.428956</td>\n    </tr>\n    <tr>\n      <th>2020-10-29</th>\n      <td>112.009093</td>\n      <td>116.554445</td>\n      <td>111.839634</td>\n      <td>114.949615</td>\n      <td>146129200</td>\n      <td>0.000</td>\n      <td>0</td>\n      <td>116.903326</td>\n      <td>110.743172</td>\n      <td>1.274479e+08</td>\n      <td>114.005992</td>\n      <td>2.812664</td>\n      <td>-34.038044</td>\n      <td>4.641710</td>\n      <td>1.495178</td>\n      <td>1.096461</td>\n    </tr>\n    <tr>\n      <th>2020-10-30</th>\n      <td>110.703292</td>\n      <td>111.630305</td>\n      <td>107.374023</td>\n      <td>108.510361</td>\n      <td>190272600</td>\n      <td>0.000</td>\n      <td>0</td>\n      <td>116.554445</td>\n      <td>107.374023</td>\n      <td>1.601132e+08</td>\n      <td>111.434275</td>\n      <td>3.260113</td>\n      <td>-73.302101</td>\n      <td>6.256508</td>\n      <td>-4.924140</td>\n      <td>-4.465611</td>\n    </tr>\n    <tr>\n      <th>2020-11-02</th>\n      <td>108.759566</td>\n      <td>110.324523</td>\n      <td>106.975314</td>\n      <td>108.420654</td>\n      <td>122866900</td>\n      <td>0.000</td>\n      <td>0</td>\n      <td>116.554445</td>\n      <td>106.975314</td>\n      <td>1.530896e+08</td>\n      <td>110.626877</td>\n      <td>3.743870</td>\n      <td>-56.845337</td>\n      <td>5.545466</td>\n      <td>-1.305781</td>\n      <td>-0.398708</td>\n    </tr>\n    <tr>\n      <th>2020-11-03</th>\n      <td>109.307795</td>\n      <td>111.131912</td>\n      <td>108.380782</td>\n      <td>110.085289</td>\n      <td>107624400</td>\n      <td>0.000</td>\n      <td>0</td>\n      <td>111.630305</td>\n      <td>106.975314</td>\n      <td>1.402546e+08</td>\n      <td>109.005435</td>\n      <td>0.936256</td>\n      <td>-38.043388</td>\n      <td>4.558644</td>\n      <td>0.807389</td>\n      <td>1.405468</td>\n    </tr>\n    <tr>\n      <th>2020-11-04</th>\n      <td>113.773407</td>\n      <td>115.218747</td>\n      <td>111.989155</td>\n      <td>114.580803</td>\n      <td>138235500</td>\n      <td>0.000</td>\n      <td>0</td>\n      <td>115.218747</td>\n      <td>106.975314</td>\n      <td>1.229089e+08</td>\n      <td>111.028915</td>\n      <td>3.186641</td>\n      <td>-19.753081</td>\n      <td>3.744599</td>\n      <td>4.086835</td>\n      <td>3.608373</td>\n    </tr>\n    <tr>\n      <th>2020-11-05</th>\n      <td>117.571164</td>\n      <td>119.235806</td>\n      <td>116.494639</td>\n      <td>118.647697</td>\n      <td>126387100</td>\n      <td>0.000</td>\n      <td>0</td>\n      <td>119.235806</td>\n      <td>108.380782</td>\n      <td>1.240823e+08</td>\n      <td>114.437930</td>\n      <td>4.282992</td>\n      <td>-21.454690</td>\n      <td>4.179864</td>\n      <td>4.017060</td>\n      <td>4.505484</td>\n    </tr>\n    <tr>\n      <th>2020-11-06</th>\n      <td>118.143458</td>\n      <td>119.022142</td>\n      <td>115.956723</td>\n      <td>118.512909</td>\n      <td>114457900</td>\n      <td>0.205</td>\n      <td>0</td>\n      <td>119.235806</td>\n      <td>111.989155</td>\n      <td>1.263602e+08</td>\n      <td>117.247136</td>\n      <td>2.310096</td>\n      <td>-16.612201</td>\n      <td>4.284627</td>\n      <td>-0.213664</td>\n      <td>-0.537915</td>\n    </tr>\n    <tr>\n      <th>2020-11-09</th>\n      <td>120.320202</td>\n      <td>121.807977</td>\n      <td>115.876845</td>\n      <td>116.146439</td>\n      <td>154515300</td>\n      <td>0.000</td>\n      <td>0</td>\n      <td>121.807977</td>\n      <td>115.876845</td>\n      <td>1.317868e+08</td>\n      <td>117.769015</td>\n      <td>1.406808</td>\n      <td>-95.454598</td>\n      <td>4.550518</td>\n      <td>2.785834</td>\n      <td>-0.079879</td>\n    </tr>\n    <tr>\n      <th>2020-11-10</th>\n      <td>115.377595</td>\n      <td>117.414545</td>\n      <td>113.959708</td>\n      <td>115.796967</td>\n      <td>138023400</td>\n      <td>0.000</td>\n      <td>0</td>\n      <td>121.807977</td>\n      <td>113.959708</td>\n      <td>1.356655e+08</td>\n      <td>116.818771</td>\n      <td>1.477535</td>\n      <td>-46.820681</td>\n      <td>4.150462</td>\n      <td>-4.393432</td>\n      <td>-1.917137</td>\n    </tr>\n    <tr>\n      <th>2020-11-11</th>\n      <td>117.015143</td>\n      <td>119.451497</td>\n      <td>116.266262</td>\n      <td>119.311707</td>\n      <td>112295000</td>\n      <td>0.000</td>\n      <td>0</td>\n      <td>121.807977</td>\n      <td>113.959708</td>\n      <td>1.349446e+08</td>\n      <td>117.085037</td>\n      <td>1.936253</td>\n      <td>-4.388703</td>\n      <td>4.346833</td>\n      <td>2.036953</td>\n      <td>2.306554</td>\n    </tr>\n    <tr>\n      <th>2020-11-12</th>\n      <td>119.441519</td>\n      <td>120.350158</td>\n      <td>118.393083</td>\n      <td>119.032127</td>\n      <td>103162300</td>\n      <td>0.000</td>\n      <td>0</td>\n      <td>120.350158</td>\n      <td>113.959708</td>\n      <td>1.178269e+08</td>\n      <td>118.046933</td>\n      <td>1.953536</td>\n      <td>-67.346955</td>\n      <td>3.022147</td>\n      <td>0.898660</td>\n      <td>2.126821</td>\n    </tr>\n    <tr>\n      <th>2020-11-13</th>\n      <td>119.261786</td>\n      <td>119.491438</td>\n      <td>117.694129</td>\n      <td>119.082054</td>\n      <td>81581900</td>\n      <td>0.000</td>\n      <td>0</td>\n      <td>120.350158</td>\n      <td>116.266262</td>\n      <td>9.901307e+07</td>\n      <td>119.141963</td>\n      <td>0.149107</td>\n      <td>-22.777615</td>\n      <td>2.469638</td>\n      <td>-0.858719</td>\n      <td>-0.698954</td>\n    </tr>\n    <tr>\n      <th>2020-11-16</th>\n      <td>118.742560</td>\n      <td>120.809472</td>\n      <td>117.973713</td>\n      <td>120.120506</td>\n      <td>91183000</td>\n      <td>0.000</td>\n      <td>0</td>\n      <td>120.809472</td>\n      <td>117.694129</td>\n      <td>9.197573e+07</td>\n      <td>119.411563</td>\n      <td>0.614471</td>\n      <td>-24.295623</td>\n      <td>2.196714</td>\n      <td>1.318033</td>\n      <td>0.279584</td>\n    </tr>\n    <tr>\n      <th>2020-11-17</th>\n      <td>119.371626</td>\n      <td>120.489950</td>\n      <td>118.782502</td>\n      <td>119.211861</td>\n      <td>74271000</td>\n      <td>0.000</td>\n      <td>0</td>\n      <td>120.809472</td>\n      <td>117.694129</td>\n      <td>8.234530e+07</td>\n      <td>119.471474</td>\n      <td>0.565813</td>\n      <td>-74.853770</td>\n      <td>2.113505</td>\n      <td>-0.319522</td>\n      <td>0.808789</td>\n    </tr>\n    <tr>\n      <th>2020-11-18</th>\n      <td>118.433026</td>\n      <td>119.641220</td>\n      <td>117.823935</td>\n      <td>117.853889</td>\n      <td>76322100</td>\n      <td>0.000</td>\n      <td>0</td>\n      <td>120.809472</td>\n      <td>117.823935</td>\n      <td>8.059203e+07</td>\n      <td>119.062085</td>\n      <td>1.140707</td>\n      <td>-98.351715</td>\n      <td>2.120164</td>\n      <td>-0.848730</td>\n      <td>-0.958566</td>\n    </tr>\n    <tr>\n      <th>2020-11-19</th>\n      <td>117.414546</td>\n      <td>118.882354</td>\n      <td>116.635711</td>\n      <td>118.462982</td>\n      <td>74113000</td>\n      <td>0.000</td>\n      <td>0</td>\n      <td>120.489950</td>\n      <td>116.635711</td>\n      <td>7.490203e+07</td>\n      <td>118.509577</td>\n      <td>0.680184</td>\n      <td>-18.666585</td>\n      <td>1.923792</td>\n      <td>-0.758866</td>\n      <td>-1.188225</td>\n    </tr>\n    <tr>\n      <th>2020-11-20</th>\n      <td>118.462980</td>\n      <td>118.592784</td>\n      <td>117.114996</td>\n      <td>117.164917</td>\n      <td>73604300</td>\n      <td>0.000</td>\n      <td>0</td>\n      <td>119.641220</td>\n      <td>116.635711</td>\n      <td>7.467980e+07</td>\n      <td>117.827263</td>\n      <td>0.649442</td>\n      <td>-96.621921</td>\n      <td>1.847238</td>\n      <td>-0.289570</td>\n      <td>0.479285</td>\n    </tr>\n    <tr>\n      <th>2020-11-23</th>\n      <td>117.005155</td>\n      <td>117.444501</td>\n      <td>113.580273</td>\n      <td>113.680122</td>\n      <td>127959300</td>\n      <td>0.000</td>\n      <td>0</td>\n      <td>118.882354</td>\n      <td>113.580273</td>\n      <td>9.189220e+07</td>\n      <td>116.436007</td>\n      <td>2.473342</td>\n      <td>-97.416062</td>\n      <td>2.529553</td>\n      <td>-1.148282</td>\n      <td>-3.534723</td>\n    </tr>\n    <tr>\n      <th>2020-11-24</th>\n      <td>113.740039</td>\n      <td>115.677139</td>\n      <td>112.422001</td>\n      <td>114.998154</td>\n      <td>113874200</td>\n      <td>0.000</td>\n      <td>0</td>\n      <td>118.592784</td>\n      <td>112.422001</td>\n      <td>1.051459e+08</td>\n      <td>115.281064</td>\n      <td>1.759539</td>\n      <td>-20.858891</td>\n      <td>2.865718</td>\n      <td>-1.767362</td>\n      <td>-1.158272</td>\n    </tr>\n    <tr>\n      <th>2020-11-25</th>\n      <td>115.377593</td>\n      <td>116.575799</td>\n      <td>114.998155</td>\n      <td>115.856873</td>\n      <td>76499200</td>\n      <td>0.000</td>\n      <td>0</td>\n      <td>117.444501</td>\n      <td>112.422001</td>\n      <td>1.061109e+08</td>\n      <td>114.845050</td>\n      <td>1.096422</td>\n      <td>-45.569645</td>\n      <td>2.899004</td>\n      <td>0.898660</td>\n      <td>2.576154</td>\n    </tr>\n    <tr>\n      <th>2020-11-27</th>\n      <td>116.396064</td>\n      <td>117.314690</td>\n      <td>116.046588</td>\n      <td>116.416031</td>\n      <td>46691300</td>\n      <td>0.000</td>\n      <td>0</td>\n      <td>117.314690</td>\n      <td>112.422001</td>\n      <td>7.902157e+07</td>\n      <td>115.757019</td>\n      <td>0.714193</td>\n      <td>-70.866449</td>\n      <td>2.096867</td>\n      <td>0.738890</td>\n      <td>1.048433</td>\n    </tr>\n    <tr>\n      <th>2020-11-30</th>\n      <td>116.795470</td>\n      <td>120.789501</td>\n      <td>116.635705</td>\n      <td>118.872368</td>\n      <td>169410200</td>\n      <td>0.000</td>\n      <td>0</td>\n      <td>120.789501</td>\n      <td>114.998155</td>\n      <td>9.753357e+07</td>\n      <td>117.048424</td>\n      <td>1.604133</td>\n      <td>-46.153762</td>\n      <td>2.469644</td>\n      <td>3.474812</td>\n      <td>0.589117</td>\n    </tr>\n    <tr>\n      <th>2020-12-01</th>\n      <td>120.829448</td>\n      <td>123.285777</td>\n      <td>119.830940</td>\n      <td>122.536896</td>\n      <td>128166800</td>\n      <td>0.000</td>\n      <td>0</td>\n      <td>123.285777</td>\n      <td>116.046588</td>\n      <td>1.147561e+08</td>\n      <td>119.275098</td>\n      <td>3.080242</td>\n      <td>-21.676306</td>\n      <td>3.414899</td>\n      <td>2.496276</td>\n      <td>3.195235</td>\n    </tr>\n    <tr>\n      <th>2020-12-02</th>\n      <td>121.837931</td>\n      <td>123.185923</td>\n      <td>120.709620</td>\n      <td>122.896355</td>\n      <td>89004200</td>\n      <td>0.000</td>\n      <td>0</td>\n      <td>123.285777</td>\n      <td>116.635705</td>\n      <td>1.288604e+08</td>\n      <td>121.435206</td>\n      <td>2.226748</td>\n      <td>-11.693569</td>\n      <td>3.754394</td>\n      <td>-0.099854</td>\n      <td>0.878680</td>\n    </tr>\n    <tr>\n      <th>2020-12-03</th>\n      <td>123.335698</td>\n      <td>123.595312</td>\n      <td>122.027655</td>\n      <td>122.756569</td>\n      <td>78967600</td>\n      <td>0.000</td>\n      <td>0</td>\n      <td>123.595312</td>\n      <td>119.830940</td>\n      <td>9.871287e+07</td>\n      <td>122.729940</td>\n      <td>0.181203</td>\n      <td>-53.502962</td>\n      <td>2.819123</td>\n      <td>0.409389</td>\n      <td>1.318035</td>\n    </tr>\n    <tr>\n      <th>2020-12-04</th>\n      <td>122.417073</td>\n      <td>122.676687</td>\n      <td>121.338682</td>\n      <td>122.067596</td>\n      <td>78260400</td>\n      <td>0.000</td>\n      <td>0</td>\n      <td>123.595312</td>\n      <td>120.709620</td>\n      <td>8.207740e+07</td>\n      <td>122.573507</td>\n      <td>0.443671</td>\n      <td>-45.522299</td>\n      <td>1.820616</td>\n      <td>-0.918625</td>\n      <td>-0.688972</td>\n    </tr>\n    <tr>\n      <th>2020-12-07</th>\n      <td>122.127500</td>\n      <td>124.384130</td>\n      <td>122.067592</td>\n      <td>123.565353</td>\n      <td>86712000</td>\n      <td>0.000</td>\n      <td>0</td>\n      <td>124.384130</td>\n      <td>121.338682</td>\n      <td>8.131333e+07</td>\n      <td>122.796506</td>\n      <td>0.749677</td>\n      <td>-35.344819</td>\n      <td>1.767361</td>\n      <td>1.707443</td>\n      <td>0.728909</td>\n    </tr>\n    <tr>\n      <th>2020-12-08</th>\n      <td>124.184433</td>\n      <td>124.793523</td>\n      <td>122.906336</td>\n      <td>124.194412</td>\n      <td>82225500</td>\n      <td>0.000</td>\n      <td>0</td>\n      <td>124.793523</td>\n      <td>121.338682</td>\n      <td>8.239930e+07</td>\n      <td>123.275787</td>\n      <td>1.092576</td>\n      <td>-31.746237</td>\n      <td>1.873871</td>\n      <td>0.409394</td>\n      <td>0.838745</td>\n    </tr>\n    <tr>\n      <th>2020-12-09</th>\n      <td>124.344186</td>\n      <td>125.762066</td>\n      <td>120.819455</td>\n      <td>121.598289</td>\n      <td>115089200</td>\n      <td>0.000</td>\n      <td>0</td>\n      <td>125.762066</td>\n      <td>120.819455</td>\n      <td>9.467557e+07</td>\n      <td>123.119352</td>\n      <td>1.354308</td>\n      <td>-84.242439</td>\n      <td>3.048779</td>\n      <td>0.968542</td>\n      <td>-2.086882</td>\n    </tr>\n    <tr>\n      <th>2020-12-10</th>\n      <td>120.320205</td>\n      <td>123.685179</td>\n      <td>119.970728</td>\n      <td>123.056114</td>\n      <td>81312200</td>\n      <td>0.000</td>\n      <td>0</td>\n      <td>125.762066</td>\n      <td>119.970728</td>\n      <td>9.287563e+07</td>\n      <td>122.949605</td>\n      <td>1.301334</td>\n      <td>-16.935610</td>\n      <td>3.514750</td>\n      <td>-2.076886</td>\n      <td>-0.848726</td>\n    </tr>\n    <tr>\n      <th>2020-12-11</th>\n      <td>122.247323</td>\n      <td>122.576832</td>\n      <td>120.370131</td>\n      <td>122.227356</td>\n      <td>86939800</td>\n      <td>0.000</td>\n      <td>0</td>\n      <td>125.762066</td>\n      <td>119.970728</td>\n      <td>9.444707e+07</td>\n      <td>122.293920</td>\n      <td>0.731188</td>\n      <td>-15.837042</td>\n      <td>3.781015</td>\n      <td>-1.108347</td>\n      <td>0.399402</td>\n    </tr>\n    <tr>\n      <th>2020-12-14</th>\n      <td>122.417066</td>\n      <td>123.165947</td>\n      <td>121.358650</td>\n      <td>121.598289</td>\n      <td>79184500</td>\n      <td>0.000</td>\n      <td>0</td>\n      <td>123.685179</td>\n      <td>119.970728</td>\n      <td>8.247883e+07</td>\n      <td>122.293920</td>\n      <td>0.731188</td>\n      <td>-86.740432</td>\n      <td>2.735910</td>\n      <td>0.589114</td>\n      <td>0.988519</td>\n    </tr>\n    <tr>\n      <th>2020-12-15</th>\n      <td>124.154467</td>\n      <td>127.709161</td>\n      <td>123.944782</td>\n      <td>127.689186</td>\n      <td>157572300</td>\n      <td>0.000</td>\n      <td>0</td>\n      <td>127.709161</td>\n      <td>120.370131</td>\n      <td>1.078989e+08</td>\n      <td>123.838277</td>\n      <td>3.349784</td>\n      <td>-0.530617</td>\n      <td>3.534717</td>\n      <td>4.543214</td>\n      <td>2.586132</td>\n    </tr>\n    <tr>\n      <th>2020-12-16</th>\n      <td>127.219896</td>\n      <td>128.178455</td>\n      <td>126.371158</td>\n      <td>127.619293</td>\n      <td>98208600</td>\n      <td>0.000</td>\n      <td>0</td>\n      <td>128.178455</td>\n      <td>121.358650</td>\n      <td>1.116551e+08</td>\n      <td>125.635590</td>\n      <td>3.496579</td>\n      <td>-30.939133</td>\n      <td>3.241822</td>\n      <td>0.469295</td>\n      <td>2.426377</td>\n    </tr>\n    <tr>\n      <th>2020-12-17</th>\n      <td>128.707664</td>\n      <td>129.386657</td>\n      <td>127.848946</td>\n      <td>128.507965</td>\n      <td>94359800</td>\n      <td>0.000</td>\n      <td>0</td>\n      <td>129.386657</td>\n      <td>123.944782</td>\n      <td>1.167136e+08</td>\n      <td>127.938815</td>\n      <td>0.494136</td>\n      <td>-57.142857</td>\n      <td>3.228511</td>\n      <td>1.208202</td>\n      <td>1.477788</td>\n    </tr>\n    <tr>\n      <th>2020-12-18</th>\n      <td>128.767587</td>\n      <td>128.907378</td>\n      <td>125.931821</td>\n      <td>126.471016</td>\n      <td>192541500</td>\n      <td>0.000</td>\n      <td>0</td>\n      <td>129.386657</td>\n      <td>125.931821</td>\n      <td>1.283700e+08</td>\n      <td>127.532758</td>\n      <td>1.021228</td>\n      <td>-81.879184</td>\n      <td>2.183406</td>\n      <td>-0.479279</td>\n      <td>-1.917125</td>\n    </tr>\n    <tr>\n      <th>2020-12-21</th>\n      <td>124.833456</td>\n      <td>128.118548</td>\n      <td>123.265799</td>\n      <td>128.038666</td>\n      <td>121251600</td>\n      <td>0.000</td>\n      <td>0</td>\n      <td>129.386657</td>\n      <td>123.265799</td>\n      <td>1.360510e+08</td>\n      <td>127.672549</td>\n      <td>1.066687</td>\n      <td>-1.646128</td>\n      <td>3.198557</td>\n      <td>-0.788829</td>\n      <td>-2.666022</td>\n    </tr>\n    <tr>\n      <th>2020-12-22</th>\n      <td>131.413626</td>\n      <td>134.209451</td>\n      <td>129.456544</td>\n      <td>131.683228</td>\n      <td>168904800</td>\n      <td>0.000</td>\n      <td>0</td>\n      <td>134.209451</td>\n      <td>123.265799</td>\n      <td>1.608993e+08</td>\n      <td>128.730970</td>\n      <td>2.674182</td>\n      <td>-53.151126</td>\n      <td>4.666364</td>\n      <td>6.090903</td>\n      <td>6.190745</td>\n    </tr>\n    <tr>\n      <th>2020-12-23</th>\n      <td>131.962809</td>\n      <td>132.232395</td>\n      <td>130.584863</td>\n      <td>130.764603</td>\n      <td>88223700</td>\n      <td>0.000</td>\n      <td>0</td>\n      <td>134.209451</td>\n      <td>123.265799</td>\n      <td>1.261267e+08</td>\n      <td>130.162165</td>\n      <td>1.895496</td>\n      <td>-89.090388</td>\n      <td>4.223689</td>\n      <td>-1.977056</td>\n      <td>1.128319</td>\n    </tr>\n    <tr>\n      <th>2020-12-24</th>\n      <td>131.124063</td>\n      <td>133.260869</td>\n      <td>130.904390</td>\n      <td>131.773087</td>\n      <td>54930100</td>\n      <td>0.000</td>\n      <td>0</td>\n      <td>134.209451</td>\n      <td>129.456544</td>\n      <td>1.040195e+08</td>\n      <td>131.406972</td>\n      <td>0.558120</td>\n      <td>-63.135810</td>\n      <td>3.438195</td>\n      <td>1.028474</td>\n      <td>0.319526</td>\n    </tr>\n    <tr>\n      <th>2020-12-28</th>\n      <td>133.790085</td>\n      <td>137.135078</td>\n      <td>133.310790</td>\n      <td>136.486053</td>\n      <td>124486200</td>\n      <td>0.000</td>\n      <td>0</td>\n      <td>137.135078</td>\n      <td>130.584863</td>\n      <td>8.921333e+07</td>\n      <td>133.007914</td>\n      <td>3.054071</td>\n      <td>-16.971112</td>\n      <td>3.168596</td>\n      <td>3.874209</td>\n      <td>2.406401</td>\n    </tr>\n    <tr>\n      <th>2020-12-29</th>\n      <td>137.844025</td>\n      <td>138.582912</td>\n      <td>134.139554</td>\n      <td>134.668762</td>\n      <td>121047300</td>\n      <td>0.000</td>\n      <td>0</td>\n      <td>138.582912</td>\n      <td>130.904390</td>\n      <td>1.001545e+08</td>\n      <td>134.309301</td>\n      <td>2.376957</td>\n      <td>-88.089907</td>\n      <td>4.100538</td>\n      <td>1.447834</td>\n      <td>0.828764</td>\n    </tr>\n    <tr>\n      <th>2020-12-30</th>\n      <td>135.377703</td>\n      <td>135.787094</td>\n      <td>133.200947</td>\n      <td>133.520477</td>\n      <td>96452100</td>\n      <td>0.000</td>\n      <td>0</td>\n      <td>138.582912</td>\n      <td>133.200947</td>\n      <td>1.139952e+08</td>\n      <td>134.891764</td>\n      <td>1.495312</td>\n      <td>-87.644560</td>\n      <td>4.130498</td>\n      <td>-2.795817</td>\n      <td>-0.938607</td>\n    </tr>\n    <tr>\n      <th>2020-12-31</th>\n      <td>133.879945</td>\n      <td>134.538964</td>\n      <td>131.523466</td>\n      <td>132.492020</td>\n      <td>99116600</td>\n      <td>0.000</td>\n      <td>0</td>\n      <td>138.582912</td>\n      <td>131.523466</td>\n      <td>1.055387e+08</td>\n      <td>133.560420</td>\n      <td>1.088921</td>\n      <td>-67.880800</td>\n      <td>3.348334</td>\n      <td>-1.248131</td>\n      <td>-1.677482</td>\n    </tr>\n    <tr>\n      <th>2021-01-04</th>\n      <td>133.320787</td>\n      <td>133.410649</td>\n      <td>126.570871</td>\n      <td>129.216919</td>\n      <td>143301900</td>\n      <td>0.000</td>\n      <td>0</td>\n      <td>135.787094</td>\n      <td>126.570871</td>\n      <td>1.129569e+08</td>\n      <td>131.743139</td>\n      <td>2.247392</td>\n      <td>-61.313838</td>\n      <td>4.147141</td>\n      <td>-1.128315</td>\n      <td>-4.952594</td>\n    </tr>\n    <tr>\n      <th>2021-01-05</th>\n      <td>128.697682</td>\n      <td>131.543436</td>\n      <td>128.238362</td>\n      <td>130.814514</td>\n      <td>97664900</td>\n      <td>0.000</td>\n      <td>0</td>\n      <td>134.538964</td>\n      <td>126.570871</td>\n      <td>1.133611e+08</td>\n      <td>130.841151</td>\n      <td>1.637713</td>\n      <td>-22.054627</td>\n      <td>4.386783</td>\n      <td>-1.867213</td>\n      <td>1.667491</td>\n    </tr>\n    <tr>\n      <th>2021-01-06</th>\n      <td>127.529434</td>\n      <td>130.854467</td>\n      <td>126.191429</td>\n      <td>126.411102</td>\n      <td>155088000</td>\n      <td>0.000</td>\n      <td>0</td>\n      <td>133.410649</td>\n      <td>126.191429</td>\n      <td>1.320183e+08</td>\n      <td>128.814178</td>\n      <td>2.229161</td>\n      <td>-95.289059</td>\n      <td>4.935963</td>\n      <td>-0.688969</td>\n      <td>-2.046933</td>\n    </tr>\n    <tr>\n      <th>2021-01-07</th>\n      <td>128.168477</td>\n      <td>131.433602</td>\n      <td>127.669223</td>\n      <td>130.724655</td>\n      <td>109578200</td>\n      <td>0.000</td>\n      <td>0</td>\n      <td>131.543436</td>\n      <td>126.191429</td>\n      <td>1.207770e+08</td>\n      <td>129.316757</td>\n      <td>2.516772</td>\n      <td>-18.833048</td>\n      <td>4.330204</td>\n      <td>0.579135</td>\n      <td>1.477794</td>\n    </tr>\n  </tbody>\n</table>\n</div>"
     },
     "metadata": {},
     "execution_count": 24
    }
   ],
   "source": [
    "series.head(60)"
   ]
  },
  {
   "cell_type": "code",
   "execution_count": 25,
   "id": "changing-calcium",
   "metadata": {},
   "outputs": [],
   "source": [
    "top100tech = ['AAPL',\n",
    "'MSFT',\n",
    "'TSM',\n",
    "'NVDA',\n",
    "'INTC',\n",
    "'ASML',\n",
    "'ADBE',\n",
    "'CRM',\n",
    "'AVGO',\n",
    "'ORCL',\n",
    "'CSCO',\n",
    "'ACN',\n",
    "'TXN',\n",
    "'SHOP',\n",
    "'QCOM',\n",
    "'SAP',\n",
    "'SNE',\n",
    "'AMAT',\n",
    "'INTU',\n",
    "'NOW',\n",
    "'SQ',\n",
    "'IBM',\n",
    "'MU',\n",
    "'AMD',\n",
    "'UBER',\n",
    "'FIS',\n",
    "'LRCX',\n",
    "'FISV',\n",
    "'SNOW',\n",
    "'INFY',\n",
    "'TEAM',\n",
    "'ADSK',\n",
    "'DELL',\n",
    "'WDAY',\n",
    "'VMW',\n",
    "'ADI',\n",
    "'NXPI',\n",
    "'KLAC',\n",
    "'CRWD',\n",
    "'PLTR',\n",
    "'DOCU',\n",
    "'TEL',\n",
    "'ERIC',\n",
    "'MCHP',\n",
    "'CDNS',\n",
    "'CTSH',\n",
    "'APH',\n",
    "'SNPS',\n",
    "'HPQ',\n",
    "'PANW',\n",
    "'OKTA',\n",
    "'RNG',\n",
    "'STM',\n",
    "'MRVL',\n",
    "'XLNX',\n",
    "'WIT',\n",
    "'MSI',\n",
    "'SWKS',\n",
    "'GLW',\n",
    "'DDOG',\n",
    "'ANSS',\n",
    "'U',\n",
    "'ZS',\n",
    "'FTNT',\n",
    "'STNE',\n",
    "'ZBRA',\n",
    "'KEYS',\n",
    "'FTV',\n",
    "'MXIM',\n",
    "'COUP',\n",
    "'GRMN',\n",
    "'SPLK',\n",
    "'HUBS',\n",
    "'WORK',\n",
    "'NET',\n",
    "'FLT',\n",
    "'CDW',\n",
    "'CAJ',\n",
    "'AFRM',\n",
    "'PAYC',\n",
    "'TER',\n",
    "'VRSN',\n",
    "'WDC',\n",
    "'ZI',\n",
    "'UMC',\n",
    "'ANET',\n",
    "'EPAM',\n",
    "'UI',\n",
    "'XM',\n",
    "'GIB',\n",
    "'TRMB',\n",
    "'TYL',\n",
    "'WIX',\n",
    "'HPE',\n",
    "'LYFT',\n",
    "'LOGI',\n",
    "'MPWR']"
   ]
  },
  {
   "cell_type": "code",
   "execution_count": 26,
   "id": "rental-package",
   "metadata": {},
   "outputs": [],
   "source": [
    "# tickers = pd.Series(top100tech).apply(yf.Ticker)"
   ]
  },
  {
   "cell_type": "code",
   "execution_count": 27,
   "id": "tribal-tender",
   "metadata": {},
   "outputs": [],
   "source": [
    "# hacky way to get lots of data\n",
    "# hist_datas = tickers.apply(lambda x: x.history(period=\"5d\"))"
   ]
  },
  {
   "cell_type": "code",
   "execution_count": 28,
   "id": "rental-inspector",
   "metadata": {},
   "outputs": [
    {
     "output_type": "execute_result",
     "data": {
      "text/plain": [
       "'AAPL MSFT TSM NVDA INTC ASML ADBE CRM AVGO ORCL CSCO ACN TXN SHOP QCOM SAP SNE AMAT INTU NOW SQ IBM MU AMD UBER FIS LRCX FISV SNOW INFY TEAM ADSK DELL WDAY VMW ADI NXPI KLAC CRWD PLTR DOCU TEL ERIC MCHP CDNS CTSH APH SNPS HPQ PANW OKTA RNG STM MRVL XLNX WIT MSI SWKS GLW DDOG ANSS U ZS FTNT STNE ZBRA KEYS FTV MXIM COUP GRMN SPLK HUBS WORK NET FLT CDW CAJ AFRM PAYC TER VRSN WDC ZI UMC ANET EPAM UI XM GIB TRMB TYL WIX HPE LYFT LOGI MPWR'"
      ]
     },
     "metadata": {},
     "execution_count": 28
    }
   ],
   "source": [
    "' '.join(top100tech)"
   ]
  },
  {
   "cell_type": "code",
   "execution_count": 29,
   "id": "former-young",
   "metadata": {},
   "outputs": [
    {
     "output_type": "stream",
     "name": "stdout",
     "text": [
      "[*********************100%***********************]  97 of 97 completed\n"
     ]
    }
   ],
   "source": [
    "data = yf.download(tickers = ' '.join(top100tech),\n",
    "                  period='365d')"
   ]
  },
  {
   "cell_type": "code",
   "execution_count": 30,
   "id": "handed-wallpaper",
   "metadata": {},
   "outputs": [
    {
     "output_type": "execute_result",
     "data": {
      "text/plain": [
       "             Adj Close                                                  \\\n",
       "                  AAPL         ACN        ADBE         ADI        ADSK   \n",
       "Date                                                                     \n",
       "2019-09-25   54.538898  186.413681  277.429993  109.413620  147.429993   \n",
       "2019-09-26   54.257603  187.634476  283.809998  109.860291  149.070007   \n",
       "2019-09-27   53.993587  186.911758  277.540009  107.821159  145.190002   \n",
       "2019-09-30   55.264339  187.859116  276.250000  108.491165  147.699997   \n",
       "2019-10-01   55.417320  185.192856  272.709991  106.597687  145.710007   \n",
       "...                ...         ...         ...         ...         ...   \n",
       "2021-03-02  125.120003  259.230011  466.589996  154.289993  277.920013   \n",
       "2021-03-03  122.059998  254.179993  448.450012  149.940002  269.299988   \n",
       "2021-03-04  120.129997  247.000000  439.059998  144.520004  265.440002   \n",
       "2021-03-05  121.419998  249.509995  440.829987  148.880005  267.390015   \n",
       "2021-03-08  116.360001  249.389999  421.200012  144.059998  253.100006   \n",
       "\n",
       "                                                                      ...  \\\n",
       "                 AFRM        AMAT        AMD        ANET        ANSS  ...   \n",
       "Date                                                                  ...   \n",
       "2019-09-25        NaN   50.965481  29.540001  241.559998  215.639999  ...   \n",
       "2019-09-26        NaN   51.181396  29.469999  244.009995  220.080002  ...   \n",
       "2019-09-27        NaN   48.511913  28.719999  242.779999  217.089996  ...   \n",
       "2019-09-30        NaN   48.973186  28.990000  238.919998  221.360001  ...   \n",
       "2019-10-01        NaN   49.090958  28.760000  230.350006  216.729996  ...   \n",
       "...               ...         ...        ...         ...         ...  ...   \n",
       "2021-03-02  91.800003  117.500000  84.129997  284.299988  336.329987  ...   \n",
       "2021-03-03  86.309998  115.440002  80.860001  278.940002  319.859985  ...   \n",
       "2021-03-04  84.459999  108.239998  77.750000  271.260010  306.160004  ...   \n",
       "2021-03-05  81.139999  113.449997  78.519997  273.059998  308.029999  ...   \n",
       "2021-03-08  74.309998  105.680000  73.959999  267.829987  293.549988  ...   \n",
       "\n",
       "             Volume                                                           \\\n",
       "               WDAY      WDC      WIT      WIX      WORK     XLNX         XM   \n",
       "Date                                                                           \n",
       "2019-09-25  2421400  6285500   615800   821000  13027600  3488800        NaN   \n",
       "2019-09-26  3050200  4439600   861600   611000   5559600  2419100        NaN   \n",
       "2019-09-27  2231200  5759500  1531000   548800   6277000  2504400        NaN   \n",
       "2019-09-30  1397000  3799400   603600   487300  12192500  3965900        NaN   \n",
       "2019-10-01  1372800  3177100  1056500   797900   8546700  7621900        NaN   \n",
       "...             ...      ...      ...      ...       ...      ...        ...   \n",
       "2021-03-02  1333600  4515400  1751000   601500   4006500  1726400  2223200.0   \n",
       "2021-03-03  1868100  6442700  2479700   775400   5574600  2446200  2048600.0   \n",
       "2021-03-04  2395100  9227500  3000200  1220100   8308400  4417800  2598300.0   \n",
       "2021-03-05  2699700  9195600  2496200   948100   6106300  2842100  1766100.0   \n",
       "2021-03-08  1588100  6936700  1384500   710100  10471100  2505600  1421000.0   \n",
       "\n",
       "                                        \n",
       "              ZBRA         ZI       ZS  \n",
       "Date                                    \n",
       "2019-09-25  330100        NaN  3053800  \n",
       "2019-09-26  203500        NaN  2363500  \n",
       "2019-09-27  234400        NaN  2877900  \n",
       "2019-09-30  240700        NaN  2122100  \n",
       "2019-10-01  301000        NaN  2177600  \n",
       "...            ...        ...      ...  \n",
       "2021-03-02  264000  1391400.0  1788600  \n",
       "2021-03-03  652600  5075500.0  2702900  \n",
       "2021-03-04  854800  3731300.0  3171400  \n",
       "2021-03-05  533100  2335100.0  3940900  \n",
       "2021-03-08  336000  1387400.0  2729100  \n",
       "\n",
       "[365 rows x 582 columns]"
      ],
      "text/html": "<div>\n<style scoped>\n    .dataframe tbody tr th:only-of-type {\n        vertical-align: middle;\n    }\n\n    .dataframe tbody tr th {\n        vertical-align: top;\n    }\n\n    .dataframe thead tr th {\n        text-align: left;\n    }\n\n    .dataframe thead tr:last-of-type th {\n        text-align: right;\n    }\n</style>\n<table border=\"1\" class=\"dataframe\">\n  <thead>\n    <tr>\n      <th></th>\n      <th colspan=\"10\" halign=\"left\">Adj Close</th>\n      <th>...</th>\n      <th colspan=\"10\" halign=\"left\">Volume</th>\n    </tr>\n    <tr>\n      <th></th>\n      <th>AAPL</th>\n      <th>ACN</th>\n      <th>ADBE</th>\n      <th>ADI</th>\n      <th>ADSK</th>\n      <th>AFRM</th>\n      <th>AMAT</th>\n      <th>AMD</th>\n      <th>ANET</th>\n      <th>ANSS</th>\n      <th>...</th>\n      <th>WDAY</th>\n      <th>WDC</th>\n      <th>WIT</th>\n      <th>WIX</th>\n      <th>WORK</th>\n      <th>XLNX</th>\n      <th>XM</th>\n      <th>ZBRA</th>\n      <th>ZI</th>\n      <th>ZS</th>\n    </tr>\n    <tr>\n      <th>Date</th>\n      <th></th>\n      <th></th>\n      <th></th>\n      <th></th>\n      <th></th>\n      <th></th>\n      <th></th>\n      <th></th>\n      <th></th>\n      <th></th>\n      <th></th>\n      <th></th>\n      <th></th>\n      <th></th>\n      <th></th>\n      <th></th>\n      <th></th>\n      <th></th>\n      <th></th>\n      <th></th>\n      <th></th>\n    </tr>\n  </thead>\n  <tbody>\n    <tr>\n      <th>2019-09-25</th>\n      <td>54.538898</td>\n      <td>186.413681</td>\n      <td>277.429993</td>\n      <td>109.413620</td>\n      <td>147.429993</td>\n      <td>NaN</td>\n      <td>50.965481</td>\n      <td>29.540001</td>\n      <td>241.559998</td>\n      <td>215.639999</td>\n      <td>...</td>\n      <td>2421400</td>\n      <td>6285500</td>\n      <td>615800</td>\n      <td>821000</td>\n      <td>13027600</td>\n      <td>3488800</td>\n      <td>NaN</td>\n      <td>330100</td>\n      <td>NaN</td>\n      <td>3053800</td>\n    </tr>\n    <tr>\n      <th>2019-09-26</th>\n      <td>54.257603</td>\n      <td>187.634476</td>\n      <td>283.809998</td>\n      <td>109.860291</td>\n      <td>149.070007</td>\n      <td>NaN</td>\n      <td>51.181396</td>\n      <td>29.469999</td>\n      <td>244.009995</td>\n      <td>220.080002</td>\n      <td>...</td>\n      <td>3050200</td>\n      <td>4439600</td>\n      <td>861600</td>\n      <td>611000</td>\n      <td>5559600</td>\n      <td>2419100</td>\n      <td>NaN</td>\n      <td>203500</td>\n      <td>NaN</td>\n      <td>2363500</td>\n    </tr>\n    <tr>\n      <th>2019-09-27</th>\n      <td>53.993587</td>\n      <td>186.911758</td>\n      <td>277.540009</td>\n      <td>107.821159</td>\n      <td>145.190002</td>\n      <td>NaN</td>\n      <td>48.511913</td>\n      <td>28.719999</td>\n      <td>242.779999</td>\n      <td>217.089996</td>\n      <td>...</td>\n      <td>2231200</td>\n      <td>5759500</td>\n      <td>1531000</td>\n      <td>548800</td>\n      <td>6277000</td>\n      <td>2504400</td>\n      <td>NaN</td>\n      <td>234400</td>\n      <td>NaN</td>\n      <td>2877900</td>\n    </tr>\n    <tr>\n      <th>2019-09-30</th>\n      <td>55.264339</td>\n      <td>187.859116</td>\n      <td>276.250000</td>\n      <td>108.491165</td>\n      <td>147.699997</td>\n      <td>NaN</td>\n      <td>48.973186</td>\n      <td>28.990000</td>\n      <td>238.919998</td>\n      <td>221.360001</td>\n      <td>...</td>\n      <td>1397000</td>\n      <td>3799400</td>\n      <td>603600</td>\n      <td>487300</td>\n      <td>12192500</td>\n      <td>3965900</td>\n      <td>NaN</td>\n      <td>240700</td>\n      <td>NaN</td>\n      <td>2122100</td>\n    </tr>\n    <tr>\n      <th>2019-10-01</th>\n      <td>55.417320</td>\n      <td>185.192856</td>\n      <td>272.709991</td>\n      <td>106.597687</td>\n      <td>145.710007</td>\n      <td>NaN</td>\n      <td>49.090958</td>\n      <td>28.760000</td>\n      <td>230.350006</td>\n      <td>216.729996</td>\n      <td>...</td>\n      <td>1372800</td>\n      <td>3177100</td>\n      <td>1056500</td>\n      <td>797900</td>\n      <td>8546700</td>\n      <td>7621900</td>\n      <td>NaN</td>\n      <td>301000</td>\n      <td>NaN</td>\n      <td>2177600</td>\n    </tr>\n    <tr>\n      <th>...</th>\n      <td>...</td>\n      <td>...</td>\n      <td>...</td>\n      <td>...</td>\n      <td>...</td>\n      <td>...</td>\n      <td>...</td>\n      <td>...</td>\n      <td>...</td>\n      <td>...</td>\n      <td>...</td>\n      <td>...</td>\n      <td>...</td>\n      <td>...</td>\n      <td>...</td>\n      <td>...</td>\n      <td>...</td>\n      <td>...</td>\n      <td>...</td>\n      <td>...</td>\n      <td>...</td>\n    </tr>\n    <tr>\n      <th>2021-03-02</th>\n      <td>125.120003</td>\n      <td>259.230011</td>\n      <td>466.589996</td>\n      <td>154.289993</td>\n      <td>277.920013</td>\n      <td>91.800003</td>\n      <td>117.500000</td>\n      <td>84.129997</td>\n      <td>284.299988</td>\n      <td>336.329987</td>\n      <td>...</td>\n      <td>1333600</td>\n      <td>4515400</td>\n      <td>1751000</td>\n      <td>601500</td>\n      <td>4006500</td>\n      <td>1726400</td>\n      <td>2223200.0</td>\n      <td>264000</td>\n      <td>1391400.0</td>\n      <td>1788600</td>\n    </tr>\n    <tr>\n      <th>2021-03-03</th>\n      <td>122.059998</td>\n      <td>254.179993</td>\n      <td>448.450012</td>\n      <td>149.940002</td>\n      <td>269.299988</td>\n      <td>86.309998</td>\n      <td>115.440002</td>\n      <td>80.860001</td>\n      <td>278.940002</td>\n      <td>319.859985</td>\n      <td>...</td>\n      <td>1868100</td>\n      <td>6442700</td>\n      <td>2479700</td>\n      <td>775400</td>\n      <td>5574600</td>\n      <td>2446200</td>\n      <td>2048600.0</td>\n      <td>652600</td>\n      <td>5075500.0</td>\n      <td>2702900</td>\n    </tr>\n    <tr>\n      <th>2021-03-04</th>\n      <td>120.129997</td>\n      <td>247.000000</td>\n      <td>439.059998</td>\n      <td>144.520004</td>\n      <td>265.440002</td>\n      <td>84.459999</td>\n      <td>108.239998</td>\n      <td>77.750000</td>\n      <td>271.260010</td>\n      <td>306.160004</td>\n      <td>...</td>\n      <td>2395100</td>\n      <td>9227500</td>\n      <td>3000200</td>\n      <td>1220100</td>\n      <td>8308400</td>\n      <td>4417800</td>\n      <td>2598300.0</td>\n      <td>854800</td>\n      <td>3731300.0</td>\n      <td>3171400</td>\n    </tr>\n    <tr>\n      <th>2021-03-05</th>\n      <td>121.419998</td>\n      <td>249.509995</td>\n      <td>440.829987</td>\n      <td>148.880005</td>\n      <td>267.390015</td>\n      <td>81.139999</td>\n      <td>113.449997</td>\n      <td>78.519997</td>\n      <td>273.059998</td>\n      <td>308.029999</td>\n      <td>...</td>\n      <td>2699700</td>\n      <td>9195600</td>\n      <td>2496200</td>\n      <td>948100</td>\n      <td>6106300</td>\n      <td>2842100</td>\n      <td>1766100.0</td>\n      <td>533100</td>\n      <td>2335100.0</td>\n      <td>3940900</td>\n    </tr>\n    <tr>\n      <th>2021-03-08</th>\n      <td>116.360001</td>\n      <td>249.389999</td>\n      <td>421.200012</td>\n      <td>144.059998</td>\n      <td>253.100006</td>\n      <td>74.309998</td>\n      <td>105.680000</td>\n      <td>73.959999</td>\n      <td>267.829987</td>\n      <td>293.549988</td>\n      <td>...</td>\n      <td>1588100</td>\n      <td>6936700</td>\n      <td>1384500</td>\n      <td>710100</td>\n      <td>10471100</td>\n      <td>2505600</td>\n      <td>1421000.0</td>\n      <td>336000</td>\n      <td>1387400.0</td>\n      <td>2729100</td>\n    </tr>\n  </tbody>\n</table>\n<p>365 rows × 582 columns</p>\n</div>"
     },
     "metadata": {},
     "execution_count": 30
    }
   ],
   "source": [
    "data"
   ]
  },
  {
   "cell_type": "code",
   "execution_count": 31,
   "id": "enormous-suspect",
   "metadata": {},
   "outputs": [],
   "source": [
    "df = pd.melt(data, ignore_index=False)\n",
    "df.columns = ['Variable', 'Ticker', 'Value']"
   ]
  },
  {
   "cell_type": "code",
   "execution_count": 32,
   "id": "split-smile",
   "metadata": {},
   "outputs": [],
   "source": [
    "# this is a nicely formed dataframe of historical data\n",
    "nice_df = df.reset_index().pivot(index=['Ticker', 'Date'], columns=['Variable'], values=['Value'])"
   ]
  },
  {
   "cell_type": "code",
   "execution_count": 33,
   "id": "internal-engine",
   "metadata": {},
   "outputs": [],
   "source": [
    "nice_df.columns = nice_df.columns.droplevel()"
   ]
  },
  {
   "cell_type": "code",
   "execution_count": 34,
   "id": "removed-belgium",
   "metadata": {},
   "outputs": [
    {
     "output_type": "execute_result",
     "data": {
      "text/plain": [
       "Variable            Adj Close       Close        High         Low        Open  \\\n",
       "Ticker Date                                                                     \n",
       "AAPL   2019-09-25   54.538898   55.257500   55.375000   54.285000   54.637501   \n",
       "       2019-09-26   54.257603   54.972500   55.235001   54.707500   55.000000   \n",
       "       2019-09-27   53.993587   54.705002   55.240002   54.320000   55.134998   \n",
       "       2019-09-30   55.264339   55.992500   56.145000   55.197498   55.224998   \n",
       "       2019-10-01   55.417320   56.147499   57.055000   56.049999   56.267502   \n",
       "...                       ...         ...         ...         ...         ...   \n",
       "ZS     2021-03-02  202.610001  202.610001  212.000000  202.270004  212.000000   \n",
       "       2021-03-03  187.830002  187.830002  202.119995  187.460007  202.110001   \n",
       "       2021-03-04  180.899994  180.899994  190.960007  175.679993  184.330002   \n",
       "       2021-03-05  175.369995  175.369995  185.539993  165.570007  185.539993   \n",
       "       2021-03-08  167.839996  167.839996  181.699997  166.886002  175.759995   \n",
       "\n",
       "Variable                Volume  \n",
       "Ticker Date                     \n",
       "AAPL   2019-09-25   87613600.0  \n",
       "       2019-09-26   75334000.0  \n",
       "       2019-09-27  101408000.0  \n",
       "       2019-09-30  103909600.0  \n",
       "       2019-10-01  139223200.0  \n",
       "...                        ...  \n",
       "ZS     2021-03-02    1788600.0  \n",
       "       2021-03-03    2702900.0  \n",
       "       2021-03-04    3171400.0  \n",
       "       2021-03-05    3940900.0  \n",
       "       2021-03-08    2729100.0  \n",
       "\n",
       "[35405 rows x 6 columns]"
      ],
      "text/html": "<div>\n<style scoped>\n    .dataframe tbody tr th:only-of-type {\n        vertical-align: middle;\n    }\n\n    .dataframe tbody tr th {\n        vertical-align: top;\n    }\n\n    .dataframe thead th {\n        text-align: right;\n    }\n</style>\n<table border=\"1\" class=\"dataframe\">\n  <thead>\n    <tr style=\"text-align: right;\">\n      <th></th>\n      <th>Variable</th>\n      <th>Adj Close</th>\n      <th>Close</th>\n      <th>High</th>\n      <th>Low</th>\n      <th>Open</th>\n      <th>Volume</th>\n    </tr>\n    <tr>\n      <th>Ticker</th>\n      <th>Date</th>\n      <th></th>\n      <th></th>\n      <th></th>\n      <th></th>\n      <th></th>\n      <th></th>\n    </tr>\n  </thead>\n  <tbody>\n    <tr>\n      <th rowspan=\"5\" valign=\"top\">AAPL</th>\n      <th>2019-09-25</th>\n      <td>54.538898</td>\n      <td>55.257500</td>\n      <td>55.375000</td>\n      <td>54.285000</td>\n      <td>54.637501</td>\n      <td>87613600.0</td>\n    </tr>\n    <tr>\n      <th>2019-09-26</th>\n      <td>54.257603</td>\n      <td>54.972500</td>\n      <td>55.235001</td>\n      <td>54.707500</td>\n      <td>55.000000</td>\n      <td>75334000.0</td>\n    </tr>\n    <tr>\n      <th>2019-09-27</th>\n      <td>53.993587</td>\n      <td>54.705002</td>\n      <td>55.240002</td>\n      <td>54.320000</td>\n      <td>55.134998</td>\n      <td>101408000.0</td>\n    </tr>\n    <tr>\n      <th>2019-09-30</th>\n      <td>55.264339</td>\n      <td>55.992500</td>\n      <td>56.145000</td>\n      <td>55.197498</td>\n      <td>55.224998</td>\n      <td>103909600.0</td>\n    </tr>\n    <tr>\n      <th>2019-10-01</th>\n      <td>55.417320</td>\n      <td>56.147499</td>\n      <td>57.055000</td>\n      <td>56.049999</td>\n      <td>56.267502</td>\n      <td>139223200.0</td>\n    </tr>\n    <tr>\n      <th>...</th>\n      <th>...</th>\n      <td>...</td>\n      <td>...</td>\n      <td>...</td>\n      <td>...</td>\n      <td>...</td>\n      <td>...</td>\n    </tr>\n    <tr>\n      <th rowspan=\"5\" valign=\"top\">ZS</th>\n      <th>2021-03-02</th>\n      <td>202.610001</td>\n      <td>202.610001</td>\n      <td>212.000000</td>\n      <td>202.270004</td>\n      <td>212.000000</td>\n      <td>1788600.0</td>\n    </tr>\n    <tr>\n      <th>2021-03-03</th>\n      <td>187.830002</td>\n      <td>187.830002</td>\n      <td>202.119995</td>\n      <td>187.460007</td>\n      <td>202.110001</td>\n      <td>2702900.0</td>\n    </tr>\n    <tr>\n      <th>2021-03-04</th>\n      <td>180.899994</td>\n      <td>180.899994</td>\n      <td>190.960007</td>\n      <td>175.679993</td>\n      <td>184.330002</td>\n      <td>3171400.0</td>\n    </tr>\n    <tr>\n      <th>2021-03-05</th>\n      <td>175.369995</td>\n      <td>175.369995</td>\n      <td>185.539993</td>\n      <td>165.570007</td>\n      <td>185.539993</td>\n      <td>3940900.0</td>\n    </tr>\n    <tr>\n      <th>2021-03-08</th>\n      <td>167.839996</td>\n      <td>167.839996</td>\n      <td>181.699997</td>\n      <td>166.886002</td>\n      <td>175.759995</td>\n      <td>2729100.0</td>\n    </tr>\n  </tbody>\n</table>\n<p>35405 rows × 6 columns</p>\n</div>"
     },
     "metadata": {},
     "execution_count": 34
    }
   ],
   "source": [
    "nice_df"
   ]
  },
  {
   "cell_type": "code",
   "execution_count": 35,
   "id": "utility-ranch",
   "metadata": {},
   "outputs": [],
   "source": [
    "df = nice_df.reset_index()"
   ]
  },
  {
   "cell_type": "code",
   "execution_count": 36,
   "id": "cheap-mexican",
   "metadata": {},
   "outputs": [],
   "source": [
    "df.columns.name=None"
   ]
  },
  {
   "cell_type": "code",
   "execution_count": 37,
   "id": "stock-league",
   "metadata": {},
   "outputs": [
    {
     "output_type": "execute_result",
     "data": {
      "text/plain": [
       "   Ticker       Date  Adj Close      Close       High        Low       Open  \\\n",
       "0    AAPL 2019-09-25  54.538898  55.257500  55.375000  54.285000  54.637501   \n",
       "1    AAPL 2019-09-26  54.257603  54.972500  55.235001  54.707500  55.000000   \n",
       "2    AAPL 2019-09-27  53.993587  54.705002  55.240002  54.320000  55.134998   \n",
       "3    AAPL 2019-09-30  55.264339  55.992500  56.145000  55.197498  55.224998   \n",
       "4    AAPL 2019-10-01  55.417320  56.147499  57.055000  56.049999  56.267502   \n",
       "5    AAPL 2019-10-02  54.028126  54.740002  55.895000  54.482498  55.764999   \n",
       "6    AAPL 2019-10-03  54.487080  55.205002  55.240002  53.782501  54.607498   \n",
       "7    AAPL 2019-10-04  56.014454  56.752499  56.872501  55.972500  56.410000   \n",
       "8    AAPL 2019-10-07  56.026794  56.764999  57.482498  56.459999  56.567501   \n",
       "9    AAPL 2019-10-08  55.370438  56.099998  57.014999  56.082500  56.455002   \n",
       "10   AAPL 2019-10-09  56.019390  56.757500  56.947498  56.410000  56.757500   \n",
       "11   AAPL 2019-10-10  56.774445  57.522499  57.610001  56.825001  56.982498   \n",
       "12   AAPL 2019-10-11  58.284546  59.052502  59.410000  58.077499  58.237499   \n",
       "13   AAPL 2019-10-14  58.200645  58.967499  59.532501  58.667500  58.724998   \n",
       "14   AAPL 2019-10-15  58.064941  58.830002  59.412498  58.720001  59.097500   \n",
       "15   AAPL 2019-10-16  57.830528  58.592499  58.810001  58.299999  58.342499   \n",
       "16   AAPL 2019-10-17  58.055065  58.820000  59.037498  58.380001  58.772499   \n",
       "17   AAPL 2019-10-18  58.333900  59.102501  59.395000  58.572498  58.647499   \n",
       "18   AAPL 2019-10-21  59.345562  60.127499  60.247501  59.330002  59.380001   \n",
       "19   AAPL 2019-10-22  59.209858  59.990002  60.549999  59.904999  60.290001   \n",
       "20   AAPL 2019-10-23  60.004383  60.794998  60.810001  60.305000  60.525002   \n",
       "21   AAPL 2019-10-24  60.103081  60.895000  61.200001  60.452499  61.127499   \n",
       "22   AAPL 2019-10-25  60.843334  61.645000  61.682499  60.720001  60.790001   \n",
       "23   AAPL 2019-10-28  61.452797  62.262501  62.312500  61.680000  61.855000   \n",
       "24   AAPL 2019-10-29  60.031528  60.822498  62.437500  60.642502  62.242500   \n",
       "25   AAPL 2019-10-30  60.024124  60.814999  61.325001  60.302502  61.189999   \n",
       "26   AAPL 2019-10-31  61.381241  62.189999  62.292500  59.314999  61.810001   \n",
       "27   AAPL 2019-11-01  63.123295  63.955002  63.982498  62.290001  62.384998   \n",
       "28   AAPL 2019-11-04  63.537827  64.375000  64.462502  63.845001  64.332497   \n",
       "29   AAPL 2019-11-05  63.446533  64.282501  64.547501  64.080002  64.262497   \n",
       "\n",
       "         Volume  \n",
       "0    87613600.0  \n",
       "1    75334000.0  \n",
       "2   101408000.0  \n",
       "3   103909600.0  \n",
       "4   139223200.0  \n",
       "5   138449200.0  \n",
       "6   114426000.0  \n",
       "7   138478800.0  \n",
       "8   122306000.0  \n",
       "9   111820000.0  \n",
       "10   74770400.0  \n",
       "11  113013600.0  \n",
       "12  166795600.0  \n",
       "13   96427600.0  \n",
       "14   87360000.0  \n",
       "15   73903200.0  \n",
       "16   67585200.0  \n",
       "17   97433600.0  \n",
       "18   87247200.0  \n",
       "19   82293600.0  \n",
       "20   75828800.0  \n",
       "21   69275200.0  \n",
       "22   73477200.0  \n",
       "23   96572800.0  \n",
       "24  142839600.0  \n",
       "25  124522000.0  \n",
       "26  139162000.0  \n",
       "27  151125200.0  \n",
       "28  103272000.0  \n",
       "29   79897600.0  "
      ],
      "text/html": "<div>\n<style scoped>\n    .dataframe tbody tr th:only-of-type {\n        vertical-align: middle;\n    }\n\n    .dataframe tbody tr th {\n        vertical-align: top;\n    }\n\n    .dataframe thead th {\n        text-align: right;\n    }\n</style>\n<table border=\"1\" class=\"dataframe\">\n  <thead>\n    <tr style=\"text-align: right;\">\n      <th></th>\n      <th>Ticker</th>\n      <th>Date</th>\n      <th>Adj Close</th>\n      <th>Close</th>\n      <th>High</th>\n      <th>Low</th>\n      <th>Open</th>\n      <th>Volume</th>\n    </tr>\n  </thead>\n  <tbody>\n    <tr>\n      <th>0</th>\n      <td>AAPL</td>\n      <td>2019-09-25</td>\n      <td>54.538898</td>\n      <td>55.257500</td>\n      <td>55.375000</td>\n      <td>54.285000</td>\n      <td>54.637501</td>\n      <td>87613600.0</td>\n    </tr>\n    <tr>\n      <th>1</th>\n      <td>AAPL</td>\n      <td>2019-09-26</td>\n      <td>54.257603</td>\n      <td>54.972500</td>\n      <td>55.235001</td>\n      <td>54.707500</td>\n      <td>55.000000</td>\n      <td>75334000.0</td>\n    </tr>\n    <tr>\n      <th>2</th>\n      <td>AAPL</td>\n      <td>2019-09-27</td>\n      <td>53.993587</td>\n      <td>54.705002</td>\n      <td>55.240002</td>\n      <td>54.320000</td>\n      <td>55.134998</td>\n      <td>101408000.0</td>\n    </tr>\n    <tr>\n      <th>3</th>\n      <td>AAPL</td>\n      <td>2019-09-30</td>\n      <td>55.264339</td>\n      <td>55.992500</td>\n      <td>56.145000</td>\n      <td>55.197498</td>\n      <td>55.224998</td>\n      <td>103909600.0</td>\n    </tr>\n    <tr>\n      <th>4</th>\n      <td>AAPL</td>\n      <td>2019-10-01</td>\n      <td>55.417320</td>\n      <td>56.147499</td>\n      <td>57.055000</td>\n      <td>56.049999</td>\n      <td>56.267502</td>\n      <td>139223200.0</td>\n    </tr>\n    <tr>\n      <th>5</th>\n      <td>AAPL</td>\n      <td>2019-10-02</td>\n      <td>54.028126</td>\n      <td>54.740002</td>\n      <td>55.895000</td>\n      <td>54.482498</td>\n      <td>55.764999</td>\n      <td>138449200.0</td>\n    </tr>\n    <tr>\n      <th>6</th>\n      <td>AAPL</td>\n      <td>2019-10-03</td>\n      <td>54.487080</td>\n      <td>55.205002</td>\n      <td>55.240002</td>\n      <td>53.782501</td>\n      <td>54.607498</td>\n      <td>114426000.0</td>\n    </tr>\n    <tr>\n      <th>7</th>\n      <td>AAPL</td>\n      <td>2019-10-04</td>\n      <td>56.014454</td>\n      <td>56.752499</td>\n      <td>56.872501</td>\n      <td>55.972500</td>\n      <td>56.410000</td>\n      <td>138478800.0</td>\n    </tr>\n    <tr>\n      <th>8</th>\n      <td>AAPL</td>\n      <td>2019-10-07</td>\n      <td>56.026794</td>\n      <td>56.764999</td>\n      <td>57.482498</td>\n      <td>56.459999</td>\n      <td>56.567501</td>\n      <td>122306000.0</td>\n    </tr>\n    <tr>\n      <th>9</th>\n      <td>AAPL</td>\n      <td>2019-10-08</td>\n      <td>55.370438</td>\n      <td>56.099998</td>\n      <td>57.014999</td>\n      <td>56.082500</td>\n      <td>56.455002</td>\n      <td>111820000.0</td>\n    </tr>\n    <tr>\n      <th>10</th>\n      <td>AAPL</td>\n      <td>2019-10-09</td>\n      <td>56.019390</td>\n      <td>56.757500</td>\n      <td>56.947498</td>\n      <td>56.410000</td>\n      <td>56.757500</td>\n      <td>74770400.0</td>\n    </tr>\n    <tr>\n      <th>11</th>\n      <td>AAPL</td>\n      <td>2019-10-10</td>\n      <td>56.774445</td>\n      <td>57.522499</td>\n      <td>57.610001</td>\n      <td>56.825001</td>\n      <td>56.982498</td>\n      <td>113013600.0</td>\n    </tr>\n    <tr>\n      <th>12</th>\n      <td>AAPL</td>\n      <td>2019-10-11</td>\n      <td>58.284546</td>\n      <td>59.052502</td>\n      <td>59.410000</td>\n      <td>58.077499</td>\n      <td>58.237499</td>\n      <td>166795600.0</td>\n    </tr>\n    <tr>\n      <th>13</th>\n      <td>AAPL</td>\n      <td>2019-10-14</td>\n      <td>58.200645</td>\n      <td>58.967499</td>\n      <td>59.532501</td>\n      <td>58.667500</td>\n      <td>58.724998</td>\n      <td>96427600.0</td>\n    </tr>\n    <tr>\n      <th>14</th>\n      <td>AAPL</td>\n      <td>2019-10-15</td>\n      <td>58.064941</td>\n      <td>58.830002</td>\n      <td>59.412498</td>\n      <td>58.720001</td>\n      <td>59.097500</td>\n      <td>87360000.0</td>\n    </tr>\n    <tr>\n      <th>15</th>\n      <td>AAPL</td>\n      <td>2019-10-16</td>\n      <td>57.830528</td>\n      <td>58.592499</td>\n      <td>58.810001</td>\n      <td>58.299999</td>\n      <td>58.342499</td>\n      <td>73903200.0</td>\n    </tr>\n    <tr>\n      <th>16</th>\n      <td>AAPL</td>\n      <td>2019-10-17</td>\n      <td>58.055065</td>\n      <td>58.820000</td>\n      <td>59.037498</td>\n      <td>58.380001</td>\n      <td>58.772499</td>\n      <td>67585200.0</td>\n    </tr>\n    <tr>\n      <th>17</th>\n      <td>AAPL</td>\n      <td>2019-10-18</td>\n      <td>58.333900</td>\n      <td>59.102501</td>\n      <td>59.395000</td>\n      <td>58.572498</td>\n      <td>58.647499</td>\n      <td>97433600.0</td>\n    </tr>\n    <tr>\n      <th>18</th>\n      <td>AAPL</td>\n      <td>2019-10-21</td>\n      <td>59.345562</td>\n      <td>60.127499</td>\n      <td>60.247501</td>\n      <td>59.330002</td>\n      <td>59.380001</td>\n      <td>87247200.0</td>\n    </tr>\n    <tr>\n      <th>19</th>\n      <td>AAPL</td>\n      <td>2019-10-22</td>\n      <td>59.209858</td>\n      <td>59.990002</td>\n      <td>60.549999</td>\n      <td>59.904999</td>\n      <td>60.290001</td>\n      <td>82293600.0</td>\n    </tr>\n    <tr>\n      <th>20</th>\n      <td>AAPL</td>\n      <td>2019-10-23</td>\n      <td>60.004383</td>\n      <td>60.794998</td>\n      <td>60.810001</td>\n      <td>60.305000</td>\n      <td>60.525002</td>\n      <td>75828800.0</td>\n    </tr>\n    <tr>\n      <th>21</th>\n      <td>AAPL</td>\n      <td>2019-10-24</td>\n      <td>60.103081</td>\n      <td>60.895000</td>\n      <td>61.200001</td>\n      <td>60.452499</td>\n      <td>61.127499</td>\n      <td>69275200.0</td>\n    </tr>\n    <tr>\n      <th>22</th>\n      <td>AAPL</td>\n      <td>2019-10-25</td>\n      <td>60.843334</td>\n      <td>61.645000</td>\n      <td>61.682499</td>\n      <td>60.720001</td>\n      <td>60.790001</td>\n      <td>73477200.0</td>\n    </tr>\n    <tr>\n      <th>23</th>\n      <td>AAPL</td>\n      <td>2019-10-28</td>\n      <td>61.452797</td>\n      <td>62.262501</td>\n      <td>62.312500</td>\n      <td>61.680000</td>\n      <td>61.855000</td>\n      <td>96572800.0</td>\n    </tr>\n    <tr>\n      <th>24</th>\n      <td>AAPL</td>\n      <td>2019-10-29</td>\n      <td>60.031528</td>\n      <td>60.822498</td>\n      <td>62.437500</td>\n      <td>60.642502</td>\n      <td>62.242500</td>\n      <td>142839600.0</td>\n    </tr>\n    <tr>\n      <th>25</th>\n      <td>AAPL</td>\n      <td>2019-10-30</td>\n      <td>60.024124</td>\n      <td>60.814999</td>\n      <td>61.325001</td>\n      <td>60.302502</td>\n      <td>61.189999</td>\n      <td>124522000.0</td>\n    </tr>\n    <tr>\n      <th>26</th>\n      <td>AAPL</td>\n      <td>2019-10-31</td>\n      <td>61.381241</td>\n      <td>62.189999</td>\n      <td>62.292500</td>\n      <td>59.314999</td>\n      <td>61.810001</td>\n      <td>139162000.0</td>\n    </tr>\n    <tr>\n      <th>27</th>\n      <td>AAPL</td>\n      <td>2019-11-01</td>\n      <td>63.123295</td>\n      <td>63.955002</td>\n      <td>63.982498</td>\n      <td>62.290001</td>\n      <td>62.384998</td>\n      <td>151125200.0</td>\n    </tr>\n    <tr>\n      <th>28</th>\n      <td>AAPL</td>\n      <td>2019-11-04</td>\n      <td>63.537827</td>\n      <td>64.375000</td>\n      <td>64.462502</td>\n      <td>63.845001</td>\n      <td>64.332497</td>\n      <td>103272000.0</td>\n    </tr>\n    <tr>\n      <th>29</th>\n      <td>AAPL</td>\n      <td>2019-11-05</td>\n      <td>63.446533</td>\n      <td>64.282501</td>\n      <td>64.547501</td>\n      <td>64.080002</td>\n      <td>64.262497</td>\n      <td>79897600.0</td>\n    </tr>\n  </tbody>\n</table>\n</div>"
     },
     "metadata": {},
     "execution_count": 37
    }
   ],
   "source": [
    "df.head(30)"
   ]
  },
  {
   "cell_type": "code",
   "execution_count": 38,
   "id": "furnished-activity",
   "metadata": {},
   "outputs": [],
   "source": [
    "# df[df['Ticker']=='AAPL']"
   ]
  },
  {
   "cell_type": "code",
   "execution_count": 39,
   "id": "excessive-collaboration",
   "metadata": {},
   "outputs": [],
   "source": [
    "# df[df['Close']>126]"
   ]
  },
  {
   "cell_type": "code",
   "execution_count": 40,
   "id": "given-keeping",
   "metadata": {},
   "outputs": [
    {
     "output_type": "execute_result",
     "data": {
      "text/plain": [
       "      Ticker       Date   Adj Close       Close        High         Low  \\\n",
       "0       AAPL 2019-09-25   54.538898   55.257500   55.375000   54.285000   \n",
       "1       AAPL 2019-09-26   54.257603   54.972500   55.235001   54.707500   \n",
       "2       AAPL 2019-09-27   53.993587   54.705002   55.240002   54.320000   \n",
       "3       AAPL 2019-09-30   55.264339   55.992500   56.145000   55.197498   \n",
       "4       AAPL 2019-10-01   55.417320   56.147499   57.055000   56.049999   \n",
       "...      ...        ...         ...         ...         ...         ...   \n",
       "35400     ZS 2021-03-02  202.610001  202.610001  212.000000  202.270004   \n",
       "35401     ZS 2021-03-03  187.830002  187.830002  202.119995  187.460007   \n",
       "35402     ZS 2021-03-04  180.899994  180.899994  190.960007  175.679993   \n",
       "35403     ZS 2021-03-05  175.369995  175.369995  185.539993  165.570007   \n",
       "35404     ZS 2021-03-08  167.839996  167.839996  181.699997  166.886002   \n",
       "\n",
       "             Open       Volume          HH          LL            AV  \\\n",
       "0       54.637501   87613600.0   55.375000   54.285000  8.761360e+07   \n",
       "1       55.000000   75334000.0   55.375000   54.285000  8.147380e+07   \n",
       "2       55.134998  101408000.0   55.375000   54.285000  8.811853e+07   \n",
       "3       55.224998  103909600.0   56.145000   54.285000  9.206630e+07   \n",
       "4       56.267502  139223200.0   57.055000   54.285000  1.014977e+08   \n",
       "...           ...          ...         ...         ...           ...   \n",
       "35400  212.000000    1788600.0  230.880997  190.600006  1.953060e+06   \n",
       "35401  202.110001    2702900.0  230.880997  187.460007  1.993580e+06   \n",
       "35402  184.330002    3171400.0  230.880997  175.679993  2.032355e+06   \n",
       "35403  185.539993    3940900.0  230.880997  165.570007  2.167605e+06   \n",
       "35404  175.759995    2729100.0  230.880997  165.570007  2.203170e+06   \n",
       "\n",
       "              SMA         SD      WILLR        ATR        DMH        DML  \n",
       "0       55.257500        NaN -10.779843   1.090000   0.000000   0.000000  \n",
       "1       55.115000   0.201525 -49.763163   0.820000  -0.139999   0.422501  \n",
       "2       54.978334   0.276295 -58.152032   0.853334   0.005001  -0.387501  \n",
       "3       55.231875   0.555001 -16.094967   1.000000   0.904999   0.877499  \n",
       "4       55.415000   0.631421 -90.298533   1.012500   0.910000   0.852501  \n",
       "...           ...        ...        ...        ...        ...        ...  \n",
       "35400  215.217999   8.754183 -96.505689  10.832150   0.860001   0.090012  \n",
       "35401  213.773999  10.667837 -97.476157  10.941150  -9.880005 -14.809998  \n",
       "35402  212.340999  12.945482 -65.837720  11.147601 -11.159988 -11.780014  \n",
       "35403  210.421999  15.347455 -50.926416  11.800350  -5.420013 -10.109985  \n",
       "35404  207.974998  17.959589 -93.560179  12.135550  -3.839996   1.315994  \n",
       "\n",
       "[35405 rows x 17 columns]"
      ],
      "text/html": "<div>\n<style scoped>\n    .dataframe tbody tr th:only-of-type {\n        vertical-align: middle;\n    }\n\n    .dataframe tbody tr th {\n        vertical-align: top;\n    }\n\n    .dataframe thead th {\n        text-align: right;\n    }\n</style>\n<table border=\"1\" class=\"dataframe\">\n  <thead>\n    <tr style=\"text-align: right;\">\n      <th></th>\n      <th>Ticker</th>\n      <th>Date</th>\n      <th>Adj Close</th>\n      <th>Close</th>\n      <th>High</th>\n      <th>Low</th>\n      <th>Open</th>\n      <th>Volume</th>\n      <th>HH</th>\n      <th>LL</th>\n      <th>AV</th>\n      <th>SMA</th>\n      <th>SD</th>\n      <th>WILLR</th>\n      <th>ATR</th>\n      <th>DMH</th>\n      <th>DML</th>\n    </tr>\n  </thead>\n  <tbody>\n    <tr>\n      <th>0</th>\n      <td>AAPL</td>\n      <td>2019-09-25</td>\n      <td>54.538898</td>\n      <td>55.257500</td>\n      <td>55.375000</td>\n      <td>54.285000</td>\n      <td>54.637501</td>\n      <td>87613600.0</td>\n      <td>55.375000</td>\n      <td>54.285000</td>\n      <td>8.761360e+07</td>\n      <td>55.257500</td>\n      <td>NaN</td>\n      <td>-10.779843</td>\n      <td>1.090000</td>\n      <td>0.000000</td>\n      <td>0.000000</td>\n    </tr>\n    <tr>\n      <th>1</th>\n      <td>AAPL</td>\n      <td>2019-09-26</td>\n      <td>54.257603</td>\n      <td>54.972500</td>\n      <td>55.235001</td>\n      <td>54.707500</td>\n      <td>55.000000</td>\n      <td>75334000.0</td>\n      <td>55.375000</td>\n      <td>54.285000</td>\n      <td>8.147380e+07</td>\n      <td>55.115000</td>\n      <td>0.201525</td>\n      <td>-49.763163</td>\n      <td>0.820000</td>\n      <td>-0.139999</td>\n      <td>0.422501</td>\n    </tr>\n    <tr>\n      <th>2</th>\n      <td>AAPL</td>\n      <td>2019-09-27</td>\n      <td>53.993587</td>\n      <td>54.705002</td>\n      <td>55.240002</td>\n      <td>54.320000</td>\n      <td>55.134998</td>\n      <td>101408000.0</td>\n      <td>55.375000</td>\n      <td>54.285000</td>\n      <td>8.811853e+07</td>\n      <td>54.978334</td>\n      <td>0.276295</td>\n      <td>-58.152032</td>\n      <td>0.853334</td>\n      <td>0.005001</td>\n      <td>-0.387501</td>\n    </tr>\n    <tr>\n      <th>3</th>\n      <td>AAPL</td>\n      <td>2019-09-30</td>\n      <td>55.264339</td>\n      <td>55.992500</td>\n      <td>56.145000</td>\n      <td>55.197498</td>\n      <td>55.224998</td>\n      <td>103909600.0</td>\n      <td>56.145000</td>\n      <td>54.285000</td>\n      <td>9.206630e+07</td>\n      <td>55.231875</td>\n      <td>0.555001</td>\n      <td>-16.094967</td>\n      <td>1.000000</td>\n      <td>0.904999</td>\n      <td>0.877499</td>\n    </tr>\n    <tr>\n      <th>4</th>\n      <td>AAPL</td>\n      <td>2019-10-01</td>\n      <td>55.417320</td>\n      <td>56.147499</td>\n      <td>57.055000</td>\n      <td>56.049999</td>\n      <td>56.267502</td>\n      <td>139223200.0</td>\n      <td>57.055000</td>\n      <td>54.285000</td>\n      <td>1.014977e+08</td>\n      <td>55.415000</td>\n      <td>0.631421</td>\n      <td>-90.298533</td>\n      <td>1.012500</td>\n      <td>0.910000</td>\n      <td>0.852501</td>\n    </tr>\n    <tr>\n      <th>...</th>\n      <td>...</td>\n      <td>...</td>\n      <td>...</td>\n      <td>...</td>\n      <td>...</td>\n      <td>...</td>\n      <td>...</td>\n      <td>...</td>\n      <td>...</td>\n      <td>...</td>\n      <td>...</td>\n      <td>...</td>\n      <td>...</td>\n      <td>...</td>\n      <td>...</td>\n      <td>...</td>\n      <td>...</td>\n    </tr>\n    <tr>\n      <th>35400</th>\n      <td>ZS</td>\n      <td>2021-03-02</td>\n      <td>202.610001</td>\n      <td>202.610001</td>\n      <td>212.000000</td>\n      <td>202.270004</td>\n      <td>212.000000</td>\n      <td>1788600.0</td>\n      <td>230.880997</td>\n      <td>190.600006</td>\n      <td>1.953060e+06</td>\n      <td>215.217999</td>\n      <td>8.754183</td>\n      <td>-96.505689</td>\n      <td>10.832150</td>\n      <td>0.860001</td>\n      <td>0.090012</td>\n    </tr>\n    <tr>\n      <th>35401</th>\n      <td>ZS</td>\n      <td>2021-03-03</td>\n      <td>187.830002</td>\n      <td>187.830002</td>\n      <td>202.119995</td>\n      <td>187.460007</td>\n      <td>202.110001</td>\n      <td>2702900.0</td>\n      <td>230.880997</td>\n      <td>187.460007</td>\n      <td>1.993580e+06</td>\n      <td>213.773999</td>\n      <td>10.667837</td>\n      <td>-97.476157</td>\n      <td>10.941150</td>\n      <td>-9.880005</td>\n      <td>-14.809998</td>\n    </tr>\n    <tr>\n      <th>35402</th>\n      <td>ZS</td>\n      <td>2021-03-04</td>\n      <td>180.899994</td>\n      <td>180.899994</td>\n      <td>190.960007</td>\n      <td>175.679993</td>\n      <td>184.330002</td>\n      <td>3171400.0</td>\n      <td>230.880997</td>\n      <td>175.679993</td>\n      <td>2.032355e+06</td>\n      <td>212.340999</td>\n      <td>12.945482</td>\n      <td>-65.837720</td>\n      <td>11.147601</td>\n      <td>-11.159988</td>\n      <td>-11.780014</td>\n    </tr>\n    <tr>\n      <th>35403</th>\n      <td>ZS</td>\n      <td>2021-03-05</td>\n      <td>175.369995</td>\n      <td>175.369995</td>\n      <td>185.539993</td>\n      <td>165.570007</td>\n      <td>185.539993</td>\n      <td>3940900.0</td>\n      <td>230.880997</td>\n      <td>165.570007</td>\n      <td>2.167605e+06</td>\n      <td>210.421999</td>\n      <td>15.347455</td>\n      <td>-50.926416</td>\n      <td>11.800350</td>\n      <td>-5.420013</td>\n      <td>-10.109985</td>\n    </tr>\n    <tr>\n      <th>35404</th>\n      <td>ZS</td>\n      <td>2021-03-08</td>\n      <td>167.839996</td>\n      <td>167.839996</td>\n      <td>181.699997</td>\n      <td>166.886002</td>\n      <td>175.759995</td>\n      <td>2729100.0</td>\n      <td>230.880997</td>\n      <td>165.570007</td>\n      <td>2.203170e+06</td>\n      <td>207.974998</td>\n      <td>17.959589</td>\n      <td>-93.560179</td>\n      <td>12.135550</td>\n      <td>-3.839996</td>\n      <td>1.315994</td>\n    </tr>\n  </tbody>\n</table>\n<p>35405 rows × 17 columns</p>\n</div>"
     },
     "metadata": {},
     "execution_count": 40
    }
   ],
   "source": [
    "# compute all our technical markers for each of the stocks. \n",
    "df.groupby('Ticker').apply(add_technical_markers)"
   ]
  },
  {
   "cell_type": "code",
   "execution_count": 41,
   "id": "olive-cassette",
   "metadata": {},
   "outputs": [],
   "source": [
    "stocks = [pd.DataFrame(d) for d in df.groupby(\"Ticker\")]"
   ]
  },
  {
   "cell_type": "code",
   "execution_count": 42,
   "id": "seeing-celebration",
   "metadata": {},
   "outputs": [
    {
     "output_type": "execute_result",
     "data": {
      "text/plain": [
       "                                                   0\n",
       "0                                                ACN\n",
       "1      Ticker       Date   Adj Close       Close ..."
      ],
      "text/html": "<div>\n<style scoped>\n    .dataframe tbody tr th:only-of-type {\n        vertical-align: middle;\n    }\n\n    .dataframe tbody tr th {\n        vertical-align: top;\n    }\n\n    .dataframe thead th {\n        text-align: right;\n    }\n</style>\n<table border=\"1\" class=\"dataframe\">\n  <thead>\n    <tr style=\"text-align: right;\">\n      <th></th>\n      <th>0</th>\n    </tr>\n  </thead>\n  <tbody>\n    <tr>\n      <th>0</th>\n      <td>ACN</td>\n    </tr>\n    <tr>\n      <th>1</th>\n      <td>Ticker       Date   Adj Close       Close ...</td>\n    </tr>\n  </tbody>\n</table>\n</div>"
     },
     "metadata": {},
     "execution_count": 42
    }
   ],
   "source": [
    "stocks[1]"
   ]
  },
  {
   "cell_type": "code",
   "execution_count": null,
   "id": "close-general",
   "metadata": {},
   "outputs": [],
   "source": []
  }
 ],
 "metadata": {
  "kernelspec": {
   "display_name": "Python 3",
   "language": "python",
   "name": "python3"
  },
  "language_info": {
   "codemirror_mode": {
    "name": "ipython",
    "version": 3
   },
   "file_extension": ".py",
   "mimetype": "text/x-python",
   "name": "python",
   "nbconvert_exporter": "python",
   "pygments_lexer": "ipython3",
   "version": "3.8.5-final"
  }
 },
 "nbformat": 4,
 "nbformat_minor": 5
}