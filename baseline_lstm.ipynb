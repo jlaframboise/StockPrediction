{
 "cells": [
  {
   "cell_type": "markdown",
   "id": "cardiac-marijuana",
   "metadata": {},
   "source": [
    "### Imports"
   ]
  },
  {
   "cell_type": "code",
   "execution_count": 1,
   "id": "bored-abraham",
   "metadata": {},
   "outputs": [
    {
     "data": {
      "text/html": [
       "<style>.container { width:100% !important; }</style>"
      ],
      "text/plain": [
       "<IPython.core.display.HTML object>"
      ]
     },
     "metadata": {},
     "output_type": "display_data"
    }
   ],
   "source": [
    "import os, sys\n",
    "import pandas as pd\n",
    "import numpy as np\n",
    "import yfinance as yf\n",
    "import matplotlib.pyplot as plt\n",
    "import seaborn as sns\n",
    "import random\n",
    "\n",
    "import tensorflow as tf\n",
    "from tensorflow.keras import Input, Model\n",
    "from tensorflow.keras.models import Sequential\n",
    "from tensorflow.keras.layers import *\n",
    "from tensorflow.keras.losses import CategoricalCrossentropy\n",
    "from tensorflow.keras.utils import to_categorical, plot_model\n",
    "from tensorflow.keras.preprocessing.sequence import TimeseriesGenerator\n",
    "from sklearn.metrics import confusion_matrix, mean_squared_error\n",
    "from sklearn.feature_extraction.text import CountVectorizer\n",
    "from sklearn.preprocessing import StandardScaler, MinMaxScaler, RobustScaler\n",
    "\n",
    "from time import time\n",
    "from tensorflow.python.keras.callbacks import TensorBoard\n",
    "\n",
    "from indicators import *\n",
    "from data_loading import *\n",
    "from util_functions import *\n",
    "\n",
    "\n",
    "physical_devices = tf.config.list_physical_devices('GPU')\n",
    "tf.config.experimental.set_memory_growth(physical_devices[0], enable=True)\n",
    "\n",
    "from IPython.core.display import display, HTML\n",
    "display(HTML(\"<style>.container { width:100% !important; }</style>\"))\n",
    "\n",
    "pd.set_option('display.max_rows', 500)\n",
    "pd.set_option('display.max_columns', 500)\n",
    "pd.set_option('display.width', 1000)\n"
   ]
  },
  {
   "cell_type": "markdown",
   "id": "approved-battlefield",
   "metadata": {},
   "source": [
    "### Parameters"
   ]
  },
  {
   "cell_type": "code",
   "execution_count": 2,
   "id": "engaged-november",
   "metadata": {},
   "outputs": [],
   "source": [
    "trail_size=14\n",
    "predict_length = 5\n",
    "time_period = '4y'"
   ]
  },
  {
   "cell_type": "markdown",
   "id": "literary-morgan",
   "metadata": {},
   "source": [
    "### Load data"
   ]
  },
  {
   "cell_type": "code",
   "execution_count": 3,
   "id": "beginning-comparison",
   "metadata": {},
   "outputs": [],
   "source": [
    "top100tech = ['AAPL', 'MSFT', 'TSM', 'NVDA', 'INTC', 'ASML', 'ADBE', 'CRM', 'AVGO', 'ORCL', 'CSCO', 'ACN', 'TXN', 'SHOP', 'QCOM', 'SAP', 'SNE', 'AMAT', 'INTU', 'NOW', 'SQ', 'IBM', 'MU', 'AMD',\n",
    "'UBER', 'FIS', 'LRCX', 'FISV', 'SNOW', 'INFY', 'TEAM', 'ADSK', 'DELL', 'WDAY', 'VMW', 'ADI', 'NXPI', 'KLAC',\n",
    "'CRWD', 'PLTR', 'DOCU', 'TEL', 'ERIC', 'MCHP', 'CDNS', 'CTSH', 'APH', 'SNPS', 'HPQ',\n",
    "'PANW', 'OKTA','RNG','STM','MRVL','XLNX','WIT','MSI','SWKS','GLW','DDOG','ANSS','U','ZS','FTNT','STNE','ZBRA','KEYS','FTV','MXIM','COUP','GRMN','SPLK','HUBS','WORK','NET','FLT','CDW','CAJ','AFRM','PAYC','TER',\n",
    "'VRSN','WDC', 'ZI', 'UMC','ANET','EPAM', 'UI','XM',\n",
    "'GIB','TRMB', 'TYL','WIX','HPE','LYFT', 'LOGI', 'MPWR']\n",
    "top10tech = top100tech[:10]"
   ]
  },
  {
   "cell_type": "code",
   "execution_count": 4,
   "id": "devoted-wages",
   "metadata": {},
   "outputs": [
    {
     "name": "stdout",
     "output_type": "stream",
     "text": [
      "[*********************100%***********************]  10 of 10 completed\n"
     ]
    }
   ],
   "source": [
    "data = get_data_yf(top10tech, time_period)"
   ]
  },
  {
   "cell_type": "code",
   "execution_count": 5,
   "id": "vanilla-swiss",
   "metadata": {},
   "outputs": [],
   "source": [
    "data = process_stock_data_from_yf(data)"
   ]
  },
  {
   "cell_type": "code",
   "execution_count": 6,
   "id": "harmful-shield",
   "metadata": {},
   "outputs": [],
   "source": [
    "has_data_ratio, data = filter_has_all_data(data)"
   ]
  },
  {
   "cell_type": "markdown",
   "id": "warming-specific",
   "metadata": {},
   "source": [
    "### Compute technical indicators"
   ]
  },
  {
   "cell_type": "code",
   "execution_count": 7,
   "id": "cooked-dutch",
   "metadata": {},
   "outputs": [],
   "source": [
    "# compute all our technical markers for each of the stocks. \n",
    "dataset = data.groupby('Ticker').apply(lambda x: add_technical_markers(x, trail_size))"
   ]
  },
  {
   "cell_type": "markdown",
   "id": "distributed-health",
   "metadata": {},
   "source": [
    "### Filter to one stock"
   ]
  },
  {
   "cell_type": "code",
   "execution_count": 8,
   "id": "outer-fitting",
   "metadata": {},
   "outputs": [],
   "source": [
    "dataset = dataset.loc[dataset['Ticker']=='MSFT']"
   ]
  },
  {
   "cell_type": "markdown",
   "id": "interesting-outdoors",
   "metadata": {},
   "source": [
    "### Choose features"
   ]
  },
  {
   "cell_type": "code",
   "execution_count": 9,
   "id": "medical-directive",
   "metadata": {},
   "outputs": [],
   "source": [
    "features = ['Close', 'High',\n",
    " 'Low', 'Open', 'Volume', ]\n",
    "#  'HH', 'LL', 'AV',\n",
    "#  'SMA', 'SD', 'WILLR',\n",
    "#  'ATR', 'DMH', 'DML',\n",
    "#  'EMA', 'WMA', 'BBHIGH',\n",
    "#  'BBLOW', 'PERBHIGH', 'PERBLOW',\n",
    "#  'TRIMA', 'RSI', 'DX',\n",
    "#  'PDI', 'NDI', 'ADX',\n",
    "#  'ROC', 'MACD', 'CCI']\n",
    "dataset = dataset[['Ticker', 'Date'] + features]\n",
    "num_features = len(features)"
   ]
  },
  {
   "cell_type": "markdown",
   "id": "alien-rogers",
   "metadata": {},
   "source": [
    "### Normalization\n",
    "We want to normalize the prices, and there are two challenges\n",
    "1. We want to be able to recover performance metrics like RMSE in dollars, so we have to have the saved transforms for closing price to un transform after prediction. \n",
    "2. We will want to normalize the data within each year, because the stock will tend to have different averages in different years\n",
    "3. We will want to normalize each different company differently, because the stocks will be of differing magnitudes"
   ]
  },
  {
   "cell_type": "code",
   "execution_count": 10,
   "id": "novel-shopping",
   "metadata": {},
   "outputs": [],
   "source": [
    "sc = RobustScaler()\n",
    "dataset[features] = sc.fit_transform(dataset[features])"
   ]
  },
  {
   "cell_type": "markdown",
   "id": "friendly-hampton",
   "metadata": {},
   "source": [
    "### Train test split"
   ]
  },
  {
   "cell_type": "code",
   "execution_count": 11,
   "id": "pacific-escape",
   "metadata": {},
   "outputs": [],
   "source": [
    "train = dataset.loc[dataset['Date'] < \"2020-03-13\"]\n",
    "test = dataset.loc[dataset['Date'] > \"2020-03-13\"]"
   ]
  },
  {
   "cell_type": "markdown",
   "id": "korean-swing",
   "metadata": {},
   "source": [
    "#### Prepare training inputs and outputs"
   ]
  },
  {
   "cell_type": "code",
   "execution_count": 12,
   "id": "supported-webmaster",
   "metadata": {},
   "outputs": [],
   "source": [
    "x_train, y_train = roll_all_stocks(train, trail_size, predict_length)"
   ]
  },
  {
   "cell_type": "code",
   "execution_count": 13,
   "id": "diverse-silver",
   "metadata": {},
   "outputs": [],
   "source": [
    "x_test, y_test = roll_all_stocks(test, trail_size, predict_length)"
   ]
  },
  {
   "cell_type": "markdown",
   "id": "funded-frequency",
   "metadata": {},
   "source": [
    "#### Confirm shapes"
   ]
  },
  {
   "cell_type": "code",
   "execution_count": 14,
   "id": "dominant-pilot",
   "metadata": {},
   "outputs": [
    {
     "name": "stdout",
     "output_type": "stream",
     "text": [
      "x_train: (733, 14, 5)\n",
      "y_train: (733,)\n",
      "x_test: (236, 14, 5)\n",
      "y_test (236,)\n"
     ]
    }
   ],
   "source": [
    "print(\"x_train: {}\".format(x_train.shape))\n",
    "print(\"y_train: {}\".format(y_train.shape))\n",
    "print(\"x_test: {}\".format(x_test.shape))\n",
    "print(\"y_test {}\".format(y_test.shape))"
   ]
  },
  {
   "cell_type": "markdown",
   "id": "round-contemporary",
   "metadata": {},
   "source": [
    "### Model design"
   ]
  },
  {
   "cell_type": "code",
   "execution_count": 15,
   "id": "removed-degree",
   "metadata": {},
   "outputs": [],
   "source": [
    "model = Sequential()\n",
    "model.add(LSTM(units=75, input_shape=(trail_size, num_features), return_sequences=True))\n",
    "model.add(Dropout(0.25))\n",
    "model.add(LSTM(units=30, return_sequences=True))\n",
    "model.add(Dropout(0.25))\n",
    "\n",
    "model.add(LSTM(units=30, return_sequences=True))\n",
    "model.add(Dropout(0.25))\n",
    "\n",
    "model.add(Flatten())\n",
    "# model.add(Dense(50, activation='relu'))\n",
    "# model.add(Dense(25, activation='relu'))\n",
    "model.add(Dense(1))"
   ]
  },
  {
   "cell_type": "code",
   "execution_count": 16,
   "id": "norman-rover",
   "metadata": {},
   "outputs": [
    {
     "name": "stdout",
     "output_type": "stream",
     "text": [
      "Model: \"sequential\"\n",
      "_________________________________________________________________\n",
      "Layer (type)                 Output Shape              Param #   \n",
      "=================================================================\n",
      "lstm (LSTM)                  (None, 14, 75)            24300     \n",
      "_________________________________________________________________\n",
      "dropout (Dropout)            (None, 14, 75)            0         \n",
      "_________________________________________________________________\n",
      "lstm_1 (LSTM)                (None, 14, 30)            12720     \n",
      "_________________________________________________________________\n",
      "dropout_1 (Dropout)          (None, 14, 30)            0         \n",
      "_________________________________________________________________\n",
      "lstm_2 (LSTM)                (None, 14, 30)            7320      \n",
      "_________________________________________________________________\n",
      "dropout_2 (Dropout)          (None, 14, 30)            0         \n",
      "_________________________________________________________________\n",
      "flatten (Flatten)            (None, 420)               0         \n",
      "_________________________________________________________________\n",
      "dense (Dense)                (None, 1)                 421       \n",
      "=================================================================\n",
      "Total params: 44,761\n",
      "Trainable params: 44,761\n",
      "Non-trainable params: 0\n",
      "_________________________________________________________________\n"
     ]
    }
   ],
   "source": [
    "model.summary()"
   ]
  },
  {
   "cell_type": "code",
   "execution_count": 17,
   "id": "hearing-greensboro",
   "metadata": {},
   "outputs": [],
   "source": [
    "tensorboard = TensorBoard(log_dir='logs/{}'.format(time()))"
   ]
  },
  {
   "cell_type": "code",
   "execution_count": 18,
   "id": "earned-beads",
   "metadata": {},
   "outputs": [],
   "source": [
    "model.compile(optimizer='adam', loss='mean_squared_error')"
   ]
  },
  {
   "cell_type": "code",
   "execution_count": 19,
   "id": "daily-angola",
   "metadata": {},
   "outputs": [
    {
     "name": "stdout",
     "output_type": "stream",
     "text": [
      "Epoch 1/80\n",
      "12/12 [==============================] - 7s 235ms/step - loss: 0.1603 - val_loss: 0.4598\n",
      "Epoch 2/80\n",
      "12/12 [==============================] - 0s 11ms/step - loss: 0.0222 - val_loss: 0.1743\n",
      "Epoch 3/80\n",
      "12/12 [==============================] - 0s 12ms/step - loss: 0.0243 - val_loss: 0.0581\n",
      "Epoch 4/80\n",
      "12/12 [==============================] - 0s 12ms/step - loss: 0.0092 - val_loss: 0.3554\n",
      "Epoch 5/80\n",
      "12/12 [==============================] - 0s 11ms/step - loss: 0.0077 - val_loss: 0.1586\n",
      "Epoch 6/80\n",
      "12/12 [==============================] - 0s 12ms/step - loss: 0.0065 - val_loss: 0.1339\n",
      "Epoch 7/80\n",
      "12/12 [==============================] - 0s 12ms/step - loss: 0.0093 - val_loss: 0.1211\n",
      "Epoch 8/80\n",
      "12/12 [==============================] - 0s 12ms/step - loss: 0.0048 - val_loss: 0.1518\n",
      "Epoch 9/80\n",
      "12/12 [==============================] - 0s 12ms/step - loss: 0.0053 - val_loss: 0.1019\n",
      "Epoch 10/80\n",
      "12/12 [==============================] - 0s 11ms/step - loss: 0.0048 - val_loss: 0.1290\n",
      "Epoch 11/80\n",
      "12/12 [==============================] - 0s 12ms/step - loss: 0.0047 - val_loss: 0.1072\n",
      "Epoch 12/80\n",
      "12/12 [==============================] - 0s 12ms/step - loss: 0.0053 - val_loss: 0.1193\n",
      "Epoch 13/80\n",
      "12/12 [==============================] - 0s 11ms/step - loss: 0.0043 - val_loss: 0.1077\n",
      "Epoch 14/80\n",
      "12/12 [==============================] - 0s 12ms/step - loss: 0.0044 - val_loss: 0.1122\n",
      "Epoch 15/80\n",
      "12/12 [==============================] - 0s 12ms/step - loss: 0.0042 - val_loss: 0.0946\n",
      "Epoch 16/80\n",
      "12/12 [==============================] - 0s 12ms/step - loss: 0.0052 - val_loss: 0.0867\n",
      "Epoch 17/80\n",
      "12/12 [==============================] - 0s 12ms/step - loss: 0.0040 - val_loss: 0.0787\n",
      "Epoch 18/80\n",
      "12/12 [==============================] - 0s 11ms/step - loss: 0.0051 - val_loss: 0.0629\n",
      "Epoch 19/80\n",
      "12/12 [==============================] - 0s 11ms/step - loss: 0.0040 - val_loss: 0.1511\n",
      "Epoch 20/80\n",
      "12/12 [==============================] - 0s 11ms/step - loss: 0.0091 - val_loss: 0.0565\n",
      "Epoch 21/80\n",
      "12/12 [==============================] - 0s 11ms/step - loss: 0.0119 - val_loss: 0.6160\n",
      "Epoch 22/80\n",
      "12/12 [==============================] - 0s 11ms/step - loss: 0.0099 - val_loss: 0.1358\n",
      "Epoch 23/80\n",
      "12/12 [==============================] - 0s 13ms/step - loss: 0.0228 - val_loss: 0.2807\n",
      "Epoch 24/80\n",
      "12/12 [==============================] - 0s 12ms/step - loss: 0.0368 - val_loss: 0.0512\n",
      "Epoch 25/80\n",
      "12/12 [==============================] - 0s 11ms/step - loss: 0.0162 - val_loss: 0.5693\n",
      "Epoch 26/80\n",
      "12/12 [==============================] - 0s 11ms/step - loss: 0.0320 - val_loss: 0.0926\n",
      "Epoch 27/80\n",
      "12/12 [==============================] - 0s 12ms/step - loss: 0.0168 - val_loss: 0.1658\n",
      "Epoch 28/80\n",
      "12/12 [==============================] - 0s 11ms/step - loss: 0.0269 - val_loss: 0.0421\n",
      "Epoch 29/80\n",
      "12/12 [==============================] - 0s 12ms/step - loss: 0.0052 - val_loss: 0.2495\n",
      "Epoch 30/80\n",
      "12/12 [==============================] - 0s 11ms/step - loss: 0.0081 - val_loss: 0.0733\n",
      "Epoch 31/80\n",
      "12/12 [==============================] - 0s 12ms/step - loss: 0.0052 - val_loss: 0.1295\n",
      "Epoch 32/80\n",
      "12/12 [==============================] - 0s 11ms/step - loss: 0.0068 - val_loss: 0.0828\n",
      "Epoch 33/80\n",
      "12/12 [==============================] - 0s 11ms/step - loss: 0.0045 - val_loss: 0.1115\n",
      "Epoch 34/80\n",
      "12/12 [==============================] - 0s 12ms/step - loss: 0.0051 - val_loss: 0.0754\n",
      "Epoch 35/80\n",
      "12/12 [==============================] - 0s 11ms/step - loss: 0.0035 - val_loss: 0.0930\n",
      "Epoch 36/80\n",
      "12/12 [==============================] - 0s 11ms/step - loss: 0.0051 - val_loss: 0.0723\n",
      "Epoch 37/80\n",
      "12/12 [==============================] - 0s 11ms/step - loss: 0.0039 - val_loss: 0.0944\n",
      "Epoch 38/80\n",
      "12/12 [==============================] - 0s 12ms/step - loss: 0.0047 - val_loss: 0.0597\n",
      "Epoch 39/80\n",
      "12/12 [==============================] - 0s 12ms/step - loss: 0.0033 - val_loss: 0.0862\n",
      "Epoch 40/80\n",
      "12/12 [==============================] - 0s 12ms/step - loss: 0.0043 - val_loss: 0.0623\n",
      "Epoch 41/80\n",
      "12/12 [==============================] - 0s 13ms/step - loss: 0.0036 - val_loss: 0.0898\n",
      "Epoch 42/80\n",
      "12/12 [==============================] - 0s 12ms/step - loss: 0.0046 - val_loss: 0.0540\n",
      "Epoch 43/80\n",
      "12/12 [==============================] - 0s 12ms/step - loss: 0.0033 - val_loss: 0.1017\n",
      "Epoch 44/80\n",
      "12/12 [==============================] - 0s 12ms/step - loss: 0.0046 - val_loss: 0.0541\n",
      "Epoch 45/80\n",
      "12/12 [==============================] - 0s 12ms/step - loss: 0.0031 - val_loss: 0.1045\n",
      "Epoch 46/80\n",
      "12/12 [==============================] - 0s 12ms/step - loss: 0.0051 - val_loss: 0.0450\n",
      "Epoch 47/80\n",
      "12/12 [==============================] - 0s 12ms/step - loss: 0.0039 - val_loss: 0.1426\n",
      "Epoch 48/80\n",
      "12/12 [==============================] - 0s 12ms/step - loss: 0.0059 - val_loss: 0.0393\n",
      "Epoch 49/80\n",
      "12/12 [==============================] - 0s 11ms/step - loss: 0.0040 - val_loss: 0.1777\n",
      "Epoch 50/80\n",
      "12/12 [==============================] - 0s 12ms/step - loss: 0.0083 - val_loss: 0.0387\n",
      "Epoch 51/80\n",
      "12/12 [==============================] - 0s 12ms/step - loss: 0.0065 - val_loss: 0.1582\n",
      "Epoch 52/80\n",
      "12/12 [==============================] - 0s 11ms/step - loss: 0.0137 - val_loss: 0.0370\n",
      "Epoch 53/80\n",
      "12/12 [==============================] - 0s 12ms/step - loss: 0.0061 - val_loss: 0.1986\n",
      "Epoch 54/80\n",
      "12/12 [==============================] - 0s 11ms/step - loss: 0.0119 - val_loss: 0.0360\n",
      "Epoch 55/80\n",
      "12/12 [==============================] - 0s 12ms/step - loss: 0.0063 - val_loss: 0.1764\n",
      "Epoch 56/80\n",
      "12/12 [==============================] - 0s 11ms/step - loss: 0.0133 - val_loss: 0.0409\n",
      "Epoch 57/80\n",
      "12/12 [==============================] - 0s 11ms/step - loss: 0.0056 - val_loss: 0.1433\n",
      "Epoch 58/80\n",
      "12/12 [==============================] - 0s 12ms/step - loss: 0.0099 - val_loss: 0.0390\n",
      "Epoch 59/80\n",
      "12/12 [==============================] - 0s 12ms/step - loss: 0.0055 - val_loss: 0.1660\n",
      "Epoch 60/80\n",
      "12/12 [==============================] - 0s 11ms/step - loss: 0.0093 - val_loss: 0.0392\n",
      "Epoch 61/80\n",
      "12/12 [==============================] - 0s 12ms/step - loss: 0.0059 - val_loss: 0.1333\n",
      "Epoch 62/80\n",
      "12/12 [==============================] - 0s 12ms/step - loss: 0.0104 - val_loss: 0.0411\n",
      "Epoch 63/80\n",
      "12/12 [==============================] - 0s 12ms/step - loss: 0.0046 - val_loss: 0.1178\n",
      "Epoch 64/80\n",
      "12/12 [==============================] - 0s 13ms/step - loss: 0.0076 - val_loss: 0.0419\n",
      "Epoch 65/80\n",
      "12/12 [==============================] - 0s 11ms/step - loss: 0.0045 - val_loss: 0.1484\n",
      "Epoch 66/80\n",
      "12/12 [==============================] - 0s 11ms/step - loss: 0.0085 - val_loss: 0.0430\n",
      "Epoch 67/80\n",
      "12/12 [==============================] - 0s 12ms/step - loss: 0.0043 - val_loss: 0.1645\n",
      "Epoch 68/80\n",
      "12/12 [==============================] - 0s 12ms/step - loss: 0.0087 - val_loss: 0.0433\n",
      "Epoch 69/80\n",
      "12/12 [==============================] - 0s 13ms/step - loss: 0.0052 - val_loss: 0.1174\n",
      "Epoch 70/80\n",
      "12/12 [==============================] - 0s 12ms/step - loss: 0.0083 - val_loss: 0.0488\n",
      "Epoch 71/80\n",
      "12/12 [==============================] - 0s 12ms/step - loss: 0.0047 - val_loss: 0.1289\n",
      "Epoch 72/80\n",
      "12/12 [==============================] - 0s 11ms/step - loss: 0.0083 - val_loss: 0.0406\n",
      "Epoch 73/80\n",
      "12/12 [==============================] - 0s 12ms/step - loss: 0.0049 - val_loss: 0.1532\n",
      "Epoch 74/80\n",
      "12/12 [==============================] - 0s 12ms/step - loss: 0.0083 - val_loss: 0.0425\n",
      "Epoch 75/80\n",
      "12/12 [==============================] - 0s 11ms/step - loss: 0.0038 - val_loss: 0.1099\n",
      "Epoch 76/80\n",
      "12/12 [==============================] - 0s 11ms/step - loss: 0.0069 - val_loss: 0.0426\n",
      "Epoch 77/80\n",
      "12/12 [==============================] - 0s 12ms/step - loss: 0.0043 - val_loss: 0.1506\n",
      "Epoch 78/80\n",
      "12/12 [==============================] - 0s 13ms/step - loss: 0.0088 - val_loss: 0.0421\n",
      "Epoch 79/80\n",
      "12/12 [==============================] - 0s 12ms/step - loss: 0.0054 - val_loss: 0.1430\n",
      "Epoch 80/80\n",
      "12/12 [==============================] - 0s 12ms/step - loss: 0.0096 - val_loss: 0.0435\n"
     ]
    }
   ],
   "source": [
    "history = model.fit(x_train, y_train, epochs=80, validation_data=(x_test, y_test), batch_size=64, shuffle=False, callbacks=[tensorboard])"
   ]
  },
  {
   "cell_type": "markdown",
   "id": "promising-republican",
   "metadata": {},
   "source": [
    "### Visualize results"
   ]
  },
  {
   "cell_type": "code",
   "execution_count": 20,
   "id": "broken-parallel",
   "metadata": {},
   "outputs": [
    {
     "data": {
      "image/png": "[encoded data removed]",
      "text/plain": [
       "<Figure size 576x432 with 1 Axes>"
      ]
     },
     "metadata": {
      "needs_background": "light"
     },
     "output_type": "display_data"
    }
   ],
   "source": [
    "plt.figure(figsize=(8,6))\n",
    "plt.plot(history.history['loss'], 'bo--')\n",
    "plt.plot(history.history['val_loss'], 'ro-')\n",
    "plt.ylabel('Loss')\n",
    "plt.xlabel('Epochs (n)')\n",
    "plt.legend(['Training loss', 'Validation loss'])\n",
    "plt.title(\"Loss curve for LSTM\")\n",
    "plt.show()"
   ]
  },
  {
   "cell_type": "code",
   "execution_count": 21,
   "id": "prepared-principal",
   "metadata": {},
   "outputs": [
    {
     "name": "stdout",
     "output_type": "stream",
     "text": [
      "Training RMSE = 5.726045450133629\n"
     ]
    }
   ],
   "source": [
    "print(\"Training RMSE = {}\".format(evaluate_model_rmse(model.predict(x_train), \n",
    "                                                      y_train,\n",
    "                                                     num_features,\n",
    "                                                     sc)))"
   ]
  },
  {
   "cell_type": "code",
   "execution_count": 22,
   "id": "final-advertising",
   "metadata": {},
   "outputs": [
    {
     "name": "stdout",
     "output_type": "stream",
     "text": [
      "Testing RMSE = 16.387120863190198\n"
     ]
    }
   ],
   "source": [
    "print(\"Testing RMSE = {}\".format(evaluate_model_rmse(model.predict(x_test), \n",
    "                                                     y_test,\n",
    "                                                    num_features,\n",
    "                                                    sc)))"
   ]
  },
  {
   "cell_type": "markdown",
   "id": "caroline-consumer",
   "metadata": {},
   "source": [
    "#### Compare to simple baseline"
   ]
  },
  {
   "cell_type": "code",
   "execution_count": 23,
   "id": "coral-dodge",
   "metadata": {},
   "outputs": [],
   "source": [
    "def predict_no_change(x):\n",
    "    return x[-1][0]"
   ]
  },
  {
   "cell_type": "code",
   "execution_count": 24,
   "id": "lightweight-spray",
   "metadata": {},
   "outputs": [],
   "source": [
    "no_change_preds = np.array([predict_no_change(x) for x in x_train])\n",
    "no_change_preds = np.expand_dims(no_change_preds, axis=1)"
   ]
  },
  {
   "cell_type": "code",
   "execution_count": 25,
   "id": "genetic-holly",
   "metadata": {},
   "outputs": [
    {
     "data": {
      "text/plain": [
       "3.672158117675387"
      ]
     },
     "execution_count": 25,
     "metadata": {},
     "output_type": "execute_result"
    }
   ],
   "source": [
    "evaluate_model_rmse(no_change_preds, y_train, num_features, sc)"
   ]
  },
  {
   "cell_type": "code",
   "execution_count": 26,
   "id": "injured-loading",
   "metadata": {},
   "outputs": [],
   "source": [
    "no_change_preds = np.array([predict_no_change(x) for x in x_test])\n",
    "no_change_preds = np.expand_dims(no_change_preds, axis=1)"
   ]
  },
  {
   "cell_type": "code",
   "execution_count": 27,
   "id": "wound-pantyhose",
   "metadata": {},
   "outputs": [
    {
     "data": {
      "text/plain": [
       "7.634920745651587"
      ]
     },
     "execution_count": 27,
     "metadata": {},
     "output_type": "execute_result"
    }
   ],
   "source": [
    "evaluate_model_rmse(no_change_preds, y_test, num_features, sc)"
   ]
  }
 ],
 "metadata": {
  "kernelspec": {
   "display_name": "Python 3",
   "language": "python",
   "name": "python3"
  },
  "language_info": {
   "codemirror_mode": {
    "name": "ipython",
    "version": 3
   },
   "file_extension": ".py",
   "mimetype": "text/x-python",
   "name": "python",
   "nbconvert_exporter": "python",
   "pygments_lexer": "ipython3",
   "version": "3.8.5"
  }
 },
 "nbformat": 4,
 "nbformat_minor": 5
}
